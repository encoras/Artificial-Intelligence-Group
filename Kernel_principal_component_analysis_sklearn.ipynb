{
  "cells": [
    {
      "cell_type": "markdown",
      "metadata": {
        "id": "view-in-github",
        "colab_type": "text"
      },
      "source": [
        "<a href=\"https://colab.research.google.com/github/encoras/Artificial-Intelligence-Group/blob/master/Kernel_principal_component_analysis_sklearn.ipynb\" target=\"_parent\"><img src=\"https://colab.research.google.com/assets/colab-badge.svg\" alt=\"Open In Colab\"/></a>"
      ]
    },
    {
      "cell_type": "markdown",
      "metadata": {
        "id": "Qoy4GD3lDYmp"
      },
      "source": [
        "# Kernel principal Component Analysis in sklearn"
      ]
    },
    {
      "cell_type": "markdown",
      "metadata": {
        "id": "7mRFQ5e1DYm0"
      },
      "source": [
        "### Loading the Dataset"
      ]
    },
    {
      "cell_type": "code",
      "execution_count": 33,
      "metadata": {
        "id": "r-Wj9bl7DYm1"
      },
      "outputs": [],
      "source": [
        "import pandas as pd\n",
        "import numpy as np\n",
        "import pylab as pl\n",
        "import matplotlib.pyplot as plt\n",
        "\n",
        "from sklearn import svm, datasets\n",
        "from sklearn.preprocessing import StandardScaler\n",
        "scaler = StandardScaler()\n",
        "RAND=123\n",
        "\n",
        "# import some data to play with\n",
        "iris = datasets.load_iris()\n",
        "X = iris.data\n",
        "\n",
        "y = iris.target\n",
        "\n",
        "\n",
        "X=np.hstack((X,10*np.random.random((y.shape[0], 3))))\n",
        "X[:,6]=X[:,6]*X[:,0] +5*np.random.random((y.shape[0]))\n",
        "\n",
        "\n",
        "from sklearn.model_selection import train_test_split\n",
        "X_train, X_test, y_train, y_test = train_test_split(X, y, test_size=0.25, random_state=RAND)\n",
        "scaler.fit(X_train)\n",
        "X_train=scaler.transform(X_train)\n",
        "X_test=scaler.transform(X_test)\n"
      ]
    },
    {
      "cell_type": "markdown",
      "source": [],
      "metadata": {
        "id": "mDzPhFp5VEYY"
      }
    },
    {
      "cell_type": "markdown",
      "source": [
        "Baseline accuracy = "
      ],
      "metadata": {
        "id": "LgTPMoT6PqHW"
      }
    },
    {
      "cell_type": "code",
      "source": [
        "from sklearn.neighbors import KNeighborsClassifier\n",
        "from sklearn.metrics import accuracy_score\n",
        "nb_model = KNeighborsClassifier(n_neighbors=3, p=1)\n",
        "nb_model.fit(X_train, y_train)\n",
        "y_pred = nb_model.predict(X_test)\n",
        "scores_base=accuracy_score(y_test,y_pred)\n",
        "print(\"Baseline accuracy = \", scores_base)"
      ],
      "metadata": {
        "id": "JYJW8bx3PqZo",
        "outputId": "df319910-4523-4fa6-cacb-8ce34c64ac4b",
        "colab": {
          "base_uri": "https://localhost:8080/"
        }
      },
      "execution_count": 34,
      "outputs": [
        {
          "output_type": "stream",
          "name": "stdout",
          "text": [
            "Baseline accuracy =  0.868421052631579\n"
          ]
        }
      ]
    },
    {
      "cell_type": "code",
      "source": [],
      "metadata": {
        "id": "9EekAZWyXAwU"
      },
      "execution_count": 34,
      "outputs": []
    },
    {
      "cell_type": "markdown",
      "metadata": {
        "id": "KxxmTXb4DYnP"
      },
      "source": [
        "##  KernelPCA in scikit-learn\n",
        "Kernel used for PCA.\n",
        "\n",
        "kernel{‘linear’, ‘poly’, ‘rbf’, ‘sigmoid’, ‘cosine’, ‘precomputed’}, \n",
        "default=’linear’\n"
      ]
    },
    {
      "cell_type": "code",
      "execution_count": 35,
      "metadata": {
        "id": "CpEuXvZGDYnQ"
      },
      "outputs": [],
      "source": [
        "from sklearn.decomposition import KernelPCA\n",
        "sklearn_pca = KernelPCA(kernel='rbf', n_components=2)\n",
        "sklearn_pca.fit(X_train)\n",
        "X_train_pca = sklearn_pca.transform(X_train)\n",
        "X_test_pca  = sklearn_pca.transform(X_test)\n"
      ]
    },
    {
      "cell_type": "code",
      "source": [
        "nb_model.fit(X_train_pca, y_train)\n",
        "y_pred = nb_model.predict(X_test_pca)\n",
        "scores_base=accuracy_score(y_test,y_pred)\n",
        "print(\"RBF-PCA features accuracy = \", scores_base)"
      ],
      "metadata": {
        "id": "VBActgLuP6y2",
        "outputId": "ccad69b9-b04c-440b-e0fb-a349df39e3ab",
        "colab": {
          "base_uri": "https://localhost:8080/"
        }
      },
      "execution_count": 36,
      "outputs": [
        {
          "output_type": "stream",
          "name": "stdout",
          "text": [
            "RBF-PCA features accuracy =  0.8421052631578947\n"
          ]
        }
      ]
    },
    {
      "cell_type": "markdown",
      "source": [
        "\n",
        "\n"
      ],
      "metadata": {
        "id": "Ye7QG5QwSlXL"
      }
    },
    {
      "cell_type": "code",
      "source": [
        "\n",
        "sklearn_pca = KernelPCA(kernel=\"poly\", n_components=2)\n",
        "sklearn_pca.fit(X_train)\n",
        "X_train_pca = sklearn_pca.transform(X_train)\n",
        "X_test_pca  = sklearn_pca.transform(X_test)\n"
      ],
      "metadata": {
        "id": "Ey5xBvzmSlo7"
      },
      "execution_count": 37,
      "outputs": []
    },
    {
      "cell_type": "code",
      "source": [
        "nb_model.fit(X_train_pca, y_train)\n",
        "y_pred = nb_model.predict(X_test_pca)\n",
        "scores_base=accuracy_score(y_test,y_pred)\n",
        "print(\"poly-PCA features accuracy = \", scores_base)"
      ],
      "metadata": {
        "colab": {
          "base_uri": "https://localhost:8080/"
        },
        "id": "P5EeujUQSuyb",
        "outputId": "4905446f-f669-4036-c831-ae448add3cd4"
      },
      "execution_count": 38,
      "outputs": [
        {
          "output_type": "stream",
          "name": "stdout",
          "text": [
            "poly-PCA features accuracy =  0.868421052631579\n"
          ]
        }
      ]
    },
    {
      "cell_type": "markdown",
      "source": [
        "## Loading scikit-learn's MNIST Hand-Written Dataset"
      ],
      "metadata": {
        "id": "-60bMBAuVFY3"
      }
    },
    {
      "cell_type": "code",
      "source": [
        "from sklearn.datasets import load_digits\n",
        "mnist = load_digits()\n",
        "fig, axes = plt.subplots(2, 10, figsize=(16, 6))\n",
        "for i in range(20):\n",
        "    axes[i//10, i %10].imshow(mnist.images[i], cmap='gray');\n",
        "    axes[i//10, i %10].axis('off')\n",
        "    axes[i//10, i %10].set_title(f\"target: {mnist.target[i]}\")\n",
        "    \n",
        "plt.tight_layout()"
      ],
      "metadata": {
        "colab": {
          "base_uri": "https://localhost:8080/",
          "height": 333
        },
        "id": "fPrOXYrzVHkN",
        "outputId": "c06faf3e-6b9f-4aa6-b4b1-84a2f1a35e8f"
      },
      "execution_count": 39,
      "outputs": [
        {
          "output_type": "display_data",
          "data": {
            "text/plain": [
              "<Figure size 1152x432 with 20 Axes>"
            ],
            "image/png": "[encoded data removed]"
          },
          "metadata": {
            "needs_background": "light"
          }
        }
      ]
    },
    {
      "cell_type": "code",
      "source": [
        "X, y = load_digits(return_X_y=True)\n",
        "X_train, X_test, y_train, y_test = train_test_split(X, y, test_size=0.25, random_state=RAND)\n",
        "scaler.fit(X_train)\n",
        "X_train=scaler.transform(X_train)\n",
        "X_test=scaler.transform(X_test)\n",
        "print(X.shape)"
      ],
      "metadata": {
        "colab": {
          "base_uri": "https://localhost:8080/"
        },
        "id": "s1BTV8wcViOg",
        "outputId": "68ea86c8-52ef-420d-e5a2-5b2205650181"
      },
      "execution_count": 40,
      "outputs": [
        {
          "output_type": "stream",
          "name": "stdout",
          "text": [
            "(1797, 64)\n"
          ]
        }
      ]
    },
    {
      "cell_type": "code",
      "source": [
        "nb_model = KNeighborsClassifier(n_neighbors=3, p=1)\n",
        "nb_model.fit(X_train, y_train)\n",
        "y_pred = nb_model.predict(X_test)\n",
        "scores_base=accuracy_score(y_test,y_pred)\n",
        "print(\"Digits Baseline accuracy = \", scores_base)"
      ],
      "metadata": {
        "colab": {
          "base_uri": "https://localhost:8080/"
        },
        "id": "qaFLVFBkXBxy",
        "outputId": "e47270e1-ac1f-423d-dac8-da8e31255340"
      },
      "execution_count": 41,
      "outputs": [
        {
          "output_type": "stream",
          "name": "stdout",
          "text": [
            "Digits Baseline accuracy =  0.9644444444444444\n"
          ]
        }
      ]
    },
    {
      "cell_type": "code",
      "source": [
        "\n",
        "sklearn_pca = KernelPCA(kernel=\"linear\", n_components=2)\n",
        "sklearn_pca.fit(X_train)\n",
        "X_train_pca = sklearn_pca.transform(X_train)\n",
        "X_test_pca  = sklearn_pca.transform(X_test)\n",
        "nb_model.fit(X_train_pca, y_train)\n",
        "y_pred = nb_model.predict(X_test_pca)\n",
        "scores_base=accuracy_score(y_test,y_pred)\n",
        "print(\"Digits poly-PCA features accuracy = \", scores_base)"
      ],
      "metadata": {
        "colab": {
          "base_uri": "https://localhost:8080/"
        },
        "id": "8-moVkcYXQZy",
        "outputId": "26461799-f21c-4959-fd83-0fcd56872784"
      },
      "execution_count": 75,
      "outputs": [
        {
          "output_type": "stream",
          "name": "stdout",
          "text": [
            "Digits poly-PCA features accuracy =  0.5311111111111111\n"
          ]
        }
      ]
    },
    {
      "cell_type": "code",
      "source": [
        "for i in range(np.min([X_train_pca.shape[0], 100])):\n",
        "        plt.text(X_train_pca[i, 0], X_train_pca[i, 1], str(y_train[i]), \n",
        "                 color=plt.cm.Set1(y_train[i]), \n",
        "                 fontdict={'size': 15})\n",
        "#plt.autoscale(enable=True, axis='both', tight=None)       \n",
        "plt.xticks([]), plt.yticks([]), plt.ylim([np.min(X_train_pca[:100, 0]),np.max(X_train_pca[:100, 0])]), plt.xlim([np.min(X_train_pca[:100, 1]),np.max(X_train_pca[:100, 1])])        "
      ],
      "metadata": {
        "colab": {
          "base_uri": "https://localhost:8080/",
          "height": 321
        },
        "id": "xk5a-1xCmmvz",
        "outputId": "d5c97057-2e56-43a6-b39b-e2e18f5cd334"
      },
      "execution_count": 76,
      "outputs": [
        {
          "output_type": "execute_result",
          "data": {
            "text/plain": [
              "(([], <a list of 0 Text major ticklabel objects>),\n",
              " ([], <a list of 0 Text major ticklabel objects>),\n",
              " (-5.1632908631140015, 6.577748059921381),\n",
              " (-4.777472838579515, 5.565887185225581))"
            ]
          },
          "metadata": {},
          "execution_count": 76
        },
        {
          "output_type": "display_data",
          "data": {
            "text/plain": [
              "<Figure size 432x288 with 1 Axes>"
            ],
            "image/png": "[encoded data removed]"
          },
          "metadata": {}
        }
      ]
    },
    {
      "cell_type": "code",
      "source": [
        "scores=[]\n",
        "for i in range(1,64):\n",
        "  sklearn_pca = KernelPCA(kernel=\"rbf\",n_components=i)\n",
        "  sklearn_pca.fit(X_train)\n",
        "  X_train_pca = sklearn_pca.transform(X_train)\n",
        "  X_test_pca  = sklearn_pca.transform(X_test)\n",
        "  nb_model.fit(X_train_pca, y_train)\n",
        "  y_pred = nb_model.predict(X_test_pca)\n",
        "  scores_base=accuracy_score(y_test,y_pred)\n",
        "  scores.append(scores_base)\n",
        "\n",
        "plt.plot(range(1,64), scores)"
      ],
      "metadata": {
        "colab": {
          "base_uri": "https://localhost:8080/",
          "height": 282
        },
        "id": "ynMka_jpiQ80",
        "outputId": "d00edcd9-dba2-415f-cd45-ab0f056971ac"
      },
      "execution_count": 48,
      "outputs": [
        {
          "output_type": "execute_result",
          "data": {
            "text/plain": [
              "[<matplotlib.lines.Line2D at 0x7f1e6924e310>]"
            ]
          },
          "metadata": {},
          "execution_count": 48
        },
        {
          "output_type": "display_data",
          "data": {
            "text/plain": [
              "<Figure size 432x288 with 1 Axes>"
            ],
            "image/png": "[encoded data removed]"
          },
          "metadata": {
            "needs_background": "light"
          }
        }
      ]
    },
    {
      "cell_type": "code",
      "source": [],
      "metadata": {
        "id": "aaD5CaIAjArk"
      },
      "execution_count": 43,
      "outputs": []
    }
  ],
  "metadata": {
    "kernelspec": {
      "display_name": "Python 3",
      "language": "python",
      "name": "python3"
    },
    "language_info": {
      "codemirror_mode": {
        "name": "ipython",
        "version": 3
      },
      "file_extension": ".py",
      "mimetype": "text/x-python",
      "name": "python",
      "nbconvert_exporter": "python",
      "pygments_lexer": "ipython3",
      "version": "3.6.1"
    },
    "colab": {
      "provenance": [],
      "collapsed_sections": [],
      "include_colab_link": true
    }
  },
  "nbformat": 4,
  "nbformat_minor": 0
}