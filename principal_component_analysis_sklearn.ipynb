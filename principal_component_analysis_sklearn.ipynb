{
  "cells": [
    {
      "cell_type": "markdown",
      "metadata": {
        "id": "view-in-github",
        "colab_type": "text"
      },
      "source": [
        "<a href=\"https://colab.research.google.com/github/encoras/Artificial-Intelligence-Group/blob/master/principal_component_analysis_sklearn.ipynb\" target=\"_parent\"><img src=\"https://colab.research.google.com/assets/colab-badge.svg\" alt=\"Open In Colab\"/></a>"
      ]
    },
    {
      "cell_type": "markdown",
      "metadata": {
        "id": "Qoy4GD3lDYmp"
      },
      "source": [
        "# Principal Component Analysis in sklearn"
      ]
    },
    {
      "cell_type": "markdown",
      "metadata": {
        "id": "LmpoMiM4DYmp"
      },
      "source": [
        "Principal Component Analysis (PCA) is a simple yet popular and useful linear transformation technique that is used in numerous applications, such as stock market predictions, the  analysis of gene expression data, and many more. In this tutorial, we will see that PCA is not just a \"black box\", and we are going to unravel its internals in 3 basic steps."
      ]
    },
    {
      "cell_type": "markdown",
      "metadata": {
        "id": "7mRFQ5e1DYm0"
      },
      "source": [
        "### Loading the Dataset"
      ]
    },
    {
      "cell_type": "code",
      "execution_count": 2,
      "metadata": {
        "id": "r-Wj9bl7DYm1"
      },
      "outputs": [],
      "source": [
        "import pandas as pd\n",
        "import numpy as np\n",
        "import pylab as pl\n",
        "import matplotlib.pyplot as plt\n",
        "\n",
        "from sklearn import svm, datasets\n",
        "from sklearn.preprocessing import StandardScaler\n",
        "scaler = StandardScaler()\n",
        "RAND=123\n",
        "\n",
        "# import some data to play with\n",
        "iris = datasets.load_iris()\n",
        "X = iris.data\n",
        "\n",
        "y = iris.target\n",
        "\n",
        "\n",
        "X=np.hstack((X,10*np.random.random((y.shape[0], 3))))\n",
        "X[:,6]=X[:,6]*X[:,0] +5*np.random.random((y.shape[0]))\n",
        "\n",
        "\n",
        "from sklearn.model_selection import train_test_split\n",
        "X_train, X_test, y_train, y_test = train_test_split(X, y, test_size=0.25, random_state=RAND)\n",
        "scaler.fit(X_train)\n",
        "X_train=scaler.transform(X_train)\n",
        "X_test=scaler.transform(X_test)\n"
      ]
    },
    {
      "cell_type": "markdown",
      "source": [],
      "metadata": {
        "id": "mDzPhFp5VEYY"
      }
    },
    {
      "cell_type": "markdown",
      "source": [
        "Baseline accuracy = "
      ],
      "metadata": {
        "id": "LgTPMoT6PqHW"
      }
    },
    {
      "cell_type": "code",
      "source": [
        "from sklearn.neighbors import KNeighborsClassifier\n",
        "from sklearn.metrics import accuracy_score\n",
        "nb_model = KNeighborsClassifier(n_neighbors=3, p=1)\n",
        "nb_model.fit(X_train, y_train)\n",
        "y_pred = nb_model.predict(X_test)\n",
        "scores_base=accuracy_score(y_test,y_pred)\n",
        "print(\"Baseline accuracy = \", scores_base)"
      ],
      "metadata": {
        "id": "JYJW8bx3PqZo",
        "outputId": "72830ccd-3a23-477e-afb2-d8c77a5369af",
        "colab": {
          "base_uri": "https://localhost:8080/"
        }
      },
      "execution_count": 3,
      "outputs": [
        {
          "output_type": "stream",
          "name": "stdout",
          "text": [
            "Baseline accuracy =  0.8947368421052632\n"
          ]
        }
      ]
    },
    {
      "cell_type": "code",
      "source": [],
      "metadata": {
        "id": "9EekAZWyXAwU"
      },
      "execution_count": null,
      "outputs": []
    },
    {
      "cell_type": "markdown",
      "metadata": {
        "id": "KxxmTXb4DYnP"
      },
      "source": [
        "##  PCA in scikit-learn"
      ]
    },
    {
      "cell_type": "code",
      "execution_count": 4,
      "metadata": {
        "id": "CpEuXvZGDYnQ",
        "colab": {
          "base_uri": "https://localhost:8080/"
        },
        "outputId": "96cf38cd-c5dd-49c4-b0d8-43f9f570f999"
      },
      "outputs": [
        {
          "output_type": "execute_result",
          "data": {
            "text/plain": [
              "array([0.43309883, 0.16211521])"
            ]
          },
          "metadata": {},
          "execution_count": 4
        }
      ],
      "source": [
        "from sklearn.decomposition import PCA as sklearnPCA\n",
        "sklearn_pca = sklearnPCA(n_components=2)\n",
        "sklearn_pca.fit(X_train)\n",
        "X_train_pca = sklearn_pca.transform(X_train)\n",
        "X_test_pca  = sklearn_pca.transform(X_test)\n",
        "sklearn_pca.explained_variance_ratio_"
      ]
    },
    {
      "cell_type": "code",
      "source": [
        "nb_model.fit(X_train_pca, y_train)\n",
        "y_pred = nb_model.predict(X_test_pca)\n",
        "scores_base=accuracy_score(y_test,y_pred)\n",
        "print(\"PCA features accuracy = \", scores_base)"
      ],
      "metadata": {
        "id": "VBActgLuP6y2",
        "outputId": "d2af7e2f-98ae-4726-ff5a-d7ca31a47880",
        "colab": {
          "base_uri": "https://localhost:8080/"
        }
      },
      "execution_count": 5,
      "outputs": [
        {
          "output_type": "stream",
          "name": "stdout",
          "text": [
            "PCA features accuracy =  0.8421052631578947\n"
          ]
        }
      ]
    },
    {
      "cell_type": "markdown",
      "source": [
        "Notice the code below has .75 for the number of components parameter. It means that scikit-learn choose the minimum number of principal components such that 75% of the variance is retained.\n",
        "\n"
      ],
      "metadata": {
        "id": "Ye7QG5QwSlXL"
      }
    },
    {
      "cell_type": "code",
      "source": [
        "from sklearn.decomposition import PCA as sklearnPCA\n",
        "sklearn_pca = sklearnPCA(0.75)\n",
        "sklearn_pca.fit(X_train)\n",
        "X_train_pca = sklearn_pca.transform(X_train)\n",
        "X_test_pca  = sklearn_pca.transform(X_test)\n",
        "sklearn_pca.explained_variance_ratio_"
      ],
      "metadata": {
        "colab": {
          "base_uri": "https://localhost:8080/"
        },
        "id": "Ey5xBvzmSlo7",
        "outputId": "82293165-3b16-4967-c641-8f108d1e9306"
      },
      "execution_count": 8,
      "outputs": [
        {
          "output_type": "execute_result",
          "data": {
            "text/plain": [
              "array([0.43309883, 0.16211521, 0.14790908, 0.13434802])"
            ]
          },
          "metadata": {},
          "execution_count": 8
        }
      ]
    },
    {
      "cell_type": "code",
      "source": [
        "nb_model.fit(X_train_pca, y_train)\n",
        "y_pred = nb_model.predict(X_test_pca)\n",
        "scores_base=accuracy_score(y_test,y_pred)\n",
        "print(\"PCA features accuracy = \", scores_base)"
      ],
      "metadata": {
        "colab": {
          "base_uri": "https://localhost:8080/"
        },
        "id": "P5EeujUQSuyb",
        "outputId": "6a2443ad-1853-4627-ca78-5460a3fa5ec1"
      },
      "execution_count": 9,
      "outputs": [
        {
          "output_type": "stream",
          "name": "stdout",
          "text": [
            "PCA features accuracy =  0.868421052631579\n"
          ]
        }
      ]
    },
    {
      "cell_type": "markdown",
      "source": [
        "## Loading scikit-learn's MNIST Hand-Written Dataset"
      ],
      "metadata": {
        "id": "-60bMBAuVFY3"
      }
    },
    {
      "cell_type": "code",
      "source": [
        "from sklearn.datasets import load_digits\n",
        "mnist = load_digits()\n",
        "fig, axes = plt.subplots(2, 10, figsize=(16, 6))\n",
        "for i in range(20):\n",
        "    axes[i//10, i %10].imshow(mnist.images[i], cmap='gray');\n",
        "    axes[i//10, i %10].axis('off')\n",
        "    axes[i//10, i %10].set_title(f\"target: {mnist.target[i]}\")\n",
        "    \n",
        "plt.tight_layout()"
      ],
      "metadata": {
        "id": "fPrOXYrzVHkN"
      },
      "execution_count": null,
      "outputs": []
    },
    {
      "cell_type": "code",
      "source": [
        "X, y = load_digits(return_X_y=True)\n",
        "X_train, X_test, y_train, y_test = train_test_split(X, y, test_size=0.25, random_state=RAND)\n",
        "scaler.fit(X_train)\n",
        "X_train=scaler.transform(X_train)\n",
        "X_test=scaler.transform(X_test)\n",
        "print(X.shape)"
      ],
      "metadata": {
        "colab": {
          "base_uri": "https://localhost:8080/"
        },
        "id": "s1BTV8wcViOg",
        "outputId": "a6304839-1464-41ef-9690-b61dcb0410cb"
      },
      "execution_count": 21,
      "outputs": [
        {
          "output_type": "stream",
          "name": "stdout",
          "text": [
            "(1797, 64)\n"
          ]
        }
      ]
    },
    {
      "cell_type": "code",
      "source": [
        "nb_model = KNeighborsClassifier(n_neighbors=3, p=1)\n",
        "nb_model.fit(X_train, y_train)\n",
        "y_pred = nb_model.predict(X_test)\n",
        "scores_base=accuracy_score(y_test,y_pred)\n",
        "print(\"Digits Baseline accuracy = \", scores_base)"
      ],
      "metadata": {
        "colab": {
          "base_uri": "https://localhost:8080/"
        },
        "id": "qaFLVFBkXBxy",
        "outputId": "d1201e64-1752-42a0-eb0e-892c1603e088"
      },
      "execution_count": 17,
      "outputs": [
        {
          "output_type": "stream",
          "name": "stdout",
          "text": [
            "Baseline accuracy =  0.9644444444444444\n"
          ]
        }
      ]
    },
    {
      "cell_type": "code",
      "source": [
        "\n",
        "sklearn_pca = sklearnPCA(n_components=27)\n",
        "sklearn_pca.fit(X_train)\n",
        "X_train_pca = sklearn_pca.transform(X_train)\n",
        "X_test_pca  = sklearn_pca.transform(X_test)\n",
        "print(\"Variances =\",sklearn_pca.explained_variance_ratio_)\n",
        "nb_model.fit(X_train_pca, y_train)\n",
        "y_pred = nb_model.predict(X_test_pca)\n",
        "scores_base=accuracy_score(y_test,y_pred)\n",
        "print(\"Digits PCA features accuracy = \", scores_base)"
      ],
      "metadata": {
        "colab": {
          "base_uri": "https://localhost:8080/"
        },
        "id": "8-moVkcYXQZy",
        "outputId": "7ca98cd0-c626-4810-c00c-75dc64b0a554"
      },
      "execution_count": 28,
      "outputs": [
        {
          "output_type": "stream",
          "name": "stdout",
          "text": [
            "Variances = [0.119561   0.09466752 0.08474954 0.0647293  0.04997728 0.04124574\n",
            " 0.0402975  0.03526709 0.03248071 0.03062158 0.02862378 0.02565699\n",
            " 0.02287402 0.02267857 0.02175523 0.01898683 0.01823929 0.01646688\n",
            " 0.016188   0.01447744 0.01376538 0.01285984 0.01150689 0.01078459\n",
            " 0.00941319 0.00909708 0.00858804]\n",
            "Digits PCA features accuracy =  0.9755555555555555\n"
          ]
        }
      ]
    },
    {
      "cell_type": "code",
      "source": [
        "scores=[]\n",
        "for i in range(1,64):\n",
        "  sklearn_pca = sklearnPCA(n_components=i)\n",
        "  sklearn_pca.fit(X_train)\n",
        "  X_train_pca = sklearn_pca.transform(X_train)\n",
        "  X_test_pca  = sklearn_pca.transform(X_test)\n",
        "  nb_model.fit(X_train_pca, y_train)\n",
        "  y_pred = nb_model.predict(X_test_pca)\n",
        "  scores_base=accuracy_score(y_test,y_pred)\n",
        "  scores.append(scores_base)\n",
        "\n",
        "plt.plot(range(1,64), scores)"
      ],
      "metadata": {
        "id": "ynMka_jpiQ80"
      },
      "execution_count": 24,
      "outputs": []
    },
    {
      "cell_type": "code",
      "source": [],
      "metadata": {
        "colab": {
          "base_uri": "https://localhost:8080/",
          "height": 284
        },
        "id": "aaD5CaIAjArk",
        "outputId": "f071b0fb-b4e7-4099-d44b-47560b87094a"
      },
      "execution_count": 25,
      "outputs": [
        {
          "output_type": "execute_result",
          "data": {
            "text/plain": [
              "[<matplotlib.lines.Line2D at 0x7f1e69bf3210>]"
            ]
          },
          "metadata": {},
          "execution_count": 25
        },
        {
          "output_type": "display_data",
          "data": {
            "text/plain": [
              "<Figure size 432x288 with 1 Axes>"
            ],
            "image/png": "[encoded data removed]"
          },
          "metadata": {
            "needs_background": "light"
          }
        }
      ]
    }
  ],
  "metadata": {
    "kernelspec": {
      "display_name": "Python 3",
      "language": "python",
      "name": "python3"
    },
    "language_info": {
      "codemirror_mode": {
        "name": "ipython",
        "version": 3
      },
      "file_extension": ".py",
      "mimetype": "text/x-python",
      "name": "python",
      "nbconvert_exporter": "python",
      "pygments_lexer": "ipython3",
      "version": "3.6.1"
    },
    "colab": {
      "provenance": [],
      "collapsed_sections": [],
      "include_colab_link": true
    }
  },
  "nbformat": 4,
  "nbformat_minor": 0
}