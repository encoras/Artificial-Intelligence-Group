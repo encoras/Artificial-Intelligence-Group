{
  "cells": [
    {
      "cell_type": "markdown",
      "metadata": {
        "id": "view-in-github",
        "colab_type": "text"
      },
      "source": [
        "<a href=\"https://colab.research.google.com/github/encoras/Artificial-Intelligence-Group/blob/master/Pandasassignment_test.ipynb\" target=\"_parent\"><img src=\"https://colab.research.google.com/assets/colab-badge.svg\" alt=\"Open In Colab\"/></a>"
      ]
    },
    {
      "cell_type": "code",
      "execution_count": 1,
      "metadata": {
        "id": "3O1udgJlgUds"
      },
      "outputs": [],
      "source": [
        "import numpy as np\n",
        "import pandas as pd\n",
        "\n",
        "from geopy.distance import vincenty\n",
        "import datetime\n",
        "import time"
      ]
    },
    {
      "cell_type": "markdown",
      "metadata": {
        "id": "cwiLmEwvgUd5"
      },
      "source": [
        "### Введение"
      ]
    },
    {
      "cell_type": "markdown",
      "metadata": {
        "id": "g2K9jZflgUeA"
      },
      "source": [
        "#### Загрузите csv файл в датафрейм https://s3.amazonaws.com/tripdata/index.html"
      ]
    },
    {
      "cell_type": "code",
      "source": [
        "from google.colab import drive\n",
        "drive.mount('/content/drive')"
      ],
      "metadata": {
        "id": "uNLnXqHO_FSS",
        "colab": {
          "base_uri": "https://localhost:8080/"
        },
        "outputId": "65877698-ef36-4e16-a4c8-9019a31855ab"
      },
      "execution_count": 2,
      "outputs": [
        {
          "output_type": "stream",
          "name": "stdout",
          "text": [
            "Mounted at /content/drive\n"
          ]
        }
      ]
    },
    {
      "cell_type": "code",
      "execution_count": 3,
      "metadata": {
        "id": "C6zBTGfsgUeD"
      },
      "outputs": [],
      "source": [
        "\n",
        "citybike=pd.read_csv('/content/drive/MyDrive/Colab Notebooks/202006-citibike-tripdata.csv')\n"
      ]
    },
    {
      "cell_type": "code",
      "execution_count": 4,
      "metadata": {
        "id": "rdqOz8t9gUeF",
        "colab": {
          "base_uri": "https://localhost:8080/",
          "height": 354
        },
        "outputId": "83891e18-2a12-403a-de6e-49a4c3dacf27"
      },
      "outputs": [
        {
          "output_type": "execute_result",
          "data": {
            "text/plain": [
              "   tripduration                 starttime                  stoptime  \\\n",
              "0          1062  2020-06-01 00:00:03.3720  2020-06-01 00:17:46.2080   \n",
              "1          3810  2020-06-01 00:00:03.5530  2020-06-01 01:03:33.9360   \n",
              "2          1017  2020-06-01 00:00:09.6140  2020-06-01 00:17:06.8330   \n",
              "3           226  2020-06-01 00:00:12.1780  2020-06-01 00:03:58.8640   \n",
              "4          1437  2020-06-01 00:00:21.2550  2020-06-01 00:24:18.9650   \n",
              "\n",
              "   start station id        start station name  start station latitude  \\\n",
              "0              3419       Douglass St & 4 Ave               40.679279   \n",
              "1               366  Clinton Ave & Myrtle Ave               40.693261   \n",
              "2               389       Broadway & Berry St               40.710446   \n",
              "3              3255           8 Ave & W 31 St               40.750585   \n",
              "4               367   E 53 St & Lexington Ave               40.758281   \n",
              "\n",
              "   start station longitude  end station id             end station name  \\\n",
              "0               -73.981540            3419          Douglass St & 4 Ave   \n",
              "1               -73.968896             336  Sullivan St & Washington Sq   \n",
              "2               -73.965251            3562   Classon Ave & St Marks Ave   \n",
              "3               -73.994685             505              6 Ave & W 33 St   \n",
              "4               -73.970694             497           E 17 St & Broadway   \n",
              "\n",
              "   end station latitude  end station longitude  bikeid    usertype  \\\n",
              "0             40.679279             -73.981540   39852    Customer   \n",
              "1             40.730477             -73.999061   37558  Subscriber   \n",
              "2             40.676520             -73.959608   37512    Customer   \n",
              "3             40.749013             -73.988484   39674    Customer   \n",
              "4             40.737050             -73.990093   21093    Customer   \n",
              "\n",
              "   birth year  gender  \n",
              "0        1997       2  \n",
              "1        1969       0  \n",
              "2        1988       2  \n",
              "3        1969       0  \n",
              "4        1997       2  "
            ],
            "text/html": [
              "\n",
              "  <div id=\"df-80965ffc-1f3f-42e0-8d7b-34850c38df5b\">\n",
              "    <div class=\"colab-df-container\">\n",
              "      <div>\n",
              "<style scoped>\n",
              "    .dataframe tbody tr th:only-of-type {\n",
              "        vertical-align: middle;\n",
              "    }\n",
              "\n",
              "    .dataframe tbody tr th {\n",
              "        vertical-align: top;\n",
              "    }\n",
              "\n",
              "    .dataframe thead th {\n",
              "        text-align: right;\n",
              "    }\n",
              "</style>\n",
              "<table border=\"1\" class=\"dataframe\">\n",
              "  <thead>\n",
              "    <tr style=\"text-align: right;\">\n",
              "      <th></th>\n",
              "      <th>tripduration</th>\n",
              "      <th>starttime</th>\n",
              "      <th>stoptime</th>\n",
              "      <th>start station id</th>\n",
              "      <th>start station name</th>\n",
              "      <th>start station latitude</th>\n",
              "      <th>start station longitude</th>\n",
              "      <th>end station id</th>\n",
              "      <th>end station name</th>\n",
              "      <th>end station latitude</th>\n",
              "      <th>end station longitude</th>\n",
              "      <th>bikeid</th>\n",
              "      <th>usertype</th>\n",
              "      <th>birth year</th>\n",
              "      <th>gender</th>\n",
              "    </tr>\n",
              "  </thead>\n",
              "  <tbody>\n",
              "    <tr>\n",
              "      <th>0</th>\n",
              "      <td>1062</td>\n",
              "      <td>2020-06-01 00:00:03.3720</td>\n",
              "      <td>2020-06-01 00:17:46.2080</td>\n",
              "      <td>3419</td>\n",
              "      <td>Douglass St &amp; 4 Ave</td>\n",
              "      <td>40.679279</td>\n",
              "      <td>-73.981540</td>\n",
              "      <td>3419</td>\n",
              "      <td>Douglass St &amp; 4 Ave</td>\n",
              "      <td>40.679279</td>\n",
              "      <td>-73.981540</td>\n",
              "      <td>39852</td>\n",
              "      <td>Customer</td>\n",
              "      <td>1997</td>\n",
              "      <td>2</td>\n",
              "    </tr>\n",
              "    <tr>\n",
              "      <th>1</th>\n",
              "      <td>3810</td>\n",
              "      <td>2020-06-01 00:00:03.5530</td>\n",
              "      <td>2020-06-01 01:03:33.9360</td>\n",
              "      <td>366</td>\n",
              "      <td>Clinton Ave &amp; Myrtle Ave</td>\n",
              "      <td>40.693261</td>\n",
              "      <td>-73.968896</td>\n",
              "      <td>336</td>\n",
              "      <td>Sullivan St &amp; Washington Sq</td>\n",
              "      <td>40.730477</td>\n",
              "      <td>-73.999061</td>\n",
              "      <td>37558</td>\n",
              "      <td>Subscriber</td>\n",
              "      <td>1969</td>\n",
              "      <td>0</td>\n",
              "    </tr>\n",
              "    <tr>\n",
              "      <th>2</th>\n",
              "      <td>1017</td>\n",
              "      <td>2020-06-01 00:00:09.6140</td>\n",
              "      <td>2020-06-01 00:17:06.8330</td>\n",
              "      <td>389</td>\n",
              "      <td>Broadway &amp; Berry St</td>\n",
              "      <td>40.710446</td>\n",
              "      <td>-73.965251</td>\n",
              "      <td>3562</td>\n",
              "      <td>Classon Ave &amp; St Marks Ave</td>\n",
              "      <td>40.676520</td>\n",
              "      <td>-73.959608</td>\n",
              "      <td>37512</td>\n",
              "      <td>Customer</td>\n",
              "      <td>1988</td>\n",
              "      <td>2</td>\n",
              "    </tr>\n",
              "    <tr>\n",
              "      <th>3</th>\n",
              "      <td>226</td>\n",
              "      <td>2020-06-01 00:00:12.1780</td>\n",
              "      <td>2020-06-01 00:03:58.8640</td>\n",
              "      <td>3255</td>\n",
              "      <td>8 Ave &amp; W 31 St</td>\n",
              "      <td>40.750585</td>\n",
              "      <td>-73.994685</td>\n",
              "      <td>505</td>\n",
              "      <td>6 Ave &amp; W 33 St</td>\n",
              "      <td>40.749013</td>\n",
              "      <td>-73.988484</td>\n",
              "      <td>39674</td>\n",
              "      <td>Customer</td>\n",
              "      <td>1969</td>\n",
              "      <td>0</td>\n",
              "    </tr>\n",
              "    <tr>\n",
              "      <th>4</th>\n",
              "      <td>1437</td>\n",
              "      <td>2020-06-01 00:00:21.2550</td>\n",
              "      <td>2020-06-01 00:24:18.9650</td>\n",
              "      <td>367</td>\n",
              "      <td>E 53 St &amp; Lexington Ave</td>\n",
              "      <td>40.758281</td>\n",
              "      <td>-73.970694</td>\n",
              "      <td>497</td>\n",
              "      <td>E 17 St &amp; Broadway</td>\n",
              "      <td>40.737050</td>\n",
              "      <td>-73.990093</td>\n",
              "      <td>21093</td>\n",
              "      <td>Customer</td>\n",
              "      <td>1997</td>\n",
              "      <td>2</td>\n",
              "    </tr>\n",
              "  </tbody>\n",
              "</table>\n",
              "</div>\n",
              "      <button class=\"colab-df-convert\" onclick=\"convertToInteractive('df-80965ffc-1f3f-42e0-8d7b-34850c38df5b')\"\n",
              "              title=\"Convert this dataframe to an interactive table.\"\n",
              "              style=\"display:none;\">\n",
              "        \n",
              "  <svg xmlns=\"http://www.w3.org/2000/svg\" height=\"24px\"viewBox=\"0 0 24 24\"\n",
              "       width=\"24px\">\n",
              "    <path d=\"M0 0h24v24H0V0z\" fill=\"none\"/>\n",
              "    <path d=\"M18.56 5.44l.94 2.06.94-2.06 2.06-.94-2.06-.94-.94-2.06-.94 2.06-2.06.94zm-11 1L8.5 8.5l.94-2.06 2.06-.94-2.06-.94L8.5 2.5l-.94 2.06-2.06.94zm10 10l.94 2.06.94-2.06 2.06-.94-2.06-.94-.94-2.06-.94 2.06-2.06.94z\"/><path d=\"M17.41 7.96l-1.37-1.37c-.4-.4-.92-.59-1.43-.59-.52 0-1.04.2-1.43.59L10.3 9.45l-7.72 7.72c-.78.78-.78 2.05 0 2.83L4 21.41c.39.39.9.59 1.41.59.51 0 1.02-.2 1.41-.59l7.78-7.78 2.81-2.81c.8-.78.8-2.07 0-2.86zM5.41 20L4 18.59l7.72-7.72 1.47 1.35L5.41 20z\"/>\n",
              "  </svg>\n",
              "      </button>\n",
              "      \n",
              "  <style>\n",
              "    .colab-df-container {\n",
              "      display:flex;\n",
              "      flex-wrap:wrap;\n",
              "      gap: 12px;\n",
              "    }\n",
              "\n",
              "    .colab-df-convert {\n",
              "      background-color: #E8F0FE;\n",
              "      border: none;\n",
              "      border-radius: 50%;\n",
              "      cursor: pointer;\n",
              "      display: none;\n",
              "      fill: #1967D2;\n",
              "      height: 32px;\n",
              "      padding: 0 0 0 0;\n",
              "      width: 32px;\n",
              "    }\n",
              "\n",
              "    .colab-df-convert:hover {\n",
              "      background-color: #E2EBFA;\n",
              "      box-shadow: 0px 1px 2px rgba(60, 64, 67, 0.3), 0px 1px 3px 1px rgba(60, 64, 67, 0.15);\n",
              "      fill: #174EA6;\n",
              "    }\n",
              "\n",
              "    [theme=dark] .colab-df-convert {\n",
              "      background-color: #3B4455;\n",
              "      fill: #D2E3FC;\n",
              "    }\n",
              "\n",
              "    [theme=dark] .colab-df-convert:hover {\n",
              "      background-color: #434B5C;\n",
              "      box-shadow: 0px 1px 3px 1px rgba(0, 0, 0, 0.15);\n",
              "      filter: drop-shadow(0px 1px 2px rgba(0, 0, 0, 0.3));\n",
              "      fill: #FFFFFF;\n",
              "    }\n",
              "  </style>\n",
              "\n",
              "      <script>\n",
              "        const buttonEl =\n",
              "          document.querySelector('#df-80965ffc-1f3f-42e0-8d7b-34850c38df5b button.colab-df-convert');\n",
              "        buttonEl.style.display =\n",
              "          google.colab.kernel.accessAllowed ? 'block' : 'none';\n",
              "\n",
              "        async function convertToInteractive(key) {\n",
              "          const element = document.querySelector('#df-80965ffc-1f3f-42e0-8d7b-34850c38df5b');\n",
              "          const dataTable =\n",
              "            await google.colab.kernel.invokeFunction('convertToInteractive',\n",
              "                                                     [key], {});\n",
              "          if (!dataTable) return;\n",
              "\n",
              "          const docLinkHtml = 'Like what you see? Visit the ' +\n",
              "            '<a target=\"_blank\" href=https://colab.research.google.com/notebooks/data_table.ipynb>data table notebook</a>'\n",
              "            + ' to learn more about interactive tables.';\n",
              "          element.innerHTML = '';\n",
              "          dataTable['output_type'] = 'display_data';\n",
              "          await google.colab.output.renderOutput(dataTable, element);\n",
              "          const docLink = document.createElement('div');\n",
              "          docLink.innerHTML = docLinkHtml;\n",
              "          element.appendChild(docLink);\n",
              "        }\n",
              "      </script>\n",
              "    </div>\n",
              "  </div>\n",
              "  "
            ]
          },
          "metadata": {},
          "execution_count": 4
        }
      ],
      "source": [
        "citybike.head()"
      ]
    },
    {
      "cell_type": "markdown",
      "metadata": {
        "id": "chK-TpUlgUeI"
      },
      "source": [
        "1. Найти общее количество строк и столбцов в датасете - указать первым число строк, вторым - число столбцов"
      ]
    },
    {
      "cell_type": "code",
      "execution_count": 5,
      "metadata": {
        "scrolled": true,
        "id": "bX54NLnEgUeK",
        "colab": {
          "base_uri": "https://localhost:8080/"
        },
        "outputId": "e88781a3-e6e2-42cb-af69-4c72ed15fb49"
      },
      "outputs": [
        {
          "output_type": "execute_result",
          "data": {
            "text/plain": [
              "(1882273, 15)"
            ]
          },
          "metadata": {},
          "execution_count": 5
        }
      ],
      "source": [
        "citybike.shape"
      ]
    },
    {
      "cell_type": "markdown",
      "metadata": {
        "id": "PqOOmUUDgUeM"
      },
      "source": [
        "Найти среднюю длину поездок в минутах(столбец tripduration) c точностью до 2 знака"
      ]
    },
    {
      "cell_type": "code",
      "execution_count": 6,
      "metadata": {
        "id": "VO7ZZCgdgUeO",
        "colab": {
          "base_uri": "https://localhost:8080/"
        },
        "outputId": "2d143c33-1b33-423b-dd3e-f2116628ea18"
      },
      "outputs": [
        {
          "output_type": "execute_result",
          "data": {
            "text/plain": [
              "27.33"
            ]
          },
          "metadata": {},
          "execution_count": 6
        }
      ],
      "source": [
        "citybike['stoptime1'] = pd.to_datetime(citybike['stoptime'], errors='coerce')\n",
        "citybike['starttime1'] = pd.to_datetime(citybike['starttime'], errors='coerce')\n",
        "citybike['tripduration'] = (citybike['stoptime1'] - citybike['starttime1']).dt.total_seconds() / 60\n",
        "round(citybike.describe()['tripduration']['mean'], 2)"
      ]
    },
    {
      "cell_type": "markdown",
      "metadata": {
        "id": "GR5YsEu2gUeQ"
      },
      "source": [
        "Сколько поездок начались и закончились в той же самой станции?"
      ]
    },
    {
      "cell_type": "code",
      "execution_count": 7,
      "metadata": {
        "id": "GpBZel6rgUeS",
        "colab": {
          "base_uri": "https://localhost:8080/"
        },
        "outputId": "86be0ea8-4b1e-4775-e893-f8ef66e3dbfd"
      },
      "outputs": [
        {
          "output_type": "execute_result",
          "data": {
            "text/plain": [
              "(124403, 17)"
            ]
          },
          "metadata": {},
          "execution_count": 7
        }
      ],
      "source": [
        "citybike[(citybike['start station id'] == citybike['end station id'])].shape"
      ]
    },
    {
      "cell_type": "markdown",
      "metadata": {
        "id": "92RnfB4-gUeT"
      },
      "source": [
        "Сколько поездок начались и закончились в той же самой станции? Указать количество уникальных байков"
      ]
    },
    {
      "cell_type": "code",
      "execution_count": 8,
      "metadata": {
        "id": "t1n3AKbdgUeU",
        "colab": {
          "base_uri": "https://localhost:8080/"
        },
        "outputId": "c6de7f01-d62c-4826-c012-4cd03332b0af"
      },
      "outputs": [
        {
          "output_type": "execute_result",
          "data": {
            "text/plain": [
              "(15511,)"
            ]
          },
          "metadata": {},
          "execution_count": 8
        }
      ],
      "source": [
        "citybike[(citybike['start station id'] == citybike['end station id'])]['bikeid'].unique().shape"
      ]
    },
    {
      "cell_type": "markdown",
      "metadata": {
        "id": "6uXpvSXogUeV"
      },
      "source": [
        "Какой самый используемый байк(bikeid) в городе по количеству поездок? "
      ]
    },
    {
      "cell_type": "code",
      "execution_count": 9,
      "metadata": {
        "id": "Qi438As7gUeW",
        "colab": {
          "base_uri": "https://localhost:8080/"
        },
        "outputId": "50a5aa1f-6ccf-418d-960b-b5002444111b"
      },
      "outputs": [
        {
          "output_type": "execute_result",
          "data": {
            "text/plain": [
              "37634    333\n",
              "Name: bikeid, dtype: int64"
            ]
          },
          "metadata": {},
          "execution_count": 9
        }
      ],
      "source": [
        "citybike['bikeid'].value_counts()[:1]"
      ]
    },
    {
      "cell_type": "markdown",
      "metadata": {
        "id": "es7dMXWagUeX"
      },
      "source": [
        "Найдите байк(bikeid), у которого в среднем продолжительность поездок выше, чем у всех остальных"
      ]
    },
    {
      "cell_type": "code",
      "execution_count": 10,
      "metadata": {
        "scrolled": true,
        "id": "kaSp5KGdgUeY",
        "colab": {
          "base_uri": "https://localhost:8080/"
        },
        "outputId": "51023fed-73a9-4a6c-fa1d-848a811070d2"
      },
      "outputs": [
        {
          "output_type": "execute_result",
          "data": {
            "text/plain": [
              "bikeid\n",
              "17326    43466.807067\n",
              "Name: tripduration, dtype: float64"
            ]
          },
          "metadata": {},
          "execution_count": 10
        }
      ],
      "source": [
        "citybike.groupby('bikeid')['tripduration'].mean().sort_values(ascending=False)[:1]"
      ]
    },
    {
      "cell_type": "markdown",
      "metadata": {
        "id": "LEmtA9-zgUeZ"
      },
      "source": [
        "Найдите количество строк, в которых отсутствуют данные о start station id"
      ]
    },
    {
      "cell_type": "code",
      "execution_count": 11,
      "metadata": {
        "id": "ugWv2YylgUea",
        "colab": {
          "base_uri": "https://localhost:8080/"
        },
        "outputId": "2bebb3b6-fc78-4bb4-dbe0-bb8922added6"
      },
      "outputs": [
        {
          "output_type": "execute_result",
          "data": {
            "text/plain": [
              "(0, 17)"
            ]
          },
          "metadata": {},
          "execution_count": 11
        }
      ],
      "source": [
        "citybike[citybike['start station id'].isnull()].shape"
      ]
    },
    {
      "cell_type": "markdown",
      "metadata": {
        "id": "f3w4gg6dgUeb"
      },
      "source": [
        "Какова средняя продолжительность поездки в зависимости от типа подписки c точностью до 2 знака? "
      ]
    },
    {
      "cell_type": "code",
      "execution_count": 12,
      "metadata": {
        "scrolled": true,
        "id": "AEqdH_JrgUeb",
        "colab": {
          "base_uri": "https://localhost:8080/"
        },
        "outputId": "a7a83e75-b0bf-4bab-bdf5-0a2c38e2981b"
      },
      "outputs": [
        {
          "output_type": "execute_result",
          "data": {
            "text/plain": [
              "usertype\n",
              "Customer      43.59\n",
              "Subscriber    20.16\n",
              "Name: tripduration, dtype: float64"
            ]
          },
          "metadata": {},
          "execution_count": 12
        }
      ],
      "source": [
        "round(citybike.groupby('usertype')['tripduration'].mean(),2)"
      ]
    },
    {
      "cell_type": "markdown",
      "metadata": {
        "id": "btxb5KB1gUec"
      },
      "source": [
        "Для каждой станции найдите расстояние между станциями, а затем найдите среднее расстояние по всем поездкам, предварительно выкинув замкнутые траектории(те у которых совпадают start station id = end station id). \n",
        "\n",
        "Hint: можно воспользоваться библиотекой geopy и взять расстояние vincenty(минимальное расстояние между точками)\n"
      ]
    },
    {
      "cell_type": "code",
      "execution_count": 13,
      "metadata": {
        "id": "QlJBYlcRgUed"
      },
      "outputs": [],
      "source": [
        "#citybike['distance_km'] = citybike.apply(lambda x: vincenty((x['start station latitude'], x['start station longitude']),                                                             (x['end station latitude'], x['end station longitude'])).kilometers, axis=1)\n",
        "\n",
        "#print(citybike['distance_km'].mean())\n",
        "\n"
      ]
    },
    {
      "cell_type": "code",
      "execution_count": 14,
      "metadata": {
        "id": "tha8MPyugUee",
        "colab": {
          "base_uri": "https://localhost:8080/"
        },
        "outputId": "10e511b4-a355-4fc8-8339-9e75553faa39"
      },
      "outputs": [
        {
          "output_type": "execute_result",
          "data": {
            "text/plain": [
              "12 Ave & W 40 St               12354\n",
              "West St & Chambers St          11167\n",
              "1 Ave & E 68 St                10924\n",
              "Broadway & W 60 St              9653\n",
              "Pier 40 - Hudson River Park     9545\n",
              "Name: end station name, dtype: int64"
            ]
          },
          "metadata": {},
          "execution_count": 14
        }
      ],
      "source": [
        "citybike['end station name'].value_counts()[:5]"
      ]
    },
    {
      "cell_type": "markdown",
      "metadata": {
        "id": "tW7UPdaRgUef"
      },
      "source": [
        "Выберите станцию (start station id) с максимальным количеством отправлений с 18 до 20 вечера"
      ]
    },
    {
      "cell_type": "code",
      "source": [
        "citybike['start station name'].value_counts()[:5]"
      ],
      "metadata": {
        "colab": {
          "base_uri": "https://localhost:8080/"
        },
        "id": "THdLI3w_emSO",
        "outputId": "990f518a-d1fe-4ba8-9796-54a3a2c4c27e"
      },
      "execution_count": 15,
      "outputs": [
        {
          "output_type": "execute_result",
          "data": {
            "text/plain": [
              "12 Ave & W 40 St               12245\n",
              "1 Ave & E 68 St                10956\n",
              "West St & Chambers St          10895\n",
              "Broadway & W 60 St              9647\n",
              "Pier 40 - Hudson River Park     9491\n",
              "Name: start station name, dtype: int64"
            ]
          },
          "metadata": {},
          "execution_count": 15
        }
      ]
    },
    {
      "cell_type": "code",
      "source": [
        "citybike"
      ],
      "metadata": {
        "colab": {
          "base_uri": "https://localhost:8080/",
          "height": 780
        },
        "id": "xI5sXhGtnXcJ",
        "outputId": "599c628c-ab4a-4683-ce49-64262ec7e6dc"
      },
      "execution_count": 74,
      "outputs": [
        {
          "output_type": "execute_result",
          "data": {
            "text/plain": [
              "         tripduration                 starttime                  stoptime  \\\n",
              "0           17.713933  2020-06-01 00:00:03.3720  2020-06-01 00:17:46.2080   \n",
              "1           63.506383  2020-06-01 00:00:03.5530  2020-06-01 01:03:33.9360   \n",
              "2           16.953650  2020-06-01 00:00:09.6140  2020-06-01 00:17:06.8330   \n",
              "3            3.778100  2020-06-01 00:00:12.1780  2020-06-01 00:03:58.8640   \n",
              "4           23.961833  2020-06-01 00:00:21.2550  2020-06-01 00:24:18.9650   \n",
              "...               ...                       ...                       ...   \n",
              "1882268     11.427717  2020-06-30 23:59:41.1160  2020-07-01 00:11:06.7790   \n",
              "1882269      7.444333  2020-06-30 23:59:46.4260  2020-07-01 00:07:13.0860   \n",
              "1882270      7.318033  2020-06-30 23:59:47.4770  2020-07-01 00:07:06.5590   \n",
              "1882271     14.833867  2020-06-30 23:59:53.3950  2020-07-01 00:14:43.4270   \n",
              "1882272      7.219900  2020-06-30 23:59:53.9010  2020-07-01 00:07:07.0950   \n",
              "\n",
              "         start station id         start station name  start station latitude  \\\n",
              "0                    3419        Douglass St & 4 Ave               40.679279   \n",
              "1                     366   Clinton Ave & Myrtle Ave               40.693261   \n",
              "2                     389        Broadway & Berry St               40.710446   \n",
              "3                    3255            8 Ave & W 31 St               40.750585   \n",
              "4                     367    E 53 St & Lexington Ave               40.758281   \n",
              "...                   ...                        ...                     ...   \n",
              "1882268               503         E 20 St & Park Ave               40.738274   \n",
              "1882269              3699            W 50 St & 9 Ave               40.763605   \n",
              "1882270              3699            W 50 St & 9 Ave               40.763605   \n",
              "1882271              3852  Stewart Ave & Johnson Ave               40.708690   \n",
              "1882272               324    DeKalb Ave & Hudson Ave               40.689888   \n",
              "\n",
              "         start station longitude  end station id             end station name  \\\n",
              "0                     -73.981540            3419          Douglass St & 4 Ave   \n",
              "1                     -73.968896             336  Sullivan St & Washington Sq   \n",
              "2                     -73.965251            3562   Classon Ave & St Marks Ave   \n",
              "3                     -73.994685             505              6 Ave & W 33 St   \n",
              "4                     -73.970694             497           E 17 St & Broadway   \n",
              "...                          ...             ...                          ...   \n",
              "1882268               -73.987520            3746            6 Ave & Broome St   \n",
              "1882269               -73.989180             523              W 38 St & 8 Ave   \n",
              "1882270               -73.989180             523              W 38 St & 8 Ave   \n",
              "1882271               -73.925870            3054      Greene Ave & Throop Ave   \n",
              "1882272               -73.981013             261         Johnson St & Gold St   \n",
              "\n",
              "         end station latitude  end station longitude  bikeid    usertype  \\\n",
              "0                   40.679279             -73.981540   39852    Customer   \n",
              "1                   40.730477             -73.999061   37558  Subscriber   \n",
              "2                   40.676520             -73.959608   37512    Customer   \n",
              "3                   40.749013             -73.988484   39674    Customer   \n",
              "4                   40.737050             -73.990093   21093    Customer   \n",
              "...                       ...                    ...     ...         ...   \n",
              "1882268             40.724308             -74.004730   21056    Customer   \n",
              "1882269             40.754666             -73.991382   30164    Customer   \n",
              "1882270             40.754666             -73.991382   43742    Customer   \n",
              "1882271             40.689493             -73.942061   15787  Subscriber   \n",
              "1882272             40.694749             -73.983625   38767    Customer   \n",
              "\n",
              "         birth year  gender               stoptime1              starttime1  \\\n",
              "0              1997       0 2020-06-01 00:17:46.208 2020-06-01 00:00:03.372   \n",
              "1              1969       0 2020-06-01 01:03:33.936 2020-06-01 00:00:03.553   \n",
              "2              1988       0 2020-06-01 00:17:06.833 2020-06-01 00:00:09.614   \n",
              "3              1969       0 2020-06-01 00:03:58.864 2020-06-01 00:00:12.178   \n",
              "4              1997       0 2020-06-01 00:24:18.965 2020-06-01 00:00:21.255   \n",
              "...             ...     ...                     ...                     ...   \n",
              "1882268        1993       0 2020-07-01 00:11:06.779 2020-06-30 23:59:41.116   \n",
              "1882269        1969       0 2020-07-01 00:07:13.086 2020-06-30 23:59:46.426   \n",
              "1882270        1986       0 2020-07-01 00:07:06.559 2020-06-30 23:59:47.477   \n",
              "1882271        1994       0 2020-07-01 00:14:43.427 2020-06-30 23:59:53.395   \n",
              "1882272        1990       0 2020-07-01 00:07:07.095 2020-06-30 23:59:53.901   \n",
              "\n",
              "         end_hour   q  start_hour  \n",
              "0               0   1           0  \n",
              "1               1   1           0  \n",
              "2               0   1           0  \n",
              "3               0   1           0  \n",
              "4               0   1           0  \n",
              "...           ...  ..         ...  \n",
              "1882268         0  30          23  \n",
              "1882269         0  30          23  \n",
              "1882270         0  30          23  \n",
              "1882271         0  30          23  \n",
              "1882272         0  30          23  \n",
              "\n",
              "[1882273 rows x 20 columns]"
            ],
            "text/html": [
              "\n",
              "  <div id=\"df-41f38e69-08ba-4aa3-a1f6-6a43497d96ff\">\n",
              "    <div class=\"colab-df-container\">\n",
              "      <div>\n",
              "<style scoped>\n",
              "    .dataframe tbody tr th:only-of-type {\n",
              "        vertical-align: middle;\n",
              "    }\n",
              "\n",
              "    .dataframe tbody tr th {\n",
              "        vertical-align: top;\n",
              "    }\n",
              "\n",
              "    .dataframe thead th {\n",
              "        text-align: right;\n",
              "    }\n",
              "</style>\n",
              "<table border=\"1\" class=\"dataframe\">\n",
              "  <thead>\n",
              "    <tr style=\"text-align: right;\">\n",
              "      <th></th>\n",
              "      <th>tripduration</th>\n",
              "      <th>starttime</th>\n",
              "      <th>stoptime</th>\n",
              "      <th>start station id</th>\n",
              "      <th>start station name</th>\n",
              "      <th>start station latitude</th>\n",
              "      <th>start station longitude</th>\n",
              "      <th>end station id</th>\n",
              "      <th>end station name</th>\n",
              "      <th>end station latitude</th>\n",
              "      <th>end station longitude</th>\n",
              "      <th>bikeid</th>\n",
              "      <th>usertype</th>\n",
              "      <th>birth year</th>\n",
              "      <th>gender</th>\n",
              "      <th>stoptime1</th>\n",
              "      <th>starttime1</th>\n",
              "      <th>end_hour</th>\n",
              "      <th>q</th>\n",
              "      <th>start_hour</th>\n",
              "    </tr>\n",
              "  </thead>\n",
              "  <tbody>\n",
              "    <tr>\n",
              "      <th>0</th>\n",
              "      <td>17.713933</td>\n",
              "      <td>2020-06-01 00:00:03.3720</td>\n",
              "      <td>2020-06-01 00:17:46.2080</td>\n",
              "      <td>3419</td>\n",
              "      <td>Douglass St &amp; 4 Ave</td>\n",
              "      <td>40.679279</td>\n",
              "      <td>-73.981540</td>\n",
              "      <td>3419</td>\n",
              "      <td>Douglass St &amp; 4 Ave</td>\n",
              "      <td>40.679279</td>\n",
              "      <td>-73.981540</td>\n",
              "      <td>39852</td>\n",
              "      <td>Customer</td>\n",
              "      <td>1997</td>\n",
              "      <td>0</td>\n",
              "      <td>2020-06-01 00:17:46.208</td>\n",
              "      <td>2020-06-01 00:00:03.372</td>\n",
              "      <td>0</td>\n",
              "      <td>1</td>\n",
              "      <td>0</td>\n",
              "    </tr>\n",
              "    <tr>\n",
              "      <th>1</th>\n",
              "      <td>63.506383</td>\n",
              "      <td>2020-06-01 00:00:03.5530</td>\n",
              "      <td>2020-06-01 01:03:33.9360</td>\n",
              "      <td>366</td>\n",
              "      <td>Clinton Ave &amp; Myrtle Ave</td>\n",
              "      <td>40.693261</td>\n",
              "      <td>-73.968896</td>\n",
              "      <td>336</td>\n",
              "      <td>Sullivan St &amp; Washington Sq</td>\n",
              "      <td>40.730477</td>\n",
              "      <td>-73.999061</td>\n",
              "      <td>37558</td>\n",
              "      <td>Subscriber</td>\n",
              "      <td>1969</td>\n",
              "      <td>0</td>\n",
              "      <td>2020-06-01 01:03:33.936</td>\n",
              "      <td>2020-06-01 00:00:03.553</td>\n",
              "      <td>1</td>\n",
              "      <td>1</td>\n",
              "      <td>0</td>\n",
              "    </tr>\n",
              "    <tr>\n",
              "      <th>2</th>\n",
              "      <td>16.953650</td>\n",
              "      <td>2020-06-01 00:00:09.6140</td>\n",
              "      <td>2020-06-01 00:17:06.8330</td>\n",
              "      <td>389</td>\n",
              "      <td>Broadway &amp; Berry St</td>\n",
              "      <td>40.710446</td>\n",
              "      <td>-73.965251</td>\n",
              "      <td>3562</td>\n",
              "      <td>Classon Ave &amp; St Marks Ave</td>\n",
              "      <td>40.676520</td>\n",
              "      <td>-73.959608</td>\n",
              "      <td>37512</td>\n",
              "      <td>Customer</td>\n",
              "      <td>1988</td>\n",
              "      <td>0</td>\n",
              "      <td>2020-06-01 00:17:06.833</td>\n",
              "      <td>2020-06-01 00:00:09.614</td>\n",
              "      <td>0</td>\n",
              "      <td>1</td>\n",
              "      <td>0</td>\n",
              "    </tr>\n",
              "    <tr>\n",
              "      <th>3</th>\n",
              "      <td>3.778100</td>\n",
              "      <td>2020-06-01 00:00:12.1780</td>\n",
              "      <td>2020-06-01 00:03:58.8640</td>\n",
              "      <td>3255</td>\n",
              "      <td>8 Ave &amp; W 31 St</td>\n",
              "      <td>40.750585</td>\n",
              "      <td>-73.994685</td>\n",
              "      <td>505</td>\n",
              "      <td>6 Ave &amp; W 33 St</td>\n",
              "      <td>40.749013</td>\n",
              "      <td>-73.988484</td>\n",
              "      <td>39674</td>\n",
              "      <td>Customer</td>\n",
              "      <td>1969</td>\n",
              "      <td>0</td>\n",
              "      <td>2020-06-01 00:03:58.864</td>\n",
              "      <td>2020-06-01 00:00:12.178</td>\n",
              "      <td>0</td>\n",
              "      <td>1</td>\n",
              "      <td>0</td>\n",
              "    </tr>\n",
              "    <tr>\n",
              "      <th>4</th>\n",
              "      <td>23.961833</td>\n",
              "      <td>2020-06-01 00:00:21.2550</td>\n",
              "      <td>2020-06-01 00:24:18.9650</td>\n",
              "      <td>367</td>\n",
              "      <td>E 53 St &amp; Lexington Ave</td>\n",
              "      <td>40.758281</td>\n",
              "      <td>-73.970694</td>\n",
              "      <td>497</td>\n",
              "      <td>E 17 St &amp; Broadway</td>\n",
              "      <td>40.737050</td>\n",
              "      <td>-73.990093</td>\n",
              "      <td>21093</td>\n",
              "      <td>Customer</td>\n",
              "      <td>1997</td>\n",
              "      <td>0</td>\n",
              "      <td>2020-06-01 00:24:18.965</td>\n",
              "      <td>2020-06-01 00:00:21.255</td>\n",
              "      <td>0</td>\n",
              "      <td>1</td>\n",
              "      <td>0</td>\n",
              "    </tr>\n",
              "    <tr>\n",
              "      <th>...</th>\n",
              "      <td>...</td>\n",
              "      <td>...</td>\n",
              "      <td>...</td>\n",
              "      <td>...</td>\n",
              "      <td>...</td>\n",
              "      <td>...</td>\n",
              "      <td>...</td>\n",
              "      <td>...</td>\n",
              "      <td>...</td>\n",
              "      <td>...</td>\n",
              "      <td>...</td>\n",
              "      <td>...</td>\n",
              "      <td>...</td>\n",
              "      <td>...</td>\n",
              "      <td>...</td>\n",
              "      <td>...</td>\n",
              "      <td>...</td>\n",
              "      <td>...</td>\n",
              "      <td>...</td>\n",
              "      <td>...</td>\n",
              "    </tr>\n",
              "    <tr>\n",
              "      <th>1882268</th>\n",
              "      <td>11.427717</td>\n",
              "      <td>2020-06-30 23:59:41.1160</td>\n",
              "      <td>2020-07-01 00:11:06.7790</td>\n",
              "      <td>503</td>\n",
              "      <td>E 20 St &amp; Park Ave</td>\n",
              "      <td>40.738274</td>\n",
              "      <td>-73.987520</td>\n",
              "      <td>3746</td>\n",
              "      <td>6 Ave &amp; Broome St</td>\n",
              "      <td>40.724308</td>\n",
              "      <td>-74.004730</td>\n",
              "      <td>21056</td>\n",
              "      <td>Customer</td>\n",
              "      <td>1993</td>\n",
              "      <td>0</td>\n",
              "      <td>2020-07-01 00:11:06.779</td>\n",
              "      <td>2020-06-30 23:59:41.116</td>\n",
              "      <td>0</td>\n",
              "      <td>30</td>\n",
              "      <td>23</td>\n",
              "    </tr>\n",
              "    <tr>\n",
              "      <th>1882269</th>\n",
              "      <td>7.444333</td>\n",
              "      <td>2020-06-30 23:59:46.4260</td>\n",
              "      <td>2020-07-01 00:07:13.0860</td>\n",
              "      <td>3699</td>\n",
              "      <td>W 50 St &amp; 9 Ave</td>\n",
              "      <td>40.763605</td>\n",
              "      <td>-73.989180</td>\n",
              "      <td>523</td>\n",
              "      <td>W 38 St &amp; 8 Ave</td>\n",
              "      <td>40.754666</td>\n",
              "      <td>-73.991382</td>\n",
              "      <td>30164</td>\n",
              "      <td>Customer</td>\n",
              "      <td>1969</td>\n",
              "      <td>0</td>\n",
              "      <td>2020-07-01 00:07:13.086</td>\n",
              "      <td>2020-06-30 23:59:46.426</td>\n",
              "      <td>0</td>\n",
              "      <td>30</td>\n",
              "      <td>23</td>\n",
              "    </tr>\n",
              "    <tr>\n",
              "      <th>1882270</th>\n",
              "      <td>7.318033</td>\n",
              "      <td>2020-06-30 23:59:47.4770</td>\n",
              "      <td>2020-07-01 00:07:06.5590</td>\n",
              "      <td>3699</td>\n",
              "      <td>W 50 St &amp; 9 Ave</td>\n",
              "      <td>40.763605</td>\n",
              "      <td>-73.989180</td>\n",
              "      <td>523</td>\n",
              "      <td>W 38 St &amp; 8 Ave</td>\n",
              "      <td>40.754666</td>\n",
              "      <td>-73.991382</td>\n",
              "      <td>43742</td>\n",
              "      <td>Customer</td>\n",
              "      <td>1986</td>\n",
              "      <td>0</td>\n",
              "      <td>2020-07-01 00:07:06.559</td>\n",
              "      <td>2020-06-30 23:59:47.477</td>\n",
              "      <td>0</td>\n",
              "      <td>30</td>\n",
              "      <td>23</td>\n",
              "    </tr>\n",
              "    <tr>\n",
              "      <th>1882271</th>\n",
              "      <td>14.833867</td>\n",
              "      <td>2020-06-30 23:59:53.3950</td>\n",
              "      <td>2020-07-01 00:14:43.4270</td>\n",
              "      <td>3852</td>\n",
              "      <td>Stewart Ave &amp; Johnson Ave</td>\n",
              "      <td>40.708690</td>\n",
              "      <td>-73.925870</td>\n",
              "      <td>3054</td>\n",
              "      <td>Greene Ave &amp; Throop Ave</td>\n",
              "      <td>40.689493</td>\n",
              "      <td>-73.942061</td>\n",
              "      <td>15787</td>\n",
              "      <td>Subscriber</td>\n",
              "      <td>1994</td>\n",
              "      <td>0</td>\n",
              "      <td>2020-07-01 00:14:43.427</td>\n",
              "      <td>2020-06-30 23:59:53.395</td>\n",
              "      <td>0</td>\n",
              "      <td>30</td>\n",
              "      <td>23</td>\n",
              "    </tr>\n",
              "    <tr>\n",
              "      <th>1882272</th>\n",
              "      <td>7.219900</td>\n",
              "      <td>2020-06-30 23:59:53.9010</td>\n",
              "      <td>2020-07-01 00:07:07.0950</td>\n",
              "      <td>324</td>\n",
              "      <td>DeKalb Ave &amp; Hudson Ave</td>\n",
              "      <td>40.689888</td>\n",
              "      <td>-73.981013</td>\n",
              "      <td>261</td>\n",
              "      <td>Johnson St &amp; Gold St</td>\n",
              "      <td>40.694749</td>\n",
              "      <td>-73.983625</td>\n",
              "      <td>38767</td>\n",
              "      <td>Customer</td>\n",
              "      <td>1990</td>\n",
              "      <td>0</td>\n",
              "      <td>2020-07-01 00:07:07.095</td>\n",
              "      <td>2020-06-30 23:59:53.901</td>\n",
              "      <td>0</td>\n",
              "      <td>30</td>\n",
              "      <td>23</td>\n",
              "    </tr>\n",
              "  </tbody>\n",
              "</table>\n",
              "<p>1882273 rows × 20 columns</p>\n",
              "</div>\n",
              "      <button class=\"colab-df-convert\" onclick=\"convertToInteractive('df-41f38e69-08ba-4aa3-a1f6-6a43497d96ff')\"\n",
              "              title=\"Convert this dataframe to an interactive table.\"\n",
              "              style=\"display:none;\">\n",
              "        \n",
              "  <svg xmlns=\"http://www.w3.org/2000/svg\" height=\"24px\"viewBox=\"0 0 24 24\"\n",
              "       width=\"24px\">\n",
              "    <path d=\"M0 0h24v24H0V0z\" fill=\"none\"/>\n",
              "    <path d=\"M18.56 5.44l.94 2.06.94-2.06 2.06-.94-2.06-.94-.94-2.06-.94 2.06-2.06.94zm-11 1L8.5 8.5l.94-2.06 2.06-.94-2.06-.94L8.5 2.5l-.94 2.06-2.06.94zm10 10l.94 2.06.94-2.06 2.06-.94-2.06-.94-.94-2.06-.94 2.06-2.06.94z\"/><path d=\"M17.41 7.96l-1.37-1.37c-.4-.4-.92-.59-1.43-.59-.52 0-1.04.2-1.43.59L10.3 9.45l-7.72 7.72c-.78.78-.78 2.05 0 2.83L4 21.41c.39.39.9.59 1.41.59.51 0 1.02-.2 1.41-.59l7.78-7.78 2.81-2.81c.8-.78.8-2.07 0-2.86zM5.41 20L4 18.59l7.72-7.72 1.47 1.35L5.41 20z\"/>\n",
              "  </svg>\n",
              "      </button>\n",
              "      \n",
              "  <style>\n",
              "    .colab-df-container {\n",
              "      display:flex;\n",
              "      flex-wrap:wrap;\n",
              "      gap: 12px;\n",
              "    }\n",
              "\n",
              "    .colab-df-convert {\n",
              "      background-color: #E8F0FE;\n",
              "      border: none;\n",
              "      border-radius: 50%;\n",
              "      cursor: pointer;\n",
              "      display: none;\n",
              "      fill: #1967D2;\n",
              "      height: 32px;\n",
              "      padding: 0 0 0 0;\n",
              "      width: 32px;\n",
              "    }\n",
              "\n",
              "    .colab-df-convert:hover {\n",
              "      background-color: #E2EBFA;\n",
              "      box-shadow: 0px 1px 2px rgba(60, 64, 67, 0.3), 0px 1px 3px 1px rgba(60, 64, 67, 0.15);\n",
              "      fill: #174EA6;\n",
              "    }\n",
              "\n",
              "    [theme=dark] .colab-df-convert {\n",
              "      background-color: #3B4455;\n",
              "      fill: #D2E3FC;\n",
              "    }\n",
              "\n",
              "    [theme=dark] .colab-df-convert:hover {\n",
              "      background-color: #434B5C;\n",
              "      box-shadow: 0px 1px 3px 1px rgba(0, 0, 0, 0.15);\n",
              "      filter: drop-shadow(0px 1px 2px rgba(0, 0, 0, 0.3));\n",
              "      fill: #FFFFFF;\n",
              "    }\n",
              "  </style>\n",
              "\n",
              "      <script>\n",
              "        const buttonEl =\n",
              "          document.querySelector('#df-41f38e69-08ba-4aa3-a1f6-6a43497d96ff button.colab-df-convert');\n",
              "        buttonEl.style.display =\n",
              "          google.colab.kernel.accessAllowed ? 'block' : 'none';\n",
              "\n",
              "        async function convertToInteractive(key) {\n",
              "          const element = document.querySelector('#df-41f38e69-08ba-4aa3-a1f6-6a43497d96ff');\n",
              "          const dataTable =\n",
              "            await google.colab.kernel.invokeFunction('convertToInteractive',\n",
              "                                                     [key], {});\n",
              "          if (!dataTable) return;\n",
              "\n",
              "          const docLinkHtml = 'Like what you see? Visit the ' +\n",
              "            '<a target=\"_blank\" href=https://colab.research.google.com/notebooks/data_table.ipynb>data table notebook</a>'\n",
              "            + ' to learn more about interactive tables.';\n",
              "          element.innerHTML = '';\n",
              "          dataTable['output_type'] = 'display_data';\n",
              "          await google.colab.output.renderOutput(dataTable, element);\n",
              "          const docLink = document.createElement('div');\n",
              "          docLink.innerHTML = docLinkHtml;\n",
              "          element.appendChild(docLink);\n",
              "        }\n",
              "      </script>\n",
              "    </div>\n",
              "  </div>\n",
              "  "
            ]
          },
          "metadata": {},
          "execution_count": 74
        }
      ]
    },
    {
      "cell_type": "code",
      "execution_count": 17,
      "metadata": {
        "id": "uWld7WX5gUef"
      },
      "outputs": [],
      "source": [
        "citybike['end_hour'] = citybike['stoptime'].apply(lambda x: datetime.datetime.fromtimestamp(\n",
        "            time.mktime(datetime.datetime.strptime(x.strip(), \"%Y-%m-%d %H:%M:%S.%f\").timetuple())).hour)"
      ]
    },
    {
      "cell_type": "code",
      "source": [
        "citybike['q'] = citybike['starttime'].apply(lambda x: datetime.datetime.fromtimestamp(\n",
        "            time.mktime(datetime.datetime.strptime(x.strip(), \"%Y-%m-%d %H:%M:%S.%f\").timetuple())).day)"
      ],
      "metadata": {
        "id": "N_kozVVHwHCX"
      },
      "execution_count": 18,
      "outputs": []
    },
    {
      "cell_type": "code",
      "execution_count": 19,
      "metadata": {
        "id": "dJDzM93PgUeg"
      },
      "outputs": [],
      "source": [
        "citybike['start_hour'] = citybike['starttime'].apply(lambda x: datetime.datetime.fromtimestamp(\n",
        "                                        time.mktime(datetime.datetime.strptime(x.strip(), \"%Y-%m-%d %H:%M:%S.%f\").timetuple())).hour)"
      ]
    },
    {
      "cell_type": "code",
      "execution_count": 20,
      "metadata": {
        "scrolled": false,
        "id": "BxP7ENbfgUeg",
        "colab": {
          "base_uri": "https://localhost:8080/"
        },
        "outputId": "af70c4b2-6ab0-46ff-f436-fa3735cb5f3c"
      },
      "outputs": [
        {
          "output_type": "execute_result",
          "data": {
            "text/plain": [
              "514     3218\n",
              "426     2970\n",
              "3256    2850\n",
              "499     2256\n",
              "358     2236\n",
              "Name: start station id, dtype: int64"
            ]
          },
          "metadata": {},
          "execution_count": 20
        }
      ],
      "source": [
        "citybike[(citybike.start_hour.isin([18, 19, 20]))]['start station id'].value_counts().head()"
      ]
    },
    {
      "cell_type": "markdown",
      "metadata": {
        "id": "qwREeaSZgUeh"
      },
      "source": [
        "Выберите станции(end station id), в которые приезжают с 6 до 10 утра\n"
      ]
    },
    {
      "cell_type": "code",
      "execution_count": 21,
      "metadata": {
        "id": "n4wIYpN0gUeh"
      },
      "outputs": [],
      "source": [
        "end_stations = [3140, 3106, 3116, 369]"
      ]
    },
    {
      "cell_type": "code",
      "execution_count": 22,
      "metadata": {
        "scrolled": true,
        "id": "BZgYZ1K8gUei",
        "colab": {
          "base_uri": "https://localhost:8080/"
        },
        "outputId": "f2e8f39f-7071-463d-dc9b-f970c3012040"
      },
      "outputs": [
        {
          "output_type": "execute_result",
          "data": {
            "text/plain": [
              "array([3140,  369, 3106, 3116])"
            ]
          },
          "metadata": {},
          "execution_count": 22
        }
      ],
      "source": [
        "citybike[(citybike.end_hour.isin([6,7,8,9,10])) &\n",
        "         (citybike['end station id'].isin(end_stations))]['end station id'].unique()"
      ]
    },
    {
      "cell_type": "code",
      "source": [
        "a=citybike['q'].value_counts()\n",
        "np.array(a)\n",
        "a.sum()"
      ],
      "metadata": {
        "colab": {
          "base_uri": "https://localhost:8080/"
        },
        "id": "Dcss1jVmsj6O",
        "outputId": "bcf22ec7-49d3-4972-dea6-f50c9ac6a90e"
      },
      "execution_count": 73,
      "outputs": [
        {
          "output_type": "execute_result",
          "data": {
            "text/plain": [
              "1882273"
            ]
          },
          "metadata": {},
          "execution_count": 73
        }
      ]
    },
    {
      "cell_type": "code",
      "source": [
        "citybike['gender']=0"
      ],
      "metadata": {
        "id": "GO_scIF-hinJ"
      },
      "execution_count": 24,
      "outputs": []
    },
    {
      "cell_type": "code",
      "source": [
        "rng = pd.date_range(\"2020-06-01\", periods=100, freq=\"D\") + pd.Timedelta(\"1h\")"
      ],
      "metadata": {
        "id": "cNDJThdMuqSh"
      },
      "execution_count": 48,
      "outputs": []
    },
    {
      "cell_type": "code",
      "source": [
        "pp=citybike.resample('H', on='starttime1').gender.value_counts()\n",
        "pp.sum()"
      ],
      "metadata": {
        "colab": {
          "base_uri": "https://localhost:8080/",
          "height": 328
        },
        "id": "F2RMN2A97A9q",
        "outputId": "1bf0bdb9-8fb2-4bd7-e28f-7b53f6dee9fc"
      },
      "execution_count": 82,
      "outputs": [
        {
          "output_type": "error",
          "ename": "ValueError",
          "evalue": "ignored",
          "traceback": [
            "\u001b[0;31m---------------------------------------------------------------------------\u001b[0m",
            "\u001b[0;31mValueError\u001b[0m                                Traceback (most recent call last)",
            "\u001b[0;32m<ipython-input-82-aebf2d252b1d>\u001b[0m in \u001b[0;36m<module>\u001b[0;34m\u001b[0m\n\u001b[0;32m----> 1\u001b[0;31m \u001b[0mpp\u001b[0m\u001b[0;34m=\u001b[0m\u001b[0mcitybike\u001b[0m\u001b[0;34m.\u001b[0m\u001b[0mresample\u001b[0m\u001b[0;34m(\u001b[0m\u001b[0;34m'H'\u001b[0m\u001b[0;34m,\u001b[0m \u001b[0mon\u001b[0m\u001b[0;34m=\u001b[0m\u001b[0mrng\u001b[0m\u001b[0;34m)\u001b[0m\u001b[0;34m.\u001b[0m\u001b[0mgender\u001b[0m\u001b[0;34m.\u001b[0m\u001b[0mvalue_counts\u001b[0m\u001b[0;34m(\u001b[0m\u001b[0;34m)\u001b[0m\u001b[0;34m\u001b[0m\u001b[0;34m\u001b[0m\u001b[0m\n\u001b[0m\u001b[1;32m      2\u001b[0m \u001b[0mpp\u001b[0m\u001b[0;34m.\u001b[0m\u001b[0msum\u001b[0m\u001b[0;34m(\u001b[0m\u001b[0;34m)\u001b[0m\u001b[0;34m\u001b[0m\u001b[0;34m\u001b[0m\u001b[0m\n",
            "\u001b[0;32m/usr/local/lib/python3.7/dist-packages/pandas/core/frame.py\u001b[0m in \u001b[0;36mresample\u001b[0;34m(self, rule, axis, closed, label, convention, kind, loffset, base, on, level, origin, offset)\u001b[0m\n\u001b[1;32m  10360\u001b[0m             \u001b[0mlevel\u001b[0m\u001b[0;34m=\u001b[0m\u001b[0mlevel\u001b[0m\u001b[0;34m,\u001b[0m\u001b[0;34m\u001b[0m\u001b[0;34m\u001b[0m\u001b[0m\n\u001b[1;32m  10361\u001b[0m             \u001b[0morigin\u001b[0m\u001b[0;34m=\u001b[0m\u001b[0morigin\u001b[0m\u001b[0;34m,\u001b[0m\u001b[0;34m\u001b[0m\u001b[0;34m\u001b[0m\u001b[0m\n\u001b[0;32m> 10362\u001b[0;31m             \u001b[0moffset\u001b[0m\u001b[0;34m=\u001b[0m\u001b[0moffset\u001b[0m\u001b[0;34m,\u001b[0m\u001b[0;34m\u001b[0m\u001b[0;34m\u001b[0m\u001b[0m\n\u001b[0m\u001b[1;32m  10363\u001b[0m         )\n\u001b[1;32m  10364\u001b[0m \u001b[0;34m\u001b[0m\u001b[0m\n",
            "\u001b[0;32m/usr/local/lib/python3.7/dist-packages/pandas/core/generic.py\u001b[0m in \u001b[0;36mresample\u001b[0;34m(self, rule, axis, closed, label, convention, kind, loffset, base, on, level, origin, offset)\u001b[0m\n\u001b[1;32m   8137\u001b[0m             \u001b[0mlevel\u001b[0m\u001b[0;34m=\u001b[0m\u001b[0mlevel\u001b[0m\u001b[0;34m,\u001b[0m\u001b[0;34m\u001b[0m\u001b[0;34m\u001b[0m\u001b[0m\n\u001b[1;32m   8138\u001b[0m             \u001b[0morigin\u001b[0m\u001b[0;34m=\u001b[0m\u001b[0morigin\u001b[0m\u001b[0;34m,\u001b[0m\u001b[0;34m\u001b[0m\u001b[0;34m\u001b[0m\u001b[0m\n\u001b[0;32m-> 8139\u001b[0;31m             \u001b[0moffset\u001b[0m\u001b[0;34m=\u001b[0m\u001b[0moffset\u001b[0m\u001b[0;34m,\u001b[0m\u001b[0;34m\u001b[0m\u001b[0;34m\u001b[0m\u001b[0m\n\u001b[0m\u001b[1;32m   8140\u001b[0m         )\n\u001b[1;32m   8141\u001b[0m \u001b[0;34m\u001b[0m\u001b[0m\n",
            "\u001b[0;32m/usr/local/lib/python3.7/dist-packages/pandas/core/resample.py\u001b[0m in \u001b[0;36mget_resampler\u001b[0;34m(obj, kind, **kwds)\u001b[0m\n\u001b[1;32m   1380\u001b[0m     \"\"\"\n\u001b[1;32m   1381\u001b[0m     \u001b[0mtg\u001b[0m \u001b[0;34m=\u001b[0m \u001b[0mTimeGrouper\u001b[0m\u001b[0;34m(\u001b[0m\u001b[0;34m**\u001b[0m\u001b[0mkwds\u001b[0m\u001b[0;34m)\u001b[0m\u001b[0;34m\u001b[0m\u001b[0;34m\u001b[0m\u001b[0m\n\u001b[0;32m-> 1382\u001b[0;31m     \u001b[0;32mreturn\u001b[0m \u001b[0mtg\u001b[0m\u001b[0;34m.\u001b[0m\u001b[0m_get_resampler\u001b[0m\u001b[0;34m(\u001b[0m\u001b[0mobj\u001b[0m\u001b[0;34m,\u001b[0m \u001b[0mkind\u001b[0m\u001b[0;34m=\u001b[0m\u001b[0mkind\u001b[0m\u001b[0;34m)\u001b[0m\u001b[0;34m\u001b[0m\u001b[0;34m\u001b[0m\u001b[0m\n\u001b[0m\u001b[1;32m   1383\u001b[0m \u001b[0;34m\u001b[0m\u001b[0m\n\u001b[1;32m   1384\u001b[0m \u001b[0;34m\u001b[0m\u001b[0m\n",
            "\u001b[0;32m/usr/local/lib/python3.7/dist-packages/pandas/core/resample.py\u001b[0m in \u001b[0;36m_get_resampler\u001b[0;34m(self, obj, kind)\u001b[0m\n\u001b[1;32m   1546\u001b[0m \u001b[0;34m\u001b[0m\u001b[0m\n\u001b[1;32m   1547\u001b[0m         \"\"\"\n\u001b[0;32m-> 1548\u001b[0;31m         \u001b[0mself\u001b[0m\u001b[0;34m.\u001b[0m\u001b[0m_set_grouper\u001b[0m\u001b[0;34m(\u001b[0m\u001b[0mobj\u001b[0m\u001b[0;34m)\u001b[0m\u001b[0;34m\u001b[0m\u001b[0;34m\u001b[0m\u001b[0m\n\u001b[0m\u001b[1;32m   1549\u001b[0m \u001b[0;34m\u001b[0m\u001b[0m\n\u001b[1;32m   1550\u001b[0m         \u001b[0max\u001b[0m \u001b[0;34m=\u001b[0m \u001b[0mself\u001b[0m\u001b[0;34m.\u001b[0m\u001b[0max\u001b[0m\u001b[0;34m\u001b[0m\u001b[0;34m\u001b[0m\u001b[0m\n",
            "\u001b[0;32m/usr/local/lib/python3.7/dist-packages/pandas/core/groupby/grouper.py\u001b[0m in \u001b[0;36m_set_grouper\u001b[0;34m(self, obj, sort)\u001b[0m\n\u001b[1;32m    354\u001b[0m             \u001b[0mkey\u001b[0m \u001b[0;34m=\u001b[0m \u001b[0mself\u001b[0m\u001b[0;34m.\u001b[0m\u001b[0mkey\u001b[0m\u001b[0;34m\u001b[0m\u001b[0;34m\u001b[0m\u001b[0m\n\u001b[1;32m    355\u001b[0m             \u001b[0;31m# The 'on' is already defined\u001b[0m\u001b[0;34m\u001b[0m\u001b[0;34m\u001b[0m\u001b[0;34m\u001b[0m\u001b[0m\n\u001b[0;32m--> 356\u001b[0;31m             if getattr(self._gpr_index, \"name\", None) == key and isinstance(\n\u001b[0m\u001b[1;32m    357\u001b[0m                 \u001b[0mobj\u001b[0m\u001b[0;34m,\u001b[0m \u001b[0mSeries\u001b[0m\u001b[0;34m\u001b[0m\u001b[0;34m\u001b[0m\u001b[0m\n\u001b[1;32m    358\u001b[0m             ):\n",
            "\u001b[0;31mValueError\u001b[0m: The truth value of an array with more than one element is ambiguous. Use a.any() or a.all()"
          ]
        }
      ]
    },
    {
      "cell_type": "code",
      "source": [
        "pp.plot()"
      ],
      "metadata": {
        "colab": {
          "base_uri": "https://localhost:8080/",
          "height": 296
        },
        "id": "v3oR9simg4FB",
        "outputId": "5ac48d21-bd5d-4931-f20f-d09b54dc67c8"
      },
      "execution_count": 75,
      "outputs": [
        {
          "output_type": "execute_result",
          "data": {
            "text/plain": [
              "<matplotlib.axes._subplots.AxesSubplot at 0x7f3645b8fb90>"
            ]
          },
          "metadata": {},
          "execution_count": 75
        },
        {
          "output_type": "display_data",
          "data": {
            "text/plain": [
              "<Figure size 432x288 with 1 Axes>"
            ],
            "image/png": "[encoded data removed]"
          },
          "metadata": {
            "needs_background": "light"
          }
        }
      ]
    },
    {
      "cell_type": "code",
      "source": [
        "pp.head\n"
      ],
      "metadata": {
        "colab": {
          "base_uri": "https://localhost:8080/"
        },
        "id": "jorLiVjZ08rG",
        "outputId": "e148870e-9e79-44e3-e5d4-03360567559b"
      },
      "execution_count": 76,
      "outputs": [
        {
          "output_type": "execute_result",
          "data": {
            "text/plain": [
              "<bound method NDFrame.head of starttime1           gender\n",
              "2020-06-01 00:00:00  0          577\n",
              "2020-06-01 01:00:00  0          322\n",
              "2020-06-01 02:00:00  0          206\n",
              "2020-06-01 03:00:00  0          153\n",
              "2020-06-01 04:00:00  0          125\n",
              "                               ... \n",
              "2020-06-30 19:00:00  0         5856\n",
              "2020-06-30 20:00:00  0         4407\n",
              "2020-06-30 21:00:00  0         2809\n",
              "2020-06-30 22:00:00  0         1914\n",
              "2020-06-30 23:00:00  0         1364\n",
              "Name: gender, Length: 675, dtype: int64>"
            ]
          },
          "metadata": {},
          "execution_count": 76
        }
      ]
    },
    {
      "cell_type": "code",
      "source": [
        "pp['starttime1'] = pd.to_datetime(pp['starttime1'])"
      ],
      "metadata": {
        "colab": {
          "base_uri": "https://localhost:8080/",
          "height": 467
        },
        "id": "Yu0rixoqrLKv",
        "outputId": "2deb256e-23cf-4be5-a137-898844c94471"
      },
      "execution_count": 81,
      "outputs": [
        {
          "output_type": "error",
          "ename": "KeyError",
          "evalue": "ignored",
          "traceback": [
            "\u001b[0;31m---------------------------------------------------------------------------\u001b[0m",
            "\u001b[0;31mParserError\u001b[0m                               Traceback (most recent call last)",
            "\u001b[0;32m/usr/local/lib/python3.7/dist-packages/pandas/_libs/tslibs/conversion.pyx\u001b[0m in \u001b[0;36mpandas._libs.tslibs.conversion._convert_str_to_tsobject\u001b[0;34m()\u001b[0m\n",
            "\u001b[0;32m/usr/local/lib/python3.7/dist-packages/pandas/_libs/tslibs/parsing.pyx\u001b[0m in \u001b[0;36mpandas._libs.tslibs.parsing.parse_datetime_string\u001b[0;34m()\u001b[0m\n",
            "\u001b[0;32m/usr/local/lib/python3.7/dist-packages/dateutil/parser/_parser.py\u001b[0m in \u001b[0;36mparse\u001b[0;34m(timestr, parserinfo, **kwargs)\u001b[0m\n\u001b[1;32m   1367\u001b[0m     \u001b[0;32melse\u001b[0m\u001b[0;34m:\u001b[0m\u001b[0;34m\u001b[0m\u001b[0;34m\u001b[0m\u001b[0m\n\u001b[0;32m-> 1368\u001b[0;31m         \u001b[0;32mreturn\u001b[0m \u001b[0mDEFAULTPARSER\u001b[0m\u001b[0;34m.\u001b[0m\u001b[0mparse\u001b[0m\u001b[0;34m(\u001b[0m\u001b[0mtimestr\u001b[0m\u001b[0;34m,\u001b[0m \u001b[0;34m**\u001b[0m\u001b[0mkwargs\u001b[0m\u001b[0;34m)\u001b[0m\u001b[0;34m\u001b[0m\u001b[0;34m\u001b[0m\u001b[0m\n\u001b[0m\u001b[1;32m   1369\u001b[0m \u001b[0;34m\u001b[0m\u001b[0m\n",
            "\u001b[0;32m/usr/local/lib/python3.7/dist-packages/dateutil/parser/_parser.py\u001b[0m in \u001b[0;36mparse\u001b[0;34m(self, timestr, default, ignoretz, tzinfos, **kwargs)\u001b[0m\n\u001b[1;32m    642\u001b[0m         \u001b[0;32mif\u001b[0m \u001b[0mres\u001b[0m \u001b[0;32mis\u001b[0m \u001b[0;32mNone\u001b[0m\u001b[0;34m:\u001b[0m\u001b[0;34m\u001b[0m\u001b[0;34m\u001b[0m\u001b[0m\n\u001b[0;32m--> 643\u001b[0;31m             \u001b[0;32mraise\u001b[0m \u001b[0mParserError\u001b[0m\u001b[0;34m(\u001b[0m\u001b[0;34m\"Unknown string format: %s\"\u001b[0m\u001b[0;34m,\u001b[0m \u001b[0mtimestr\u001b[0m\u001b[0;34m)\u001b[0m\u001b[0;34m\u001b[0m\u001b[0;34m\u001b[0m\u001b[0m\n\u001b[0m\u001b[1;32m    644\u001b[0m \u001b[0;34m\u001b[0m\u001b[0m\n",
            "\u001b[0;31mParserError\u001b[0m: Unknown string format: starttime1",
            "\nDuring handling of the above exception, another exception occurred:\n",
            "\u001b[0;31mValueError\u001b[0m                                Traceback (most recent call last)",
            "\u001b[0;32m/usr/local/lib/python3.7/dist-packages/pandas/core/indexes/datetimes.py\u001b[0m in \u001b[0;36mget_loc\u001b[0;34m(self, key, method, tolerance)\u001b[0m\n\u001b[1;32m    680\u001b[0m             \u001b[0;32mtry\u001b[0m\u001b[0;34m:\u001b[0m\u001b[0;34m\u001b[0m\u001b[0;34m\u001b[0m\u001b[0m\n\u001b[0;32m--> 681\u001b[0;31m                 \u001b[0mkey\u001b[0m \u001b[0;34m=\u001b[0m \u001b[0mself\u001b[0m\u001b[0;34m.\u001b[0m\u001b[0m_maybe_cast_for_get_loc\u001b[0m\u001b[0;34m(\u001b[0m\u001b[0mkey\u001b[0m\u001b[0;34m)\u001b[0m\u001b[0;34m\u001b[0m\u001b[0;34m\u001b[0m\u001b[0m\n\u001b[0m\u001b[1;32m    682\u001b[0m             \u001b[0;32mexcept\u001b[0m \u001b[0mValueError\u001b[0m \u001b[0;32mas\u001b[0m \u001b[0merr\u001b[0m\u001b[0;34m:\u001b[0m\u001b[0;34m\u001b[0m\u001b[0;34m\u001b[0m\u001b[0m\n",
            "\u001b[0;32m/usr/local/lib/python3.7/dist-packages/pandas/core/indexes/datetimes.py\u001b[0m in \u001b[0;36m_maybe_cast_for_get_loc\u001b[0;34m(self, key)\u001b[0m\n\u001b[1;32m    708\u001b[0m         \u001b[0;31m# needed to localize naive datetimes or dates (GH 35690)\u001b[0m\u001b[0;34m\u001b[0m\u001b[0;34m\u001b[0m\u001b[0;34m\u001b[0m\u001b[0m\n\u001b[0;32m--> 709\u001b[0;31m         \u001b[0mkey\u001b[0m \u001b[0;34m=\u001b[0m \u001b[0mTimestamp\u001b[0m\u001b[0;34m(\u001b[0m\u001b[0mkey\u001b[0m\u001b[0;34m)\u001b[0m\u001b[0;34m\u001b[0m\u001b[0;34m\u001b[0m\u001b[0m\n\u001b[0m\u001b[1;32m    710\u001b[0m         \u001b[0;32mif\u001b[0m \u001b[0mkey\u001b[0m\u001b[0;34m.\u001b[0m\u001b[0mtzinfo\u001b[0m \u001b[0;32mis\u001b[0m \u001b[0;32mNone\u001b[0m\u001b[0;34m:\u001b[0m\u001b[0;34m\u001b[0m\u001b[0;34m\u001b[0m\u001b[0m\n",
            "\u001b[0;32m/usr/local/lib/python3.7/dist-packages/pandas/_libs/tslibs/timestamps.pyx\u001b[0m in \u001b[0;36mpandas._libs.tslibs.timestamps.Timestamp.__new__\u001b[0;34m()\u001b[0m\n",
            "\u001b[0;32m/usr/local/lib/python3.7/dist-packages/pandas/_libs/tslibs/conversion.pyx\u001b[0m in \u001b[0;36mpandas._libs.tslibs.conversion.convert_to_tsobject\u001b[0;34m()\u001b[0m\n",
            "\u001b[0;32m/usr/local/lib/python3.7/dist-packages/pandas/_libs/tslibs/conversion.pyx\u001b[0m in \u001b[0;36mpandas._libs.tslibs.conversion._convert_str_to_tsobject\u001b[0;34m()\u001b[0m\n",
            "\u001b[0;31mValueError\u001b[0m: could not convert string to Timestamp",
            "\nThe above exception was the direct cause of the following exception:\n",
            "\u001b[0;31mKeyError\u001b[0m                                  Traceback (most recent call last)",
            "\u001b[0;32m<ipython-input-81-d4ddd44aed5a>\u001b[0m in \u001b[0;36m<module>\u001b[0;34m\u001b[0m\n\u001b[0;32m----> 1\u001b[0;31m \u001b[0mpp\u001b[0m\u001b[0;34m[\u001b[0m\u001b[0;34m'starttime1'\u001b[0m\u001b[0;34m]\u001b[0m \u001b[0;34m=\u001b[0m \u001b[0mpd\u001b[0m\u001b[0;34m.\u001b[0m\u001b[0mto_datetime\u001b[0m\u001b[0;34m(\u001b[0m\u001b[0mpp\u001b[0m\u001b[0;34m[\u001b[0m\u001b[0;34m'starttime1'\u001b[0m\u001b[0;34m]\u001b[0m\u001b[0;34m)\u001b[0m\u001b[0;34m\u001b[0m\u001b[0;34m\u001b[0m\u001b[0m\n\u001b[0m",
            "\u001b[0;32m/usr/local/lib/python3.7/dist-packages/pandas/core/series.py\u001b[0m in \u001b[0;36m__getitem__\u001b[0;34m(self, key)\u001b[0m\n\u001b[1;32m    940\u001b[0m \u001b[0;34m\u001b[0m\u001b[0m\n\u001b[1;32m    941\u001b[0m         \u001b[0;32melif\u001b[0m \u001b[0mkey_is_scalar\u001b[0m\u001b[0;34m:\u001b[0m\u001b[0;34m\u001b[0m\u001b[0;34m\u001b[0m\u001b[0m\n\u001b[0;32m--> 942\u001b[0;31m             \u001b[0;32mreturn\u001b[0m \u001b[0mself\u001b[0m\u001b[0;34m.\u001b[0m\u001b[0m_get_value\u001b[0m\u001b[0;34m(\u001b[0m\u001b[0mkey\u001b[0m\u001b[0;34m)\u001b[0m\u001b[0;34m\u001b[0m\u001b[0;34m\u001b[0m\u001b[0m\n\u001b[0m\u001b[1;32m    943\u001b[0m \u001b[0;34m\u001b[0m\u001b[0m\n\u001b[1;32m    944\u001b[0m         \u001b[0;32mif\u001b[0m \u001b[0mis_hashable\u001b[0m\u001b[0;34m(\u001b[0m\u001b[0mkey\u001b[0m\u001b[0;34m)\u001b[0m\u001b[0;34m:\u001b[0m\u001b[0;34m\u001b[0m\u001b[0;34m\u001b[0m\u001b[0m\n",
            "\u001b[0;32m/usr/local/lib/python3.7/dist-packages/pandas/core/series.py\u001b[0m in \u001b[0;36m_get_value\u001b[0;34m(self, label, takeable)\u001b[0m\n\u001b[1;32m   1049\u001b[0m \u001b[0;34m\u001b[0m\u001b[0m\n\u001b[1;32m   1050\u001b[0m         \u001b[0;31m# Similar to Index.get_value, but we do not fall back to positional\u001b[0m\u001b[0;34m\u001b[0m\u001b[0;34m\u001b[0m\u001b[0;34m\u001b[0m\u001b[0m\n\u001b[0;32m-> 1051\u001b[0;31m         \u001b[0mloc\u001b[0m \u001b[0;34m=\u001b[0m \u001b[0mself\u001b[0m\u001b[0;34m.\u001b[0m\u001b[0mindex\u001b[0m\u001b[0;34m.\u001b[0m\u001b[0mget_loc\u001b[0m\u001b[0;34m(\u001b[0m\u001b[0mlabel\u001b[0m\u001b[0;34m)\u001b[0m\u001b[0;34m\u001b[0m\u001b[0;34m\u001b[0m\u001b[0m\n\u001b[0m\u001b[1;32m   1052\u001b[0m         \u001b[0;32mreturn\u001b[0m \u001b[0mself\u001b[0m\u001b[0;34m.\u001b[0m\u001b[0mindex\u001b[0m\u001b[0;34m.\u001b[0m\u001b[0m_get_values_for_loc\u001b[0m\u001b[0;34m(\u001b[0m\u001b[0mself\u001b[0m\u001b[0;34m,\u001b[0m \u001b[0mloc\u001b[0m\u001b[0;34m,\u001b[0m \u001b[0mlabel\u001b[0m\u001b[0;34m)\u001b[0m\u001b[0;34m\u001b[0m\u001b[0;34m\u001b[0m\u001b[0m\n\u001b[1;32m   1053\u001b[0m \u001b[0;34m\u001b[0m\u001b[0m\n",
            "\u001b[0;32m/usr/local/lib/python3.7/dist-packages/pandas/core/indexes/multi.py\u001b[0m in \u001b[0;36mget_loc\u001b[0;34m(self, key, method)\u001b[0m\n\u001b[1;32m   2920\u001b[0m \u001b[0;34m\u001b[0m\u001b[0m\n\u001b[1;32m   2921\u001b[0m         \u001b[0;32mif\u001b[0m \u001b[0;32mnot\u001b[0m \u001b[0misinstance\u001b[0m\u001b[0;34m(\u001b[0m\u001b[0mkey\u001b[0m\u001b[0;34m,\u001b[0m \u001b[0mtuple\u001b[0m\u001b[0;34m)\u001b[0m\u001b[0;34m:\u001b[0m\u001b[0;34m\u001b[0m\u001b[0;34m\u001b[0m\u001b[0m\n\u001b[0;32m-> 2922\u001b[0;31m             \u001b[0mloc\u001b[0m \u001b[0;34m=\u001b[0m \u001b[0mself\u001b[0m\u001b[0;34m.\u001b[0m\u001b[0m_get_level_indexer\u001b[0m\u001b[0;34m(\u001b[0m\u001b[0mkey\u001b[0m\u001b[0;34m,\u001b[0m \u001b[0mlevel\u001b[0m\u001b[0;34m=\u001b[0m\u001b[0;36m0\u001b[0m\u001b[0;34m)\u001b[0m\u001b[0;34m\u001b[0m\u001b[0;34m\u001b[0m\u001b[0m\n\u001b[0m\u001b[1;32m   2923\u001b[0m             \u001b[0;32mreturn\u001b[0m \u001b[0m_maybe_to_slice\u001b[0m\u001b[0;34m(\u001b[0m\u001b[0mloc\u001b[0m\u001b[0;34m)\u001b[0m\u001b[0;34m\u001b[0m\u001b[0;34m\u001b[0m\u001b[0m\n\u001b[1;32m   2924\u001b[0m \u001b[0;34m\u001b[0m\u001b[0m\n",
            "\u001b[0;32m/usr/local/lib/python3.7/dist-packages/pandas/core/indexes/multi.py\u001b[0m in \u001b[0;36m_get_level_indexer\u001b[0;34m(self, key, level, indexer)\u001b[0m\n\u001b[1;32m   3202\u001b[0m         \u001b[0;32melse\u001b[0m\u001b[0;34m:\u001b[0m\u001b[0;34m\u001b[0m\u001b[0;34m\u001b[0m\u001b[0m\n\u001b[1;32m   3203\u001b[0m \u001b[0;34m\u001b[0m\u001b[0m\n\u001b[0;32m-> 3204\u001b[0;31m             \u001b[0midx\u001b[0m \u001b[0;34m=\u001b[0m \u001b[0mself\u001b[0m\u001b[0;34m.\u001b[0m\u001b[0m_get_loc_single_level_index\u001b[0m\u001b[0;34m(\u001b[0m\u001b[0mlevel_index\u001b[0m\u001b[0;34m,\u001b[0m \u001b[0mkey\u001b[0m\u001b[0;34m)\u001b[0m\u001b[0;34m\u001b[0m\u001b[0;34m\u001b[0m\u001b[0m\n\u001b[0m\u001b[1;32m   3205\u001b[0m \u001b[0;34m\u001b[0m\u001b[0m\n\u001b[1;32m   3206\u001b[0m             \u001b[0;32mif\u001b[0m \u001b[0mlevel\u001b[0m \u001b[0;34m>\u001b[0m \u001b[0;36m0\u001b[0m \u001b[0;32mor\u001b[0m \u001b[0mself\u001b[0m\u001b[0;34m.\u001b[0m\u001b[0m_lexsort_depth\u001b[0m \u001b[0;34m==\u001b[0m \u001b[0;36m0\u001b[0m\u001b[0;34m:\u001b[0m\u001b[0;34m\u001b[0m\u001b[0;34m\u001b[0m\u001b[0m\n",
            "\u001b[0;32m/usr/local/lib/python3.7/dist-packages/pandas/core/indexes/multi.py\u001b[0m in \u001b[0;36m_get_loc_single_level_index\u001b[0;34m(self, level_index, key)\u001b[0m\n\u001b[1;32m   2853\u001b[0m             \u001b[0;32mreturn\u001b[0m \u001b[0;34m-\u001b[0m\u001b[0;36m1\u001b[0m\u001b[0;34m\u001b[0m\u001b[0;34m\u001b[0m\u001b[0m\n\u001b[1;32m   2854\u001b[0m         \u001b[0;32melse\u001b[0m\u001b[0;34m:\u001b[0m\u001b[0;34m\u001b[0m\u001b[0;34m\u001b[0m\u001b[0m\n\u001b[0;32m-> 2855\u001b[0;31m             \u001b[0;32mreturn\u001b[0m \u001b[0mlevel_index\u001b[0m\u001b[0;34m.\u001b[0m\u001b[0mget_loc\u001b[0m\u001b[0;34m(\u001b[0m\u001b[0mkey\u001b[0m\u001b[0;34m)\u001b[0m\u001b[0;34m\u001b[0m\u001b[0;34m\u001b[0m\u001b[0m\n\u001b[0m\u001b[1;32m   2856\u001b[0m \u001b[0;34m\u001b[0m\u001b[0m\n\u001b[1;32m   2857\u001b[0m     \u001b[0;32mdef\u001b[0m \u001b[0mget_loc\u001b[0m\u001b[0;34m(\u001b[0m\u001b[0mself\u001b[0m\u001b[0;34m,\u001b[0m \u001b[0mkey\u001b[0m\u001b[0;34m,\u001b[0m \u001b[0mmethod\u001b[0m\u001b[0;34m=\u001b[0m\u001b[0;32mNone\u001b[0m\u001b[0;34m)\u001b[0m\u001b[0;34m:\u001b[0m\u001b[0;34m\u001b[0m\u001b[0;34m\u001b[0m\u001b[0m\n",
            "\u001b[0;32m/usr/local/lib/python3.7/dist-packages/pandas/core/indexes/datetimes.py\u001b[0m in \u001b[0;36mget_loc\u001b[0;34m(self, key, method, tolerance)\u001b[0m\n\u001b[1;32m    681\u001b[0m                 \u001b[0mkey\u001b[0m \u001b[0;34m=\u001b[0m \u001b[0mself\u001b[0m\u001b[0;34m.\u001b[0m\u001b[0m_maybe_cast_for_get_loc\u001b[0m\u001b[0;34m(\u001b[0m\u001b[0mkey\u001b[0m\u001b[0;34m)\u001b[0m\u001b[0;34m\u001b[0m\u001b[0;34m\u001b[0m\u001b[0m\n\u001b[1;32m    682\u001b[0m             \u001b[0;32mexcept\u001b[0m \u001b[0mValueError\u001b[0m \u001b[0;32mas\u001b[0m \u001b[0merr\u001b[0m\u001b[0;34m:\u001b[0m\u001b[0;34m\u001b[0m\u001b[0;34m\u001b[0m\u001b[0m\n\u001b[0;32m--> 683\u001b[0;31m                 \u001b[0;32mraise\u001b[0m \u001b[0mKeyError\u001b[0m\u001b[0;34m(\u001b[0m\u001b[0mkey\u001b[0m\u001b[0;34m)\u001b[0m \u001b[0;32mfrom\u001b[0m \u001b[0merr\u001b[0m\u001b[0;34m\u001b[0m\u001b[0;34m\u001b[0m\u001b[0m\n\u001b[0m\u001b[1;32m    684\u001b[0m \u001b[0;34m\u001b[0m\u001b[0m\n\u001b[1;32m    685\u001b[0m         \u001b[0;32melif\u001b[0m \u001b[0misinstance\u001b[0m\u001b[0;34m(\u001b[0m\u001b[0mkey\u001b[0m\u001b[0;34m,\u001b[0m \u001b[0mtimedelta\u001b[0m\u001b[0;34m)\u001b[0m\u001b[0;34m:\u001b[0m\u001b[0;34m\u001b[0m\u001b[0;34m\u001b[0m\u001b[0m\n",
            "\u001b[0;31mKeyError\u001b[0m: 'starttime1'"
          ]
        }
      ]
    }
  ],
  "metadata": {
    "kernelspec": {
      "display_name": "Python 3",
      "language": "python",
      "name": "python3"
    },
    "language_info": {
      "codemirror_mode": {
        "name": "ipython",
        "version": 3
      },
      "file_extension": ".py",
      "mimetype": "text/x-python",
      "name": "python",
      "nbconvert_exporter": "python",
      "pygments_lexer": "ipython3",
      "version": "3.5.2"
    },
    "toc": {
      "nav_menu": {},
      "number_sections": true,
      "sideBar": true,
      "skip_h1_title": false,
      "toc_cell": false,
      "toc_position": {},
      "toc_section_display": "block",
      "toc_window_display": false
    },
    "varInspector": {
      "cols": {
        "lenName": 16,
        "lenType": 16,
        "lenVar": 40
      },
      "kernels_config": {
        "python": {
          "delete_cmd_postfix": "",
          "delete_cmd_prefix": "del ",
          "library": "var_list.py",
          "varRefreshCmd": "print(var_dic_list())"
        },
        "r": {
          "delete_cmd_postfix": ") ",
          "delete_cmd_prefix": "rm(",
          "library": "var_list.r",
          "varRefreshCmd": "cat(var_dic_list()) "
        }
      },
      "types_to_exclude": [
        "module",
        "function",
        "builtin_function_or_method",
        "instance",
        "_Feature"
      ],
      "window_display": false
    },
    "colab": {
      "provenance": [],
      "include_colab_link": true
    }
  },
  "nbformat": 4,
  "nbformat_minor": 0
}