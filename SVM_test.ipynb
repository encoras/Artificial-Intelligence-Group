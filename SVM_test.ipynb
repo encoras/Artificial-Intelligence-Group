{
  "nbformat": 4,
  "nbformat_minor": 0,
  "metadata": {
    "colab": {
      "provenance": [],
      "authorship_tag": "ABX9TyPrt8Zi/Vt51jwAOs9hute6",
      "include_colab_link": true
    },
    "kernelspec": {
      "name": "python3",
      "display_name": "Python 3"
    },
    "language_info": {
      "name": "python"
    }
  },
  "cells": [
    {
      "cell_type": "markdown",
      "metadata": {
        "id": "view-in-github",
        "colab_type": "text"
      },
      "source": [
        "<a href=\"https://colab.research.google.com/github/encoras/Artificial-Intelligence-Group/blob/master/SVM_test.ipynb\" target=\"_parent\"><img src=\"https://colab.research.google.com/assets/colab-badge.svg\" alt=\"Open In Colab\"/></a>"
      ]
    },
    {
      "cell_type": "markdown",
      "source": [
        "The code is adopted from:\n",
        "\n",
        "\n",
        "https://www.datacamp.com/tutorial/svm-classification-scikit-learn-python\n",
        "\n",
        "\n"
      ],
      "metadata": {
        "id": "tSKRJ8-hO6WY"
      }
    },
    {
      "cell_type": "code",
      "execution_count": 1,
      "metadata": {
        "colab": {
          "base_uri": "https://localhost:8080/",
          "height": 300
        },
        "id": "cyqgWif0Fvxh",
        "outputId": "e598b70d-5c02-4d82-a207-4175975181e0"
      },
      "outputs": [
        {
          "output_type": "stream",
          "name": "stderr",
          "text": [
            "/usr/local/lib/python3.7/dist-packages/sklearn/svm/_base.py:1208: ConvergenceWarning: Liblinear failed to converge, increase the number of iterations.\n",
            "  ConvergenceWarning,\n"
          ]
        },
        {
          "output_type": "display_data",
          "data": {
            "text/plain": [
              "<Figure size 432x288 with 1 Axes>"
            ],
            "image/png": "[encoded data removed]"
          },
          "metadata": {
            "needs_background": "light"
          }
        }
      ],
      "source": [
        "import numpy as np\n",
        "import pylab as pl\n",
        "from sklearn import svm, datasets\n",
        "\n",
        "# import some data to play with\n",
        "iris = datasets.load_iris()\n",
        "X = iris.data[:, 2:]  # we only take the first two features. We could\n",
        "                      # avoid this ugly slicing by using a two-dim dataset\n",
        "Y = iris.target\n",
        "\n",
        "\n",
        "\n",
        "# we create an instance of SVM and fit out data. We do not scale our\n",
        "# data since we want to plot the support vectors\n",
        "C = 100  # SVM regularization parameter\n",
        "svc = svm.SVC(random_state=123, kernel='linear', C=C).fit(X, Y)\n",
        "rbf_svc = svm.SVC(random_state=123, kernel='rbf', gamma=0.7, C=C).fit(X, Y)\n",
        "poly_svc = svm.SVC(random_state=123,kernel='poly', degree=3, C=C).fit(X, Y)\n",
        "lin_svc = svm.LinearSVC(random_state=123,C=C).fit(X, Y)\n",
        "\n",
        "    # Plot also the training points\n",
        "pl.scatter(X[:, 0], X[:, 1], c=Y)\n",
        "\n",
        "pl.show()\n"
      ]
    },
    {
      "cell_type": "code",
      "source": [
        "\n",
        "# Let's plot 2D mesh grid with division hiperplanes\n",
        "h = .02  # step size in the mesh\n",
        "\n",
        "# create a mesh to plot in\n",
        "x_min, x_max = X[:, 0].min() - 1, X[:, 0].max() + 1\n",
        "y_min, y_max = X[:, 1].min() - 1, X[:, 1].max() + 1\n",
        "xx, yy = np.meshgrid(np.arange(x_min, x_max, h),\n",
        "                     np.arange(y_min, y_max, h))\n",
        "# title for the plots\n",
        "titles = ['SVC with linear kernel',\n",
        "          'SVC with RBF kernel',\n",
        "          'SVC with polynomial (degree 3) kernel',\n",
        "          'LinearSVC (linear kernel)']\n",
        "\n",
        "\n",
        "pl.set_cmap(pl.cm.Paired)\n",
        "\n",
        "for i, clf in enumerate((svc, rbf_svc, poly_svc, lin_svc)):\n",
        "    # Plot the decision boundary. For that, we will asign a color to each\n",
        "    # point in the mesh [x_min, m_max]x[y_min, y_max].\n",
        "    pl.subplot(2, 2, i + 1)\n",
        "    Z = clf.predict(np.c_[xx.ravel(), yy.ravel()])\n",
        "\n",
        "    # Put the result into a color plot\n",
        "    Z = Z.reshape(xx.shape)\n",
        "    pl.set_cmap(pl.cm.Paired)\n",
        "    pl.contourf(xx, yy, Z)\n",
        "    pl.axis('off')\n",
        "\n",
        "    # Plot also the training points\n",
        "    pl.scatter(X[:, 0], X[:, 1], c=[0,0,0])\n",
        "\n",
        "    pl.title(titles[i])\n",
        "\n",
        "pl.show()"
      ],
      "metadata": {
        "colab": {
          "base_uri": "https://localhost:8080/",
          "height": 353
        },
        "id": "S7fadqcjG5Al",
        "outputId": "c2f7b156-232f-48fb-a32f-417f2cc911a7"
      },
      "execution_count": 2,
      "outputs": [
        {
          "output_type": "stream",
          "name": "stderr",
          "text": [
            "WARNING:matplotlib.axes._axes:*c* argument looks like a single numeric RGB or RGBA sequence, which should be avoided as value-mapping will have precedence in case its length matches with *x* & *y*.  Please use the *color* keyword-argument or provide a 2-D array with a single row if you intend to specify the same RGB or RGBA value for all points.\n",
            "WARNING:matplotlib.axes._axes:*c* argument looks like a single numeric RGB or RGBA sequence, which should be avoided as value-mapping will have precedence in case its length matches with *x* & *y*.  Please use the *color* keyword-argument or provide a 2-D array with a single row if you intend to specify the same RGB or RGBA value for all points.\n",
            "WARNING:matplotlib.axes._axes:*c* argument looks like a single numeric RGB or RGBA sequence, which should be avoided as value-mapping will have precedence in case its length matches with *x* & *y*.  Please use the *color* keyword-argument or provide a 2-D array with a single row if you intend to specify the same RGB or RGBA value for all points.\n",
            "WARNING:matplotlib.axes._axes:*c* argument looks like a single numeric RGB or RGBA sequence, which should be avoided as value-mapping will have precedence in case its length matches with *x* & *y*.  Please use the *color* keyword-argument or provide a 2-D array with a single row if you intend to specify the same RGB or RGBA value for all points.\n"
          ]
        },
        {
          "output_type": "display_data",
          "data": {
            "text/plain": [
              "<Figure size 432x288 with 4 Axes>"
            ],
            "image/png": "[encoded data removed]"
          },
          "metadata": {
            "needs_background": "light"
          }
        }
      ]
    },
    {
      "cell_type": "markdown",
      "source": [
        "Let's do a correct classification\n"
      ],
      "metadata": {
        "id": "MSPdR2hbKc1-"
      }
    },
    {
      "cell_type": "code",
      "source": [
        "from  sklearn import datasets\n",
        "from sklearn.model_selection import train_test_split\n",
        "from sklearn import metrics\n",
        "from matplotlib import pyplot as plt"
      ],
      "metadata": {
        "id": "yvqM5297KhBV"
      },
      "execution_count": 3,
      "outputs": []
    },
    {
      "cell_type": "code",
      "source": [
        "# Load IRIS\n",
        "X, y = datasets.load_breast_cancer(return_X_y=True)"
      ],
      "metadata": {
        "id": "eHLh6V2eK6Z4"
      },
      "execution_count": 4,
      "outputs": []
    },
    {
      "cell_type": "code",
      "source": [
        "X_temp, X_test, y_temp, y_test = train_test_split(X, y, test_size=0.4, random_state=1, shuffle=True, stratify=y)\n",
        "X_train, X_valid, y_train, y_valid = train_test_split(X_temp, y_temp, test_size=0.1, random_state=10, shuffle=True, stratify=y_temp)"
      ],
      "metadata": {
        "id": "4s15CsOzK8yo"
      },
      "execution_count": 5,
      "outputs": []
    },
    {
      "cell_type": "code",
      "source": [
        "C = 10  # SVM regularization parameter\n",
        "svc = svm.SVC(random_state=123, kernel='linear', C=C).fit(X_train, y_train)\n",
        "rbf_svc = svm.SVC(random_state=123, kernel='rbf', gamma=0.7, C=C).fit(X_train, y_train)\n",
        "poly_svc = svm.SVC(random_state=123,kernel='poly', degree=3, C=C).fit(X_train, y_train)\n",
        "lin_svc = svm.LinearSVC(random_state=123,C=C).fit(X_train, y_train)"
      ],
      "metadata": {
        "id": "Z1eYp-yrLGC3",
        "colab": {
          "base_uri": "https://localhost:8080/"
        },
        "outputId": "d21ce436-be65-41f6-e510-bc08cbaa3e60"
      },
      "execution_count": 6,
      "outputs": [
        {
          "output_type": "stream",
          "name": "stderr",
          "text": [
            "/usr/local/lib/python3.7/dist-packages/sklearn/svm/_base.py:1208: ConvergenceWarning: Liblinear failed to converge, increase the number of iterations.\n",
            "  ConvergenceWarning,\n"
          ]
        }
      ]
    },
    {
      "cell_type": "code",
      "source": [],
      "metadata": {
        "id": "4h2fjn3JNhIs"
      },
      "execution_count": 6,
      "outputs": []
    },
    {
      "cell_type": "code",
      "source": [
        "#svc test\n",
        "y_pred = svc.predict(X_test)\n",
        "scores_svc=metrics.accuracy_score(y_test,y_pred)\n",
        "\n",
        "#rbf test\n",
        "y_pred = rbf_svc.predict(X_test)\n",
        "scores_rbf_svc=metrics.accuracy_score(y_test,y_pred)\n",
        "\n",
        "#poly test\n",
        "y_pred = poly_svc.predict(X_test)\n",
        "scores_poly_svc=metrics.accuracy_score(y_test,y_pred)\n",
        "\n",
        "#lin test\n",
        "y_pred = lin_svc.predict(X_test)\n",
        "scores_lin_svc=metrics.accuracy_score(y_test,y_pred)\n",
        "\n",
        "print('SVC = ', scores_svc, \";  RBF = \", scores_rbf_svc, \"; POLY = \", scores_poly_svc, \"; LIN = \", scores_lin_svc, )\n"
      ],
      "metadata": {
        "colab": {
          "base_uri": "https://localhost:8080/"
        },
        "id": "f_nYyrPFLtLX",
        "outputId": "822bd6b1-08bc-4e5a-bae1-be63942c7ff6"
      },
      "execution_count": 7,
      "outputs": [
        {
          "output_type": "stream",
          "name": "stdout",
          "text": [
            "SVC =  0.9692982456140351 ;  RBF =  0.6271929824561403 ; POLY =  0.9342105263157895 ; LIN =  0.8377192982456141\n"
          ]
        }
      ]
    },
    {
      "cell_type": "markdown",
      "source": [
        "What is the influence of space scaling?"
      ],
      "metadata": {
        "id": "10XsA_IfNIil"
      }
    },
    {
      "cell_type": "code",
      "source": [
        "from sklearn.preprocessing import StandardScaler\n",
        "scaler = StandardScaler()\n",
        "scaler.fit(X_train)\n",
        "X_train_std=scaler.transform(X_train)\n",
        "X_test_std=scaler.transform(X_test)\n",
        "X_valid_std=scaler.transform(X_valid)\n",
        "\n",
        "from sklearn.preprocessing import MinMaxScaler\n",
        "scaler = MinMaxScaler()\n",
        "scaler.fit(X_train)\n",
        "X_train_mm=scaler.transform(X_train)\n",
        "X_test_mm=scaler.transform(X_test)\n",
        "X_valid_mm=scaler.transform(X_valid)"
      ],
      "metadata": {
        "id": "kM9pMsZUNN6r"
      },
      "execution_count": 8,
      "outputs": []
    },
    {
      "cell_type": "code",
      "source": [
        "C = 100  # SVM regularization parameter\n",
        "svc = svm.SVC(random_state=123, kernel='linear', C=C).fit(X_train_mm, y_train)\n",
        "rbf_svc = svm.SVC(random_state=123, kernel='rbf', gamma=0.7, C=C).fit(X_train_mm, y_train)\n",
        "poly_svc = svm.SVC(random_state=123,kernel='poly', degree=3, C=C).fit(X_train_mm, y_train)\n",
        "lin_svc = svm.LinearSVC(random_state=123,C=C).fit(X_train_mm, y_train)\n",
        "#svc test\n",
        "y_pred = svc.predict(X_test_mm)\n",
        "scores_svc=metrics.accuracy_score(y_test,y_pred)\n",
        "\n",
        "#rbf test\n",
        "y_pred = rbf_svc.predict(X_test_mm)\n",
        "scores_rbf_svc=metrics.accuracy_score(y_test,y_pred)\n",
        "\n",
        "#poly test\n",
        "y_pred = poly_svc.predict(X_test_mm)\n",
        "scores_poly_svc=metrics.accuracy_score(y_test,y_pred)\n",
        "\n",
        "#lin test\n",
        "y_pred = lin_svc.predict(X_test_mm)\n",
        "scores_lin_svc=metrics.accuracy_score(y_test,y_pred)\n",
        "\n",
        "print('SVC_mm = ', scores_svc, \";  RBF_mm = \", scores_rbf_svc, \"; POLY_mm = \", scores_poly_svc, \"; LIN_mm = \", scores_lin_svc, )"
      ],
      "metadata": {
        "colab": {
          "base_uri": "https://localhost:8080/"
        },
        "id": "voYL-YEjNh7d",
        "outputId": "aa7d48f0-648d-440c-b785-ffec197da9be"
      },
      "execution_count": 9,
      "outputs": [
        {
          "output_type": "stream",
          "name": "stdout",
          "text": [
            "SVC_mm =  0.9517543859649122 ;  RBF_mm =  0.9517543859649122 ; POLY_mm =  0.9429824561403509 ; LIN_mm =  0.9517543859649122\n"
          ]
        },
        {
          "output_type": "stream",
          "name": "stderr",
          "text": [
            "/usr/local/lib/python3.7/dist-packages/sklearn/svm/_base.py:1208: ConvergenceWarning: Liblinear failed to converge, increase the number of iterations.\n",
            "  ConvergenceWarning,\n"
          ]
        }
      ]
    },
    {
      "cell_type": "code",
      "source": [
        "C = 100  # SVM regularization parameter\n",
        "svc = svm.SVC(random_state=123, kernel='linear', C=C).fit(X_train_std, y_train)\n",
        "rbf_svc = svm.SVC(random_state=123, kernel='rbf', gamma=0.7, C=C).fit(X_train_std, y_train)\n",
        "poly_svc = svm.SVC(random_state=123,kernel='poly', degree=3, C=C).fit(X_train_std, y_train)\n",
        "lin_svc = svm.LinearSVC(random_state=123,C=C).fit(X_train_std, y_train)\n",
        "#svc test\n",
        "y_pred = svc.predict(X_test_std)\n",
        "scores_svc=metrics.accuracy_score(y_test,y_pred)\n",
        "\n",
        "#rbf test\n",
        "y_pred = rbf_svc.predict(X_test_std)\n",
        "scores_rbf_svc=metrics.accuracy_score(y_test,y_pred)\n",
        "\n",
        "#poly test\n",
        "y_pred = poly_svc.predict(X_test_std)\n",
        "scores_poly_svc=metrics.accuracy_score(y_test,y_pred)\n",
        "\n",
        "#lin test\n",
        "y_pred = lin_svc.predict(X_test_std)\n",
        "scores_lin_svc=metrics.accuracy_score(y_test,y_pred)\n",
        "\n",
        "print('SVC_std = ', scores_svc, \";  RBF_std = \", scores_rbf_svc, \"; POLY_std = \", scores_poly_svc, \"; LIN_std = \", scores_lin_svc, )"
      ],
      "metadata": {
        "colab": {
          "base_uri": "https://localhost:8080/"
        },
        "id": "HlaR-m0yNx6s",
        "outputId": "5caf75ea-2711-4a37-a51d-9cbb5e508a30"
      },
      "execution_count": 10,
      "outputs": [
        {
          "output_type": "stream",
          "name": "stdout",
          "text": [
            "SVC_std =  0.956140350877193 ;  RBF_std =  0.6710526315789473 ; POLY_std =  0.9649122807017544 ; LIN_std =  0.956140350877193\n"
          ]
        },
        {
          "output_type": "stream",
          "name": "stderr",
          "text": [
            "/usr/local/lib/python3.7/dist-packages/sklearn/svm/_base.py:1208: ConvergenceWarning: Liblinear failed to converge, increase the number of iterations.\n",
            "  ConvergenceWarning,\n"
          ]
        }
      ]
    },
    {
      "cell_type": "markdown",
      "source": [
        "**Advantages**\n",
        "SVM Classifiers offer good accuracy and perform faster prediction compared to Naïve Bayes algorithm. They also use less memory because they use a subset of training points in the decision phase. SVM works well with a clear margin of separation and with high dimensional space.\n",
        "\n",
        "\n",
        "\n",
        "**Disadvantages**\n",
        "SVM is not suitable for large datasets because of its high training time and it also takes more time in training compared to Naïve Bayes. It works poorly with overlapping classes and is also sensitive to the type of kernel used."
      ],
      "metadata": {
        "id": "GZn1d3AbOqab"
      }
    },
    {
      "cell_type": "code",
      "source": [
        "from sklearn.model_selection import GridSearchCV\n",
        "  \n",
        "# defining parameter range\n",
        "param_grid = {'C': [0.1, 1, 10, 100, 1000], \n",
        "              'gamma': [1, 0.1, 0.01, 0.001, 0.0001],\n",
        "              'kernel': ['rbf', 'poly', 'sigmoid']} \n",
        "  \n",
        "grid = GridSearchCV(svm.SVC(), param_grid, refit = True, verbose = 3)\n",
        "  \n",
        "# fitting the model for grid search\n",
        "grid.fit(X_train, y_train)"
      ],
      "metadata": {
        "id": "OEDhzheXOttI",
        "colab": {
          "base_uri": "https://localhost:8080/"
        },
        "outputId": "3da1cf8a-7b0f-4166-8dcf-ce829375012c"
      },
      "execution_count": 14,
      "outputs": [
        {
          "output_type": "stream",
          "name": "stdout",
          "text": [
            "Fitting 5 folds for each of 75 candidates, totalling 375 fits\n",
            "[CV 1/5] END ........C=0.1, gamma=1, kernel=rbf;, score=0.629 total time=   0.0s\n",
            "[CV 2/5] END ........C=0.1, gamma=1, kernel=rbf;, score=0.639 total time=   0.0s\n",
            "[CV 3/5] END ........C=0.1, gamma=1, kernel=rbf;, score=0.623 total time=   0.0s\n",
            "[CV 4/5] END ........C=0.1, gamma=1, kernel=rbf;, score=0.623 total time=   0.0s\n",
            "[CV 5/5] END ........C=0.1, gamma=1, kernel=rbf;, score=0.623 total time=   0.0s\n",
            "[CV 1/5] END .......C=0.1, gamma=1, kernel=poly;, score=0.968 total time=   2.7s\n",
            "[CV 2/5] END .......C=0.1, gamma=1, kernel=poly;, score=0.902 total time=   1.3s\n",
            "[CV 3/5] END .......C=0.1, gamma=1, kernel=poly;, score=0.951 total time=   5.7s\n",
            "[CV 4/5] END .......C=0.1, gamma=1, kernel=poly;, score=0.951 total time=   1.1s\n",
            "[CV 5/5] END .......C=0.1, gamma=1, kernel=poly;, score=0.934 total time=   7.6s\n",
            "[CV 1/5] END ....C=0.1, gamma=1, kernel=sigmoid;, score=0.629 total time=   0.0s\n",
            "[CV 2/5] END ....C=0.1, gamma=1, kernel=sigmoid;, score=0.639 total time=   0.0s\n",
            "[CV 3/5] END ....C=0.1, gamma=1, kernel=sigmoid;, score=0.623 total time=   0.0s\n",
            "[CV 4/5] END ....C=0.1, gamma=1, kernel=sigmoid;, score=0.623 total time=   0.0s\n",
            "[CV 5/5] END ....C=0.1, gamma=1, kernel=sigmoid;, score=0.623 total time=   0.0s\n",
            "[CV 1/5] END ......C=0.1, gamma=0.1, kernel=rbf;, score=0.629 total time=   0.0s\n",
            "[CV 2/5] END ......C=0.1, gamma=0.1, kernel=rbf;, score=0.639 total time=   0.0s\n",
            "[CV 3/5] END ......C=0.1, gamma=0.1, kernel=rbf;, score=0.623 total time=   0.0s\n",
            "[CV 4/5] END ......C=0.1, gamma=0.1, kernel=rbf;, score=0.623 total time=   0.0s\n",
            "[CV 5/5] END ......C=0.1, gamma=0.1, kernel=rbf;, score=0.623 total time=   0.0s\n",
            "[CV 1/5] END .....C=0.1, gamma=0.1, kernel=poly;, score=0.952 total time=   2.7s\n",
            "[CV 2/5] END .....C=0.1, gamma=0.1, kernel=poly;, score=0.918 total time=   1.6s\n",
            "[CV 3/5] END .....C=0.1, gamma=0.1, kernel=poly;, score=0.967 total time=   3.7s\n",
            "[CV 4/5] END .....C=0.1, gamma=0.1, kernel=poly;, score=0.967 total time=   1.4s\n",
            "[CV 5/5] END .....C=0.1, gamma=0.1, kernel=poly;, score=0.951 total time=   2.8s\n",
            "[CV 1/5] END ..C=0.1, gamma=0.1, kernel=sigmoid;, score=0.629 total time=   0.0s\n",
            "[CV 2/5] END ..C=0.1, gamma=0.1, kernel=sigmoid;, score=0.639 total time=   0.0s\n",
            "[CV 3/5] END ..C=0.1, gamma=0.1, kernel=sigmoid;, score=0.623 total time=   0.0s\n",
            "[CV 4/5] END ..C=0.1, gamma=0.1, kernel=sigmoid;, score=0.623 total time=   0.0s\n",
            "[CV 5/5] END ..C=0.1, gamma=0.1, kernel=sigmoid;, score=0.623 total time=   0.0s\n",
            "[CV 1/5] END .....C=0.1, gamma=0.01, kernel=rbf;, score=0.629 total time=   0.0s\n",
            "[CV 2/5] END .....C=0.1, gamma=0.01, kernel=rbf;, score=0.639 total time=   0.0s\n",
            "[CV 3/5] END .....C=0.1, gamma=0.01, kernel=rbf;, score=0.623 total time=   0.0s\n",
            "[CV 4/5] END .....C=0.1, gamma=0.01, kernel=rbf;, score=0.623 total time=   0.0s\n",
            "[CV 5/5] END .....C=0.1, gamma=0.01, kernel=rbf;, score=0.623 total time=   0.0s\n",
            "[CV 1/5] END ....C=0.1, gamma=0.01, kernel=poly;, score=0.968 total time=   1.8s\n",
            "[CV 2/5] END ....C=0.1, gamma=0.01, kernel=poly;, score=0.902 total time=   0.6s\n",
            "[CV 3/5] END ....C=0.1, gamma=0.01, kernel=poly;, score=0.951 total time=   3.6s\n",
            "[CV 4/5] END ....C=0.1, gamma=0.01, kernel=poly;, score=0.984 total time=   2.2s\n",
            "[CV 5/5] END ....C=0.1, gamma=0.01, kernel=poly;, score=0.934 total time=   2.0s\n",
            "[CV 1/5] END .C=0.1, gamma=0.01, kernel=sigmoid;, score=0.629 total time=   0.0s\n",
            "[CV 2/5] END .C=0.1, gamma=0.01, kernel=sigmoid;, score=0.639 total time=   0.0s\n",
            "[CV 3/5] END .C=0.1, gamma=0.01, kernel=sigmoid;, score=0.623 total time=   0.0s\n",
            "[CV 4/5] END .C=0.1, gamma=0.01, kernel=sigmoid;, score=0.623 total time=   0.0s\n",
            "[CV 5/5] END .C=0.1, gamma=0.01, kernel=sigmoid;, score=0.623 total time=   0.0s\n",
            "[CV 1/5] END ....C=0.1, gamma=0.001, kernel=rbf;, score=0.629 total time=   0.0s\n",
            "[CV 2/5] END ....C=0.1, gamma=0.001, kernel=rbf;, score=0.639 total time=   0.0s\n",
            "[CV 3/5] END ....C=0.1, gamma=0.001, kernel=rbf;, score=0.623 total time=   0.0s\n",
            "[CV 4/5] END ....C=0.1, gamma=0.001, kernel=rbf;, score=0.623 total time=   0.0s\n",
            "[CV 5/5] END ....C=0.1, gamma=0.001, kernel=rbf;, score=0.623 total time=   0.0s\n",
            "[CV 1/5] END ...C=0.1, gamma=0.001, kernel=poly;, score=0.968 total time=   1.5s\n",
            "[CV 2/5] END ...C=0.1, gamma=0.001, kernel=poly;, score=0.918 total time=   0.5s\n",
            "[CV 3/5] END ...C=0.1, gamma=0.001, kernel=poly;, score=0.984 total time=   6.9s\n",
            "[CV 4/5] END ...C=0.1, gamma=0.001, kernel=poly;, score=0.984 total time=   1.3s\n",
            "[CV 5/5] END ...C=0.1, gamma=0.001, kernel=poly;, score=0.934 total time=   2.8s\n",
            "[CV 1/5] END C=0.1, gamma=0.001, kernel=sigmoid;, score=0.629 total time=   0.0s\n",
            "[CV 2/5] END C=0.1, gamma=0.001, kernel=sigmoid;, score=0.639 total time=   0.0s\n",
            "[CV 3/5] END C=0.1, gamma=0.001, kernel=sigmoid;, score=0.623 total time=   0.0s\n",
            "[CV 4/5] END C=0.1, gamma=0.001, kernel=sigmoid;, score=0.623 total time=   0.0s\n",
            "[CV 5/5] END C=0.1, gamma=0.001, kernel=sigmoid;, score=0.623 total time=   0.0s\n",
            "[CV 1/5] END ...C=0.1, gamma=0.0001, kernel=rbf;, score=0.984 total time=   0.0s\n",
            "[CV 2/5] END ...C=0.1, gamma=0.0001, kernel=rbf;, score=0.934 total time=   0.0s\n",
            "[CV 3/5] END ...C=0.1, gamma=0.0001, kernel=rbf;, score=0.984 total time=   0.0s\n",
            "[CV 4/5] END ...C=0.1, gamma=0.0001, kernel=rbf;, score=0.902 total time=   0.0s\n",
            "[CV 5/5] END ...C=0.1, gamma=0.0001, kernel=rbf;, score=0.852 total time=   0.0s\n",
            "[CV 1/5] END ..C=0.1, gamma=0.0001, kernel=poly;, score=0.984 total time=   0.5s\n",
            "[CV 2/5] END ..C=0.1, gamma=0.0001, kernel=poly;, score=0.967 total time=   0.5s\n",
            "[CV 3/5] END ..C=0.1, gamma=0.0001, kernel=poly;, score=0.951 total time=   0.5s\n",
            "[CV 4/5] END ..C=0.1, gamma=0.0001, kernel=poly;, score=0.967 total time=   0.3s\n",
            "[CV 5/5] END ..C=0.1, gamma=0.0001, kernel=poly;, score=0.934 total time=   0.4s\n",
            "[CV 1/5] END C=0.1, gamma=0.0001, kernel=sigmoid;, score=0.629 total time=   0.0s\n",
            "[CV 2/5] END C=0.1, gamma=0.0001, kernel=sigmoid;, score=0.639 total time=   0.0s\n",
            "[CV 3/5] END C=0.1, gamma=0.0001, kernel=sigmoid;, score=0.623 total time=   0.0s\n",
            "[CV 4/5] END C=0.1, gamma=0.0001, kernel=sigmoid;, score=0.623 total time=   0.0s\n",
            "[CV 5/5] END C=0.1, gamma=0.0001, kernel=sigmoid;, score=0.623 total time=   0.0s\n",
            "[CV 1/5] END ..........C=1, gamma=1, kernel=rbf;, score=0.629 total time=   0.0s\n",
            "[CV 2/5] END ..........C=1, gamma=1, kernel=rbf;, score=0.639 total time=   0.0s\n",
            "[CV 3/5] END ..........C=1, gamma=1, kernel=rbf;, score=0.623 total time=   0.0s\n",
            "[CV 4/5] END ..........C=1, gamma=1, kernel=rbf;, score=0.623 total time=   0.0s\n",
            "[CV 5/5] END ..........C=1, gamma=1, kernel=rbf;, score=0.623 total time=   0.0s\n",
            "[CV 1/5] END .........C=1, gamma=1, kernel=poly;, score=0.968 total time=   2.5s\n",
            "[CV 2/5] END .........C=1, gamma=1, kernel=poly;, score=0.902 total time=   1.3s\n",
            "[CV 3/5] END .........C=1, gamma=1, kernel=poly;, score=0.951 total time=   5.7s\n",
            "[CV 4/5] END .........C=1, gamma=1, kernel=poly;, score=0.951 total time=   1.1s\n",
            "[CV 5/5] END .........C=1, gamma=1, kernel=poly;, score=0.934 total time=   7.6s\n",
            "[CV 1/5] END ......C=1, gamma=1, kernel=sigmoid;, score=0.629 total time=   0.0s\n",
            "[CV 2/5] END ......C=1, gamma=1, kernel=sigmoid;, score=0.639 total time=   0.0s\n",
            "[CV 3/5] END ......C=1, gamma=1, kernel=sigmoid;, score=0.623 total time=   0.0s\n",
            "[CV 4/5] END ......C=1, gamma=1, kernel=sigmoid;, score=0.623 total time=   0.0s\n",
            "[CV 5/5] END ......C=1, gamma=1, kernel=sigmoid;, score=0.623 total time=   0.0s\n",
            "[CV 1/5] END ........C=1, gamma=0.1, kernel=rbf;, score=0.629 total time=   0.0s\n",
            "[CV 2/5] END ........C=1, gamma=0.1, kernel=rbf;, score=0.639 total time=   0.0s\n",
            "[CV 3/5] END ........C=1, gamma=0.1, kernel=rbf;, score=0.623 total time=   0.0s\n",
            "[CV 4/5] END ........C=1, gamma=0.1, kernel=rbf;, score=0.623 total time=   0.0s\n",
            "[CV 5/5] END ........C=1, gamma=0.1, kernel=rbf;, score=0.623 total time=   0.0s\n",
            "[CV 1/5] END .......C=1, gamma=0.1, kernel=poly;, score=0.952 total time=   2.7s\n",
            "[CV 2/5] END .......C=1, gamma=0.1, kernel=poly;, score=0.918 total time=   1.6s\n",
            "[CV 3/5] END .......C=1, gamma=0.1, kernel=poly;, score=0.967 total time=   3.7s\n",
            "[CV 4/5] END .......C=1, gamma=0.1, kernel=poly;, score=0.967 total time=   1.4s\n",
            "[CV 5/5] END .......C=1, gamma=0.1, kernel=poly;, score=0.951 total time=   2.9s\n",
            "[CV 1/5] END ....C=1, gamma=0.1, kernel=sigmoid;, score=0.629 total time=   0.0s\n",
            "[CV 2/5] END ....C=1, gamma=0.1, kernel=sigmoid;, score=0.639 total time=   0.0s\n",
            "[CV 3/5] END ....C=1, gamma=0.1, kernel=sigmoid;, score=0.623 total time=   0.0s\n",
            "[CV 4/5] END ....C=1, gamma=0.1, kernel=sigmoid;, score=0.623 total time=   0.0s\n",
            "[CV 5/5] END ....C=1, gamma=0.1, kernel=sigmoid;, score=0.623 total time=   0.0s\n",
            "[CV 1/5] END .......C=1, gamma=0.01, kernel=rbf;, score=0.629 total time=   0.0s\n",
            "[CV 2/5] END .......C=1, gamma=0.01, kernel=rbf;, score=0.639 total time=   0.0s\n",
            "[CV 3/5] END .......C=1, gamma=0.01, kernel=rbf;, score=0.623 total time=   0.0s\n",
            "[CV 4/5] END .......C=1, gamma=0.01, kernel=rbf;, score=0.623 total time=   0.0s\n",
            "[CV 5/5] END .......C=1, gamma=0.01, kernel=rbf;, score=0.623 total time=   0.0s\n",
            "[CV 1/5] END ......C=1, gamma=0.01, kernel=poly;, score=0.968 total time=   1.8s\n",
            "[CV 2/5] END ......C=1, gamma=0.01, kernel=poly;, score=0.902 total time=   0.6s\n",
            "[CV 3/5] END ......C=1, gamma=0.01, kernel=poly;, score=0.951 total time=   3.6s\n",
            "[CV 4/5] END ......C=1, gamma=0.01, kernel=poly;, score=0.984 total time=   2.2s\n",
            "[CV 5/5] END ......C=1, gamma=0.01, kernel=poly;, score=0.934 total time=   2.0s\n",
            "[CV 1/5] END ...C=1, gamma=0.01, kernel=sigmoid;, score=0.629 total time=   0.0s\n",
            "[CV 2/5] END ...C=1, gamma=0.01, kernel=sigmoid;, score=0.639 total time=   0.0s\n",
            "[CV 3/5] END ...C=1, gamma=0.01, kernel=sigmoid;, score=0.623 total time=   0.0s\n",
            "[CV 4/5] END ...C=1, gamma=0.01, kernel=sigmoid;, score=0.623 total time=   0.0s\n",
            "[CV 5/5] END ...C=1, gamma=0.01, kernel=sigmoid;, score=0.623 total time=   0.0s\n",
            "[CV 1/5] END ......C=1, gamma=0.001, kernel=rbf;, score=0.984 total time=   0.0s\n",
            "[CV 2/5] END ......C=1, gamma=0.001, kernel=rbf;, score=0.852 total time=   0.0s\n",
            "[CV 3/5] END ......C=1, gamma=0.001, kernel=rbf;, score=0.934 total time=   0.0s\n",
            "[CV 4/5] END ......C=1, gamma=0.001, kernel=rbf;, score=0.934 total time=   0.0s\n",
            "[CV 5/5] END ......C=1, gamma=0.001, kernel=rbf;, score=0.803 total time=   0.0s\n",
            "[CV 1/5] END .....C=1, gamma=0.001, kernel=poly;, score=0.968 total time=   1.5s\n",
            "[CV 2/5] END .....C=1, gamma=0.001, kernel=poly;, score=0.918 total time=   0.5s\n",
            "[CV 3/5] END .....C=1, gamma=0.001, kernel=poly;, score=0.984 total time=   6.9s\n",
            "[CV 4/5] END .....C=1, gamma=0.001, kernel=poly;, score=0.984 total time=   1.3s\n",
            "[CV 5/5] END .....C=1, gamma=0.001, kernel=poly;, score=0.934 total time=   2.8s\n",
            "[CV 1/5] END ..C=1, gamma=0.001, kernel=sigmoid;, score=0.629 total time=   0.0s\n",
            "[CV 2/5] END ..C=1, gamma=0.001, kernel=sigmoid;, score=0.639 total time=   0.0s\n",
            "[CV 3/5] END ..C=1, gamma=0.001, kernel=sigmoid;, score=0.623 total time=   0.0s\n",
            "[CV 4/5] END ..C=1, gamma=0.001, kernel=sigmoid;, score=0.623 total time=   0.0s\n",
            "[CV 5/5] END ..C=1, gamma=0.001, kernel=sigmoid;, score=0.623 total time=   0.0s\n",
            "[CV 1/5] END .....C=1, gamma=0.0001, kernel=rbf;, score=0.984 total time=   0.0s\n",
            "[CV 2/5] END .....C=1, gamma=0.0001, kernel=rbf;, score=0.951 total time=   0.0s\n",
            "[CV 3/5] END .....C=1, gamma=0.0001, kernel=rbf;, score=0.967 total time=   0.0s\n",
            "[CV 4/5] END .....C=1, gamma=0.0001, kernel=rbf;, score=0.951 total time=   0.0s\n",
            "[CV 5/5] END .....C=1, gamma=0.0001, kernel=rbf;, score=0.869 total time=   0.0s\n",
            "[CV 1/5] END ....C=1, gamma=0.0001, kernel=poly;, score=0.968 total time=   0.8s\n",
            "[CV 2/5] END ....C=1, gamma=0.0001, kernel=poly;, score=0.984 total time=   2.7s\n",
            "[CV 3/5] END ....C=1, gamma=0.0001, kernel=poly;, score=0.951 total time=   1.8s\n",
            "[CV 4/5] END ....C=1, gamma=0.0001, kernel=poly;, score=0.951 total time=   0.5s\n",
            "[CV 5/5] END ....C=1, gamma=0.0001, kernel=poly;, score=0.934 total time=   4.7s\n",
            "[CV 1/5] END .C=1, gamma=0.0001, kernel=sigmoid;, score=0.629 total time=   0.0s\n",
            "[CV 2/5] END .C=1, gamma=0.0001, kernel=sigmoid;, score=0.639 total time=   0.0s\n",
            "[CV 3/5] END .C=1, gamma=0.0001, kernel=sigmoid;, score=0.623 total time=   0.0s\n",
            "[CV 4/5] END .C=1, gamma=0.0001, kernel=sigmoid;, score=0.623 total time=   0.0s\n",
            "[CV 5/5] END .C=1, gamma=0.0001, kernel=sigmoid;, score=0.623 total time=   0.0s\n",
            "[CV 1/5] END .........C=10, gamma=1, kernel=rbf;, score=0.629 total time=   0.0s\n",
            "[CV 2/5] END .........C=10, gamma=1, kernel=rbf;, score=0.639 total time=   0.0s\n",
            "[CV 3/5] END .........C=10, gamma=1, kernel=rbf;, score=0.623 total time=   0.0s\n",
            "[CV 4/5] END .........C=10, gamma=1, kernel=rbf;, score=0.623 total time=   0.0s\n",
            "[CV 5/5] END .........C=10, gamma=1, kernel=rbf;, score=0.623 total time=   0.0s\n",
            "[CV 1/5] END ........C=10, gamma=1, kernel=poly;, score=0.968 total time=   2.5s\n",
            "[CV 2/5] END ........C=10, gamma=1, kernel=poly;, score=0.902 total time=   1.3s\n",
            "[CV 3/5] END ........C=10, gamma=1, kernel=poly;, score=0.951 total time=   5.7s\n",
            "[CV 4/5] END ........C=10, gamma=1, kernel=poly;, score=0.951 total time=   1.1s\n",
            "[CV 5/5] END ........C=10, gamma=1, kernel=poly;, score=0.934 total time=   7.6s\n",
            "[CV 1/5] END .....C=10, gamma=1, kernel=sigmoid;, score=0.629 total time=   0.0s\n",
            "[CV 2/5] END .....C=10, gamma=1, kernel=sigmoid;, score=0.639 total time=   0.0s\n",
            "[CV 3/5] END .....C=10, gamma=1, kernel=sigmoid;, score=0.623 total time=   0.0s\n",
            "[CV 4/5] END .....C=10, gamma=1, kernel=sigmoid;, score=0.623 total time=   0.0s\n",
            "[CV 5/5] END .....C=10, gamma=1, kernel=sigmoid;, score=0.623 total time=   0.0s\n",
            "[CV 1/5] END .......C=10, gamma=0.1, kernel=rbf;, score=0.629 total time=   0.0s\n",
            "[CV 2/5] END .......C=10, gamma=0.1, kernel=rbf;, score=0.639 total time=   0.0s\n",
            "[CV 3/5] END .......C=10, gamma=0.1, kernel=rbf;, score=0.623 total time=   0.0s\n",
            "[CV 4/5] END .......C=10, gamma=0.1, kernel=rbf;, score=0.623 total time=   0.0s\n",
            "[CV 5/5] END .......C=10, gamma=0.1, kernel=rbf;, score=0.623 total time=   0.0s\n",
            "[CV 1/5] END ......C=10, gamma=0.1, kernel=poly;, score=0.952 total time=   2.7s\n",
            "[CV 2/5] END ......C=10, gamma=0.1, kernel=poly;, score=0.918 total time=   1.6s\n",
            "[CV 3/5] END ......C=10, gamma=0.1, kernel=poly;, score=0.967 total time=   3.7s\n",
            "[CV 4/5] END ......C=10, gamma=0.1, kernel=poly;, score=0.967 total time=   1.4s\n",
            "[CV 5/5] END ......C=10, gamma=0.1, kernel=poly;, score=0.951 total time=   2.9s\n",
            "[CV 1/5] END ...C=10, gamma=0.1, kernel=sigmoid;, score=0.629 total time=   0.0s\n",
            "[CV 2/5] END ...C=10, gamma=0.1, kernel=sigmoid;, score=0.639 total time=   0.0s\n",
            "[CV 3/5] END ...C=10, gamma=0.1, kernel=sigmoid;, score=0.623 total time=   0.0s\n",
            "[CV 4/5] END ...C=10, gamma=0.1, kernel=sigmoid;, score=0.623 total time=   0.0s\n",
            "[CV 5/5] END ...C=10, gamma=0.1, kernel=sigmoid;, score=0.623 total time=   0.0s\n",
            "[CV 1/5] END ......C=10, gamma=0.01, kernel=rbf;, score=0.629 total time=   0.0s\n",
            "[CV 2/5] END ......C=10, gamma=0.01, kernel=rbf;, score=0.656 total time=   0.0s\n",
            "[CV 3/5] END ......C=10, gamma=0.01, kernel=rbf;, score=0.639 total time=   0.0s\n",
            "[CV 4/5] END ......C=10, gamma=0.01, kernel=rbf;, score=0.623 total time=   0.0s\n",
            "[CV 5/5] END ......C=10, gamma=0.01, kernel=rbf;, score=0.623 total time=   0.0s\n",
            "[CV 1/5] END .....C=10, gamma=0.01, kernel=poly;, score=0.968 total time=   2.2s\n",
            "[CV 2/5] END .....C=10, gamma=0.01, kernel=poly;, score=0.902 total time=   1.3s\n",
            "[CV 3/5] END .....C=10, gamma=0.01, kernel=poly;, score=0.951 total time=   4.0s\n",
            "[CV 4/5] END .....C=10, gamma=0.01, kernel=poly;, score=0.984 total time=   2.2s\n",
            "[CV 5/5] END .....C=10, gamma=0.01, kernel=poly;, score=0.934 total time=   2.0s\n",
            "[CV 1/5] END ..C=10, gamma=0.01, kernel=sigmoid;, score=0.629 total time=   0.0s\n",
            "[CV 2/5] END ..C=10, gamma=0.01, kernel=sigmoid;, score=0.639 total time=   0.0s\n",
            "[CV 3/5] END ..C=10, gamma=0.01, kernel=sigmoid;, score=0.623 total time=   0.0s\n",
            "[CV 4/5] END ..C=10, gamma=0.01, kernel=sigmoid;, score=0.623 total time=   0.0s\n",
            "[CV 5/5] END ..C=10, gamma=0.01, kernel=sigmoid;, score=0.623 total time=   0.0s\n",
            "[CV 1/5] END .....C=10, gamma=0.001, kernel=rbf;, score=0.984 total time=   0.0s\n",
            "[CV 2/5] END .....C=10, gamma=0.001, kernel=rbf;, score=0.852 total time=   0.0s\n",
            "[CV 3/5] END .....C=10, gamma=0.001, kernel=rbf;, score=0.934 total time=   0.0s\n",
            "[CV 4/5] END .....C=10, gamma=0.001, kernel=rbf;, score=0.934 total time=   0.0s\n",
            "[CV 5/5] END .....C=10, gamma=0.001, kernel=rbf;, score=0.803 total time=   0.0s\n",
            "[CV 1/5] END ....C=10, gamma=0.001, kernel=poly;, score=0.968 total time=   1.5s\n",
            "[CV 2/5] END ....C=10, gamma=0.001, kernel=poly;, score=0.918 total time=   0.5s\n",
            "[CV 3/5] END ....C=10, gamma=0.001, kernel=poly;, score=0.984 total time=   6.9s\n",
            "[CV 4/5] END ....C=10, gamma=0.001, kernel=poly;, score=0.984 total time=   1.3s\n",
            "[CV 5/5] END ....C=10, gamma=0.001, kernel=poly;, score=0.934 total time=   2.8s\n",
            "[CV 1/5] END .C=10, gamma=0.001, kernel=sigmoid;, score=0.629 total time=   0.0s\n",
            "[CV 2/5] END .C=10, gamma=0.001, kernel=sigmoid;, score=0.639 total time=   0.0s\n",
            "[CV 3/5] END .C=10, gamma=0.001, kernel=sigmoid;, score=0.623 total time=   0.0s\n",
            "[CV 4/5] END .C=10, gamma=0.001, kernel=sigmoid;, score=0.623 total time=   0.0s\n",
            "[CV 5/5] END .C=10, gamma=0.001, kernel=sigmoid;, score=0.623 total time=   0.0s\n",
            "[CV 1/5] END ....C=10, gamma=0.0001, kernel=rbf;, score=0.952 total time=   0.0s\n",
            "[CV 2/5] END ....C=10, gamma=0.0001, kernel=rbf;, score=0.902 total time=   0.0s\n",
            "[CV 3/5] END ....C=10, gamma=0.0001, kernel=rbf;, score=0.918 total time=   0.0s\n",
            "[CV 4/5] END ....C=10, gamma=0.0001, kernel=rbf;, score=0.967 total time=   0.0s\n",
            "[CV 5/5] END ....C=10, gamma=0.0001, kernel=rbf;, score=0.852 total time=   0.0s\n",
            "[CV 1/5] END ...C=10, gamma=0.0001, kernel=poly;, score=0.968 total time=   2.2s\n",
            "[CV 2/5] END ...C=10, gamma=0.0001, kernel=poly;, score=0.918 total time=   1.1s\n",
            "[CV 3/5] END ...C=10, gamma=0.0001, kernel=poly;, score=0.951 total time=   4.5s\n",
            "[CV 4/5] END ...C=10, gamma=0.0001, kernel=poly;, score=0.967 total time=   1.3s\n",
            "[CV 5/5] END ...C=10, gamma=0.0001, kernel=poly;, score=0.934 total time=   3.5s\n",
            "[CV 1/5] END C=10, gamma=0.0001, kernel=sigmoid;, score=0.629 total time=   0.0s\n",
            "[CV 2/5] END C=10, gamma=0.0001, kernel=sigmoid;, score=0.639 total time=   0.0s\n",
            "[CV 3/5] END C=10, gamma=0.0001, kernel=sigmoid;, score=0.623 total time=   0.0s\n",
            "[CV 4/5] END C=10, gamma=0.0001, kernel=sigmoid;, score=0.623 total time=   0.0s\n",
            "[CV 5/5] END C=10, gamma=0.0001, kernel=sigmoid;, score=0.623 total time=   0.0s\n",
            "[CV 1/5] END ........C=100, gamma=1, kernel=rbf;, score=0.629 total time=   0.0s\n",
            "[CV 2/5] END ........C=100, gamma=1, kernel=rbf;, score=0.639 total time=   0.0s\n",
            "[CV 3/5] END ........C=100, gamma=1, kernel=rbf;, score=0.623 total time=   0.0s\n",
            "[CV 4/5] END ........C=100, gamma=1, kernel=rbf;, score=0.623 total time=   0.0s\n",
            "[CV 5/5] END ........C=100, gamma=1, kernel=rbf;, score=0.623 total time=   0.0s\n",
            "[CV 1/5] END .......C=100, gamma=1, kernel=poly;, score=0.968 total time=   2.5s\n",
            "[CV 2/5] END .......C=100, gamma=1, kernel=poly;, score=0.902 total time=   1.3s\n",
            "[CV 3/5] END .......C=100, gamma=1, kernel=poly;, score=0.951 total time=   5.7s\n",
            "[CV 4/5] END .......C=100, gamma=1, kernel=poly;, score=0.951 total time=   1.1s\n",
            "[CV 5/5] END .......C=100, gamma=1, kernel=poly;, score=0.934 total time=   7.6s\n",
            "[CV 1/5] END ....C=100, gamma=1, kernel=sigmoid;, score=0.629 total time=   0.0s\n",
            "[CV 2/5] END ....C=100, gamma=1, kernel=sigmoid;, score=0.639 total time=   0.0s\n",
            "[CV 3/5] END ....C=100, gamma=1, kernel=sigmoid;, score=0.623 total time=   0.0s\n",
            "[CV 4/5] END ....C=100, gamma=1, kernel=sigmoid;, score=0.623 total time=   0.0s\n",
            "[CV 5/5] END ....C=100, gamma=1, kernel=sigmoid;, score=0.623 total time=   0.0s\n",
            "[CV 1/5] END ......C=100, gamma=0.1, kernel=rbf;, score=0.629 total time=   0.0s\n",
            "[CV 2/5] END ......C=100, gamma=0.1, kernel=rbf;, score=0.639 total time=   0.0s\n",
            "[CV 3/5] END ......C=100, gamma=0.1, kernel=rbf;, score=0.623 total time=   0.0s\n",
            "[CV 4/5] END ......C=100, gamma=0.1, kernel=rbf;, score=0.623 total time=   0.0s\n",
            "[CV 5/5] END ......C=100, gamma=0.1, kernel=rbf;, score=0.623 total time=   0.0s\n",
            "[CV 1/5] END .....C=100, gamma=0.1, kernel=poly;, score=0.952 total time=   2.7s\n",
            "[CV 2/5] END .....C=100, gamma=0.1, kernel=poly;, score=0.918 total time=   1.6s\n",
            "[CV 3/5] END .....C=100, gamma=0.1, kernel=poly;, score=0.967 total time=   3.7s\n",
            "[CV 4/5] END .....C=100, gamma=0.1, kernel=poly;, score=0.967 total time=   1.4s\n",
            "[CV 5/5] END .....C=100, gamma=0.1, kernel=poly;, score=0.951 total time=   2.9s\n",
            "[CV 1/5] END ..C=100, gamma=0.1, kernel=sigmoid;, score=0.629 total time=   0.0s\n",
            "[CV 2/5] END ..C=100, gamma=0.1, kernel=sigmoid;, score=0.639 total time=   0.0s\n",
            "[CV 3/5] END ..C=100, gamma=0.1, kernel=sigmoid;, score=0.623 total time=   0.0s\n",
            "[CV 4/5] END ..C=100, gamma=0.1, kernel=sigmoid;, score=0.623 total time=   0.0s\n",
            "[CV 5/5] END ..C=100, gamma=0.1, kernel=sigmoid;, score=0.623 total time=   0.0s\n",
            "[CV 1/5] END .....C=100, gamma=0.01, kernel=rbf;, score=0.629 total time=   0.0s\n",
            "[CV 2/5] END .....C=100, gamma=0.01, kernel=rbf;, score=0.656 total time=   0.0s\n",
            "[CV 3/5] END .....C=100, gamma=0.01, kernel=rbf;, score=0.639 total time=   0.0s\n",
            "[CV 4/5] END .....C=100, gamma=0.01, kernel=rbf;, score=0.623 total time=   0.0s\n",
            "[CV 5/5] END .....C=100, gamma=0.01, kernel=rbf;, score=0.623 total time=   0.0s\n",
            "[CV 1/5] END ....C=100, gamma=0.01, kernel=poly;, score=0.968 total time=   1.8s\n",
            "[CV 2/5] END ....C=100, gamma=0.01, kernel=poly;, score=0.902 total time=   0.6s\n",
            "[CV 3/5] END ....C=100, gamma=0.01, kernel=poly;, score=0.951 total time=   3.6s\n",
            "[CV 4/5] END ....C=100, gamma=0.01, kernel=poly;, score=0.984 total time=   2.2s\n",
            "[CV 5/5] END ....C=100, gamma=0.01, kernel=poly;, score=0.934 total time=   2.0s\n",
            "[CV 1/5] END .C=100, gamma=0.01, kernel=sigmoid;, score=0.629 total time=   0.0s\n",
            "[CV 2/5] END .C=100, gamma=0.01, kernel=sigmoid;, score=0.639 total time=   0.0s\n",
            "[CV 3/5] END .C=100, gamma=0.01, kernel=sigmoid;, score=0.623 total time=   0.0s\n",
            "[CV 4/5] END .C=100, gamma=0.01, kernel=sigmoid;, score=0.623 total time=   0.0s\n",
            "[CV 5/5] END .C=100, gamma=0.01, kernel=sigmoid;, score=0.623 total time=   0.0s\n",
            "[CV 1/5] END ....C=100, gamma=0.001, kernel=rbf;, score=0.984 total time=   0.0s\n",
            "[CV 2/5] END ....C=100, gamma=0.001, kernel=rbf;, score=0.852 total time=   0.0s\n",
            "[CV 3/5] END ....C=100, gamma=0.001, kernel=rbf;, score=0.934 total time=   0.0s\n",
            "[CV 4/5] END ....C=100, gamma=0.001, kernel=rbf;, score=0.934 total time=   0.0s\n",
            "[CV 5/5] END ....C=100, gamma=0.001, kernel=rbf;, score=0.803 total time=   0.0s\n",
            "[CV 1/5] END ...C=100, gamma=0.001, kernel=poly;, score=0.968 total time=   1.5s\n",
            "[CV 2/5] END ...C=100, gamma=0.001, kernel=poly;, score=0.918 total time=   0.5s\n",
            "[CV 3/5] END ...C=100, gamma=0.001, kernel=poly;, score=0.984 total time=   6.9s\n",
            "[CV 4/5] END ...C=100, gamma=0.001, kernel=poly;, score=0.984 total time=   1.3s\n",
            "[CV 5/5] END ...C=100, gamma=0.001, kernel=poly;, score=0.934 total time=   2.8s\n",
            "[CV 1/5] END C=100, gamma=0.001, kernel=sigmoid;, score=0.629 total time=   0.0s\n",
            "[CV 2/5] END C=100, gamma=0.001, kernel=sigmoid;, score=0.639 total time=   0.0s\n",
            "[CV 3/5] END C=100, gamma=0.001, kernel=sigmoid;, score=0.623 total time=   0.0s\n",
            "[CV 4/5] END C=100, gamma=0.001, kernel=sigmoid;, score=0.623 total time=   0.0s\n",
            "[CV 5/5] END C=100, gamma=0.001, kernel=sigmoid;, score=0.623 total time=   0.0s\n",
            "[CV 1/5] END ...C=100, gamma=0.0001, kernel=rbf;, score=0.952 total time=   0.0s\n",
            "[CV 2/5] END ...C=100, gamma=0.0001, kernel=rbf;, score=0.918 total time=   0.0s\n",
            "[CV 3/5] END ...C=100, gamma=0.0001, kernel=rbf;, score=0.951 total time=   0.0s\n",
            "[CV 4/5] END ...C=100, gamma=0.0001, kernel=rbf;, score=0.967 total time=   0.0s\n",
            "[CV 5/5] END ...C=100, gamma=0.0001, kernel=rbf;, score=0.836 total time=   0.0s\n",
            "[CV 1/5] END ..C=100, gamma=0.0001, kernel=poly;, score=0.968 total time=   2.2s\n",
            "[CV 2/5] END ..C=100, gamma=0.0001, kernel=poly;, score=0.918 total time=   1.1s\n",
            "[CV 3/5] END ..C=100, gamma=0.0001, kernel=poly;, score=0.951 total time=   4.5s\n",
            "[CV 4/5] END ..C=100, gamma=0.0001, kernel=poly;, score=0.967 total time=   1.3s\n",
            "[CV 5/5] END ..C=100, gamma=0.0001, kernel=poly;, score=0.934 total time=   3.5s\n",
            "[CV 1/5] END C=100, gamma=0.0001, kernel=sigmoid;, score=0.629 total time=   0.0s\n",
            "[CV 2/5] END C=100, gamma=0.0001, kernel=sigmoid;, score=0.639 total time=   0.0s\n",
            "[CV 3/5] END C=100, gamma=0.0001, kernel=sigmoid;, score=0.623 total time=   0.0s\n",
            "[CV 4/5] END C=100, gamma=0.0001, kernel=sigmoid;, score=0.623 total time=   0.0s\n",
            "[CV 5/5] END C=100, gamma=0.0001, kernel=sigmoid;, score=0.623 total time=   0.0s\n",
            "[CV 1/5] END .......C=1000, gamma=1, kernel=rbf;, score=0.629 total time=   0.0s\n",
            "[CV 2/5] END .......C=1000, gamma=1, kernel=rbf;, score=0.639 total time=   0.0s\n",
            "[CV 3/5] END .......C=1000, gamma=1, kernel=rbf;, score=0.623 total time=   0.0s\n",
            "[CV 4/5] END .......C=1000, gamma=1, kernel=rbf;, score=0.623 total time=   0.0s\n",
            "[CV 5/5] END .......C=1000, gamma=1, kernel=rbf;, score=0.623 total time=   0.0s\n",
            "[CV 1/5] END ......C=1000, gamma=1, kernel=poly;, score=0.968 total time=   2.5s\n",
            "[CV 2/5] END ......C=1000, gamma=1, kernel=poly;, score=0.902 total time=   1.3s\n",
            "[CV 3/5] END ......C=1000, gamma=1, kernel=poly;, score=0.951 total time=   5.7s\n",
            "[CV 4/5] END ......C=1000, gamma=1, kernel=poly;, score=0.951 total time=   1.1s\n",
            "[CV 5/5] END ......C=1000, gamma=1, kernel=poly;, score=0.934 total time=   7.6s\n",
            "[CV 1/5] END ...C=1000, gamma=1, kernel=sigmoid;, score=0.629 total time=   0.0s\n",
            "[CV 2/5] END ...C=1000, gamma=1, kernel=sigmoid;, score=0.639 total time=   0.0s\n",
            "[CV 3/5] END ...C=1000, gamma=1, kernel=sigmoid;, score=0.623 total time=   0.0s\n",
            "[CV 4/5] END ...C=1000, gamma=1, kernel=sigmoid;, score=0.623 total time=   0.0s\n",
            "[CV 5/5] END ...C=1000, gamma=1, kernel=sigmoid;, score=0.623 total time=   0.0s\n",
            "[CV 1/5] END .....C=1000, gamma=0.1, kernel=rbf;, score=0.629 total time=   0.0s\n",
            "[CV 2/5] END .....C=1000, gamma=0.1, kernel=rbf;, score=0.639 total time=   0.0s\n",
            "[CV 3/5] END .....C=1000, gamma=0.1, kernel=rbf;, score=0.623 total time=   0.0s\n",
            "[CV 4/5] END .....C=1000, gamma=0.1, kernel=rbf;, score=0.623 total time=   0.0s\n",
            "[CV 5/5] END .....C=1000, gamma=0.1, kernel=rbf;, score=0.623 total time=   0.0s\n",
            "[CV 1/5] END ....C=1000, gamma=0.1, kernel=poly;, score=0.952 total time=   2.7s\n",
            "[CV 2/5] END ....C=1000, gamma=0.1, kernel=poly;, score=0.918 total time=   1.6s\n",
            "[CV 3/5] END ....C=1000, gamma=0.1, kernel=poly;, score=0.967 total time=   3.7s\n",
            "[CV 4/5] END ....C=1000, gamma=0.1, kernel=poly;, score=0.967 total time=   1.4s\n",
            "[CV 5/5] END ....C=1000, gamma=0.1, kernel=poly;, score=0.951 total time=   2.9s\n",
            "[CV 1/5] END .C=1000, gamma=0.1, kernel=sigmoid;, score=0.629 total time=   0.0s\n",
            "[CV 2/5] END .C=1000, gamma=0.1, kernel=sigmoid;, score=0.639 total time=   0.0s\n",
            "[CV 3/5] END .C=1000, gamma=0.1, kernel=sigmoid;, score=0.623 total time=   0.0s\n",
            "[CV 4/5] END .C=1000, gamma=0.1, kernel=sigmoid;, score=0.623 total time=   0.0s\n",
            "[CV 5/5] END .C=1000, gamma=0.1, kernel=sigmoid;, score=0.623 total time=   0.0s\n",
            "[CV 1/5] END ....C=1000, gamma=0.01, kernel=rbf;, score=0.629 total time=   0.0s\n",
            "[CV 2/5] END ....C=1000, gamma=0.01, kernel=rbf;, score=0.656 total time=   0.0s\n",
            "[CV 3/5] END ....C=1000, gamma=0.01, kernel=rbf;, score=0.639 total time=   0.0s\n",
            "[CV 4/5] END ....C=1000, gamma=0.01, kernel=rbf;, score=0.623 total time=   0.0s\n",
            "[CV 5/5] END ....C=1000, gamma=0.01, kernel=rbf;, score=0.623 total time=   0.0s\n",
            "[CV 1/5] END ...C=1000, gamma=0.01, kernel=poly;, score=0.968 total time=   1.8s\n",
            "[CV 2/5] END ...C=1000, gamma=0.01, kernel=poly;, score=0.902 total time=   0.6s\n",
            "[CV 3/5] END ...C=1000, gamma=0.01, kernel=poly;, score=0.951 total time=   3.6s\n",
            "[CV 4/5] END ...C=1000, gamma=0.01, kernel=poly;, score=0.984 total time=   2.2s\n",
            "[CV 5/5] END ...C=1000, gamma=0.01, kernel=poly;, score=0.934 total time=   2.0s\n",
            "[CV 1/5] END C=1000, gamma=0.01, kernel=sigmoid;, score=0.629 total time=   0.0s\n",
            "[CV 2/5] END C=1000, gamma=0.01, kernel=sigmoid;, score=0.639 total time=   0.0s\n",
            "[CV 3/5] END C=1000, gamma=0.01, kernel=sigmoid;, score=0.623 total time=   0.0s\n",
            "[CV 4/5] END C=1000, gamma=0.01, kernel=sigmoid;, score=0.623 total time=   0.0s\n",
            "[CV 5/5] END C=1000, gamma=0.01, kernel=sigmoid;, score=0.623 total time=   0.0s\n",
            "[CV 1/5] END ...C=1000, gamma=0.001, kernel=rbf;, score=0.984 total time=   0.0s\n",
            "[CV 2/5] END ...C=1000, gamma=0.001, kernel=rbf;, score=0.852 total time=   0.0s\n",
            "[CV 3/5] END ...C=1000, gamma=0.001, kernel=rbf;, score=0.934 total time=   0.0s\n",
            "[CV 4/5] END ...C=1000, gamma=0.001, kernel=rbf;, score=0.934 total time=   0.0s\n",
            "[CV 5/5] END ...C=1000, gamma=0.001, kernel=rbf;, score=0.803 total time=   0.0s\n",
            "[CV 1/5] END ..C=1000, gamma=0.001, kernel=poly;, score=0.968 total time=   1.5s\n",
            "[CV 2/5] END ..C=1000, gamma=0.001, kernel=poly;, score=0.918 total time=   0.5s\n",
            "[CV 3/5] END ..C=1000, gamma=0.001, kernel=poly;, score=0.984 total time=   6.9s\n",
            "[CV 4/5] END ..C=1000, gamma=0.001, kernel=poly;, score=0.984 total time=   1.3s\n",
            "[CV 5/5] END ..C=1000, gamma=0.001, kernel=poly;, score=0.934 total time=   2.8s\n",
            "[CV 1/5] END C=1000, gamma=0.001, kernel=sigmoid;, score=0.629 total time=   0.0s\n",
            "[CV 2/5] END C=1000, gamma=0.001, kernel=sigmoid;, score=0.639 total time=   0.0s\n",
            "[CV 3/5] END C=1000, gamma=0.001, kernel=sigmoid;, score=0.623 total time=   0.0s\n",
            "[CV 4/5] END C=1000, gamma=0.001, kernel=sigmoid;, score=0.623 total time=   0.0s\n",
            "[CV 5/5] END C=1000, gamma=0.001, kernel=sigmoid;, score=0.623 total time=   0.0s\n",
            "[CV 1/5] END ..C=1000, gamma=0.0001, kernel=rbf;, score=0.919 total time=   0.0s\n",
            "[CV 2/5] END ..C=1000, gamma=0.0001, kernel=rbf;, score=0.951 total time=   0.0s\n",
            "[CV 3/5] END ..C=1000, gamma=0.0001, kernel=rbf;, score=0.934 total time=   0.0s\n",
            "[CV 4/5] END ..C=1000, gamma=0.0001, kernel=rbf;, score=0.951 total time=   0.0s\n",
            "[CV 5/5] END ..C=1000, gamma=0.0001, kernel=rbf;, score=0.836 total time=   0.0s\n",
            "[CV 1/5] END .C=1000, gamma=0.0001, kernel=poly;, score=0.968 total time=   2.2s\n",
            "[CV 2/5] END .C=1000, gamma=0.0001, kernel=poly;, score=0.918 total time=   1.1s\n",
            "[CV 3/5] END .C=1000, gamma=0.0001, kernel=poly;, score=0.951 total time=   4.5s\n",
            "[CV 4/5] END .C=1000, gamma=0.0001, kernel=poly;, score=0.967 total time=   1.3s\n",
            "[CV 5/5] END .C=1000, gamma=0.0001, kernel=poly;, score=0.934 total time=   3.5s\n",
            "[CV 1/5] END C=1000, gamma=0.0001, kernel=sigmoid;, score=0.629 total time=   0.0s\n",
            "[CV 2/5] END C=1000, gamma=0.0001, kernel=sigmoid;, score=0.639 total time=   0.0s\n",
            "[CV 3/5] END C=1000, gamma=0.0001, kernel=sigmoid;, score=0.623 total time=   0.0s\n",
            "[CV 4/5] END C=1000, gamma=0.0001, kernel=sigmoid;, score=0.623 total time=   0.0s\n",
            "[CV 5/5] END C=1000, gamma=0.0001, kernel=sigmoid;, score=0.623 total time=   0.0s\n"
          ]
        },
        {
          "output_type": "execute_result",
          "data": {
            "text/plain": [
              "GridSearchCV(estimator=SVC(),\n",
              "             param_grid={'C': [0.1, 1, 10, 100, 1000],\n",
              "                         'gamma': [1, 0.1, 0.01, 0.001, 0.0001],\n",
              "                         'kernel': ['rbf', 'poly', 'sigmoid']},\n",
              "             verbose=3)"
            ]
          },
          "metadata": {},
          "execution_count": 14
        }
      ]
    },
    {
      "cell_type": "code",
      "source": [
        "\n",
        "# print best parameter after tuning\n",
        "print(grid.best_params_)\n",
        "  \n",
        "# print how our model looks after hyper-parameter tuning\n",
        "print(grid.best_estimator_)"
      ],
      "metadata": {
        "colab": {
          "base_uri": "https://localhost:8080/"
        },
        "id": "hOiO9dtOQvlX",
        "outputId": "88c98b5e-84e9-480c-b137-eadc7b69d187"
      },
      "execution_count": 15,
      "outputs": [
        {
          "output_type": "stream",
          "name": "stdout",
          "text": [
            "{'C': 0.1, 'gamma': 0.0001, 'kernel': 'poly'}\n",
            "SVC(C=0.1, gamma=0.0001, kernel='poly')\n"
          ]
        }
      ]
    },
    {
      "cell_type": "code",
      "source": [
        "from sklearn.metrics import classification_report\n",
        "\n",
        "grid_predictions = grid.predict(X_test)\n",
        "  \n",
        "# print classification report\n",
        "print(classification_report(y_test, grid_predictions))"
      ],
      "metadata": {
        "colab": {
          "base_uri": "https://localhost:8080/"
        },
        "id": "ArDoGMGzQ5qd",
        "outputId": "d5400765-b6f2-41d3-c10b-78f379d17942"
      },
      "execution_count": 16,
      "outputs": [
        {
          "output_type": "stream",
          "name": "stdout",
          "text": [
            "              precision    recall  f1-score   support\n",
            "\n",
            "           0       0.96      0.91      0.93        85\n",
            "           1       0.95      0.98      0.96       143\n",
            "\n",
            "    accuracy                           0.95       228\n",
            "   macro avg       0.95      0.94      0.95       228\n",
            "weighted avg       0.95      0.95      0.95       228\n",
            "\n"
          ]
        }
      ]
    }
  ]
}