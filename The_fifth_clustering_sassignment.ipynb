{
  "cells": [
    {
      "cell_type": "markdown",
      "metadata": {
        "id": "view-in-github",
        "colab_type": "text"
      },
      "source": [
        "<a href=\"https://colab.research.google.com/github/encoras/Artificial-Intelligence-Group/blob/master/The_fifth_clustering_sassignment.ipynb\" target=\"_parent\"><img src=\"https://colab.research.google.com/assets/colab-badge.svg\" alt=\"Open In Colab\"/></a>"
      ]
    },
    {
      "cell_type": "code",
      "execution_count": null,
      "metadata": {
        "id": "3O1udgJlgUds"
      },
      "outputs": [],
      "source": [
        "import numpy as np\n",
        "import pandas as pd\n",
        "\n",
        "import datetime\n",
        "import time"
      ]
    },
    {
      "cell_type": "code",
      "source": [
        "# function for a unique tuples collection\n",
        "# Adopted from: https://stackoverflow.com/questions/31097247/remove-duplicate-rows-of-a-numpy-array\n",
        "def unique_rows(a):\n",
        "    a = np.ascontiguousarray(a)\n",
        "    unique_a = np.unique(a.view([('', a.dtype)]*a.shape[1]))\n",
        "    return unique_a.view(a.dtype).reshape((unique_a.shape[0], a.shape[1]))\n",
        "\n"
      ],
      "metadata": {
        "id": "9QPgHP6HPFtA"
      },
      "execution_count": null,
      "outputs": []
    },
    {
      "cell_type": "markdown",
      "metadata": {
        "id": "cwiLmEwvgUd5"
      },
      "source": [
        "### The beginning\n",
        "\n",
        "https://medium.com/thelorry-product-tech-data/the-clustering-algorithm-with-geolocation-data-d6dd07ed36a\n"
      ]
    },
    {
      "cell_type": "markdown",
      "metadata": {
        "id": "g2K9jZflgUeA"
      },
      "source": [
        "#### Download individual file from https://s3.amazonaws.com/tripdata/index.html\n",
        "The file title is 'YYYYMM-citibike-tripdata.csv.zip'\n",
        "The LAST STUDENT digit from internal KTU code use for a Year definition i.e.\n",
        "*   {0,1}==2017\n",
        "*   {2,3}==2018\n",
        "*   {4,5}==2019\n",
        "*   {6,7,8,9}==2020\n",
        "*   `{o,o}==2021 - not correct data format`\n",
        "\n",
        "Prefinal xxx**X**x internal KTU code number - for mont definition MM==0**X**.\n",
        "> Dowload file: 'YYYYMM-citibike-tripdata.csv.zip'\n"
      ]
    },
    {
      "cell_type": "code",
      "execution_count": null,
      "metadata": {
        "id": "C6zBTGfsgUeD"
      },
      "outputs": [],
      "source": [
        "citybike = pd.read_csv('https://s3.amazonaws.com/tripdata/JC-202101-citibike-tripdata.csv.zip')"
      ]
    },
    {
      "cell_type": "code",
      "execution_count": null,
      "metadata": {
        "id": "rdqOz8t9gUeF",
        "outputId": "5bdb92b3-220b-4709-871b-9f5fc4f857b8",
        "colab": {
          "base_uri": "https://localhost:8080/",
          "height": 354
        }
      },
      "outputs": [
        {
          "output_type": "execute_result",
          "data": {
            "text/plain": [
              "   tripduration                 starttime                  stoptime  \\\n",
              "0          2513  2021-01-01 00:00:11.9020  2021-01-01 00:42:05.2260   \n",
              "1          2519  2021-01-01 00:00:15.0960  2021-01-01 00:42:14.9780   \n",
              "2          1207  2021-01-01 00:00:28.9300  2021-01-01 00:20:36.6510   \n",
              "3          2506  2021-01-01 00:00:32.7130  2021-01-01 00:42:19.3980   \n",
              "4           959  2021-01-01 00:00:35.3650  2021-01-01 00:16:34.6010   \n",
              "\n",
              "   start station id          start station name  start station latitude  \\\n",
              "0              3581  Underhill Ave & Lincoln Pl               40.674012   \n",
              "1              3581  Underhill Ave & Lincoln Pl               40.674012   \n",
              "2              3144          E 81 St & Park Ave               40.776777   \n",
              "3              3581  Underhill Ave & Lincoln Pl               40.674012   \n",
              "4               534     Water - Whitehall Plaza               40.702551   \n",
              "\n",
              "   start station longitude  end station id            end station name  \\\n",
              "0               -73.967146            3581  Underhill Ave & Lincoln Pl   \n",
              "1               -73.967146            3581  Underhill Ave & Lincoln Pl   \n",
              "2               -73.959010            3724  7 Ave & Central Park South   \n",
              "3               -73.967146            3581  Underhill Ave & Lincoln Pl   \n",
              "4               -74.012723             332                   Cherry St   \n",
              "\n",
              "   end station latitude  end station longitude  bikeid    usertype  \\\n",
              "0             40.674012             -73.967146   47812    Customer   \n",
              "1             40.674012             -73.967146   47571    Customer   \n",
              "2             40.766741             -73.979069   37451  Subscriber   \n",
              "3             40.674012             -73.967146   48884    Customer   \n",
              "4             40.712199             -73.979481   26837    Customer   \n",
              "\n",
              "   birth year  gender  \n",
              "0        1969       0  \n",
              "1        1969       0  \n",
              "2        2002       1  \n",
              "3        2002       1  \n",
              "4        2002       1  "
            ],
            "text/html": [
              "\n",
              "  <div id=\"df-aeadac89-1364-461b-aac4-f1aeec3f3e9b\">\n",
              "    <div class=\"colab-df-container\">\n",
              "      <div>\n",
              "<style scoped>\n",
              "    .dataframe tbody tr th:only-of-type {\n",
              "        vertical-align: middle;\n",
              "    }\n",
              "\n",
              "    .dataframe tbody tr th {\n",
              "        vertical-align: top;\n",
              "    }\n",
              "\n",
              "    .dataframe thead th {\n",
              "        text-align: right;\n",
              "    }\n",
              "</style>\n",
              "<table border=\"1\" class=\"dataframe\">\n",
              "  <thead>\n",
              "    <tr style=\"text-align: right;\">\n",
              "      <th></th>\n",
              "      <th>tripduration</th>\n",
              "      <th>starttime</th>\n",
              "      <th>stoptime</th>\n",
              "      <th>start station id</th>\n",
              "      <th>start station name</th>\n",
              "      <th>start station latitude</th>\n",
              "      <th>start station longitude</th>\n",
              "      <th>end station id</th>\n",
              "      <th>end station name</th>\n",
              "      <th>end station latitude</th>\n",
              "      <th>end station longitude</th>\n",
              "      <th>bikeid</th>\n",
              "      <th>usertype</th>\n",
              "      <th>birth year</th>\n",
              "      <th>gender</th>\n",
              "    </tr>\n",
              "  </thead>\n",
              "  <tbody>\n",
              "    <tr>\n",
              "      <th>0</th>\n",
              "      <td>2513</td>\n",
              "      <td>2021-01-01 00:00:11.9020</td>\n",
              "      <td>2021-01-01 00:42:05.2260</td>\n",
              "      <td>3581</td>\n",
              "      <td>Underhill Ave &amp; Lincoln Pl</td>\n",
              "      <td>40.674012</td>\n",
              "      <td>-73.967146</td>\n",
              "      <td>3581</td>\n",
              "      <td>Underhill Ave &amp; Lincoln Pl</td>\n",
              "      <td>40.674012</td>\n",
              "      <td>-73.967146</td>\n",
              "      <td>47812</td>\n",
              "      <td>Customer</td>\n",
              "      <td>1969</td>\n",
              "      <td>0</td>\n",
              "    </tr>\n",
              "    <tr>\n",
              "      <th>1</th>\n",
              "      <td>2519</td>\n",
              "      <td>2021-01-01 00:00:15.0960</td>\n",
              "      <td>2021-01-01 00:42:14.9780</td>\n",
              "      <td>3581</td>\n",
              "      <td>Underhill Ave &amp; Lincoln Pl</td>\n",
              "      <td>40.674012</td>\n",
              "      <td>-73.967146</td>\n",
              "      <td>3581</td>\n",
              "      <td>Underhill Ave &amp; Lincoln Pl</td>\n",
              "      <td>40.674012</td>\n",
              "      <td>-73.967146</td>\n",
              "      <td>47571</td>\n",
              "      <td>Customer</td>\n",
              "      <td>1969</td>\n",
              "      <td>0</td>\n",
              "    </tr>\n",
              "    <tr>\n",
              "      <th>2</th>\n",
              "      <td>1207</td>\n",
              "      <td>2021-01-01 00:00:28.9300</td>\n",
              "      <td>2021-01-01 00:20:36.6510</td>\n",
              "      <td>3144</td>\n",
              "      <td>E 81 St &amp; Park Ave</td>\n",
              "      <td>40.776777</td>\n",
              "      <td>-73.959010</td>\n",
              "      <td>3724</td>\n",
              "      <td>7 Ave &amp; Central Park South</td>\n",
              "      <td>40.766741</td>\n",
              "      <td>-73.979069</td>\n",
              "      <td>37451</td>\n",
              "      <td>Subscriber</td>\n",
              "      <td>2002</td>\n",
              "      <td>1</td>\n",
              "    </tr>\n",
              "    <tr>\n",
              "      <th>3</th>\n",
              "      <td>2506</td>\n",
              "      <td>2021-01-01 00:00:32.7130</td>\n",
              "      <td>2021-01-01 00:42:19.3980</td>\n",
              "      <td>3581</td>\n",
              "      <td>Underhill Ave &amp; Lincoln Pl</td>\n",
              "      <td>40.674012</td>\n",
              "      <td>-73.967146</td>\n",
              "      <td>3581</td>\n",
              "      <td>Underhill Ave &amp; Lincoln Pl</td>\n",
              "      <td>40.674012</td>\n",
              "      <td>-73.967146</td>\n",
              "      <td>48884</td>\n",
              "      <td>Customer</td>\n",
              "      <td>2002</td>\n",
              "      <td>1</td>\n",
              "    </tr>\n",
              "    <tr>\n",
              "      <th>4</th>\n",
              "      <td>959</td>\n",
              "      <td>2021-01-01 00:00:35.3650</td>\n",
              "      <td>2021-01-01 00:16:34.6010</td>\n",
              "      <td>534</td>\n",
              "      <td>Water - Whitehall Plaza</td>\n",
              "      <td>40.702551</td>\n",
              "      <td>-74.012723</td>\n",
              "      <td>332</td>\n",
              "      <td>Cherry St</td>\n",
              "      <td>40.712199</td>\n",
              "      <td>-73.979481</td>\n",
              "      <td>26837</td>\n",
              "      <td>Customer</td>\n",
              "      <td>2002</td>\n",
              "      <td>1</td>\n",
              "    </tr>\n",
              "  </tbody>\n",
              "</table>\n",
              "</div>\n",
              "      <button class=\"colab-df-convert\" onclick=\"convertToInteractive('df-aeadac89-1364-461b-aac4-f1aeec3f3e9b')\"\n",
              "              title=\"Convert this dataframe to an interactive table.\"\n",
              "              style=\"display:none;\">\n",
              "        \n",
              "  <svg xmlns=\"http://www.w3.org/2000/svg\" height=\"24px\"viewBox=\"0 0 24 24\"\n",
              "       width=\"24px\">\n",
              "    <path d=\"M0 0h24v24H0V0z\" fill=\"none\"/>\n",
              "    <path d=\"M18.56 5.44l.94 2.06.94-2.06 2.06-.94-2.06-.94-.94-2.06-.94 2.06-2.06.94zm-11 1L8.5 8.5l.94-2.06 2.06-.94-2.06-.94L8.5 2.5l-.94 2.06-2.06.94zm10 10l.94 2.06.94-2.06 2.06-.94-2.06-.94-.94-2.06-.94 2.06-2.06.94z\"/><path d=\"M17.41 7.96l-1.37-1.37c-.4-.4-.92-.59-1.43-.59-.52 0-1.04.2-1.43.59L10.3 9.45l-7.72 7.72c-.78.78-.78 2.05 0 2.83L4 21.41c.39.39.9.59 1.41.59.51 0 1.02-.2 1.41-.59l7.78-7.78 2.81-2.81c.8-.78.8-2.07 0-2.86zM5.41 20L4 18.59l7.72-7.72 1.47 1.35L5.41 20z\"/>\n",
              "  </svg>\n",
              "      </button>\n",
              "      \n",
              "  <style>\n",
              "    .colab-df-container {\n",
              "      display:flex;\n",
              "      flex-wrap:wrap;\n",
              "      gap: 12px;\n",
              "    }\n",
              "\n",
              "    .colab-df-convert {\n",
              "      background-color: #E8F0FE;\n",
              "      border: none;\n",
              "      border-radius: 50%;\n",
              "      cursor: pointer;\n",
              "      display: none;\n",
              "      fill: #1967D2;\n",
              "      height: 32px;\n",
              "      padding: 0 0 0 0;\n",
              "      width: 32px;\n",
              "    }\n",
              "\n",
              "    .colab-df-convert:hover {\n",
              "      background-color: #E2EBFA;\n",
              "      box-shadow: 0px 1px 2px rgba(60, 64, 67, 0.3), 0px 1px 3px 1px rgba(60, 64, 67, 0.15);\n",
              "      fill: #174EA6;\n",
              "    }\n",
              "\n",
              "    [theme=dark] .colab-df-convert {\n",
              "      background-color: #3B4455;\n",
              "      fill: #D2E3FC;\n",
              "    }\n",
              "\n",
              "    [theme=dark] .colab-df-convert:hover {\n",
              "      background-color: #434B5C;\n",
              "      box-shadow: 0px 1px 3px 1px rgba(0, 0, 0, 0.15);\n",
              "      filter: drop-shadow(0px 1px 2px rgba(0, 0, 0, 0.3));\n",
              "      fill: #FFFFFF;\n",
              "    }\n",
              "  </style>\n",
              "\n",
              "      <script>\n",
              "        const buttonEl =\n",
              "          document.querySelector('#df-aeadac89-1364-461b-aac4-f1aeec3f3e9b button.colab-df-convert');\n",
              "        buttonEl.style.display =\n",
              "          google.colab.kernel.accessAllowed ? 'block' : 'none';\n",
              "\n",
              "        async function convertToInteractive(key) {\n",
              "          const element = document.querySelector('#df-aeadac89-1364-461b-aac4-f1aeec3f3e9b');\n",
              "          const dataTable =\n",
              "            await google.colab.kernel.invokeFunction('convertToInteractive',\n",
              "                                                     [key], {});\n",
              "          if (!dataTable) return;\n",
              "\n",
              "          const docLinkHtml = 'Like what you see? Visit the ' +\n",
              "            '<a target=\"_blank\" href=https://colab.research.google.com/notebooks/data_table.ipynb>data table notebook</a>'\n",
              "            + ' to learn more about interactive tables.';\n",
              "          element.innerHTML = '';\n",
              "          dataTable['output_type'] = 'display_data';\n",
              "          await google.colab.output.renderOutput(dataTable, element);\n",
              "          const docLink = document.createElement('div');\n",
              "          docLink.innerHTML = docLinkHtml;\n",
              "          element.appendChild(docLink);\n",
              "        }\n",
              "      </script>\n",
              "    </div>\n",
              "  </div>\n",
              "  "
            ]
          },
          "metadata": {},
          "execution_count": 49
        }
      ],
      "source": [
        "citybike.head()"
      ]
    },
    {
      "cell_type": "markdown",
      "metadata": {
        "id": "chK-TpUlgUeI"
      },
      "source": [
        "0. Find a unique stations coordinates Latitude and Longnitude.\n",
        "\n",
        "0.1. Scatter plot in 2D and with the help of \"folium\" library plot them on the map. (https://python-visualization.github.io/folium/)\n"
      ]
    },
    {
      "cell_type": "code",
      "execution_count": null,
      "metadata": {
        "scrolled": true,
        "id": "bX54NLnEgUeK",
        "colab": {
          "base_uri": "https://localhost:8080/"
        },
        "outputId": "928f6f63-8cc3-48fc-e049-b43cf904a2b3"
      },
      "outputs": [
        {
          "output_type": "execute_result",
          "data": {
            "text/plain": [
              "(1221, 2)"
            ]
          },
          "metadata": {},
          "execution_count": 50
        }
      ],
      "source": [
        "X=citybike[['start station latitude', 'start station longitude']].to_numpy()\n",
        "data=unique_rows(X)\n",
        "data.shape"
      ]
    },
    {
      "cell_type": "code",
      "source": [
        "import matplotlib.pyplot as plt\n",
        "plt.scatter(data[:, 1], data[:, 0])"
      ],
      "metadata": {
        "colab": {
          "base_uri": "https://localhost:8080/",
          "height": 282
        },
        "id": "JpksDurrITO3",
        "outputId": "63584af7-449c-48d1-8c52-cbbf467927ad"
      },
      "execution_count": null,
      "outputs": [
        {
          "output_type": "execute_result",
          "data": {
            "text/plain": [
              "<matplotlib.collections.PathCollection at 0x7f6150798210>"
            ]
          },
          "metadata": {},
          "execution_count": 51
        },
        {
          "output_type": "display_data",
          "data": {
            "text/plain": [
              "<Figure size 432x288 with 1 Axes>"
            ],
            "image/png": "[encoded data removed]"
          },
          "metadata": {
            "needs_background": "light"
          }
        }
      ]
    },
    {
      "cell_type": "code",
      "source": [
        "import folium\n",
        "\n",
        "colors = ['red', 'blue', 'green', 'purple', 'orange', 'darkred', \\\n",
        "     'lightred', 'beige', 'darkblue', 'darkgreen', 'cadetblue', \\\n",
        "     'darkpurple', 'pink', 'lightblue', 'lightgreen', 'gray', \\\n",
        "     'black', 'lightgray', 'red', 'blue', 'green', 'purple', \\\n",
        "     'orange', 'darkred', 'lightred', 'beige', 'darkblue', \\\n",
        "     'darkgreen', 'cadetblue', 'darkpurple','pink', 'lightblue', \\\n",
        "     'lightgreen', 'gray', 'black', 'lightgray' ]\n",
        "\n",
        "map = folium.Map(location=[data[:, 0].mean(), data[:, 1].mean()], zoom_start=12)\n",
        "for i in range(data.shape[0]):\n",
        "    folium.CircleMarker(\n",
        "        location=[data[i, 0], data[i, 1]],\n",
        "        radius=8, # <-sizes\n",
        "        weight=2,\n",
        "        fill=True,\n",
        "        color=colors[16] # <- colour\n",
        "    ).add_to(map)\n",
        "map"
      ],
      "metadata": {
        "id": "_hdQDhwSIssO"
      },
      "execution_count": null,
      "outputs": []
    },
    {
      "cell_type": "markdown",
      "source": [
        "#**The task:**\n",
        "1. Find optimal number of bikine's repare stations by clustering stations coordinates. For that tarsk use KMeans clustering method and find in your opinion two \"optimal\" numbers of clusters in range [2 to 36].\n",
        "\n",
        "1.1 For the report plot in colour clustered data and the centroids.\n",
        "\n",
        "1.2 Calculate the data percentage in a cluster and show in pie diagram.\n",
        "\n",
        "1.3 Show the report for two \"optimal/nice\" numbers of clusters in range [2 to 36]\n",
        "\n",
        "\n"
      ],
      "metadata": {
        "id": "jG2HpYpqXNsw"
      }
    },
    {
      "cell_type": "code",
      "source": [
        "from sklearn.cluster import KMeans\n",
        "\n",
        "#number of clusters\n",
        "k = 3\n"
      ],
      "metadata": {
        "id": "SvEnqvDOOEyo"
      },
      "execution_count": null,
      "outputs": []
    },
    {
      "cell_type": "code",
      "source": [
        "kmeans_cluster = --code --\n",
        "kmeans_cluster.--code --"
      ],
      "metadata": {
        "id": "GpXSloIoOfHn"
      },
      "execution_count": null,
      "outputs": []
    },
    {
      "cell_type": "code",
      "source": [
        "#show labels of the data\n",
        "labels=kmeans_cluster.labels_\n",
        "print(labels)"
      ],
      "metadata": {
        "colab": {
          "base_uri": "https://localhost:8080/"
        },
        "id": "M45zv_LAWOV7",
        "outputId": "27d5eb6b-cb8c-4822-da00-44d9616c67f6"
      },
      "execution_count": null,
      "outputs": [
        {
          "output_type": "stream",
          "name": "stdout",
          "text": [
            "[0 0 0 ... 1 1 1]\n"
          ]
        }
      ]
    },
    {
      "cell_type": "code",
      "source": [
        "# Show the centroids of clusters\n",
        "centroids = kmeans_cluster.cluster_centers_\n",
        "centroids"
      ],
      "metadata": {
        "colab": {
          "base_uri": "https://localhost:8080/"
        },
        "id": "8PGoZZFGOoeY",
        "outputId": "fec5b9ff-9e0c-4639-8af4-1eb91a7469a5"
      },
      "execution_count": null,
      "outputs": [
        {
          "output_type": "execute_result",
          "data": {
            "text/plain": [
              "array([[ 40.69248972, -73.95701478],\n",
              "       [ 40.80619563, -73.92768779],\n",
              "       [ 40.7432032 , -73.98321039]])"
            ]
          },
          "metadata": {},
          "execution_count": 56
        }
      ]
    },
    {
      "cell_type": "markdown",
      "source": [
        "Calculate and show in pie diagram the data percentage in a clusters"
      ],
      "metadata": {
        "id": "ARUKVQN6c22A"
      }
    },
    {
      "cell_type": "code",
      "source": [
        "k_labels=list(labels)\n",
        "percent=[]\n",
        "for i in range(len(centroids)):\n",
        "\n",
        "-- to code--\n",
        "\n",
        "print(percent)\n",
        "plt.pie(percent,labels=np.arange(len(centroids)))\n",
        "plt.show()"
      ],
      "metadata": {
        "colab": {
          "base_uri": "https://localhost:8080/",
          "height": 265
        },
        "id": "qr3j7R5fc1kJ",
        "outputId": "a326e56c-ca52-4390-d3fb-4e8bc7cb81f4"
      },
      "execution_count": null,
      "outputs": [
        {
          "output_type": "stream",
          "name": "stdout",
          "text": [
            "[0.3013923013923014, 0.37674037674037675, 0.32186732186732187]\n"
          ]
        },
        {
          "output_type": "display_data",
          "data": {
            "text/plain": [
              "<Figure size 432x288 with 1 Axes>"
            ],
            "image/png": "[encoded data removed]"
          },
          "metadata": {}
        }
      ]
    },
    {
      "cell_type": "markdown",
      "source": [
        "Colour station location according to cluster number"
      ],
      "metadata": {
        "id": "sxsDR0wOb4Jq"
      }
    },
    {
      "cell_type": "code",
      "source": [
        "# add cluster label (clour) for a data location\n",
        "for i in --code --:\n",
        "    folium.CircleMarker(\n",
        "        location=[---code --],\n",
        "        radius=8,\n",
        "        weight=2,\n",
        "        fill=True,\n",
        "        color=colors[--code--] # <- colour\n",
        "    ).add_to(map)\n"
      ],
      "metadata": {
        "id": "6trhTIEraQKo"
      },
      "execution_count": null,
      "outputs": []
    },
    {
      "cell_type": "code",
      "source": [
        "# add markers for a centroids in black colour\n",
        "for i in --- code --\n",
        "    folium.CircleMarker(\n",
        "        location=[---code --],\n",
        "        radius=8,\n",
        "        weight=5,\n",
        "        fill=True,\n",
        "        fill_color='black',\n",
        "        color='black'\n",
        "    ).add_to(map)\n",
        "map"
      ],
      "metadata": {
        "id": "BHHPYwE0QfBz"
      },
      "execution_count": null,
      "outputs": []
    },
    {
      "cell_type": "markdown",
      "source": [
        "Do any conclusion"
      ],
      "metadata": {
        "id": "DgCAMDtBf_iE"
      }
    }
  ],
  "metadata": {
    "kernelspec": {
      "display_name": "Python 3",
      "language": "python",
      "name": "python3"
    },
    "language_info": {
      "codemirror_mode": {
        "name": "ipython",
        "version": 3
      },
      "file_extension": ".py",
      "mimetype": "text/x-python",
      "name": "python",
      "nbconvert_exporter": "python",
      "pygments_lexer": "ipython3",
      "version": "3.5.2"
    },
    "toc": {
      "nav_menu": {},
      "number_sections": true,
      "sideBar": true,
      "skip_h1_title": false,
      "toc_cell": false,
      "toc_position": {},
      "toc_section_display": "block",
      "toc_window_display": false
    },
    "varInspector": {
      "cols": {
        "lenName": 16,
        "lenType": 16,
        "lenVar": 40
      },
      "kernels_config": {
        "python": {
          "delete_cmd_postfix": "",
          "delete_cmd_prefix": "del ",
          "library": "var_list.py",
          "varRefreshCmd": "print(var_dic_list())"
        },
        "r": {
          "delete_cmd_postfix": ") ",
          "delete_cmd_prefix": "rm(",
          "library": "var_list.r",
          "varRefreshCmd": "cat(var_dic_list()) "
        }
      },
      "types_to_exclude": [
        "module",
        "function",
        "builtin_function_or_method",
        "instance",
        "_Feature"
      ],
      "window_display": false
    },
    "colab": {
      "provenance": [],
      "include_colab_link": true
    }
  },
  "nbformat": 4,
  "nbformat_minor": 0
}