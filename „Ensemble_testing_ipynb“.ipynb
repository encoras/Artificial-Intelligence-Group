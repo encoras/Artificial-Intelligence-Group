{
  "nbformat": 4,
  "nbformat_minor": 0,
  "metadata": {
    "colab": {
      "provenance": [],
      "authorship_tag": "ABX9TyPY78fobFYtfd2RiF050Qy2",
      "include_colab_link": true
    },
    "kernelspec": {
      "name": "python3",
      "display_name": "Python 3"
    },
    "language_info": {
      "name": "python"
    }
  },
  "cells": [
    {
      "cell_type": "markdown",
      "metadata": {
        "id": "view-in-github",
        "colab_type": "text"
      },
      "source": [
        "<a href=\"https://colab.research.google.com/github/encoras/Artificial-Intelligence-Group/blob/master/%E2%80%9EEnsemble_testing_ipynb%E2%80%9C.ipynb\" target=\"_parent\"><img src=\"https://colab.research.google.com/assets/colab-badge.svg\" alt=\"Open In Colab\"/></a>"
      ]
    },
    {
      "cell_type": "code",
      "execution_count": 1,
      "metadata": {
        "id": "QrlBjBROS8fk"
      },
      "outputs": [],
      "source": [
        "from sklearn.datasets import load_iris\n",
        "from sklearn.model_selection import train_test_split\n",
        "from sklearn.ensemble import RandomForestClassifier\n",
        "from sklearn import tree\n",
        "from sklearn import metrics\n",
        "from mlxtend.plotting import plot_decision_regions\n",
        "from matplotlib import pyplot as plt\n",
        "import numpy as np\n"
      ]
    },
    {
      "cell_type": "markdown",
      "source": [],
      "metadata": {
        "id": "TqGpm08A1Pj7"
      }
    },
    {
      "cell_type": "markdown",
      "source": [
        "Load IRIS database and do Decision Tree clasification."
      ],
      "metadata": {
        "id": "JkMUZyYsS9gJ"
      }
    },
    {
      "cell_type": "code",
      "source": [
        "X, y = load_iris(return_X_y=True)\n"
      ],
      "metadata": {
        "id": "DcTVsnqN2P-0"
      },
      "execution_count": 2,
      "outputs": []
    },
    {
      "cell_type": "markdown",
      "source": [
        "## *Let's do in correct way by spliting data into training, validation and testing sets with stratified spliting*\n"
      ],
      "metadata": {
        "id": "mUJUnlz0Z0d0"
      }
    },
    {
      "cell_type": "code",
      "source": [
        "X_temp, X_test, y_temp, y_test = train_test_split(X, y, test_size=0.2, random_state=1, shuffle=True, stratify=y)\n",
        "np.bincount(y_temp)"
      ],
      "metadata": {
        "colab": {
          "base_uri": "https://localhost:8080/"
        },
        "id": "b2CVmuyYaCO8",
        "outputId": "b382acdd-cf69-4950-9dc7-f5604fc3b6a1"
      },
      "execution_count": 3,
      "outputs": [
        {
          "output_type": "execute_result",
          "data": {
            "text/plain": [
              "array([40, 40, 40])"
            ]
          },
          "metadata": {},
          "execution_count": 3
        }
      ]
    },
    {
      "cell_type": "code",
      "source": [
        "X_train, X_valid, y_train, y_valid = train_test_split(X_temp, y_temp, test_size=0.2, random_state=10, shuffle=True, stratify=y_temp)\n",
        "X_train.shape"
      ],
      "metadata": {
        "id": "kuyocDOla1Mx",
        "colab": {
          "base_uri": "https://localhost:8080/"
        },
        "outputId": "1e149786-c1d6-4dba-c322-eeb26e7b6c05"
      },
      "execution_count": 4,
      "outputs": [
        {
          "output_type": "execute_result",
          "data": {
            "text/plain": [
              "(96, 4)"
            ]
          },
          "metadata": {},
          "execution_count": 4
        }
      ]
    },
    {
      "cell_type": "markdown",
      "source": [
        "Scaling data by normalisation.\n"
      ],
      "metadata": {
        "id": "42oJk3C1bgb_"
      }
    },
    {
      "cell_type": "code",
      "source": [
        "from sklearn.preprocessing import StandardScaler\n",
        "scaler = StandardScaler()\n",
        "scaler.fit(X_train)\n",
        "X_train_std=scaler.transform(X_train)\n",
        "X_test_std=scaler.transform(X_test)\n",
        "X_valid_std=scaler.transform(X_valid)"
      ],
      "metadata": {
        "id": "FF6z0NoOblmA"
      },
      "execution_count": 5,
      "outputs": []
    },
    {
      "cell_type": "code",
      "source": [
        "from sklearn.preprocessing import MinMaxScaler\n"
      ],
      "metadata": {
        "id": "dUOEyZJbcQoR"
      },
      "execution_count": 6,
      "outputs": []
    },
    {
      "cell_type": "code",
      "source": [
        "scaler = MinMaxScaler()\n",
        "scaler.fit(X_train)\n",
        "X_train_mm=scaler.transform(X_train)\n",
        "X_test_mm=scaler.transform(X_test)\n",
        "X_valid_mm=scaler.transform(X_valid)"
      ],
      "metadata": {
        "id": "H51rkRaScdk2"
      },
      "execution_count": 7,
      "outputs": []
    },
    {
      "cell_type": "code",
      "source": [
        "dtc_1 = RandomForestClassifier(random_state=123)\n",
        "dtc_1.fit(X_train, y_train)\n",
        "y_pred = dtc_1.predict(X_test)\n",
        "scores_dtc_1=metrics.accuracy_score(y_test,y_pred)\n",
        "print('Acc_RandomForestClassifier = ', scores_dtc_1)\n",
        "\n"
      ],
      "metadata": {
        "id": "PvI9N4BOdPG0",
        "colab": {
          "base_uri": "https://localhost:8080/"
        },
        "outputId": "eb952cf0-b0fb-4eea-8a64-dc4a2ee9ce59"
      },
      "execution_count": 8,
      "outputs": [
        {
          "output_type": "stream",
          "name": "stdout",
          "text": [
            "Acc_RandomForestClassifier =  0.9666666666666667\n"
          ]
        }
      ]
    },
    {
      "cell_type": "code",
      "source": [
        "metrics.confusion_matrix(y_test,y_pred)"
      ],
      "metadata": {
        "id": "VxXCRTstRvSH",
        "colab": {
          "base_uri": "https://localhost:8080/"
        },
        "outputId": "575424d5-b467-4f26-cde1-a3c340ecd796"
      },
      "execution_count": 19,
      "outputs": [
        {
          "output_type": "execute_result",
          "data": {
            "text/plain": [
              "array([[10,  0,  0],\n",
              "       [ 1,  9,  0],\n",
              "       [ 0,  1,  9]])"
            ]
          },
          "metadata": {},
          "execution_count": 19
        }
      ]
    },
    {
      "cell_type": "code",
      "source": [
        "np.column_stack((y_test,y_pred))"
      ],
      "metadata": {
        "id": "CMZR55jfbMHN",
        "outputId": "9e455aa3-8a77-4fd6-ea63-ba3ba5cb5505",
        "colab": {
          "base_uri": "https://localhost:8080/"
        }
      },
      "execution_count": 28,
      "outputs": [
        {
          "output_type": "execute_result",
          "data": {
            "text/plain": [
              "array([[2, 2],\n",
              "       [0, 0],\n",
              "       [1, 0],\n",
              "       [0, 0],\n",
              "       [0, 0],\n",
              "       [0, 0],\n",
              "       [2, 2],\n",
              "       [2, 2],\n",
              "       [2, 2],\n",
              "       [1, 1],\n",
              "       [0, 0],\n",
              "       [1, 1],\n",
              "       [2, 2],\n",
              "       [1, 1],\n",
              "       [2, 2],\n",
              "       [0, 0],\n",
              "       [2, 2],\n",
              "       [1, 1],\n",
              "       [1, 1],\n",
              "       [2, 2],\n",
              "       [1, 1],\n",
              "       [1, 1],\n",
              "       [0, 0],\n",
              "       [0, 0],\n",
              "       [2, 2],\n",
              "       [2, 1],\n",
              "       [0, 0],\n",
              "       [0, 0],\n",
              "       [1, 1],\n",
              "       [1, 1]])"
            ]
          },
          "metadata": {},
          "execution_count": 28
        }
      ]
    },
    {
      "cell_type": "code",
      "source": [
        "from sklearn.metrics import ConfusionMatrixDisplay\n",
        "np.set_printoptions(precision=2)\n",
        "\n",
        "# Plot non-normalized confusion matrix\n",
        "titles_options = [\n",
        "    (\"Confusion matrix, without normalization\", None),\n",
        "    (\"Normalized confusion matrix\", \"true\"),\n",
        "]\n",
        "for title, normalize in titles_options:\n",
        "    disp = ConfusionMatrixDisplay.from_estimator(\n",
        "        dtc_1,\n",
        "        X_test,\n",
        "        y_test,\n",
        "        display_labels=['0','1','2'],\n",
        "        cmap=plt.cm.Blues,\n",
        "        normalize=normalize,\n",
        "    )\n",
        "    disp.ax_.set_title(title)\n",
        "\n",
        "    print(title)\n",
        "    print(disp.confusion_matrix)\n",
        "\n",
        "plt.show()"
      ],
      "metadata": {
        "id": "3Uvo5hBkbz3C",
        "outputId": "ec59fdbf-71a5-46db-d340-fd64469fbb9c",
        "colab": {
          "base_uri": "https://localhost:8080/",
          "height": 1000
        }
      },
      "execution_count": 18,
      "outputs": [
        {
          "output_type": "stream",
          "name": "stdout",
          "text": [
            "Confusion matrix, without normalization\n",
            "[[10  0  0]\n",
            " [ 0 10  0]\n",
            " [ 0  1  9]]\n",
            "Normalized confusion matrix\n",
            "[[1.  0.  0. ]\n",
            " [0.  1.  0. ]\n",
            " [0.  0.1 0.9]]\n"
          ]
        },
        {
          "output_type": "display_data",
          "data": {
            "text/plain": [
              "<Figure size 640x480 with 2 Axes>"
            ],
            "image/png": "[encoded data removed]"
          },
          "metadata": {}
        },
        {
          "output_type": "display_data",
          "data": {
            "text/plain": [
              "<Figure size 640x480 with 2 Axes>"
            ],
            "image/png": "[encoded data removed]"
          },
          "metadata": {}
        }
      ]
    },
    {
      "cell_type": "code",
      "source": [
        "importance = dtc_1.feature_importances_\n",
        "# summarize feature importance\n",
        "for i,v in enumerate(importance):\n",
        "\tprint('Feature: %0d, Score: %.5f' % (i,v))\n",
        "# plot feature importance\n",
        "plt.bar([x for x in range(len(importance))], importance)\n",
        "plt.xlabel(['Sepal Length', 'Sepal Width', 'Petal Length', 'Petal Width'])\n",
        "plt.show()"
      ],
      "metadata": {
        "id": "JROqSm3nSzZw",
        "colab": {
          "base_uri": "https://localhost:8080/",
          "height": 522
        },
        "outputId": "5f464519-7694-4458-8201-b3340b92bf8a"
      },
      "execution_count": 10,
      "outputs": [
        {
          "output_type": "stream",
          "name": "stdout",
          "text": [
            "Feature: 0, Score: 0.09743\n",
            "Feature: 1, Score: 0.02969\n",
            "Feature: 2, Score: 0.42175\n",
            "Feature: 3, Score: 0.45112\n"
          ]
        },
        {
          "output_type": "display_data",
          "data": {
            "text/plain": [
              "<Figure size 640x480 with 1 Axes>"
            ],
            "image/png": "[encoded data removed]"
          },
          "metadata": {}
        }
      ]
    },
    {
      "cell_type": "code",
      "source": [
        "from sklearn.model_selection import GridSearchCV\n",
        "#create a new random forest classifier\n",
        "rf = RandomForestClassifier(random_state=42)\n",
        "#create a dictionary of all values we want to test for n_estimators\n",
        "params_rf = {\"n_estimators\": [2, 3, 5, 9,11,15,25,50,100], 'criterion' :['gini', 'entropy'], 'max_features': ['sqrt', 'log2'], 'max_depth' : [2,3,4,5,6] }\n",
        "#use gridsearch to test all values for n_estimators\n",
        "rf_gs = GridSearchCV(rf, params_rf, cv=5)\n",
        "#fit model to training data\n",
        "rf_gs.fit(X_train, y_train)\n",
        "#check best n_estimators value\n",
        "print(rf_gs)\n",
        "print(rf_gs.best_params_)\n",
        "print(rf_gs.best_score_)"
      ],
      "metadata": {
        "id": "fJDdUcbXfJs5",
        "colab": {
          "base_uri": "https://localhost:8080/"
        },
        "outputId": "9abbd0e0-fd22-43bf-c3fa-5f1e49809fe2"
      },
      "execution_count": 56,
      "outputs": [
        {
          "output_type": "stream",
          "name": "stdout",
          "text": [
            "GridSearchCV(cv=5, estimator=RandomForestClassifier(random_state=42),\n",
            "             param_grid={'criterion': ['gini', 'entropy'],\n",
            "                         'max_depth': [2, 3, 4, 5, 6],\n",
            "                         'max_features': ['sqrt', 'log2'],\n",
            "                         'n_estimators': [2, 3, 5, 9, 11, 15, 25, 50, 100]})\n",
            "{'criterion': 'gini', 'max_depth': 5, 'max_features': 'sqrt', 'n_estimators': 11}\n",
            "0.958421052631579\n"
          ]
        }
      ]
    },
    {
      "cell_type": "code",
      "source": [
        "rf = RandomForestClassifier(n_estimators=11, criterion= 'gini', max_features= 'sqrt', max_depth= 5, random_state=42)\n",
        "rf.fit(X_train, y_train)\n",
        "y_pred = rf.predict(X_test)\n",
        "scores_rf=metrics.accuracy_score(y_test,y_pred)\n",
        "scores_rf"
      ],
      "metadata": {
        "id": "ykIhyQ45fMvV",
        "outputId": "4b8a8ddc-3ad0-47b4-d6ce-52c6ea66acb1",
        "colab": {
          "base_uri": "https://localhost:8080/"
        }
      },
      "execution_count": 31,
      "outputs": [
        {
          "output_type": "execute_result",
          "data": {
            "text/plain": [
              "0.9666666666666667"
            ]
          },
          "metadata": {},
          "execution_count": 31
        }
      ]
    },
    {
      "cell_type": "markdown",
      "source": [
        "Bagging classifier (https://www.geeksforgeeks.org/ml-bagging-classifier/)"
      ],
      "metadata": {
        "id": "oYa2D4E8Dpxz"
      }
    },
    {
      "cell_type": "code",
      "source": [
        "from sklearn.ensemble import BaggingClassifier\n",
        "from sklearn.tree import DecisionTreeClassifier\n",
        "\n",
        "# initialize the base classifier\n",
        "base_cls = DecisionTreeClassifier(criterion=\"entropy\")\n",
        "\n",
        "# no. of base classifier\n",
        "num_trees = 50\n",
        "\n",
        "# bagging classifier\n",
        "model = BaggingClassifier(base_estimator = base_cls,\n",
        "                          n_estimators = num_trees,\n",
        "                          random_state = 123)\n",
        "model_b = model.fit(X_train, y_train)\n",
        "#Predict the response for test dataset\n",
        "y_pred = model_b.predict(X_test)\n",
        "scores_abc=metrics.accuracy_score(y_test,y_pred)\n",
        "print('Acc_BaggingClassifier = ', scores_abc)\n"
      ],
      "metadata": {
        "id": "5foiEILjVZHp",
        "colab": {
          "base_uri": "https://localhost:8080/"
        },
        "outputId": "1f198cb8-ab0f-484e-f854-f264dc2ee2c9"
      },
      "execution_count": 35,
      "outputs": [
        {
          "output_type": "stream",
          "name": "stdout",
          "text": [
            "Acc_BaggingClassifier =  0.9666666666666667\n"
          ]
        },
        {
          "output_type": "stream",
          "name": "stderr",
          "text": [
            "/usr/local/lib/python3.10/dist-packages/sklearn/ensemble/_base.py:166: FutureWarning: `base_estimator` was renamed to `estimator` in version 1.2 and will be removed in 1.4.\n",
            "  warnings.warn(\n"
          ]
        }
      ]
    },
    {
      "cell_type": "markdown",
      "source": [
        "AdaBoost Classifier (https://www.datacamp.com/tutorial/adaboost-classifier-python)"
      ],
      "metadata": {
        "id": "l7eU0tb7WvT7"
      }
    },
    {
      "cell_type": "code",
      "source": [
        "from sklearn.ensemble import AdaBoostClassifier\n",
        "\n",
        "# Create adaboost classifer object\n",
        "abc = AdaBoostClassifier(n_estimators=50, learning_rate=1)\n",
        "# Train Adaboost Classifer\n",
        "model = abc.fit(X_train, y_train)\n",
        "\n",
        "#Predict the response for test dataset\n",
        "y_pred = model.predict(X_test)\n",
        "scores_abc=metrics.accuracy_score(y_test,y_pred)\n",
        "print('Acc_AdaBoostClassifier = ', scores_abc)"
      ],
      "metadata": {
        "id": "GH5zpNR6WwSc",
        "colab": {
          "base_uri": "https://localhost:8080/"
        },
        "outputId": "7a87b0cc-ad74-449c-b0be-9584d9000050"
      },
      "execution_count": 13,
      "outputs": [
        {
          "output_type": "stream",
          "name": "stdout",
          "text": [
            "Acc_AdaBoostClassifier =  0.9666666666666667\n"
          ]
        }
      ]
    },
    {
      "cell_type": "markdown",
      "source": [],
      "metadata": {
        "id": "Wn1rOg8JXeX0"
      }
    },
    {
      "cell_type": "code",
      "source": [
        "# Import Support Vector Classifier\n",
        "from sklearn.svm import SVC\n",
        "#Import scikit-learn metrics module for accuracy calculation\n",
        "from sklearn import metrics\n",
        "svc=SVC(probability=True, kernel='linear')\n",
        "\n",
        "# Create adaboost classifer object\n",
        "abc =AdaBoostClassifier(n_estimators=50, base_estimator=svc, learning_rate=1)\n",
        "\n",
        "# Train Adaboost Classifer\n",
        "model = abc.fit(X_train, y_train)\n",
        "\n",
        "#Predict the response for test dataset\n",
        "y_pred = model.predict(X_test)\n",
        "\n",
        "\n",
        "# Model Accuracy, how often is the classifier correct?\n",
        "print(\"Accuracy:\",metrics.accuracy_score(y_test, y_pred))"
      ],
      "metadata": {
        "id": "4xo2ELRVXeuN",
        "colab": {
          "base_uri": "https://localhost:8080/"
        },
        "outputId": "c5ebeb41-2bca-41ee-b456-cd51cfc6b985"
      },
      "execution_count": 36,
      "outputs": [
        {
          "output_type": "stream",
          "name": "stdout",
          "text": [
            "Accuracy: 0.9666666666666667\n"
          ]
        },
        {
          "output_type": "stream",
          "name": "stderr",
          "text": [
            "/usr/local/lib/python3.10/dist-packages/sklearn/ensemble/_base.py:166: FutureWarning: `base_estimator` was renamed to `estimator` in version 1.2 and will be removed in 1.4.\n",
            "  warnings.warn(\n"
          ]
        }
      ]
    },
    {
      "cell_type": "markdown",
      "source": [
        "# **How to Develop XGBoost Model**"
      ],
      "metadata": {
        "id": "EDdRVuyg1Q0J"
      }
    },
    {
      "cell_type": "code",
      "source": [
        "from xgboost import XGBClassifier\n",
        "# fit model no training data\n",
        "xgbc = XGBClassifier( n_estimators=11, max_depth =5)\n",
        "xgbc.fit(X_train, y_train)\n",
        "# make predictions for test data\n",
        "y_pred = xgbc.predict(X_test)\n",
        "predictions = [round(value) for value in y_pred]\n",
        "# evaluate predictions\n",
        "accuracy = metrics.accuracy_score(y_test, predictions)\n",
        "print(\"Accuracy: \" ,accuracy)\n"
      ],
      "metadata": {
        "id": "yzyxghpY1Z56",
        "colab": {
          "base_uri": "https://localhost:8080/"
        },
        "outputId": "67d47d8a-5693-4f36-bba6-fa73436a4062"
      },
      "execution_count": 53,
      "outputs": [
        {
          "output_type": "stream",
          "name": "stdout",
          "text": [
            "Accuracy:  0.9333333333333333\n"
          ]
        }
      ]
    },
    {
      "cell_type": "code",
      "source": [
        "from sklearn.metrics import confusion_matrix\n",
        "from sklearn.model_selection import cross_val_score, KFold\n",
        "# - cross validataion\n",
        "scores = cross_val_score(xgbc, X_train, y_train, cv=5)\n",
        "print(\"Mean cross-validation score: %.2f\" % scores.mean())\n",
        "\n",
        "kfold = KFold(n_splits=10, shuffle=True)\n",
        "kf_cv_scores = cross_val_score(xgbc, X_train, y_train, cv=kfold )\n",
        "print(\"K-fold CV average score: %.2f\" % kf_cv_scores.mean())\n",
        "\n",
        "ypred = xgbc.predict(X_test)\n",
        "cm = confusion_matrix(y_test,ypred)\n",
        "print(cm)"
      ],
      "metadata": {
        "id": "qyE2rvlDhb1p",
        "outputId": "a39b7c76-6d25-4276-d768-697cfa6cd880",
        "colab": {
          "base_uri": "https://localhost:8080/"
        }
      },
      "execution_count": 54,
      "outputs": [
        {
          "output_type": "stream",
          "name": "stdout",
          "text": [
            "Mean cross-validation score: 0.94\n",
            "K-fold CV average score: 0.93\n",
            "[[10  0  0]\n",
            " [ 1  9  0]\n",
            " [ 0  1  9]]\n"
          ]
        }
      ]
    },
    {
      "cell_type": "code",
      "source": [
        "scores"
      ],
      "metadata": {
        "id": "IQCU9tPni5tK",
        "outputId": "5acc4d9f-03cd-47e5-c921-3e9cbc4effcf",
        "colab": {
          "base_uri": "https://localhost:8080/"
        }
      },
      "execution_count": 55,
      "outputs": [
        {
          "output_type": "execute_result",
          "data": {
            "text/plain": [
              "array([0.9 , 0.95, 0.95, 0.95, 0.95])"
            ]
          },
          "metadata": {},
          "execution_count": 55
        }
      ]
    }
  ]
}