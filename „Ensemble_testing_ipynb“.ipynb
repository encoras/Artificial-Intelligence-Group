{
  "nbformat": 4,
  "nbformat_minor": 0,
  "metadata": {
    "colab": {
      "provenance": [],
      "collapsed_sections": [],
      "authorship_tag": "ABX9TyNQDfo8bqUBG9OuUubI+YhK",
      "include_colab_link": true
    },
    "kernelspec": {
      "name": "python3",
      "display_name": "Python 3"
    },
    "language_info": {
      "name": "python"
    }
  },
  "cells": [
    {
      "cell_type": "markdown",
      "metadata": {
        "id": "view-in-github",
        "colab_type": "text"
      },
      "source": [
        "<a href=\"https://colab.research.google.com/github/encoras/Artificial-Intelligence-Group/blob/master/%E2%80%9EEnsemble_testing_ipynb%E2%80%9C.ipynb\" target=\"_parent\"><img src=\"https://colab.research.google.com/assets/colab-badge.svg\" alt=\"Open In Colab\"/></a>"
      ]
    },
    {
      "cell_type": "code",
      "execution_count": 5,
      "metadata": {
        "id": "QrlBjBROS8fk"
      },
      "outputs": [],
      "source": [
        "from sklearn.datasets import load_iris\n",
        "from sklearn.model_selection import train_test_split\n",
        "from sklearn.ensemble import RandomForestClassifier\n",
        "from sklearn import tree\n",
        "from sklearn import metrics\n",
        "from mlxtend.plotting import plot_decision_regions\n",
        "from matplotlib import pyplot as plt\n",
        "import numpy as np\n"
      ]
    },
    {
      "cell_type": "markdown",
      "source": [],
      "metadata": {
        "id": "TqGpm08A1Pj7"
      }
    },
    {
      "cell_type": "markdown",
      "source": [
        "Load IRIS database and do Decision Tree clasification."
      ],
      "metadata": {
        "id": "JkMUZyYsS9gJ"
      }
    },
    {
      "cell_type": "code",
      "source": [
        "X, y = load_iris(return_X_y=True)\n"
      ],
      "metadata": {
        "id": "DcTVsnqN2P-0"
      },
      "execution_count": 6,
      "outputs": []
    },
    {
      "cell_type": "markdown",
      "source": [
        "## *Let's do in correct way by spliting data into training, validation and testing sets with stratified spliting*\n"
      ],
      "metadata": {
        "id": "mUJUnlz0Z0d0"
      }
    },
    {
      "cell_type": "code",
      "source": [
        "X_temp, X_test, y_temp, y_test = train_test_split(X, y, test_size=0.2, random_state=1, shuffle=True, stratify=y)\n",
        "np.bincount(y_temp)"
      ],
      "metadata": {
        "colab": {
          "base_uri": "https://localhost:8080/"
        },
        "id": "b2CVmuyYaCO8",
        "outputId": "92244db5-6335-4c2e-cafc-ac1e37d68853"
      },
      "execution_count": 7,
      "outputs": [
        {
          "output_type": "execute_result",
          "data": {
            "text/plain": [
              "array([40, 40, 40])"
            ]
          },
          "metadata": {},
          "execution_count": 7
        }
      ]
    },
    {
      "cell_type": "code",
      "source": [
        "X_train, X_valid, y_train, y_valid = train_test_split(X_temp, y_temp, test_size=0.2, random_state=10, shuffle=True, stratify=y_temp)\n",
        "X_train.shape"
      ],
      "metadata": {
        "id": "kuyocDOla1Mx",
        "colab": {
          "base_uri": "https://localhost:8080/"
        },
        "outputId": "71f8d597-636a-40ae-fe37-0fa3cea87d01"
      },
      "execution_count": 8,
      "outputs": [
        {
          "output_type": "execute_result",
          "data": {
            "text/plain": [
              "(96, 4)"
            ]
          },
          "metadata": {},
          "execution_count": 8
        }
      ]
    },
    {
      "cell_type": "markdown",
      "source": [
        "Scaling data by normalisation.\n"
      ],
      "metadata": {
        "id": "42oJk3C1bgb_"
      }
    },
    {
      "cell_type": "code",
      "source": [
        "from sklearn.preprocessing import StandardScaler\n",
        "scaler = StandardScaler()\n",
        "scaler.fit(X_train)\n",
        "X_train_std=scaler.transform(X_train)\n",
        "X_test_std=scaler.transform(X_test)\n",
        "X_valid_std=scaler.transform(X_valid)"
      ],
      "metadata": {
        "id": "FF6z0NoOblmA"
      },
      "execution_count": 9,
      "outputs": []
    },
    {
      "cell_type": "code",
      "source": [
        "from sklearn.preprocessing import MinMaxScaler\n"
      ],
      "metadata": {
        "id": "dUOEyZJbcQoR"
      },
      "execution_count": 10,
      "outputs": []
    },
    {
      "cell_type": "code",
      "source": [
        "scaler = MinMaxScaler()\n",
        "scaler.fit(X_train)\n",
        "X_train_mm=scaler.transform(X_train)\n",
        "X_test_mm=scaler.transform(X_test)\n",
        "X_valid_mm=scaler.transform(X_valid)"
      ],
      "metadata": {
        "id": "H51rkRaScdk2"
      },
      "execution_count": 11,
      "outputs": []
    },
    {
      "cell_type": "code",
      "source": [
        "dtc_1 = RandomForestClassifier(random_state=123)\n",
        "dtc_1.fit(X_train, y_train)\n",
        "y_pred = dtc_1.predict(X_test)\n",
        "scores_dtc_1=metrics.accuracy_score(y_test,y_pred)\n",
        "print('Acc_RandomForestClassifier = ', scores_dtc_1)\n",
        "\n"
      ],
      "metadata": {
        "id": "PvI9N4BOdPG0",
        "colab": {
          "base_uri": "https://localhost:8080/"
        },
        "outputId": "e04dc949-823e-46ad-9af1-dd76192f12d3"
      },
      "execution_count": 12,
      "outputs": [
        {
          "output_type": "stream",
          "name": "stdout",
          "text": [
            "Acc_RandomForestClassifier =  0.9666666666666667\n"
          ]
        }
      ]
    },
    {
      "cell_type": "code",
      "source": [
        "metrics.confusion_matrix(y_test,y_pred,  labels = [1, 2, 3])"
      ],
      "metadata": {
        "id": "VxXCRTstRvSH",
        "colab": {
          "base_uri": "https://localhost:8080/"
        },
        "outputId": "0d24774b-372a-486c-d167-8beaac637333"
      },
      "execution_count": 13,
      "outputs": [
        {
          "output_type": "execute_result",
          "data": {
            "text/plain": [
              "array([[10,  0,  0],\n",
              "       [ 1,  9,  0],\n",
              "       [ 0,  0,  0]])"
            ]
          },
          "metadata": {},
          "execution_count": 13
        }
      ]
    },
    {
      "cell_type": "code",
      "source": [
        "importance = dtc_1.feature_importances_\n",
        "# summarize feature importance\n",
        "for i,v in enumerate(importance):\n",
        "\tprint('Feature: %0d, Score: %.5f' % (i,v))\n",
        "# plot feature importance\n",
        "plt.bar([x for x in range(len(importance))], importance)\n",
        "plt.xlabel(['Sepal Length', 'Sepal Width', 'Petal Length', 'Petal Width'])\n",
        "plt.show()"
      ],
      "metadata": {
        "id": "JROqSm3nSzZw",
        "colab": {
          "base_uri": "https://localhost:8080/",
          "height": 352
        },
        "outputId": "c34e2018-2cf3-4c67-f55b-245f28964d1a"
      },
      "execution_count": 14,
      "outputs": [
        {
          "output_type": "stream",
          "name": "stdout",
          "text": [
            "Feature: 0, Score: 0.09743\n",
            "Feature: 1, Score: 0.02969\n",
            "Feature: 2, Score: 0.42175\n",
            "Feature: 3, Score: 0.45112\n"
          ]
        },
        {
          "output_type": "display_data",
          "data": {
            "text/plain": [
              "<Figure size 432x288 with 1 Axes>"
            ],
            "image/png": "[encoded data removed]"
          },
          "metadata": {
            "needs_background": "light"
          }
        }
      ]
    },
    {
      "cell_type": "code",
      "source": [
        "from sklearn.model_selection import GridSearchCV\n",
        "#create a new random forest classifier\n",
        "rf = RandomForestClassifier(criterion=\"entropy\")\n",
        "#create a dictionary of all values we want to test for n_estimators\n",
        "params_rf = {\"n_estimators\": [1, 2, 3, 5, 9,11]}\n",
        "#use gridsearch to test all values for n_estimators\n",
        "rf_gs = GridSearchCV(rf, params_rf, cv=5)\n",
        "#fit model to training data\n",
        "rf_gs.fit(X_train, y_train)\n",
        "#check best n_estimators value\n",
        "print(rf_gs)\n",
        "print(rf_gs.best_params_)"
      ],
      "metadata": {
        "id": "fJDdUcbXfJs5",
        "colab": {
          "base_uri": "https://localhost:8080/"
        },
        "outputId": "41c13e31-76fd-4834-9811-c46664eb7c0f"
      },
      "execution_count": 15,
      "outputs": [
        {
          "output_type": "stream",
          "name": "stdout",
          "text": [
            "GridSearchCV(cv=5, estimator=RandomForestClassifier(criterion='entropy'),\n",
            "             param_grid={'n_estimators': [1, 2, 3, 5, 9, 11]})\n",
            "{'n_estimators': 5}\n"
          ]
        }
      ]
    },
    {
      "cell_type": "markdown",
      "source": [
        "Bagging classifier (https://www.geeksforgeeks.org/ml-bagging-classifier/)"
      ],
      "metadata": {
        "id": "oYa2D4E8Dpxz"
      }
    },
    {
      "cell_type": "code",
      "source": [
        "from sklearn.ensemble import BaggingClassifier\n",
        "from sklearn.tree import DecisionTreeClassifier\n",
        "\n",
        "# initialize the base classifier\n",
        "base_cls = DecisionTreeClassifier(criterion=\"entropy\")\n",
        "  \n",
        "# no. of base classifier\n",
        "num_trees = 50\n",
        "  \n",
        "# bagging classifier\n",
        "model = BaggingClassifier(base_estimator = base_cls,\n",
        "                          n_estimators = num_trees,\n",
        "                          random_state = 123)\n",
        "model_b = model.fit(X_train, y_train)\n",
        "#Predict the response for test dataset\n",
        "y_pred = model_b.predict(X_test)\n",
        "scores_abc=metrics.accuracy_score(y_test,y_pred)\n",
        "print('Acc_BaggingClassifier = ', scores_abc)\n"
      ],
      "metadata": {
        "id": "5foiEILjVZHp",
        "colab": {
          "base_uri": "https://localhost:8080/"
        },
        "outputId": "eb2f6187-f5af-464b-cd83-32ab33fa619e"
      },
      "execution_count": 21,
      "outputs": [
        {
          "output_type": "stream",
          "name": "stdout",
          "text": [
            "Acc_BaggingClassifier =  0.9666666666666667\n"
          ]
        }
      ]
    },
    {
      "cell_type": "markdown",
      "source": [
        "AdaBoost Classifier (https://www.datacamp.com/tutorial/adaboost-classifier-python)"
      ],
      "metadata": {
        "id": "l7eU0tb7WvT7"
      }
    },
    {
      "cell_type": "code",
      "source": [
        "from sklearn.ensemble import AdaBoostClassifier\n",
        "\n",
        "# Create adaboost classifer object\n",
        "abc = AdaBoostClassifier(n_estimators=50, learning_rate=1)\n",
        "# Train Adaboost Classifer\n",
        "model = abc.fit(X_train, y_train)\n",
        "\n",
        "#Predict the response for test dataset\n",
        "y_pred = model.predict(X_test)\n",
        "scores_abc=metrics.accuracy_score(y_test,y_pred)\n",
        "print('Acc_AdaBoostClassifier = ', scores_abc)"
      ],
      "metadata": {
        "id": "GH5zpNR6WwSc",
        "colab": {
          "base_uri": "https://localhost:8080/"
        },
        "outputId": "1d6b31cc-4de7-4c8e-a6eb-45cb553e2804"
      },
      "execution_count": 17,
      "outputs": [
        {
          "output_type": "stream",
          "name": "stdout",
          "text": [
            "Acc_AdaBoostClassifier =  0.9666666666666667\n"
          ]
        }
      ]
    },
    {
      "cell_type": "markdown",
      "source": [],
      "metadata": {
        "id": "Wn1rOg8JXeX0"
      }
    },
    {
      "cell_type": "code",
      "source": [
        "# Import Support Vector Classifier\n",
        "from sklearn.svm import SVC\n",
        "#Import scikit-learn metrics module for accuracy calculation\n",
        "from sklearn import metrics\n",
        "svc=SVC(probability=True, kernel='linear')\n",
        "\n",
        "# Create adaboost classifer object\n",
        "abc =AdaBoostClassifier(n_estimators=50, base_estimator=svc, learning_rate=1)\n",
        "\n",
        "# Train Adaboost Classifer\n",
        "model = abc.fit(X_train, y_train)\n",
        "\n",
        "#Predict the response for test dataset\n",
        "y_pred = model.predict(X_test)\n",
        "\n",
        "\n",
        "# Model Accuracy, how often is the classifier correct?\n",
        "print(\"Accuracy:\",metrics.accuracy_score(y_test, y_pred))"
      ],
      "metadata": {
        "id": "4xo2ELRVXeuN",
        "colab": {
          "base_uri": "https://localhost:8080/"
        },
        "outputId": "50cc2f28-4d15-496e-db39-04eb20c6ca71"
      },
      "execution_count": 18,
      "outputs": [
        {
          "output_type": "stream",
          "name": "stdout",
          "text": [
            "Accuracy: 0.9666666666666667\n"
          ]
        }
      ]
    },
    {
      "cell_type": "markdown",
      "source": [
        "# **How to Develop XGBoost Model**"
      ],
      "metadata": {
        "id": "EDdRVuyg1Q0J"
      }
    },
    {
      "cell_type": "code",
      "source": [
        "from xgboost import XGBClassifier\n",
        "# fit model no training data\n",
        "model = XGBClassifier()\n",
        "model.fit(X_train, y_train)\n",
        "# make predictions for test data\n",
        "y_pred = model.predict(X_test)\n",
        "predictions = [round(value) for value in y_pred]\n",
        "# evaluate predictions\n",
        "accuracy = metrics.accuracy_score(y_test, predictions)\n",
        "print(\"Accuracy: \" ,accuracy)\n"
      ],
      "metadata": {
        "id": "yzyxghpY1Z56",
        "colab": {
          "base_uri": "https://localhost:8080/"
        },
        "outputId": "fe0287f6-8744-439a-e4d0-15c5b2b8a6d0"
      },
      "execution_count": 22,
      "outputs": [
        {
          "output_type": "stream",
          "name": "stdout",
          "text": [
            "Accuracy:  0.9666666666666667\n"
          ]
        },
        {
          "output_type": "execute_result",
          "data": {
            "text/plain": [
              "array([2, 0, 1, 0, 0, 0, 2, 2, 2, 1, 0, 1, 2, 1, 2, 0, 2, 1, 1, 2, 1, 1,\n",
              "       0, 0, 2, 1, 0, 0, 1, 1])"
            ]
          },
          "metadata": {},
          "execution_count": 22
        }
      ]
    }
  ]
}