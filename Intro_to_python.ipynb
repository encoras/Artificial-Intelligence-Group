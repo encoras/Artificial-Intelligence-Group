{
  "nbformat": 4,
  "nbformat_minor": 0,
  "metadata": {
    "colab": {
      "provenance": [],
      "authorship_tag": "ABX9TyNPsTUFmtIvpzG571CVvWDO",
      "include_colab_link": true
    },
    "kernelspec": {
      "name": "python3",
      "display_name": "Python 3"
    },
    "language_info": {
      "name": "python"
    }
  },
  "cells": [
    {
      "cell_type": "markdown",
      "metadata": {
        "id": "view-in-github",
        "colab_type": "text"
      },
      "source": [
        "<a href=\"https://colab.research.google.com/github/encoras/Artificial-Intelligence-Group/blob/master/Intro_to_python.ipynb\" target=\"_parent\"><img src=\"https://colab.research.google.com/assets/colab-badge.svg\" alt=\"Open In Colab\"/></a>"
      ]
    },
    {
      "cell_type": "markdown",
      "source": [
        "\n",
        "\n",
        "\n",
        "# Introduction to Colab\n",
        "\n",
        "\n"
      ],
      "metadata": {
        "id": "M0ZK_MVEtpTg"
      }
    },
    {
      "cell_type": "markdown",
      "source": [
        "##Go File new notebook. change name and save to google drive."
      ],
      "metadata": {
        "id": "w8L2p0X1t7Qf"
      }
    },
    {
      "cell_type": "code",
      "execution_count": null,
      "metadata": {
        "id": "5D_7kWN3tnjS"
      },
      "outputs": [],
      "source": [
        "# in code line, coment starts with #\n",
        "# Press shift + enter to execiiute cell"
      ]
    },
    {
      "cell_type": "markdown",
      "source": [
        "# \"Hello World\"\n",
        "print(\"Hello World!\")\n",
        "\n",
        "a= \"Hello \" \"World 2!\"\n",
        "\n",
        "print(a)\n",
        "\n",
        "\"Hello World 3!\""
      ],
      "metadata": {
        "id": "kMg3KX5Jukid"
      }
    },
    {
      "cell_type": "code",
      "source": [
        "# Your name\n"
      ],
      "metadata": {
        "id": "GVBLaDaiuqns"
      },
      "execution_count": null,
      "outputs": []
    },
    {
      "cell_type": "code",
      "source": [
        "# StdOut()\n",
        "import sys\n",
        "sys.stdout.write(\"Hello, standard out! \\n\")"
      ],
      "metadata": {
        "id": "Qf6cmPO7xGoy"
      },
      "execution_count": null,
      "outputs": []
    },
    {
      "cell_type": "markdown",
      "source": [
        "#Colours in notebook text: https://www.kaggle.com/discussions/general/273188"
      ],
      "metadata": {
        "id": "NY0lrhHTx5Cv"
      }
    },
    {
      "cell_type": "code",
      "source": [
        "print(\"\\033[0;37;40m Normal text\\n\")\n",
        "print(\"\\033[2;37;40m Underlined text\\033[0;37;40m \\n\")\n",
        "print(\"\\033[1;37;40m Bright Colour\\033[0;37;40m \\n\")\n",
        "print(\"\\033[3;37;40m Negative Colour\\033[0;37;40m \\n\")\n",
        "print(\"\\033[5;37;40m Negative Colour\\033[0;37;40m\\n\")\n",
        "print(\"\\033[1;37;40m \\033[2;37:40m TextColour BlackBackground TextColour GreyBackground WhiteText ColouredBackground\\033[0;37;40m\\n\")\n",
        "print(\"\\033[1;30;40m Dark Gray \\033[0m 1;30;40m \\033[0;30;47m Black \\033[0m 0;30;47m \\033[0;37;41m Black \\033[0m 0;37;41m\")\n",
        "print(\"\\033[1;31;40m Bright Red \\033[0m 1;31;40m \\033[0;31;47m Red \\033[0m 0;31;47m \\033[0;37;42m Black \\033[0m 0;37;42m\")\n",
        "print(\"\\033[1;32;40m Bright Green \\033[0m 1;32;40m \\033[0;32;47m Green \\033[0m 0;32;47m \\033[0;37;43m Black \\033[0m 0;37;43m\")\n",
        "print(\"\\033[1;33;40m Yellow \\033[0m 1;33;40m \\033[0;33;47m Brown \\033[0m 0;33;47m \\033[0;37;44m Black \\033[0m 0;37;44m\")\n",
        "print(\"\\033[1;34;40m Bright Blue \\033[0m 1;34;40m \\033[0;34;47m Blue \\033[0m 0;34;47m \\033[0;37;45m Black \\033[0m 0;37;45m\")\n",
        "print(\"\\033[1;35;40m Bright Magenta \\033[0m 1;35;40m \\033[0;35;47m Magenta \\033[0m 0;35;47m \\033[0;37;46m Black \\033[0m 0;37;46m\")\n",
        "print(\"\\033[1;36;40m Bright Cyan \\033[0m 1;36;40m \\033[0;36;47m Cyan \\033[0m 0;36;47m \\033[0;37;47m Black \\033[0m 0;37;47m\")\n",
        "print(\"\\033[1;37;40m White \\033[0m 1;37;40m \\033[0;37;40m Light Grey \\033[0m 0;37;40m \\033[0;37;48m Black \\033[0m 0;37;48m\")"
      ],
      "metadata": {
        "id": "ncm73VlxxxSJ"
      },
      "execution_count": null,
      "outputs": []
    },
    {
      "cell_type": "markdown",
      "source": [
        "##Intro to Python"
      ],
      "metadata": {
        "id": "PWglD75VyRTl"
      }
    },
    {
      "cell_type": "markdown",
      "source": [
        "# statement 49\n",
        "\n",
        "#expression a=49"
      ],
      "metadata": {
        "id": "i7_3ht3IyVLV"
      }
    },
    {
      "cell_type": "code",
      "source": [
        "#Floating point\n",
        "b=4.5896\n",
        "c=2.\n"
      ],
      "metadata": {
        "id": "pBprHOWxyjm8"
      },
      "execution_count": null,
      "outputs": []
    },
    {
      "cell_type": "code",
      "source": [
        "#integer\n",
        "d=2"
      ],
      "metadata": {
        "id": "vlzquslTzSxK"
      },
      "execution_count": null,
      "outputs": []
    },
    {
      "cell_type": "code",
      "source": [
        "#complex\n",
        "a=complex(1,2)"
      ],
      "metadata": {
        "id": "zH4qIPgDyrrz"
      },
      "execution_count": null,
      "outputs": []
    },
    {
      "cell_type": "markdown",
      "source": [
        "### function  `type`(???)"
      ],
      "metadata": {
        "id": "2whhk_Zoy4XE"
      }
    },
    {
      "cell_type": "code",
      "source": [
        "#Function type()\n",
        "type(c+d)\n"
      ],
      "metadata": {
        "id": "OFjiUksOyygz"
      },
      "execution_count": null,
      "outputs": []
    },
    {
      "cell_type": "markdown",
      "source": [
        "## Aritmetic expressions\n",
        "`+` addition\n",
        "\n",
        "`-` substract\n",
        "\n",
        "`*` multiplication\n",
        "\n",
        "`/` division\n",
        "\n",
        "`**` exponental\n",
        "\n",
        "// floor division\n",
        "\n",
        "`%` modulo"
      ],
      "metadata": {
        "id": "dcV2z8t8zsBx"
      }
    },
    {
      "cell_type": "code",
      "source": [
        "print()"
      ],
      "metadata": {
        "id": "64ftjcKszgOP"
      },
      "execution_count": null,
      "outputs": []
    },
    {
      "cell_type": "code",
      "source": [
        "# sintax simplification\n",
        "A=5\n",
        "A=A*2\n",
        "\n",
        "A*=2"
      ],
      "metadata": {
        "id": "oHN5YEF41ZrZ"
      },
      "execution_count": null,
      "outputs": []
    },
    {
      "cell_type": "markdown",
      "source": [
        "## Logic\n",
        "\n",
        "Variables: `True` or `False` and statement\n",
        "\n",
        "if ( c o n d i t i o n):\n",
        "\n",
        "      do_ ... _"
      ],
      "metadata": {
        "id": "rpS98IxU1pdR"
      }
    },
    {
      "cell_type": "code",
      "source": [
        "A=10.01\n",
        "if (A > 10):\n",
        "  print(\"A is more than 10\")"
      ],
      "metadata": {
        "id": "QtDlBrMH17KO"
      },
      "execution_count": null,
      "outputs": []
    },
    {
      "cell_type": "code",
      "source": [
        "if True:\n",
        "  print(not True)"
      ],
      "metadata": {
        "id": "SuQZSEFI2vQ8"
      },
      "execution_count": null,
      "outputs": []
    },
    {
      "cell_type": "code",
      "source": [
        "a = 200\n",
        "b = 33\n",
        "if b > a:\n",
        "  print(\"b is greater than a\")\n",
        "elif a == b:\n",
        "  print(\"a and b are equal\")\n",
        "else:\n",
        "  print(\"a is greater than b\")\n"
      ],
      "metadata": {
        "id": "ainTBY8052yp"
      },
      "execution_count": null,
      "outputs": []
    },
    {
      "cell_type": "markdown",
      "source": [
        "## Functions"
      ],
      "metadata": {
        "id": "2V9QKwhT3UFL"
      }
    },
    {
      "cell_type": "code",
      "source": [
        "#declare and name a function\n",
        "def ktu(a,b):\n",
        "  #add two numbers\n",
        "  c= a+b\n",
        "  return c"
      ],
      "metadata": {
        "id": "ozHqdcSh3b8X"
      },
      "execution_count": null,
      "outputs": []
    },
    {
      "cell_type": "code",
      "source": [
        "b=ktu(\"hello \",\" world\")\n",
        "print(b)"
      ],
      "metadata": {
        "id": "BcbLLsi-35dv"
      },
      "execution_count": null,
      "outputs": []
    },
    {
      "cell_type": "markdown",
      "source": [
        "##For loops\n",
        "https://www.w3schools.com/python/python_for_loops.asp"
      ],
      "metadata": {
        "id": "f9sDVYDO6mZ8"
      }
    },
    {
      "cell_type": "code",
      "source": [
        "for x in range(2, 30, 3):\n",
        "  print(x)"
      ],
      "metadata": {
        "id": "w6BOvTAz6uKM"
      },
      "execution_count": null,
      "outputs": []
    }
  ]
}