{
  "nbformat": 4,
  "nbformat_minor": 0,
  "metadata": {
    "colab": {
      "provenance": [],
      "authorship_tag": "ABX9TyPifqjYYRnVdWXNcRW2xgwy",
      "include_colab_link": true
    },
    "kernelspec": {
      "name": "python3",
      "display_name": "Python 3"
    },
    "language_info": {
      "name": "python"
    }
  },
  "cells": [
    {
      "cell_type": "markdown",
      "metadata": {
        "id": "view-in-github",
        "colab_type": "text"
      },
      "source": [
        "<a href=\"https://colab.research.google.com/github/encoras/Artificial-Intelligence-Group/blob/master/Ensemble_testing_ipynb.ipynb\" target=\"_parent\"><img src=\"https://colab.research.google.com/assets/colab-badge.svg\" alt=\"Open In Colab\"/></a>"
      ]
    },
    {
      "cell_type": "code",
      "execution_count": 1,
      "metadata": {
        "id": "QrlBjBROS8fk"
      },
      "outputs": [],
      "source": [
        "from sklearn.datasets import load_iris\n",
        "from sklearn.model_selection import train_test_split\n",
        "from sklearn.ensemble import RandomForestClassifier\n",
        "from sklearn import tree\n",
        "from sklearn import metrics\n",
        "from mlxtend.plotting import plot_decision_regions\n",
        "from matplotlib import pyplot as plt\n",
        "import numpy as np\n"
      ]
    },
    {
      "cell_type": "markdown",
      "source": [],
      "metadata": {
        "id": "TqGpm08A1Pj7"
      }
    },
    {
      "cell_type": "markdown",
      "source": [
        "Load IRIS database and do Decision Tree clasification."
      ],
      "metadata": {
        "id": "JkMUZyYsS9gJ"
      }
    },
    {
      "cell_type": "code",
      "source": [
        "X, y = load_iris(return_X_y=True)\n"
      ],
      "metadata": {
        "id": "DcTVsnqN2P-0"
      },
      "execution_count": 2,
      "outputs": []
    },
    {
      "cell_type": "markdown",
      "source": [
        "## *Let's do in correct way by spliting data into training, validation and testing sets with stratified spliting*\n"
      ],
      "metadata": {
        "id": "mUJUnlz0Z0d0"
      }
    },
    {
      "cell_type": "code",
      "source": [
        "X_temp, X_test, y_temp, y_test = train_test_split(X, y, test_size=0.2, random_state=1, shuffle=True, stratify=y)\n",
        "np.bincount(y_temp)"
      ],
      "metadata": {
        "colab": {
          "base_uri": "https://localhost:8080/"
        },
        "id": "b2CVmuyYaCO8",
        "outputId": "f27af654-bb09-4978-b249-09292e2c1baf"
      },
      "execution_count": 3,
      "outputs": [
        {
          "output_type": "execute_result",
          "data": {
            "text/plain": [
              "array([40, 40, 40])"
            ]
          },
          "metadata": {},
          "execution_count": 3
        }
      ]
    },
    {
      "cell_type": "code",
      "source": [
        "X_train, X_valid, y_train, y_valid = train_test_split(X_temp, y_temp, test_size=0.2, random_state=10, shuffle=True, stratify=y_temp)\n",
        "X_train.shape"
      ],
      "metadata": {
        "id": "kuyocDOla1Mx",
        "colab": {
          "base_uri": "https://localhost:8080/"
        },
        "outputId": "06aedbeb-d677-4819-df90-b08a1d709824"
      },
      "execution_count": 4,
      "outputs": [
        {
          "output_type": "execute_result",
          "data": {
            "text/plain": [
              "(96, 4)"
            ]
          },
          "metadata": {},
          "execution_count": 4
        }
      ]
    },
    {
      "cell_type": "markdown",
      "source": [
        "Scaling data by normalisation.\n"
      ],
      "metadata": {
        "id": "42oJk3C1bgb_"
      }
    },
    {
      "cell_type": "code",
      "source": [
        "from sklearn.preprocessing import StandardScaler\n",
        "scaler = StandardScaler()\n",
        "scaler.fit(X_train)\n",
        "X_train_std=scaler.transform(X_train)\n",
        "X_test_std=scaler.transform(X_test)\n",
        "X_valid_std=scaler.transform(X_valid)"
      ],
      "metadata": {
        "id": "FF6z0NoOblmA"
      },
      "execution_count": 5,
      "outputs": []
    },
    {
      "cell_type": "code",
      "source": [
        "from sklearn.preprocessing import MinMaxScaler\n"
      ],
      "metadata": {
        "id": "dUOEyZJbcQoR"
      },
      "execution_count": 6,
      "outputs": []
    },
    {
      "cell_type": "code",
      "source": [
        "scaler = MinMaxScaler()\n",
        "scaler.fit(X_train)\n",
        "X_train_mm=scaler.transform(X_train)\n",
        "X_test_mm=scaler.transform(X_test)\n",
        "X_valid_mm=scaler.transform(X_valid)"
      ],
      "metadata": {
        "id": "H51rkRaScdk2"
      },
      "execution_count": 7,
      "outputs": []
    },
    {
      "cell_type": "code",
      "source": [
        "dtc_1 = RandomForestClassifier(random_state=123, ccp_alpha=0.1)\n",
        "dtc_1.fit(X_train, y_train)\n",
        "y_pred = dtc_1.predict(X_test)\n",
        "scores_dtc_1=metrics.accuracy_score(y_test,y_pred)\n",
        "print('Acc_RandomForestClassifier = ', scores_dtc_1)\n",
        "\n"
      ],
      "metadata": {
        "id": "PvI9N4BOdPG0",
        "colab": {
          "base_uri": "https://localhost:8080/"
        },
        "outputId": "5f5b2b81-870f-4ab2-9c62-e3b795c0cd49"
      },
      "execution_count": 28,
      "outputs": [
        {
          "output_type": "stream",
          "name": "stdout",
          "text": [
            "Acc_RandomForestClassifier =  0.9666666666666667\n"
          ]
        }
      ]
    },
    {
      "cell_type": "code",
      "source": [
        "metrics.confusion_matrix(y_test,y_pred)"
      ],
      "metadata": {
        "id": "VxXCRTstRvSH",
        "colab": {
          "base_uri": "https://localhost:8080/"
        },
        "outputId": "8e266503-7433-4108-e146-37ab7998d22d"
      },
      "execution_count": 24,
      "outputs": [
        {
          "output_type": "execute_result",
          "data": {
            "text/plain": [
              "array([[10,  0,  0],\n",
              "       [ 0, 10,  0],\n",
              "       [ 0,  1,  9]])"
            ]
          },
          "metadata": {},
          "execution_count": 24
        }
      ]
    },
    {
      "cell_type": "code",
      "source": [
        "np.column_stack((y_test,y_pred))"
      ],
      "metadata": {
        "id": "CMZR55jfbMHN",
        "outputId": "7df917eb-1dfe-4acb-9aa9-abe1e567094a",
        "colab": {
          "base_uri": "https://localhost:8080/"
        }
      },
      "execution_count": 10,
      "outputs": [
        {
          "output_type": "execute_result",
          "data": {
            "text/plain": [
              "array([[2, 2],\n",
              "       [0, 0],\n",
              "       [1, 1],\n",
              "       [0, 0],\n",
              "       [0, 0],\n",
              "       [0, 0],\n",
              "       [2, 2],\n",
              "       [2, 2],\n",
              "       [2, 2],\n",
              "       [1, 1],\n",
              "       [0, 0],\n",
              "       [1, 1],\n",
              "       [2, 2],\n",
              "       [1, 1],\n",
              "       [2, 2],\n",
              "       [0, 0],\n",
              "       [2, 2],\n",
              "       [1, 1],\n",
              "       [1, 1],\n",
              "       [2, 2],\n",
              "       [1, 1],\n",
              "       [1, 1],\n",
              "       [0, 0],\n",
              "       [0, 0],\n",
              "       [2, 2],\n",
              "       [2, 1],\n",
              "       [0, 0],\n",
              "       [0, 0],\n",
              "       [1, 1],\n",
              "       [1, 1]])"
            ]
          },
          "metadata": {},
          "execution_count": 10
        }
      ]
    },
    {
      "cell_type": "code",
      "source": [
        "from sklearn.metrics import ConfusionMatrixDisplay\n",
        "np.set_printoptions(precision=2)\n",
        "\n",
        "# Plot non-normalized confusion matrix\n",
        "titles_options = [\n",
        "    (\"Confusion matrix, without normalization\", None),\n",
        "    (\"Normalized confusion matrix\", \"true\"),\n",
        "]\n",
        "for title, normalize in titles_options:\n",
        "    disp = ConfusionMatrixDisplay.from_estimator(\n",
        "        dtc_1,\n",
        "        X_test,\n",
        "        y_test,\n",
        "        display_labels=['0','1','2'],\n",
        "        cmap=plt.cm.Blues,\n",
        "        normalize=normalize,\n",
        "    )\n",
        "    disp.ax_.set_title(title)\n",
        "\n",
        "    print(title)\n",
        "    print(disp.confusion_matrix)\n",
        "\n",
        "plt.show()"
      ],
      "metadata": {
        "id": "3Uvo5hBkbz3C",
        "outputId": "0dccf5e6-a93a-4870-f141-58f35fd9228f",
        "colab": {
          "base_uri": "https://localhost:8080/",
          "height": 1000
        }
      },
      "execution_count": 29,
      "outputs": [
        {
          "output_type": "stream",
          "name": "stdout",
          "text": [
            "Confusion matrix, without normalization\n",
            "[[10  0  0]\n",
            " [ 0 10  0]\n",
            " [ 0  1  9]]\n",
            "Normalized confusion matrix\n",
            "[[1.  0.  0. ]\n",
            " [0.  1.  0. ]\n",
            " [0.  0.1 0.9]]\n"
          ]
        },
        {
          "output_type": "display_data",
          "data": {
            "text/plain": [
              "<Figure size 640x480 with 2 Axes>"
            ],
            "image/png": "[encoded data removed]"
          },
          "metadata": {}
        },
        {
          "output_type": "display_data",
          "data": {
            "text/plain": [
              "<Figure size 640x480 with 2 Axes>"
            ],
            "image/png": "[encoded data removed]"
          },
          "metadata": {}
        }
      ]
    },
    {
      "cell_type": "code",
      "source": [
        "importance = dtc_1.feature_importances_\n",
        "# summarize feature importance\n",
        "for i,v in enumerate(importance):\n",
        "\tprint('Feature: %0d, Score: %.5f' % (i,v))\n",
        "# plot feature importance\n",
        "plt.bar([x for x in range(len(importance))], importance)\n",
        "plt.xlabel(['Sepal Length', 'Sepal Width', 'Petal Length', 'Petal Width'])\n",
        "plt.show()"
      ],
      "metadata": {
        "id": "JROqSm3nSzZw",
        "colab": {
          "base_uri": "https://localhost:8080/",
          "height": 518
        },
        "outputId": "0fe01e81-0cff-4764-bc4b-76bdecbfcb35"
      },
      "execution_count": 30,
      "outputs": [
        {
          "output_type": "stream",
          "name": "stdout",
          "text": [
            "Feature: 0, Score: 0.10280\n",
            "Feature: 1, Score: 0.00651\n",
            "Feature: 2, Score: 0.43395\n",
            "Feature: 3, Score: 0.45674\n"
          ]
        },
        {
          "output_type": "display_data",
          "data": {
            "text/plain": [
              "<Figure size 640x480 with 1 Axes>"
            ],
            "image/png": "[encoded data removed]"
          },
          "metadata": {}
        }
      ]
    },
    {
      "cell_type": "code",
      "source": [
        "from sklearn.model_selection import GridSearchCV\n",
        "#create a new random forest classifier\n",
        "rf = RandomForestClassifier(random_state=42)\n",
        "#create a dictionary of all values we want to test for n_estimators\n",
        "params_rf = {\"n_estimators\": [2, 3, 5, 9,11,15,25,50,100], 'criterion' :['gini', 'entropy'], 'max_features': ['sqrt', 'log2'], 'max_depth' : [2,3,4,5,6] }\n",
        "#use gridsearch to test all values for n_estimators\n",
        "rf_gs = GridSearchCV(rf, params_rf, cv=5)\n",
        "#fit model to training data\n",
        "rf_gs.fit(X_train, y_train)\n",
        "#check best n_estimators value\n",
        "print(rf_gs)\n",
        "print(rf_gs.best_params_)\n",
        "print(rf_gs.best_score_)"
      ],
      "metadata": {
        "id": "fJDdUcbXfJs5",
        "colab": {
          "base_uri": "https://localhost:8080/"
        },
        "outputId": "ffa27f95-cb94-4d37-f508-e139ce9001a4"
      },
      "execution_count": 13,
      "outputs": [
        {
          "output_type": "stream",
          "name": "stdout",
          "text": [
            "GridSearchCV(cv=5, estimator=RandomForestClassifier(random_state=42),\n",
            "             param_grid={'criterion': ['gini', 'entropy'],\n",
            "                         'max_depth': [2, 3, 4, 5, 6],\n",
            "                         'max_features': ['sqrt', 'log2'],\n",
            "                         'n_estimators': [2, 3, 5, 9, 11, 15, 25, 50, 100]})\n",
            "{'criterion': 'gini', 'max_depth': 5, 'max_features': 'sqrt', 'n_estimators': 11}\n",
            "0.958421052631579\n"
          ]
        }
      ]
    },
    {
      "cell_type": "code",
      "source": [
        "rf = RandomForestClassifier(n_estimators=11, criterion= 'gini', max_features= 'sqrt', max_depth= 5, random_state=42)\n",
        "rf.fit(X_train, y_train)\n",
        "y_pred = rf.predict(X_test)\n",
        "scores_rf=metrics.accuracy_score(y_test,y_pred)\n",
        "scores_rf"
      ],
      "metadata": {
        "id": "ykIhyQ45fMvV",
        "outputId": "1b2c71c3-244a-404e-ee43-02213dac290c",
        "colab": {
          "base_uri": "https://localhost:8080/"
        }
      },
      "execution_count": 14,
      "outputs": [
        {
          "output_type": "execute_result",
          "data": {
            "text/plain": [
              "0.9666666666666667"
            ]
          },
          "metadata": {},
          "execution_count": 14
        }
      ]
    },
    {
      "cell_type": "markdown",
      "source": [
        "Bagging classifier (https://www.geeksforgeeks.org/ml-bagging-classifier/)"
      ],
      "metadata": {
        "id": "oYa2D4E8Dpxz"
      }
    },
    {
      "cell_type": "code",
      "source": [
        "from sklearn.ensemble import BaggingClassifier\n",
        "from sklearn.tree import DecisionTreeClassifier\n",
        "\n",
        "# initialize the base classifier\n",
        "base_cls = DecisionTreeClassifier(criterion=\"entropy\")\n",
        "\n",
        "# no. of base classifier\n",
        "num_trees = 50\n",
        "\n",
        "# bagging classifier\n",
        "model = BaggingClassifier(estimator = base_cls,\n",
        "                          n_estimators = num_trees,\n",
        "                          random_state = 123)\n",
        "model_b = model.fit(X_train, y_train)\n",
        "#Predict the response for test dataset\n",
        "y_pred = model_b.predict(X_test)\n",
        "scores_abc=metrics.accuracy_score(y_test,y_pred)\n",
        "print('Acc_BaggingClassifier = ', scores_abc)\n"
      ],
      "metadata": {
        "id": "5foiEILjVZHp",
        "colab": {
          "base_uri": "https://localhost:8080/"
        },
        "outputId": "4de02828-1888-4c4e-82a1-975550b0d86f"
      },
      "execution_count": 16,
      "outputs": [
        {
          "output_type": "stream",
          "name": "stdout",
          "text": [
            "Acc_BaggingClassifier =  0.9666666666666667\n"
          ]
        }
      ]
    },
    {
      "cell_type": "markdown",
      "source": [
        "AdaBoost Classifier (https://www.datacamp.com/tutorial/adaboost-classifier-python)"
      ],
      "metadata": {
        "id": "l7eU0tb7WvT7"
      }
    },
    {
      "cell_type": "code",
      "source": [
        "from sklearn.ensemble import AdaBoostClassifier\n",
        "\n",
        "# Create adaboost classifer object\n",
        "abc = AdaBoostClassifier(n_estimators=50, learning_rate=1)\n",
        "# Train Adaboost Classifer\n",
        "model = abc.fit(X_train, y_train)\n",
        "\n",
        "#Predict the response for test dataset\n",
        "y_pred = model.predict(X_test)\n",
        "scores_abc=metrics.accuracy_score(y_test,y_pred)\n",
        "print('Acc_AdaBoostClassifier = ', scores_abc)"
      ],
      "metadata": {
        "id": "GH5zpNR6WwSc",
        "colab": {
          "base_uri": "https://localhost:8080/"
        },
        "outputId": "a4765286-98ef-4111-99ee-c1477337cbaf"
      },
      "execution_count": 17,
      "outputs": [
        {
          "output_type": "stream",
          "name": "stdout",
          "text": [
            "Acc_AdaBoostClassifier =  0.9666666666666667\n"
          ]
        }
      ]
    },
    {
      "cell_type": "markdown",
      "source": [],
      "metadata": {
        "id": "Wn1rOg8JXeX0"
      }
    },
    {
      "cell_type": "code",
      "source": [
        "# Import Support Vector Classifier\n",
        "from sklearn.svm import SVC\n",
        "#Import scikit-learn metrics module for accuracy calculation\n",
        "from sklearn import metrics\n",
        "svc=SVC(probability=True, kernel='linear')\n",
        "\n",
        "# Create adaboost classifer object\n",
        "abc =AdaBoostClassifier(n_estimators=50, estimator=svc, learning_rate=1)\n",
        "\n",
        "# Train Adaboost Classifer\n",
        "model = abc.fit(X_train, y_train)\n",
        "\n",
        "#Predict the response for test dataset\n",
        "y_pred = model.predict(X_test)\n",
        "\n",
        "\n",
        "# Model Accuracy, how often is the classifier correct?\n",
        "print(\"Accuracy:\",metrics.accuracy_score(y_test, y_pred))"
      ],
      "metadata": {
        "id": "4xo2ELRVXeuN",
        "colab": {
          "base_uri": "https://localhost:8080/"
        },
        "outputId": "09a9e405-495f-4c58-dd4d-3d538a74fbb2"
      },
      "execution_count": 19,
      "outputs": [
        {
          "output_type": "stream",
          "name": "stdout",
          "text": [
            "Accuracy: 0.8666666666666667\n"
          ]
        }
      ]
    },
    {
      "cell_type": "markdown",
      "source": [
        "# **How to Develop XGBoost Model**"
      ],
      "metadata": {
        "id": "EDdRVuyg1Q0J"
      }
    },
    {
      "cell_type": "code",
      "source": [
        "from xgboost import XGBClassifier\n",
        "# fit model no training data\n",
        "xgbc = XGBClassifier( n_estimators=11, max_depth =5)\n",
        "xgbc.fit(X_train, y_train)\n",
        "# make predictions for test data\n",
        "y_pred = xgbc.predict(X_test)\n",
        "predictions = [round(value) for value in y_pred]\n",
        "# evaluate predictions\n",
        "accuracy = metrics.accuracy_score(y_test, predictions)\n",
        "print(\"Accuracy: \" ,accuracy)\n"
      ],
      "metadata": {
        "id": "yzyxghpY1Z56",
        "colab": {
          "base_uri": "https://localhost:8080/"
        },
        "outputId": "0e818d94-4bdf-4a44-ce7c-717dd69f1b12"
      },
      "execution_count": 20,
      "outputs": [
        {
          "output_type": "stream",
          "name": "stdout",
          "text": [
            "Accuracy:  0.9333333333333333\n"
          ]
        }
      ]
    },
    {
      "cell_type": "markdown",
      "source": [],
      "metadata": {
        "id": "Ara-ZJgfrxRA"
      }
    },
    {
      "cell_type": "code",
      "source": [
        "from sklearn.metrics import confusion_matrix\n",
        "from sklearn.model_selection import cross_val_score, KFold\n",
        "# - cross validataion\n",
        "scores = cross_val_score(xgbc, X_train, y_train, cv=5)\n",
        "print(\"Mean cross-validation score: %.2f\" % scores.mean())\n",
        "\n",
        "kfold = KFold(n_splits=10, shuffle=True)\n",
        "kf_cv_scores = cross_val_score(xgbc, X_train, y_train, cv=kfold )\n",
        "print(\"K-fold CV average score: %.2f\" % kf_cv_scores.mean())\n",
        "\n",
        "ypred = xgbc.predict(X_test)\n",
        "cm = confusion_matrix(y_test,ypred)\n",
        "print(cm)"
      ],
      "metadata": {
        "id": "qyE2rvlDhb1p",
        "outputId": "2b0d87cf-313f-4816-c33a-a0bbd89ca857",
        "colab": {
          "base_uri": "https://localhost:8080/"
        }
      },
      "execution_count": 38,
      "outputs": [
        {
          "output_type": "stream",
          "name": "stdout",
          "text": [
            "Mean cross-validation score: 0.94\n",
            "K-fold CV average score: 0.93\n",
            "[[10  0  0]\n",
            " [ 1  9  0]\n",
            " [ 0  1  9]]\n"
          ]
        }
      ]
    },
    {
      "cell_type": "code",
      "source": [
        "import seaborn as sns\n",
        "cm_percent = cm.astype('float') / cm.sum(axis=1)[:, np.newaxis] * 100\n",
        "\n",
        "plt.figure(figsize=(8,6))\n",
        "sns.heatmap(cm_percent, annot=True, fmt=\".2f\", cmap='Blues')\n",
        "plt.title('Confusion Matrix (Percentages)')\n",
        "plt.ylabel('True label')\n",
        "plt.xlabel('Predicted label')\n",
        "plt.show()"
      ],
      "metadata": {
        "id": "OL1dPcBspYq3",
        "outputId": "7eb1b0d0-f840-4509-99dc-49bc63483fc6",
        "colab": {
          "base_uri": "https://localhost:8080/",
          "height": 564
        }
      },
      "execution_count": 36,
      "outputs": [
        {
          "output_type": "display_data",
          "data": {
            "text/plain": [
              "<Figure size 800x600 with 2 Axes>"
            ],
            "image/png": "[encoded data removed]"
          },
          "metadata": {}
        }
      ]
    },
    {
      "cell_type": "code",
      "source": [
        "scores"
      ],
      "metadata": {
        "id": "IQCU9tPni5tK",
        "outputId": "4ca5d99c-7886-4a6f-ac22-b298f79271ca",
        "colab": {
          "base_uri": "https://localhost:8080/"
        }
      },
      "execution_count": 37,
      "outputs": [
        {
          "output_type": "execute_result",
          "data": {
            "text/plain": [
              "array([0.9 , 0.79, 0.95, 0.95, 1.  ])"
            ]
          },
          "metadata": {},
          "execution_count": 37
        }
      ]
    },
    {
      "cell_type": "markdown",
      "source": [
        "XGBoost classifier and hyperparameter tuning [85%]\n",
        "\n",
        "https://www.kaggle.com/code/michalbrezk/xgboost-classifier-and-hyperparameter-tuning-85"
      ],
      "metadata": {
        "id": "aowqKsViryf_"
      }
    }
  ]
}