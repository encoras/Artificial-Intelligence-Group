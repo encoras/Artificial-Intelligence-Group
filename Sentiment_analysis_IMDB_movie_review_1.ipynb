{
  "nbformat": 4,
  "nbformat_minor": 0,
  "metadata": {
    "colab": {
      "provenance": [],
      "authorship_tag": "ABX9TyOGM1kks3dAtt+y+a1mNvVR",
      "include_colab_link": true
    },
    "kernelspec": {
      "name": "python3",
      "display_name": "Python 3"
    },
    "language_info": {
      "name": "python"
    }
  },
  "cells": [
    {
      "cell_type": "markdown",
      "metadata": {
        "id": "view-in-github",
        "colab_type": "text"
      },
      "source": [
        "<a href=\"https://colab.research.google.com/github/encoras/Artificial-Intelligence-Group/blob/master/Sentiment_analysis_IMDB_movie_review_1.ipynb\" target=\"_parent\"><img src=\"https://colab.research.google.com/assets/colab-badge.svg\" alt=\"Open In Colab\"/></a>"
      ]
    },
    {
      "cell_type": "code",
      "source": [
        "import matplotlib.pyplot as plt\n",
        "import matplotlib.image as mpimg\n",
        "from mpl_toolkits import mplot3d\n",
        "import numpy as np\n",
        "import pandas as pd\n",
        "import plotly.express as px\n",
        "from scipy.cluster import hierarchy\n",
        "import seaborn as sns\n",
        "from sklearn import svm\n",
        "from sklearn.cluster import KMeans, AgglomerativeClustering, DBSCAN\n",
        "from sklearn.datasets import load_iris, load_wine, fetch_20newsgroups, fetch_openml\n",
        "from sklearn.impute import MissingIndicator, SimpleImputer\n",
        "from sklearn.decomposition import PCA\n",
        "from sklearn.ensemble import (\n",
        "    RandomForestClassifier,\n",
        "    RandomForestRegressor,\n",
        "    GradientBoostingRegressor,\n",
        "    AdaBoostRegressor,\n",
        "    GradientBoostingClassifier,\n",
        "    AdaBoostClassifier\n",
        ")\n",
        "from sklearn.feature_extraction.text import (\n",
        "    CountVectorizer,\n",
        "    TfidfTransformer,\n",
        "    TfidfVectorizer\n",
        ")\n",
        "from sklearn.linear_model import (\n",
        "    LinearRegression,\n",
        "    LogisticRegression,\n",
        "    LogisticRegressionCV,\n",
        "    Lasso,\n",
        "    Ridge,\n",
        "    ElasticNet\n",
        ")\n",
        "from sklearn.metrics import (\n",
        "    mean_absolute_error,\n",
        "    mean_squared_error,\n",
        "    classification_report,\n",
        "    confusion_matrix,\n",
        "    ConfusionMatrixDisplay,\n",
        "    accuracy_score\n",
        ")\n",
        "from sklearn.model_selection import (\n",
        "    train_test_split,\n",
        "    GridSearchCV,\n",
        "    cross_val_score,\n",
        "    cross_validate\n",
        ")\n",
        "from sklearn.naive_bayes import MultinomialNB\n",
        "from sklearn.neighbors import KNeighborsClassifier, KNeighborsRegressor\n",
        "from sklearn.pipeline import Pipeline, make_pipeline\n",
        "from sklearn.preprocessing import (\n",
        "    MinMaxScaler,\n",
        "    StandardScaler,\n",
        "    OrdinalEncoder,\n",
        "    LabelEncoder,\n",
        "    OneHotEncoder,\n",
        "    PolynomialFeatures\n",
        ")\n",
        "from sklearn.tree import DecisionTreeClassifier, DecisionTreeRegressor\n",
        "from sklearn.multiclass import OneVsRestClassifier"
      ],
      "metadata": {
        "id": "G4uBzrAx3jnj"
      },
      "execution_count": 45,
      "outputs": []
    },
    {
      "cell_type": "code",
      "source": [
        "!pip install -q datasets"
      ],
      "metadata": {
        "id": "9slBz1sG8v0W"
      },
      "execution_count": 46,
      "outputs": []
    },
    {
      "cell_type": "markdown",
      "source": [
        "## **Loading IMDB data set**\n",
        "\n",
        "### About Dataset\n",
        "IMDB dataset having 50K movie reviews for natural language processing or Text analytics.\n",
        "This is a dataset for binary sentiment classification containing substantially more data than previous benchmark datasets. We provide a set of 25,000 highly polar movie reviews for training and 25,000 for testing. So, predict the number of positive and negative reviews using either classification or deep learning algorithms.\n",
        "For more dataset information, please go through the following link,\n",
        "http://ai.stanford.edu/~amaas/data/sentiment/\n",
        "\n",
        "examples of data analysis:\n",
        "\n",
        "https://www.kaggle.com/datasets/lakshmi25npathi/imdb-dataset-of-50k-movie-reviews"
      ],
      "metadata": {
        "id": "kc8b120fSFj2"
      }
    },
    {
      "cell_type": "code",
      "source": [
        "from datasets import load_dataset\n",
        "\n",
        "dataset_train = load_dataset('imdb',split='train')\n",
        "dataset_train.rename_column('label', 'labels')\n",
        "train_df=pd.DataFrame(dataset_train)\n",
        "\n",
        "dataset_test = load_dataset('imdb',split='test')\n",
        "dataset_test.rename_column('label', 'labels')\n",
        "test_df=pd.DataFrame(dataset_test)"
      ],
      "metadata": {
        "id": "wM2Y7ymf6yXT"
      },
      "execution_count": 47,
      "outputs": []
    },
    {
      "cell_type": "code",
      "source": [
        "dataset_train\n",
        "train_df"
      ],
      "metadata": {
        "colab": {
          "base_uri": "https://localhost:8080/",
          "height": 423
        },
        "id": "zAejLSsc8_m9",
        "outputId": "25795462-11d8-4e0a-a7f1-f549020db065"
      },
      "execution_count": 48,
      "outputs": [
        {
          "output_type": "execute_result",
          "data": {
            "text/plain": [
              "                                                    text  label\n",
              "0      I rented I AM CURIOUS-YELLOW from my video sto...      0\n",
              "1      \"I Am Curious: Yellow\" is a risible and preten...      0\n",
              "2      If only to avoid making this type of film in t...      0\n",
              "3      This film was probably inspired by Godard's Ma...      0\n",
              "4      Oh, brother...after hearing about this ridicul...      0\n",
              "...                                                  ...    ...\n",
              "24995  A hit at the time but now better categorised a...      1\n",
              "24996  I love this movie like no other. Another time ...      1\n",
              "24997  This film and it's sequel Barry Mckenzie holds...      1\n",
              "24998  'The Adventures Of Barry McKenzie' started lif...      1\n",
              "24999  The story centers around Barry McKenzie who mu...      1\n",
              "\n",
              "[25000 rows x 2 columns]"
            ],
            "text/html": [
              "\n",
              "  <div id=\"df-28cf3599-480e-4ed1-a187-0eca6abf7587\" class=\"colab-df-container\">\n",
              "    <div>\n",
              "<style scoped>\n",
              "    .dataframe tbody tr th:only-of-type {\n",
              "        vertical-align: middle;\n",
              "    }\n",
              "\n",
              "    .dataframe tbody tr th {\n",
              "        vertical-align: top;\n",
              "    }\n",
              "\n",
              "    .dataframe thead th {\n",
              "        text-align: right;\n",
              "    }\n",
              "</style>\n",
              "<table border=\"1\" class=\"dataframe\">\n",
              "  <thead>\n",
              "    <tr style=\"text-align: right;\">\n",
              "      <th></th>\n",
              "      <th>text</th>\n",
              "      <th>label</th>\n",
              "    </tr>\n",
              "  </thead>\n",
              "  <tbody>\n",
              "    <tr>\n",
              "      <th>0</th>\n",
              "      <td>I rented I AM CURIOUS-YELLOW from my video sto...</td>\n",
              "      <td>0</td>\n",
              "    </tr>\n",
              "    <tr>\n",
              "      <th>1</th>\n",
              "      <td>\"I Am Curious: Yellow\" is a risible and preten...</td>\n",
              "      <td>0</td>\n",
              "    </tr>\n",
              "    <tr>\n",
              "      <th>2</th>\n",
              "      <td>If only to avoid making this type of film in t...</td>\n",
              "      <td>0</td>\n",
              "    </tr>\n",
              "    <tr>\n",
              "      <th>3</th>\n",
              "      <td>This film was probably inspired by Godard's Ma...</td>\n",
              "      <td>0</td>\n",
              "    </tr>\n",
              "    <tr>\n",
              "      <th>4</th>\n",
              "      <td>Oh, brother...after hearing about this ridicul...</td>\n",
              "      <td>0</td>\n",
              "    </tr>\n",
              "    <tr>\n",
              "      <th>...</th>\n",
              "      <td>...</td>\n",
              "      <td>...</td>\n",
              "    </tr>\n",
              "    <tr>\n",
              "      <th>24995</th>\n",
              "      <td>A hit at the time but now better categorised a...</td>\n",
              "      <td>1</td>\n",
              "    </tr>\n",
              "    <tr>\n",
              "      <th>24996</th>\n",
              "      <td>I love this movie like no other. Another time ...</td>\n",
              "      <td>1</td>\n",
              "    </tr>\n",
              "    <tr>\n",
              "      <th>24997</th>\n",
              "      <td>This film and it's sequel Barry Mckenzie holds...</td>\n",
              "      <td>1</td>\n",
              "    </tr>\n",
              "    <tr>\n",
              "      <th>24998</th>\n",
              "      <td>'The Adventures Of Barry McKenzie' started lif...</td>\n",
              "      <td>1</td>\n",
              "    </tr>\n",
              "    <tr>\n",
              "      <th>24999</th>\n",
              "      <td>The story centers around Barry McKenzie who mu...</td>\n",
              "      <td>1</td>\n",
              "    </tr>\n",
              "  </tbody>\n",
              "</table>\n",
              "<p>25000 rows × 2 columns</p>\n",
              "</div>\n",
              "    <div class=\"colab-df-buttons\">\n",
              "\n",
              "  <div class=\"colab-df-container\">\n",
              "    <button class=\"colab-df-convert\" onclick=\"convertToInteractive('df-28cf3599-480e-4ed1-a187-0eca6abf7587')\"\n",
              "            title=\"Convert this dataframe to an interactive table.\"\n",
              "            style=\"display:none;\">\n",
              "\n",
              "  <svg xmlns=\"http://www.w3.org/2000/svg\" height=\"24px\" viewBox=\"0 -960 960 960\">\n",
              "    <path d=\"M120-120v-720h720v720H120Zm60-500h600v-160H180v160Zm220 220h160v-160H400v160Zm0 220h160v-160H400v160ZM180-400h160v-160H180v160Zm440 0h160v-160H620v160ZM180-180h160v-160H180v160Zm440 0h160v-160H620v160Z\"/>\n",
              "  </svg>\n",
              "    </button>\n",
              "\n",
              "  <style>\n",
              "    .colab-df-container {\n",
              "      display:flex;\n",
              "      gap: 12px;\n",
              "    }\n",
              "\n",
              "    .colab-df-convert {\n",
              "      background-color: #E8F0FE;\n",
              "      border: none;\n",
              "      border-radius: 50%;\n",
              "      cursor: pointer;\n",
              "      display: none;\n",
              "      fill: #1967D2;\n",
              "      height: 32px;\n",
              "      padding: 0 0 0 0;\n",
              "      width: 32px;\n",
              "    }\n",
              "\n",
              "    .colab-df-convert:hover {\n",
              "      background-color: #E2EBFA;\n",
              "      box-shadow: 0px 1px 2px rgba(60, 64, 67, 0.3), 0px 1px 3px 1px rgba(60, 64, 67, 0.15);\n",
              "      fill: #174EA6;\n",
              "    }\n",
              "\n",
              "    .colab-df-buttons div {\n",
              "      margin-bottom: 4px;\n",
              "    }\n",
              "\n",
              "    [theme=dark] .colab-df-convert {\n",
              "      background-color: #3B4455;\n",
              "      fill: #D2E3FC;\n",
              "    }\n",
              "\n",
              "    [theme=dark] .colab-df-convert:hover {\n",
              "      background-color: #434B5C;\n",
              "      box-shadow: 0px 1px 3px 1px rgba(0, 0, 0, 0.15);\n",
              "      filter: drop-shadow(0px 1px 2px rgba(0, 0, 0, 0.3));\n",
              "      fill: #FFFFFF;\n",
              "    }\n",
              "  </style>\n",
              "\n",
              "    <script>\n",
              "      const buttonEl =\n",
              "        document.querySelector('#df-28cf3599-480e-4ed1-a187-0eca6abf7587 button.colab-df-convert');\n",
              "      buttonEl.style.display =\n",
              "        google.colab.kernel.accessAllowed ? 'block' : 'none';\n",
              "\n",
              "      async function convertToInteractive(key) {\n",
              "        const element = document.querySelector('#df-28cf3599-480e-4ed1-a187-0eca6abf7587');\n",
              "        const dataTable =\n",
              "          await google.colab.kernel.invokeFunction('convertToInteractive',\n",
              "                                                    [key], {});\n",
              "        if (!dataTable) return;\n",
              "\n",
              "        const docLinkHtml = 'Like what you see? Visit the ' +\n",
              "          '<a target=\"_blank\" href=https://colab.research.google.com/notebooks/data_table.ipynb>data table notebook</a>'\n",
              "          + ' to learn more about interactive tables.';\n",
              "        element.innerHTML = '';\n",
              "        dataTable['output_type'] = 'display_data';\n",
              "        await google.colab.output.renderOutput(dataTable, element);\n",
              "        const docLink = document.createElement('div');\n",
              "        docLink.innerHTML = docLinkHtml;\n",
              "        element.appendChild(docLink);\n",
              "      }\n",
              "    </script>\n",
              "  </div>\n",
              "\n",
              "\n",
              "<div id=\"df-5073efa2-ba52-421e-9861-5121cce7f329\">\n",
              "  <button class=\"colab-df-quickchart\" onclick=\"quickchart('df-5073efa2-ba52-421e-9861-5121cce7f329')\"\n",
              "            title=\"Suggest charts\"\n",
              "            style=\"display:none;\">\n",
              "\n",
              "<svg xmlns=\"http://www.w3.org/2000/svg\" height=\"24px\"viewBox=\"0 0 24 24\"\n",
              "     width=\"24px\">\n",
              "    <g>\n",
              "        <path d=\"M19 3H5c-1.1 0-2 .9-2 2v14c0 1.1.9 2 2 2h14c1.1 0 2-.9 2-2V5c0-1.1-.9-2-2-2zM9 17H7v-7h2v7zm4 0h-2V7h2v10zm4 0h-2v-4h2v4z\"/>\n",
              "    </g>\n",
              "</svg>\n",
              "  </button>\n",
              "\n",
              "<style>\n",
              "  .colab-df-quickchart {\n",
              "      --bg-color: #E8F0FE;\n",
              "      --fill-color: #1967D2;\n",
              "      --hover-bg-color: #E2EBFA;\n",
              "      --hover-fill-color: #174EA6;\n",
              "      --disabled-fill-color: #AAA;\n",
              "      --disabled-bg-color: #DDD;\n",
              "  }\n",
              "\n",
              "  [theme=dark] .colab-df-quickchart {\n",
              "      --bg-color: #3B4455;\n",
              "      --fill-color: #D2E3FC;\n",
              "      --hover-bg-color: #434B5C;\n",
              "      --hover-fill-color: #FFFFFF;\n",
              "      --disabled-bg-color: #3B4455;\n",
              "      --disabled-fill-color: #666;\n",
              "  }\n",
              "\n",
              "  .colab-df-quickchart {\n",
              "    background-color: var(--bg-color);\n",
              "    border: none;\n",
              "    border-radius: 50%;\n",
              "    cursor: pointer;\n",
              "    display: none;\n",
              "    fill: var(--fill-color);\n",
              "    height: 32px;\n",
              "    padding: 0;\n",
              "    width: 32px;\n",
              "  }\n",
              "\n",
              "  .colab-df-quickchart:hover {\n",
              "    background-color: var(--hover-bg-color);\n",
              "    box-shadow: 0 1px 2px rgba(60, 64, 67, 0.3), 0 1px 3px 1px rgba(60, 64, 67, 0.15);\n",
              "    fill: var(--button-hover-fill-color);\n",
              "  }\n",
              "\n",
              "  .colab-df-quickchart-complete:disabled,\n",
              "  .colab-df-quickchart-complete:disabled:hover {\n",
              "    background-color: var(--disabled-bg-color);\n",
              "    fill: var(--disabled-fill-color);\n",
              "    box-shadow: none;\n",
              "  }\n",
              "\n",
              "  .colab-df-spinner {\n",
              "    border: 2px solid var(--fill-color);\n",
              "    border-color: transparent;\n",
              "    border-bottom-color: var(--fill-color);\n",
              "    animation:\n",
              "      spin 1s steps(1) infinite;\n",
              "  }\n",
              "\n",
              "  @keyframes spin {\n",
              "    0% {\n",
              "      border-color: transparent;\n",
              "      border-bottom-color: var(--fill-color);\n",
              "      border-left-color: var(--fill-color);\n",
              "    }\n",
              "    20% {\n",
              "      border-color: transparent;\n",
              "      border-left-color: var(--fill-color);\n",
              "      border-top-color: var(--fill-color);\n",
              "    }\n",
              "    30% {\n",
              "      border-color: transparent;\n",
              "      border-left-color: var(--fill-color);\n",
              "      border-top-color: var(--fill-color);\n",
              "      border-right-color: var(--fill-color);\n",
              "    }\n",
              "    40% {\n",
              "      border-color: transparent;\n",
              "      border-right-color: var(--fill-color);\n",
              "      border-top-color: var(--fill-color);\n",
              "    }\n",
              "    60% {\n",
              "      border-color: transparent;\n",
              "      border-right-color: var(--fill-color);\n",
              "    }\n",
              "    80% {\n",
              "      border-color: transparent;\n",
              "      border-right-color: var(--fill-color);\n",
              "      border-bottom-color: var(--fill-color);\n",
              "    }\n",
              "    90% {\n",
              "      border-color: transparent;\n",
              "      border-bottom-color: var(--fill-color);\n",
              "    }\n",
              "  }\n",
              "</style>\n",
              "\n",
              "  <script>\n",
              "    async function quickchart(key) {\n",
              "      const quickchartButtonEl =\n",
              "        document.querySelector('#' + key + ' button');\n",
              "      quickchartButtonEl.disabled = true;  // To prevent multiple clicks.\n",
              "      quickchartButtonEl.classList.add('colab-df-spinner');\n",
              "      try {\n",
              "        const charts = await google.colab.kernel.invokeFunction(\n",
              "            'suggestCharts', [key], {});\n",
              "      } catch (error) {\n",
              "        console.error('Error during call to suggestCharts:', error);\n",
              "      }\n",
              "      quickchartButtonEl.classList.remove('colab-df-spinner');\n",
              "      quickchartButtonEl.classList.add('colab-df-quickchart-complete');\n",
              "    }\n",
              "    (() => {\n",
              "      let quickchartButtonEl =\n",
              "        document.querySelector('#df-5073efa2-ba52-421e-9861-5121cce7f329 button');\n",
              "      quickchartButtonEl.style.display =\n",
              "        google.colab.kernel.accessAllowed ? 'block' : 'none';\n",
              "    })();\n",
              "  </script>\n",
              "</div>\n",
              "\n",
              "  <div id=\"id_a3d77944-bdce-46e3-8dc6-f23626d3578a\">\n",
              "    <style>\n",
              "      .colab-df-generate {\n",
              "        background-color: #E8F0FE;\n",
              "        border: none;\n",
              "        border-radius: 50%;\n",
              "        cursor: pointer;\n",
              "        display: none;\n",
              "        fill: #1967D2;\n",
              "        height: 32px;\n",
              "        padding: 0 0 0 0;\n",
              "        width: 32px;\n",
              "      }\n",
              "\n",
              "      .colab-df-generate:hover {\n",
              "        background-color: #E2EBFA;\n",
              "        box-shadow: 0px 1px 2px rgba(60, 64, 67, 0.3), 0px 1px 3px 1px rgba(60, 64, 67, 0.15);\n",
              "        fill: #174EA6;\n",
              "      }\n",
              "\n",
              "      [theme=dark] .colab-df-generate {\n",
              "        background-color: #3B4455;\n",
              "        fill: #D2E3FC;\n",
              "      }\n",
              "\n",
              "      [theme=dark] .colab-df-generate:hover {\n",
              "        background-color: #434B5C;\n",
              "        box-shadow: 0px 1px 3px 1px rgba(0, 0, 0, 0.15);\n",
              "        filter: drop-shadow(0px 1px 2px rgba(0, 0, 0, 0.3));\n",
              "        fill: #FFFFFF;\n",
              "      }\n",
              "    </style>\n",
              "    <button class=\"colab-df-generate\" onclick=\"generateWithVariable('train_df')\"\n",
              "            title=\"Generate code using this dataframe.\"\n",
              "            style=\"display:none;\">\n",
              "\n",
              "  <svg xmlns=\"http://www.w3.org/2000/svg\" height=\"24px\"viewBox=\"0 0 24 24\"\n",
              "       width=\"24px\">\n",
              "    <path d=\"M7,19H8.4L18.45,9,17,7.55,7,17.6ZM5,21V16.75L18.45,3.32a2,2,0,0,1,2.83,0l1.4,1.43a1.91,1.91,0,0,1,.58,1.4,1.91,1.91,0,0,1-.58,1.4L9.25,21ZM18.45,9,17,7.55Zm-12,3A5.31,5.31,0,0,0,4.9,8.1,5.31,5.31,0,0,0,1,6.5,5.31,5.31,0,0,0,4.9,4.9,5.31,5.31,0,0,0,6.5,1,5.31,5.31,0,0,0,8.1,4.9,5.31,5.31,0,0,0,12,6.5,5.46,5.46,0,0,0,6.5,12Z\"/>\n",
              "  </svg>\n",
              "    </button>\n",
              "    <script>\n",
              "      (() => {\n",
              "      const buttonEl =\n",
              "        document.querySelector('#id_a3d77944-bdce-46e3-8dc6-f23626d3578a button.colab-df-generate');\n",
              "      buttonEl.style.display =\n",
              "        google.colab.kernel.accessAllowed ? 'block' : 'none';\n",
              "\n",
              "      buttonEl.onclick = () => {\n",
              "        google.colab.notebook.generateWithVariable('train_df');\n",
              "      }\n",
              "      })();\n",
              "    </script>\n",
              "  </div>\n",
              "\n",
              "    </div>\n",
              "  </div>\n"
            ],
            "application/vnd.google.colaboratory.intrinsic+json": {
              "type": "dataframe",
              "variable_name": "train_df",
              "summary": "{\n  \"name\": \"train_df\",\n  \"rows\": 25000,\n  \"fields\": [\n    {\n      \"column\": \"text\",\n      \"properties\": {\n        \"dtype\": \"string\",\n        \"num_unique_values\": 24904,\n        \"samples\": [\n          \"Although I didn't like Stanley & Iris tremendously as a film, I did admire the acting. Jane Fonda and Robert De Niro are great in this movie. I haven't always been a fan of Fonda's work but here she is delicate and strong at the same time. De Niro has the ability to make every role he portrays into acting gold. He gives a great performance in this film and there is a great scene where he has to take his father to a home for elderly people because he can't care for him anymore that will break your heart. I wouldn't really recommend this film as a great cinematic entertainment, but I will say you won't see much bette acting anywhere.\",\n          \"Yet again one of the most misunderstood Goddesses of my country has been twisted by \\\"Westerners\\\" who cannot understand the esoteric symbolism of the Mother Goddess in her dark forms. The Mother takes on the frightening form of Kali Mata to destroy our inner demons, and to terrify our egos. And though blood sacrifice is given to Kali and Durga, the events depicted in this film are just absurd. The Mother takes on a wrathful form to be wrathful to our inner demons, limitations, and ego when no other form will suffice. It's also in her wrathful form that she burns away all your Karmas in the \\\"Smashan\\\" fires that you cultivate in your heart for her to dance on if you love her, and she will bring you to reality and truth. Reality and truth has a dark side as well as light, which serves a purpose. The Mother is the embodiment of the physical Universe as well, she is Nature. Nature can be cruel and destructive to maintain balance. You cannot have growth and life without death and destruction. Kali represents the force of destruction for the purpose of new growth and life both mundane and spiritual in the universe. It's very outrageous to me that people who know nothing of India or it's divinity can just take one of our beloved Goddesses and use her like a cheap prostitute to make some low-budget, talentless horror film. How dare they take our beloved Mother and portray her as a horror that makes people chop their eyelids off!? She is only horrific to those who are attached to their ego and who live in delusion , greed, anger, and other inner-demons. It's very clear to me that the person who wrote this movie must have a very serious self-deluding ego, and serious inner-demons to see Kali as so horrible and terrible. When the ego drops away she becomes a form that is enchanting, beautiful, and young, a beauty that is so enchanting to behold that she enchants the entire Universe with it. Kali Maa is an ancient Mother, not to be trifled with for the sake of entertainment, let's just hope that in her endless compassion and mercy that she does not take on wrathful form to those involved with this movie.<br /><br />The audacity that Westerners have in using religions like my own, or the religions of the Caribbean Islands such as Santeria, and Vodou which are actually very positive, and other such religions to twist and exaggerate misunderstood elements that the Western mind cannot comprehend, is totally ridiculous. It's clear that there is no respect for what people live, breathe and believe in when it comes to these kind of flicks.<br /><br />Kali Maa in reality is a caring and compassionate mother, whom we shed tears at her beautiful feet in devotion and love for. And I am happy that my Mother takes on wrathful form sometimes to protect her devotees from themselves and from outside forces.<br /><br />Many Praises to the REAL Kali Maa, who has shown MANY the path of God and realization.\",\n          \"Paris is the place to be to enjoy beautiful art and music, and to fall madly in love - as is the case in this film. Boy meets girl, they fall in love, but something stands in their way of eternal happiness, the classic story.<br /><br />The wonderful music of George Gerschwin complements the great dancing by Gene Kelly and Leslie Caron. \\\"An American in Paris\\\" is a humorous, light-hearted, loving film well worth watching.<br /><br />8/10<br /><br />\"\n        ],\n        \"semantic_type\": \"\",\n        \"description\": \"\"\n      }\n    },\n    {\n      \"column\": \"label\",\n      \"properties\": {\n        \"dtype\": \"number\",\n        \"std\": 0,\n        \"min\": 0,\n        \"max\": 1,\n        \"num_unique_values\": 2,\n        \"samples\": [\n          1,\n          0\n        ],\n        \"semantic_type\": \"\",\n        \"description\": \"\"\n      }\n    }\n  ]\n}"
            }
          },
          "metadata": {},
          "execution_count": 48
        }
      ]
    },
    {
      "cell_type": "code",
      "source": [
        "#https://mpolinowski.github.io/docs/Development/Python/2023-05-20-python-sklearn-cheat-sheet/2023-05-20/\n",
        "train_df.info()\n",
        "train_df['text'].str.isspace().sum()\n",
        "# is the dataset balanced\n",
        "train_df['label'].value_counts()"
      ],
      "metadata": {
        "colab": {
          "base_uri": "https://localhost:8080/",
          "height": 334
        },
        "id": "HAVKqFty9BXj",
        "outputId": "c61d98e0-bbcb-474f-d1ca-5b3a75988d31"
      },
      "execution_count": 49,
      "outputs": [
        {
          "output_type": "stream",
          "name": "stdout",
          "text": [
            "<class 'pandas.core.frame.DataFrame'>\n",
            "RangeIndex: 25000 entries, 0 to 24999\n",
            "Data columns (total 2 columns):\n",
            " #   Column  Non-Null Count  Dtype \n",
            "---  ------  --------------  ----- \n",
            " 0   text    25000 non-null  object\n",
            " 1   label   25000 non-null  int64 \n",
            "dtypes: int64(1), object(1)\n",
            "memory usage: 390.8+ KB\n"
          ]
        },
        {
          "output_type": "execute_result",
          "data": {
            "text/plain": [
              "label\n",
              "0    12500\n",
              "1    12500\n",
              "Name: count, dtype: int64"
            ],
            "text/html": [
              "<div>\n",
              "<style scoped>\n",
              "    .dataframe tbody tr th:only-of-type {\n",
              "        vertical-align: middle;\n",
              "    }\n",
              "\n",
              "    .dataframe tbody tr th {\n",
              "        vertical-align: top;\n",
              "    }\n",
              "\n",
              "    .dataframe thead th {\n",
              "        text-align: right;\n",
              "    }\n",
              "</style>\n",
              "<table border=\"1\" class=\"dataframe\">\n",
              "  <thead>\n",
              "    <tr style=\"text-align: right;\">\n",
              "      <th></th>\n",
              "      <th>count</th>\n",
              "    </tr>\n",
              "    <tr>\n",
              "      <th>label</th>\n",
              "      <th></th>\n",
              "    </tr>\n",
              "  </thead>\n",
              "  <tbody>\n",
              "    <tr>\n",
              "      <th>0</th>\n",
              "      <td>12500</td>\n",
              "    </tr>\n",
              "    <tr>\n",
              "      <th>1</th>\n",
              "      <td>12500</td>\n",
              "    </tr>\n",
              "  </tbody>\n",
              "</table>\n",
              "</div><br><label><b>dtype:</b> int64</label>"
            ]
          },
          "metadata": {},
          "execution_count": 49
        }
      ]
    },
    {
      "cell_type": "markdown",
      "source": [
        "#CountVectorizer is used to create Bag of Words (BOW)"
      ],
      "metadata": {
        "id": "q7OKgBbQS90D"
      }
    },
    {
      "cell_type": "code",
      "source": [
        "# find top 20 words in negative reviews\n",
        "train_neg_df = train_df[train_df['label'] == 0]\n",
        "\n",
        "count_vectorizer = CountVectorizer(analyzer='word', stop_words='english', max_df=0.8 ,min_df=100)\n",
        "bag_of_words = count_vectorizer.fit_transform(train_neg_df['text'])\n",
        "sum_words = bag_of_words.sum(axis=0)\n",
        "\n",
        "words_freq = [\n",
        "    (word, sum_words[0, idx]) for word, idx in count_vectorizer.vocabulary_.items()\n",
        "]\n",
        "\n",
        "words_freq =sorted(words_freq, key = lambda x: x[1], reverse=True)\n",
        "\n",
        "x, y = zip(*words_freq[:30])\n",
        "\n",
        "plt.figure(figsize=(12,5))\n",
        "plt.bar(x,y)\n",
        "plt.xticks(rotation=90)\n",
        "plt.title('Top30 Words used in Negative Reviews')\n",
        "#!mkdir assets\n",
        "#plt.savefig('assets/Negative_word.webp', bbox_inches='tight')"
      ],
      "metadata": {
        "colab": {
          "base_uri": "https://localhost:8080/",
          "height": 544
        },
        "id": "myy0f5JR-a_R",
        "outputId": "282ba618-02bc-471c-d56d-59779b8bb1f5"
      },
      "execution_count": 50,
      "outputs": [
        {
          "output_type": "execute_result",
          "data": {
            "text/plain": [
              "Text(0.5, 1.0, 'Top30 Words used in Negative Reviews')"
            ]
          },
          "metadata": {},
          "execution_count": 50
        },
        {
          "output_type": "display_data",
          "data": {
            "text/plain": [
              "<Figure size 1200x500 with 1 Axes>"
            ],
            "image/png": "[encoded data removed]"
          },
          "metadata": {}
        }
      ]
    },
    {
      "cell_type": "code",
      "source": [
        "# find top 20 words in positive reviews\n",
        "train_pos_df = train_df[train_df['label'] == 1]\n",
        "\n",
        "count_vectorizer = CountVectorizer(analyzer='word', stop_words='english')\n",
        "bag_of_words = count_vectorizer.fit_transform(train_pos_df['text'])\n",
        "sum_words = bag_of_words.sum(axis=0)\n",
        "\n",
        "words_freq = [\n",
        "    (word, sum_words[0, idx]) for word, idx in count_vectorizer.vocabulary_.items()\n",
        "]\n",
        "\n",
        "words_freq =sorted(words_freq, key = lambda x: x[1], reverse=True)\n",
        "\n",
        "x, y = zip(*words_freq[:30])\n",
        "\n",
        "plt.figure(figsize=(12,5))\n",
        "plt.bar(x,y)\n",
        "plt.xticks(rotation=90)\n",
        "plt.title('Top30 Words used in Positive Reviews')\n",
        "\n",
        "#plt.savefig('assets/Positive_words.webp', bbox_inches='tight')"
      ],
      "metadata": {
        "colab": {
          "base_uri": "https://localhost:8080/",
          "height": 544
        },
        "id": "5jbGBu4H_MrG",
        "outputId": "82d6f121-0c81-458e-f536-7660c90abe24"
      },
      "execution_count": 51,
      "outputs": [
        {
          "output_type": "execute_result",
          "data": {
            "text/plain": [
              "Text(0.5, 1.0, 'Top30 Words used in Positive Reviews')"
            ]
          },
          "metadata": {},
          "execution_count": 51
        },
        {
          "output_type": "display_data",
          "data": {
            "text/plain": [
              "<Figure size 1200x500 with 1 Axes>"
            ],
            "image/png": "[encoded data removed]"
          },
          "metadata": {}
        }
      ]
    },
    {
      "cell_type": "code",
      "source": [
        "X_rev_train = train_df['text']\n",
        "y_rev_train = train_df['label']\n",
        "\n",
        "X_rev_test = test_df['text']\n",
        "y_rev_test = test_df['label']"
      ],
      "metadata": {
        "id": "hSLDweeogix8"
      },
      "execution_count": 52,
      "outputs": []
    },
    {
      "cell_type": "code",
      "source": [
        "#vect = CountVectorizer().fit(X_rev_train)\n",
        "vect = CountVectorizer(binary=False, max_df=0.80, min_df=10, max_features=10000, stop_words=\"english\").fit(X_rev_train)\n",
        "\n",
        "X_train = vect.transform(X_rev_train)\n",
        "X_test = vect.transform(X_rev_test)\n",
        "print(\"X_train:\\n{}\".format(repr(X_train)))\n"
      ],
      "metadata": {
        "colab": {
          "base_uri": "https://localhost:8080/"
        },
        "id": "fLWA2TotYCI_",
        "outputId": "b69cc0e7-60d5-4ee0-9bf0-3f166bef7829"
      },
      "execution_count": 53,
      "outputs": [
        {
          "output_type": "stream",
          "name": "stdout",
          "text": [
            "X_train:\n",
            "<25000x10000 sparse matrix of type '<class 'numpy.int64'>'\n",
            "\twith 1975229 stored elements in Compressed Sparse Row format>\n"
          ]
        }
      ]
    },
    {
      "cell_type": "code",
      "source": [
        "X_train[0]"
      ],
      "metadata": {
        "colab": {
          "base_uri": "https://localhost:8080/"
        },
        "id": "rF06Ofz7kTum",
        "outputId": "67776fbf-fa6f-48d3-8eed-ded73dbaae15"
      },
      "execution_count": 54,
      "outputs": [
        {
          "output_type": "execute_result",
          "data": {
            "text/plain": [
              "<1x10000 sparse matrix of type '<class 'numpy.int64'>'\n",
              "\twith 101 stored elements in Compressed Sparse Row format>"
            ]
          },
          "metadata": {},
          "execution_count": 54
        }
      ]
    },
    {
      "cell_type": "code",
      "source": [
        "print(\"Vocabulary: \", vect.vocabulary_)"
      ],
      "metadata": {
        "colab": {
          "base_uri": "https://localhost:8080/"
        },
        "id": "5F4AlxjMjQmR",
        "outputId": "a706feba-b6c7-45d7-e56e-feebb6a29ef2"
      },
      "execution_count": 55,
      "outputs": [
        {
          "output_type": "stream",
          "name": "stdout",
          "text": [
            "Vocabulary:  {'rented': 7385, 'curious': 2271, 'yellow': 9964, 'video': 9566, 'store': 8593, 'controversy': 2055, 'surrounded': 8802, 'released': 7330, '1967': 60, 'heard': 4214, 'customs': 2285, 'tried': 9264, 'enter': 3101, 'country': 2130, 'fan': 3376, 'films': 3503, 'considered': 2002, 'controversial': 2054, 'really': 7218, 'br': 1167, 'plot': 6710, 'centered': 1516, 'young': 9974, 'swedish': 8832, 'drama': 2808, 'student': 8653, 'named': 6010, 'lena': 5214, 'wants': 9682, 'learn': 5188, 'life': 5260, 'particular': 6475, 'focus': 3594, 'making': 5510, 'sort': 8337, 'documentary': 2740, 'average': 747, 'thought': 9039, 'certain': 1525, 'political': 6744, 'issues': 4812, 'vietnam': 9569, 'war': 9683, 'race': 7107, 'united': 9419, 'states': 8515, 'asking': 644, 'politicians': 6747, 'ordinary': 6319, 'opinions': 6296, 'politics': 6748, 'sex': 7974, 'teacher': 8923, 'classmates': 1718, 'married': 5581, 'men': 5708, 'kills': 5029, '40': 130, 'years': 9961, 'ago': 341, 'pornographic': 6770, 'nudity': 6185, 'scenes': 7797, 'far': 3386, 'shot': 8083, 'like': 5278, 'cheaply': 1589, 'porno': 6769, 'mind': 5786, 'shocking': 8063, 'reality': 7212, 'major': 5503, 'staple': 8491, 'cinema': 1679, 'bergman': 960, 'arguably': 589, 'answer': 509, 'good': 3941, 'old': 6265, 'boy': 1160, 'john': 4900, 'ford': 3628, 'filmmakers': 3500, 'fact': 3337, 'shown': 8099, 'film': 3496, 'artistic': 627, 'purposes': 7056, 'just': 4957, 'shock': 8060, 'people': 6554, 'make': 5505, 'money': 5876, 'theaters': 9006, 'america': 442, 'wanting': 9681, 'study': 8659, 'meat': 5674, 'pun': 7039, 'intended': 4710, 'doesn': 2746, 'pretentious': 6887, 'steaming': 8533, 'pile': 6649, 'matter': 5633, 'views': 9577, 'hardly': 4155, 'taken': 8876, 'seriously': 7946, 'level': 5243, 'claim': 1700, 'frontal': 3720, 'male': 5513, 'automatic': 742, '17': 14, 'isn': 4806, 'true': 9284, 've': 9528, 'seen': 7889, 'rated': 7169, 'granted': 3987, 'offer': 6245, 'fleeting': 3563, 'don': 2763, 'exist': 3244, 'goes': 3927, 'crappy': 2166, 'cable': 1337, 'shows': 8100, 'swinging': 8841, 'sight': 8123, 'indie': 4602, 'movies': 5945, 'brown': 1248, 'bunny': 1294, 'treated': 9240, 'site': 8177, 'vincent': 9589, 'johnson': 4902, 'trace': 9181, 'pink': 6653, 'visible': 9605, 'chloe': 1634, 'crying': 2253, 'double': 2777, 'standard': 8483, 'matters': 5634, 'mentally': 5713, 'account': 214, 'obvious': 6220, 'difference': 2614, 'women': 9878, 'display': 2698, 'actresses': 243, 'appears': 554, 'nude': 6184, 'said': 7711, 'man': 5519, 'generally': 3824, 'won': 9879, 'female': 3451, 'american': 443, 'short': 8078, 'porn': 6768, 'explicit': 3282, 'alleged': 400, 'admittedly': 287, 'depressing': 2512, 'ability': 164, 'come': 1847, 'terms': 8978, 'bodies': 1088, 'avoid': 750, 'type': 9325, 'future': 3755, 'interesting': 4725, 'experiment': 3269, 'tells': 8955, 'story': 8597, 'feel': 3440, 'sitting': 8180, 'touches': 9166, 'important': 4546, 'does': 2745, 'motive': 5930, 'viewer': 9572, 'comes': 1854, 'away': 763, 'new': 6089, 'perspectives': 6586, 'unless': 9426, 'wanders': 9675, 'pointless': 6727, 'better': 975, 'spend': 8396, 'time': 9089, 'staring': 8498, 'window': 9833, 'tree': 9244, 'growing': 4045, 'probably': 6922, 'inspired': 4681, 'godard': 3921, 'urge': 9473, 'instead': 4689, 'strong': 8638, 'elements': 2998, 'realistic': 7209, 'acting': 234, 'impressive': 4553, 'photo': 6617, 'apart': 531, 'strikes': 8629, 'endless': 3061, 'stream': 8613, 'silliness': 8134, 'annoying': 505, 'actress': 242, 'world': 9904, 'acts': 244, 'stupid': 8673, 'unattractive': 9343, 'comparing': 1892, 'replaced': 7395, 'stupidity': 8675, 'going': 3928, 'subject': 8684, 'say': 7774, 'follows': 3608, 'ideals': 4478, 'french': 3701, 'society': 8297, 'movie': 5944, 'place': 6667, '10': 2, 'oh': 6260, 'brother': 1244, 'hearing': 4215, 'ridiculous': 7530, 'think': 9026, 'peggy': 6545, 'lee': 5200, 'song': 8319, 'early': 2918, 'teen': 8945, 'fish': 3530, 'hit': 4316, 'theater': 9005, 'did': 2605, 'manage': 5520, 'sneak': 8280, 'goodbye': 3942, 'screening': 7833, 'local': 5347, 'museum': 5977, 'finally': 3508, 'parents': 6459, 'reason': 7221, 'condemned': 1950, 'anonymous': 508, 'case': 1455, 'release': 7329, 'millions': 5782, 'stinker': 8573, 'thinking': 9027, 'got': 3957, 'lots': 5405, 'closeups': 1768, 'repulsive': 7413, 'street': 8615, 'interviews': 4743, 'bland': 1036, 'shopping': 8076, 'feeble': 3437, 'cares': 1420, 'pale': 6432, 'actors': 241, 'cultural': 2263, 'icon': 4470, 'holy': 4349, 'grail': 3975, 'historic': 4312, 'thing': 9024, 'shred': 8102, 'burn': 1300, 'stuff': 8661, 'lead': 5179, 'box': 1156, 'elite': 3007, 'value': 9504, 'boring': 1133, 'pseudo': 7013, 'revolutionary': 7501, 'weren': 9774, 'censorship': 1513, 'scandal': 7779, 'ignored': 4494, 'forgotten': 3643, 'blank': 1038, 'title': 9105, 'repeated': 7388, 'endlessly': 3062, 'gay': 3808, 'black': 1023, 'blaxploitation': 1043, 'rises': 7550, 'dead': 2376, 'viewed': 9571, 'generation': 3827, 'want': 9679, 'naughty': 6036, 'industry': 4612, 'plague': 6672, 'rent': 7383, 'fast': 3404, 'forward': 3659, 'dirty': 2649, 'parts': 6482, 'list': 5317, 'category': 1479, 'unwatchable': 9457, 'trash': 9225, 'bad': 797, 'worst': 9916, 'kind': 5032, 'ones': 6280, 'suppose': 8777, 'supposed': 8778, 'sequences': 7939, 'day': 2371, 'couldn': 2120, 'rabbit': 7105, 'called': 1351, 'strictly': 8627, 'high': 4282, 'school': 7804, 'amateur': 428, 'night': 6107, 'self': 7898, 'arty': 634, 'sense': 7914, 'term': 8976, 'photography': 6622, 'harsh': 4175, 'grainy': 3977, 'white': 9797, 'wrong': 9943, 'angle': 479, 'sound': 8345, 'art': 620, 'wrote': 9945, 'screenplay': 7834, 'obviously': 6221, 'books': 1120, 'lucille': 5432, 'ball': 815, 'especially': 3155, 'autobiography': 741, 'mistakes': 5835, 'biopic': 1006, 'ranging': 7151, 'later': 5146, 'write': 9937, 'factual': 3342, 'errors': 3150, 'pages': 6414, 'believe': 934, 'simply': 8149, 'portrayed': 6780, 'jr': 4927, 'hard': 4150, 'awfully': 768, 'sloppy': 8246, 'saw': 7773, 'glimpse': 3904, 'quickly': 7093, 'noticed': 6163, 'playing': 6698, 'role': 7601, 'rachel': 7109, 'york': 9973, 'portrayal': 6778, 'lucy': 5437, 'absolutely': 178, 'awful': 767, 'astounding': 679, 'comedian': 1849, 'incredible': 4592, 'talent': 8881, 'legend': 5205, 'way': 9730, 'horrendous': 4390, 'play': 6692, 'producers': 6932, 'decided': 2408, 'roles': 7602, 'tough': 9168, 'pretty': 6888, 'resemble': 7427, 'bit': 1012, 'similar': 8139, 'looks': 5383, 'episodes': 3129, 'love': 5413, 'chocolate': 1636, 'factory': 3340, 'expression': 3309, 'voice': 9623, 'movement': 5941, 'danny': 2339, 'horrible': 4391, 'qualify': 7077, 'ricky': 7522, 'small': 8255, 'skinny': 8197, 'accent': 192, 'unreal': 9442, 'unbelievable': 9346, 'fred': 3693, 'characters': 1565, 'overall': 6369, 'extremely': 3321, 'casting': 1466, 'badly': 800, 'told': 9119, 'understand': 9368, 'real': 7203, 'situation': 8181, 'suggest': 8728, 'watching': 9719, 'biography': 1005, 'read': 7195, 'book': 1118, 'pbs': 6529, 'masters': 5618, 'finding': 3511, 'laughter': 5156, 'choice': 1637, 'compared': 1890, 'aspect': 647, 'certainly': 1526, 'audience': 719, 'air': 358, 'productions': 6937, 'existence': 3246, 'lot': 5403, 'fun': 3738, 'shoot': 8070, 'getting': 3857, 'actual': 245, 'work': 9898, 'makes': 5508, 'watch': 9714, 'ritter': 7556, 'glasses': 3900, 'hammer': 4114, 'home': 4351, 'character': 1559, 'status': 8522, 'bogdanovich': 1092, 'ms': 5950, 'sweet': 8834, 'embarrassing': 3022, 'look': 5380, 'guys': 4083, 'dating': 2362, 'prom': 6964, 'queen': 7084, 'ben': 947, 'sports': 8437, 'usual': 9487, 'cat': 1472, 'grin': 4026, 'attempt': 698, 'elevate': 3001, 'requires': 7418, 'pursue': 7058, 'audrey': 723, 'hepburn': 4259, 'insomnia': 4676, 'clinic': 1752, 'meantime': 5671, 'budding': 1267, 'couple': 2135, 'respective': 7443, 'children': 1626, 'alert': 383, 'daughters': 2364, 'cute': 2287, 'pick': 6633, 'fairly': 3356, 'disturbing': 2721, 'observing': 6214, 'drawing': 2814, 'dignity': 2624, 'manages': 5524, 'rise': 7549, 'proceedings': 6926, 'monumental': 5896, 'challenge': 1535, 'ostensibly': 6340, 'everybody': 3191, 'great': 4002, 'expect': 3256, 'looking': 5382, 'picking': 6636, 'copy': 2091, 'mentioned': 5715, 'camp': 1364, 'thoroughly': 9038, 'annoys': 507, 'singing': 8161, 'competent': 1901, 'wholly': 9800, 'unconvincing': 9356, 'western': 9781, 'numbers': 6187, 'woefully': 9872, 'mismatched': 5823, 'standards': 8484, 'soundtrack': 8349, 'surely': 8783, 'gershwin': 3852, 'derived': 2521, 'stage': 8464, 'musicals': 5980, '20': 98, 'slight': 8236, 'long': 5374, 'charm': 1576, 'laughed': 5153, 'tries': 9266, 'coast': 1789, 'intentions': 4719, 'peter': 6593, 'tragic': 9193, 'death': 2389, 'dorothy': 2774, 'special': 8378, 'heart': 4217, 'mr': 5948, 'bought': 1148, 'distributed': 2716, 'went': 9773, 'didn': 2606, 'prove': 7001, 'popular': 6764, 'fall': 3364, 'sympathetic': 8858, 'hollywood': 4344, 'stories': 8595, 'joy': 4925, 'emotional': 3033, 'investment': 4768, 'faint': 3353, 'echo': 2940, 'picture': 6640, 'paper': 6446, 'moon': 5899, 'doc': 2734, 'following': 3607, 'daisy': 2307, 'miller': 5779, 'phase': 6602, 'emerged': 3027, 'harmless': 4165, 'waste': 9710, 'rental': 7384, 'having': 4193, 'll': 5340, 'park': 6461, 'sunny': 8753, 'expressions': 3310, 'stick': 8563, 'ernest': 3143, 'lubitsch': 5429, 'personal': 6580, 'based': 850, 'changed': 1549, 'things': 9025, 'fit': 3535, 'detectives': 2565, 'date': 2359, 'beautiful': 898, 'models': 5859, 'problem': 6923, 'sounds': 8348, 'millionaire': 5781, 'playboy': 6693, 'filmmaker': 3499, 'detective': 2564, 'entire': 3116, 'written': 9942, 'touch': 9164, 'know': 5064, 'leaves': 5195, 'bored': 1131, 'confused': 1973, 'jealous': 4858, 'murdered': 5965, 'right': 7535, 'filming': 3498, 'marry': 5583, 'keith': 4992, 'richards': 7518, 'model': 5858, 'ample': 451, 'forced': 3625, 'added': 259, 'convoluted': 2077, 'begin': 916, 'somebody': 8313, 'relate': 7315, 'manhattan': 5530, 'rest': 7451, 'irritating': 4796, 'fest': 3460, 'happens': 4143, 'entertain': 3106, 'friends': 3712, 'inside': 4667, 'jokes': 4910, 'bore': 1130, 'favorite': 3416, 'stars': 8502, '30': 122, 'including': 4580, 'looked': 5381, 'quite': 7101, 'wonderful': 9882, 'given': 3890, 'lines': 5305, 'understood': 9375, 'cared': 1414, 'doing': 2750, 'smaller': 8256, 'fine': 3513, 'patty': 6513, 'confident': 1959, 'sidekick': 8117, 'showed': 8096, 'sad': 7702, 'star': 8492, 'sadly': 7705, 'chance': 1544, 'act': 232, 'fans': 3381, 'open': 6283, 'minded': 5787, 'started': 8505, 'big': 986, 'enjoyed': 3088, 'targets': 8905, 'surprised': 8793, 'barely': 834, 'able': 165, 'awake': 755, 'ironic': 4788, 'agency': 334, 'involved': 4774, 'ex': 3204, 'girlfriend': 3887, 'shepherd': 8040, 'television': 8952, 'series': 7945, 'stealing': 8529, 'idea': 4475, 'course': 2140, 'relied': 7338, 'tons': 9139, 'witty': 9869, 'dialogue': 2594, 'slapstick': 8211, 'screwball': 7840, 'line': 5301, 'ain': 357, 'version': 9546, 'aren': 587, 'prepared': 6864, 'possibility': 6800, 'script': 7842, 'lack': 5097, 'thereof': 9021, 'plus': 6716, 'general': 3823, 'craft': 2162, 'technical': 8934, 'crew': 2203, 'ear': 2914, 'purse': 7057, 'target': 8903, 'cheap': 1587, 'laughs': 5155, 'expense': 3263, 'amazingly': 433, 'killing': 5027, 'cast': 1464, 'bob': 1086, '80': 147, 'obsessed': 6215, 'sister': 8172, 'murder': 5964, 'hands': 4126, 'low': 5421, 'husband': 4453, 'times': 9092, 'silver': 8136, 'screen': 7831, 'expected': 3259, 'lost': 5402, 'masterpiece': 5616, 'la': 5090, 'orson': 6336, 'welles': 9767, 'god': 3920, 'hair': 4098, 'disappointing': 2659, 'sit': 8174, 'surrounding': 8803, 'group': 4042, 'setting': 7962, 'director': 2644, 'city': 1695, 'end': 3056, 'woody': 9894, 'allen': 403, 'improve': 4557, 'words': 9896, 'unnecessary': 9435, 'experience': 3265, 'set': 7959, 'peers': 6543, 'fantasy': 3385, 'hollow': 4342, 'shallow': 8001, 'message': 5734, 'today': 9112, 'vhs': 9554, 'sale': 7718, 'used': 9479, 'information': 4633, 'liked': 5280, 'references': 7279, 'listed': 5318, 'cover': 2146, 'names': 6011, 'specially': 8379, 'attracted': 713, 'price': 6898, 'risk': 7552, 'buy': 1328, 'searched': 7856, 'imdb': 4522, 'user': 9482, 'rating': 7172, 'excellent': 3216, 'reference': 7278, 'mick': 5759, 'martin': 5592, 'porter': 6772, 'dvd': 2899, 'guide': 4065, '2003': 103, 'wow': 9926, 'immediately': 4529, 'finished': 3519, 'overrated': 6380, 'developed': 2575, 'spent': 8399, 'minutes': 5805, 'funny': 3747, 'private': 6919, 'eyes': 3326, 'chasing': 1582, 'coincidences': 1806, 'huge': 4423, 'attractive': 715, 'seductive': 7881, 'falling': 3366, 'brad': 1168, 'pitt': 6662, 'antonio': 521, 'george': 3844, 'clooney': 1761, 'greater': 4003, 'presence': 6868, 'year': 9959, 'amazing': 432, 'beauty': 900, 'sexy': 7979, 'mrs': 5949, 'carlos': 1430, 'brazilian': 1186, 'singer': 8158, '60': 139, 'king': 5037, 'collection': 1819, 'vote': 9634, 'brazil': 1185, 'happiness': 4146, 'plain': 6674, 'falls': 3368, '75': 146, 'delivering': 2464, 'reading': 7199, 'cue': 2259, 'cards': 1412, 'poor': 6755, 'editing': 2958, 'mixing': 5846, 'places': 6670, 'background': 789, 'noise': 6126, 'suck': 8713, 'delivers': 2465, 'passion': 6493, 'wonder': 9880, 'wasn': 9709, 'kids': 5022, 'oldest': 6267, 'definitely': 2441, 'card': 1410, 'project': 6957, 'friend': 3710, 'suggests': 8733, 'friendship': 3713, 'spouse': 8442, 'lawn': 5166, 'piece': 6643, 'garbage': 3788, 'sum': 8742, 'word': 9895, 'caused': 1487, 'purchase': 7050, 'subplots': 8691, 'retain': 7466, 'stiff': 8566, 'confusing': 1974, 'believable': 933, 'disappointed': 2658, 'best': 966, 'pathetic': 6501, 'library': 5255, 'haven': 4192, 'disbelief': 2665, 'totally': 9163, 'robin': 7581, 'feature': 3430, 'appearance': 550, 'prior': 6915, 'homicide': 4357, 'idiocy': 4486, 'little': 5330, 'nods': 6124, 'comedy': 1853, 'shadow': 7987, 'inhabited': 4644, 'magically': 5489, 'breakfast': 1190, 'earlier': 2916, 'sinatra': 8154, 'songs': 8320, 'loud': 5407, 'sure': 8782, 'wait': 9649, 'credits': 2196, 'subtly': 8703, 'woven': 9925, 'means': 5669, 'guess': 4059, 'european': 3178, 'lady': 5105, 'occasionally': 6224, 'continuing': 2037, 'grow': 4044, 'period': 6574, 'ann': 495, 'played': 6694, 'unbelievably': 9347, 'material': 5627, 'situations': 8182, 'person': 6578, 'dreamed': 2822, 'charming': 1577, 'dreadful': 2819, 'performance': 6566, 'atrocious': 690, 'tv': 9314, 'robert': 7578, 'wagner': 9646, 'thieves': 9023, '50': 136, 'intelligent': 4707, 'insisted': 4674, 'turner': 9309, 'infinitely': 4625, 'effective': 2969, 'took': 9141, 'bothered': 1144, 'clothes': 1772, 'tacky': 8870, 'road': 7567, 'perfect': 6561, 'possibly': 6802, 'ways': 9733, 'girl': 3886, 'plays': 6699, 'sickening': 8113, 'recommend': 7247, 'truly': 9285, 'critic': 2218, 'david': 2366, 'phrase': 6624, 'losing': 5400, 'appeal': 546, 'ask': 641, 'sandra': 7739, 'dee': 2421, 'pitiful': 6661, 'budget': 1269, 'spoke': 8428, '1981': 76, 'sounded': 8346, 'silly': 8135, 'gardens': 3793, 'somewhat': 8316, 'works': 9903, 'walks': 9663, 'english': 3079, 'flowers': 3585, 'nature': 6034, 'fictional': 3472, 'profound': 6947, 'light': 5268, 'poetic': 6721, 'fair': 3354, 'matching': 5625, 'garbo': 3789, 'final': 3506, 'brief': 1214, 'angel': 471, 'spielberg': 8402, 'corny': 2101, 'witless': 9862, 'service': 7954, 'fifth': 3480, 'church': 1673, 'included': 4578, 'boys': 1166, 'choir': 1639, 'simple': 8145, 'gifts': 3871, 'program': 6949, 'sudden': 8718, 'river': 7561, 'escape': 3151, 'brought': 1246, 'emotion': 3032, 'tears': 8931, 'nun': 6191, 'greatest': 4004, 'common': 1878, 'human': 4431, 'performances': 6567, 'trivial': 9276, 'flaws': 3558, 'pointed': 6725, 'mercilessly': 5721, 'late': 5144, 'contained': 2021, 'abundance': 185, 'talk': 8886, 'original': 6327, 'dark': 2347, 'starred': 8500, 'broadway': 1232, 'celebrated': 1499, 'completely': 1914, 'incapable': 4567, 'sordid': 8332, 'adequate': 274, 'downhill': 2785, 'weekend': 9756, 'working': 9902, 'hope': 4377, 'makers': 5507, 'crap': 2165, 'jobs': 4893, 'sucked': 8714, '100': 3, 'total': 9162, 'let': 5235, 'pros': 6987, 'cons': 1990, 'summary': 8744, 'reporter': 7403, 'runs': 7676, 'hitchhiker': 4319, 'deaths': 2390, 'killed': 5024, 'zombies': 9994, 'review': 7490, 'zombie': 9993, 'chronicles': 1669, 'filmed': 3497, 'bucks': 1264, 'horror': 4397, 'relies': 7340, 'lame': 5112, 'save': 7768, 'lives': 5335, 'gore': 3951, 'gross': 4035, 'frightening': 3717, 'sexually': 7978, 'disease': 2682, 'cents': 1520, 'company': 1887, 'brain': 1170, 'damage': 2311, 'brains': 1172, 'damaged': 2312, 'negative': 6062, 'advice': 309, 'twist': 9321, 'ending': 3059, 'insert': 4665, 'close': 1762, 'ups': 9466, 'opening': 6286, 'tends': 8970, 'spoil': 8423, 'twists': 9323, 'produced': 6930, 'worked': 9899, 'miracles': 5808, 'hire': 4305, 'actually': 247, 'walk': 9658, 'gesture': 3854, 'joe': 4896, 'past': 6497, 'props': 6986, 'costumes': 2118, 'endings': 3060, 'surprise': 8792, 'reveal': 7482, 'soon': 8323, 'introduce': 4751, 'kudos': 5083, 'trying': 9294, 'honesty': 4362, 'hadn': 4094, '1st': 97, 'watched': 9716, 'sykes': 8852, 'mindless': 5788, 'flesh': 3565, 'eating': 2935, 'yes': 9967, '3d': 128, 'usually': 9488, 'underlying': 9365, 'classics': 1716, 'thrown': 9064, 'extra': 3316, 'twilight': 9318, 'zone': 9995, 'easily': 2927, 'slow': 8247, 'revealed': 7483, 'finale': 3507, 'investigating': 4765, 'ghost': 3860, 'town': 9174, 'feast': 3428, 'flick': 3568, 'alas': 373, 'free': 3695, 'strike': 8628, 'takes': 8878, '1971': 65, 'hell': 4245, 'main': 5496, 'driving': 2846, 'hello': 4246, 'continuity': 2038, 'hideous': 4279, 'effect': 2968, 'botched': 1142, 'job': 4892, 'vision': 9606, 'hunting': 4448, 'season': 7858, 'blood': 1066, 'semblance': 7905, 'daughter': 2363, 'dame': 2313, 'janet': 4844, 'age': 332, 'en': 3047, 'route': 7649, 'lays': 5175, 'beaten': 892, 'track': 9182, 'strange': 8605, 'hitch': 4317, 'agrees': 345, 'help': 4249, 'direct': 2638, 'destination': 2552, 'pair': 6426, 'gruesome': 4050, 'tales': 8885, 'connected': 1977, 'area': 585, 'kill': 5023, 'woman': 9877, 'eventually': 3189, 'suffer': 8721, 'worse': 9914, 'fate': 3409, 'attacked': 695, 'second': 7866, 'campers': 1367, 'vacation': 9492, 'cut': 2286, 'undead': 9359, 'outlaw': 6354, 'grave': 3995, 'writer': 9938, 'themed': 9013, 'anthology': 514, 'nice': 6096, 'fails': 3350, 'deliver': 2461, 'lousy': 5411, 'tale': 8880, 'telling': 8954, 'jackson': 4830, 'giving': 3892, 'strangest': 8609, 'locations': 5354, 'uninspired': 9410, 'dreary': 2826, 'scene': 7795, 'zero': 9987, 'belief': 930, 'creative': 2186, 'camera': 1360, 'technique': 8937, 'employed': 3043, 'run': 7672, 'woods': 9893, 'tad': 8872, 'castro': 1468, 'enthusiastic': 3115, 'bitten': 1019, 'face': 3331, 'removed': 7372, 'messy': 5738, 'positives': 6794, 'bearable': 886, 'warned': 9693, 'seasoned': 7859, 'viewers': 9573, 'grade': 3970, 'raise': 7129, 'view': 9570, 'benefit': 950, 'suspicion': 8821, 'dimension': 2630, 'wouldn': 9921, 'wishing': 9856, 'responsible': 7450, 'dull': 2879, 'clichéd': 1739, 'terrible': 8979, 'print': 6914, 'shoddy': 8066, 'screams': 7830, 'maybe': 5646, 'youtube': 9980, 'related': 7316, 'remember': 7359, 'turkey': 9304, 'bargain': 835, 'basement': 852, 'joke': 4908, 'realize': 7214, 'paying': 6523, 'drinking': 2837, 'sand': 7736, 'writing': 9941, 'letter': 5239, 'civil': 1696, 'tax': 8917, 'returns': 7478, 'aka': 365, 'sgt': 7983, 'guy': 4082, 'dig': 2621, 'hole': 4337, 'properly': 6981, 'kick': 5010, 'door': 2770, 'left': 5201, 'live': 5332, 'shame': 8002, 'owning': 6398, 'news': 6094, 'owen': 6392, 'wilson': 9828, 'surprisingly': 8796, 'ah': 346, 'atrocity': 692, 'emmy': 3031, 'smith': 8267, 'promise': 6966, 'direction': 2641, 'needs': 6060, 'hold': 4333, 'gimmicks': 3881, 'effects': 2971, 'unimaginative': 9408, 'identified': 4481, 'rip': 7544, 'actor': 240, 'beneath': 949, 'scenery': 7796, 'music': 5978, 'cross': 2233, 'motel': 5921, 'guitar': 4071, 'driven': 2842, 'metal': 5740, 'comment': 1866, 'mention': 5714, 'development': 2577, 'apparently': 545, 'scriptwriter': 7846, 'funding': 3742, 'stop': 8589, 'plug': 6714, 'normally': 6143, 'previous': 6895, 'efforts': 2975, 'hack': 4090, 'popcorn': 6758, 'chewing': 1616, 'painful': 6417, 'effort': 2973, 'award': 758, 'military': 5775, 'push': 7063, 'ok': 6262, 'twice': 9317, 'wondered': 9881, 'loved': 5414, 'deserves': 2534, 'oscar': 6337, 'half': 4103, 'stopped': 8590, 'calling': 1352, 'pound': 6813, 'land': 5115, 'turn': 9307, 'century': 1522, 'dozens': 2794, 'obscure': 6208, 'italian': 4813, 'fulci': 3732, 'bulk': 1283, 'positive': 6792, 'near': 6044, 'stink': 8572, 'clumsy': 1782, 'house': 4411, 'built': 1282, 'noted': 6158, 'worry': 9912, 'previews': 6894, 'action': 235, 'credit': 2194, 'sequence': 7938, 'gets': 3856, 'attacks': 697, '18': 15, '000': 1, 'diabolical': 2590, 'laugh': 5150, 'spirit': 8410, 'releasing': 7332, 'felt': 3450, 'beat': 891, 'camping': 1368, 'trip': 9270, 'gotten': 3960, 'received': 7234, 'gift': 3869, 'knew': 5054, 'finish': 3518, 'unfair': 9391, 'complete': 1912, 'trust': 9288, 'sucks': 8717, 'shocked': 8061, 'bee': 906, 'cost': 2114, 'produce': 6929, 'need': 6055, 'camcorder': 1356, 'cell': 1507, 'phone': 6614, '15': 11, 'skills': 8193, 'drunk': 2860, 'fist': 3534, 'ultra': 9337, 'tara': 8901, 'report': 7400, 'hunted': 4445, 'abandon': 158, 'luckily': 5435, 'bottle': 1147, 'liquor': 5315, 'step': 8542, 'start': 8504, 'history': 4315, 'soldiers': 8302, 'die': 2608, 'letting': 5241, 'soldier': 8301, 'collapse': 1813, 'wife': 9814, 'fiend': 3476, 'knows': 5068, 'lover': 5416, 'revenge': 7488, 'wakes': 9655, 'form': 3644, 'taking': 8879, 'behalf': 921, 'admit': 284, 'talked': 8887, 'power': 6818, 'speak': 8373, 'seconds': 7869, 'army': 604, 'hoped': 4378, 'leading': 5182, 'blockbusters': 1061, 'semi': 7906, 'decent': 2405, 'beginning': 917, 'typical': 9327, 'brush': 1253, 'cinematic': 1681, 'match': 5622, 'tell': 8953, 'present': 6869, 'minute': 5804, 'supposedly': 8779, '70': 142, 'modern': 5861, 'wearing': 9745, 'style': 8676, 'clothing': 1773, 'pay': 6521, 'attention': 707, 'buff': 1272, 'mean': 5663, 'non': 6133, 'laughing': 5154, 'stay': 8523, 'tastes': 8913, 'antonioni': 522, 'skip': 8198, 'admire': 280, 'particularly': 6476, 'keeps': 4989, 'hearted': 4219, 'praise': 6828, 'guilty': 4068, 'throw': 9061, 'mix': 5843, 'neat': 6048, 'base': 848, 'slack': 8206, 'appreciate': 561, 'gives': 3891, 'spirited': 8411, 'oddball': 6236, 'coming': 1860, 'parallel': 6453, 'universe': 9422, 'ratio': 7174, '33': 126, 'format': 3645, 'whilst': 9791, 'searching': 7857, 'literal': 5325, 'middle': 5762, 'picks': 6637, 'joseph': 4919, 'involving': 4777, 'haunt': 4189, 'absolute': 177, 'outset': 6362, 'painfully': 6418, 'amateurish': 429, 'key': 5006, 'running': 7675, 'utterly': 9490, 'routine': 7650, 'indifferent': 4604, 'lackluster': 5100, 'previously': 6896, 'likes': 5282, '1999': 95, 'ed': 2945, 'wood': 9891, 'believed': 935, 'despite': 2551, 'devoid': 2585, 'redeeming': 7264, 'virtue': 9600, 'angry': 481, 'cheated': 1591, 'conceived': 1933, 'junk': 4954, 'wasted': 9711, 'asks': 645, 'reach': 7188, 'mysterious': 5997, 'hears': 4216, 'weirdo': 9762, 'nasty': 6022, 'confess': 1956, 'filler': 3493, 'plenty': 6707, 'goofy': 3949, 'teens': 8949, 'examples': 3213, 'intro': 4750, 'considering': 2003, 'blessing': 1052, 'disguise': 2685, 'mobile': 5852, 'broadcast': 1231, 'jerky': 4871, 'lights': 5275, 'rub': 7656, 'realised': 7205, '2001': 101, 'fashioned': 3401, 'decades': 2400, 'qualified': 7075, 'ahead': 347, 'try': 9293, 'blue': 1076, 'freaks': 3691, 'excuses': 3235, 'leaving': 5196, 'laughable': 5151, 'chose': 1654, 'honestly': 4361, 'drink': 2836, 'disc': 2666, 'torturing': 9159, 'player': 6695, 'excuse': 3234, 'packs': 6409, 'morning': 5911, 'doomed': 2769, 'tapes': 8900, 'massive': 5611, 'obligatory': 6203, 'fanatic': 3377, 'honest': 4360, 'moments': 5871, 'cool': 2081, 'head': 4204, 'ripped': 7546, 'enjoyable': 3087, 'slide': 8235, 'bare': 833, 'trailers': 9196, 'beware': 979, 'stands': 8488, 'flashback': 3548, '1970': 63, 'shirt': 8057, 'newer': 6091, '70s': 144, 'returned': 7476, 'asked': 642, 'carry': 1445, 'hour': 4409, 'spoilers': 8426, 'waiting': 9651, 'aired': 360, 'hallmark': 4106, 'goofs': 3948, 'context': 2031, 'baby': 780, 'kathy': 4978, 'happened': 4140, 'wanted': 9680, 'lacking': 5099, 'interaction': 4722, 'willie': 9823, 'writers': 9939, 'slips': 8243, 'clark': 1709, 'hurt': 4450, 'reactions': 7194, 'followed': 3605, 'bigger': 988, 'cookie': 2079, 'marty': 5594, 'follow': 3604, 'titled': 9106, 'directors': 2646, 'remotely': 7370, 'resembles': 7428, 'henry': 4258, 'ages': 338, 'correct': 2106, 'convincing': 2075, 'emotions': 3035, 'family': 3374, 'clean': 1726, 'hoping': 4384, 'doubt': 2778, 'wish': 9853, 'michael': 5754, 'closer': 1765, 'closely': 1764, 'team': 8927, 'beg': 913, 'care': 1413, 'center': 1515, 'unfortunate': 9400, 'enjoy': 3086, 'romantic': 7614, 'knowing': 5065, 'use': 9478, 'aspects': 648, 'point': 6724, 'highly': 4287, 'father': 3410, 'visit': 9608, 'twisted': 9322, 'rough': 7642, 'southern': 8355, 'pains': 6419, 'overtly': 6385, 'christian': 1660, 'genre': 3835, 'exploited': 3289, 'typically': 9328, 'predictable': 6846, 'mediocre': 5681, 'slightly': 8238, 'desired': 2541, 'christians': 1662, 'lewis': 5246, 'inspiration': 4678, 'warning': 9695, 'contains': 2023, 'points': 6728, 'exactly': 3206, 'hey': 4274, 'encounters': 3052, 'fail': 3347, 'unfortunately': 9401, 'check': 1593, 'satan': 7756, 'infamous': 4619, 'justice': 4958, 'mystery': 5999, 'science': 7809, '3000': 124, 'miss': 5826, 'return': 7475, 'mexico': 5748, 'powerful': 6820, 'er': 3138, 'spaceship': 8361, 'ship': 8054, 'red': 7261, 'held': 4241, 'water': 9720, 'lens': 5221, 'pen': 6546, 'cheese': 1603, 'adults': 299, 'terrific': 8981, 'proof': 6977, 'outstanding': 6365, 'steps': 8548, 'cave': 1491, 'dog': 2747, 'grown': 4046, 'raymond': 7185, 'studying': 8660, 'unusual': 9455, 'weather': 9748, 'spots': 8440, 'satellite': 7758, 'pictures': 6641, 'travels': 9234, 'research': 7423, 'blame': 1033, 'recent': 7237, 'slew': 8232, 'cattle': 1484, 'deputy': 2516, 'jan': 4842, 'rescue': 7421, 'drags': 2804, 'locals': 5350, 'informs': 4637, 'mess': 5733, 'happening': 4141, 'killer': 5025, 'walking': 9662, 'item': 4817, 'glowing': 3915, 'plastic': 6687, 'sticks': 8565, 'stores': 8594, 'sell': 7900, 'trick': 9260, 'halloween': 4107, 'shake': 7994, 'glow': 3914, 'uses': 9484, 'atmosphere': 687, 'suddenly': 8719, 'turns': 9311, 'needed': 6056, 'ends': 3063, 'cheaper': 1588, 'arrives': 615, 'scientists': 7812, 'explain': 3276, 'images': 4514, 'explains': 3279, 'aliens': 395, 'speaking': 8375, 'clear': 1729, 'goal': 3917, 'questions': 7091, 'pleasant': 6701, 'cheesy': 1605, 'escaped': 3152, 'bruce': 1249, 'willis': 9826, 'featured': 3431, 'perry': 6577, 'mason': 5605, 'number': 6186, 'law': 5165, 'officer': 6251, 'rolling': 7606, 'famous': 3375, 'recently': 7238, 'bet': 967, 'careers': 1416, 'score': 7817, 'kid': 5014, 'weapon': 9742, 'murderer': 5966, 'dumb': 2880, 'using': 9485, 'knife': 5055, 'solid': 8306, 'scale': 7777, 'incomprehensible': 4585, 'chaotic': 1555, 'dude': 2871, 'alien': 392, 'encounter': 3050, 'flash': 3547, 'animals': 486, 'explored': 3293, 'proceeds': 6927, 'spree': 8445, 'weird': 9760, 'wars': 9703, 'jill': 4886, 'dunne': 2887, 'smart': 8259, 'mouthed': 5938, 'teenage': 8946, 'martha': 5588, 'petty': 6597, 'timing': 9093, 'sean': 7854, 'rick': 7521, 'roberts': 7579, 'obnoxious': 6206, 'advertised': 307, 'troubled': 9281, 'stalked': 8474, 'crazed': 2175, 'relentless': 7333, 'storm': 8596, 'happen': 4139, 'send': 7908, 'anybody': 527, 'stalking': 8476, 'likewise': 5283, 'intense': 4712, 'listening': 5321, 'argue': 590, 'slap': 8208, 'week': 9755, 'questionable': 7089, 'constantly': 2013, 'bed': 904, 'criticize': 2222, 'appealing': 547, 'covered': 2148, 'connect': 1976, 'begins': 918, 'standing': 8485, 'hotel': 4408, 'meets': 5687, 'owner': 6396, 'manager': 5523, 'richard': 7517, 'grant': 3986, 'nick': 6100, 'older': 6266, 'divorced': 2731, 'phones': 6615, 'sees': 7890, 'upset': 9467, 'seeing': 7884, 'business': 1314, 'calls': 1353, 'estate': 3165, 'hot': 4407, 'heavy': 4231, 'aggressive': 339, 'necessary': 6051, 'decides': 2410, 'confrontation': 1968, 'cheating': 1592, 'died': 2609, 'morals': 5905, 'fault': 3412, 'adultery': 297, 'concerned': 1942, 'whining': 9793, 'spoiled': 8424, 'rooting': 7631, 'stalker': 8475, 'implausible': 4540, 'fight': 3482, 'manner': 5540, 'raft': 7119, 'gear': 3810, 'assembled': 656, 'food': 3613, 'additionally': 266, 'boat': 1085, 'missing': 5830, 'panic': 6443, 'stuck': 8651, 'boyfriend': 1162, 'consider': 1998, 'lifetime': 5264, 'senseless': 7915, 'teenagers': 8948, 'thousand': 9042, 'desperate': 2546, 'thriller': 9054, 'awhile': 770, 'hours': 4410, 'brick': 1208, 'wall': 9664, 'entertaining': 3109, 'ratings': 7173, 'idiotic': 4488, 'mother': 5922, 'visions': 9607, 'touched': 9165, 'continue': 2034, 'supporting': 8774, '1950s': 43, '1930s': 21, 'ironically': 4789, 'tube': 9296, 'train': 9197, 'painted': 6421, 'underground': 9364, 'game': 3776, 'hanging': 4130, 'storyline': 8598, 'march': 5554, '50s': 138, 'students': 8654, 'poverty': 6816, 'weak': 9735, 'episode': 3128, 'victim': 9560, 'content': 2027, 'mouse': 5936, 'drag': 2799, 'apparent': 544, 'shorter': 8080, 'crime': 2206, 'warn': 9692, 'australia': 731, 'ledger': 5199, 'bloom': 1071, 'rush': 7680, 'definitive': 2443, 'ned': 6054, 'kelly': 4994, 'unfold': 9395, 'heath': 4225, 'inspire': 4680, 'sunshine': 8756, 'support': 8771, 'assured': 674, 'jordan': 4917, 'buffalo': 1273, 'production': 6936, 'design': 2536, 'gave': 3807, 'australian': 732, 'bush': 1313, 'irish': 4786, 'immigrants': 4534, '19th': 96, 'feeling': 3441, 'opportunity': 6300, 'missed': 5827, 'folk': 3602, 'hero': 4264, 'suspect': 8813, 'selling': 7902, 'agree': 343, 'lose': 5396, 'universal': 9420, 'carey': 1422, 'secret': 7870, 'gang': 3781, 'premiere': 6858, 'melbourne': 5693, 'dimensional': 2631, 'passable': 6486, 'plodding': 6709, 'unimpressive': 9409, 'worried': 9910, 'comfort': 1855, 'literary': 5327, 'depth': 2514, 'entirely': 3117, 'surface': 8785, 'central': 1518, 'pacing': 6404, 'satisfy': 7764, 'mundane': 5960, 'fascinating': 3397, 'figure': 3487, 'equally': 3134, 'national': 6028, 'response': 7448, 'genius': 3833, 'class': 1712, 'warrior': 9701, 'psychopath': 7024, 'dominated': 2759, 'mythology': 6003, 'failed': 3348, 'miserably': 5816, 'hood': 4369, 'billy': 999, 'stood': 8586, 'lower': 5423, 'classes': 1713, 'change': 1548, 'forever': 3633, 'immigrant': 4533, 'criminals': 2210, 'casually': 1471, 'facts': 3341, 'reflection': 7285, 'dubious': 2867, 'claimed': 1701, 'truth': 9290, 'historical': 4313, 'epic': 3126, 'adaptation': 253, 'legends': 5207, 'albeit': 375, 'brutal': 1254, 'overblown': 6371, 'channel': 1552, 'wannabe': 9678, 'rate': 7168, 'slowly': 8249, 'pure': 7052, 'drivel': 2841, 'memories': 5706, 'costner': 2115, 'heck': 4232, 'spot': 8438, 'gonna': 3939, 'stupidest': 8674, 'beard': 887, 'clue': 1778, 'ginger': 3883, 'lions': 5311, 'discovery': 2675, 'neighbours': 6068, 'suffering': 8723, 'pops': 6763, 'showing': 8098, 'shots': 8085, 'native': 6030, 'species': 8380, 'circus': 1691, 'allow': 410, 'lion': 5309, 'sorry': 8336, 'turgid': 9303, 'fluff': 3588, 'gone': 3938, 'straight': 8600, 'fantastic': 3383, 'embarrassed': 3021, 'comments': 1870, 'bullets': 1286, 'pal': 6429, 'gun': 4072, 'blow': 1072, 'memory': 5707, 'constructed': 2015, 'snowy': 8287, 'butch': 1320, 'cassidy': 1462, 'sundance': 8749, 'wives': 9870, 'wealthy': 9741, 'documented': 2741, 'space': 8359, 'creativity': 2187, 'producing': 6934, 'beowulf': 958, 'centuries': 1521, 'recreation': 7257, '99': 156, 'grandparents': 3983, 'imagining': 4521, 'novel': 6173, 'eagerly': 2911, 'anticipated': 517, 'vein': 9533, 'jagger': 4835, 'saying': 7775, 'glad': 3893, 'generous': 3830, 'deformed': 2444, 'known': 5067, 'longest': 5376, 'wondering': 9884, 'orlando': 6332, 'deer': 2429, 'fabulous': 3330, 'geoffrey': 3843, 'murderers': 5967, 'trite': 9273, 'cliche': 1735, 'ridden': 7525, 'stayed': 8524, 'convinced': 2073, 'unintentionally': 9413, 'hilarious': 4289, 'frontier': 3721, 'dying': 2903, 'walked': 9659, 'armor': 601, 'knight': 5056, 'monty': 5895, 'python': 7072, 'kept': 5001, 'bite': 1015, 'leg': 5202, 'howling': 4418, 'warped': 9698, 'members': 5703, 'talking': 8889, 'paid': 6415, 'cash': 1457, 'disaster': 2662, 'preview': 6893, 'meaningless': 5667, 'refer': 7277, 'akin': 366, 'jesse': 4875, 'james': 4839, 'bonnie': 1112, 'clyde': 1785, 'fugitive': 3731, 'accused': 219, 'shooting': 8071, 'innocent': 4656, 'prison': 6916, 'government': 3961, 'dan': 2319, 'companions': 1886, 'notorious': 6170, 'bank': 825, 'robbers': 7573, 'winning': 9841, 'hearts': 4222, 'countryside': 2131, 'striking': 8630, 'disdain': 2681, 'ran': 7141, 'encountered': 3051, 'gentleman': 3838, 'scenario': 7793, 'feels': 3443, 'familiar': 3372, 'unoriginal': 9437, 'pays': 6526, 'homage': 4350, 'stereotypes': 8552, 'clichés': 1740, 'inevitable': 4614, 'showdown': 8095, 'gold': 3930, 'deepest': 2427, 'regret': 7302, 'pulse': 7037, 'robbery': 7574, 'valuable': 9503, 'customers': 2284, 'hasn': 4180, 'earn': 2919, 'respect': 7440, 'secretly': 7872, 'sticking': 8564, 'powers': 6821, 'enforcer': 3071, 'stake': 8470, 'bringing': 1222, 'establishment': 3164, 'ladies': 5104, 'room': 7624, 'turned': 9308, 'criminal': 2208, 'lifestyle': 5263, 'hackneyed': 4092, 'providing': 7008, 'substance': 8694, 'engaging': 3075, 'provide': 7005, 'narration': 6017, 'serve': 7951, 'function': 3739, 'sorts': 8339, 'lesson': 5232, 'entertainment': 3110, 'different': 2616, 'accents': 193, 'directing': 2640, 'junior': 4953, 'narrative': 6018, 'flow': 3583, 'relationships': 7322, 'hinted': 4300, 'effectively': 2970, 'underdeveloped': 9362, 'difficult': 2618, 'connection': 1979, 'relatively': 7324, 'attempts': 701, 'reviews': 7495, 'defend': 2432, 'quality': 7079, 'pearl': 6535, 'harbor': 4149, 'event': 3186, 'americans': 444, 'failure': 3351, 'lovely': 5415, 'available': 744, 'listened': 5320, 'critics': 2224, 'passed': 6488, 'moving': 5946, 'pulled': 7032, 'develop': 2574, 'empathy': 3037, 'renting': 7386, 'eye': 3324, 'candy': 1380, 'clunky': 1783, 'personality': 6582, 'mechanical': 5676, 'starting': 8507, 'shootout': 8073, 'flashing': 3551, 'soap': 8289, 'favour': 3418, 'beats': 895, 'theme': 9012, 'handed': 4119, 'outcome': 6346, 'screenplays': 7835, 'advise': 310, 'structure': 8643, 'police': 6737, 'baddies': 799, 'consequently': 1996, 'incompetent': 4584, 'occur': 6229, 'citizens': 1694, 'joining': 4905, 'contribute': 2045, 'ruthless': 7691, 'villain': 9585, 'opens': 6288, 'arrested': 611, 'horse': 4399, 'guilt': 4067, 'innocence': 4655, 'hear': 4213, 'chore': 1649, 'basically': 856, 'francis': 3677, 'hare': 4158, 'starring': 8501, 'byrne': 1333, 'julia': 4940, 'cook': 2078, 'laurence': 5162, 'philip': 6607, 'steve': 8558, 'hart': 4176, 'joel': 4897, 'aaron': 157, 'kerry': 5004, 'kate': 4975, 'emily': 3029, 'grace': 3968, 'susan': 8812, 'scott': 7823, 'worth': 9917, 'catching': 1476, 'battle': 872, 'okay': 6263, 'girls': 3889, 'farce': 3387, 'unrealistic': 9443, 'fake': 3362, 'bunch': 1293, 'limits': 5293, 'hurts': 4452, 'living': 5336, 'switzerland': 8847, 'translation': 9216, 'whatsoever': 9787, 'duvall': 2898, 'earl': 2915, 'jones': 4916, 'capturing': 1408, 'halfway': 4104, 'dialog': 2592, 'ended': 3058, 'rambling': 7136, 'worthy': 9920, 'sat': 7755, 'amazed': 431, 'realized': 7215, 'meaning': 5665, 'plantation': 6684, 'single': 8162, 'training': 9199, 'grossly': 4036, 'disappointment': 2660, 'earns': 2922, 'regarded': 7294, 'steamy': 8534, 'turd': 9302, 'steam': 8532, 'rising': 7551, 'fresh': 3707, 'sack': 7696, 'swing': 8840, 'remaining': 7351, 'acted': 233, 'shape': 8009, 'talented': 8882, 'performers': 6570, 'club': 1777, 'historically': 4314, 'era': 3139, 'donna': 2765, 'ruin': 7663, 'unknown': 9424, 'trashy': 9226, 'projects': 6960, 'bum': 1290, 'stereotype': 8550, 'caught': 1485, 'wwe': 9949, 'razor': 7186, 'behaving': 924, 'punches': 7041, 'lowest': 5424, 'peek': 6542, 'tap': 8897, 'dancing': 2326, 'catch': 1474, 'culture': 2264, 'drop': 2847, 'neil': 6069, 'simon': 8144, 'sole': 8303, 'moment': 5870, 'adapted': 255, 'uncredited': 9357, 'irrational': 4791, 'behavior': 925, 'walter': 9670, 'matthau': 5635, 'aged': 333, 'vaudeville': 9524, 'performer': 6569, 'partner': 6480, 'burns': 1303, 'begs': 919, 'question': 7088, 'misfortune': 5820, 'thirty': 9033, 'tolerable': 9120, 'watchable': 9715, 'herbert': 4260, 'ross': 7638, 'coupled': 2136, 'sets': 7961, 'gags': 3766, 'routines': 7651, 'incoherent': 4582, 'mechanic': 5675, 'garage': 3787, 'audition': 722, 'commercial': 1871, 'tone': 9133, 'nuance': 6180, 'continues': 2036, 'deaf': 2379, 'terribly': 8980, 'drab': 2796, 'pace': 6401, 'loses': 5399, 'goldie': 3934, 'hawn': 4197, 'purchased': 7051, 'mildly': 5771, 'amusing': 456, 'hits': 4321, 'party': 6483, 'bar': 829, 'purpose': 7055, 'preachy': 6837, 'taste': 8910, 'comedies': 1852, 'teach': 8922, 'possess': 6795, 'saving': 7771, 'revolves': 7503, 'cocktail': 1795, 'waitress': 9652, 'inadvertently': 4564, 'arab': 576, 'visiting': 9610, 'washington': 9708, 'saved': 7769, 'davis': 2368, 'heroine': 4268, 'media': 5677, 'celebrity': 1503, 'reward': 7505, 'offered': 6246, 'section': 7874, 'department': 2500, 'state': 8511, 'officials': 6255, 'hidden': 4277, 'agenda': 335, 'map': 5550, 'lying': 5456, 'borders': 1129, 'south': 8354, 'desert': 2529, 'al': 368, 'quarter': 7081, 'location': 5353, 'population': 6767, 'virtually': 9599, 'accept': 194, 'immense': 4530, 'importance': 4545, 'cold': 1808, 'keen': 4986, 'build': 1278, 'order': 6316, 'fancy': 3379, 'reached': 7189, 'deal': 2380, 'provided': 7006, 'latest': 5147, 'addition': 264, 'ensure': 3100, 'opportunities': 6299, 'meet': 5685, 'occasion': 6222, 'satire': 7759, 'satirical': 7760, 'toned': 9134, '1984': 79, 'public': 7027, 'mood': 5897, 'foreign': 3630, 'policy': 6740, 'ronald': 7620, 'reagan': 7202, 'carried': 1443, 'presidential': 6876, 'election': 2990, 'soviet': 8356, 'union': 9415, 'clearly': 1730, 'voters': 9636, 'wake': 9654, 'iran': 4781, 'affair': 313, 'vehicle': 9531, 'brand': 1175, 'natured': 6035, 'naive': 6008, 'bright': 1217, 'limit': 5290, 'automatically': 743, 'blonde': 1064, 'recipe': 7240, 'succeeds': 8708, 'inconsistent': 4587, 'hand': 4118, '35': 127, 'sleazy': 8222, 'wears': 9746, 'revealing': 7484, 'costume': 2117, 'rebecca': 7226, 'farm': 3390, 'unable': 9340, 'unfunny': 9402, 'humour': 4437, 'exists': 3250, 'tired': 9102, 'strained': 8603, 'relying': 7346, 'offensive': 6244, 'lust': 5452, 'eyed': 3325, 'mid': 5761, 'eighties': 2982, 'kingsley': 5040, 'kinski': 5043, 'eastern': 2929, 'kidnaps': 5021, 'mini': 5792, 'identical': 4480, 'bimbo': 1000, 'wisdom': 9850, 'starts': 8509, 'democracy': 2476, 'citizen': 1693, 'duty': 2897, 'liberty': 5253, 'eternal': 3169, 'blah': 1028, 'successful': 8710, 'flower': 3584, 'overboard': 6372, 'dire': 2637, 'executive': 3238, 'producer': 6931, 'correctly': 2107, 'raised': 7130, 'financial': 3509, 'backing': 791, 'notice': 6161, 'connery': 1982, 'meant': 5670, 'solely': 8304, 'managed': 5521, 'indication': 4601, 'scratch': 7825, 'saga': 7710, 'saves': 7770, 'likely': 5281, 'progress': 6953, 'problems': 6924, 'string': 8632, 'sentences': 7926, 'finds': 3512, 'outlandish': 6353, 'premise': 6861, 'rates': 7170, 'struggles': 8646, 'allows': 413, 'ice': 4467, 'gotta': 3959, 'career': 1415, 'fell': 3447, 'earth': 2924, '80s': 148, 'insulting': 4696, 'intelligence': 4706, 'gag': 3764, 'butt': 1324, 'vapid': 9514, 'moronic': 5913, 'stand': 8482, 'imo': 4536, 'redeemed': 7263, 'says': 7776, 'bikini': 992, 'struggling': 8647, 'dozen': 2793, 'skimpy': 8194, 'rival': 7558, 'nina': 6113, 'hartley': 4177, 'came': 1357, 'nearly': 6047, 'blurred': 1079, 'grief': 4022, 'reminding': 7366, 'kurt': 5087, 'russell': 7684, 'delighted': 2457, 'el': 2984, 'hmmm': 4326, 'reviewers': 7493, 'beautifully': 899, 'photographed': 6619, 'shockingly': 8064, 'violent': 9593, 'strip': 8634, 'corpse': 2104, 'burial': 1297, 'square': 8451, 'minor': 5800, 'magical': 5488, 'pan': 6441, 'spanish': 8367, 'survived': 8807, 'incident': 4572, 'patients': 6506, 'apologies': 540, 'exception': 3219, 'motivations': 5929, 'personalities': 6581, 'horrific': 4394, 'wretched': 9935, 'excess': 3223, 'pain': 6416, 'reviewer': 7492, 'poster': 6805, 'forbidden': 3623, 'rape': 7157, 'animal': 485, 'cruelty': 2248, 'betrayal': 970, 'multiple': 5956, 'flashbacks': 3549, 'bizarre': 1022, 'sun': 8748, 'pulp': 7036, 'fiction': 3471, 'shower': 8097, 'wash': 9705, 'subtitles': 8699, 'excited': 3227, 'berlin': 962, 'competition': 1904, 'presentation': 6870, 'furious': 3749, 'themes': 9014, 'relations': 7320, 'spain': 8365, 'tragedy': 9192, 'belongs': 943, 'pity': 6663, 'angela': 472, 'circumstances': 1690, 'letdown': 5236, 'violence': 9592, 'unnecessarily': 9434, 'ugly': 9331, 'impossible': 4548, 'identify': 4482, 'sympathize': 8859, 'protagonist': 6991, 'slimy': 8240, 'lent': 5222, 'learned': 5189, 'fortunately': 3656, 'attraction': 714, 'lurid': 5449, 'poorly': 6756, 'handled': 4123, 'attract': 712, 'uncomfortable': 9353, 'distance': 2703, 'pets': 6596, 'brutally': 1256, 'involves': 4776, 'car': 1409, 'accident': 202, 'leads': 5183, 'quick': 7092, 'large': 5132, 'breaks': 1192, 'stumbles': 8665, 'nearby': 6045, 'lonely': 5372, 'designs': 2539, 'erotic': 3146, 'scary': 7791, 'tune': 9298, 'intention': 4716, 'hip': 4302, 'angles': 480, 'resulting': 7461, 'worthwhile': 9919, 'notch': 6156, 'deserved': 2532, 'beer': 908, 'glass': 3899, 'catches': 1475, 'landscapes': 5121, 'cinematography': 1684, 'asset': 658, 'viewing': 9574, 'developments': 2578, 'matthew': 5636, 'awesome': 766, 'expressed': 3306, 'marketing': 5572, 'patrick': 6508, 'easy': 2931, 'caring': 1426, 'saint': 7715, 'com': 1838, 'brilliance': 1218, 'days': 2373, 'larger': 5134, 'angels': 476, 'artist': 626, 'scorpion': 7820, 'prolific': 6961, 'jesus': 4878, 'franco': 3679, '1980': 74, 'devil': 2583, 'hunter': 4446, 'rushed': 7681, 'lazy': 5176, 'exploitative': 3288, 'misleading': 5822, 'starters': 8506, 'sensibility': 7918, 'outrageous': 6358, 'sleaze': 8221, 'extreme': 3320, 'causes': 1488, 'ride': 7526, 'tedious': 8943, 'kidnap': 5018, 'strangers': 8608, 'naked': 6009, 'zoom': 9997, 'ins': 4659, 'pole': 6736, 'repetitive': 7393, 'cutting': 2290, 'row': 7652, 'methods': 5745, 'length': 5217, 'monster': 5886, 'raw': 7183, 'bug': 1276, 'recorded': 7251, 'chamber': 1539, 'ate': 683, 'stomach': 8582, 'adventure': 304, 'freaked': 3689, 'vet': 9550, 'sent': 7923, 'island': 4804, 'recover': 7254, 'dubbed': 2865, 'brooklyn': 1240, 'retarded': 7468, 'dubbing': 2866, 'odd': 6235, 'outrage': 6357, 'fleshed': 3566, 'haha': 4096, 'degree': 2446, 'natives': 6031, 'penis': 6550, 'exposed': 3300, 'wrestling': 9934, 'note': 6157, 'islands': 4805, 'mountains': 5934, 'widescreen': 9808, 'cgi': 1528, 'backdrops': 787, 'ad': 248, 'ultimately': 9335, 'recommendation': 7248, 'restless': 7453, 'categories': 1478, 'odds': 6238, 'copies': 2088, 'seeking': 7886, 'crazy': 2177, 'rare': 7165, 'amazon': 434, 'jungle': 4952, 'fear': 3425, 'laura': 5159, 'crawford': 2173, 'kidnapped': 5019, 'thugs': 9068, 'guarded': 4056, 'unpleasant': 9438, 'happy': 4147, 'demonstrates': 2482, 'popped': 6760, 'fashion': 3400, 'idiots': 4489, 'goof': 3947, 'hired': 4306, 'bring': 1221, 'chip': 1633, 'significant': 8129, 'helicopter': 4244, 'pilot': 6650, 'cannibal': 1382, 'cult': 2262, 'kong': 5071, 'fellow': 3449, 'makeup': 5509, 'balls': 819, 'forget': 3634, 'constant': 2012, 'banned': 827, 'specific': 8381, 'pulls': 7035, 'guts': 4081, 'factor': 3338, 'jess': 4874, 'lengthy': 5218, 'exploitation': 3287, 'padded': 6411, 'leave': 5194, 'notion': 6167, 'norm': 6140, 'referring': 7281, 'labeled': 5093, 'superior': 8763, 'chick': 1619, 'tribe': 9258, 'hippies': 4304, 'range': 7148, 'asian': 639, 'hispanic': 4309, 'grabbed': 3965, 'ethnic': 3173, 'romp': 7618, 'minimal': 5793, 'scares': 7785, 'euro': 3175, 'initially': 4649, 'britain': 1226, 'allowed': 411, 'november': 6177, 'cuts': 2288, 'features': 3432, 'month': 5893, 'october': 6234, '1979': 73, 'ursula': 9475, 'forth': 3653, 'bathtub': 869, 'pass': 6485, 'werner': 9777, 'exchange': 3226, 'cannibals': 1383, 'meal': 5662, 'muriel': 5971, 'captured': 1406, 'danger': 2330, 'approaching': 568, 'burt': 1307, 'altman': 424, 'titles': 9107, 'official': 6253, 'bloody': 1070, 'bars': 844, 'deserving': 2535, 'notoriety': 6169, 'dreadfully': 2820, 'inept': 4613, 'gratuitous': 3994, 'loads': 5345, 'gorgeous': 3952, 'abducted': 162, 'remote': 7369, 'savage': 7767, 'worship': 9915, 'eat': 2932, 'sacrifices': 7700, 'agent': 336, 'brave': 1180, 'travel': 9230, 'trouble': 9280, 'confusion': 1975, 'escapes': 3153, 'arms': 602, 'directs': 2647, 'murky': 5972, 'rapid': 7160, 'numerous': 6190, 'imagery': 4513, 'ham': 4110, 'result': 7459, 'struggle': 8645, 'natural': 6032, 'glory': 3911, 'hurry': 4449, 'add': 258, 'hilarity': 4291, 'placed': 6668, 'africa': 326, 'random': 7145, 'pacific': 6403, 'frank': 3680, 'drums': 2859, 'orange': 6312, 'assume': 669, 'screaming': 7829, 'ground': 4038, 'kicks': 5013, 'giggles': 3875, 'freak': 3688, 'moved': 5940, 'sunday': 8750, 'afternoon': 329, 'grab': 3964, 'beers': 909, 'bother': 1143, 'demand': 2469, 'safe': 7707, 'bonus': 1113, 'jack': 4825, 'plan': 6675, 'horribly': 4392, 'breathing': 1198, 'edited': 2956, '25': 116, 'overly': 6378, 'lifted': 5266, 'lit': 5324, 'hilariously': 4290, 'example': 3212, 'crowds': 2241, 'stare': 8495, 'hung': 4439, 'dripping': 2839, 'directly': 2643, 'trees': 9245, 'hooked': 4371, 'scare': 7781, 'uk': 9333, 'minus': 5803, 'pg': 6599, 'mouth': 5937, 'asleep': 646, 'wise': 9851, 'ticket': 9074, 'hires': 4307, 'gory': 3954, 'amounts': 450, 'designed': 2537, 'darkest': 2349, 'classic': 1714, 'lets': 5238, 'abuse': 186, 'puts': 7067, 'concerns': 1944, 'quiet': 7094, 'frequent': 3705, 'victims': 9561, 'sleep': 8223, 'aside': 640, 'terror': 8985, 'oddly': 6237, 'japanese': 4848, 'source': 8352, 'remove': 7371, 'praying': 6833, 'tall': 8892, 'nelson': 6072, 'arrived': 614, 'million': 5780, 'delivered': 2463, 'count': 2122, 'rugged': 7662, 'thanks': 9002, 'dub': 2864, 'split': 8420, 'interview': 4741, 'scratching': 7826, 'paint': 6420, 'variety': 9519, 'highlight': 4285, 'waves': 9727, 'ol': 6264, 'astonishing': 677, 'tops': 9150, 'darker': 2348, 'option': 6309, 'listen': 5319, '16': 13, 'sabrina': 7694, 'gained': 3768, 'reasons': 7225, 'dragged': 2800, 'dr': 2795, 'ecstasy': 2944, 'gems': 3818, 'purely': 7053, 'guessing': 4061, 'footage': 3619, 'rocky': 7592, 'cliff': 1743, 'lake': 5107, 'pad': 6410, 'accompanied': 207, 'entertained': 3107, 'extras': 3319, 'uncut': 9358, 'audiences': 720, 'checking': 1595, 'assistant': 663, 'jane': 4843, 'relaxing': 7328, 'bath': 866, 'chris': 1657, 'thomas': 9035, 'burst': 1305, 'helped': 4250, 'informed': 4635, 'isolated': 4807, 'demanding': 2470, '200': 99, 'safely': 7708, 'brings': 1223, 'faster': 3405, 'rat': 7167, 'drain': 2805, 'buddy': 1268, 'deciding': 2411, 'primitive': 6907, 'generations': 3828, 'lived': 5333, 'straw': 8610, 'liking': 5284, 'intestines': 4744, 'german': 3849, 'directed': 2639, 'alternate': 421, 'officially': 6254, 'obscene': 6207, 'afraid': 325, 'associated': 665, 'hide': 4278, 'imagine': 4519, 'defending': 2433, 'julian': 4941, 'impressed': 4550, 'product': 6935, 'untrue': 9454, 'slightest': 8237, 'tension': 8972, 'excitement': 3228, 'sized': 8187, 'tame': 8893, 'success': 8709, 'incompetence': 4583, 'decapitated': 2401, 'achieved': 222, 'neck': 6053, 'impression': 4551, 'attached': 693, 'randomly': 7146, 'incredibly': 4593, 'climbing': 1750, 'turning': 9310, 'crawl': 2174, 'floor': 3579, 'coat': 1791, 'hangs': 4131, 'grabs': 3967, 'bits': 1018, 'handful': 4120, 'rock': 7587, 'values': 9505, 'authentic': 734, 'commits': 1875, 'fatal': 3407, 'mistake': 5833, 'wide': 9805, 'possible': 6801, 'eats': 2936, 'virgin': 9595, 'sleeping': 8225, 'yeah': 9958, 'franchise': 3676, 'spawned': 8372, 'cartoon': 1450, 'mafia': 5483, 'ape': 535, 'minions': 5796, 'hate': 4182, 'turtle': 9312, 'forgettable': 3636, 'pleasure': 6705, 'ninja': 6116, '1998': 94, 'acquired': 231, 'rights': 7539, 'naturally': 6033, 'understatement': 9374, 'create': 2180, 'limited': 5292, 'threw': 9051, 'suits': 8739, 'tend': 8965, 'complain': 1905, 'rid': 7524, 'replacing': 7397, 'villains': 9587, 'rangers': 7150, 'ignore': 4493, 'comic': 1857, 'issue': 4811, 'countless': 2128, 'standpoint': 8487, 'anticipation': 518, 'memorable': 5705, 'stated': 8512, 'magic': 5487, 'wielding': 9813, 'milo': 5784, 'comfortable': 1856, 'sore': 8333, 'clan': 1705, 'dealing': 2383, 'enemies': 3067, 'share': 8012, 'spotlight': 8439, 'creators': 2189, 'greatness': 4006, 'execution': 3237, 'flawed': 3556, 'buried': 1298, 'biggest': 989, 'insult': 4694, 'canon': 1385, 'unique': 9416, 'mutants': 5987, 'crossing': 2236, 'voices': 9625, 'cringe': 2211, 'lip': 5313, 'unnatural': 9433, 'baddie': 798, 'normal': 6142, 'kiddie': 5015, '1987': 82, 'brothers': 1245, 'artists': 630, 'lars': 5137, 'van': 9508, 'trier': 9265, 'breaking': 1191, 'dancer': 2323, 'admired': 281, 'exercise': 3240, 'dry': 2862, 'theatrical': 9009, 'europa': 3176, 'succeeded': 8707, 'relative': 7323, 'language': 5125, 'survive': 8806, 'opinion': 6295, 'ambiguity': 437, 'treating': 9241, 'colors': 1832, 'ambiguous': 438, 'sides': 8118, 'fighting': 3485, 'survival': 8805, 'aftermath': 328, 'nations': 6029, 'individuals': 4606, 'courageous': 2139, 'appear': 549, 'task': 8908, 'include': 4577, 'quotes': 7103, 'hitchcock': 4318, 'pre': 6834, 'europe': 3177, 'british': 1227, 'spies': 8403, 'evil': 3196, 'trains': 9200, 'speed': 8390, 'continent': 2032, 'symbol': 8854, 'conflicts': 1966, 'intensity': 4714, 'birth': 1009, 'germany': 3851, 'obsession': 6216, 'classical': 1715, 'spy': 8449, 'principal': 6910, 'origin': 6326, 'post': 6803, 'willing': 9824, 'process': 6928, 'destruction': 2559, 'corruption': 2111, 'oppressive': 6305, 'path': 6500, 'mixed': 5844, 'treatment': 9242, 'betrays': 972, 'actions': 236, 'leopold': 5226, 'jean': 4860, 'marc': 5552, 'credibility': 2192, 'imitation': 4526, '30s': 125, 'usage': 9477, 'color': 1829, 'majority': 5504, 'master': 5612, 'decide': 2407, 'planning': 6681, 'suffice': 8725, 'speaks': 8376, 'madsen': 5481, 'flicks': 3569, 'expand': 3254, 'breasts': 1195, 'ruined': 7664, 'contrived': 2049, 'rule': 7668, 'text': 8996, 'minimum': 5794, 'compelled': 1897, 'discover': 2671, 'express': 3305, 'assuming': 672, 'void': 9626, 'costs': 2116, 'executed': 3236, 'dallas': 2309, 'anymore': 528, 'awkward': 771, 'fired': 3523, 'spare': 8368, 'details': 2563, 'sub': 8681, 'par': 6449, 'expecting': 3260, 'christ': 1658, 'shut': 8108, 'destructive': 2560, 'endure': 3064, 'device': 2581, 'conflict': 1964, 'resolution': 7435, 'beings': 928, 'pushes': 7065, '90': 152, 'shouting': 8090, 'conclusion': 1948, 'formula': 3649, 'clever': 1733, 'soul': 8342, 'approved': 572, 'edward': 2966, 'mate': 5626, 'supermarket': 8766, 'damn': 2315, 'jon': 4914, 'messed': 5736, 'toilet': 9116, 'shouldn': 8088, 'serving': 7956, 'skill': 8191, 'oblivion': 6204, 'till': 9086, 'stress': 8620, 'goers': 3926, 'knowledge': 5066, 'suspicious': 8822, 'appearing': 553, 'dialogs': 2593, 'flood': 3578, 'turkish': 9305, 'interested': 4724, 'bear': 885, 'roll': 7603, 'heist': 4240, 'hostage': 4403, 'checked': 1594, 'contrary': 2042, 'literally': 5326, 'micheal': 5756, 'arnold': 606, 'international': 4732, 'hiring': 4308, 'equipment': 3136, 'difficulty': 2620, 'vice': 9558, 'versa': 9544, 'anxious': 526, 'affect': 315, 'offense': 6243, 'test': 8991, 'sink': 8165, 'teeth': 8950, 'ass': 651, 'guns': 4076, 'bloke': 1062, 'member': 5702, 'shy': 8109, 'terminator': 8977, 'appreciation': 563, 'college': 1822, 'abandoned': 159, 'traffic': 9191, 'chalk': 1534, 'caliber': 1348, 'jackie': 4828, '1969': 62, '1972': 66, 'foundation': 3664, 'regardless': 7296, 'exact': 3205, 'pop': 6757, '60s': 140, 'consists': 2010, 'distorted': 2710, 'tricks': 9262, 'tiresome': 9103, 'psychedelic': 7015, 'abstract': 181, 'drive': 2840, 'frame': 3670, 'birds': 1008, 'cup': 2268, 'tea': 8921, 'loaded': 5344, 'mark': 5569, 'son': 8317, 'reputation': 7414, 'settings': 7963, 'expectations': 3258, 'rarely': 7166, 'traumatic': 9228, 'partially': 6470, 'spelled': 8392, 'claustrophobic': 1723, 'environment': 3123, 'loose': 5387, 'celebrate': 1498, 'celebration': 1501, 'beach': 883, 'befriends': 912, 'sebastian': 7864, 'cole': 1809, 'corey': 2095, 'drug': 2854, 'underworld': 9381, 'technically': 8935, 'suffers': 8724, 'counting': 2127, 'motion': 5925, 'freeze': 3700, 'frames': 3672, 'types': 9326, 'perspective': 6585, 'drugs': 2856, 'tossed': 9161, 'notably': 6155, 'antagonist': 513, 'mentioning': 5716, 'scores': 7819, '11': 6, 'distract': 2711, 'buying': 1329, 'comparison': 1893, 'insanely': 4661, 'created': 2181, 'humans': 4433, 'disgusted': 2688, 'sincerely': 8155, 'ashamed': 636, 'emphasize': 3040, 'global': 3906, 'responsibility': 7449, 'creating': 2183, 'prevent': 6890, 'creation': 2184, 'embarrassment': 3024, 'sleeps': 8226, 'disgusting': 2689, 'monsters': 5887, 'shark': 8016, 'attack': 694, 'crosses': 2235, 'shamelessly': 8005, 'shaky': 7999, 'buzz': 1331, 'jump': 4947, 'excrement': 3231, 'personally': 6583, 'shoulders': 8087, 'swallow': 8826, 'torture': 9157, 'prisoners': 6918, 'abroad': 172, 'suicide': 8734, 'vile': 9581, 'finishing': 3521, 'wishes': 9855, 'laced': 5096, 'controlled': 2051, 'seduced': 7879, 'understandable': 9369, 'talents': 8884, 'april': 574, 'penny': 6553, 'dedication': 2420, 'met': 5739, 'frankly': 3684, 'monica': 5877, 'qualities': 7078, 'screw': 7839, 'fantasies': 3382, 'rap': 7156, 'stereotypical': 8553, 'lists': 5323, '2007': 107, '2008': 108, 'showtime': 8101, 'synopsis': 8863, 'undercover': 9361, 'cop': 2085, 'tho': 9034, 'spoken': 8429, 'portrays': 6782, 'representation': 7406, 'individual': 4605, 'subsequent': 8692, 'spiral': 8409, 'events': 3187, 'techniques': 8938, 'irrelevant': 4792, 'reports': 7404, 'confronted': 1969, 'furthermore': 3752, 'educational': 2965, 'board': 1081, 'dream': 2821, 'loathing': 5346, 'las': 5138, 'vegas': 9530, 'lighthearted': 5271, 'stolen': 8580, 'lock': 5355, 'stock': 8577, 'strongly': 8641, 'june': 4951, 'sequel': 7936, 'wee': 9754, 'battling': 876, 'stronger': 8639, 'commenting': 1869, 'brooke': 1239, 'exceptional': 3220, 'wooden': 9892, 'edit': 2955, 'flashy': 3552, 'edits': 2961, 'symbolic': 8855, 'breakdown': 1189, 'dumbest': 2882, 'rips': 7548, 'ill': 4502, 'nonsense': 6136, 'load': 5343, 'trailer': 9195, 'download': 2786, 'decisions': 2413, 'exaggerated': 3207, 'motions': 5926, 'shakes': 7995, 'smooth': 8271, 'tracks': 9184, 'gangster': 3783, 'motives': 5931, 'fetched': 3463, 'worn': 9909, 'cliché': 1738, 'drawn': 2816, 'rebellious': 7229, 'upper': 9465, 'potential': 6810, 'judging': 4935, 'socially': 8294, 'focusing': 3597, 'reflect': 7283, 'forcing': 3627, 'breath': 1196, 'evolve': 3200, 'incorrect': 4588, 'managing': 5525, 'portray': 6777, 'opposite': 6303, 'stylish': 8678, 'maintain': 5499, 'sentence': 7924, 'anger': 477, 'shaking': 7998, 'headache': 4205, 'dramatic': 2810, 'lol': 5365, 'anyways': 530, 'mad': 5474, 'magician': 5490, 'realizes': 7216, 'sold': 8300, 'scheme': 7799, 'masterpieces': 5617, 'includes': 4579, 'neal': 6043, 'mary': 5600, 'murphy': 5973, 'eva': 3181, 'jay': 4855, 'pat': 6498, 'barker': 836, 'harrowing': 4173, 'northern': 6148, 'england': 3078, 'refused': 7289, 'weeks': 9758, 'sympathy': 8860, 'misery': 5817, 'gripping': 4029, 'dear': 2388, 'sugar': 8727, 'inspiring': 4683, 'romance': 7609, 'fonda': 3610, 'sensitive': 7920, 'mass': 5607, 'protagonists': 6992, 'practical': 6823, 'essence': 3158, 'gut': 4080, 'darkness': 2351, 'rain': 7124, 'broken': 1235, 'windows': 9834, 'cardboard': 1411, 'described': 2525, 'houses': 4413, 'william': 9821, 'hesitate': 4271, 'preparing': 6865, 'capsule': 1399, 'chemistry': 1608, 'niro': 6118, 'ingenious': 4639, 'insightful': 4669, 'illiterate': 4504, 'handle': 4122, 'swift': 8837, 'excruciating': 3232, 'intent': 4715, 'uplifting': 9464, 'deniro': 2486, 'caricature': 1424, 'moves': 5943, 'advised': 311, 'worthless': 9918, 'require': 7416, 'readers': 7197, 'tape': 8898, 'feelings': 3442, 'pig': 6647, 'absurd': 182, 'orchestra': 6313, 'insane': 4660, 'mob': 5851, 'singers': 8159, 'stays': 8526, 'putting': 7068, 'shakespeare': 7996, 'sally': 7722, 'forrest': 3651, 'briefly': 1215, 'concept': 1938, 'artwork': 633, 'accomplished': 211, 'fingers': 3517, 'encourage': 3053, 'painting': 6423, 'parent': 6458, 'child': 1623, 'loves': 5418, 'draw': 2813, 'bait': 805, 'accounts': 215, 'horrid': 4393, 'arthur': 623, 'foxx': 3668, 'define': 2436, 'demonstrate': 2480, 'disagree': 2651, 'refreshing': 7287, 'convey': 2065, 'jumped': 4948, 'aboard': 166, 'witness': 9863, 'explosion': 3296, 'combination': 1841, 'likable': 5277, 'luck': 5434, 'force': 3624, 'charlie': 1573, 'recreate': 7256, 'wheel': 9788, 'proved': 7002, 'annoyed': 504, 'allowing': 412, 'viewings': 9575, 'jamie': 4841, 'pull': 7031, 'chosen': 1655, 'fully': 3737, 'adding': 263, 'statements': 8514, 'understanding': 9371, 'destroyed': 2556, 'grasp': 3990, 'crack': 2157, 'table': 8865, 'substantial': 8695, 'filling': 3494, 'control': 2050, 'verdict': 9540, 'supports': 8776, 'originally': 6329, 'sunk': 8752, 'bag': 803, 'tackle': 8869, 'disastrous': 2664, 'hopefully': 4380, 'overacts': 6368, 'gates': 3803, 'lawyer': 5169, 'heartfelt': 4220, 'ludicrous': 5438, 'packed': 6408, 'dragging': 2801, 'blair': 1030, 'witch': 9858, 'pack': 6406, 'beef': 907, 'meryl': 5731, 'streep': 8614, 'bomb': 1099, 'explained': 3277, 'pretend': 6884, 'takashi': 8875, 'miike': 5768, 'approach': 565, 'reaching': 7191, 'levels': 5244, 'peak': 6533, 'interests': 4727, 'lacks': 5101, 'originality': 6328, 'superficial': 8760, 'credited': 2195, 'token': 9117, 'wild': 9816, 'suggestion': 8731, 'ichi': 4469, 'harp': 4168, 'rainy': 7128, 'bird': 1007, 'china': 1631, 'stranded': 8604, 'handsome': 4127, 'appearances': 551, 'ghosts': 3862, 'round': 7644, 'awe': 764, 'christmas': 1666, 'bernard': 963, 'scrooge': 7847, 'impact': 4537, 'album': 377, '13': 8, 'holiday': 4339, 'forgivable': 3638, 'flat': 3553, 'cg': 1527, 'jacob': 4831, 'marley': 5575, 'tour': 9169, 'tiny': 9099, 'tim': 9087, 'versions': 9547, 'weakest': 9737, 'primarily': 6904, 'engage': 3072, 'conviction': 2071, 'similarly': 8142, 'musical': 5979, 'muppets': 5963, 'merry': 5730, 'charles': 1572, 'dickens': 2602, 'rich': 7516, 'visited': 9609, 'murray': 5974, 'hurting': 4451, 'carol': 1434, 'conservative': 1997, 'hyped': 4460, 'airing': 361, 'pride': 6900, 'crude': 2245, 'sh': 7984, 'football': 3620, 'tomorrow': 9131, 'cartoons': 1452, 'yesterday': 9968, 'simpsons': 8151, '14': 10, 'vulgar': 9642, 'homosexual': 4358, 'creator': 2188, 'shrek': 8103, 'smile': 8264, 'blatantly': 1042, 'futuristic': 3756, 'jules': 4939, 'recording': 7252, 'booth': 1124, 'boston': 1141, 'capital': 1393, 'directions': 2642, 'talks': 8890, 'deep': 2425, 'brett': 1206, 'piper': 6654, 'creatures': 2191, 'animation': 488, 'karl': 4973, 'journey': 4923, '1955': 48, 'imaginative': 4518, 'planet': 6678, 'dinosaurs': 2636, 'ray': 7184, 'shoes': 8068, 'aspiring': 650, 'retains': 7467, 'affection': 318, 'combine': 1842, 'splitting': 8421, 'washing': 9707, 'headed': 4206, 'giant': 3865, 'heroes': 4265, 'fare': 3388, 'chances': 1545, 'unlikely': 9430, 'silent': 8133, 'studios': 8658, 'billed': 994, 'funniest': 3746, 'betty': 977, 'prime': 6906, 'code': 1797, 'pet': 6591, 'shop': 8075, 'charge': 1566, 'russ': 7683, 'thats': 9003, 'falk': 3363, 'convince': 2072, 'delivery': 2466, 'receive': 7233, 'disjointed': 2691, 'ultimate': 9334, 'hank': 4132, 'noah': 6120, 'jennifer': 4867, 'dad': 2299, 'unbearable': 9345, 'juvenile': 4963, 'search': 7855, 'inspirational': 4679, 'miracle': 5807, 'ernst': 3145, 'delightful': 2458, 'corner': 2100, '1951': 44, 'holidays': 4340, 'holly': 4343, 'downey': 2783, 'vivah': 9618, 'shahid': 7993, 'smitten': 8268, 'selected': 7896, 'simplicity': 8147, 'marriage': 5579, 'amrita': 452, 'fixed': 3540, 'months': 5894, 'notwithstanding': 6171, 'uncle': 9351, 'aunt': 725, 'struck': 8642, 'embrace': 3025, 'hum': 4430, 'idealistic': 4477, 'outdated': 6347, 'kapoor': 4969, 'bone': 1109, 'hindi': 4297, 'stretch': 8621, 'sincerity': 8156, 'believes': 937, 'families': 3373, 'happily': 4145, 'roof': 7621, 'bumps': 1292, 'translate': 9214, 'overlook': 6376, 'returning': 7477, 'roots': 7632, 'salman': 7723, 'insipid': 4672, 'heavily': 4230, 'chooses': 1643, 'tunes': 9300, 'choose': 1642, 'inhabit': 4642, 'cynical': 2294, 'mischievous': 5814, 'marriages': 5580, 'heaven': 4227, 'wedding': 9753, 'videos': 9567, 'fat': 3406, 'monstrous': 5889, 'stepmother': 8545, 'spoiler': 8425, 'burned': 1301, 'wins': 9842, 'engaged': 3073, 'darn': 2353, 'madly': 5477, 'cruel': 2246, 'laws': 5168, 'bride': 1209, 'cinderella': 1677, 'dreamy': 2825, 'bashing': 854, 'hugely': 4424, 'brosnan': 1243, 'sake': 7717, 'satisfying': 7765, 'cried': 2204, 'endearing': 3057, 'thrilling': 9056, 'sophistication': 8328, 'empire': 3041, 'awaiting': 754, 'jedi': 4862, 'lucas': 5431, 'abomination': 168, 'undeniably': 9360, 'proves': 7004, 'greedy': 4009, 'honor': 4366, 'jury': 4956, 'initial': 4648, 'raising': 7132, 'gate': 3802, 'jabba': 4824, 'profit': 6945, 'figures': 3489, 'guards': 4058, 'hokey': 4332, 'muppet': 5962, 'recycled': 7260, 'ewoks': 3203, 'rebel': 7227, 'alliance': 405, 'blatant': 1041, 'nauseating': 6037, 'sentiment': 7927, 'appalling': 543, 'perverse': 6588, 'dreck': 2827, 'flock': 3577, 'incidental': 4573, 'undeveloped': 9382, 'cartoonish': 1451, 'stuffed': 8662, 'partial': 6469, 'miserable': 5815, 'recall': 7231, 'harrison': 4171, 'nose': 6151, 'secretary': 7871, 'answers': 512, 'sided': 8116, 'answered': 510, 'appeals': 548, 'presented': 6871, 'profile': 6944, 'attorney': 711, 'murderous': 5969, 'avoided': 751, 'choppy': 1647, 'mcdowell': 5655, 'gal': 3770, 'rampant': 7140, 'younger': 9975, 'severe': 7971, 'girlfriends': 3888, 'puppy': 7049, 'aided': 349, 'crushed': 2252, 'truck': 9283, 'thirds': 9030, 'spends': 8398, 'forgot': 3642, 'pregnant': 6853, 'minister': 5798, 'huh': 4428, 'smoke': 8269, 'smug': 8273, 'cancer': 1376, 'lesbian': 5228, 'calculated': 1347, 'funeral': 3743, 'office': 6250, 'recognizable': 7244, 'arbitrary': 577, 'advance': 300, 'passes': 6491, 'enterprise': 3104, 'performing': 6571, 'height': 4236, 'false': 3369, 'hill': 4293, 'bogus': 1093, 'shell': 8034, 'jed': 4861, 'appeared': 552, 'texture': 8997, 'overshadowed': 6383, 'campy': 1371, 'glamorous': 3896, 'treat': 9239, 'bitch': 1013, 'smoking': 8270, 'throws': 9065, 'growth': 4048, 'mercy': 5722, 'village': 9583, 'schools': 7805, 'station': 8518, 'examination': 3209, 'friendships': 3714, 'graveyard': 3997, 'molly': 5868, 'behaviour': 926, 'poo': 6753, 'anna': 496, 'advertising': 308, 'cream': 2178, 'community': 1883, 'devastated': 2572, 'proper': 6980, 'kicked': 5011, 'winds': 9835, 'questioning': 7090, 'punk': 7045, 'located': 5352, 'duo': 2889, 'invisible': 4769, 'surprises': 8794, 'punch': 7040, 'delicate': 2453, 'soft': 8299, 'mute': 5989, 'attitude': 709, 'pattern': 6510, 'repeating': 7390, 'defined': 2437, 'feminine': 3453, 'tolerance': 9121, 'learning': 5190, 'perceived': 6558, 'desire': 2540, 'banter': 828, 'antics': 519, 'flop': 3581, 'ish': 4802, 'relationship': 7321, 'considerably': 2000, 'helping': 4252, 'blinded': 1055, 'tricky': 9263, 'succession': 8712, 'longer': 5375, 'covers': 2150, 'ranks': 7153, 'wrongly': 9944, 'reluctantly': 7344, 'sits': 8179, 'dies': 2611, 'screenwriter': 7837, 'element': 2996, 'intends': 4711, 'supportive': 8775, 'ugh': 9330, 'crush': 2251, 'existent': 3247, 'brilliant': 1219, 'babies': 779, 'thrilled': 9053, 'wasting': 9713, 'andy': 469, 'peaks': 6534, 'pie': 6642, 'humor': 4435, 'accepted': 197, 'ripoff': 7545, 'gifted': 3870, 'intriguing': 4749, 'dismal': 2694, 'balance': 810, 'professionals': 6942, 'forties': 3654, 'cigarette': 1675, 'brit': 1225, 'hunk': 4442, 'physical': 6627, 'kenny': 4998, 'douglas': 2781, 'zeta': 9988, 'welcome': 9765, 'dramas': 2809, 'relation': 7319, 'lovers': 5417, 'doctor': 2736, 'parallels': 6454, '2002': 102, 'russian': 7686, 'coincidence': 1805, 'romania': 7611, 'summarize': 8743, 'band': 822, 'publicity': 7028, 'needing': 6057, 'existing': 3249, 'sick': 8112, 'holding': 4335, 'insight': 4668, 'maria': 5558, 'comical': 1858, 'nervous': 6081, 'dumped': 2884, 'tense': 8971, 'pushed': 7064, 'touching': 9167, 'fits': 3536, 'romanian': 7612, 'incestuous': 4570, 'spending': 8397, 'image': 4512, 'incest': 4569, 'absent': 176, 'suited': 8738, 'adult': 296, 'inner': 4654, 'monologues': 5883, 'mature': 5637, 'attempting': 700, 'musicians': 5982, 'sexual': 7976, 'alex': 384, 'triangle': 9257, 'frustration': 3727, 'theatre': 9007, '12': 7, 'complicated': 1918, 'neighborhood': 6066, 'firstly': 3529, 'building': 1279, 'secondly': 7868, 'soccer': 8291, 'field': 3474, 'conversation': 2062, 'truthful': 9291, 'passionate': 6494, 'campaign': 1365, 'laying': 5174, 'rapidly': 7161, 'exceptions': 3222, 'promising': 6969, 'aimed': 354, 'subtle': 8700, 'license': 5256, 'crowded': 2240, 'narrow': 6020, 'containing': 2022, 'stan': 8480, 'queens': 7085, 'hustler': 4455, 'creates': 2182, 'hop': 4376, 'generate': 3825, 'funky': 3744, 'choreography': 1652, 'sharp': 8019, 'lift': 5265, 'heights': 4237, 'august': 724, '1996': 92, 'break': 1188, 'dj': 2733, 'hated': 4183, 'subway': 8705, 'property': 6982, 'electricity': 2992, 'dance': 2321, 'uh': 9332, 'lovable': 5412, 'forgive': 3639, 'forwarding': 3660, 'santa': 7746, 'climatic': 1747, 'swearing': 8829, 'compare': 1889, 'ghetto': 3859, 'raving': 7181, 'dialogues': 2595, '86': 150, 'enemy': 3068, 'differ': 2613, 'alright': 418, 'higher': 4283, 'joined': 4904, 'chase': 1579, 'jodie': 4895, 'foster': 3661, 'professional': 6941, 'noteworthy': 6160, 'california': 1349, 'ramones': 7138, 'whimsical': 9792, 'enjoys': 3091, 'bent': 957, 'administration': 276, 'wolf': 9874, 'approval': 571, 'logical': 5362, 'blows': 1075, 'concert': 1945, 'periods': 6575, 'boredom': 1132, 'repeat': 7387, 'fever': 3465, 'barrel': 841, 'dominic': 2761, 'credible': 2193, 'placing': 6671, 'stepped': 8546, 'surroundings': 8804, 'sorely': 8334, 'remembering': 7361, 'slip': 8241, 'backed': 788, 'dreams': 2824, 'dropped': 2848, 'scream': 7827, 'chamberlain': 1540, 'mask': 5602, 'wore': 9897, 'eerie': 2967, 'instruments': 4693, 'seemingly': 7888, 'ideas': 4479, 'ancient': 464, 'gods': 3923, 'peoples': 6555, 'haired': 4099, 'priests': 6902, 'possibilities': 6799, 'hint': 4299, 'wave': 9726, 'devastating': 2573, 'apocalyptic': 538, 'burton': 1308, 'apocalypse': 537, 'apartment': 533, 'confront': 1967, 'suit': 8735, 'ellen': 3010, 'murders': 5970, 'poker': 6732, 'receiving': 7236, 'visitor': 9611, 'body': 1089, 'outside': 6363, 'madman': 5478, 'dressed': 2829, 'claus': 1722, 'larry': 5136, 'drake': 2807, 'hiding': 4281, 'ax': 773, 'downs': 2788, 'misses': 5828, 'chop': 1645, 'locks': 5359, 'closet': 1767, 'pursues': 7060, 'crypt': 2254, 'essentially': 3160, 'keeping': 4988, 'maniac': 5531, 'highlights': 4286, 'judgement': 4933, 'objective': 6201, 'et': 3168, 'influence': 4627, 'france': 3674, 'posted': 6804, 'condition': 1952, 'adopted': 290, 'ordeal': 6315, 'universally': 9421, 'relevant': 7336, 'satisfied': 7763, 'conclusions': 1949, 'record': 7250, 'vanity': 9513, 'justified': 4960, 'deeply': 2428, 'morally': 5904, 'alexandre': 387, 'seldom': 7895, 'marie': 5559, 'affected': 316, 'amusement': 455, 'pierre': 6646, 'remarks': 7358, 'beau': 897, 'nicholas': 6098, 'eustache': 3180, 'despicable': 2549, 'empathize': 3036, 'shared': 8013, 'moral': 5902, 'paris': 6460, 'conscience': 1991, 'anxiety': 525, 'despair': 2545, 'heartless': 4221, 'portrait': 6776, 'observe': 6212, 'alexander': 385, 'representative': 7407, 'inherent': 4645, 'tendency': 8967, 'determined': 2568, 'behaves': 923, 'insist': 4673, 'bitter': 1020, 'anti': 516, 'social': 8292, 'believing': 938, 'relevance': 7335, 'humanity': 4432, 'renoir': 7381, 'scorsese': 7821, 'induced': 4607, 'unlikable': 9427, 'morons': 5914, 'rohmer': 7600, 'deadly': 2377, 'bollywood': 1098, 'edgy': 2952, 'network': 6085, 'garden': 3792, 'daytime': 2374, 'suffered': 8722, 'nonsensical': 6137, 'criminally': 2209, 'underused': 9378, 'presents': 6873, 'mile': 5773, 'kennedy': 4996, 'command': 1861, 'contemporary': 2025, 'chock': 1635, 'inaccuracies': 4562, 'wayne': 9732, '1960': 53, 'stole': 8579, 'downright': 2787, 'boot': 1123, 'cannon': 1384, 'mud': 5953, 'brian': 1207, 'hat': 4181, 'flaw': 3555, 'ensemble': 3096, 'believability': 932, 'grew': 4020, 'prefer': 6849, 'accuracy': 216, 'parker': 6462, 'accurate': 217, 'famed': 3371, 'heroic': 4266, 'siege': 8121, 'texas': 8995, 'independence': 4594, 'jim': 4887, 'alec': 382, 'baldwin': 814, 'travis': 9236, 'kathleen': 4976, 'thirteen': 9031, 'utter': 9489, 'rubbish': 7658, 'patriotic': 6509, 'historians': 4311, 'norman': 6144, 'maclean': 5471, 'redford': 7266, 'mediocrity': 5682, 'adds': 271, 'banal': 820, 'seedy': 7883, 'charismatic': 1570, 'paul': 6514, 'depending': 2503, 'fly': 3590, 'tom': 9124, 'craig': 2164, 'retired': 7470, 'lord': 5390, 'vain': 9497, 'wished': 9854, 'swept': 8836, 'selfish': 7899, 'uninteresting': 9414, 'whites': 9798, 'sleepy': 8228, 'sons': 8322, 'newspaper': 6095, 'tie': 9077, 'flies': 3570, 'fishing': 3533, 'montana': 5892, 'narrator': 6019, 'author': 736, 'preacher': 6835, 'surprising': 8795, 'lacked': 5098, 'notable': 6154, 'spectrum': 8386, 'activity': 239, 'canadian': 1373, 'historian': 4310, 'born': 1135, 'dawson': 2370, 'subdued': 8683, 'armed': 600, 'continued': 2035, 'cowboy': 2154, 'west': 9780, 'herd': 4261, 'nightmare': 6109, 'policeman': 6738, 'stewart': 8562, 'brennan': 1204, 'border': 1127, 'shack': 7985, 'replies': 7399, 'miles': 5774, 'territory': 8984, 'closest': 1766, 'north': 6146, 'considerable': 1999, 'duties': 2896, 'supplies': 8769, 'laid': 5106, 'observed': 6213, 'stern': 8557, 'faced': 3332, 'saloon': 7724, 'loudly': 5408, 'discovering': 2673, 'carrying': 1446, 'resistance': 7434, 'dollar': 2752, 'contrast': 2043, 'denver': 2495, 'confidence': 1958, 'remarkable': 7356, 'sergeant': 7941, 'lone': 5370, 'represent': 7405, 'wilderness': 9818, 'pour': 6815, 'thousands': 9043, 'protect': 6993, 'established': 3162, 'swear': 8828, 'tin': 9097, 'townspeople': 9177, 'jimmy': 4888, 'loner': 5373, 'elected': 2989, 'reluctant': 7343, 'bully': 1288, 'blast': 1040, 'climax': 1748, 'passing': 6492, 'bald': 813, 'rational': 7175, 'canada': 1372, '1975': 69, 'westerns': 9782, 'mann': 5539, 'uneven': 9387, 'darling': 2352, 'bend': 948, 'gaps': 3786, 'winchester': 9830, '73': 145, 'yep': 9966, 'magnificent': 5491, 'glaring': 3898, 'perfection': 6563, 'holes': 4338, 'alive': 398, 'pedestrian': 6540, 'punishment': 7044, 'authority': 738, 'thread': 9044, 'hatred': 4187, 'marks': 5573, 'gary': 3799, 'cooper': 2084, 'equal': 3133, 'exhausted': 3241, 'roaring': 7569, 'anthony': 515, 'photographs': 6621, 'superb': 8758, 'streets': 8616, 'resembling': 7429, 'mistaken': 5834, 'madness': 5479, 'disgust': 2687, 'crooked': 2229, 'graces': 3969, 'partners': 6481, 'spaghetti': 8364, 'royal': 7655, 'harry': 4174, 'morgan': 5907, 'precious': 6838, 'teenager': 8947, 'sorta': 8338, 'mexican': 5747, 'everyday': 3192, '00': 0, '2000': 100, 'cabin': 1336, 'regularly': 7305, 'imitate': 4524, 'opera': 6289, 'preposterous': 6866, 'stretches': 8623, 'stanley': 8489, 'identity': 4484, 'unit': 9418, 'pokes': 6733, 'tongue': 9136, 'cheek': 1598, 'ladder': 5102, 'dislike': 2692, 'challenging': 1538, 'overacting': 6367, 'alison': 397, 'salem': 7719, 'andrew': 467, 'parsons': 6468, 'serial': 7943, 'operating': 6293, 'exploits': 3290, 'psycho': 7019, 'ambitious': 441, 'capture': 1405, 'motivated': 5927, 'led': 5198, 'regarding': 7295, 'unlike': 9428, 'sophisticated': 8327, 'polish': 6741, 'kinds': 5036, 'instances': 4686, 'annoy': 502, 'impress': 4549, 'regular': 7304, 'blend': 1048, 'differences': 2615, 'succeed': 8706, 'humorous': 4436, '95': 154, 'vivid': 9620, '24': 115, 'guarantee': 4053, 'sci': 7808, 'fi': 3467, 'killings': 5028, 'attempted': 699, 'sarcasm': 7751, 'saddest': 7703, 'judd': 4929, 'usa': 9476, 'evening': 3185, 'digital': 2623, 'tied': 9078, 'explanation': 3280, 'acceptable': 195, 'clock': 1758, 'useless': 9481, 'mike': 5769, 'presumed': 6883, 'stranger': 8607, 'plant': 6683, 'drowning': 2853, 'changing': 1551, 'chain': 1529, 'defies': 2435, 'installment': 4684, 'quit': 7100, 'throwing': 9063, 'sequels': 7937, 'tank': 8895, 'secrets': 7873, 'assumes': 671, 'identities': 4483, 'urban': 9472, 'operas': 6290, 'detract': 2569, 'hedy': 4234, 'friday': 3708, '13th': 9, 'folks': 3603, 'embarrassingly': 3023, 'niven': 6119, 'thinks': 9028, 'appropriate': 569, 'fiery': 3479, 'riding': 7532, 'bicycle': 985, 'esquire': 3157, 'weaves': 9750, 'caricatures': 1425, 'racial': 7110, 'heels': 4235, 'em': 3018, 'noble': 6122, 'cringing': 2212, 'lighting': 5272, 'games': 3777, 'technicolor': 8936, 'motorcycle': 5932, 'wreck': 9931, 'staircase': 8468, 'caution': 1490, 'nyc': 6199, 'kidding': 5016, 'propaganda': 6979, 'principals': 6911, 'tripe': 9271, 'offers': 6249, 'psychiatric': 7016, 'virus': 9602, 'introduced': 4752, 'computer': 1929, 'destroy': 2555, '40s': 132, 'ps': 7012, 'realizing': 7217, 'prequel': 6867, 'trek': 9246, 'definition': 2442, 'increasingly': 4591, 'runner': 7674, 'disregard': 2702, 'internal': 4731, 'paycheck': 6522, 'consistently': 2008, 'bubble': 1261, 'landscape': 5120, 'desires': 2542, 'paramount': 6455, 'core': 2094, 'offering': 6247, 'predecessors': 6843, 'battlestar': 875, 'galactica': 3771, 'shield': 8045, 'measures': 5673, 'dramatically': 2811, 'straightforward': 8601, 'kirk': 5044, 'mockery': 5855, 'gene': 3822, 'ignores': 4495, 'canceled': 1374, 'premier': 6857, 'flying': 3591, 'archer': 580, 'sends': 7910, 'kissing': 5048, 'banana': 821, 'slug': 8251, 'voyager': 9640, 'impressions': 4552, 'introduction': 4755, 'exploration': 3291, 'fitting': 3537, 'captain': 1401, 'largely': 5133, 'grand': 3978, 'generic': 3829, 'merely': 5725, 'subplot': 8690, 'subtext': 8697, 'mission': 5831, 'nostalgic': 6153, 'philosophical': 6611, 'wind': 9831, 'sea': 7850, 'distracting': 2713, 'block': 1059, 'opposed': 6301, 'landed': 5116, 'meeting': 5686, 'societies': 8296, 'interact': 4721, 'technology': 8940, 'promises': 6968, 'conclude': 1946, 'apollo': 539, 'arrow': 619, 'capt': 1400, 'risks': 7553, 'intrigued': 4748, 'hype': 4459, 'submarine': 8688, 'edged': 2950, 'depictions': 2509, 'adolescent': 288, 'ready': 7201, 'babe': 777, 'rack': 7114, 'turturro': 9313, 'luzhin': 5455, 'pompous': 6751, 'spite': 8415, 'smarter': 8260, 'capable': 1389, 'belushi': 946, 'intellectual': 4704, 'applies': 559, 'tremendous': 9248, 'mickey': 5760, 'communist': 1882, 'kentucky': 5000, 'kiss': 5046, 'shirley': 8056, 'cowboys': 2155, 'sung': 8751, 'enthusiasm': 3114, 'bin': 1001, 'outer': 6349, 'sounding': 8347, 'nutshell': 6196, 'blanks': 1039, 'sarandon': 7750, 'integrity': 4702, 'twin': 9319, 'aircraft': 359, 'navy': 6039, 'guard': 4055, 'staged': 8465, 'represented': 7408, 'facing': 3336, 'bravery': 1182, 'pilots': 6651, 'plane': 6676, 'presumably': 6881, 'appalled': 542, 'roger': 7597, 'bat': 864, 'prologue': 6962, 'smoothly': 8272, 'chinese': 1632, 'visually': 9615, 'stunning': 8669, 'zu': 9999, 'warriors': 9702, 'animated': 487, 'anime': 492, 'acid': 227, 'wings': 9838, 'weapons': 9743, 'princess': 6909, 'cloud': 1774, 'fights': 3486, 'mystical': 6000, 'demon': 2477, 'wizard': 9871, 'mortal': 5917, 'choreographed': 1650, 'uwe': 9491, 'boll': 1097, 'martial': 5589, 'arts': 631, 'mountain': 5933, 'visuals': 9616, 'colorful': 1831, 'began': 914, 'experiences': 3267, 'theory': 9018, 'civilization': 1698, 'wiped': 9848, 'experimental': 3270, 'sign': 8125, 'hk': 4324, 'sheer': 8028, 'overwhelming': 6389, 'smell': 8263, 'shepard': 8039, 'purple': 7054, 'celie': 1505, 'african': 327, 'sisters': 8173, 'promptly': 6974, 'motif': 5924, 'interrupted': 4739, 'widow': 9810, 'albert': 376, 'rapes': 7159, 'repeatedly': 7389, 'dust': 2892, 'disney': 2696, 'jarring': 4851, 'aesthetic': 312, 'kubrick': 5082, 'remark': 7355, 'lasted': 5140, 'racism': 7112, 'alice': 390, 'walker': 9661, 'claims': 1703, 'paints': 6425, 'bond': 1105, 'christianity': 1661, 'various': 9520, 'misplaced': 5825, 'inserted': 4666, 'bumbling': 1291, 'fool': 3614, 'racist': 7113, 'comprised': 1927, 'smiles': 8265, 'jazz': 4856, 'bands': 823, 'readily': 7198, 'accepting': 198, 'conditions': 1953, 'passions': 6495, 'mgm': 5751, 'warner': 9694, 'novelist': 6174, 'reed': 7271, 'nazi': 6040, 'conspiracy': 2011, 'bonds': 1108, 'jumps': 4950, 'desperately': 2547, 'kitchen': 5049, 'stopping': 8591, 'ridiculously': 7531, 'feminist': 3454, 'jew': 4880, 'griffith': 4024, 'scored': 7818, 'williams': 9822, 'dominate': 2758, 'quietly': 7095, 'focused': 3595, 'occurs': 6232, 'societal': 8295, 'perform': 6565, 'tasks': 8909, 'counterparts': 2126, 'fulfilling': 3735, 'traditional': 9189, 'domestic': 2757, 'economic': 2942, 'factors': 3339, 'ideology': 4485, 'wound': 9922, 'severely': 7973, 'imprisoned': 4555, 'blacks': 1026, 'minority': 5801, 'inappropriate': 4566, 'visual': 9614, 'wildly': 9819, 'rendering': 7376, 'discussion': 2679, 'deserve': 2531, 'win': 9829, 'academy': 191, 'oscars': 6338, 'nominations': 6132, 'justify': 4961, 'distinction': 2706, 'rendered': 7375, 'sentimentality': 7929, 'letters': 5240, 'faux': 3414, 'jumping': 4949, 'buildings': 1280, 'heading': 4207, 'joint': 4907, 'rings': 7542, 'sophia': 8325, 'oprah': 6306, 'backwards': 793, 'greatly': 4005, 'ryan': 7692, 'realism': 7207, 'vampire': 9506, 'suitable': 8736, 'matrix': 5630, 'lies': 5258, 'yells': 9965, 'circle': 1686, 'unforgivable': 9399, 'dracula': 2797, 'frankenstein': 3681, 'passengers': 6490, 'speechless': 8389, 'daft': 2302, 'stephanie': 8543, 'bills': 998, 'disappeared': 2654, 'obscurity': 6209, 'golden': 3933, 'iraq': 4783, 'access': 200, 'gem': 3817, 'blade': 1027, 'assassin': 652, 'harder': 4153, 'bo': 1080, 'picked': 6634, 'ron': 7619, 'hall': 4105, 'stunt': 8671, 'buffy': 1275, 'super': 8757, 'vampires': 9507, 'wrap': 9927, 'nights': 6112, 'valentine': 9499, 'stalk': 8473, 'slash': 8212, 'summer': 8746, 'alot': 417, 'nerdy': 6078, 'denise': 2488, 'jessica': 4876, 'capshaw': 1398, 'females': 3452, 'puns': 7046, 'spectacularly': 8385, 'complexity': 1917, 'elementary': 2997, 'batman': 870, 'slasher': 8213, 'irony': 4790, 'scared': 7784, 'overbearing': 6370, 'bates': 865, 'flimsy': 3572, 'childhood': 1624, 'masked': 5603, 'nerd': 6076, 'jeremy': 4869, 'rejected': 7313, 'doom': 2768, 'warns': 9697, 'terrified': 8982, 'gasp': 3801, 'suspense': 8818, 'nerds': 6077, 'bathing': 867, 'crucial': 2244, 'dresses': 2830, 'toe': 9115, 'ears': 2923, 'tables': 8866, 'nearest': 6046, 'exit': 3251, 'orgy': 6323, 'keyboard': 5007, '1000': 4, 'spoofs': 8432, 'combined': 1843, 'emphasis': 3039, 'predict': 6844, 'stale': 8472, 'stalks': 8477, 'inventive': 4762, 'recognize': 7245, 'judge': 4931, 'horrifying': 4396, 'spoof': 8431, 'formulaic': 3650, 'psychotic': 7025, 'elaborate': 2985, 'bloodshed': 1069, 'herrings': 4269, 'suspects': 8815, 'resolved': 7437, 'fulfilled': 3734, 'surviving': 8809, 'demons': 2479, 'grows': 4047, 'tortured': 9158, 'slashers': 8214, 'alarm': 372, 'theirs': 9010, 'morgue': 5909, 'corpses': 2105, 'innovative': 4657, 'trapped': 9223, 'pool': 6754, 'chainsaw': 1531, 'stoic': 8578, 'decade': 2399, 'complaining': 1907, 'carrie': 1442, 'redundant': 7270, 'bowl': 1155, 'structured': 8644, 'suspenseful': 8819, 'jason': 4852, 'hopelessly': 4382, 'arrogant': 618, 'according': 213, 'assumed': 670, 'significance': 8128, 'importantly': 4547, 'sixth': 8184, 'signed': 8127, 'vicious': 9559, 'deliberately': 2452, 'successfully': 8711, 'hateful': 4184, 'disappearing': 2655, 'altogether': 425, 'shelley': 8035, 'stabs': 8460, 'suggesting': 8730, 'staying': 8525, 'gigantic': 3873, 'butcher': 1321, 'mentions': 5717, 'influenced': 4628, 'meyer': 5749, 'shameless': 8004, 'adam': 250, 'bleed': 1046, 'holds': 4336, 'unexplained': 9390, 'midnight': 5765, 'battlefield': 873, 'messages': 5735, 'insecure': 4664, 'leonard': 5225, 'godzilla': 3924, 'alike': 396, '45': 133, 'photos': 6623, 'jewish': 4883, 'introducing': 4754, 'guinea': 4069, 'remains': 7352, 'provides': 7007, 'complaint': 1909, 'ignorant': 4492, 'description': 2528, 'companion': 1885, 'ninety': 6115, 'percent': 6559, 'bull': 1284, 'juan': 4928, 'tip': 9100, 'superbly': 8759, 'ghastly': 3858, 'rhythm': 7514, 'volume': 9628, 'celluloid': 1509, 'cruise': 2249, 'ships': 8055, 'slam': 8207, 'covering': 2149, 'homosexuality': 4359, 'consistent': 2007, 'prefers': 6852, 'clips': 1755, 'gimmick': 3880, 'pieces': 6644, 'fraud': 3687, 'argument': 592, 'noting': 6166, 'avid': 748, 'bitchy': 1014, 'sour': 8351, 'remarkably': 7357, 'riveting': 7563, 'rant': 7154, 'jacket': 4827, 'curiosity': 2270, 'separate': 7932, 'mixture': 5847, 'overdone': 6374, 'choices': 1638, 'distraction': 2714, 'sensational': 7913, 'reduced': 7269, 'mere': 5723, 'countries': 2129, 'sweden': 8831, 'mainstream': 5498, 'trials': 9256, 'accompanying': 209, 'documentaries': 2739, 'influences': 4629, 'marginally': 5557, 'youth': 9978, 'rebellion': 7228, 'consciousness': 1993, 'fourth': 3665, 'chuckle': 1671, 'earned': 2920, 'sacrifice': 7698, 'indian': 4597, 'current': 2274, 'affairs': 314, 'india': 4596, 'husbands': 4454, 'sharing': 8015, 'accidentally': 204, 'capacity': 1390, 'heir': 4238, 'surrogate': 8800, 'artificial': 625, 'gosh': 3955, 'neighbors': 6067, 'decision': 2412, 'uneducated': 9385, 'pub': 7026, 'prostitute': 6988, 'household': 4412, 'cries': 2205, 'elderly': 2987, 'movements': 5942, 'whore': 9802, 'candidate': 1377, 'dealt': 2385, 'intelligently': 4708, 'plausible': 6691, 'targeted': 8904, 'mom': 5869, 'pushing': 7066, 'fed': 3435, 'intricate': 4746, 'complex': 1915, 'perfectly': 6564, 'represents': 7410, 'exquisite': 3311, 'adore': 292, 'lightly': 5273, 'topic': 9146, 'poignant': 6723, 'biased': 981, 'trigger': 9267, 'knocking': 5062, 'cops': 2090, 'trail': 9194, 'nancy': 6013, 'du': 2863, 'maker': 5506, 'michel': 5757, 'magazine': 5484, 'implications': 4541, 'workers': 9901, 'marred': 5578, 'evident': 3194, 'introduces': 4753, 'basic': 855, 'loneliness': 5371, 'downfall': 2784, 'festival': 3461, 'sue': 8720, 'superfluous': 8761, 'rotten': 7640, 'sexuality': 7977, 'deeper': 2426, 'insights': 4670, 'gender': 3821, 'portion': 6773, 'broad': 1230, 'stairs': 8469, 'handles': 4124, 'passive': 6496, 'announces': 501, 'dime': 2629, 'jail': 4836, 'dollars': 2753, 'preston': 6880, 'frustrated': 3725, 'treats': 9243, 'birthday': 1010, 'rides': 7529, 'roller': 7605, 'receives': 7235, 'marked': 5570, 'juice': 4938, 'bike': 990, 'busted': 1317, 'grounded': 4040, 'buys': 1330, 'mansion': 5547, 'driver': 2843, 'fbi': 3424, 'tracking': 9183, 'restaurant': 7452, 'messing': 5737, '300': 123, 'dress': 2828, 'expensive': 3264, 'chased': 1580, 'discovers': 2674, 'chair': 1532, 'faces': 3333, 'ensue': 3097, 'trio': 9269, 'kisses': 5047, 'lips': 5314, 'disabled': 2650, 'celebrating': 1500, 'whacked': 9784, 'relief': 7339, 'creepy': 2201, 'pope': 6759, 'trilogy': 9268, 'spider': 8401, 'samuel': 7733, '90s': 153, 'remembered': 7360, 'pixar': 6665, 'strangely': 8606, 'culkin': 2260, 'fade': 3343, 'waters': 9724, 'overlooked': 6377, 'changes': 1550, 'robber': 7572, 'imaginary': 4516, 'fortune': 3657, 'nineties': 6114, 'overtones': 6386, 'accomplish': 210, 'hbo': 4203, 'necessarily': 6050, 'aware': 761, 'lie': 5257, 'discussed': 2677, 'lucky': 5436, 'foil': 3600, 'reminiscent': 7368, 'stooges': 8588, 'blake': 1032, 'advantage': 303, 'miraculously': 5809, 'cars': 1447, 'dates': 2361, 'fur': 3748, 'wit': 9857, 'pursuing': 7061, '3rd': 129, 'choke': 1640, 'groove': 4034, 'continually': 2033, 'hitler': 4320, 'spark': 8369, 'sing': 8157, 'valley': 9502, 'dolls': 2754, 'marilyn': 5561, 'monroe': 5885, 'oliver': 6269, 'stone': 8583, 'eh': 2981, 'doors': 2771, 'counter': 2124, 'shadows': 7988, 'backs': 792, 'stretching': 8624, 'commercials': 1872, 'describing': 2527, 'beatles': 894, 'quirky': 7099, 'quasi': 7083, 'phony': 6616, 'snake': 8275, 'smarmy': 8258, 'interiors': 4729, 'madonna': 5480, 'chuck': 1670, 'buck': 1262, 'nominated': 6130, 'remained': 7350, 'deborah': 2395, 'christopher': 1667, 'reeve': 7275, 'miscast': 5813, 'size': 8186, 'bridges': 1212, 'madison': 5476, 'county': 2133, 'retirement': 7471, 'ought': 6343, 'committed': 1876, 'outright': 6360, 'harris': 4170, 'unfolding': 9396, 'inconsistencies': 4586, 'neatly': 6049, 'bobby': 1087, 'remainder': 7349, 'excruciatingly': 3233, 'freeman': 3699, 'armstrong': 603, 'liberal': 5251, 'scottish': 7824, 'professor': 6943, 'opposition': 6304, 'penalty': 6547, 'florida': 3582, 'convicted': 2070, 'confession': 1957, 'sadistic': 7704, 'sullivan': 8741, 'visits': 9613, 'electric': 2991, 'court': 2141, 'secure': 7876, 'freedom': 3697, 'precisely': 6840, 'grudge': 4049, 'cause': 1486, 'auto': 740, 'indulge': 4609, 'devices': 2582, 'owes': 6393, 'debt': 2397, 'intruder': 4756, 'sheriff': 8042, 'brutality': 1255, 'borrowed': 1137, 'revelation': 7486, 'client': 1742, 'cape': 1391, 'characterisation': 1560, 'bible': 982, 'quoting': 7104, 'religious': 7342, 'seven': 7968, 'ashley': 637, 'crimes': 2207, 'distinguished': 2709, 'lesser': 5231, 'max': 5643, 'fishburne': 3531, 'critical': 2219, 'preaching': 6836, 'lawyers': 5170, 'useful': 9480, 'officers': 6252, 'unaware': 9344, 'stance': 8481, 'suitably': 8737, 'showcases': 8094, 'lawrence': 5167, 'rendition': 7378, 'intend': 4709, 'evidence': 3193, 'witnesses': 9865, 'speeches': 8388, 'approached': 566, 'grandmother': 3981, 'trial': 9255, 'yawn': 9956, 'il': 4500, 'beating': 893, 'freed': 3696, 'pc': 6530, 'principles': 6913, 'min': 5785, 'tacked': 8868, 'legal': 5204, 'alligator': 408, 'corrupt': 2110, 'bullies': 1287, 'abu': 184, 'thumbs': 9070, 'shocker': 8062, 'edge': 2949, 'seat': 7861, 'disappoints': 2661, 'refuse': 7288, 'tasteful': 8911, 'measure': 5672, 'threatening': 9048, 'mannered': 5541, 'scarlet': 7789, 'carefully': 1418, 'assortment': 668, 'beatty': 896, 'cameos': 1359, 'lange': 5124, 'leaps': 5187, 'faith': 3360, 'predictability': 6845, 'stunningly': 8670, 'ruins': 7666, 'manipulated': 5535, 'entirety': 3118, 'dinner': 2634, 'compensate': 1899, 'league': 5184, 'unexpected': 9388, 'switch': 8843, 'remind': 7363, 'fades': 3345, 'pot': 6808, 'silence': 8132, 'lambs': 5111, 'heat': 4224, 'reverse': 7489, 'thrills': 9057, 'bothering': 1145, 'reasonable': 7222, 'stereotyped': 8551, 'firmly': 3528, 'aim': 352, 'academic': 190, 'debate': 2393, 'pepper': 6556, 'manipulation': 5536, 'highest': 4284, 'scripting': 7844, 'charisma': 1569, 'manipulative': 5537, 'billion': 997, 'arquette': 607, 'mandy': 5528, 'scantily': 7780, 'clad': 1699, 'bury': 1309, 'ya': 9953, 'criticisms': 2221, 'popping': 6761, 'melodramatic': 5697, 'scripts': 7845, 'carmen': 1431, 'fallen': 3365, 'injury': 4651, 'moore': 5901, 'flip': 3573, 'bliss': 1057, 'smash': 8261, 'suspected': 8814, 'wear': 9744, 'finger': 3516, 'chilling': 1628, 'mum': 5957, 'offspring': 6258, 'devoted': 2586, 'threat': 9046, 'displays': 2701, 'counts': 2132, 'sane': 7741, 'companies': 1884, 'joking': 4911, 'crow': 2238, 'robot': 7583, 'vcr': 9527, 'psychology': 7023, 'develops': 2579, 'dana': 2320, 'neo': 6074, 'unsympathetic': 9453, 'clueless': 1779, 'conduct': 1954, 'competing': 1903, 'olympic': 6275, 'indulgent': 4610, 'streak': 8612, 'maid': 5493, 'tomato': 9125, 'scheming': 7801, 'confronts': 1971, 'tire': 9101, 'skin': 8195, 'eddie': 2946, 'beverly': 978, 'hills': 4295, 'peril': 6573, 'raiders': 7123, 'adventures': 305, 'conan': 1931, 'barbarian': 831, 'eddy': 2947, 'occasional': 6223, 'dragons': 2803, 'charlotte': 1574, 'destiny': 2554, 'compassion': 1895, 'abominable': 167, 'destroys': 2558, 'december': 2403, '1993': 89, 'reaches': 7190, 'reynolds': 7511, 'hal': 4101, 'schwarzenegger': 7807, 'invite': 4770, '48': 134, 'childish': 1625, 'misfire': 5818, 'tight': 9083, 'worker': 9900, 'classy': 1720, 'sacrificing': 7701, 'loosely': 5388, 'inane': 4565, 'belong': 942, 'fanatics': 3378, 'fame': 3370, 'honey': 4363, 'airport': 363, '1980s': 75, 'legs': 5210, 'lately': 5145, '1986': 81, 'monks': 5881, 'temple': 8959, 'cage': 1341, 'wonderland': 9885, 'ranch': 7142, '2004': 104, 'dated': 2360, 'spliced': 8419, 'figured': 3488, 'eternity': 3170, 'reminds': 7367, 'loser': 5397, 'didnt': 2607, 'sandler': 7738, 'liner': 5303, 'wacky': 9645, 'frustrating': 3726, 'comprehend': 1926, 'terrorists': 8988, 'rocker': 7588, 'favor': 3415, 'fiasco': 3470, 'selection': 7897, 'buddies': 1266, 'snl': 8284, 'admits': 285, 'steady': 8527, 'extended': 3312, 'sketch': 8189, 'logic': 5361, 'penguin': 6549, 'midget': 5763, 'underrated': 9367, 'nuts': 6195, 'zane': 9982, 'titanic': 9104, 'collecting': 1818, 'cent': 1514, 'rightfully': 7537, '1989': 84, 'blockbuster': 1060, 'daddy': 2300, 'conversations': 2063, 'collect': 1817, 'strength': 8618, 'realise': 7204, 'knock': 5060, 'laden': 5103, 'ruining': 7665, 'exposure': 3304, 'vital': 9617, 'contain': 2020, 'stumbled': 8664, 'ring': 7541, 'instantly': 4688, 'agony': 342, 'pressed': 6878, 'inclined': 4576, 'damned': 2316, 'testing': 8994, 'resolve': 7436, 'staff': 8463, 'hundreds': 4438, 'sending': 7909, 'machines': 5468, 'faults': 3413, 'mins': 5802, 'featuring': 3434, 'comedic': 1851, 'montages': 5891, 'resident': 7431, 'locked': 5357, 'bathroom': 868, 'boxing': 1159, 'burning': 1302, 'opponent': 6297, 'ton': 9132, 'steven': 8559, 'segal': 7891, 'disgrace': 2683, 'cher': 1610, 'willingly': 9825, 'dick': 2601, '88': 151, 'wal': 9657, 'mart': 5587, 'scifi': 7813, 'spin': 8405, 'discount': 2670, 'reminded': 7364, 'button': 1326, 'passenger': 6489, 'babes': 778, 'blind': 1054, 'sales': 7720, 'coaster': 1790, 'trade': 9186, 'philadelphia': 6606, 'powered': 6819, 'drew': 2832, 'barrymore': 843, 'file': 3490, 'thoughts': 9041, 'bash': 853, 'skull': 8203, 'ruth': 7690, 'gambling': 3775, 'baseball': 849, 'lou': 5406, 'greats': 4007, 'eager': 2910, 'bears': 889, 'nostalgia': 6152, 'gen': 3819, 'seek': 7885, 'wonderfully': 9883, 'compelling': 1898, 'wholesome': 9799, 'rice': 7515, 'pitch': 6659, 'ebert': 2938, 'celebrities': 1502, 'vs': 9641, 'toronto': 9156, 'taylor': 8919, '1956': 49, 'nonetheless': 6134, 'shortly': 8081, 'stuart': 8649, 'granger': 3985, 'formidable': 3647, 'indians': 4599, 'veteran': 9551, 'lloyd': 5341, 'nolan': 6128, 'hunt': 4444, 'huston': 4456, 'treasure': 9238, '1948': 40, 'join': 4903, 'phenomenal': 6603, 'remake': 7353, '1995': 91, 'handling': 4125, 'debut': 2398, 'chill': 1627, 'spice': 8400, 'lunatic': 5444, 'protective': 6996, 'temper': 8957, 'abused': 187, 'shelf': 8033, 'amanda': 427, 'abusive': 188, 'horny': 4389, 'mental': 5711, 'homes': 4354, 'perverted': 6590, 'sucker': 8715, 'backyard': 795, 'stud': 8652, 'blues': 1077, 'idiot': 4487, 'users': 9483, 'tribute': 9259, 'surpasses': 8791, 'georgia': 3846, 'highway': 4288, 'lisa': 5316, 'pee': 6541, 'heads': 4208, 'tony': 9140, 'mistress': 5837, 'wander': 9673, 'marijuana': 5560, 'practice': 6825, 'speech': 8387, 'dean': 2386, 'torn': 9154, 'checks': 1596, 'radio': 7118, 'testament': 8992, 'catholic': 1481, 'mates': 5628, 'diner': 2633, 'raped': 7158, 'chest': 1612, 'frankie': 3682, 'facial': 3334, 'jaw': 4853, 'dropping': 2849, 'stunned': 8668, 'shrill': 8104, 'nicolas': 6102, 'roeg': 7596, 'served': 7952, 'detached': 2561, 'signature': 8126, 'tomatoes': 9126, 'adams': 251, 'supported': 8772, 'throne': 9060, 'fuzzy': 3757, 'sought': 8341, 'vets': 9553, 'olivia': 6270, 'keanu': 4983, 'reeves': 7276, 'alternative': 423, 'warehouse': 9687, 'traditions': 9190, 'offs': 6256, 'doubts': 2779, 'abilities': 163, 'salvation': 7727, 'squeeze': 8452, 'needless': 6058, 'obstacles': 6218, 'coach': 1786, 'compete': 1900, 'tommy': 9130, 'enters': 3105, 'embarrass': 3020, 'quest': 7087, 'cheesiness': 1604, 'gym': 4085, 'locate': 5351, 'derivative': 2520, 'market': 5571, 'realities': 7211, 'warming': 9690, 'ted': 8941, 'instinct': 4690, 'shtick': 8106, 'absence': 175, 'performed': 6568, 'lynch': 5457, 'injured': 4650, 'prevents': 6892, 'owned': 6395, 'catchy': 1477, 'sync': 8861, 'btw': 1260, 'shades': 7986, 'stellar': 8541, 'lyrics': 5459, 'exciting': 3229, 'fox': 3666, 'meandering': 5664, 'weekly': 9757, 'alba': 374, 'opener': 6285, 'dreaming': 2823, 'weaker': 9736, 'cameron': 1363, 'grabbing': 3966, 'duration': 2890, 'coherent': 1803, 'seattle': 7863, 'avenge': 746, 'steal': 8528, 'mainly': 5497, 'walls': 9667, 'outs': 6361, 'unseen': 9447, 'shiny': 8053, 'leather': 5193, 'chicks': 1621, 'sf': 7981, 'gritty': 4032, 'bros': 1242, 'lukas': 5441, 'leader': 5180, 'settle': 7964, 'manor': 5544, 'teaching': 8926, 'relatives': 7325, 'undoubtedly': 9383, 'bette': 974, 'alternately': 422, 'fitzgerald': 3538, 'disgruntled': 2684, 'wwii': 9951, 'exposition': 3303, 'cliched': 1736, 'snow': 8285, 'stilted': 8570, 'overwrought': 6390, 'punished': 7043, 'fascist': 3399, 'ww2': 9948, 'applaud': 555, 'accurately': 218, 'immature': 4527, 'watson': 9725, 'amusingly': 457, 'dangerous': 2331, 'upbringing': 9460, 'subjected': 8685, 'hardships': 4156, 'concerning': 1943, 'activities': 238, 'wartime': 9704, 'facility': 3335, 'possesses': 6797, 'mccarthy': 5651, 'foot': 3618, 'wine': 9836, 'casablanca': 1454, 'passage': 6487, 'stir': 8575, 'dictator': 2604, 'communism': 1881, 'pro': 6921, 'daily': 2305, 'theories': 9017, 'aid': 348, 'rogers': 7598, 'thankfully': 9001, 'stargate': 8497, 'sg': 7982, 'egyptian': 2980, 'architecture': 583, 'anderson': 465, 'vanilla': 9511, 'rabid': 7106, 'novels': 6175, 'watered': 9721, 'imagination': 4517, 'nation': 6027, 'copied': 2087, 'updated': 9463, 'im': 4511, '1994': 90, 'studio': 8657, 'bothers': 1146, 'nt': 6179, 'egypt': 2979, 'planets': 6679, 'neill': 6070, 'bodyguard': 1090, 'claude': 1721, 'damme': 2314, 'backgrounds': 790, 'files': 3491, 'cultures': 2265, 'languages': 5126, 'latin': 5148, 'greek': 4010, 'danish': 2337, 'overcome': 6373, 'welcomed': 9766, 'leaders': 5181, 'witchcraft': 9859, 'vaguely': 9496, 'helmet': 4248, 'inexplicably': 4618, 'episodic': 3130, 'starship': 8503, 'troopers': 9278, 'johnny': 4901, 'rico': 7523, 'bugs': 1277, 'mouths': 5939, 'recruits': 7258, 'prolonged': 6963, 'arriving': 616, 'sparse': 8371, 'construction': 2016, 'implies': 4543, 'verhoeven': 9542, 'unsure': 9451, 'alley': 404, 'mirror': 5811, 'iron': 4787, 'possessed': 6796, 'firing': 3526, 'mold': 5866, 'steals': 8530, 'security': 7877, 'wire': 9849, 'boxer': 1157, 'shorts': 8082, 'redeem': 7262, 'muddled': 5954, 'hammy': 4116, 'comedians': 1850, 'wright': 9936, 'funnier': 3745, 'brooks': 1241, 'discussing': 2678, 'taxi': 8918, 'posing': 6789, 'acknowledge': 228, 'patience': 6504, 'punchline': 7042, 'morse': 5916, 'green': 4011, 'doug': 2780, 'chops': 1648, 'replacement': 7396, 'killers': 5026, 'improvised': 4560, 'relax': 7326, 'channels': 1553, 'tuned': 9299, 'gain': 3767, 'footsteps': 3621, 'tucker': 9297, 'dave': 2365, 'stereotyping': 8554, 'males': 5514, 'commit': 1873, 'branch': 1174, 'ala': 369, 'marlon': 5576, 'wayans': 9731, 'damon': 2317, 'spike': 8404, 'balanced': 811, 'solve': 8309, 'mtv': 5952, 'conventional': 2060, 'denzel': 2498, 'macho': 5469, 'abruptly': 174, 'contributes': 2047, 'launch': 5157, 'stardom': 8493, 'cheadle': 1586, 'safety': 7709, 'thank': 8999, 'goodness': 3945, 'rod': 7593, '23': 114, 'ballet': 816, 'colored': 1830, 'clown': 1776, 'ii': 4498, 'escaping': 3154, 'suspension': 8820, 'thrill': 9052, 'tunnel': 9301, 'marion': 5565, 'palace': 6430, 'edgar': 2948, 'poe': 6718, 'plotting': 6713, 'sealed': 7853, 'abysmal': 189, 'gothic': 3958, 'minds': 5789, 'afford': 322, 'respects': 7445, 'daring': 2345, '1970s': 64, 'nell': 6071, 'link': 5307, 'underneath': 9366, 'atmospheric': 688, 'castle': 1467, 'ireland': 4784, 'republic': 7412, 'rome': 7615, 'lesbians': 5229, 'invited': 4771, 'rooms': 7627, 'serves': 7953, 'eroticism': 3147, 'rizzo': 7564, 'invites': 4772, 'tedium': 8944, 'distributor': 2718, 'tits': 9108, 'admission': 283, 'goat': 3919, 'jerk': 4870, 'hybrid': 4457, 'giallo': 3864, 'dose': 2775, 'matched': 5623, 'dashing': 2357, 'mae': 5482, 'meek': 5684, 'butler': 1323, 'depicting': 2507, 'raging': 7121, 'redemption': 7265, 'shenanigans': 8038, 'sergio': 7942, 'martino': 5593, '1973': 67, 'thrillers': 9055, 'bedroom': 905, 'inferior': 4623, 'evelyn': 3184, 'agreed': 344, 'leo': 5223, 'guests': 4063, 'grandfather': 3979, 'servants': 7950, 'criticism': 2220, 'examine': 3210, 'anytime': 529, 'illogical': 4506, 'colour': 1833, 'discuss': 2676, 'priceless': 6899, 'scope': 7816, 'trivia': 9275, 'experiments': 3271, '1977': 71, 'ss': 8454, 'beast': 890, 'unintentional': 9412, 'hopeless': 4381, 'determine': 2567, 'blamed': 1034, 'travesty': 9235, 'severed': 7972, 'multi': 5955, 'resemblance': 7426, 'whats': 9786, 'dances': 2325, 'seymour': 7980, 'steer': 8537, 'dwarf': 2901, 'worlds': 9905, 'slaves': 8220, 'pitched': 6660, 'nicholson': 6099, 'mild': 5770, 'invasion': 4758, 'casino': 1458, 'begging': 915, 'peace': 6531, 'dysfunctional': 2909, 'mayhem': 5647, 'quaint': 7074, 'decidedly': 2409, 'broke': 1234, 'painter': 6422, 'artemisia': 621, 'reasonably': 7223, 'crafted': 2163, 'inaccurate': 4563, 'depiction': 2508, 'offended': 6242, 'transformation': 9208, 'rapist': 7163, 'awakening': 756, 'object': 6200, 'independent': 4595, 'hungry': 4441, 'motivation': 5928, 'eponymous': 3132, 'protecting': 6994, 'concern': 1941, 'deed': 2422, 'globe': 3907, 'renaissance': 7373, 'recognition': 7243, 'liberties': 5252, 'physically': 6628, 'flawless': 3557, 'helpless': 4253, 'creature': 2190, 'displaying': 2700, 'traits': 9202, 'educated': 2963, 'gap': 3785, 'conveyed': 2066, 'raping': 7162, 'graphic': 3988, 'entered': 3102, 'charges': 1568, 'departure': 2501, 'unusually': 9456, 'retelling': 7469, 'charms': 1578, 'primary': 6905, 'sustain': 8823, 'unremarkable': 9445, '1960s': 54, 'paintings': 6424, 'pornography': 6771, 'romeo': 7616, 'juliet': 4943, 'posters': 6806, 'explaining': 3278, 'detailed': 2562, 'earliest': 2917, 'recognized': 7246, 'organs': 6322, 'politically': 6745, 'admitted': 286, 'sacrificed': 7699, 'brunette': 1251, 'catherine': 1480, 'jewel': 4881, 'bon': 1103, 'viewpoint': 9576, 'prone': 6975, 'choosing': 1644, 'profession': 6940, 'kay': 4981, 'hubby': 4420, 'slugs': 8252, 'lands': 5119, 'pond': 6752, 'premises': 6862, 'rage': 7120, 'required': 7417, 'reasoning': 7224, 'achieve': 221, 'causing': 1489, 'breathe': 1197, 'vehicles': 9532, 'stevens': 8560, 'practically': 6824, 'housewife': 4414, 'ambitions': 440, 'hopes': 4383, 'boost': 1122, 'bursts': 1306, 'adequately': 275, 'hates': 4185, 'inexplicable': 4617, 'forces': 3626, 'yard': 9954, 'scoop': 7815, 'unfolds': 9397, '2nd': 121, 'sybil': 8850, 'wong': 9888, 'closing': 1769, 'dirt': 2648, 'misty': 5838, 'infected': 4621, 'cynicism': 2295, 'contract': 2041, 'donald': 2764, 'crisp': 2215, 'ian': 4466, 'london': 5369, 'concepts': 1940, 'ignoring': 4496, 'liar': 5250, 'regards': 7297, 'vast': 9522, 'portraying': 6781, 'bleak': 1045, 'vomit': 9630, 'farmer': 3391, 'pigs': 6648, 'slaughtered': 8217, 'drove': 2851, 'keeper': 4987, 'transform': 9207, 'styles': 8677, 'winters': 9846, 'corporate': 2102, 'breathtaking': 1200, 'players': 6696, 'accompany': 208, 'compliment': 1920, 'ferrell': 3458, 'randall': 7143, 'nod': 6123, 'frozen': 3723, 'knocks': 5063, 'shelter': 8036, 'winter': 9845, 'explore': 3292, 'goals': 3918, 'span': 8366, 'enormous': 3094, 'ranting': 7155, 'labor': 5094, 'illusion': 4507, 'gather': 3804, 'outfit': 6350, 'stack': 8461, 'oil': 6261, 'planes': 6677, 'cleverly': 1734, 'marathon': 5551, 'cracking': 2159, 'shattering': 8021, 'feet': 3444, 'montage': 5890, 'astonished': 676, 'sr': 8453, 'barbara': 830, 'bach': 783, 'revolting': 7499, 'abortion': 169, 'explode': 3283, 'blazing': 1044, 'stunk': 8667, 'parody': 6466, 'page': 6413, 'rodney': 7594, 'annoyingly': 506, 'carl': 1427, 'sandy': 7740, 'misfits': 5819, 'surreal': 8797, 'liners': 5304, 'widely': 9806, 'overs': 6381, 'ralph': 7134, 'ads': 295, 'belly': 941, 'scattered': 7792, 'seduction': 7880, 'politician': 6746, 'partly': 6479, 'cameo': 1358, 'trademark': 9187, 'alfred': 388, 'newman': 6093, 'chicago': 1618, 'novelty': 6176, 'pamela': 6440, 'cells': 1508, 'crash': 2167, 'golf': 3936, 'hong': 4365, 'glover': 3913, 'michelle': 5758, 'pam': 6439, 'offend': 6241, 'aging': 340, 'dawn': 2369, 'assassins': 654, 'geniuses': 3834, 'ignorance': 4491, 'attitudes': 710, 'desperation': 2548, 'dumber': 2881, 'noises': 6127, 'immensely': 4531, 'grandma': 3980, 'division': 2729, 'district': 2719, 'filmography': 3502, 'outfits': 6351, 'cousin': 2144, 'chuckles': 1672, 'beaver': 901, 'patch': 6499, 'mon': 5873, 'innuendo': 4658, 'mpaa': 5947, 'sir': 8169, 'dragon': 2802, 'nowadays': 6178, 'peaceful': 6532, 'torch': 9151, 'sophie': 8326, 'chorus': 1653, 'mills': 5783, 'achievement': 223, 'loss': 5401, 'moonstruck': 5900, 'loretta': 5393, 'ma': 5460, 'contact': 2018, 'estranged': 3167, 'victory': 9565, 'carries': 1444, '1938': 29, 'psychiatrist': 7017, 'throats': 9059, 'developing': 2576, 'machine': 5467, 'bones': 1110, 'resulted': 7460, 'infidelity': 4624, 'dogs': 2749, 'stops': 8592, 'awakens': 757, 'emerge': 3026, 'boasts': 1084, 'shifting': 8047, 'energy': 3070, 'lend': 5215, 'captures': 1407, 'opened': 6284, 'closure': 1770, 'appropriately': 570, 'strict': 8626, 'health': 4210, 'dung': 2886, 'goer': 3925, 'thankful': 9000, 'boyfriends': 1163, 'somethings': 8315, 'seasons': 7860, 'abc': 161, 'rewrite': 7509, 'dynamic': 2906, 'unpredictable': 9439, 'strung': 8648, 'valerie': 9500, 'sitcoms': 8176, 'val': 9498, 'drastically': 2812, 'jenny': 4868, 'plots': 6711, 'homer': 4353, 'centers': 1517, 'cancelled': 1375, 'righteous': 7536, 'wanna': 9677, 'pause': 6518, 'genuine': 3841, 'beloved': 944, 'hannah': 4135, 'protest': 6997, 'uninspiring': 9411, 'haunted': 4190, 'luis': 5440, 'sterile': 8555, 'nathan': 6026, 'rosenstrasse': 7637, 'altered': 420, 'von': 9631, 'nazis': 6041, 'press': 6877, 'bonding': 1107, 'storytelling': 8599, 'remembers': 7362, 'twenties': 9315, 'pianist': 6631, 'preserved': 6874, 'germans': 3850, 'da': 2298, 'connor': 1986, 'rescued': 7422, 'jews': 4884, 'tormented': 9153, 'lean': 5185, 'graphics': 3989, 'internet': 4733, 'comeback': 1848, 'cats': 1483, 'votes': 9637, 'website': 9752, 'tolerate': 9122, 'rural': 7679, 'fathers': 3411, 'youngest': 9976, 'jealousy': 4859, 'alcohol': 379, 'consumed': 2017, 'draws': 2817, 'areas': 586, 'sorrow': 8335, 'forgetting': 3637, 'anguish': 483, 'sixties': 8185, 'seventies': 7970, 'dyke': 2904, 'talentless': 8883, 'barry': 842, 'involve': 4773, 'ingrid': 4641, 'employ': 3042, 'cushing': 2282, 'vignettes': 9580, 'elliot': 3011, 'admirable': 277, 'creeps': 2200, 'shout': 8089, 'wax': 9729, 'horrified': 4395, 'seed': 7882, 'pertwee': 6587, 'difficulties': 2619, 'basis': 859, 'zizek': 9990, 'statement': 8513, 'hang': 4129, 'marx': 5599, 'ego': 2978, 'id': 4474, 'illustrate': 4508, 'instance': 4685, 'position': 6790, 'vertigo': 9549, 'kim': 5031, 'novak': 6172, 'analysis': 459, 'demands': 2471, 'hopper': 4386, 'evidently': 3195, 'kyle': 5089, 'garnered': 3798, 'favourite': 3419, 'bay': 881, 'pervert': 6589, 'illustrates': 4510, 'separated': 7933, 'dogma': 2748, 'ethics': 3172, 'pretending': 6885, 'capitalism': 1394, 'consideration': 2001, 'jaws': 4854, 'considers': 2004, 'chaplin': 1556, 'cinemas': 1680, 'psychological': 7020, 'reject': 7312, 'hilton': 4296, 'combines': 1844, 'philosophy': 6612, 'fields': 3475, 'conveniently': 2057, 'expert': 3272, 'clip': 1754, 'schumacher': 7806, 'di': 2589, 'sweat': 8830, 'nest': 6082, 'occasions': 6225, 'shrink': 8105, 'layers': 5173, 'leigh': 5212, 'flowing': 3586, 'representing': 7409, 'meanings': 5668, 'cake': 1345, 'associates': 666, 'cleaning': 1728, 'satisfaction': 7761, 'enjoying': 3089, 'rules': 7670, 'regard': 7293, 'throwaway': 9062, 'toys': 9180, 'hippie': 4303, 'focuses': 3596, 'palma': 6436, 'writes': 9940, 'interpretations': 4737, 'accepts': 199, 'observations': 6211, 'spitting': 8416, 'functions': 3740, 'fools': 3617, 'http': 4419, 'east': 2928, 'fix': 3539, 'cusack': 2281, 'pacino': 6405, 'standout': 8486, 'mayor': 5648, 'clouds': 1775, 'ties': 9080, 'setup': 7966, 'fable': 3328, 'web': 9751, 'info': 4631, 'substitute': 8696, 'flavor': 3554, 'dud': 2870, 'bridget': 1213, 'existed': 3245, 'hackman': 4091, 'caine': 1344, 'hoffman': 4330, 'effortlessly': 2974, 'mail': 5495, 'bbc': 882, 'triumph': 9274, 'environmental': 3124, 'borrow': 1136, 'lessons': 5233, 'groundbreaking': 4039, 'polar': 6735, 'friendly': 3711, 'demise': 2475, 'significantly': 8130, 'impending': 4539, 'plight': 6708, 'endured': 3065, '22': 113, '2009': 109, 'slapped': 8209, 'orchestral': 6314, 'bites': 1016, 'youngsters': 9977, 'verge': 9541, 'oriented': 6325, 'climate': 1746, 'skipping': 8200, 'dvds': 2900, 'netflix': 6084, 'programs': 6952, 'sappy': 7747, 'darth': 2355, 'vader': 9494, 'rocket': 7589, 'scientist': 7811, 'fascination': 3398, 'elephant': 2999, 'throat': 9058, 'courage': 2138, 'paradise': 6451, 'addressing': 270, 'eggs': 2977, 'brooding': 1238, 'solving': 8311, 'communication': 1880, 'healing': 4209, 'rounded': 7645, 'delight': 2456, 'listing': 5322, 'mothers': 5923, 'predator': 6841, 'prey': 6897, 'fairytale': 3359, 'crowd': 2239, '1933': 24, 'objects': 6202, 'blown': 1074, 'update': 9462, 'wells': 9769, 'kevin': 5005, 'bacon': 796, 'bio': 1004, 'consequences': 1995, 'neighbor': 6065, 'linda': 5297, 'shue': 8107, 'supernatural': 8767, 'lab': 5091, 'remakes': 7354, 'collector': 1821, 'cliches': 1737, 'sections': 7875, 'extent': 3314, 'pleasures': 6706, 'exterior': 3315, 'handicapped': 4121, 'locker': 5358, 'colleague': 1815, 'indifference': 4603, 'corridors': 2109, 'courtesy': 2142, 'insulted': 4695, 'reaction': 7193, 'chief': 1622, 'drowned': 2852, 'failing': 3349, 'progresses': 6955, 'hitting': 4322, 'burnt': 1304, 'flame': 3544, 'climb': 1749, 'watches': 9718, 'exceptionally': 3221, 'discovered': 2672, 'fx': 3758, 'spectacular': 8384, 'superman': 8765, 'scan': 7778, 'pokemon': 6731, 'kinky': 5041, 'survivors': 8811, 'instant': 4687, 'gorilla': 3953, 'foreboding': 3629, 'elevator': 3002, 'yelling': 9963, 'ing': 4638, 'systems': 8864, 'cheers': 1602, 'realm': 7219, 'literature': 5328, 'varying': 9521, 'degrees': 2447, 'sparks': 8370, 'realization': 7213, 'colleagues': 1816, 'exploring': 3295, 'tested': 8993, 'method': 5744, 'progressed': 6954, 'solved': 8310, 'results': 7462, 'proceed': 6925, 'assistance': 662, 'cloak': 1757, 'solution': 8308, 'dilemma': 2626, 'provoking': 7011, 'progression': 6956, 'destined': 2553, 'happier': 4144, 'visceral': 9603, 'involvement': 4775, 'sarah': 7749, 'josh': 4920, 'greg': 4014, 'carter': 1449, 'joey': 4898, 'kramer': 5076, 'fireworks': 3525, 'enjoyment': 3090, 'alongside': 416, 'genuinely': 3842, 'jerry': 4872, 'tempted': 8962, 'merit': 5726, 'bombed': 1100, 'pans': 6444, 'mindset': 5790, 'elizabeth': 3008, 'claiming': 1702, 'salvage': 7726, 'witnessing': 9866, 'depressed': 2511, 'noir': 6125, 'relentlessly': 7334, 'disappear': 2652, 'thompson': 9036, 'pulling': 7033, 'surgery': 8789, 'dinosaur': 2635, 'behold': 927, 'commendable': 1865, 'puzzle': 7069, 'boyish': 1164, 'suspended': 8817, 'absorbing': 180, 'irs': 4797, 'transparent': 9217, 'blowing': 1073, 'aforementioned': 324, 'suspend': 8816, 'researcher': 7425, 'deliberate': 2451, 'galore': 3774, 'outdoor': 6348, 'confined': 1960, 'stages': 8466, 'assignment': 660, 'irwin': 4799, 'bridge': 1211, 'glorious': 3910, 'prehistoric': 6854, 'epics': 3127, 'ruled': 7669, 'bud': 1265, 'kingdom': 5038, 'tourist': 9170, 'trap': 9222, 'penned': 6552, 'demented': 2473, 'genres': 3836, 'inducing': 4608, 'laser': 5139, 'worries': 9911, 'floating': 3576, 'menacing': 5710, 'grandpa': 3982, 'prince': 6908, 'mitchum': 5842, 'sarcastic': 7752, 'wondrous': 9887, 'extraordinary': 3318, 'fascinated': 3396, 'flamboyant': 3543, 'unexpectedly': 9389, 'bold': 1095, 'builds': 1281, 'balloon': 817, 'invested': 4763, 'robbed': 7571, 'ordered': 6317, 'wagon': 9647, 'bell': 939, 'disco': 2669, 'bound': 1149, 'havoc': 4194, 'slower': 8248, 'ominous': 6279, 'weirdness': 9761, 'garner': 3797, 'scientific': 7810, 'nope': 6138, 'horses': 4400, 'einstein': 2983, 'transfer': 9205, 'cheer': 1599, 'athletic': 684, 'anne': 497, 'loyal': 5426, 'screenwriters': 7838, 'creations': 2185, 'celine': 1506, 'mighty': 5767, 'tradition': 9188, 'thief': 9022, 'authenticity': 735, 'request': 7415, 'understandably': 9370, 'momentum': 5872, 'nerves': 6080, 'apple': 557, 'louise': 5410, 'adele': 273, 'pauline': 6517, 'emotionally': 3034, 'crippled': 2213, 'librarian': 5254, 'mysteriously': 5998, 'sensual': 7922, 'acclaim': 205, 'patterns': 6511, 'remain': 7348, 'easier': 2926, 'kane': 4967, 'absorbed': 179, 'expects': 3261, 'equivalent': 3137, 'posey': 6787, 'graduate': 3972, 'stripper': 8636, 'hysterical': 4464, 'crossed': 2234, 'apprentice': 564, 'contestants': 2030, 'springer': 8447, 'showcase': 8093, 'nbc': 6042, 'stabbing': 8458, 'simmons': 8143, 'sword': 8848, 'voted': 9635, 'charity': 1571, 'hmm': 4325, 'survivor': 8810, 'survives': 8808, 'aids': 350, 'sheep': 8027, 'mutated': 5988, 'gays': 3809, 'outbreak': 6345, 'stefan': 8538, 'san': 7735, 'francisco': 3678, 'investigate': 4764, 'investigation': 4766, 'simultaneously': 8152, 'investigator': 4767, 'rounds': 7646, 'jeffrey': 4865, 'prominent': 6965, 'levy': 5245, 'drops': 2850, 'replay': 7398, 'mario': 5564, 'del': 2448, 'characterizations': 1564, 'grady': 3973, 'phenomenon': 6604, 'paranoia': 6456, 'generated': 3826, 'radical': 7117, 'renowned': 7382, 'sublime': 8687, 'iconic': 4471, 'splendid': 8418, 'inability': 4561, 'glenda': 3902, 'miniseries': 5797, 'borderline': 1128, 'muni': 5961, 'sells': 7903, '1930': 20, 'rainer': 7126, 'wang': 9676, 'lung': 5447, 'lasting': 5141, 'crisis': 2214, 'slave': 8218, 'franklin': 3683, 'asia': 638, 'breakthrough': 1193, 'cuban': 2257, 'cities': 1692, 'lifeless': 5261, 'arc': 578, 'melodrama': 5696, 'yea': 9957, 'root': 7629, 'needlessly': 6059, 'dedicated': 2419, 'complains': 1908, 'slavery': 8219, 'starving': 8510, 'thirties': 9032, 'scarface': 7786, 'wrath': 9929, 'monkey': 5879, 'connolly': 1985, 'beliefs': 931, 'shoe': 8067, 'dump': 2883, 'monstrosity': 5888, 'scarecrow': 7782, 'mama': 5517, 'stabbed': 8457, 'brow': 1247, 'freddy': 3694, 'krueger': 5081, 'murdering': 5968, 'imagined': 4520, 'massacre': 5608, 'iii': 4499, 'wig': 9815, 'www': 9952, 'budgets': 1271, 'inexperienced': 4616, 'limitations': 5291, 'drunken': 2861, 'ongoing': 6281, 'lester': 5234, 'judy': 4937, 'lush': 5451, 'drawings': 2815, 'titular': 9109, 'kung': 5085, 'fu': 3729, 'corn': 2099, 'graves': 3996, 'frenchman': 3702, 'executives': 3239, 'quote': 7102, 'lethal': 5237, 'seats': 7862, 'drives': 2845, 'stricken': 8625, 'wtf': 9946, 'gloomy': 3908, 'continuous': 2039, 'circles': 1687, 'geek': 3812, 'circuit': 1688, 'chapters': 1558, 'mock': 5854, 'excessive': 3225, 'jackass': 4826, 'chopped': 1646, 'losers': 5398, 'stunts': 8672, 'wont': 9889, 'argento': 588, 'romero': 7617, 'tobe': 9110, 'hooper': 4373, 'misunderstood': 5839, 'teachers': 8924, 'bullying': 1289, 'destroying': 2557, 'slut': 8253, 'chases': 1581, 'cunningham': 2267, 'scarecrows': 7783, '250': 117, '1988': 83, 'upcoming': 9461, 'currently': 2275, 'warm': 9689, 'cleaner': 1727, 'rank': 7152, 'witnessed': 9864, 'cow': 2151, 'pickup': 6638, 'engine': 3076, 'refuses': 7290, 'vengeance': 9535, 'tag': 8873, 'forgiven': 3640, 'giggle': 3874, 'dare': 2342, 'achieving': 226, 'bastard': 863, 'afterward': 330, 'karate': 4970, 'pants': 6445, 'wrenching': 9932, 'rave': 7179, 'exorcist': 3252, 'rose': 7635, 'kinda': 5033, 'redneck': 7268, 'snappy': 8278, 'daylight': 2372, 'mcbain': 5650, 'commented': 1868, 'victor': 9562, 'explosions': 3297, 'walken': 9660, 'eventual': 3188, 'revolution': 7500, 'explosive': 3298, 'civilians': 1697, 'wounded': 9923, 'rebels': 7230, 'cases': 1456, 'creep': 2198, 'intensely': 4713, 'unlikeable': 9429, 'waking': 9656, 'closed': 1763, 'awry': 772, 'pursued': 7059, 'linked': 5308, 'stations': 8519, 'cope': 2086, 'stating': 8517, 'rats': 7176, 'werewolf': 9775, 'pleased': 6703, 'unnerving': 9436, 'lurking': 5450, 'switched': 8844, 'commentary': 1867, 'reveals': 7485, 'ken': 4995, 'campbell': 1366, 'inspector': 4677, 'stroke': 8637, 'spooky': 8433, '28': 120, 'homeless': 4352, 'intentional': 4717, 'watcher': 9717, 'static': 8516, 'travelling': 9233, 'eccentric': 2939, 'tasteless': 8912, 'stretched': 8622, 'researched': 7424, 'teams': 8929, 'cameras': 1362, 'thorn': 9037, 'council': 2121, 'mutant': 5986, 'sins': 8168, 'avoiding': 752, 'recovering': 7255, 'transport': 9219, 'vague': 9495, 'distribution': 2717, 'finishes': 3520, 'addict': 260, 'limbs': 5289, 'shall': 8000, 'damsel': 2318, 'distress': 2715, 'hostel': 4404, 'crop': 2231, 'characterization': 1563, 'potentially': 6811, 'enthralling': 3113, 'dodgy': 2744, 'sensible': 7919, 'blond': 1063, 'grey': 4021, 'similarities': 8140, 'excellence': 3215, 'reminder': 7365, 'scripted': 7843, 'harvey': 4179, 'reliable': 7337, 'lola': 5366, 'inclusion': 4581, 'unsettling': 9448, 'freaky': 3692, 'hi': 4275, 'solo': 8307, 'morris': 5915, 'programming': 6951, 'heather': 4226, 'buster': 1318, 'niece': 6104, 'nephew': 6075, 'interminable': 4730, 'diving': 2728, 'atlantic': 685, 'tiger': 9081, 'fluid': 3589, 'swamp': 8827, 'goo': 3940, 'forest': 3632, 'masterful': 5613, 'foul': 3663, 'tramp': 9203, 'senses': 7916, 'capitalize': 1395, 'rambo': 7137, 'loving': 5419, 'walt': 9669, 'tenant': 8963, 'lively': 5334, 'clarity': 1708, 'helen': 4242, 'graham': 3974, 'toby': 9111, 'adapt': 252, 'deals': 2384, 'subjects': 8686, 'alcoholism': 381, 'reader': 7196, 'bleeding': 1047, 'addiction': 262, 'cameraman': 1361, 'busy': 1319, 'jovi': 4924, 'derek': 2519, 'dread': 2818, 'creepiness': 2199, 'hides': 4280, 'complement': 1911, 'hunters': 4447, 'net': 6083, 'assigned': 659, 'pursuit': 7062, 'ritual': 7557, 'carpenter': 1438, 'diego': 2610, 'priest': 6901, 'natasha': 6025, 'collins': 1824, 'darius': 2346, 'confirmed': 1963, 'sitcom': 8175, 'laughably': 5152, 'accidental': 203, 'plotted': 6712, 'merits': 5727, 'tarantino': 8902, 'jake': 4837, 'los': 5395, 'seduce': 7878, 'experienced': 3266, 'communicate': 1879, 'sanity': 7743, 'insists': 4675, 'monastery': 5874, 'reeks': 7272, 'smiling': 8266, 'complaints': 1910, 'wet': 9783, 'amused': 454, 'healthy': 4211, 'flames': 3546, 'wallace': 9665, 'housing': 4416, 'mars': 5585, 'assault': 655, 'menu': 5719, 'taped': 8899, 'tonight': 9138, 'rope': 7633, 'rusty': 7689, 'tool': 9142, 'thumb': 9069, 'pit': 6658, 'arrive': 613, 'shotgun': 8084, 'les': 5227, 'fagin': 3346, 'performs': 6572, 'artful': 622, '1968': 61, 'improved': 4558, 'favorites': 3417, 'orphan': 6334, 'proud': 6999, 'mercifully': 5720, 'sunset': 8755, 'faithful': 3361, 'indicate': 4600, 'sings': 8163, 'intentionally': 4718, 'sharon': 8018, 'gently': 3840, 'rude': 7661, 'composer': 1922, 'winner': 9839, 'fond': 3609, 'glossy': 3912, 'hysteria': 4463, 'colours': 1835, 'render': 7374, 'launched': 5158, 'talky': 8891, 'housewives': 4415, 'sensibilities': 7917, 'rivals': 7560, 'flipping': 3574, 'saturday': 7766, 'unappealing': 9342, 'sessions': 7958, 'nightclub': 6108, 'stinks': 8574, 'awarded': 759, 'vulnerable': 9644, 'legacy': 5203, 'intimate': 4745, 'explanations': 3281, 'entrance': 3120, 'provocative': 7010, '1966': 59, 'unrated': 9440, 'edition': 2959, 'marvelous': 5597, 'concentrated': 1935, 'shining': 8052, 'surgeon': 8788, 'shouts': 8091, 'arguments': 593, 'brilliantly': 1220, 'intrigue': 4747, 'shadowy': 7989, 'shortcomings': 8079, 'circumstance': 1689, 'landing': 5117, 'seinfeld': 7894, 'dudley': 2872, 'liza': 5338, 'amitabh': 447, 'akshay': 367, 'kumar': 5084, 'sickness': 8114, 'hospital': 4401, 'shah': 7992, 'bachchan': 784, 'deadpan': 2378, 'riot': 7543, 'contest': 2028, 'judges': 4934, 'grandson': 3984, 'toy': 9179, 'roommate': 7625, 'subtlety': 8702, 'shed': 8025, 'meaningful': 5666, 'tear': 8930, 'overwhelmed': 6388, 'illness': 4505, 'swimming': 8839, 'contributed': 2046, 'proudly': 7000, 'russia': 7685, 'fragile': 3669, 'filled': 3492, 'lap': 5129, 'abrupt': 173, 'bus': 1310, 'strengths': 8619, 'napoleon': 6015, 'scotland': 7822, 'maiden': 5494, 'miranda': 5810, 'richardson': 7519, 'animator': 490, 'tail': 8874, 'mermaid': 5728, 'orleans': 6333, 'carface': 1423, 'itchy': 4816, 'prize': 6920, 'races': 7108, 'quarters': 7082, 'vocal': 9622, 'composed': 1921, 'paced': 6402, 'habit': 4089, 'feeding': 3439, 'pizza': 6666, 'draft': 2798, 'benefits': 951, 'detracts': 2570, 'dom': 2756, 'contribution': 2048, 'satanic': 7757, 'package': 6407, 'buffs': 1274, 'marvel': 5595, 'artistry': 629, 'diane': 2598, 'keaton': 4984, 'vanessa': 9510, 'redgrave': 7267, 'glenn': 3903, 'simplistic': 8148, 'claire': 1704, 'danes': 2329, 'hugh': 4425, 'repressed': 7411, 'fifties': 3481, 'toni': 9137, 'collette': 1823, 'commitment': 1874, 'moss': 5919, 'guaranteed': 4054, 'le': 5178, 'lila': 5286, 'convinces': 2074, 'connecting': 1978, 'butterfly': 1325, 'interestingly': 4726, 'noticeable': 6162, 'ocean': 6233, 'wicked': 9803, 'tease': 8932, 'threats': 9050, 'nemesis': 6073, 'breathless': 1199, 'servant': 7949, 'cypher': 2296, 'react': 7192, 'hamlet': 4113, 'encouraged': 3054, 'noticing': 6165, 'ppv': 6822, 'nurse': 6193, 'annie': 498, 'whiny': 9794, 'luc': 5430, 'increase': 4589, 'toss': 9160, 'surfing': 8787, 'enthralled': 3112, 'poke': 6730, 'employee': 3044, 'boss': 1139, 'carell': 1419, 'todays': 9113, 'regrets': 7303, 'uniformly': 9406, 'proverbial': 7003, 'counted': 2123, 'profanity': 6939, 'skipped': 8199, 'frat': 3686, 'rely': 7345, 'crass': 2171, 'bela': 929, 'lugosi': 5439, 'chandler': 1546, 'cap': 1388, 'idol': 4490, 'locale': 5348, 'resources': 7439, 'extensive': 3313, 'ace': 220, 'fried': 3709, 'chicken': 1620, 'drivers': 2844, 'elvira': 3016, 'mode': 5857, 'flows': 3587, 'promote': 6970, 'proving': 7009, 'nails': 6007, 'seal': 7852, 'coffin': 1801, 'revival': 7496, 'boogie': 1117, 'deliverance': 2462, 'platform': 6689, 'distinctive': 2707, 'dressing': 2831, 'censors': 1512, 'pose': 6784, 'iq': 4779, 'feat': 3429, 'dim': 2628, 'witted': 9868, 'expertise': 3273, 'staging': 8467, 'lieutenant': 5259, 'columbo': 1837, 'alan': 371, 'helps': 4254, 'entry': 3122, 'lt': 5428, 'knocked': 5061, 'kidnapping': 5020, 'wastes': 9712, 'exceedingly': 3214, 'ingredients': 4640, 'puzzling': 7071, 'loyalty': 5427, 'signs': 8131, 'gradually': 3971, 'plants': 6686, 'clues': 1780, 'mac': 5462, 'attend': 703, 'exaggeration': 3208, 'rooney': 7628, 'moe': 5864, 'schedule': 7798, 'online': 6282, 'perception': 6560, 'souls': 8344, 'insults': 4697, 'fortunate': 3655, 'sam': 7728, 'se': 7849, 'announced': 500, 'coffee': 1800, 'apologize': 541, 'tech': 8933, 'consequence': 1994, 'blew': 1053, 'rumors': 7671, 'cd': 1494, 'shakespearean': 7997, 'dukes': 2878, 'spinning': 8408, 'arm': 598, 'shoots': 8074, 'roads': 7568, 'animations': 489, '1953': 46, 'lotr': 5404, 'battles': 874, 'piano': 6632, 'hardcore': 4151, 'martians': 5591, 'fetish': 3464, 'editor': 2960, 'employs': 3046, 'towns': 9175, 'mustache': 5985, 'timothy': 9096, 'hines': 4298, 'drift': 2834, 'photographer': 6620, 'saints': 7716, 'records': 7253, 'lane': 5122, 'establishing': 3163, 'martian': 5590, 'monologue': 5882, 'tooth': 9145, 'dazzling': 2375, 'potent': 6809, 'byron': 1334, 'gravity': 3998, 'muscle': 5975, 'glimpses': 3905, 'fleeing': 3561, 'amateurs': 430, 'expresses': 3307, 'accomplishment': 212, 'necessity': 6052, 'entering': 3103, 'wandering': 9674, 'ram': 7135, 'deck': 2414, 'sky': 8204, 'roughly': 7643, 'casts': 1469, 'budgeted': 1270, 'misguided': 5821, 'modest': 5862, 'worm': 9907, '150': 12, 'nerve': 6079, 'applied': 558, 'ferry': 3459, '64': 141, 'injustice': 4652, 'bravo': 1183, 'plans': 6682, 'freaking': 3690, 'strings': 8633, 'imho': 4523, 'switches': 8845, '1992': 88, 'circa': 1685, 'booze': 1126, 'warnings': 9696, 'millennium': 5778, 'prepare': 6863, 'mans': 5546, 'flag': 3541, 'troops': 9279, 'sellers': 7901, 'pray': 6832, 'jeff': 4864, 'lifelong': 5262, 'spade': 8363, 'comparable': 1888, 'waving': 9728, 'thunder': 9071, 'bow': 1154, 'constraints': 2014, 'uniforms': 9407, 'riders': 7528, 'macabre': 5463, 'delicious': 2454, 'timmy': 9094, 'improvement': 4559, 'hysterically': 4465, 'awfulness': 769, 'enlightenment': 3093, 'victorian': 9564, 'fay': 3422, 'wray': 9930, 'catastrophe': 1473, '1940s': 32, 'float': 3575, 'comics': 1859, 'uncanny': 9349, 'predicted': 6848, 'horrors': 4398, 'macbeth': 5465, 'respected': 7442, 'promised': 6967, '98': 155, 'captive': 1404, '1990': 85, 'axe': 774, 'committing': 1877, 'gordon': 3950, 'currie': 2276, 'benson': 956, 'mitch': 5840, 'phillip': 6608, 'rhys': 7513, 'hayward': 4200, 'eliminate': 3004, 'fears': 3427, 'resurrection': 7465, 'uma': 9339, 'puppet': 7047, 'secluded': 7865, 'doll': 2751, 'attic': 708, 'eaten': 2933, 'cheerful': 1600, 'learns': 5191, 'statue': 8520, 'venture': 9537, 'prank': 6830, 'tenderness': 8969, 'hairy': 4100, 'yarn': 9955, 'troubles': 9282, 'notices': 6164, 'deception': 2406, 'authors': 739, 'sufficient': 8726, 'elmer': 3014, 'payoff': 6525, 'sleeve': 8229, 'padding': 6412, 'turmoil': 9306, 'vonnegut': 9632, 'roy': 7654, 'papers': 6448, 'bang': 824, 'playwright': 6700, 'authorities': 737, 'climactic': 1745, 'presenting': 6872, 'wonders': 9886, 'israeli': 4810, 'versatile': 9545, 'neglected': 6064, 'whoopi': 9801, 'goldberg': 3931, 'upbeat': 9459, 'shifts': 8048, 'apartheid': 532, 'fairness': 3357, 'mentality': 5712, 'karen': 4972, 'challenges': 1537, 'slows': 8250, 'hayden': 4198, 'encourages': 3055, 'contempt': 2026, 'chew': 1615, 'rubber': 7657, 'mormon': 5910, 'reviewed': 7491, 'outsider': 6364, 'portrayals': 6779, 'followers': 3606, 'robinson': 7582, 'gandhi': 3779, '20th': 110, 'carradine': 1440, 'helm': 4247, 'groups': 4043, 'courtroom': 2143, 'hostile': 4405, 'consist': 2005, 'decline': 2417, 'crown': 2243, 'participants': 6471, 'neglect': 6063, 'robbing': 7576, 'seriousness': 7947, 'creek': 2197, 'terry': 8989, 'brainless': 1171, 'composition': 1923, 'colony': 1828, 'understated': 9373, 'parade': 6450, 'assassination': 653, 'vibe': 9555, 'ravishing': 7182, 'dock': 2735, 'cousins': 2145, 'addressed': 268, 'nail': 6005, 'parodies': 6465, 'acclaimed': 206, 'mel': 5691, 'ha': 4088, 'occult': 6226, 'monotonous': 5884, 'aiming': 355, 'conception': 1939, 'fright': 3715, 'specifically': 8382, 'lizard': 5339, '1945': 37, 'startling': 8508, 'enchanted': 3048, 'heartbreaking': 4218, 'truths': 9292, 'affecting': 317, 'remade': 7347, 'polished': 6742, 'skinned': 8196, 'marcel': 5553, 'pronounced': 6976, 'diverse': 2724, 'skilled': 8192, 'daniel': 2335, 'gloria': 3909, 'louis': 5409, 'skit': 8201, '4th': 135, 'myers': 5992, 'behave': 922, 'wounds': 9924, 'carnage': 1432, 'instincts': 4691, 'hook': 4370, 'slick': 8234, 'segment': 7892, 'sterling': 8556, 'nicole': 6103, 'legendary': 5206, 'pranks': 6831, 'unconventional': 9355, 'stephen': 8544, 'daphne': 2341, 'ho': 4327, 'shines': 8051, 'occurring': 6231, 'registered': 7301, 'settled': 7965, 'melt': 5699, 'error': 3149, 'screened': 7832, 'requisite': 7419, 'boiled': 1094, 'cycle': 2293, 'unsuspecting': 9452, 'combat': 1840, 'mutual': 5991, 'furniture': 3750, 'grisly': 4031, 'downbeat': 2782, 'label': 5092, 'mysteries': 5996, 'humble': 4434, 'macmurray': 5472, 'carole': 1435, 'lombard': 5367, 'dixon': 2732, 'quinn': 7096, 'mitchell': 5841, 'maggie': 5486, 'predictably': 6847, 'inspires': 4682, 'alcoholic': 380, 'convention': 2059, 'slept': 8230, 'joan': 4890, 'fulfill': 3733, 'reflects': 7286, 'engagement': 3074, 'thelma': 9011, 'recurring': 7259, 'wellington': 9768, 'gladiator': 3894, 'fighter': 3483, 'stripped': 8635, 'howard': 4417, 'dish': 2690, 'handy': 4128, 'brits': 1229, 'andre': 466, 'georges': 3845, 'bearing': 888, 'preferred': 6851, 'morality': 5903, '1920': 18, 'fiancé': 3468, 'spells': 8394, 'harold': 4167, 'implied': 4542, 'femme': 3455, 'regain': 7291, 'chong': 1641, 'breed': 1201, 'mankind': 5538, 'kindly': 5034, 'spreading': 8444, 'pals': 6437, 'rogue': 7599, 'dial': 2591, 'careful': 1417, 'earnest': 2921, 'mst3k': 5951, 'crystal': 2255, 'underwear': 9380, 'defeat': 2430, 'melting': 5700, 'iceberg': 4468, 'bogart': 1091, 'palance': 6431, 'meg': 5688, 'residents': 7432, 'radiation': 7116, 'numbing': 6188, 'finely': 3514, 'shares': 8014, 'occurred': 6230, 'shoulder': 8086, 'threatened': 9047, 'stray': 8611, 'bullet': 1285, 'tactics': 8871, 'eve': 3183, 'sheet': 8029, 'tremendously': 9249, 'jonathan': 4915, 'duh': 2875, 'candidates': 1378, 'curtis': 2280, 'sums': 8747, 'concentrate': 1934, 'terrifying': 8983, 'lil': 5285, 'theatres': 9008, 'til': 9085, 'senior': 7911, 'stab': 8456, 'deranged': 2518, 'traumatized': 9229, 'couples': 2137, 'maintaining': 5501, 'conventions': 2061, 'calm': 1354, 'demeanor': 2472, 'ilk': 4501, 'disappears': 2656, 'marshall': 5586, 'options': 6310, 'robots': 7585, 'affleck': 321, 'spell': 8391, 'claw': 1724, 'rolled': 7604, 'protection': 6995, 'boo': 1114, 'kitty': 5050, 'bucket': 1263, 'imaginable': 4515, 'upstairs': 9470, 'couch': 2119, 'therapy': 9020, 'session': 7957, 'nightmares': 6110, 'ensues': 3098, 'curtain': 2279, 'um': 9338, 'boom': 1121, 'mandatory': 5527, 'drained': 2806, 'scarier': 7787, 'photograph': 6618, 'hug': 4422, '1982': 77, 'phillips': 6609, 'immediate': 4528, 'bets': 973, 'maximum': 5644, 'biting': 1017, 'milk': 5776, 'bread': 1187, 'godfather': 3922, 'cheat': 1590, 'carpet': 1439, 'rolls': 7607, 'attended': 705, 'retrospect': 7474, 'leslie': 5230, 'nielsen': 6105, 'upsetting': 9468, 'screwed': 7841, 'sooner': 8324, 'screamed': 7828, 'originals': 6330, 'youthful': 9979, 'uncertain': 9350, 'hes': 4270, 'rampage': 7139, 'robbie': 7575, 'oblivious': 6205, 'realises': 7206, 'hardest': 4154, 'boundaries': 1150, 'pounds': 6814, 'sheets': 8031, 'forgets': 3635, 'smallest': 8257, 'blunt': 1078, 'britney': 1228, 'butchered': 1322, 'serbian': 7940, 'stares': 8496, 'interpretation': 4736, 'exotic': 3253, 'julie': 4942, 'christie': 1663, 'holm': 4345, 'mice': 5753, 'relates': 7317, 'belle': 940, 'counterpart': 2125, 'animators': 491, 'displayed': 2699, 'enormously': 3095, 'romances': 7610, 'portuguese': 6783, 'diversity': 2725, 'gossip': 3956, 'interactions': 4723, 'conceit': 1932, 'projected': 6958, 'ethan': 3171, 'hawke': 4196, 'hooker': 4372, 'traveling': 9232, 'slice': 8233, 'latino': 5149, 'nanny': 6014, 'inform': 4632, 'bout': 1153, 'je': 4857, 'aime': 353, 'ny': 6198, 'separation': 7934, 'yearning': 9960, 'evoke': 3197, 'sadness': 7706, 'prevalent': 6889, 'openly': 6287, 'gamut': 3778, 'christensen': 1659, 'reunion': 7479, 'anton': 520, 'eli': 3003, 'wallach': 9666, 'torment': 9152, 'lo': 5342, 'characteristic': 1561, 'active': 237, 'tended': 8966, 'somber': 8312, 'wheelchair': 9789, 'segments': 7893, 'unhappy': 9403, 'persons': 6584, 'awards': 760, 'praised': 6829, 'clash': 1711, 'inhabitants': 4643, 'precise': 6839, 'chat': 1583, 'sunrise': 8754, 'garcia': 3790, 'natalie': 6024, 'portman': 6775, 'harlem': 4161, 'christina': 1664, 'adorable': 291, 'anniversary': 499, 'directorial': 2645, 'hughes': 4426, 'allan': 399, 'nonexistent': 6135, 'guessed': 4060, 'auteur': 733, 'studies': 8656, 'mira': 5806, 'goods': 3946, 'approaches': 567, 'brenda': 1202, 'conscious': 1992, 'jaded': 4833, 'stakes': 8471, 'medical': 5678, 'medicine': 5679, 'snap': 8277, 'sin': 8153, 'atomic': 689, 'trendy': 9252, 'fashions': 3402, 'sonny': 8321, 'caesar': 1338, 'garde': 3791, 'faded': 3344, 'dealer': 2381, 'tools': 9144, 'joshua': 4921, 'logan': 5360, 'bachelor': 785, 'nut': 6194, 'defeated': 2431, 'sinks': 8167, 'chan': 1543, '1978': 72, 'amuse': 453, 'olds': 6268, 'refers': 7282, 'muslim': 5983, 'prejudice': 6855, 'reflected': 7284, 'deeds': 2423, 'recognise': 7242, 'syndrome': 8862, 'sentimental': 7928, 'warden': 9685, 'chains': 1530, 'inmates': 4653, 'ally': 414, 'veronica': 9543, 'topless': 9148, 'insurance': 4698, 'sans': 7744, 'zoo': 9996, 'feed': 3438, 'monkeys': 5880, 'fanning': 3380, 'drinks': 2838, 'grating': 3993, 'muscular': 5976, 'lance': 5114, 'guest': 4062, 'optimistic': 6308, 'sara': 7748, 'gina': 3882, 'promotion': 6973, 'mocking': 5856, 'depths': 2515, 'violently': 9594, 'region': 7299, 'repertoire': 7392, 'fritz': 3718, 'lang': 5123, 'mesmerizing': 5732, 'practicing': 6827, 'runtime': 7677, 'slipped': 8242, 'coma': 1839, 'numbingly': 6189, 'spring': 8446, 'bickering': 984, 'camps': 1369, 'divorce': 2730, 'manners': 5543, 'dynamics': 2907, 'collar': 1814, 'reincarnation': 7310, 'isolation': 4808, 'alienation': 394, 'hallucinations': 4108, 'notes': 6159, 'psyche': 7014, 'insanity': 4662, 'ballroom': 818, 'craziness': 2176, 'deny': 2496, 'wendy': 9772, 'hats': 4188, 'yikes': 9970, 'forum': 3658, 'layered': 5172, 'menace': 5709, 'stature': 8521, 'essential': 3159, 'explodes': 3284, 'medium': 5683, 'scariest': 7788, 'grotesque': 4037, 'chapter': 1557, '21st': 112, 'gentlemen': 3839, 'fooled': 3615, 'foolish': 3616, 'icy': 4473, 'dont': 2766, 'differently': 2617, 'adaption': 257, 'reviewing': 7494, 'deleted': 2449, 'irritated': 4795, 'yell': 9962, 'caretaker': 1421, 'marvin': 5598, 'informative': 4634, 'positions': 6791, 'compositions': 1924, 'frequently': 3706, 'cocaine': 1793, 'basketball': 861, 'characteristics': 1562, 'perceive': 6557, 'primal': 6903, 'angeles': 473, 'backdrop': 786, 'produces': 6933, 'agents': 337, 'sites': 8178, 'abound': 170, 'metropolis': 5746, 'revolver': 7502, 'transformed': 9209, 'timon': 9095, 'pumbaa': 7038, 'simba': 8138, 'suggested': 8729, 'taught': 8915, 'declared': 2415, 'elephants': 3000, 'gathered': 3805, 'gas': 3800, 'wing': 9837, 'joins': 4906, 'duck': 2869, 'genie': 3832, 'ernie': 3144, 'cheech': 1597, 'stiller': 8568, 'willy': 9827, 'roth': 7639, 'arguing': 591, 'glued': 3916, 'offerings': 6248, 'enduring': 3066, 'broderick': 1233, 'mixes': 5845, 'foremost': 3631, 'contestant': 2029, 'unlucky': 9431, 'tightly': 9084, 'kicking': 5012, 'dutch': 2895, 'occupied': 6228, 'discussions': 2680, 'supreme': 8781, 'fellini': 3448, 'darkly': 2350, 'wrapped': 9928, 'st': 8455, 'dennis': 2490, 'quaid': 7073, 'fires': 3524, 'debra': 2396, 'caron': 1437, 'vince': 9588, 'gilligan': 3879, 'orders': 6318, 'widmark': 9809, 'federal': 3436, 'cia': 1674, 'unwilling': 9458, 'imply': 4544, 'domino': 2762, 'principle': 6912, 'convict': 2069, 'summed': 8745, 'serials': 7944, 'phyllis': 6626, 'kent': 4999, 'lois': 5364, 'mole': 5867, 'controlling': 2052, 'acceptance': 196, 'transition': 9212, 'harm': 4164, 'steel': 8535, 'edges': 2951, 'furry': 3751, 'fabric': 3329, 'dangers': 2333, 'luke': 5442, 'releases': 7331, 'additional': 265, 'arrival': 612, 'puzzled': 7070, 'moderately': 5860, 'flight': 3571, 'rookie': 7623, 'outing': 6352, 'sexist': 7975, 'sibling': 8110, 'simpson': 8150, 'brando': 1176, 'buttons': 1327, 'depicted': 2506, 'nicely': 6097, 'patricia': 6507, 'disappoint': 2657, 'screens': 7836, 'swiss': 8842, 'sport': 8435, 'rushes': 7682, 'patient': 6505, 'controls': 2053, 'education': 2964, 'skeptical': 8188, 'crashes': 2169, 'snuff': 8288, 'lingering': 5306, 'goldblum': 3932, 'inflicted': 4626, 'gabriel': 3760, 'fairy': 3358, 'moron': 5912, 'paranoid': 6457, 'forms': 3648, 'scenarios': 7794, 'translated': 9215, 'premiered': 6859, 'melissa': 5695, 'boris': 1134, 'karloff': 4974, 'rukh': 7667, 'respectively': 7444, 'expressing': 3308, 'converted': 2064, 'gackt': 3761, 'hyde': 4458, 'rea': 7187, 'positively': 6793, 'fundamental': 3741, 'beth': 969, 'frightened': 3716, 'branagh': 1173, 'winslet': 9843, 'kenneth': 4997, 'lemmon': 5213, 'charged': 1567, 'fury': 3753, 'timeless': 9091, 'horizon': 4387, 'cagney': 1342, 'pickford': 6635, 'rooted': 7630, 'subtleties': 8701, 'olivier': 6271, 'tower': 9172, 'dane': 2328, 'emperor': 3038, 'festivals': 3462, 'pressure': 6879, 'beckham': 902, 'denmark': 2489, 'lopez': 5389, 'cutter': 2289, 'services': 7955, 'brat': 1179, 'benny': 954, 'meadows': 5661, 'villagers': 9584, 'prejudices': 6856, 'lay': 5171, 'allegedly': 401, 'framing': 3673, 'divided': 2726, 'depict': 2505, 'legitimate': 5209, 'mall': 5515, 'casper': 1459, 'slob': 8245, 'eugene': 3174, 'ward': 9684, 'hoot': 4374, 'myth': 6001, 'documents': 2742, 'crook': 2228, 'astonishingly': 678, 'lansbury': 5127, 'portions': 6774, 'rehearsal': 7307, 'vanishing': 9512, 'betrayed': 971, 'gentle': 3837, 'edison': 2954, 'pivotal': 6664, 'timberlake': 9088, 'journalist': 4922, 'spacey': 8362, 'justin': 4962, 'almighty': 415, 'organization': 6320, 'loony': 5385, 'dylan': 2905, 'mcdermott': 5653, 'pollack': 6749, 'sniper': 8281, 'operation': 6294, 'cocky': 1796, 'gaining': 3769, 'unravel': 9441, 'sinister': 8164, 'musician': 5981, 'realistically': 7210, 'winners': 9840, 'flashes': 3550, 'cary': 1453, 'weakness': 9738, 'squad': 8450, 'sporting': 8436, 'matt': 5631, 'teamed': 8928, 'believer': 936, 'ebay': 2937, 'switching': 8846, 'corleone': 2097, 'distracted': 2712, 'frances': 3675, 'dante': 2340, 'burke': 1299, 'jumbo': 4946, 'narrated': 6016, 'dense': 2492, 'descent': 2524, 'rosario': 7634, 'sensation': 7912, 'filthy': 3505, 'bass': 862, 'paragraph': 6452, 'adrian': 294, 'maya': 5645, 'varied': 9518, 'evolved': 3201, 'spit': 8414, 'examined': 3211, 'audio': 721, 'valid': 9501, 'classroom': 1719, 'verbal': 9539, 'delightfully': 2459, 'condescending': 1951, 'click': 1741, 'expose': 3299, 'conveys': 2068, 'bartender': 846, 'threads': 9045, 'submit': 8689, 'henchman': 4255, 'overlong': 6375, 'resort': 7438, 'hating': 4186, 'disturbed': 2720, 'winded': 9832, 'industrial': 4611, 'otto': 6342, 'adulthood': 298, 'rejects': 7314, 'knees': 5053, 'symbolism': 8856, 'cohesive': 1804, 'spontaneous': 8430, 'employees': 3045, 'clumsily': 1781, 'outline': 6355, 'drum': 2857, 'bias': 980, 'marlene': 5574, 'dietrich': 2612, 'poison': 6729, 'monk': 5878, 'runaway': 7673, 'boyer': 1161, '1936': 27, 'religion': 7341, 'wardrobe': 9686, 'organized': 6321, 'admirer': 282, 'basil': 857, 'rathbone': 7171, 'annoyance': 503, 'heston': 4273, 'soylent': 8358, 'charlton': 1575, 'jar': 4849, 'jam': 4838, 'apartments': 534, 'loren': 5392, 'reads': 7200, 'colin': 1811, '1997': 93, 'lindsey': 5299, 'distinct': 2705, 'overweight': 6387, 'fallon': 3367, 'insignificant': 4671, 'guru': 4077, 'stumble': 8663, 'extraordinarily': 3317, 'tina': 9098, 'raises': 7131, 'comparisons': 1894, 'cheering': 1601, 'vacuous': 9493, 'korean': 5074, 'vastly': 9523, 'elm': 3013, 'paperhouse': 6447, 'warmth': 9691, 'duel': 2873, 'chills': 1629, 'ounce': 6344, 'manipulate': 5534, 'designer': 2538, 'longing': 5377, 'richly': 7520, 'mcdonald': 5654, 'masterson': 5619, 'incarnation': 4568, 'seeks': 7887, 'clint': 1753, 'eastwood': 2930, 'bounty': 1151, 'similarity': 8141, 'woo': 9890, 'japan': 4847, 'kris': 5078, '2006': 106, 'trent': 9253, 'teaches': 8925, 'penn': 6551, 'crispin': 2216, 'repeats': 7391, 'vera': 9538, 'frantic': 3685, 'dancers': 2324, '1937': 28, 'participate': 6472, 'stumbling': 8666, 'shine': 8050, 'tokyo': 9118, 'depression': 2513, 'renders': 7377, 'disliked': 2693, 'favourites': 3420, 'promoted': 6971, 'cbs': 1493, 'jo': 4889, 'evokes': 3198, 'vividly': 9621, 'exhibit': 3242, 'tones': 9135, 'lastly': 5142, 'tracy': 9185, 'peters': 6594, 'physics': 6629, 'serum': 7948, 'stella': 8540, 'perfected': 6562, 'wisely': 9852, 'adventurous': 306, 'laboratory': 5095, 'institution': 4692, '85': 149, 'spotted': 8441, 'landmark': 5118, 'filmmaking': 3501, 'nutty': 6197, 'geeky': 3814, 'fodder': 3598, 'maniacal': 5532, 'opposing': 6302, 'shannon': 8007, 'rotting': 7641, 'cracks': 2160, 'grateful': 3992, 'joker': 4909, 'mister': 5836, 'bourne': 1152, 'tender': 8968, 'traitor': 9201, 'ultimatum': 9336, 'supremacy': 8780, 'array': 609, 'macy': 5473, 'sutherland': 8824, 'prevented': 6891, 'tent': 8974, 'address': 267, 'phrases': 6625, 'featurette': 3433, 'italy': 4815, 'mythical': 6002, 'demonic': 2478, 'revive': 7497, 'pairing': 6428, 'gregory': 4015, 'neurotic': 6087, 'archive': 584, 'wes': 9778, 'craven': 2172, 'consisted': 2006, 'pocket': 6717, 'hapless': 4138, 'patton': 6512, 'tanks': 8896, 'dive': 2722, 'superiors': 8764, 'peck': 6536, 'macarthur': 5464, 'korea': 5073, 'robbins': 7577, 'stepping': 8547, 'enlightened': 3092, 'finest': 3515, 'president': 6875, 'truman': 9286, 'defining': 2439, 'surrender': 8799, 'fought': 3662, 'savior': 7772, 'integrated': 4701, 'lauren': 5161, 'bacall': 782, 'obtain': 6219, 'coal': 1787, '1943': 35, 'placement': 6669, 'products': 6938, 'justification': 4959, 'midler': 5764, 'stanwyck': 8490, 'groan': 4033, 'goodman': 3944, 'excesses': 3224, 'referred': 7280, 'origins': 6331, '19': 17, 'gestures': 3855, 'weight': 9759, 'artistically': 628, 'canvas': 1386, 'baseketball': 851, 'airplane': 362, 'fart': 3395, 'sober': 8290, 'july': 4945, 'vaughn': 9525, 'invented': 4760, 'hometown': 4355, 'invent': 4759, 'transplant': 9218, 'egg': 2976, 'coarse': 1788, 'absurdity': 183, 'delirious': 2460, 'confines': 1961, 'january': 4846, 'alter': 419, 'polly': 6750, 'snippets': 8283, 'illegal': 4503, 'possession': 6798, 'addresses': 269, 'popularity': 6765, 'heroin': 4267, 'thoughtful': 9040, 'unnamed': 9432, '1959': 52, 'flair': 3542, 'helpful': 4251, 'steiner': 8539, 'mobster': 5853, 'experts': 3275, 'rousing': 7648, 'naval': 6038, 'canyon': 1387, 'tepid': 8975, 'hamilton': 4112, 'hoover': 4375, '101': 5, 'ninjas': 6117, 'supply': 8770, 'ambition': 439, 'doses': 2776, 'fatale': 3408, 'nuclear': 6183, 'holocaust': 4347, 'recommended': 7249, 'felix': 3446, '1976': 70, 'milland': 5777, 'downtown': 2790, 'rosemary': 7636, 'university': 9423, 'maurice': 5641, 'cure': 2269, 'abraham': 171, 'lincoln': 5296, 'badness': 801, 'honorable': 4367, 'defense': 2434, 'villa': 9582, 'fuel': 3730, 'erik': 3141, 'knack': 5052, 'isabelle': 4801, 'puppets': 7048, 'stylized': 8679, 'phoenix': 6613, 'profits': 6946, 'esther': 3166, 'obsessive': 6217, 'entries': 3121, 'cannes': 1381, 'disorder': 2697, 'spiritual': 8413, 'overt': 6384, 'christine': 1665, 'lecture': 5197, 'pecker': 6537, 'gerard': 3847, 'depardieu': 2499, 'critique': 2225, 'cemetery': 1510, 'insects': 4663, 'overnight': 6379, 'emerges': 3028, 'coppola': 2089, 'cowardly': 2153, 'sheen': 8026, 'versus': 9548, 'shaped': 8010, 'rivers': 7562, '1950': 42, 'arch': 579, 'maturity': 5638, 'boards': 1083, 'spine': 8407, 'exclusively': 3230, 'convenient': 2056, 'prop': 6978, 'crashing': 2170, 'topics': 9147, 'czech': 2297, 'sentiments': 7930, 'tourists': 9171, 'grim': 4025, 'mirrors': 5812, 'bombing': 1101, 'uniform': 9405, 'eagle': 2912, 'drugged': 2855, 'farewell': 3389, 'ghostly': 3861, 'der': 2517, 'tigerland': 9082, 'farrell': 3394, 'overseas': 6382, 'discipline': 2668, 'harmony': 4166, 'weary': 9747, 'superhero': 8762, 'abbott': 160, 'breast': 1194, 'fruit': 3724, 'owns': 6399, 'doris': 2773, 'opus': 6311, 'raven': 7180, 'bust': 1316, 'adaptations': 254, 'firm': 3527, 'participation': 6474, 'offbeat': 6240, 'confirm': 1962, 'framed': 3671, 'optimism': 6307, 'downward': 2791, 'kansas': 4968, 'gathering': 3806, 'threatens': 9049, 'profoundly': 6948, 'concentration': 1937, 'nuanced': 6181, 'conveying': 2067, 'published': 7029, 'improbable': 4556, 'austin': 730, 'berenger': 959, 'satisfactory': 7762, 'reign': 7309, 'completed': 1913, 'coen': 1799, 'nolte': 6129, 'attendant': 704, 'madeleine': 5475, 'transitions': 9213, 'gena': 3820, 'rowlands': 7653, 'juliette': 4944, 'binoche': 1003, 'willem': 9820, 'dafoe': 2301, 'gus': 4078, 'sant': 7745, 'sketches': 8190, 'schlock': 7802, 'orphanage': 6335, 'spirits': 8412, 'deceased': 2402, 'guardian': 4057, 'hans': 4136, 'worrying': 9913, 'nuances': 6182, 'invention': 4761, 'operate': 6291, 'sentenced': 7925, 'diana': 2597, 'rodriguez': 7595, 'pauses': 6519, 'traps': 9224, 'cain': 1343, '1990s': 86, 'determination': 2566, 'demonstrated': 2481, 'shameful': 8003, 'warren': 9700, 'maintains': 5502, 'adelaide': 272, 'concludes': 1947, 'vivian': 9619, 'blaine': 1029, 'belt': 945, 'detroit': 2571, 'trumpet': 9287, 'misogynistic': 5824, 'vargas': 9515, 'stones': 8585, 'spaces': 8360, 'bittersweet': 1021, 'blooded': 1068, 'rhyme': 7512, 'fewer': 3466, 'enhance': 3082, 'criticized': 2223, 'apt': 575, 'cinematographer': 1682, 'heap': 4212, 'adopt': 289, 'denial': 2484, 'apes': 536, 'pointing': 6726, 'scooby': 7814, 'doo': 2767, 'shaggy': 7991, 'pirates': 6656, 'cox': 2156, 'hanna': 4134, 'jared': 4850, 'lennon': 5219, 'dench': 2483, 'upside': 9469, 'interpret': 4735, 'timed': 9090, 'stoned': 8584, 'kermit': 5002, 'frog': 3719, 'casted': 1465, 'vintage': 9591, 'paxton': 6520, 'artsy': 632, 'wolves': 9876, 'virtual': 9598, 'olympia': 6274, 'dukakis': 2876, 'reiser': 7311, 'presume': 6882, 'shoved': 8092, 'cassavetes': 1460, 'incidents': 4575, 'agatha': 331, 'enchanting': 3049, 'reserved': 7430, 'respond': 7446, 'unforgettable': 9398, 'angst': 482, 'paths': 6503, 'rocks': 7591, 'slaughter': 8216, 'loop': 5386, 'kline': 5051, 'predecessor': 6842, 'harlow': 4163, '1941': 33, '1985': 80, 'slim': 8239, 'columbia': 1836, 'rko': 7565, 'irving': 4798, 'culminating': 2261, 'interior': 4728, 'genetic': 3831, 'crashed': 2168, 'clarke': 1710, 'duncan': 2885, 'helena': 4243, 'bonham': 1111, 'relating': 7318, 'champion': 1541, 'cerebral': 1523, 'acquire': 230, 'arrogance': 617, 'maverick': 5642, 'immortal': 4535, 'evolution': 3199, 'confuse': 1972, 'integral': 4700, 'revolt': 7498, 'technological': 8939, 'gadgets': 3763, 'villainous': 9586, 'gung': 4074, 'roman': 7608, 'distant': 2704, 'odyssey': 6239, 'confronting': 1970, 'colonel': 1826, 'cliffhanger': 1744, 'diary': 2599, 'ease': 2925, 'astronaut': 680, 'modesty': 5863, 'management': 5522, 'trained': 9198, 'elvis': 3017, 'inherited': 4647, 'baker': 808, 'tango': 8894, 'lifts': 5267, 'resume': 7463, 'traveled': 9231, 'sigh': 8122, 'masks': 5604, 'coke': 1807, 'flew': 3567, 'surround': 8801, 'basinger': 858, 'deserted': 2530, 'chemical': 1607, 'unconscious': 9354, 'suburban': 8704, 'plate': 6688, 'della': 2467, 'twins': 9320, 'parking': 6463, 'wu': 9947, 'formed': 3646, 'toro': 9155, 'racing': 7111, 'depends': 2504, 'heavens': 4229, 'btk': 1259, 'sinking': 8166, 'ideal': 4476, 'tasty': 8914, 'nifty': 6106, 'teddy': 8942, 'rewind': 7508, 'hypnotic': 4462, 'thug': 9067, 'albums': 378, 'parks': 6464, 'owners': 6397, 'assist': 661, 'smashed': 8262, 'amok': 448, 'grumpy': 4052, 'classified': 1717, 'gangs': 3782, 'planned': 6680, 'rainbow': 7125, 'bronson': 1236, 'intellect': 4703, 'anchor': 461, 'intact': 4699, 'exploit': 3286, 'omen': 6278, 'replace': 7394, 'crenna': 2202, 'ruby': 7659, 'salesman': 7721, 'centre': 1519, 'amy': 458, 'consisting': 2009, 'parties': 6477, 'senator': 7907, 'amber': 435, 'conniving': 1984, 'rightly': 7538, 'lampoon': 5113, 'baked': 807, 'persona': 6579, 'manos': 5545, 'walsh': 9668, 'troma': 9277, 'chef': 1606, 'hosts': 4406, 'springs': 8448, 'reruns': 7420, 'underwater': 9379, 'kurosawa': 5086, 'waits': 9653, 'unrelated': 9444, 'strikingly': 8631, 'correctness': 2108, 'wealth': 9740, 'unleashed': 9425, 'masturbation': 5621, 'variation': 9516, 'stills': 8569, 'masses': 5609, 'arranged': 608, 'duke': 2877, 'rests': 7458, 'eric': 3140, 'aristocrat': 595, 'chaos': 1554, 'brink': 1224, 'impeccable': 4538, '18th': 16, 'ali': 389, 'restrained': 7456, 'gray': 3999, 'combining': 1845, 'samurai': 7734, 'host': 4402, 'psychic': 7018, 'disguised': 2686, 'uber': 9329, 'vincenzo': 9590, 'natali': 6023, 'cube': 2258, 'gee': 3811, 'roommates': 7626, 'newcomer': 6090, 'dern': 2522, 'unclear': 9352, 'judgment': 4936, 'discernible': 2667, 'reel': 7273, 'campus': 1370, 'tenants': 8964, 'populated': 6766, 'morbid': 5906, 'planted': 6685, 'hints': 4301, 'reid': 7308, 'darren': 2354, 'paula': 6515, 'peculiar': 6539, 'kusturica': 5088, 'astaire': 675, 'fontaine': 3612, 'heiress': 4239, 'cab': 1335, 'ira': 4780, 'choreographer': 1651, 'revolving': 7504, 'fog': 3599, 'leap': 5186, 'balcony': 812, 'askey': 643, 'appreciated': 562, 'dopey': 2772, 'honeymoon': 4364, 'parrot': 6467, 'hawaii': 4195, 'doctors': 2737, 'assure': 673, 'logo': 5363, 'someday': 8314, 'computers': 1930, 'marine': 5562, 'jigsaw': 4885, 'sheridan': 8041, 'secondary': 7867, 'jet': 4879, 'li': 5248, 'unstable': 9449, 'fighters': 3484, 'jeep': 4863, 'intrusive': 4757, 'shaolin': 8008, 'despise': 2550, 'spoiling': 8427, 'triad': 9254, 'vigilante': 9579, 'topped': 9149, 'applause': 556, 'rewarding': 7507, 'randy': 7147, 'sherlock': 8043, 'holmes': 4346, 'billing': 996, 'henchmen': 4256, 'dangerously': 2332, '1935': 26, 'maureen': 5640, 'boyle': 1165, 'hale': 4102, 'desk': 2543, 'gable': 3759, '1939': 30, 'silverman': 8137, 'experiencing': 3268, 'spectacle': 8383, 'attributed': 716, 'arrest': 610, 'waited': 9650, 'ustinov': 9486, 'malden': 5512, 'corporation': 2103, 'undertones': 9377, 'marries': 5582, 'caper': 1392, 'nuns': 6192, 'affects': 320, 'subconscious': 8682, 'taboo': 8867, 'challenged': 1536, 'mash': 5601, 'terrorism': 8986, 'palestinian': 6433, 'israel': 4809, 'occupation': 6227, 'tel': 8951, 'aviv': 749, 'gadget': 3762, 'wrestler': 9933, 'compromise': 1928, 'resist': 7433, 'tempered': 8958, 'voiced': 9624, 'biblical': 983, 'slater': 8215, 'foley': 3601, 'whipped': 9796, 'trauma': 9227, 'laurel': 5160, 'hardy': 4157, 'sid': 8115, 'herman': 4263, 'lily': 5288, 'responds': 7447, 'mummy': 5958, 'icons': 4472, 'phantom': 6601, 'olsen': 6273, 'brawl': 1184, 'leno': 5220, 'prototype': 6998, 'fills': 3495, 'devious': 2584, 'locke': 5356, 'suzanne': 8825, 'café': 1340, 'dreyfuss': 2833, 'businessman': 1315, 'describes': 2526, 'sondra': 8318, 'cohen': 1802, 'seventh': 7969, 'bye': 1332, 'cecil': 1495, 'stimulating': 8571, 'simpler': 8146, 'inter': 4720, 'midst': 5766, 'superstar': 8768, 'travolta': 9237, 'greed': 4008, 'complications': 1919, 'ollie': 6272, 'roach': 7566, 'infant': 4620, 'marital': 5567, 'proportions': 6985, 'boots': 1125, 'frenetic': 3703, 'digging': 2622, 'compares': 1891, 'bava': 879, 'slapping': 8210, 'ogre': 6259, 'virginia': 9596, 'ceiling': 1497, 'interviewed': 4742, 'owl': 6394, 'holland': 4341, 'palm': 6435, 'observation': 6210, 'afghanistan': 323, 'decency': 2404, 'exposes': 3301, 'zatoichi': 9984, 'raid': 7122, 'trend': 9251, 'keitel': 4991, 'che': 1585, 'depicts': 2510, 'cuba': 2256, 'intellectually': 4705, 'ang': 470, 'holt': 4348, 'participating': 6473, 'convincingly': 2076, 'maguire': 5492, 'surpassed': 8790, 'supporters': 8773, 'efficient': 2972, 'gallery': 3773, 'liam': 5249, 'neeson': 6061, 'rob': 7570, 'stereo': 8549, 'braveheart': 1181, 'brent': 1205, 'gig': 3872, 'widower': 9812, '1942': 34, 'unanswered': 9341, 'marrying': 5584, 'strongest': 8640, 'captivating': 1403, 'theo': 9015, 'association': 667, 'temptation': 8961, 'sucking': 8716, 'interspersed': 4740, 'keys': 5008, 'gere': 3848, 'allison': 409, 'stardust': 8494, 'fierce': 3478, 'attacking': 696, 'seagal': 7851, 'promoting': 6972, 'data': 2358, 'dexter': 2588, 'judged': 4932, 'extremes': 3322, 'blames': 1035, 'bondage': 1106, 'mack': 5470, '1920s': 19, 'lasts': 5143, 'entitled': 3119, 'rewarded': 7506, 'anchorman': 462, 'jenna': 4866, 'rehash': 7306, 'jock': 4894, 'knives': 5059, 'clerk': 1731, 'register': 7300, 'posh': 6788, 'jameson': 4840, 'vault': 9526, 'rear': 7220, 'washed': 9706, 'linear': 5302, 'contemplate': 2024, 'pleasing': 6704, 'triple': 9272, 'expertly': 3274, 'bean': 884, 'assembly': 657, 'gillian': 3878, 'phil': 6605, 'halt': 4109, 'wipe': 9847, 'hayes': 4199, 'inch': 4571, 'hulk': 4429, 'taker': 8877, 'shelves': 8037, 'hudson': 4421, 'swords': 8849, 'burden': 1295, 'basket': 860, 'jewelry': 4882, 'pin': 6652, 'enhances': 3084, 'polite': 6743, 'arkin': 597, 'reunite': 7480, 'vienna': 9568, 'socialist': 8293, 'speaker': 8374, 'allied': 406, 'document': 2738, 'mannerisms': 5542, 'unemployed': 9386, 'longtime': 5379, 'radar': 7115, 'malone': 5516, '1983': 78, 'curse': 2277, 'toole': 9143, 'telly': 8956, 'bruno': 1252, 'delve': 2468, 'wwi': 9950, 'twentieth': 9316, 'heritage': 4262, 'honour': 4368, 'cunning': 2266, 'jersey': 4873, '1934': 25, 'plagued': 6673, 'mines': 5791, 'colonial': 1827, 'explores': 3294, 'relaxed': 7327, 'rider': 7527, 'sacred': 7697, 'indiana': 4598, 'lightweight': 5276, '1952': 45, 'prisoner': 6917, 'kerr': 5003, 'dusty': 2894, 'commander': 1862, 'rifle': 7534, 'incidentally': 4574, 'russians': 7687, 'custody': 2283, 'archie': 581, 'pierce': 6645, 'aunts': 726, 'attenborough': 702, 'theodore': 9016, 'towers': 9173, 'margaret': 5556, '1991': 87, 'september': 7935, 'monday': 5875, 'ripping': 7547, 'spencer': 8395, 'imitating': 4525, 'epitome': 3131, 'grain': 3976, 'henderson': 4257, 'failures': 3352, 'owe': 6391, 'suggestive': 8732, 'sammy': 7732, 'poetry': 6722, 'items': 4818, 'paz': 6527, 'vega': 9529, 'scarlett': 7790, 'johansson': 4899, 'carson': 1448, 'shirts': 8058, 'spoon': 8434, 'mentor': 5718, 'cal': 1346, 'fernando': 3457, 'penelope': 6548, 'uptight': 9471, 'spears': 8377, 'farrah': 3393, 'fawcett': 3421, 'russo': 7688, 'reportedly': 7402, 'polanski': 6734, 'lyrical': 5458, 'frenzy': 3704, 'lamarr': 5109, 'transported': 9220, 'mourning': 5935, 'swim': 8838, 'fuss': 3754, 'thinner': 9029, 'hogan': 4331, 'likeable': 5279, 'horn': 4388, 'whip': 9795, 'hyper': 4461, 'quentin': 7086, 'grinch': 4027, 'scum': 7848, 'attributes': 717, 'accessible': 201, 'shady': 7990, 'berkeley': 961, 'associate': 664, 'veterans': 9552, 'coop': 2083, 'allegory': 402, 'metaphor': 5741, 'echoes': 2941, 'collective': 1820, 'barnes': 838, 'blackmail': 1025, 'baffled': 802, 'foxes': 3667, 'enhanced': 3083, 'tensions': 8973, 'bolivia': 1096, 'soderbergh': 8298, 'guevara': 4064, 'homicidal': 4356, 'sweeping': 8833, 'sydney': 8851, 'qualifies': 7076, 'benjamin': 952, 'memoirs': 5704, 'outlook': 6356, '1949': 41, 'mclaglen': 5659, 'guinness': 4070, 'omar': 6277, 'spread': 8443, 'barbra': 832, 'streisand': 8617, 'malcolm': 5511, 'exudes': 3323, 'bart': 845, 'venezuela': 9534, 'coup': 2134, 'hugo': 4427, 'equals': 3135, 'chavez': 1584, 'coward': 2152, 'psychologist': 7022, 'diamond': 2596, 'evans': 3182, 'lunch': 5445, 'busby': 1311, 'deservedly': 2533, 'ash': 635, 'gi': 3863, 'aims': 356, 'neutral': 6088, 'inevitably': 4615, 'advanced': 301, 'bonanza': 1104, 'weaknesses': 9739, 'rigid': 7540, 'arnie': 605, 'bauer': 878, 'welch': 9764, 'kings': 5039, 'cos': 2113, 'eyre': 3327, 'bruckheimer': 1250, 'shift': 8046, 'nomination': 6131, 'unsatisfying': 9446, 'filth': 3504, '2005': 105, 'callahan': 1350, 'medieval': 5680, 'norris': 6145, 'leon': 5224, 'skits': 8202, 'michaels': 5755, 'outrageously': 6359, 'diaz': 2600, 'adapting': 256, 'partition': 6478, 'domination': 2760, 'crummy': 2250, 'bishop': 1011, 'interplay': 4734, 'contrasting': 2044, 'werewolves': 9776, 'apply': 560, 'bing': 1002, 'crosby': 2232, 'fleming': 3564, 'casual': 1470, 'cedric': 1496, 'glance': 3897, 'sleepwalkers': 8227, 'brady': 1169, 'robertson': 7580, 'picnic': 6639, 'bless': 1050, 'deliciously': 2455, 'clive': 1756, 'actuality': 246, 'cindy': 1678, 'energetic': 3069, 'hamill': 4111, 'amidst': 446, 'sematary': 7904, 'billie': 995, 'limp': 5294, 'respectable': 7441, 'vibrant': 9556, 'sights': 8124, 'bryan': 1257, 'whale': 9785, 'flamenco': 3545, 'reported': 7401, 'tyler': 9324, 'grounds': 4041, 'khan': 5009, 'excels': 3218, 'govinda': 3963, 'variations': 9517, '1965': 58, 'moody': 5898, '700': 143, 'ada': 249, 'hungarian': 4440, 'fairbanks': 3355, 'preminger': 6860, 'gypsy': 4087, 'jacques': 4832, 'dynamite': 2908, 'grass': 3991, '1957': 50, 'collaboration': 1812, 'voyage': 9639, 'meteor': 5742, 'fondness': 3611, 'exhilarating': 3243, 'clay': 1725, 'connects': 1981, 'locales': 5349, 'grieving': 4023, 'outta': 6366, 'bloodbath': 1067, 'todd': 9114, 'soup': 8350, 'stealth': 8531, '1964': 57, 'hesitation': 4272, 'hardened': 4152, 'eliminated': 3005, 'kristofferson': 5080, 'victoria': 9563, 'gruff': 4051, 'grip': 4028, 'deemed': 2424, 'pullman': 7034, 'gellar': 3816, 'flea': 3559, '21': 111, 'digress': 2625, 'understands': 9372, 'kilmer': 5030, 'fisher': 3532, 'tickets': 9075, 'muted': 5990, 'retro': 7473, 'skywalker': 8205, 'wheels': 9790, 'soprano': 8329, 'lighter': 5270, 'largest': 5135, 'schneider': 7803, 'mastroianni': 5620, 'blink': 1056, 'angelina': 474, 'jolie': 4912, 'coolest': 2082, 'cracker': 2158, 'elder': 2986, 'increasing': 4590, '1974': 68, 'raines': 7127, 'eleanor': 2988, 'quintessential': 7097, 'newly': 6092, 'chiba': 1617, 'connections': 1980, 'lure': 5448, 'walters': 9671, 'iranian': 4782, 'oriental': 6324, 'establish': 3161, 'fleet': 3562, 'bake': 806, 'pasolini': 6484, 'espionage': 3156, 'amid': 445, 'taut': 8916, 'defy': 2445, 'mamet': 5518, 'jurassic': 4955, 'lavish': 5164, 'spelling': 8393, 'mattei': 5632, 'prostitution': 6990, 'anita': 494, 'zombi': 9992, 'snowman': 8286, 'frost': 3722, 'sly': 8254, 'resurrected': 7464, 'macdonald': 5466, 'hockey': 4329, 'decoration': 2418, 'toxic': 9178, 'laurie': 5163, 'addicted': 261, 'denouement': 2491, 'envy': 3125, 'fuller': 3736, 'corky': 2096, 'sources': 8353, 'wider': 9807, 'debbie': 2394, 'connie': 1983, 'sorcery': 8331, 'borrows': 1138, 'hector': 4233, 'preferably': 6850, 'flee': 3560, 'nightmarish': 6111, 'giants': 3866, 'zabriskie': 9981, 'restraint': 7457, 'daria': 2344, 'clockwork': 1759, '27': 119, 'mega': 5689, 'freely': 3698, 'errol': 3148, 'flynn': 3592, 'gardner': 3794, 'sweetheart': 8835, 'sammi': 7730, 'posed': 6785, 'salt': 7725, 'zodiac': 9991, 'lommel': 5368, 'iv': 4820, 'boogeyman': 1116, 'mo': 5850, 'definite': 2440, 'lends': 5216, 'shatner': 8020, 'answering': 511, 'dentist': 2494, 'gooding': 3943, 'colman': 1825, 'othello': 6341, 'restored': 7455, 'cockney': 1794, 'exposing': 3302, 'compound': 1925, 'thrust': 9066, 'kinnear': 5042, 'lara': 5131, 'architect': 582, 'pleasantly': 6702, 'avoids': 753, 'urgency': 9474, 'sleuth': 8231, 'ensuing': 3099, 'irresistible': 4793, '1940': 31, 'contacts': 2019, 'dash': 2356, 'robotic': 7584, 'randolph': 7144, 'oz': 6400, 'plummer': 6715, 'greene': 4013, 'emma': 3030, 'nailed': 6006, '500': 137, 'splatter': 8417, 'soles': 8305, 'phantasm': 6600, 'aura': 727, 'boobs': 1115, 'busey': 1312, 'transformers': 9210, 'wb': 9734, 'transforms': 9211, 'banks': 826, 'lightning': 5274, 'permanent': 6576, 'terrorist': 8987, 'disappearance': 2653, 'muslims': 5984, 'reckless': 7241, 'elegance': 2994, 'diver': 2723, 'transferred': 9206, 'atlantis': 686, 'tarzan': 8906, 'sassy': 7754, 'rourke': 7647, 'expedition': 3262, 'approximately': 573, 'stevenson': 8561, 'expectation': 3257, 'knights': 5058, 'quirks': 7098, 'symbols': 8857, 'europeans': 3179, 'carrey': 1441, 'seuss': 7967, '26': 118, 'hopkins': 4385, 'soulless': 8343, 'joyous': 4926, 'rita': 7554, 'zany': 9983, 'babysitter': 781, 'clone': 1760, 'armageddon': 599, 'sang': 7742, 'unfamiliar': 9393, 'exploding': 3285, 'championship': 1542, 'happenings': 4142, 'matches': 5624, 'masquerading': 5606, 'hilary': 4292, 'asylum': 682, 'andrews': 468, 'sidney': 8120, 'lumet': 5443, 'irene': 4785, 'jude': 4930, 'begun': 920, 'cloth': 1771, 'hopeful': 4379, 'thaw': 9004, 'sanders': 7737, 'deanna': 2387, 'siblings': 8111, 'sailor': 7713, 'forgiveness': 3641, 'colourful': 1834, 'poses': 6786, 'marisa': 5566, 'duff': 2874, 'grips': 4030, 'tomei': 9128, '1963': 56, 'wendt': 9771, 'conrad': 1988, 'danced': 2322, 'melancholy': 5692, 'brides': 1210, 'spinal': 8406, 'angelo': 475, '1931': 22, 'suave': 8680, 'ceremony': 1524, 'worldwide': 9906, 'astronauts': 681, 'disasters': 2663, 'rockets': 7590, 'missions': 5832, 'programme': 6950, 'gangsters': 3784, 'caprica': 1397, 'bsg': 1258, 'cyborg': 2291, 'chevy': 1614, 'shocks': 8065, 'thurman': 9073, 'ivan': 4821, 'payne': 6524, 'izzard': 4823, 'climbs': 1751, 'raunchy': 7178, 'angie': 478, 'dickinson': 2603, 'distinctly': 2708, 'capote': 1396, 'continuously': 2040, 'hickock': 4276, 'bombs': 1102, 'engrossing': 3081, 'stark': 8499, 'attending': 706, 'vengeful': 9536, 'marines': 5563, 'prostitutes': 6989, 'feared': 3426, '1946': 38, 'chairman': 1533, 'voodoo': 9633, 'practices': 6826, 'economy': 2943, 'article': 624, 'mcgregor': 5657, 'visitors': 9612, 'allies': 407, 'irresponsible': 4794, 'ivy': 4822, 'conroy': 1989, 'bettie': 976, 'harron': 4172, 'gretchen': 4019, 'mol': 5865, 'magazines': 5485, 'miami': 5752, 'denied': 2485, 'dwight': 2902, 'frye': 3728, 'curiously': 2272, 'lionel': 5310, 'atwill': 718, 'melvyn': 5701, 'admirably': 278, 'bats': 871, '1932': 23, 'manic': 5533, 'faye': 3423, 'lowe': 5422, 'ambiance': 436, 'crowe': 2242, 'therapist': 9019, 'advances': 302, 'analyze': 460, 'sensitivity': 7921, 'garland': 3796, '1954': 47, 'denying': 2497, 'notions': 6168, 'fiennes': 3477, 'haunting': 4191, 'stalwart': 8479, 'virginity': 9597, 'longoria': 5378, 'bakshi': 809, 'hammerhead': 4115, 'forsythe': 3652, 'combs': 1846, 'sharks': 8017, 'ants': 523, 'lovingly': 5420, 'reception': 7239, 'daniels': 2336, 'igor': 4497, 'rex': 7510, 'fantastically': 3384, 'nicky': 6101, 'coleman': 1810, 'pretends': 6886, 'dolph': 2755, 'lundgren': 5446, 'creasy': 2179, 'coverage': 2147, 'downside': 2789, 'stirring': 8576, 'tricked': 9261, 'shootings': 8072, 'dealers': 2382, 'warrant': 9699, 'wan': 9672, 'hartman': 4178, 'playful': 6697, 'sissy': 8171, 'manufactured': 5549, 'blessed': 1051, 'defines': 2438, 'englund': 3080, 'looney': 5384, 'powell': 6817, 'paired': 6427, 'mildred': 5772, 'bert': 965, 'brien': 1216, 'entertainer': 3108, 'biko': 993, 'tcm': 8920, 'hadley': 4093, 'sirk': 8170, 'barman': 837, 'competently': 1902, 'gilbert': 3876, 'networks': 6086, 'lam': 5108, 'opponents': 6298, 'chow': 1656, 'beckinsale': 903, 'hanzo': 4137, 'trusted': 9289, 'jolly': 4913, 'snakes': 8276, 'bigfoot': 987, 'lorre': 5394, 'amoral': 449, 'cena': 1511, 'shawn': 8024, 'carlito': 1429, 'subtitled': 8698, 'goings': 3929, 'governor': 3962, 'romano': 7613, 'forbes': 3622, 'depend': 2502, 'corman': 2098, 'kaufman': 4980, 'dodge': 2743, 'munchies': 5959, 'fassbinder': 3403, 'unfinished': 9394, 'geeks': 3813, 'captivated': 1402, 'achieves': 225, 'townsend': 9176, 'luxury': 5454, 'zealand': 9985, 'tide': 9076, 'pistol': 6657, 'gibson': 3867, 'biker': 991, 'commando': 1864, 'retrieve': 7472, 'wilder': 9817, 'subsequently': 8693, 'wendigo': 9770, 'dandy': 2327, 'alvin': 426, 'fido': 3473, 'dental': 2493, 'corbin': 2093, 'feinstone': 3445, 'bernsen': 964, 'tolkien': 9123, 'prophet': 6984, 'heartwarming': 4223, 'melody': 5698, 'fence': 3456, 'informer': 4636, 'aussie': 728, 'thailand': 8998, 'smuggling': 8274, 'tomb': 9127, '400': 131, 'ritchie': 7555, 'kindness': 5035, 'kalifornia': 4965, 'meter': 5743, 'duchovny': 2868, 'everett': 3190, 'operatic': 6292, 'sentinel': 7931, 'pete': 6592, 'affections': 319, 'lithgow': 5329, 'dares': 2343, 'barney': 839, 'stallone': 8478, 'cruella': 2247, 'transvestite': 9221, 'alexandra': 386, 'beta': 968, 'wesley': 9779, 'snipes': 8282, 'stoltz': 8581, 'enigmatic': 3085, 'myrna': 5994, 'loy': 5425, 'brendan': 1203, 'erika': 3142, 'marquis': 5577, 'gomez': 3937, 'cassel': 1461, 'dalton': 2310, 'rochester': 7586, 'bronte': 1237, 'zelah': 9986, 'conflicted': 1965, 'clarence': 1707, 'davies': 2367, 'regal': 7292, '1944': 36, 'sleeper': 8224, 'gremlins': 4016, 'cursed': 2278, 'masterfully': 5614, 'potter': 6812, 'worms': 9908, 'acknowledged': 229, 'janitor': 4845, 'elliott': 3012, 'warhols': 9688, 'admiration': 279, 'garfield': 3795, 'projection': 6959, 'denis': 2487, 'curly': 2273, 'blob': 1058, 'mcqueen': 5660, '1958': 51, 'stiles': 8567, 'katie': 4979, 'finney': 3522, 'widowed': 9811, 'nacho': 6004, 'farnsworth': 3392, 'unfairly': 9392, 'sixteen': 8183, 'aspirations': 649, 'pirate': 6655, 'surrealism': 8798, 'kathryn': 4977, 'dunst': 2888, 'pegg': 6544, 'shaun': 8022, 'kirsten': 5045, 'megan': 5690, 'mathieu': 5629, 'holden': 4334, 'chen': 1609, 'policemen': 6739, 'awareness': 762, 'hanks': 4133, 'cinematographic': 1683, 'zhang': 9989, 'voting': 9638, 'austen': 729, 'ealing': 2913, 'bosses': 1140, 'dahmer': 2304, 'cbc': 1492, 'psychologically': 7021, 'gladly': 3895, 'sabretooth': 7693, 'vic': 9557, 'elegant': 2995, 'geisha': 3815, 'viggo': 9578, 'mortensen': 5918, 'aztec': 776, 'chimney': 1630, 'puerto': 7030, 'knightley': 5057, 'uneasy': 9384, 'snatch': 8279, 'liu': 5331, 'noam': 6121, 'complexities': 1916, 'caroline': 1436, 'doyle': 2792, 'impressively': 4554, 'lucio': 5433, 'glee': 3901, 'italians': 4814, 'expanded': 3255, 'batwoman': 877, 'rupert': 7678, 'compassionate': 1896, 'devotion': 2587, 'postman': 6807, 'shaq': 8011, 'ranger': 7149, 'riff': 7533, 'schemes': 7800, 'nana': 6012, 'rudd': 7660, 'lindsay': 5298, 'sloane': 8244, '1947': 39, 'bennett': 953, 'infectious': 4622, 'unsuccessful': 9450, 'reese': 7274, 'witherspoon': 9861, 'volumes': 9629, 'finch': 3510, 'declares': 2416, 'liz': 5337, 'boarding': 1082, 'immersed': 4532, 'achievements': 224, 'tremors': 9250, 'prophecy': 6983, 'pathos': 6502, 'hobgoblins': 4328, 'candle': 1379, 'guided': 4066, 'shin': 8049, 'illustrated': 4509, 'electronic': 2993, 'sylvia': 8853, 'sheila': 8032, 'christy': 1668, 'gwyneth': 4084, 'paltrow': 6438, 'ewan': 3202, 'baron': 840, 'leary': 5192, 'hazzard': 4202, 'email': 3019, 'boxes': 1158, 'jessie': 4877, 'cradle': 2161, 'hunky': 4443, 'thunderbirds': 9072, 'blondell': 1065, 'maugham': 5639, 'manchu': 5526, 'engineer': 3077, 'complained': 1906, 'jose': 4918, 'aniston': 493, 'crouse': 2237, 'mantegna': 5548, 'yeti': 9969, 'mostel': 5920, 'carnival': 1433, 'shore': 8077, 'shaw': 8023, 'existential': 3248, 'talkie': 8888, 'manga': 5529, 'avant': 745, 'islam': 4803, 'meyers': 5750, 'arizona': 596, 'kidman': 5017, 'cassie': 1463, 'adored': 293, 'lili': 5287, 'crooks': 2230, 'liotta': 5312, 'pia': 6630, 'dale': 2308, 'gage': 3765, 'dismiss': 2695, 'dustin': 2893, 'voight': 9627, 'ratso': 7177, 'sopranos': 8330, 'gandolfini': 3780, 'legion': 5208, 'poet': 6720, 'chess': 1611, 'studied': 8655, 'mastermind': 5615, 'harlin': 4162, 'rooker': 7622, 'northam': 6147, 'gilliam': 3877, 'wits': 9867, 'realist': 7208, 'chang': 1547, 'hara': 4148, 'alicia': 391, 'barton': 847, 'kamal': 4966, 'mcadams': 5649, 'cillian': 1676, 'missile': 5829, 'unhinged': 9404, 'transcends': 9204, 'naschy': 6021, 'sho': 8059, 'kolchak': 5070, 'mcgavin': 5656, 'norwegian': 6150, 'philo': 6610, 'vance': 9509, 'edmund': 2962, 'edith': 2957, 'conductor': 1955, 'levant': 5242, 'singin': 8160, 'virtues': 9601, 'foch': 3593, 'haines': 4097, 'backwoods': 794, 'grease': 4001, 'revelations': 7487, 'quantum': 7080, 'dillon': 2627, 'gertrude': 3853, 'coburn': 1792, 'peckinpah': 6538, 'lds': 5177, 'jackman': 4829, 'melinda': 5694, 'sox': 8357, 'divine': 2727, 'cyborgs': 2292, 'clara': 1706, 'hiv': 4323, 'pfeiffer': 6598, 'waterfall': 9722, 'tess': 8990, 'sasquatch': 7753, 'conquest': 1987, 'rapture': 7164, 'heavenly': 4228, 'winston': 9844, 'maintained': 5500, 'blaise': 1031, 'carla': 1428, 'cristina': 2217, 'burgess': 1296, 'meredith': 5724, 'unborn': 9348, 'cheung': 1613, 'isabel': 4800, 'galaxy': 3772, 'regime': 7298, 'samantha': 7729, 'harriet': 4169, 'shanghai': 8006, 'hayworth': 4201, 'fiancée': 3469, 'weaver': 9749, 'steele': 8536, '1962': 55, 'greenaway': 4012, 'gielgud': 3868, 'poem': 6719, 'marvellous': 5596, 'uniquely': 9417, 'renee': 7379, 'atrocities': 691, 'gusto': 4079, 'sailors': 7714, 'recalls': 7232, 'marcus': 5555, 'mining': 5795, 'joanna': 4891, 'cathy': 1482, 'woke': 9873, 'greta': 4018, 'raj': 7133, 'anil': 484, 'entertains': 3111, 'desolate': 2544, 'poppins': 6762, 'iowa': 4778, 'sorvino': 8340, 'alienate': 393, 'ella': 3009, 'peterson': 6595, 'drifter': 2835, 'reno': 7380, 'corbett': 2092, 'rivalry': 7559, 'strain': 8602, 'eater': 2934, 'temporary': 8960, 'cody': 1798, 'ariel': 594, 'commanding': 1863, 'platoon': 6690, 'cooking': 2080, 'bagdad': 804, 'mabel': 5461, 'elisha': 3006, 'waterfront': 9723, 'witches': 9860, 'underdog': 9363, 'beetle': 911, 'baxter': 880, 'grendel': 4017, 'deathstalker': 2391, 'interpreted': 4738, 'croc': 2226, 'restoration': 7454, 'cleveland': 1732, 'dahl': 2303, 'sidewalk': 8119, 'miyazaki': 5848, 'des': 2523, 'norton': 6149, 'kornbluth': 5075, 'knox': 5069, 'ajay': 364, 'devgan': 2580, 'om': 6276, 'merrill': 5729, 'tierney': 9079, 'stubborn': 8650, 'hagen': 4095, 'seth': 7960, 'lin': 5295, 'brandon': 1177, 'reunited': 7481, 'cortez': 2112, 'celeste': 1504, 'cafe': 1339, 'demille': 2474, 'undertaker': 9376, 'drummer': 2858, 'crocodile': 2227, 'grayson': 4000, 'cambodia': 1355, 'blends': 1049, 'hark': 4160, 'stable': 8459, 'booker': 1119, 'myrtle': 5995, 'weissmuller': 9763, 'spock': 8422, 'mccoy': 5652, 'keeler': 4985, 'lighten': 5269, 'vulnerability': 9643, 'floors': 3580, 'stooge': 8587, 'inheritance': 4646, 'excellently': 3217, 'yoda': 9971, 'concentrates': 1936, 'zorro': 9998, 'morgana': 5908, 'benoit': 955, 'influential': 4630, 'sholay': 8069, 'ka': 4964, 'kazan': 4982, 'stadium': 8462, 'alain': 370, 'nora': 6139, 'marjorie': 5568, 'norma': 6141, 'elsa': 3015, 'han': 4117, 'palette': 6434, 'surfers': 8786, 'surf': 8784, 'wai': 9648, 'lordi': 5391, 'wolverine': 9875, 'massey': 5610, 'wicker': 9804, 'anchors': 463, 'paulie': 6516, 'saif': 7712, 'minnelli': 5799, 'sullavan': 8740, 'lex': 5247, 'luthor': 5453, 'sammo': 7731, 'delia': 2450, 'leia': 5211, 'lindy': 5300, 'kareena': 4971, 'myra': 5993, 'tomlinson': 9129, 'danning': 2338, 'convent': 2058, 'giovanna': 3885, 'aiello': 351, 'azaria': 775, 'gundam': 4073, 'duryea': 2891, 'tashan': 8907, 'krishna': 5079, 'korda': 5072, 'lanza': 5128, 'beery': 910, 'lamas': 5110, 'iturbi': 4819, 'dani': 2334, 'sherry': 8044, 'clutter': 1784, 'laputa': 5130, 'mcintire': 5658, 'tsui': 9295, 'yokai': 9972, 'sabu': 7695, 'blandings': 1037, 'blackie': 1024, 'antwone': 524, 'daisies': 2306, 'kei': 4990, 'visconti': 9604, 'pazu': 6528, 'sheeta': 8030, 'aweigh': 765, 'gunga': 4075, 'din': 2632, 'trelkovsky': 9247, 'gino': 3884, 'mj': 5849, 'hilliard': 4294, 'brashear': 1178, 'harilal': 4159, 'deathtrap': 2392, 'edie': 2953, 'krell': 5077, 'gypo': 4086, 'panahi': 6442, 'offside': 6257, 'jaffar': 4834, 'ossessione': 6339, 'goldsworthy': 3935, 'kells': 4993}\n"
          ]
        }
      ]
    },
    {
      "cell_type": "code",
      "source": [
        "feature_names = vect.get_feature_names_out()\n",
        "print(\"Number of features: {}\".format(len(feature_names)))\n",
        "print(\"First 20 features:\\n{}\".format(feature_names[:20]))\n",
        "print(\"Features 5010 to 5030:\\n{}\".format(feature_names[5010:5030]))\n",
        "print(\"Every 2000th feature:\\n{}\".format(feature_names[::1000]))\n"
      ],
      "metadata": {
        "colab": {
          "base_uri": "https://localhost:8080/"
        },
        "id": "dU2vd8jUYvpl",
        "outputId": "281c27a2-1bc2-405c-bb98-59d1b5d6f2bc"
      },
      "execution_count": 56,
      "outputs": [
        {
          "output_type": "stream",
          "name": "stdout",
          "text": [
            "Number of features: 10000\n",
            "First 20 features:\n",
            "['00' '000' '10' '100' '1000' '101' '11' '12' '13' '13th' '14' '15' '150'\n",
            " '16' '17' '18' '18th' '19' '1920' '1920s']\n",
            "Features 5010 to 5030:\n",
            "['kick' 'kicked' 'kicking' 'kicks' 'kid' 'kiddie' 'kidding' 'kidman'\n",
            " 'kidnap' 'kidnapped' 'kidnapping' 'kidnaps' 'kids' 'kill' 'killed'\n",
            " 'killer' 'killers' 'killing' 'killings' 'kills']\n",
            "Every 2000th feature:\n",
            "['00' 'bimbo' 'considerably' 'elephants' 'grayson' 'kentucky' 'mystical'\n",
            " 'proudly' 'shall' 'thankful']\n"
          ]
        }
      ]
    },
    {
      "cell_type": "code",
      "source": [
        "from sklearn.model_selection import cross_val_score\n",
        "from sklearn.linear_model import LogisticRegression\n",
        "from warnings import simplefilter\n",
        "from sklearn.exceptions import ConvergenceWarning\n",
        "simplefilter(\"ignore\", category=ConvergenceWarning)\n",
        "\n",
        "scores = cross_val_score(LogisticRegression(), X_train, y_rev_train, cv=3)\n",
        "print(\"Mean cross-validation accuracy: {:.2f}\".format(np.mean(scores)))"
      ],
      "metadata": {
        "colab": {
          "base_uri": "https://localhost:8080/"
        },
        "id": "7PxWviEHZIg6",
        "outputId": "5d656da2-2143-491e-f8f2-97bf8e0df3da"
      },
      "execution_count": 57,
      "outputs": [
        {
          "output_type": "stream",
          "name": "stdout",
          "text": [
            "Mean cross-validation accuracy: 0.82\n"
          ]
        }
      ]
    },
    {
      "cell_type": "markdown",
      "source": [
        "CountVectorizer to Extracting Features from Text\n",
        "\n",
        "https://www.geeksforgeeks.org/using-countvectorizer-to-extracting-features-from-text/"
      ],
      "metadata": {
        "id": "tCG-GopXiJ0P"
      }
    },
    {
      "cell_type": "code",
      "source": [
        "nb_vec = LogisticRegression()\n",
        "nb_vec.fit(X_train, y_rev_train)\n",
        "preds = nb_vec.predict(X_test)\n",
        "print(classification_report(y_rev_test, preds))"
      ],
      "metadata": {
        "colab": {
          "base_uri": "https://localhost:8080/"
        },
        "id": "ZDCE10g1Z2ZW",
        "outputId": "58466f74-4adf-4658-fa4b-af6761e9b8c0"
      },
      "execution_count": 58,
      "outputs": [
        {
          "output_type": "stream",
          "name": "stdout",
          "text": [
            "              precision    recall  f1-score   support\n",
            "\n",
            "           0       0.84      0.86      0.85     12500\n",
            "           1       0.86      0.84      0.85     12500\n",
            "\n",
            "    accuracy                           0.85     25000\n",
            "   macro avg       0.85      0.85      0.85     25000\n",
            "weighted avg       0.85      0.85      0.85     25000\n",
            "\n"
          ]
        }
      ]
    },
    {
      "cell_type": "code",
      "source": [
        "#Show weights for BOW\n",
        "# https://www.nlplanet.org/course-practical-nlp/01-intro-to-nlp/04-n-grams\n",
        "# create a pandas dataframe that shows the unigrams in each text\n",
        "keys_values_sorted = sorted(list(vect.vocabulary_.items()), key=lambda t: t[1])\n",
        "keys_sorted = list(zip(*keys_values_sorted))[0]\n",
        "\n",
        "# show logistic regression weights\n",
        "from_unigram_to_weight = dict(zip(keys_sorted, nb_vec.coef_[0]))\n",
        "from_unigram_to_weight\n",
        "print('Positive')\n",
        "sorted(zip(nb_vec.coef_[0] , keys_sorted) , reverse = True)[:20]\n"
      ],
      "metadata": {
        "colab": {
          "base_uri": "https://localhost:8080/"
        },
        "id": "FCYuBwb21Q1Q",
        "outputId": "b6750b79-533a-4932-e702-64a6525b50f8"
      },
      "execution_count": 59,
      "outputs": [
        {
          "output_type": "stream",
          "name": "stdout",
          "text": [
            "Positive\n"
          ]
        },
        {
          "output_type": "execute_result",
          "data": {
            "text/plain": [
              "[(1.996785354974879, 'refreshing'),\n",
              " (1.6622562764931526, 'vengeance'),\n",
              " (1.6006238531418373, 'wonderfully'),\n",
              " (1.5020101367436653, 'kurosawa'),\n",
              " (1.498689157918777, 'hooked'),\n",
              " (1.4432272974185756, 'flawless'),\n",
              " (1.4404522734120084, 'funniest'),\n",
              " (1.4087829067731314, 'delightful'),\n",
              " (1.394187325418647, 'surprisingly'),\n",
              " (1.3604548501263127, 'erotic'),\n",
              " (1.3377976335475643, 'perfectly'),\n",
              " (1.3317886228202676, 'carrey'),\n",
              " (1.3285770233673089, 'cerebral'),\n",
              " (1.307873456890412, 'appreciated'),\n",
              " (1.2948625191753456, 'underrated'),\n",
              " (1.2905146208589566, 'chavez'),\n",
              " (1.2873632335235283, 'mj'),\n",
              " (1.2758466090585294, 'driven'),\n",
              " (1.2749695778820613, 'kitty'),\n",
              " (1.2641703889771416, 'rare')]"
            ]
          },
          "metadata": {},
          "execution_count": 59
        }
      ]
    },
    {
      "cell_type": "code",
      "source": [
        "print('Negative')\n",
        "sorted(zip(nb_vec.coef_[0] , keys_sorted) , reverse = False)[:20]"
      ],
      "metadata": {
        "colab": {
          "base_uri": "https://localhost:8080/"
        },
        "id": "NIu01pX_5zSg",
        "outputId": "4514b150-1cd3-4a5f-c199-64c36ce71054"
      },
      "execution_count": 60,
      "outputs": [
        {
          "output_type": "stream",
          "name": "stdout",
          "text": [
            "Negative\n"
          ]
        },
        {
          "output_type": "execute_result",
          "data": {
            "text/plain": [
              "[(-2.48429977215771, 'disappointment'),\n",
              " (-2.3094340130819364, 'waste'),\n",
              " (-2.070343254552717, 'poorly'),\n",
              " (-2.0026218212838414, 'worst'),\n",
              " (-1.790486836237038, 'forgettable'),\n",
              " (-1.7300385264694247, 'baldwin'),\n",
              " (-1.6697567008017584, 'lacks'),\n",
              " (-1.6663497872613982, 'alright'),\n",
              " (-1.6606631686998705, 'awful'),\n",
              " (-1.6564718718547884, 'mst3k'),\n",
              " (-1.63643651680818, 'unfunny'),\n",
              " (-1.6190615052282435, 'mess'),\n",
              " (-1.6003501664475925, 'mildly'),\n",
              " (-1.5679650457534706, 'uninteresting'),\n",
              " (-1.5606054040424515, 'laughable'),\n",
              " (-1.5260543000807192, 'pointless'),\n",
              " (-1.5260177296929756, 'boredom'),\n",
              " (-1.4921125371472317, 'fails'),\n",
              " (-1.4784233746259288, 'mediocre'),\n",
              " (-1.4308414217645795, 'disappointing')]"
            ]
          },
          "metadata": {},
          "execution_count": 60
        }
      ]
    },
    {
      "cell_type": "markdown",
      "source": [
        "# **TfidfVectorizer**\n",
        "\n",
        "The TfidfVectorizer is a feature extraction technique in the scikit-learn library for converting a collection of raw text documents into a matrix of TF-IDF (Term Frequency-Inverse Document Frequency) features. This is a common step in Natural Language Processing (NLP) and text mining tasks to transform text data into numerical data that machine learning algorithms can work with.\n",
        "\n",
        "How TfidfVectorizer Works\n",
        "Term Frequency (TF): This measures how frequently a term (word) appears in a document. The assumption is that the more frequently a term appears in a document, the more important it is. However, this alone can be misleading, as common words (like \"the\", \"is\", \"and\") will appear frequently in many documents.\n",
        "Inverse Document Frequency (IDF): This measures how important a term is by considering how often it appears across all documents in the dataset. The more documents a term appears in, the less important it is. The IDF value of a term decreases as the number of documents containing the term increases.\n",
        "TF-IDF: The product of TF and IDF. This score gives us an indication of how important a term is within a particular document while reducing the weight of commonly occurring terms that are less informative.\n",
        "Formula of TF-IDF\n",
        "The TF-IDF score for a term t in a document d is calculated as:\n",
        "\n",
        "tf-idf\n",
        "(\n",
        "t\n",
        ",\n",
        "d\n",
        ")\n",
        "=\n",
        "tf\n",
        "(\n",
        "t\n",
        ",\n",
        "d\n",
        ")\n",
        "×\n",
        "idf\n",
        "tf-idf(t,d)=tf(t,d)×idf\n",
        "\n",
        "Where:\n",
        "\n",
        "tf\n",
        "(\n",
        "t\n",
        ",\n",
        "d\n",
        ")\n",
        "tf(t,d)\n",
        " is the term frequency of term t in document d.\n",
        "idf\n",
        "(\n",
        "t\n",
        ")\n",
        "idf(t)\n",
        " is the inverse document frequency of term t, calculated as:\n",
        "idf\n",
        "(\n",
        "t\n",
        ")\n",
        "=\n",
        "log\n",
        "⁡\n",
        "(\n",
        "N\n",
        "1\n",
        "+\n",
        "df\n",
        "(\n",
        "t\n",
        ")\n",
        ")\n",
        "idf(t)=log(\n",
        "1+df(t)\n",
        "N\n",
        "​\n",
        " )\n",
        "\n",
        "Where:\n",
        "\n",
        "N is the total number of documents.\n",
        "df\n",
        "(\n",
        "t\n",
        ")\n",
        "df(t)\n",
        " is the number of documents containing the term t.\n",
        " https://www.geeksforgeeks.org/how-to-store-a-tfidfvectorizer-for-future-use-in-scikit-learn/\n",
        "\n",
        " https://www.linkedin.com/pulse/count-vectorizers-vs-tfidf-natural-language-processing-sheel-saket/\n"
      ],
      "metadata": {
        "id": "6KIH6lTu6FID"
      }
    },
    {
      "cell_type": "code",
      "source": [
        "tfidf_rev_vec = TfidfVectorizer(\n",
        "    binary=False, max_df=0.80, min_df=10,\n",
        "    max_features=10000\n",
        ")\n",
        "\n",
        "X_rev_tfidf_train = tfidf_rev_vec.fit_transform(X_rev_train)\n",
        "X_rev_tfidf_test = tfidf_rev_vec.transform(X_rev_test)"
      ],
      "metadata": {
        "id": "2FE2fznU_zCz"
      },
      "execution_count": 61,
      "outputs": []
    },
    {
      "cell_type": "code",
      "source": [
        "# print idf values\n",
        "df_idf = pd.DataFrame(tfidf_rev_vec.idf_, index=vect.get_feature_names_out(),columns=[\"idf_weights\"])\n",
        "\n",
        "# sort ascending\n",
        "df_idf.sort_values(by=['idf_weights'])"
      ],
      "metadata": {
        "colab": {
          "base_uri": "https://localhost:8080/",
          "height": 423
        },
        "id": "pqNFpjgA9Vi3",
        "outputId": "8d8dfda0-0234-478e-aee3-fcdee3e76b6f"
      },
      "execution_count": 62,
      "outputs": [
        {
          "output_type": "execute_result",
          "data": {
            "text/plain": [
              "          idf_weights\n",
              "byrne        1.329545\n",
              "foolish      1.334898\n",
              "wishes       1.358545\n",
              "ward         1.436006\n",
              "asking       1.438917\n",
              "...               ...\n",
              "shaolin      8.728776\n",
              "et           8.728776\n",
              "knights      8.728776\n",
              "woefully     8.728776\n",
              "kathleen     8.728776\n",
              "\n",
              "[10000 rows x 1 columns]"
            ],
            "text/html": [
              "\n",
              "  <div id=\"df-8ad7d068-8df4-4144-8894-3929a3bf832d\" class=\"colab-df-container\">\n",
              "    <div>\n",
              "<style scoped>\n",
              "    .dataframe tbody tr th:only-of-type {\n",
              "        vertical-align: middle;\n",
              "    }\n",
              "\n",
              "    .dataframe tbody tr th {\n",
              "        vertical-align: top;\n",
              "    }\n",
              "\n",
              "    .dataframe thead th {\n",
              "        text-align: right;\n",
              "    }\n",
              "</style>\n",
              "<table border=\"1\" class=\"dataframe\">\n",
              "  <thead>\n",
              "    <tr style=\"text-align: right;\">\n",
              "      <th></th>\n",
              "      <th>idf_weights</th>\n",
              "    </tr>\n",
              "  </thead>\n",
              "  <tbody>\n",
              "    <tr>\n",
              "      <th>byrne</th>\n",
              "      <td>1.329545</td>\n",
              "    </tr>\n",
              "    <tr>\n",
              "      <th>foolish</th>\n",
              "      <td>1.334898</td>\n",
              "    </tr>\n",
              "    <tr>\n",
              "      <th>wishes</th>\n",
              "      <td>1.358545</td>\n",
              "    </tr>\n",
              "    <tr>\n",
              "      <th>ward</th>\n",
              "      <td>1.436006</td>\n",
              "    </tr>\n",
              "    <tr>\n",
              "      <th>asking</th>\n",
              "      <td>1.438917</td>\n",
              "    </tr>\n",
              "    <tr>\n",
              "      <th>...</th>\n",
              "      <td>...</td>\n",
              "    </tr>\n",
              "    <tr>\n",
              "      <th>shaolin</th>\n",
              "      <td>8.728776</td>\n",
              "    </tr>\n",
              "    <tr>\n",
              "      <th>et</th>\n",
              "      <td>8.728776</td>\n",
              "    </tr>\n",
              "    <tr>\n",
              "      <th>knights</th>\n",
              "      <td>8.728776</td>\n",
              "    </tr>\n",
              "    <tr>\n",
              "      <th>woefully</th>\n",
              "      <td>8.728776</td>\n",
              "    </tr>\n",
              "    <tr>\n",
              "      <th>kathleen</th>\n",
              "      <td>8.728776</td>\n",
              "    </tr>\n",
              "  </tbody>\n",
              "</table>\n",
              "<p>10000 rows × 1 columns</p>\n",
              "</div>\n",
              "    <div class=\"colab-df-buttons\">\n",
              "\n",
              "  <div class=\"colab-df-container\">\n",
              "    <button class=\"colab-df-convert\" onclick=\"convertToInteractive('df-8ad7d068-8df4-4144-8894-3929a3bf832d')\"\n",
              "            title=\"Convert this dataframe to an interactive table.\"\n",
              "            style=\"display:none;\">\n",
              "\n",
              "  <svg xmlns=\"http://www.w3.org/2000/svg\" height=\"24px\" viewBox=\"0 -960 960 960\">\n",
              "    <path d=\"M120-120v-720h720v720H120Zm60-500h600v-160H180v160Zm220 220h160v-160H400v160Zm0 220h160v-160H400v160ZM180-400h160v-160H180v160Zm440 0h160v-160H620v160ZM180-180h160v-160H180v160Zm440 0h160v-160H620v160Z\"/>\n",
              "  </svg>\n",
              "    </button>\n",
              "\n",
              "  <style>\n",
              "    .colab-df-container {\n",
              "      display:flex;\n",
              "      gap: 12px;\n",
              "    }\n",
              "\n",
              "    .colab-df-convert {\n",
              "      background-color: #E8F0FE;\n",
              "      border: none;\n",
              "      border-radius: 50%;\n",
              "      cursor: pointer;\n",
              "      display: none;\n",
              "      fill: #1967D2;\n",
              "      height: 32px;\n",
              "      padding: 0 0 0 0;\n",
              "      width: 32px;\n",
              "    }\n",
              "\n",
              "    .colab-df-convert:hover {\n",
              "      background-color: #E2EBFA;\n",
              "      box-shadow: 0px 1px 2px rgba(60, 64, 67, 0.3), 0px 1px 3px 1px rgba(60, 64, 67, 0.15);\n",
              "      fill: #174EA6;\n",
              "    }\n",
              "\n",
              "    .colab-df-buttons div {\n",
              "      margin-bottom: 4px;\n",
              "    }\n",
              "\n",
              "    [theme=dark] .colab-df-convert {\n",
              "      background-color: #3B4455;\n",
              "      fill: #D2E3FC;\n",
              "    }\n",
              "\n",
              "    [theme=dark] .colab-df-convert:hover {\n",
              "      background-color: #434B5C;\n",
              "      box-shadow: 0px 1px 3px 1px rgba(0, 0, 0, 0.15);\n",
              "      filter: drop-shadow(0px 1px 2px rgba(0, 0, 0, 0.3));\n",
              "      fill: #FFFFFF;\n",
              "    }\n",
              "  </style>\n",
              "\n",
              "    <script>\n",
              "      const buttonEl =\n",
              "        document.querySelector('#df-8ad7d068-8df4-4144-8894-3929a3bf832d button.colab-df-convert');\n",
              "      buttonEl.style.display =\n",
              "        google.colab.kernel.accessAllowed ? 'block' : 'none';\n",
              "\n",
              "      async function convertToInteractive(key) {\n",
              "        const element = document.querySelector('#df-8ad7d068-8df4-4144-8894-3929a3bf832d');\n",
              "        const dataTable =\n",
              "          await google.colab.kernel.invokeFunction('convertToInteractive',\n",
              "                                                    [key], {});\n",
              "        if (!dataTable) return;\n",
              "\n",
              "        const docLinkHtml = 'Like what you see? Visit the ' +\n",
              "          '<a target=\"_blank\" href=https://colab.research.google.com/notebooks/data_table.ipynb>data table notebook</a>'\n",
              "          + ' to learn more about interactive tables.';\n",
              "        element.innerHTML = '';\n",
              "        dataTable['output_type'] = 'display_data';\n",
              "        await google.colab.output.renderOutput(dataTable, element);\n",
              "        const docLink = document.createElement('div');\n",
              "        docLink.innerHTML = docLinkHtml;\n",
              "        element.appendChild(docLink);\n",
              "      }\n",
              "    </script>\n",
              "  </div>\n",
              "\n",
              "\n",
              "<div id=\"df-40fb18ce-eb06-4379-b263-3f45e3582c03\">\n",
              "  <button class=\"colab-df-quickchart\" onclick=\"quickchart('df-40fb18ce-eb06-4379-b263-3f45e3582c03')\"\n",
              "            title=\"Suggest charts\"\n",
              "            style=\"display:none;\">\n",
              "\n",
              "<svg xmlns=\"http://www.w3.org/2000/svg\" height=\"24px\"viewBox=\"0 0 24 24\"\n",
              "     width=\"24px\">\n",
              "    <g>\n",
              "        <path d=\"M19 3H5c-1.1 0-2 .9-2 2v14c0 1.1.9 2 2 2h14c1.1 0 2-.9 2-2V5c0-1.1-.9-2-2-2zM9 17H7v-7h2v7zm4 0h-2V7h2v10zm4 0h-2v-4h2v4z\"/>\n",
              "    </g>\n",
              "</svg>\n",
              "  </button>\n",
              "\n",
              "<style>\n",
              "  .colab-df-quickchart {\n",
              "      --bg-color: #E8F0FE;\n",
              "      --fill-color: #1967D2;\n",
              "      --hover-bg-color: #E2EBFA;\n",
              "      --hover-fill-color: #174EA6;\n",
              "      --disabled-fill-color: #AAA;\n",
              "      --disabled-bg-color: #DDD;\n",
              "  }\n",
              "\n",
              "  [theme=dark] .colab-df-quickchart {\n",
              "      --bg-color: #3B4455;\n",
              "      --fill-color: #D2E3FC;\n",
              "      --hover-bg-color: #434B5C;\n",
              "      --hover-fill-color: #FFFFFF;\n",
              "      --disabled-bg-color: #3B4455;\n",
              "      --disabled-fill-color: #666;\n",
              "  }\n",
              "\n",
              "  .colab-df-quickchart {\n",
              "    background-color: var(--bg-color);\n",
              "    border: none;\n",
              "    border-radius: 50%;\n",
              "    cursor: pointer;\n",
              "    display: none;\n",
              "    fill: var(--fill-color);\n",
              "    height: 32px;\n",
              "    padding: 0;\n",
              "    width: 32px;\n",
              "  }\n",
              "\n",
              "  .colab-df-quickchart:hover {\n",
              "    background-color: var(--hover-bg-color);\n",
              "    box-shadow: 0 1px 2px rgba(60, 64, 67, 0.3), 0 1px 3px 1px rgba(60, 64, 67, 0.15);\n",
              "    fill: var(--button-hover-fill-color);\n",
              "  }\n",
              "\n",
              "  .colab-df-quickchart-complete:disabled,\n",
              "  .colab-df-quickchart-complete:disabled:hover {\n",
              "    background-color: var(--disabled-bg-color);\n",
              "    fill: var(--disabled-fill-color);\n",
              "    box-shadow: none;\n",
              "  }\n",
              "\n",
              "  .colab-df-spinner {\n",
              "    border: 2px solid var(--fill-color);\n",
              "    border-color: transparent;\n",
              "    border-bottom-color: var(--fill-color);\n",
              "    animation:\n",
              "      spin 1s steps(1) infinite;\n",
              "  }\n",
              "\n",
              "  @keyframes spin {\n",
              "    0% {\n",
              "      border-color: transparent;\n",
              "      border-bottom-color: var(--fill-color);\n",
              "      border-left-color: var(--fill-color);\n",
              "    }\n",
              "    20% {\n",
              "      border-color: transparent;\n",
              "      border-left-color: var(--fill-color);\n",
              "      border-top-color: var(--fill-color);\n",
              "    }\n",
              "    30% {\n",
              "      border-color: transparent;\n",
              "      border-left-color: var(--fill-color);\n",
              "      border-top-color: var(--fill-color);\n",
              "      border-right-color: var(--fill-color);\n",
              "    }\n",
              "    40% {\n",
              "      border-color: transparent;\n",
              "      border-right-color: var(--fill-color);\n",
              "      border-top-color: var(--fill-color);\n",
              "    }\n",
              "    60% {\n",
              "      border-color: transparent;\n",
              "      border-right-color: var(--fill-color);\n",
              "    }\n",
              "    80% {\n",
              "      border-color: transparent;\n",
              "      border-right-color: var(--fill-color);\n",
              "      border-bottom-color: var(--fill-color);\n",
              "    }\n",
              "    90% {\n",
              "      border-color: transparent;\n",
              "      border-bottom-color: var(--fill-color);\n",
              "    }\n",
              "  }\n",
              "</style>\n",
              "\n",
              "  <script>\n",
              "    async function quickchart(key) {\n",
              "      const quickchartButtonEl =\n",
              "        document.querySelector('#' + key + ' button');\n",
              "      quickchartButtonEl.disabled = true;  // To prevent multiple clicks.\n",
              "      quickchartButtonEl.classList.add('colab-df-spinner');\n",
              "      try {\n",
              "        const charts = await google.colab.kernel.invokeFunction(\n",
              "            'suggestCharts', [key], {});\n",
              "      } catch (error) {\n",
              "        console.error('Error during call to suggestCharts:', error);\n",
              "      }\n",
              "      quickchartButtonEl.classList.remove('colab-df-spinner');\n",
              "      quickchartButtonEl.classList.add('colab-df-quickchart-complete');\n",
              "    }\n",
              "    (() => {\n",
              "      let quickchartButtonEl =\n",
              "        document.querySelector('#df-40fb18ce-eb06-4379-b263-3f45e3582c03 button');\n",
              "      quickchartButtonEl.style.display =\n",
              "        google.colab.kernel.accessAllowed ? 'block' : 'none';\n",
              "    })();\n",
              "  </script>\n",
              "</div>\n",
              "\n",
              "    </div>\n",
              "  </div>\n"
            ],
            "application/vnd.google.colaboratory.intrinsic+json": {
              "type": "dataframe",
              "summary": "{\n  \"name\": \"df_idf\",\n  \"rows\": 10000,\n  \"fields\": [\n    {\n      \"column\": \"idf_weights\",\n      \"properties\": {\n        \"dtype\": \"number\",\n        \"std\": 1.1749435289647794,\n        \"min\": 1.329544566505641,\n        \"max\": 8.728775830251989,\n        \"num_unique_values\": 1239,\n        \"samples\": [\n          4.067053474758977,\n          3.538347425715137,\n          3.8268737362921983\n        ],\n        \"semantic_type\": \"\",\n        \"description\": \"\"\n      }\n    }\n  ]\n}"
            }
          },
          "metadata": {},
          "execution_count": 62
        }
      ]
    },
    {
      "cell_type": "code",
      "source": [
        "nb_rev = LogisticRegression()\n",
        "nb_rev.fit(X_rev_tfidf_train, y_rev_train)"
      ],
      "metadata": {
        "colab": {
          "base_uri": "https://localhost:8080/",
          "height": 80
        },
        "id": "_65lj2qH_4IX",
        "outputId": "101c7621-f98a-43da-a51f-384b04983f2f"
      },
      "execution_count": 63,
      "outputs": [
        {
          "output_type": "execute_result",
          "data": {
            "text/plain": [
              "LogisticRegression()"
            ],
            "text/html": [
              "<style>#sk-container-id-2 {\n",
              "  /* Definition of color scheme common for light and dark mode */\n",
              "  --sklearn-color-text: black;\n",
              "  --sklearn-color-line: gray;\n",
              "  /* Definition of color scheme for unfitted estimators */\n",
              "  --sklearn-color-unfitted-level-0: #fff5e6;\n",
              "  --sklearn-color-unfitted-level-1: #f6e4d2;\n",
              "  --sklearn-color-unfitted-level-2: #ffe0b3;\n",
              "  --sklearn-color-unfitted-level-3: chocolate;\n",
              "  /* Definition of color scheme for fitted estimators */\n",
              "  --sklearn-color-fitted-level-0: #f0f8ff;\n",
              "  --sklearn-color-fitted-level-1: #d4ebff;\n",
              "  --sklearn-color-fitted-level-2: #b3dbfd;\n",
              "  --sklearn-color-fitted-level-3: cornflowerblue;\n",
              "\n",
              "  /* Specific color for light theme */\n",
              "  --sklearn-color-text-on-default-background: var(--sg-text-color, var(--theme-code-foreground, var(--jp-content-font-color1, black)));\n",
              "  --sklearn-color-background: var(--sg-background-color, var(--theme-background, var(--jp-layout-color0, white)));\n",
              "  --sklearn-color-border-box: var(--sg-text-color, var(--theme-code-foreground, var(--jp-content-font-color1, black)));\n",
              "  --sklearn-color-icon: #696969;\n",
              "\n",
              "  @media (prefers-color-scheme: dark) {\n",
              "    /* Redefinition of color scheme for dark theme */\n",
              "    --sklearn-color-text-on-default-background: var(--sg-text-color, var(--theme-code-foreground, var(--jp-content-font-color1, white)));\n",
              "    --sklearn-color-background: var(--sg-background-color, var(--theme-background, var(--jp-layout-color0, #111)));\n",
              "    --sklearn-color-border-box: var(--sg-text-color, var(--theme-code-foreground, var(--jp-content-font-color1, white)));\n",
              "    --sklearn-color-icon: #878787;\n",
              "  }\n",
              "}\n",
              "\n",
              "#sk-container-id-2 {\n",
              "  color: var(--sklearn-color-text);\n",
              "}\n",
              "\n",
              "#sk-container-id-2 pre {\n",
              "  padding: 0;\n",
              "}\n",
              "\n",
              "#sk-container-id-2 input.sk-hidden--visually {\n",
              "  border: 0;\n",
              "  clip: rect(1px 1px 1px 1px);\n",
              "  clip: rect(1px, 1px, 1px, 1px);\n",
              "  height: 1px;\n",
              "  margin: -1px;\n",
              "  overflow: hidden;\n",
              "  padding: 0;\n",
              "  position: absolute;\n",
              "  width: 1px;\n",
              "}\n",
              "\n",
              "#sk-container-id-2 div.sk-dashed-wrapped {\n",
              "  border: 1px dashed var(--sklearn-color-line);\n",
              "  margin: 0 0.4em 0.5em 0.4em;\n",
              "  box-sizing: border-box;\n",
              "  padding-bottom: 0.4em;\n",
              "  background-color: var(--sklearn-color-background);\n",
              "}\n",
              "\n",
              "#sk-container-id-2 div.sk-container {\n",
              "  /* jupyter's `normalize.less` sets `[hidden] { display: none; }`\n",
              "     but bootstrap.min.css set `[hidden] { display: none !important; }`\n",
              "     so we also need the `!important` here to be able to override the\n",
              "     default hidden behavior on the sphinx rendered scikit-learn.org.\n",
              "     See: https://github.com/scikit-learn/scikit-learn/issues/21755 */\n",
              "  display: inline-block !important;\n",
              "  position: relative;\n",
              "}\n",
              "\n",
              "#sk-container-id-2 div.sk-text-repr-fallback {\n",
              "  display: none;\n",
              "}\n",
              "\n",
              "div.sk-parallel-item,\n",
              "div.sk-serial,\n",
              "div.sk-item {\n",
              "  /* draw centered vertical line to link estimators */\n",
              "  background-image: linear-gradient(var(--sklearn-color-text-on-default-background), var(--sklearn-color-text-on-default-background));\n",
              "  background-size: 2px 100%;\n",
              "  background-repeat: no-repeat;\n",
              "  background-position: center center;\n",
              "}\n",
              "\n",
              "/* Parallel-specific style estimator block */\n",
              "\n",
              "#sk-container-id-2 div.sk-parallel-item::after {\n",
              "  content: \"\";\n",
              "  width: 100%;\n",
              "  border-bottom: 2px solid var(--sklearn-color-text-on-default-background);\n",
              "  flex-grow: 1;\n",
              "}\n",
              "\n",
              "#sk-container-id-2 div.sk-parallel {\n",
              "  display: flex;\n",
              "  align-items: stretch;\n",
              "  justify-content: center;\n",
              "  background-color: var(--sklearn-color-background);\n",
              "  position: relative;\n",
              "}\n",
              "\n",
              "#sk-container-id-2 div.sk-parallel-item {\n",
              "  display: flex;\n",
              "  flex-direction: column;\n",
              "}\n",
              "\n",
              "#sk-container-id-2 div.sk-parallel-item:first-child::after {\n",
              "  align-self: flex-end;\n",
              "  width: 50%;\n",
              "}\n",
              "\n",
              "#sk-container-id-2 div.sk-parallel-item:last-child::after {\n",
              "  align-self: flex-start;\n",
              "  width: 50%;\n",
              "}\n",
              "\n",
              "#sk-container-id-2 div.sk-parallel-item:only-child::after {\n",
              "  width: 0;\n",
              "}\n",
              "\n",
              "/* Serial-specific style estimator block */\n",
              "\n",
              "#sk-container-id-2 div.sk-serial {\n",
              "  display: flex;\n",
              "  flex-direction: column;\n",
              "  align-items: center;\n",
              "  background-color: var(--sklearn-color-background);\n",
              "  padding-right: 1em;\n",
              "  padding-left: 1em;\n",
              "}\n",
              "\n",
              "\n",
              "/* Toggleable style: style used for estimator/Pipeline/ColumnTransformer box that is\n",
              "clickable and can be expanded/collapsed.\n",
              "- Pipeline and ColumnTransformer use this feature and define the default style\n",
              "- Estimators will overwrite some part of the style using the `sk-estimator` class\n",
              "*/\n",
              "\n",
              "/* Pipeline and ColumnTransformer style (default) */\n",
              "\n",
              "#sk-container-id-2 div.sk-toggleable {\n",
              "  /* Default theme specific background. It is overwritten whether we have a\n",
              "  specific estimator or a Pipeline/ColumnTransformer */\n",
              "  background-color: var(--sklearn-color-background);\n",
              "}\n",
              "\n",
              "/* Toggleable label */\n",
              "#sk-container-id-2 label.sk-toggleable__label {\n",
              "  cursor: pointer;\n",
              "  display: block;\n",
              "  width: 100%;\n",
              "  margin-bottom: 0;\n",
              "  padding: 0.5em;\n",
              "  box-sizing: border-box;\n",
              "  text-align: center;\n",
              "}\n",
              "\n",
              "#sk-container-id-2 label.sk-toggleable__label-arrow:before {\n",
              "  /* Arrow on the left of the label */\n",
              "  content: \"▸\";\n",
              "  float: left;\n",
              "  margin-right: 0.25em;\n",
              "  color: var(--sklearn-color-icon);\n",
              "}\n",
              "\n",
              "#sk-container-id-2 label.sk-toggleable__label-arrow:hover:before {\n",
              "  color: var(--sklearn-color-text);\n",
              "}\n",
              "\n",
              "/* Toggleable content - dropdown */\n",
              "\n",
              "#sk-container-id-2 div.sk-toggleable__content {\n",
              "  max-height: 0;\n",
              "  max-width: 0;\n",
              "  overflow: hidden;\n",
              "  text-align: left;\n",
              "  /* unfitted */\n",
              "  background-color: var(--sklearn-color-unfitted-level-0);\n",
              "}\n",
              "\n",
              "#sk-container-id-2 div.sk-toggleable__content.fitted {\n",
              "  /* fitted */\n",
              "  background-color: var(--sklearn-color-fitted-level-0);\n",
              "}\n",
              "\n",
              "#sk-container-id-2 div.sk-toggleable__content pre {\n",
              "  margin: 0.2em;\n",
              "  border-radius: 0.25em;\n",
              "  color: var(--sklearn-color-text);\n",
              "  /* unfitted */\n",
              "  background-color: var(--sklearn-color-unfitted-level-0);\n",
              "}\n",
              "\n",
              "#sk-container-id-2 div.sk-toggleable__content.fitted pre {\n",
              "  /* unfitted */\n",
              "  background-color: var(--sklearn-color-fitted-level-0);\n",
              "}\n",
              "\n",
              "#sk-container-id-2 input.sk-toggleable__control:checked~div.sk-toggleable__content {\n",
              "  /* Expand drop-down */\n",
              "  max-height: 200px;\n",
              "  max-width: 100%;\n",
              "  overflow: auto;\n",
              "}\n",
              "\n",
              "#sk-container-id-2 input.sk-toggleable__control:checked~label.sk-toggleable__label-arrow:before {\n",
              "  content: \"▾\";\n",
              "}\n",
              "\n",
              "/* Pipeline/ColumnTransformer-specific style */\n",
              "\n",
              "#sk-container-id-2 div.sk-label input.sk-toggleable__control:checked~label.sk-toggleable__label {\n",
              "  color: var(--sklearn-color-text);\n",
              "  background-color: var(--sklearn-color-unfitted-level-2);\n",
              "}\n",
              "\n",
              "#sk-container-id-2 div.sk-label.fitted input.sk-toggleable__control:checked~label.sk-toggleable__label {\n",
              "  background-color: var(--sklearn-color-fitted-level-2);\n",
              "}\n",
              "\n",
              "/* Estimator-specific style */\n",
              "\n",
              "/* Colorize estimator box */\n",
              "#sk-container-id-2 div.sk-estimator input.sk-toggleable__control:checked~label.sk-toggleable__label {\n",
              "  /* unfitted */\n",
              "  background-color: var(--sklearn-color-unfitted-level-2);\n",
              "}\n",
              "\n",
              "#sk-container-id-2 div.sk-estimator.fitted input.sk-toggleable__control:checked~label.sk-toggleable__label {\n",
              "  /* fitted */\n",
              "  background-color: var(--sklearn-color-fitted-level-2);\n",
              "}\n",
              "\n",
              "#sk-container-id-2 div.sk-label label.sk-toggleable__label,\n",
              "#sk-container-id-2 div.sk-label label {\n",
              "  /* The background is the default theme color */\n",
              "  color: var(--sklearn-color-text-on-default-background);\n",
              "}\n",
              "\n",
              "/* On hover, darken the color of the background */\n",
              "#sk-container-id-2 div.sk-label:hover label.sk-toggleable__label {\n",
              "  color: var(--sklearn-color-text);\n",
              "  background-color: var(--sklearn-color-unfitted-level-2);\n",
              "}\n",
              "\n",
              "/* Label box, darken color on hover, fitted */\n",
              "#sk-container-id-2 div.sk-label.fitted:hover label.sk-toggleable__label.fitted {\n",
              "  color: var(--sklearn-color-text);\n",
              "  background-color: var(--sklearn-color-fitted-level-2);\n",
              "}\n",
              "\n",
              "/* Estimator label */\n",
              "\n",
              "#sk-container-id-2 div.sk-label label {\n",
              "  font-family: monospace;\n",
              "  font-weight: bold;\n",
              "  display: inline-block;\n",
              "  line-height: 1.2em;\n",
              "}\n",
              "\n",
              "#sk-container-id-2 div.sk-label-container {\n",
              "  text-align: center;\n",
              "}\n",
              "\n",
              "/* Estimator-specific */\n",
              "#sk-container-id-2 div.sk-estimator {\n",
              "  font-family: monospace;\n",
              "  border: 1px dotted var(--sklearn-color-border-box);\n",
              "  border-radius: 0.25em;\n",
              "  box-sizing: border-box;\n",
              "  margin-bottom: 0.5em;\n",
              "  /* unfitted */\n",
              "  background-color: var(--sklearn-color-unfitted-level-0);\n",
              "}\n",
              "\n",
              "#sk-container-id-2 div.sk-estimator.fitted {\n",
              "  /* fitted */\n",
              "  background-color: var(--sklearn-color-fitted-level-0);\n",
              "}\n",
              "\n",
              "/* on hover */\n",
              "#sk-container-id-2 div.sk-estimator:hover {\n",
              "  /* unfitted */\n",
              "  background-color: var(--sklearn-color-unfitted-level-2);\n",
              "}\n",
              "\n",
              "#sk-container-id-2 div.sk-estimator.fitted:hover {\n",
              "  /* fitted */\n",
              "  background-color: var(--sklearn-color-fitted-level-2);\n",
              "}\n",
              "\n",
              "/* Specification for estimator info (e.g. \"i\" and \"?\") */\n",
              "\n",
              "/* Common style for \"i\" and \"?\" */\n",
              "\n",
              ".sk-estimator-doc-link,\n",
              "a:link.sk-estimator-doc-link,\n",
              "a:visited.sk-estimator-doc-link {\n",
              "  float: right;\n",
              "  font-size: smaller;\n",
              "  line-height: 1em;\n",
              "  font-family: monospace;\n",
              "  background-color: var(--sklearn-color-background);\n",
              "  border-radius: 1em;\n",
              "  height: 1em;\n",
              "  width: 1em;\n",
              "  text-decoration: none !important;\n",
              "  margin-left: 1ex;\n",
              "  /* unfitted */\n",
              "  border: var(--sklearn-color-unfitted-level-1) 1pt solid;\n",
              "  color: var(--sklearn-color-unfitted-level-1);\n",
              "}\n",
              "\n",
              ".sk-estimator-doc-link.fitted,\n",
              "a:link.sk-estimator-doc-link.fitted,\n",
              "a:visited.sk-estimator-doc-link.fitted {\n",
              "  /* fitted */\n",
              "  border: var(--sklearn-color-fitted-level-1) 1pt solid;\n",
              "  color: var(--sklearn-color-fitted-level-1);\n",
              "}\n",
              "\n",
              "/* On hover */\n",
              "div.sk-estimator:hover .sk-estimator-doc-link:hover,\n",
              ".sk-estimator-doc-link:hover,\n",
              "div.sk-label-container:hover .sk-estimator-doc-link:hover,\n",
              ".sk-estimator-doc-link:hover {\n",
              "  /* unfitted */\n",
              "  background-color: var(--sklearn-color-unfitted-level-3);\n",
              "  color: var(--sklearn-color-background);\n",
              "  text-decoration: none;\n",
              "}\n",
              "\n",
              "div.sk-estimator.fitted:hover .sk-estimator-doc-link.fitted:hover,\n",
              ".sk-estimator-doc-link.fitted:hover,\n",
              "div.sk-label-container:hover .sk-estimator-doc-link.fitted:hover,\n",
              ".sk-estimator-doc-link.fitted:hover {\n",
              "  /* fitted */\n",
              "  background-color: var(--sklearn-color-fitted-level-3);\n",
              "  color: var(--sklearn-color-background);\n",
              "  text-decoration: none;\n",
              "}\n",
              "\n",
              "/* Span, style for the box shown on hovering the info icon */\n",
              ".sk-estimator-doc-link span {\n",
              "  display: none;\n",
              "  z-index: 9999;\n",
              "  position: relative;\n",
              "  font-weight: normal;\n",
              "  right: .2ex;\n",
              "  padding: .5ex;\n",
              "  margin: .5ex;\n",
              "  width: min-content;\n",
              "  min-width: 20ex;\n",
              "  max-width: 50ex;\n",
              "  color: var(--sklearn-color-text);\n",
              "  box-shadow: 2pt 2pt 4pt #999;\n",
              "  /* unfitted */\n",
              "  background: var(--sklearn-color-unfitted-level-0);\n",
              "  border: .5pt solid var(--sklearn-color-unfitted-level-3);\n",
              "}\n",
              "\n",
              ".sk-estimator-doc-link.fitted span {\n",
              "  /* fitted */\n",
              "  background: var(--sklearn-color-fitted-level-0);\n",
              "  border: var(--sklearn-color-fitted-level-3);\n",
              "}\n",
              "\n",
              ".sk-estimator-doc-link:hover span {\n",
              "  display: block;\n",
              "}\n",
              "\n",
              "/* \"?\"-specific style due to the `<a>` HTML tag */\n",
              "\n",
              "#sk-container-id-2 a.estimator_doc_link {\n",
              "  float: right;\n",
              "  font-size: 1rem;\n",
              "  line-height: 1em;\n",
              "  font-family: monospace;\n",
              "  background-color: var(--sklearn-color-background);\n",
              "  border-radius: 1rem;\n",
              "  height: 1rem;\n",
              "  width: 1rem;\n",
              "  text-decoration: none;\n",
              "  /* unfitted */\n",
              "  color: var(--sklearn-color-unfitted-level-1);\n",
              "  border: var(--sklearn-color-unfitted-level-1) 1pt solid;\n",
              "}\n",
              "\n",
              "#sk-container-id-2 a.estimator_doc_link.fitted {\n",
              "  /* fitted */\n",
              "  border: var(--sklearn-color-fitted-level-1) 1pt solid;\n",
              "  color: var(--sklearn-color-fitted-level-1);\n",
              "}\n",
              "\n",
              "/* On hover */\n",
              "#sk-container-id-2 a.estimator_doc_link:hover {\n",
              "  /* unfitted */\n",
              "  background-color: var(--sklearn-color-unfitted-level-3);\n",
              "  color: var(--sklearn-color-background);\n",
              "  text-decoration: none;\n",
              "}\n",
              "\n",
              "#sk-container-id-2 a.estimator_doc_link.fitted:hover {\n",
              "  /* fitted */\n",
              "  background-color: var(--sklearn-color-fitted-level-3);\n",
              "}\n",
              "</style><div id=\"sk-container-id-2\" class=\"sk-top-container\"><div class=\"sk-text-repr-fallback\"><pre>LogisticRegression()</pre><b>In a Jupyter environment, please rerun this cell to show the HTML representation or trust the notebook. <br />On GitHub, the HTML representation is unable to render, please try loading this page with nbviewer.org.</b></div><div class=\"sk-container\" hidden><div class=\"sk-item\"><div class=\"sk-estimator fitted sk-toggleable\"><input class=\"sk-toggleable__control sk-hidden--visually\" id=\"sk-estimator-id-2\" type=\"checkbox\" checked><label for=\"sk-estimator-id-2\" class=\"sk-toggleable__label fitted sk-toggleable__label-arrow fitted\">&nbsp;&nbsp;LogisticRegression<a class=\"sk-estimator-doc-link fitted\" rel=\"noreferrer\" target=\"_blank\" href=\"https://scikit-learn.org/1.5/modules/generated/sklearn.linear_model.LogisticRegression.html\">?<span>Documentation for LogisticRegression</span></a><span class=\"sk-estimator-doc-link fitted\">i<span>Fitted</span></span></label><div class=\"sk-toggleable__content fitted\"><pre>LogisticRegression()</pre></div> </div></div></div></div>"
            ]
          },
          "metadata": {},
          "execution_count": 63
        }
      ]
    },
    {
      "cell_type": "code",
      "source": [
        "preds = nb_rev.predict(X_rev_tfidf_test)\n",
        "print(classification_report(y_rev_test, preds))"
      ],
      "metadata": {
        "colab": {
          "base_uri": "https://localhost:8080/"
        },
        "id": "6ZUiUZzO_7Rg",
        "outputId": "43f40ec2-47f3-4ccd-8541-ea7f883e401c"
      },
      "execution_count": 64,
      "outputs": [
        {
          "output_type": "stream",
          "name": "stdout",
          "text": [
            "              precision    recall  f1-score   support\n",
            "\n",
            "           0       0.88      0.89      0.88     12500\n",
            "           1       0.88      0.88      0.88     12500\n",
            "\n",
            "    accuracy                           0.88     25000\n",
            "   macro avg       0.88      0.88      0.88     25000\n",
            "weighted avg       0.88      0.88      0.88     25000\n",
            "\n"
          ]
        }
      ]
    },
    {
      "cell_type": "code",
      "source": [
        "conf_mtx = confusion_matrix(y_rev_test, preds)\n",
        "conf_mtx_plot = ConfusionMatrixDisplay(\n",
        "     confusion_matrix=conf_mtx\n",
        ")\n",
        "conf_mtx_plot.plot(cmap='plasma')"
      ],
      "metadata": {
        "colab": {
          "base_uri": "https://localhost:8080/",
          "height": 466
        },
        "id": "TvHX23WzAUTZ",
        "outputId": "70177eb2-5e1b-43bc-d86a-f3336f3cc537"
      },
      "execution_count": 65,
      "outputs": [
        {
          "output_type": "execute_result",
          "data": {
            "text/plain": [
              "<sklearn.metrics._plot.confusion_matrix.ConfusionMatrixDisplay at 0x7af3ec088fd0>"
            ]
          },
          "metadata": {},
          "execution_count": 65
        },
        {
          "output_type": "display_data",
          "data": {
            "text/plain": [
              "<Figure size 640x480 with 2 Axes>"
            ],
            "image/png": "[encoded data removed]"
          },
          "metadata": {}
        }
      ]
    },
    {
      "cell_type": "code",
      "source": [
        "#Show weights for BOW\n",
        "# https://www.nlplanet.org/course-practical-nlp/01-intro-to-nlp/04-n-grams\n",
        "# create a pandas dataframe that shows the unigrams in each text\n",
        "keys_values_sorted = sorted(list(tfidf_rev_vec.vocabulary_.items()), key=lambda t: t[1])\n",
        "keys_sorted = list(zip(*keys_values_sorted))[0]\n",
        "\n",
        "# show logistic regression weights\n",
        "from_unigram_to_weight = dict(zip(keys_sorted, nb_rev.coef_[0]))\n",
        "from_unigram_to_weight\n",
        "print('Positive')\n",
        "sorted(zip(nb_rev.coef_[0] , keys_sorted) , reverse = True)[:20]"
      ],
      "metadata": {
        "colab": {
          "base_uri": "https://localhost:8080/"
        },
        "id": "s2qnehMK-tUQ",
        "outputId": "7e157929-ab76-4974-aa08-838abc807b15"
      },
      "execution_count": 66,
      "outputs": [
        {
          "output_type": "stream",
          "name": "stdout",
          "text": [
            "Positive\n"
          ]
        },
        {
          "output_type": "execute_result",
          "data": {
            "text/plain": [
              "[(6.994809045801712, 'great'),\n",
              " (6.069192896681408, 'excellent'),\n",
              " (4.9700725837169095, 'best'),\n",
              " (4.891830923687079, 'perfect'),\n",
              " (4.625481639987624, 'wonderful'),\n",
              " (4.1308935600523515, 'amazing'),\n",
              " (3.8469357768432526, 'well'),\n",
              " (3.803569623780748, 'loved'),\n",
              " (3.767179303399495, 'today'),\n",
              " (3.70601825790475, 'fun'),\n",
              " (3.663943395984657, 'favorite'),\n",
              " (3.4764069186504263, 'enjoyed'),\n",
              " (3.4263248472786376, 'love'),\n",
              " (3.366954260590547, 'highly'),\n",
              " (3.340047530068532, 'superb'),\n",
              " (3.335296169661499, 'brilliant'),\n",
              " (3.0625168816399206, 'enjoyable'),\n",
              " (3.0531292224829354, 'definitely'),\n",
              " (3.0175338317387497, 'bit'),\n",
              " (2.943250626909564, 'still')]"
            ]
          },
          "metadata": {},
          "execution_count": 66
        }
      ]
    },
    {
      "cell_type": "code",
      "source": [
        "print('Negative')\n",
        "sorted(zip(nb_rev.coef_[0] , keys_sorted) , reverse = False)[:20]"
      ],
      "metadata": {
        "colab": {
          "base_uri": "https://localhost:8080/"
        },
        "id": "YXLNqpTr7KZg",
        "outputId": "436e50cd-ab96-4218-b6d8-87938cc5dab1"
      },
      "execution_count": 67,
      "outputs": [
        {
          "output_type": "stream",
          "name": "stdout",
          "text": [
            "Negative\n"
          ]
        },
        {
          "output_type": "execute_result",
          "data": {
            "text/plain": [
              "[(-8.983098053994928, 'worst'),\n",
              " (-7.1981534160390845, 'bad'),\n",
              " (-6.313876061714089, 'awful'),\n",
              " (-6.2856803698788655, 'waste'),\n",
              " (-5.69933813285616, 'boring'),\n",
              " (-5.238380177027282, 'poor'),\n",
              " (-4.537689818810031, 'nothing'),\n",
              " (-4.5200232889804735, 'terrible'),\n",
              " (-4.360151440550248, 'worse'),\n",
              " (-4.2642714938755715, 'poorly'),\n",
              " (-4.188421699241287, 'dull'),\n",
              " (-4.104053072900853, 'horrible'),\n",
              " (-4.072004642695093, 'unfortunately'),\n",
              " (-3.878458055290772, 'no'),\n",
              " (-3.7972496304100245, 'disappointment'),\n",
              " (-3.7519461794664624, 'annoying'),\n",
              " (-3.68812100887997, 'disappointing'),\n",
              " (-3.6614869026107413, 'ridiculous'),\n",
              " (-3.617440143320635, 'stupid'),\n",
              " (-3.5734002047347073, 'fails')]"
            ]
          },
          "metadata": {},
          "execution_count": 67
        }
      ]
    },
    {
      "cell_type": "markdown",
      "source": [
        "# **Let's build a pipline**"
      ],
      "metadata": {
        "id": "1-oUWSo78VlX"
      }
    },
    {
      "cell_type": "code",
      "source": [
        "from sklearn.naive_bayes import BernoulliNB\n",
        "#('clf', LogisticRegression(solver='lbfgs')),])\n",
        "#('clf', DecisionTreeClassifier(max_depth=35))])\n",
        "\n",
        "text_clf = Pipeline([('vect', CountVectorizer(stop_words='english',max_features=10000,ngram_range=(1,2))),\n",
        "                    ('tfidf', TfidfTransformer()),\n",
        "                     ('clf', LogisticRegression(fit_intercept=True))])"
      ],
      "metadata": {
        "id": "_y9VlMk-nxco"
      },
      "execution_count": 68,
      "outputs": []
    },
    {
      "cell_type": "code",
      "source": [
        "text_clf.fit(X_rev_train, y_rev_train)\n",
        "text_clf.score(X_rev_test,y_rev_test)"
      ],
      "metadata": {
        "colab": {
          "base_uri": "https://localhost:8080/"
        },
        "id": "eJEs5rOenyYn",
        "outputId": "b1abb99b-7775-419a-f274-79495ee1a3ac"
      },
      "execution_count": 69,
      "outputs": [
        {
          "output_type": "execute_result",
          "data": {
            "text/plain": [
              "0.88156"
            ]
          },
          "metadata": {},
          "execution_count": 69
        }
      ]
    },
    {
      "cell_type": "code",
      "source": [
        "print(text_clf.predict(['false awful we we bla bla bla great great']))\n",
        "print(text_clf.predict_proba(['false awful we we bla bla bla great great']))"
      ],
      "metadata": {
        "colab": {
          "base_uri": "https://localhost:8080/"
        },
        "id": "zrlwLDRb-EGV",
        "outputId": "ebdc756c-1dcc-423d-a656-de8a50d3e703"
      },
      "execution_count": 70,
      "outputs": [
        {
          "output_type": "stream",
          "name": "stdout",
          "text": [
            "[1]\n",
            "[[0.40606714 0.59393286]]\n"
          ]
        }
      ]
    },
    {
      "cell_type": "code",
      "source": [],
      "metadata": {
        "id": "Im3x-164F-zW"
      },
      "execution_count": 70,
      "outputs": []
    },
    {
      "cell_type": "markdown",
      "source": [
        "# Vocabulary Stemmer and Lemmatization"
      ],
      "metadata": {
        "id": "VLDYQAVx-F-T"
      }
    },
    {
      "cell_type": "code",
      "source": [
        "from nltk.stem.porter import PorterStemmer\n",
        "from nltk.stem import WordNetLemmatizer\n",
        "from nltk.corpus import stopwords\n",
        "import nltk\n",
        "\n",
        "nltk.download('wordnet')\n",
        "from sklearn import metrics\n",
        "from nltk.corpus import stopwords\n",
        "from sklearn.linear_model import SGDClassifier\n",
        "nltk.download('stopwords')\n",
        "stop_words = stopwords.words('english')\n",
        "\n",
        "pipelineSGD = Pipeline([\n",
        "    ('vectorizer', CountVectorizer(stop_words = stop_words, ngram_range = (1,2), max_features = None)),\n",
        "    ('tfidf', TfidfTransformer()),\n",
        "    ('clf', SGDClassifier(loss='hinge', penalty='l2', alpha=1e-4, max_iter=60))\n",
        "])\n",
        "\n",
        "pipelineSGD.fit(X_rev_train, y_rev_train)\n",
        "\n",
        "y_predSGD = pipelineSGD.predict(X_rev_test)\n",
        "print(\"Predicted: \", y_predSGD)\n",
        "\n",
        "print(\"Accuracy: \", metrics.accuracy_score(y_rev_test, y_predSGD)*100, \"%\")"
      ],
      "metadata": {
        "colab": {
          "base_uri": "https://localhost:8080/"
        },
        "id": "JeggZyh3xsXK",
        "outputId": "d375aa3e-5073-4111-90be-90d26e41462c"
      },
      "execution_count": 71,
      "outputs": [
        {
          "output_type": "stream",
          "name": "stderr",
          "text": [
            "[nltk_data] Downloading package wordnet to /root/nltk_data...\n",
            "[nltk_data]   Package wordnet is already up-to-date!\n",
            "[nltk_data] Downloading package stopwords to /root/nltk_data...\n",
            "[nltk_data]   Package stopwords is already up-to-date!\n"
          ]
        },
        {
          "output_type": "stream",
          "name": "stdout",
          "text": [
            "Predicted:  [0 0 0 ... 1 0 1]\n",
            "Accuracy:  88.69200000000001 %\n"
          ]
        }
      ]
    },
    {
      "cell_type": "code",
      "source": [
        "from sklearn.svm import LinearSVC\n",
        "\n",
        "pipelineSVM = Pipeline([\n",
        "    ('vectorizer', CountVectorizer(stop_words = stop_words, ngram_range = (1,2), max_features = None)),\n",
        "    ('tfidf', TfidfTransformer()),\n",
        "    ('clf', LinearSVC(C = 0.5, max_iter = 1000, penalty = 'l2', tol = 0.01))\n",
        "])\n",
        "\n",
        "\n",
        "pipelineSVM.fit(X_rev_train, y_rev_train)\n",
        "\n",
        "y_predSVM = pipelineSVM.predict(X_rev_test)\n",
        "print(\"Predicted: \", y_predSVM)\n",
        "\n",
        "print(\"Accuracy: \", metrics.accuracy_score(y_rev_test, y_predSVM)*100, \"%\")"
      ],
      "metadata": {
        "colab": {
          "base_uri": "https://localhost:8080/"
        },
        "id": "oMgwja6JzBkd",
        "outputId": "e93ab85e-d53c-4798-ace1-4c4d28275a16"
      },
      "execution_count": 72,
      "outputs": [
        {
          "output_type": "stream",
          "name": "stdout",
          "text": [
            "Predicted:  [0 0 0 ... 1 0 1]\n",
            "Accuracy:  89.22 %\n"
          ]
        }
      ]
    },
    {
      "cell_type": "code",
      "source": [
        "text_clf = Pipeline([('vect', CountVectorizer(analyzer='word', token_pattern=r'\\w{2,}',  strip_accents='unicode', stop_words=stop_words, max_features=10000,ngram_range=(1,1))),\n",
        "                     ('tfidf', TfidfTransformer()), ('clf', LogisticRegression()),])\n",
        "text_clf.fit(X_rev_train, y_rev_train)\n",
        "text_clf.score(X_rev_test,y_rev_test)"
      ],
      "metadata": {
        "colab": {
          "base_uri": "https://localhost:8080/"
        },
        "id": "8tMmNCCLUgqa",
        "outputId": "964204fb-8730-4e90-b206-68d8000b3711"
      },
      "execution_count": 73,
      "outputs": [
        {
          "output_type": "execute_result",
          "data": {
            "text/plain": [
              "0.883"
            ]
          },
          "metadata": {},
          "execution_count": 73
        }
      ]
    },
    {
      "cell_type": "code",
      "source": [
        "# Most common words that were used in positive reviews\n",
        "#https://github.com/Kasra1377/IMDB-sentiment-analysis/blob/master/data-preprocessing.ipynb\n",
        "features = text_clf['vect'].get_feature_names_out()\n",
        "sorted(zip(text_clf['clf'].coef_[0] , features) , reverse = True)[:20]\n"
      ],
      "metadata": {
        "colab": {
          "base_uri": "https://localhost:8080/"
        },
        "id": "p3ra8MheXWAs",
        "outputId": "2df29316-efb7-4815-9e81-2a6d8d35a77a"
      },
      "execution_count": 74,
      "outputs": [
        {
          "output_type": "execute_result",
          "data": {
            "text/plain": [
              "[(6.702523394388523, 'great'),\n",
              " (5.98844561152383, 'excellent'),\n",
              " (4.9466318577776995, 'best'),\n",
              " (4.765188514430906, 'perfect'),\n",
              " (4.625436539344808, 'wonderful'),\n",
              " (4.097720272575501, 'amazing'),\n",
              " (4.007839906630627, 'favorite'),\n",
              " (3.8985448780902376, 'well'),\n",
              " (3.6937743786864368, 'loved'),\n",
              " (3.63276937191672, 'love'),\n",
              " (3.5433308540521864, 'today'),\n",
              " (3.531193417323682, 'highly'),\n",
              " (3.5291440019388975, 'fun'),\n",
              " (3.5092939171913695, 'enjoyed'),\n",
              " (3.3762808440778063, 'superb'),\n",
              " (3.3054041690363345, 'brilliant'),\n",
              " (3.1632922296186172, 'enjoyable'),\n",
              " (3.1245249742493404, 'definitely'),\n",
              " (3.0357459663505875, 'fantastic'),\n",
              " (2.9558245636259723, 'beautiful')]"
            ]
          },
          "metadata": {},
          "execution_count": 74
        }
      ]
    },
    {
      "cell_type": "code",
      "source": [
        "# Most common words that were used in negative reviews\n",
        "sorted(zip(text_clf['clf'].coef_[0] , features))[:20]"
      ],
      "metadata": {
        "colab": {
          "base_uri": "https://localhost:8080/"
        },
        "id": "pHTvfsFLY0HL",
        "outputId": "5e145685-d6d8-4376-95a3-671d98d11c35"
      },
      "execution_count": 75,
      "outputs": [
        {
          "output_type": "execute_result",
          "data": {
            "text/plain": [
              "[(-9.041766495095406, 'worst'),\n",
              " (-7.218062984284839, 'bad'),\n",
              " (-6.517455666901647, 'waste'),\n",
              " (-6.49853806699128, 'awful'),\n",
              " (-5.660308036676881, 'boring'),\n",
              " (-5.170537106776461, 'poor'),\n",
              " (-4.77399888570321, 'nothing'),\n",
              " (-4.681526912879473, 'worse'),\n",
              " (-4.611096879846951, 'terrible'),\n",
              " (-4.391857272703645, 'poorly'),\n",
              " (-4.346655704460358, 'horrible'),\n",
              " (-4.258494022963505, 'dull'),\n",
              " (-4.12781067883213, 'unfortunately'),\n",
              " (-4.085833757275736, 'disappointment'),\n",
              " (-3.88853485345611, 'supposed'),\n",
              " (-3.8287153018431908, 'annoying'),\n",
              " (-3.775979151824141, 'disappointing'),\n",
              " (-3.735460582448211, 'ridiculous'),\n",
              " (-3.68415679678861, 'fails'),\n",
              " (-3.6015866606110563, 'mess')]"
            ]
          },
          "metadata": {},
          "execution_count": 75
        }
      ]
    },
    {
      "cell_type": "code",
      "source": [],
      "metadata": {
        "id": "FuxyXI3DezJO"
      },
      "execution_count": 75,
      "outputs": []
    },
    {
      "cell_type": "markdown",
      "source": [
        "Examining the Model Performance"
      ],
      "metadata": {
        "id": "7qJU50fRZGNt"
      }
    },
    {
      "cell_type": "code",
      "source": [
        "\n",
        "text = \"DONT WATCH THIS MOVIE. its a complete trash\""
      ],
      "metadata": {
        "id": "R_929S_XXktN"
      },
      "execution_count": 76,
      "outputs": []
    },
    {
      "cell_type": "code",
      "source": [
        "from nltk.stem.porter import PorterStemmer\n",
        "import re\n",
        "ps = PorterStemmer()\n",
        "CLEAN = re.compile(\"<.*?>\")    # to remove everything between \"<>\"\n",
        "result = re.sub(CLEAN, \" \", text)\n",
        "result = re.sub(\"[^a-zA-Z]\" , \" \" , result)\n",
        "result = result.lower()\n",
        "result = result.split()   # to break sentences into words\n",
        "word = [ps.stem(word) for word in result if word not in stopwords.words(\"english\")]\n",
        "result = \" \".join(word)\n",
        "print(result)"
      ],
      "metadata": {
        "colab": {
          "base_uri": "https://localhost:8080/"
        },
        "id": "8Ug5fyx8ZUVW",
        "outputId": "91877b3a-77a3-44c0-bc19-0670b73019bc"
      },
      "execution_count": 77,
      "outputs": [
        {
          "output_type": "stream",
          "name": "stdout",
          "text": [
            "dont watch movi complet trash\n"
          ]
        }
      ]
    },
    {
      "cell_type": "code",
      "source": [
        "print(text_clf.predict_proba([text]))"
      ],
      "metadata": {
        "colab": {
          "base_uri": "https://localhost:8080/"
        },
        "id": "6eATI5CBZqpD",
        "outputId": "fb36d0f3-c615-4393-b96a-8b728ac8ad39"
      },
      "execution_count": 78,
      "outputs": [
        {
          "output_type": "stream",
          "name": "stdout",
          "text": [
            "[[0.76189003 0.23810997]]\n"
          ]
        }
      ]
    },
    {
      "cell_type": "markdown",
      "source": [
        "# **The best sklearn result**"
      ],
      "metadata": {
        "id": "Z7oiUanHi1np"
      }
    },
    {
      "cell_type": "code",
      "source": [
        "#https://www.kaggle.com/code/adamschroeder/countvectorizer-tfidfvectorizer-predict-comments\n",
        "from sklearn.feature_extraction import text\n",
        "my_stop_words = text.ENGLISH_STOP_WORDS.union([\"book\"])\n",
        "\n",
        "pipe = make_pipeline(TfidfVectorizer(\n",
        "                                    stop_words='english',\n",
        "                                    strip_accents='unicode',\n",
        "                                    token_pattern=r'\\w{1,}', #accept tokens that have 1 or more characters\n",
        "                                    analyzer='word',\n",
        "                                    ngram_range=(1, 2),\n",
        "                                    min_df=100),\n",
        "                     LinearSVC(C = 0.5, max_iter = 1000, penalty = 'l2', tol = 0.01))\n",
        "param_grid = {'tfidfvectorizer__max_features': [None],\n",
        "              'tfidfvectorizer__sublinear_tf': [True],\n",
        "              'tfidfvectorizer__smooth_idf': [True],\n",
        "              'tfidfvectorizer__use_idf': [True],\n",
        "              'tfidfvectorizer__stop_words': [None],\n",
        "              'linearsvc__C': [ 0.1],\n",
        "\n",
        "             }\n",
        "grid = GridSearchCV(pipe, param_grid, cv=3)\n",
        "\n",
        "grid3 = grid.fit(X_rev_train, y_rev_train)\n",
        "\n"
      ],
      "metadata": {
        "id": "gtpZdsRyao66"
      },
      "execution_count": 79,
      "outputs": []
    },
    {
      "cell_type": "code",
      "source": [
        "print(grid3.best_params_)\n",
        "print(grid3.best_score_)\n"
      ],
      "metadata": {
        "colab": {
          "base_uri": "https://localhost:8080/"
        },
        "id": "Oo9C_xX0GMQr",
        "outputId": "b4a679c4-d88a-48bb-da2d-8ee40e77c1cc"
      },
      "execution_count": 80,
      "outputs": [
        {
          "output_type": "stream",
          "name": "stdout",
          "text": [
            "{'linearsvc__C': 0.1, 'tfidfvectorizer__max_features': None, 'tfidfvectorizer__smooth_idf': True, 'tfidfvectorizer__stop_words': None, 'tfidfvectorizer__sublinear_tf': True, 'tfidfvectorizer__use_idf': True}\n",
            "0.8868400332365587\n"
          ]
        }
      ]
    },
    {
      "cell_type": "code",
      "source": [
        "grid3.score(X_rev_test,y_rev_test)"
      ],
      "metadata": {
        "colab": {
          "base_uri": "https://localhost:8080/"
        },
        "id": "ejLGGDBJGXrB",
        "outputId": "c3f2f7b0-6833-4b85-d0f5-3e6664c559cc"
      },
      "execution_count": 81,
      "outputs": [
        {
          "output_type": "execute_result",
          "data": {
            "text/plain": [
              "0.8994"
            ]
          },
          "metadata": {},
          "execution_count": 81
        }
      ]
    },
    {
      "cell_type": "code",
      "source": [
        "# for the comparition best results:\n",
        "# https://paperswithcode.com/sota/sentiment-analysis-on-imdb"
      ],
      "metadata": {
        "id": "GOuBtP6N4_1-"
      },
      "execution_count": 82,
      "outputs": []
    },
    {
      "cell_type": "code",
      "source": [
        "print(grid3.predict(['ok recommended its greate 10 of 10 movie']))"
      ],
      "metadata": {
        "colab": {
          "base_uri": "https://localhost:8080/"
        },
        "id": "gRrWDSGrQx4j",
        "outputId": "62e540c1-dd62-49bc-86ef-569d79b7dad5"
      },
      "execution_count": 101,
      "outputs": [
        {
          "output_type": "stream",
          "name": "stdout",
          "text": [
            "[1]\n"
          ]
        }
      ]
    },
    {
      "cell_type": "code",
      "source": [
        "y_pred=grid3.predict(X_rev_test)"
      ],
      "metadata": {
        "id": "6roOReJ3UVLO"
      },
      "execution_count": 84,
      "outputs": []
    },
    {
      "cell_type": "code",
      "source": [
        "print(\"Accuracy: \", metrics.accuracy_score(y_rev_test, y_pred)*100, \"%\")"
      ],
      "metadata": {
        "colab": {
          "base_uri": "https://localhost:8080/"
        },
        "id": "TuW8KCB0Ue0B",
        "outputId": "4582b4d2-4f7e-4a88-a5d1-4840baac2bdd"
      },
      "execution_count": 85,
      "outputs": [
        {
          "output_type": "stream",
          "name": "stdout",
          "text": [
            "Accuracy:  89.94 %\n"
          ]
        }
      ]
    },
    {
      "cell_type": "code",
      "source": [
        "y_test = np.asarray(y_rev_test)\n",
        "misclassified = np.where(y_test != grid3.predict(X_rev_test))\n",
        "len(misclassified[0])"
      ],
      "metadata": {
        "id": "2Mr-UPeDUseQ",
        "colab": {
          "base_uri": "https://localhost:8080/"
        },
        "outputId": "734f94c0-9e42-47fa-f89a-36ace1186003"
      },
      "execution_count": 120,
      "outputs": [
        {
          "output_type": "execute_result",
          "data": {
            "text/plain": [
              "2515"
            ]
          },
          "metadata": {},
          "execution_count": 120
        }
      ]
    },
    {
      "cell_type": "code",
      "source": [
        "i=2000\n",
        "print('True label=',y_test[misclassified[0][i]], ' predicted =', 1-y_test[misclassified[0][i]] )\n",
        "X_rev_test[misclassified[0][i]]\n"
      ],
      "metadata": {
        "colab": {
          "base_uri": "https://localhost:8080/",
          "height": 140
        },
        "id": "u0iMTBUdQTWW",
        "outputId": "a1801bad-300c-4f2e-ba70-3ffffff9bf9e"
      },
      "execution_count": 124,
      "outputs": [
        {
          "output_type": "stream",
          "name": "stdout",
          "text": [
            "True label= 1  predicted = 0\n"
          ]
        },
        {
          "output_type": "execute_result",
          "data": {
            "text/plain": [
              "\"I first saw this docudrama in the UK in the 1980's, and found myself intrigued and then astonished at how such good intentions could go so wrong. Previous commentators (who are Australian) have explained the unfolding plot's detail better than I ever could, but I would like to make an observation about what may lie behind the Governor-Generals 'UK Sovereign power'. All modern laws, as I understand them, need an ethical or philosophical root to exist in the first place and to become A law at all. That being the case, and if say the Conner's/Khemlani mess had been possibly set up,(just how many businessmen/millionares had been served by Khemlani, presumably without complaint), then the Labour government could have been victims of 'entrapment', which would surely have had to have been investigated' by the Governor-General as or until he could see that the budget standoff was A genuine result of Whitlam's fecklessness, and NOT elaborate entrapment, sponsored by 'person or person's unknown'! If its the case that Kerr in effect didn't have to refer to the law because fiscal circumstances overrides everything, then 'royal power' borders onto unreason; the implications in any Commonwealth country is that 'fiscal' rules literally, and that any person or organisation has Carte Blanche to break any other rule, physical or mental, so long as they have the control over the purse strings ultimately!\""
            ],
            "application/vnd.google.colaboratory.intrinsic+json": {
              "type": "string"
            }
          },
          "metadata": {},
          "execution_count": 124
        }
      ]
    },
    {
      "cell_type": "code",
      "source": [
        "cm=confusion_matrix(y_test, grid3.predict(X_rev_test))\n",
        "disp = ConfusionMatrixDisplay(confusion_matrix=cm,\n",
        "                              display_labels=grid3.classes_)\n",
        "disp.plot()\n",
        "plt.show()"
      ],
      "metadata": {
        "colab": {
          "base_uri": "https://localhost:8080/",
          "height": 449
        },
        "id": "yNgJAji9QUmO",
        "outputId": "ab61de37-8046-4ad6-8ca8-252e28d3a496"
      },
      "execution_count": 127,
      "outputs": [
        {
          "output_type": "display_data",
          "data": {
            "text/plain": [
              "<Figure size 640x480 with 2 Axes>"
            ],
            "image/png": "[encoded data removed]"
          },
          "metadata": {}
        }
      ]
    }
  ]
}