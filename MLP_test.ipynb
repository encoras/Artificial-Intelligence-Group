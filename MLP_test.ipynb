{
  "nbformat": 4,
  "nbformat_minor": 0,
  "metadata": {
    "colab": {
      "provenance": [],
      "authorship_tag": "ABX9TyPLNtSM2xd8zdxsqdcnBURk",
      "include_colab_link": true
    },
    "kernelspec": {
      "name": "python3",
      "display_name": "Python 3"
    },
    "language_info": {
      "name": "python"
    }
  },
  "cells": [
    {
      "cell_type": "markdown",
      "metadata": {
        "id": "view-in-github",
        "colab_type": "text"
      },
      "source": [
        "<a href=\"https://colab.research.google.com/github/encoras/Artificial-Intelligence-Group/blob/master/MLP_test.ipynb\" target=\"_parent\"><img src=\"https://colab.research.google.com/assets/colab-badge.svg\" alt=\"Open In Colab\"/></a>"
      ]
    },
    {
      "cell_type": "markdown",
      "source": [
        "The code is adopted from:\n",
        "\n",
        "\n",
        "https://python-course.eu/machine-learning/neural-networks-with-scikit.php\n",
        "\n",
        "\n"
      ],
      "metadata": {
        "id": "tSKRJ8-hO6WY"
      }
    },
    {
      "cell_type": "markdown",
      "source": [
        "Let's do a correct classification\n"
      ],
      "metadata": {
        "id": "MSPdR2hbKc1-"
      }
    },
    {
      "cell_type": "code",
      "source": [
        "from  sklearn import datasets\n",
        "from sklearn.model_selection import train_test_split\n",
        "from sklearn import metrics\n",
        "from matplotlib import pyplot as plt\n",
        "from sklearn.neural_network import MLPClassifier"
      ],
      "metadata": {
        "id": "yvqM5297KhBV"
      },
      "execution_count": 61,
      "outputs": []
    },
    {
      "cell_type": "code",
      "source": [
        "# Load IRIS\n",
        "X, y = datasets.load_iris(return_X_y=True)"
      ],
      "metadata": {
        "id": "eHLh6V2eK6Z4"
      },
      "execution_count": 80,
      "outputs": []
    },
    {
      "cell_type": "code",
      "source": [
        "X_temp, X_test, y_temp, y_test = train_test_split(X, y, test_size=0.4, random_state=1, shuffle=True, stratify=y)\n",
        "X_train, X_valid, y_train, y_valid = train_test_split(X_temp, y_temp, test_size=0.1, random_state=10, shuffle=True, stratify=y_temp)"
      ],
      "metadata": {
        "id": "4s15CsOzK8yo"
      },
      "execution_count": 63,
      "outputs": []
    },
    {
      "cell_type": "markdown",
      "source": [
        "We will create now a **MLPClassifier**.\n",
        "\n",
        "A few notes on the used parameters:\n",
        "\n",
        "*hidden_layer_sizes*: `tuple, length` = *n_layers* - 2, default=(100,)\n",
        "The ith element represents the number of neurons in the ith hidden layer.\n",
        "(6,) means one hidden layer with 6 neurons.\n",
        "\n",
        "*solver*:\n",
        "The weight optimization can be influenced with the solver parameter. Three solver modes are available\n",
        "\n",
        "'`lbfgs`' - is an optimizer in the family of quasi-Newton methods.\n",
        "\n",
        "'`sgd`' - refers to stochastic gradient descent.\n",
        "\n",
        "'`adam`' - refers to a stochastic gradient-based optimizer proposed by Kingma, Diederik, and Jimmy Ba.\n",
        "\n",
        "Without understanding in the details of the solvers, you should know the following: 'adam' works pretty well - both training time and validation score - on relatively large datasets, i.e. thousands of training samples or more. For small datasets, however, 'lbfgs' can converge faster and perform better.\n",
        "\n",
        "'`alpha`' - This parameter can be used to control possible '*overfitting*' and 'underfitting'. We will cover it in detail further down."
      ],
      "metadata": {
        "id": "dMDx9FoiUeof"
      }
    },
    {
      "cell_type": "code",
      "source": [
        "# Comparing the optimizers for network with 6 neurons in hiden layer\n",
        "clf_lb = MLPClassifier(solver='lbfgs', alpha=1e-5, hidden_layer_sizes=(6,), random_state=123).fit(X_train, y_train)\n",
        "clf_sgd = MLPClassifier(solver='sgd', max_iter=3000, alpha=1e-5, hidden_layer_sizes=(6,), random_state=123).fit(X_train, y_train)\n",
        "clf_adam = MLPClassifier(solver='adam', max_iter=3000, alpha=1e-5, hidden_layer_sizes=(6,), random_state=123).fit(X_train, y_train)\n"
      ],
      "metadata": {
        "id": "Z1eYp-yrLGC3"
      },
      "execution_count": 64,
      "outputs": []
    },
    {
      "cell_type": "code",
      "source": [
        "#lbfgs test\n",
        "y_pred = clf_lb.predict(X_test)\n",
        "scores_clf_lb=metrics.accuracy_score(y_test,y_pred)\n",
        "\n",
        "#sgd test\n",
        "y_pred = clf_sgd.predict(X_test)\n",
        "scores_clf_sgd=metrics.accuracy_score(y_test,y_pred)\n",
        "\n",
        "#adam test\n",
        "y_pred = clf_adam.predict(X_test)\n",
        "scores_clf_adam=metrics.accuracy_score(y_test,y_pred)\n",
        "\n",
        "\n",
        "print('lbfgs = ', scores_clf_lb, \";  sgd = \", scores_clf_sgd, \"; adam = \", scores_clf_adam )\n"
      ],
      "metadata": {
        "colab": {
          "base_uri": "https://localhost:8080/"
        },
        "id": "f_nYyrPFLtLX",
        "outputId": "6416c1c8-fd41-42bf-9b3f-6c642a39e52b"
      },
      "execution_count": 65,
      "outputs": [
        {
          "output_type": "stream",
          "name": "stdout",
          "text": [
            "lbfgs =  0.6271929824561403 ;  sgd =  0.6271929824561403 ; adam =  0.9429824561403509\n"
          ]
        }
      ]
    },
    {
      "cell_type": "markdown",
      "source": [
        "What is the influence of space scaling?"
      ],
      "metadata": {
        "id": "10XsA_IfNIil"
      }
    },
    {
      "cell_type": "code",
      "source": [
        "from sklearn.preprocessing import StandardScaler\n",
        "scaler = StandardScaler()\n",
        "scaler.fit(X_train)\n",
        "X_train_std=scaler.transform(X_train)\n",
        "X_test_std=scaler.transform(X_test)\n",
        "X_valid_std=scaler.transform(X_valid)\n",
        "\n",
        "from sklearn.preprocessing import MinMaxScaler\n",
        "scaler = MinMaxScaler()\n",
        "scaler.fit(X_train)\n",
        "X_train_mm=scaler.transform(X_train)\n",
        "X_test_mm=scaler.transform(X_test)\n",
        "X_valid_mm=scaler.transform(X_valid)"
      ],
      "metadata": {
        "id": "kM9pMsZUNN6r"
      },
      "execution_count": 66,
      "outputs": []
    },
    {
      "cell_type": "code",
      "source": [
        "# Min-Max scaler\n",
        "# Comparing the optimizers for network with 6 neurons in hiden layer\n",
        "clf_lb = MLPClassifier(solver='lbfgs', alpha=1e-5, hidden_layer_sizes=(6,), random_state=123).fit(X_train_mm, y_train)\n",
        "clf_sgd = MLPClassifier(solver='sgd', max_iter=3000, alpha=1e-5, hidden_layer_sizes=(6,), random_state=123).fit(X_train_mm, y_train)\n",
        "clf_adam = MLPClassifier(solver='adam', max_iter=3000, alpha=1e-5, hidden_layer_sizes=(6,), random_state=123).fit(X_train_mm, y_train)\n",
        "#lbfgs test\n",
        "y_pred = clf_lb.predict(X_test_mm)\n",
        "scores_clf_lb=metrics.accuracy_score(y_test,y_pred)\n",
        "\n",
        "#sgd test\n",
        "y_pred = clf_sgd.predict(X_test_mm)\n",
        "scores_clf_sgd=metrics.accuracy_score(y_test,y_pred)\n",
        "\n",
        "#adam test\n",
        "y_pred = clf_adam.predict(X_test_mm)\n",
        "scores_clf_adam=metrics.accuracy_score(y_test,y_pred)\n",
        "\n",
        "\n",
        "print('lbfgs_mm = ', scores_clf_lb, \";  sgd_mm = \", scores_clf_sgd, \"; adam_mm = \", scores_clf_adam )"
      ],
      "metadata": {
        "colab": {
          "base_uri": "https://localhost:8080/"
        },
        "id": "voYL-YEjNh7d",
        "outputId": "287da552-729c-418f-e9b3-d6abdade6602"
      },
      "execution_count": 67,
      "outputs": [
        {
          "output_type": "stream",
          "name": "stdout",
          "text": [
            "lbfgs_mm =  0.9517543859649122 ;  sgd_mm =  0.9385964912280702 ; adam_mm =  0.9473684210526315\n"
          ]
        }
      ]
    },
    {
      "cell_type": "code",
      "source": [
        "# Standartisation scaler\n",
        "# Comparing the optimizers for network with 6 neurons in hiden layer\n",
        "clf_lb = MLPClassifier(solver='lbfgs', alpha=1e-5, hidden_layer_sizes=(6,), random_state=123).fit(X_train_std, y_train)\n",
        "clf_sgd = MLPClassifier(solver='sgd', max_iter=3000, alpha=1e-5, hidden_layer_sizes=(6,), random_state=123).fit(X_train_std, y_train)\n",
        "clf_adam = MLPClassifier(solver='adam', max_iter=3000, alpha=1e-5, hidden_layer_sizes=(6,), random_state=123).fit(X_train_std, y_train)\n",
        "#lbfgs test\n",
        "y_pred = clf_lb.predict(X_test_std)\n",
        "scores_clf_lb=metrics.accuracy_score(y_test,y_pred)\n",
        "\n",
        "#sgd test\n",
        "y_pred = clf_sgd.predict(X_test_std)\n",
        "scores_clf_sgd=metrics.accuracy_score(y_test,y_pred)\n",
        "\n",
        "#adam test\n",
        "y_pred = clf_adam.predict(X_test_std)\n",
        "scores_clf_adam=metrics.accuracy_score(y_test,y_pred)\n",
        "\n",
        "\n",
        "print('lbfgs_std = ', scores_clf_lb, \";  sgd_std = \", scores_clf_sgd, \"; adam_std = \", scores_clf_adam )"
      ],
      "metadata": {
        "colab": {
          "base_uri": "https://localhost:8080/"
        },
        "id": "HlaR-m0yNx6s",
        "outputId": "43133048-c982-4e24-b66c-35c73dd58b01"
      },
      "execution_count": 68,
      "outputs": [
        {
          "output_type": "stream",
          "name": "stdout",
          "text": [
            "lbfgs_std =  0.9692982456140351 ;  sgd_std =  0.9517543859649122 ; adam_std =  0.9692982456140351\n"
          ]
        }
      ]
    },
    {
      "cell_type": "markdown",
      "source": [
        "The scaling may improve the classification result.\n"
      ],
      "metadata": {
        "id": "GZn1d3AbOqab"
      }
    },
    {
      "cell_type": "markdown",
      "source": [
        "How about neuron activation function?"
      ],
      "metadata": {
        "id": "gowmf7ByXzM4"
      }
    },
    {
      "cell_type": "code",
      "source": [
        "# activation{‘identity’, ‘logistic’, ‘tanh’, ‘relu’}, default=’relu’\n",
        "# Comparing the optimizers for network with 6 neurons in hiden layer\n",
        "# https://scikit-learn.org/stable/modules/generated/sklearn.neural_network.MLPClassifier.html#sklearn.neural_network.MLPClassifier\n",
        "clf_relu = MLPClassifier(solver='lbfgs', activation='relu', alpha=1e-5, hidden_layer_sizes=(3,), random_state=123).fit(X_train_std, y_train)\n",
        "clf_logistic = MLPClassifier(solver='lbfgs', activation='logistic', alpha=1e-5, hidden_layer_sizes=(3,), random_state=123).fit(X_train_std, y_train)\n",
        "clf_identity = MLPClassifier(solver='lbfgs', activation='identity', alpha=1e-5, hidden_layer_sizes=(3,), random_state=123).fit(X_train_std, y_train)\n",
        "#lbfgs test\n",
        "y_pred = clf_relu.predict(X_test_std)\n",
        "scores_clf_relu=metrics.accuracy_score(y_test,y_pred)\n",
        "\n",
        "#sgd test\n",
        "y_pred = clf_logistic.predict(X_test_std)\n",
        "scores_clf_logistic=metrics.accuracy_score(y_test,y_pred)\n",
        "\n",
        "#adam test\n",
        "y_pred = clf_identity.predict(X_test_std)\n",
        "scores_clf_adam=metrics.accuracy_score(y_test,y_pred)\n",
        "\n",
        "\n",
        "print('relu = ', scores_clf_relu, \";  logistic = \", scores_clf_logistic, \"; identity = \", scores_clf_adam )"
      ],
      "metadata": {
        "id": "PChct_WgX-yX",
        "outputId": "0eef3b5c-ce6c-4819-d7c1-b95eb65f0d3e",
        "colab": {
          "base_uri": "https://localhost:8080/"
        }
      },
      "execution_count": 69,
      "outputs": [
        {
          "output_type": "stream",
          "name": "stdout",
          "text": [
            "relu =  0.9473684210526315 ;  logistic =  0.956140350877193 ; identity =  0.9517543859649122\n"
          ]
        }
      ]
    },
    {
      "cell_type": "code",
      "source": [
        "from sklearn.model_selection import GridSearchCV\n",
        "  \n",
        "#mlp_gs = MLPClassifier(max_iter=1000)\n",
        "parameter_space = {\n",
        "    'hidden_layer_sizes': [(3,2) ,(3,) ,(10,)],\n",
        "    'activation': ['identity', 'relu'],\n",
        "    'alpha': [0.0001, 0.0005],\n",
        "    'learning_rate': ['constant','adaptive'],\n",
        "}\n",
        "\n",
        "grid = GridSearchCV(clf_logistic, parameter_space, refit = True, cv=5, verbose=3)\n",
        "grid.fit(X_train_std, y_train) # X is train samples and y is the corresponding labels"
      ],
      "metadata": {
        "id": "OEDhzheXOttI",
        "colab": {
          "base_uri": "https://localhost:8080/"
        },
        "outputId": "927e7de6-9101-4751-ad02-144edf2cc295"
      },
      "execution_count": 76,
      "outputs": [
        {
          "output_type": "stream",
          "name": "stdout",
          "text": [
            "Fitting 5 folds for each of 24 candidates, totalling 120 fits\n",
            "[CV 1/5] END activation=identity, alpha=0.0001, hidden_layer_sizes=(3, 2), learning_rate=constant;, score=0.968 total time=   0.0s\n",
            "[CV 2/5] END activation=identity, alpha=0.0001, hidden_layer_sizes=(3, 2), learning_rate=constant;, score=0.967 total time=   0.0s\n",
            "[CV 3/5] END activation=identity, alpha=0.0001, hidden_layer_sizes=(3, 2), learning_rate=constant;, score=0.984 total time=   0.0s\n",
            "[CV 4/5] END activation=identity, alpha=0.0001, hidden_layer_sizes=(3, 2), learning_rate=constant;, score=0.984 total time=   0.0s\n",
            "[CV 5/5] END activation=identity, alpha=0.0001, hidden_layer_sizes=(3, 2), learning_rate=constant;, score=0.967 total time=   0.0s\n",
            "[CV 1/5] END activation=identity, alpha=0.0001, hidden_layer_sizes=(3, 2), learning_rate=adaptive;, score=0.968 total time=   0.0s\n",
            "[CV 2/5] END activation=identity, alpha=0.0001, hidden_layer_sizes=(3, 2), learning_rate=adaptive;, score=0.967 total time=   0.0s\n",
            "[CV 3/5] END activation=identity, alpha=0.0001, hidden_layer_sizes=(3, 2), learning_rate=adaptive;, score=0.984 total time=   0.0s\n",
            "[CV 4/5] END activation=identity, alpha=0.0001, hidden_layer_sizes=(3, 2), learning_rate=adaptive;, score=0.984 total time=   0.0s\n",
            "[CV 5/5] END activation=identity, alpha=0.0001, hidden_layer_sizes=(3, 2), learning_rate=adaptive;, score=0.967 total time=   0.0s\n",
            "[CV 1/5] END activation=identity, alpha=0.0001, hidden_layer_sizes=(3,), learning_rate=constant;, score=0.968 total time=   0.0s\n",
            "[CV 2/5] END activation=identity, alpha=0.0001, hidden_layer_sizes=(3,), learning_rate=constant;, score=0.984 total time=   0.0s\n",
            "[CV 3/5] END activation=identity, alpha=0.0001, hidden_layer_sizes=(3,), learning_rate=constant;, score=0.984 total time=   0.0s\n",
            "[CV 4/5] END activation=identity, alpha=0.0001, hidden_layer_sizes=(3,), learning_rate=constant;, score=0.984 total time=   0.0s\n",
            "[CV 5/5] END activation=identity, alpha=0.0001, hidden_layer_sizes=(3,), learning_rate=constant;, score=0.984 total time=   0.0s\n",
            "[CV 1/5] END activation=identity, alpha=0.0001, hidden_layer_sizes=(3,), learning_rate=adaptive;, score=0.968 total time=   0.0s\n",
            "[CV 2/5] END activation=identity, alpha=0.0001, hidden_layer_sizes=(3,), learning_rate=adaptive;, score=0.984 total time=   0.0s\n",
            "[CV 3/5] END activation=identity, alpha=0.0001, hidden_layer_sizes=(3,), learning_rate=adaptive;, score=0.984 total time=   0.0s\n",
            "[CV 4/5] END activation=identity, alpha=0.0001, hidden_layer_sizes=(3,), learning_rate=adaptive;, score=0.984 total time=   0.0s\n",
            "[CV 5/5] END activation=identity, alpha=0.0001, hidden_layer_sizes=(3,), learning_rate=adaptive;, score=0.984 total time=   0.0s\n",
            "[CV 1/5] END activation=identity, alpha=0.0001, hidden_layer_sizes=(10,), learning_rate=constant;, score=0.984 total time=   0.0s\n",
            "[CV 2/5] END activation=identity, alpha=0.0001, hidden_layer_sizes=(10,), learning_rate=constant;, score=0.984 total time=   0.0s\n",
            "[CV 3/5] END activation=identity, alpha=0.0001, hidden_layer_sizes=(10,), learning_rate=constant;, score=0.984 total time=   0.0s\n",
            "[CV 4/5] END activation=identity, alpha=0.0001, hidden_layer_sizes=(10,), learning_rate=constant;, score=0.984 total time=   0.0s\n",
            "[CV 5/5] END activation=identity, alpha=0.0001, hidden_layer_sizes=(10,), learning_rate=constant;, score=0.951 total time=   0.0s\n",
            "[CV 1/5] END activation=identity, alpha=0.0001, hidden_layer_sizes=(10,), learning_rate=adaptive;, score=0.984 total time=   0.0s\n",
            "[CV 2/5] END activation=identity, alpha=0.0001, hidden_layer_sizes=(10,), learning_rate=adaptive;, score=0.984 total time=   0.0s\n",
            "[CV 3/5] END activation=identity, alpha=0.0001, hidden_layer_sizes=(10,), learning_rate=adaptive;, score=0.984 total time=   0.0s\n",
            "[CV 4/5] END activation=identity, alpha=0.0001, hidden_layer_sizes=(10,), learning_rate=adaptive;, score=0.984 total time=   0.0s\n",
            "[CV 5/5] END activation=identity, alpha=0.0001, hidden_layer_sizes=(10,), learning_rate=adaptive;, score=0.951 total time=   0.0s\n",
            "[CV 1/5] END activation=identity, alpha=0.0005, hidden_layer_sizes=(3, 2), learning_rate=constant;, score=0.968 total time=   0.0s\n",
            "[CV 2/5] END activation=identity, alpha=0.0005, hidden_layer_sizes=(3, 2), learning_rate=constant;, score=0.967 total time=   0.0s\n",
            "[CV 3/5] END activation=identity, alpha=0.0005, hidden_layer_sizes=(3, 2), learning_rate=constant;, score=0.984 total time=   0.0s\n",
            "[CV 4/5] END activation=identity, alpha=0.0005, hidden_layer_sizes=(3, 2), learning_rate=constant;, score=0.984 total time=   0.0s\n",
            "[CV 5/5] END activation=identity, alpha=0.0005, hidden_layer_sizes=(3, 2), learning_rate=constant;, score=0.967 total time=   0.0s\n",
            "[CV 1/5] END activation=identity, alpha=0.0005, hidden_layer_sizes=(3, 2), learning_rate=adaptive;, score=0.968 total time=   0.0s\n",
            "[CV 2/5] END activation=identity, alpha=0.0005, hidden_layer_sizes=(3, 2), learning_rate=adaptive;, score=0.967 total time=   0.0s\n",
            "[CV 3/5] END activation=identity, alpha=0.0005, hidden_layer_sizes=(3, 2), learning_rate=adaptive;, score=0.984 total time=   0.0s\n",
            "[CV 4/5] END activation=identity, alpha=0.0005, hidden_layer_sizes=(3, 2), learning_rate=adaptive;, score=0.984 total time=   0.0s\n",
            "[CV 5/5] END activation=identity, alpha=0.0005, hidden_layer_sizes=(3, 2), learning_rate=adaptive;, score=0.967 total time=   0.0s\n",
            "[CV 1/5] END activation=identity, alpha=0.0005, hidden_layer_sizes=(3,), learning_rate=constant;, score=0.968 total time=   0.0s\n",
            "[CV 2/5] END activation=identity, alpha=0.0005, hidden_layer_sizes=(3,), learning_rate=constant;, score=0.984 total time=   0.0s\n",
            "[CV 3/5] END activation=identity, alpha=0.0005, hidden_layer_sizes=(3,), learning_rate=constant;, score=0.984 total time=   0.0s\n",
            "[CV 4/5] END activation=identity, alpha=0.0005, hidden_layer_sizes=(3,), learning_rate=constant;, score=0.984 total time=   0.0s\n",
            "[CV 5/5] END activation=identity, alpha=0.0005, hidden_layer_sizes=(3,), learning_rate=constant;, score=0.984 total time=   0.0s\n",
            "[CV 1/5] END activation=identity, alpha=0.0005, hidden_layer_sizes=(3,), learning_rate=adaptive;, score=0.968 total time=   0.0s\n",
            "[CV 2/5] END activation=identity, alpha=0.0005, hidden_layer_sizes=(3,), learning_rate=adaptive;, score=0.984 total time=   0.0s\n",
            "[CV 3/5] END activation=identity, alpha=0.0005, hidden_layer_sizes=(3,), learning_rate=adaptive;, score=0.984 total time=   0.0s\n",
            "[CV 4/5] END activation=identity, alpha=0.0005, hidden_layer_sizes=(3,), learning_rate=adaptive;, score=0.984 total time=   0.0s\n",
            "[CV 5/5] END activation=identity, alpha=0.0005, hidden_layer_sizes=(3,), learning_rate=adaptive;, score=0.984 total time=   0.0s\n",
            "[CV 1/5] END activation=identity, alpha=0.0005, hidden_layer_sizes=(10,), learning_rate=constant;, score=0.984 total time=   0.0s\n",
            "[CV 2/5] END activation=identity, alpha=0.0005, hidden_layer_sizes=(10,), learning_rate=constant;, score=0.984 total time=   0.0s\n",
            "[CV 3/5] END activation=identity, alpha=0.0005, hidden_layer_sizes=(10,), learning_rate=constant;, score=0.984 total time=   0.0s\n",
            "[CV 4/5] END activation=identity, alpha=0.0005, hidden_layer_sizes=(10,), learning_rate=constant;, score=0.984 total time=   0.0s\n",
            "[CV 5/5] END activation=identity, alpha=0.0005, hidden_layer_sizes=(10,), learning_rate=constant;, score=0.951 total time=   0.0s\n",
            "[CV 1/5] END activation=identity, alpha=0.0005, hidden_layer_sizes=(10,), learning_rate=adaptive;, score=0.984 total time=   0.0s\n",
            "[CV 2/5] END activation=identity, alpha=0.0005, hidden_layer_sizes=(10,), learning_rate=adaptive;, score=0.984 total time=   0.0s\n",
            "[CV 3/5] END activation=identity, alpha=0.0005, hidden_layer_sizes=(10,), learning_rate=adaptive;, score=0.984 total time=   0.0s\n",
            "[CV 4/5] END activation=identity, alpha=0.0005, hidden_layer_sizes=(10,), learning_rate=adaptive;, score=0.984 total time=   0.0s\n",
            "[CV 5/5] END activation=identity, alpha=0.0005, hidden_layer_sizes=(10,), learning_rate=adaptive;, score=0.951 total time=   0.0s\n",
            "[CV 1/5] END activation=relu, alpha=0.0001, hidden_layer_sizes=(3, 2), learning_rate=constant;, score=0.968 total time=   0.0s\n",
            "[CV 2/5] END activation=relu, alpha=0.0001, hidden_layer_sizes=(3, 2), learning_rate=constant;, score=0.984 total time=   0.0s\n",
            "[CV 3/5] END activation=relu, alpha=0.0001, hidden_layer_sizes=(3, 2), learning_rate=constant;, score=1.000 total time=   0.0s\n",
            "[CV 4/5] END activation=relu, alpha=0.0001, hidden_layer_sizes=(3, 2), learning_rate=constant;, score=0.984 total time=   0.0s\n",
            "[CV 5/5] END activation=relu, alpha=0.0001, hidden_layer_sizes=(3, 2), learning_rate=constant;, score=0.984 total time=   0.2s\n",
            "[CV 1/5] END activation=relu, alpha=0.0001, hidden_layer_sizes=(3, 2), learning_rate=adaptive;, score=0.968 total time=   0.0s\n",
            "[CV 2/5] END activation=relu, alpha=0.0001, hidden_layer_sizes=(3, 2), learning_rate=adaptive;, score=0.984 total time=   0.0s\n",
            "[CV 3/5] END activation=relu, alpha=0.0001, hidden_layer_sizes=(3, 2), learning_rate=adaptive;, score=1.000 total time=   0.0s\n",
            "[CV 4/5] END activation=relu, alpha=0.0001, hidden_layer_sizes=(3, 2), learning_rate=adaptive;, score=0.984 total time=   0.0s\n",
            "[CV 5/5] END activation=relu, alpha=0.0001, hidden_layer_sizes=(3, 2), learning_rate=adaptive;, score=0.984 total time=   0.2s\n",
            "[CV 1/5] END activation=relu, alpha=0.0001, hidden_layer_sizes=(3,), learning_rate=constant;, score=0.984 total time=   0.0s\n",
            "[CV 2/5] END activation=relu, alpha=0.0001, hidden_layer_sizes=(3,), learning_rate=constant;, score=0.984 total time=   0.0s\n",
            "[CV 3/5] END activation=relu, alpha=0.0001, hidden_layer_sizes=(3,), learning_rate=constant;, score=0.984 total time=   0.0s\n",
            "[CV 4/5] END activation=relu, alpha=0.0001, hidden_layer_sizes=(3,), learning_rate=constant;, score=0.984 total time=   0.0s\n",
            "[CV 5/5] END activation=relu, alpha=0.0001, hidden_layer_sizes=(3,), learning_rate=constant;, score=0.984 total time=   0.0s\n",
            "[CV 1/5] END activation=relu, alpha=0.0001, hidden_layer_sizes=(3,), learning_rate=adaptive;, score=0.984 total time=   0.0s\n",
            "[CV 2/5] END activation=relu, alpha=0.0001, hidden_layer_sizes=(3,), learning_rate=adaptive;, score=0.984 total time=   0.0s\n",
            "[CV 3/5] END activation=relu, alpha=0.0001, hidden_layer_sizes=(3,), learning_rate=adaptive;, score=0.984 total time=   0.0s\n",
            "[CV 4/5] END activation=relu, alpha=0.0001, hidden_layer_sizes=(3,), learning_rate=adaptive;, score=0.984 total time=   0.0s\n",
            "[CV 5/5] END activation=relu, alpha=0.0001, hidden_layer_sizes=(3,), learning_rate=adaptive;, score=0.984 total time=   0.0s\n",
            "[CV 1/5] END activation=relu, alpha=0.0001, hidden_layer_sizes=(10,), learning_rate=constant;, score=0.968 total time=   0.0s\n",
            "[CV 2/5] END activation=relu, alpha=0.0001, hidden_layer_sizes=(10,), learning_rate=constant;, score=0.984 total time=   0.0s\n",
            "[CV 3/5] END activation=relu, alpha=0.0001, hidden_layer_sizes=(10,), learning_rate=constant;, score=0.967 total time=   0.0s\n",
            "[CV 4/5] END activation=relu, alpha=0.0001, hidden_layer_sizes=(10,), learning_rate=constant;, score=0.984 total time=   0.0s\n",
            "[CV 5/5] END activation=relu, alpha=0.0001, hidden_layer_sizes=(10,), learning_rate=constant;, score=0.984 total time=   0.0s\n",
            "[CV 1/5] END activation=relu, alpha=0.0001, hidden_layer_sizes=(10,), learning_rate=adaptive;, score=0.968 total time=   0.0s\n",
            "[CV 2/5] END activation=relu, alpha=0.0001, hidden_layer_sizes=(10,), learning_rate=adaptive;, score=0.984 total time=   0.0s\n",
            "[CV 3/5] END activation=relu, alpha=0.0001, hidden_layer_sizes=(10,), learning_rate=adaptive;, score=0.967 total time=   0.0s\n",
            "[CV 4/5] END activation=relu, alpha=0.0001, hidden_layer_sizes=(10,), learning_rate=adaptive;, score=0.984 total time=   0.0s\n",
            "[CV 5/5] END activation=relu, alpha=0.0001, hidden_layer_sizes=(10,), learning_rate=adaptive;, score=0.984 total time=   0.0s\n",
            "[CV 1/5] END activation=relu, alpha=0.0005, hidden_layer_sizes=(3, 2), learning_rate=constant;, score=0.968 total time=   0.0s\n",
            "[CV 2/5] END activation=relu, alpha=0.0005, hidden_layer_sizes=(3, 2), learning_rate=constant;, score=0.984 total time=   0.1s\n",
            "[CV 3/5] END activation=relu, alpha=0.0005, hidden_layer_sizes=(3, 2), learning_rate=constant;, score=1.000 total time=   0.0s\n",
            "[CV 4/5] END activation=relu, alpha=0.0005, hidden_layer_sizes=(3, 2), learning_rate=constant;, score=0.984 total time=   0.0s\n",
            "[CV 5/5] END activation=relu, alpha=0.0005, hidden_layer_sizes=(3, 2), learning_rate=constant;, score=0.984 total time=   0.1s\n",
            "[CV 1/5] END activation=relu, alpha=0.0005, hidden_layer_sizes=(3, 2), learning_rate=adaptive;, score=0.968 total time=   0.0s\n",
            "[CV 2/5] END activation=relu, alpha=0.0005, hidden_layer_sizes=(3, 2), learning_rate=adaptive;, score=0.984 total time=   0.0s\n",
            "[CV 3/5] END activation=relu, alpha=0.0005, hidden_layer_sizes=(3, 2), learning_rate=adaptive;, score=1.000 total time=   0.0s\n",
            "[CV 4/5] END activation=relu, alpha=0.0005, hidden_layer_sizes=(3, 2), learning_rate=adaptive;, score=0.984 total time=   0.0s\n",
            "[CV 5/5] END activation=relu, alpha=0.0005, hidden_layer_sizes=(3, 2), learning_rate=adaptive;, score=0.984 total time=   0.2s\n",
            "[CV 1/5] END activation=relu, alpha=0.0005, hidden_layer_sizes=(3,), learning_rate=constant;, score=0.984 total time=   0.0s\n",
            "[CV 2/5] END activation=relu, alpha=0.0005, hidden_layer_sizes=(3,), learning_rate=constant;, score=0.984 total time=   0.0s\n",
            "[CV 3/5] END activation=relu, alpha=0.0005, hidden_layer_sizes=(3,), learning_rate=constant;, score=0.984 total time=   0.0s\n",
            "[CV 4/5] END activation=relu, alpha=0.0005, hidden_layer_sizes=(3,), learning_rate=constant;, score=0.984 total time=   0.0s\n",
            "[CV 5/5] END activation=relu, alpha=0.0005, hidden_layer_sizes=(3,), learning_rate=constant;, score=0.984 total time=   0.0s\n",
            "[CV 1/5] END activation=relu, alpha=0.0005, hidden_layer_sizes=(3,), learning_rate=adaptive;, score=0.984 total time=   0.0s\n",
            "[CV 2/5] END activation=relu, alpha=0.0005, hidden_layer_sizes=(3,), learning_rate=adaptive;, score=0.984 total time=   0.0s\n",
            "[CV 3/5] END activation=relu, alpha=0.0005, hidden_layer_sizes=(3,), learning_rate=adaptive;, score=0.984 total time=   0.0s\n",
            "[CV 4/5] END activation=relu, alpha=0.0005, hidden_layer_sizes=(3,), learning_rate=adaptive;, score=0.984 total time=   0.0s\n",
            "[CV 5/5] END activation=relu, alpha=0.0005, hidden_layer_sizes=(3,), learning_rate=adaptive;, score=0.984 total time=   0.0s\n",
            "[CV 1/5] END activation=relu, alpha=0.0005, hidden_layer_sizes=(10,), learning_rate=constant;, score=0.968 total time=   0.0s\n",
            "[CV 2/5] END activation=relu, alpha=0.0005, hidden_layer_sizes=(10,), learning_rate=constant;, score=0.984 total time=   0.0s\n",
            "[CV 3/5] END activation=relu, alpha=0.0005, hidden_layer_sizes=(10,), learning_rate=constant;, score=0.967 total time=   0.0s\n",
            "[CV 4/5] END activation=relu, alpha=0.0005, hidden_layer_sizes=(10,), learning_rate=constant;, score=0.984 total time=   0.0s\n",
            "[CV 5/5] END activation=relu, alpha=0.0005, hidden_layer_sizes=(10,), learning_rate=constant;, score=0.984 total time=   0.0s\n",
            "[CV 1/5] END activation=relu, alpha=0.0005, hidden_layer_sizes=(10,), learning_rate=adaptive;, score=0.968 total time=   0.0s\n",
            "[CV 2/5] END activation=relu, alpha=0.0005, hidden_layer_sizes=(10,), learning_rate=adaptive;, score=0.984 total time=   0.0s\n",
            "[CV 3/5] END activation=relu, alpha=0.0005, hidden_layer_sizes=(10,), learning_rate=adaptive;, score=0.967 total time=   0.0s\n",
            "[CV 4/5] END activation=relu, alpha=0.0005, hidden_layer_sizes=(10,), learning_rate=adaptive;, score=0.984 total time=   0.0s\n",
            "[CV 5/5] END activation=relu, alpha=0.0005, hidden_layer_sizes=(10,), learning_rate=adaptive;, score=0.984 total time=   0.0s\n"
          ]
        },
        {
          "output_type": "execute_result",
          "data": {
            "text/plain": [
              "GridSearchCV(cv=5,\n",
              "             estimator=MLPClassifier(activation='logistic', alpha=1e-05,\n",
              "                                     hidden_layer_sizes=(3,), random_state=123,\n",
              "                                     solver='lbfgs'),\n",
              "             param_grid={'activation': ['identity', 'relu'],\n",
              "                         'alpha': [0.0001, 0.0005],\n",
              "                         'hidden_layer_sizes': [(3, 2), (3,), (10,)],\n",
              "                         'learning_rate': ['constant', 'adaptive']},\n",
              "             verbose=3)"
            ]
          },
          "metadata": {},
          "execution_count": 76
        }
      ]
    },
    {
      "cell_type": "code",
      "source": [
        "\n",
        "# print best parameter after tuning\n",
        "print(grid.best_params_)\n",
        "  \n",
        "# print how our model looks after hyper-parameter tuning\n",
        "print(grid.best_estimator_)\n",
        "\n",
        "means = grid.cv_results_['mean_test_score']\n",
        "stds = grid.cv_results_['std_test_score']\n",
        "for mean, std, params in zip(means, stds, grid.cv_results_['params']):\n",
        "    print(\"%0.3f (+/-%0.03f) for %r\" % (mean, std * 2, params))"
      ],
      "metadata": {
        "colab": {
          "base_uri": "https://localhost:8080/"
        },
        "id": "hOiO9dtOQvlX",
        "outputId": "587ba2a0-2e51-4f88-eec8-38bb37352f14"
      },
      "execution_count": 78,
      "outputs": [
        {
          "output_type": "stream",
          "name": "stdout",
          "text": [
            "{'activation': 'relu', 'alpha': 0.0001, 'hidden_layer_sizes': (3, 2), 'learning_rate': 'constant'}\n",
            "MLPClassifier(hidden_layer_sizes=(3, 2), random_state=123, solver='lbfgs')\n",
            "0.974 (+/-0.016) for {'activation': 'identity', 'alpha': 0.0001, 'hidden_layer_sizes': (3, 2), 'learning_rate': 'constant'}\n",
            "0.974 (+/-0.016) for {'activation': 'identity', 'alpha': 0.0001, 'hidden_layer_sizes': (3, 2), 'learning_rate': 'adaptive'}\n",
            "0.980 (+/-0.013) for {'activation': 'identity', 'alpha': 0.0001, 'hidden_layer_sizes': (3,), 'learning_rate': 'constant'}\n",
            "0.980 (+/-0.013) for {'activation': 'identity', 'alpha': 0.0001, 'hidden_layer_sizes': (3,), 'learning_rate': 'adaptive'}\n",
            "0.977 (+/-0.026) for {'activation': 'identity', 'alpha': 0.0001, 'hidden_layer_sizes': (10,), 'learning_rate': 'constant'}\n",
            "0.977 (+/-0.026) for {'activation': 'identity', 'alpha': 0.0001, 'hidden_layer_sizes': (10,), 'learning_rate': 'adaptive'}\n",
            "0.974 (+/-0.016) for {'activation': 'identity', 'alpha': 0.0005, 'hidden_layer_sizes': (3, 2), 'learning_rate': 'constant'}\n",
            "0.974 (+/-0.016) for {'activation': 'identity', 'alpha': 0.0005, 'hidden_layer_sizes': (3, 2), 'learning_rate': 'adaptive'}\n",
            "0.980 (+/-0.013) for {'activation': 'identity', 'alpha': 0.0005, 'hidden_layer_sizes': (3,), 'learning_rate': 'constant'}\n",
            "0.980 (+/-0.013) for {'activation': 'identity', 'alpha': 0.0005, 'hidden_layer_sizes': (3,), 'learning_rate': 'adaptive'}\n",
            "0.977 (+/-0.026) for {'activation': 'identity', 'alpha': 0.0005, 'hidden_layer_sizes': (10,), 'learning_rate': 'constant'}\n",
            "0.977 (+/-0.026) for {'activation': 'identity', 'alpha': 0.0005, 'hidden_layer_sizes': (10,), 'learning_rate': 'adaptive'}\n",
            "0.984 (+/-0.020) for {'activation': 'relu', 'alpha': 0.0001, 'hidden_layer_sizes': (3, 2), 'learning_rate': 'constant'}\n",
            "0.984 (+/-0.020) for {'activation': 'relu', 'alpha': 0.0001, 'hidden_layer_sizes': (3, 2), 'learning_rate': 'adaptive'}\n",
            "0.984 (+/-0.000) for {'activation': 'relu', 'alpha': 0.0001, 'hidden_layer_sizes': (3,), 'learning_rate': 'constant'}\n",
            "0.984 (+/-0.000) for {'activation': 'relu', 'alpha': 0.0001, 'hidden_layer_sizes': (3,), 'learning_rate': 'adaptive'}\n",
            "0.977 (+/-0.016) for {'activation': 'relu', 'alpha': 0.0001, 'hidden_layer_sizes': (10,), 'learning_rate': 'constant'}\n",
            "0.977 (+/-0.016) for {'activation': 'relu', 'alpha': 0.0001, 'hidden_layer_sizes': (10,), 'learning_rate': 'adaptive'}\n",
            "0.984 (+/-0.020) for {'activation': 'relu', 'alpha': 0.0005, 'hidden_layer_sizes': (3, 2), 'learning_rate': 'constant'}\n",
            "0.984 (+/-0.020) for {'activation': 'relu', 'alpha': 0.0005, 'hidden_layer_sizes': (3, 2), 'learning_rate': 'adaptive'}\n",
            "0.984 (+/-0.000) for {'activation': 'relu', 'alpha': 0.0005, 'hidden_layer_sizes': (3,), 'learning_rate': 'constant'}\n",
            "0.984 (+/-0.000) for {'activation': 'relu', 'alpha': 0.0005, 'hidden_layer_sizes': (3,), 'learning_rate': 'adaptive'}\n",
            "0.977 (+/-0.016) for {'activation': 'relu', 'alpha': 0.0005, 'hidden_layer_sizes': (10,), 'learning_rate': 'constant'}\n",
            "0.977 (+/-0.016) for {'activation': 'relu', 'alpha': 0.0005, 'hidden_layer_sizes': (10,), 'learning_rate': 'adaptive'}\n"
          ]
        }
      ]
    },
    {
      "cell_type": "code",
      "source": [
        "from sklearn.metrics import classification_report\n",
        "\n",
        "grid_predictions = grid.predict(X_test_std)\n",
        "\n",
        "scores=metrics.accuracy_score(y_test,grid_predictions)  \n",
        "print('ACC = ', scores)\n",
        "# print classification report\n",
        "print(classification_report(y_test, grid_predictions))"
      ],
      "metadata": {
        "colab": {
          "base_uri": "https://localhost:8080/"
        },
        "id": "ArDoGMGzQ5qd",
        "outputId": "bdcf4df4-cb7e-41b8-8bb4-978ddd1bedcf"
      },
      "execution_count": 79,
      "outputs": [
        {
          "output_type": "stream",
          "name": "stdout",
          "text": [
            "ACC =  0.9517543859649122\n",
            "              precision    recall  f1-score   support\n",
            "\n",
            "           0       0.99      0.88      0.93        85\n",
            "           1       0.93      0.99      0.96       143\n",
            "\n",
            "    accuracy                           0.95       228\n",
            "   macro avg       0.96      0.94      0.95       228\n",
            "weighted avg       0.95      0.95      0.95       228\n",
            "\n"
          ]
        }
      ]
    }
  ]
}