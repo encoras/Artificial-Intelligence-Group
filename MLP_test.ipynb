{
  "nbformat": 4,
  "nbformat_minor": 0,
  "metadata": {
    "colab": {
      "provenance": [],
      "authorship_tag": "ABX9TyOwtvr1h3K/1mk7qGdZM3WK",
      "include_colab_link": true
    },
    "kernelspec": {
      "name": "python3",
      "display_name": "Python 3"
    },
    "language_info": {
      "name": "python"
    }
  },
  "cells": [
    {
      "cell_type": "markdown",
      "metadata": {
        "id": "view-in-github",
        "colab_type": "text"
      },
      "source": [
        "<a href=\"https://colab.research.google.com/github/encoras/Artificial-Intelligence-Group/blob/master/MLP_test.ipynb\" target=\"_parent\"><img src=\"https://colab.research.google.com/assets/colab-badge.svg\" alt=\"Open In Colab\"/></a>"
      ]
    },
    {
      "cell_type": "markdown",
      "source": [
        "The code is adopted from:\n",
        "\n",
        "\n",
        "https://python-course.eu/machine-learning/neural-networks-with-scikit.php\n",
        "\n",
        "\n"
      ],
      "metadata": {
        "id": "tSKRJ8-hO6WY"
      }
    },
    {
      "cell_type": "markdown",
      "source": [
        "Let's do a correct classification\n"
      ],
      "metadata": {
        "id": "MSPdR2hbKc1-"
      }
    },
    {
      "cell_type": "code",
      "source": [
        "from  sklearn import datasets\n",
        "from sklearn.model_selection import train_test_split\n",
        "from sklearn import metrics\n",
        "from matplotlib import pyplot as plt\n",
        "from sklearn.neural_network import MLPClassifier"
      ],
      "metadata": {
        "id": "yvqM5297KhBV"
      },
      "execution_count": 83,
      "outputs": []
    },
    {
      "cell_type": "code",
      "source": [
        "# Load IRIS\n",
        "X, y = datasets.load_iris(return_X_y=True)"
      ],
      "metadata": {
        "id": "eHLh6V2eK6Z4"
      },
      "execution_count": 84,
      "outputs": []
    },
    {
      "cell_type": "code",
      "source": [],
      "metadata": {
        "id": "rmk87J8ohXKB"
      },
      "execution_count": 84,
      "outputs": []
    },
    {
      "cell_type": "code",
      "source": [
        "X_temp, X_test, y_temp, y_test = train_test_split(X, y, test_size=0.4, random_state=1, shuffle=True, stratify=y)\n",
        "X_train, X_valid, y_train, y_valid = train_test_split(X_temp, y_temp, test_size=0.1, random_state=10, shuffle=True, stratify=y_temp)"
      ],
      "metadata": {
        "id": "4s15CsOzK8yo"
      },
      "execution_count": 85,
      "outputs": []
    },
    {
      "cell_type": "markdown",
      "source": [
        "We will create now a **MLPClassifier**.\n",
        "\n",
        "A few notes on the used parameters:\n",
        "\n",
        "*hidden_layer_sizes*: `tuple, length` = *n_layers* - 2, default=(100,)\n",
        "The ith element represents the number of neurons in the ith hidden layer.\n",
        "(6,) means one hidden layer with 6 neurons.\n",
        "\n",
        "*solver*:\n",
        "The weight optimization can be influenced with the solver parameter. Three solver modes are available\n",
        "\n",
        "'`lbfgs`' - is an optimizer in the family of quasi-Newton methods.\n",
        "\n",
        "'`sgd`' - refers to stochastic gradient descent.\n",
        "\n",
        "'`adam`' - refers to a stochastic gradient-based optimizer proposed by Kingma, Diederik, and Jimmy Ba.\n",
        "\n",
        "Without understanding in the details of the solvers, you should know the following: 'adam' works pretty well - both training time and validation score - on relatively large datasets, i.e. thousands of training samples or more. For small datasets, however, 'lbfgs' can converge faster and perform better.\n",
        "\n",
        "'`alpha`' - This parameter can be used to control possible '*overfitting*' and 'underfitting'. We will cover it in detail further down."
      ],
      "metadata": {
        "id": "dMDx9FoiUeof"
      }
    },
    {
      "cell_type": "code",
      "source": [
        "# Comparing the optimizers for network with 6 neurons in hiden layer\n",
        "clf_lb = MLPClassifier(solver='lbfgs', alpha=1e-5, hidden_layer_sizes=(6,), random_state=123).fit(X_train, y_train)\n",
        "clf_sgd = MLPClassifier(solver='sgd', max_iter=3000, alpha=1e-5, hidden_layer_sizes=(6,), random_state=123).fit(X_train, y_train)\n",
        "clf_adam = MLPClassifier(solver='adam', max_iter=3000, alpha=1e-5, hidden_layer_sizes=(6,), random_state=123).fit(X_train, y_train)\n"
      ],
      "metadata": {
        "id": "Z1eYp-yrLGC3",
        "colab": {
          "base_uri": "https://localhost:8080/"
        },
        "outputId": "8a1bd714-f3ce-4d09-8988-2007fc77c513"
      },
      "execution_count": 86,
      "outputs": [
        {
          "output_type": "stream",
          "name": "stderr",
          "text": [
            "/usr/local/lib/python3.7/dist-packages/sklearn/neural_network/_multilayer_perceptron.py:696: ConvergenceWarning: Stochastic Optimizer: Maximum iterations (3000) reached and the optimization hasn't converged yet.\n",
            "  ConvergenceWarning,\n"
          ]
        }
      ]
    },
    {
      "cell_type": "code",
      "source": [
        "#lbfgs test\n",
        "y_pred = clf_lb.predict(X_test)\n",
        "scores_clf_lb=metrics.accuracy_score(y_test,y_pred)\n",
        "\n",
        "#sgd test\n",
        "y_pred = clf_sgd.predict(X_test)\n",
        "scores_clf_sgd=metrics.accuracy_score(y_test,y_pred)\n",
        "\n",
        "#adam test\n",
        "y_pred = clf_adam.predict(X_test)\n",
        "scores_clf_adam=metrics.accuracy_score(y_test,y_pred)\n",
        "\n",
        "\n",
        "print('lbfgs = ', scores_clf_lb, \";  sgd = \", scores_clf_sgd, \"; adam = \", scores_clf_adam )\n"
      ],
      "metadata": {
        "colab": {
          "base_uri": "https://localhost:8080/"
        },
        "id": "f_nYyrPFLtLX",
        "outputId": "0a57ba61-4784-4fc3-fff7-35cbd2dfd751"
      },
      "execution_count": 87,
      "outputs": [
        {
          "output_type": "stream",
          "name": "stdout",
          "text": [
            "lbfgs =  0.9833333333333333 ;  sgd =  0.85 ; adam =  0.9833333333333333\n"
          ]
        }
      ]
    },
    {
      "cell_type": "markdown",
      "source": [
        "What is the influence of space scaling?"
      ],
      "metadata": {
        "id": "10XsA_IfNIil"
      }
    },
    {
      "cell_type": "code",
      "source": [
        "from sklearn.preprocessing import StandardScaler\n",
        "scaler = StandardScaler()\n",
        "scaler.fit(X_train)\n",
        "X_train_std=scaler.transform(X_train)\n",
        "X_test_std=scaler.transform(X_test)\n",
        "X_valid_std=scaler.transform(X_valid)\n",
        "\n",
        "from sklearn.preprocessing import MinMaxScaler\n",
        "scaler = MinMaxScaler()\n",
        "scaler.fit(X_train)\n",
        "X_train_mm=scaler.transform(X_train)\n",
        "X_test_mm=scaler.transform(X_test)\n",
        "X_valid_mm=scaler.transform(X_valid)"
      ],
      "metadata": {
        "id": "kM9pMsZUNN6r"
      },
      "execution_count": 88,
      "outputs": []
    },
    {
      "cell_type": "code",
      "source": [
        "# Min-Max scaler\n",
        "# Comparing the optimizers for network with 6 neurons in hiden layer\n",
        "clf_lb = MLPClassifier(solver='lbfgs', alpha=1e-5, hidden_layer_sizes=(6,), random_state=123).fit(X_train_mm, y_train)\n",
        "clf_sgd = MLPClassifier(solver='sgd', max_iter=3000, alpha=1e-5, hidden_layer_sizes=(6,), random_state=123).fit(X_train_mm, y_train)\n",
        "clf_adam = MLPClassifier(solver='adam', max_iter=3000, alpha=1e-5, hidden_layer_sizes=(6,), random_state=123).fit(X_train_mm, y_train)\n",
        "#lbfgs test\n",
        "y_pred = clf_lb.predict(X_test_mm)\n",
        "scores_clf_lb=metrics.accuracy_score(y_test,y_pred)\n",
        "\n",
        "#sgd test\n",
        "y_pred = clf_sgd.predict(X_test_mm)\n",
        "scores_clf_sgd=metrics.accuracy_score(y_test,y_pred)\n",
        "\n",
        "#adam test\n",
        "y_pred = clf_adam.predict(X_test_mm)\n",
        "scores_clf_adam=metrics.accuracy_score(y_test,y_pred)\n",
        "\n",
        "\n",
        "print('lbfgs_mm = ', scores_clf_lb, \";  sgd_mm = \", scores_clf_sgd, \"; adam_mm = \", scores_clf_adam )"
      ],
      "metadata": {
        "colab": {
          "base_uri": "https://localhost:8080/"
        },
        "id": "voYL-YEjNh7d",
        "outputId": "96620407-2b5d-48e7-aeee-1d8afee46b6a"
      },
      "execution_count": 89,
      "outputs": [
        {
          "output_type": "stream",
          "name": "stderr",
          "text": [
            "/usr/local/lib/python3.7/dist-packages/sklearn/neural_network/_multilayer_perceptron.py:549: ConvergenceWarning: lbfgs failed to converge (status=1):\n",
            "STOP: TOTAL NO. of ITERATIONS REACHED LIMIT.\n",
            "\n",
            "Increase the number of iterations (max_iter) or scale the data as shown in:\n",
            "    https://scikit-learn.org/stable/modules/preprocessing.html\n",
            "  self.n_iter_ = _check_optimize_result(\"lbfgs\", opt_res, self.max_iter)\n"
          ]
        },
        {
          "output_type": "stream",
          "name": "stdout",
          "text": [
            "lbfgs_mm =  0.9833333333333333 ;  sgd_mm =  0.8333333333333334 ; adam_mm =  0.9666666666666667\n"
          ]
        }
      ]
    },
    {
      "cell_type": "code",
      "source": [
        "# Standartisation scaler\n",
        "# Comparing the optimizers for network with 6 neurons in hiden layer\n",
        "clf_lb = MLPClassifier(solver='lbfgs', alpha=1e-5, hidden_layer_sizes=(6,), random_state=123).fit(X_train_std, y_train)\n",
        "clf_sgd = MLPClassifier(solver='sgd', max_iter=3000, alpha=1e-5, hidden_layer_sizes=(6,), random_state=123).fit(X_train_std, y_train)\n",
        "clf_adam = MLPClassifier(solver='adam', max_iter=3000, alpha=1e-5, hidden_layer_sizes=(6,), random_state=123).fit(X_train_std, y_train)\n",
        "#lbfgs test\n",
        "y_pred = clf_lb.predict(X_test_std)\n",
        "scores_clf_lb=metrics.accuracy_score(y_test,y_pred)\n",
        "\n",
        "#sgd test\n",
        "y_pred = clf_sgd.predict(X_test_std)\n",
        "scores_clf_sgd=metrics.accuracy_score(y_test,y_pred)\n",
        "\n",
        "#adam test\n",
        "y_pred = clf_adam.predict(X_test_std)\n",
        "scores_clf_adam=metrics.accuracy_score(y_test,y_pred)\n",
        "\n",
        "\n",
        "print('lbfgs_std = ', scores_clf_lb, \";  sgd_std = \", scores_clf_sgd, \"; adam_std = \", scores_clf_adam )"
      ],
      "metadata": {
        "colab": {
          "base_uri": "https://localhost:8080/"
        },
        "id": "HlaR-m0yNx6s",
        "outputId": "e3da20b8-b836-479f-bbe7-e177d101ad42"
      },
      "execution_count": 90,
      "outputs": [
        {
          "output_type": "stream",
          "name": "stdout",
          "text": [
            "lbfgs_std =  0.9833333333333333 ;  sgd_std =  0.9333333333333333 ; adam_std =  0.9666666666666667\n"
          ]
        }
      ]
    },
    {
      "cell_type": "markdown",
      "source": [
        "The scaling may improve the classification result.\n"
      ],
      "metadata": {
        "id": "GZn1d3AbOqab"
      }
    },
    {
      "cell_type": "markdown",
      "source": [
        "How about neuron activation function?"
      ],
      "metadata": {
        "id": "gowmf7ByXzM4"
      }
    },
    {
      "cell_type": "code",
      "source": [
        "# activation{‘identity’, ‘logistic’, ‘tanh’, ‘relu’}, default=’relu’\n",
        "# Comparing the optimizers for network with 6 neurons in hiden layer\n",
        "# https://scikit-learn.org/stable/modules/generated/sklearn.neural_network.MLPClassifier.html#sklearn.neural_network.MLPClassifier\n",
        "clf_relu = MLPClassifier(solver='lbfgs', activation='relu', alpha=1e-5, hidden_layer_sizes=(3,), random_state=123).fit(X_train_std, y_train)\n",
        "clf_logistic = MLPClassifier(solver='lbfgs', activation='logistic', alpha=1e-5, hidden_layer_sizes=(3,), random_state=123).fit(X_train_std, y_train)\n",
        "clf_identity = MLPClassifier(solver='lbfgs', activation='identity', alpha=1e-5, hidden_layer_sizes=(3,), random_state=123).fit(X_train_std, y_train)\n",
        "#lbfgs test\n",
        "y_pred = clf_relu.predict(X_test_std)\n",
        "scores_clf_relu=metrics.accuracy_score(y_test,y_pred)\n",
        "\n",
        "#sgd test\n",
        "y_pred = clf_logistic.predict(X_test_std)\n",
        "scores_clf_logistic=metrics.accuracy_score(y_test,y_pred)\n",
        "\n",
        "#adam test\n",
        "y_pred = clf_identity.predict(X_test_std)\n",
        "scores_clf_adam=metrics.accuracy_score(y_test,y_pred)\n",
        "\n",
        "\n",
        "print('relu = ', scores_clf_relu, \";  logistic = \", scores_clf_logistic, \"; identity = \", scores_clf_adam )"
      ],
      "metadata": {
        "colab": {
          "base_uri": "https://localhost:8080/"
        },
        "id": "PChct_WgX-yX",
        "outputId": "0f381f8f-0e5d-449d-aa6f-75bc14ab1cd8"
      },
      "execution_count": 91,
      "outputs": [
        {
          "output_type": "stream",
          "name": "stdout",
          "text": [
            "relu =  0.8 ;  logistic =  0.9833333333333333 ; identity =  0.9833333333333333\n"
          ]
        }
      ]
    },
    {
      "cell_type": "code",
      "source": [
        "from sklearn.model_selection import GridSearchCV\n",
        "  \n",
        "#mlp_gs = MLPClassifier(max_iter=1000)\n",
        "parameter_space = {\n",
        "    'hidden_layer_sizes': [(3,2) ,(3,) ,(10,)],\n",
        "    'activation': ['identity', 'relu'],\n",
        "    'alpha': [0.0001, 0.05],\n",
        "    'learning_rate': ['constant','adaptive'],\n",
        "}\n",
        "\n",
        "grid = GridSearchCV(clf_logistic, parameter_space, refit = True, cv=5, verbose=3)\n",
        "grid.fit(X_train_std, y_train) # X is train samples and y is the corresponding labels"
      ],
      "metadata": {
        "id": "OEDhzheXOttI",
        "colab": {
          "base_uri": "https://localhost:8080/"
        },
        "outputId": "525a222c-982f-4ad1-9dec-475e3e9e906e"
      },
      "execution_count": 96,
      "outputs": [
        {
          "output_type": "stream",
          "name": "stdout",
          "text": [
            "Fitting 5 folds for each of 24 candidates, totalling 120 fits\n",
            "[CV 1/5] END activation=identity, alpha=0.0001, hidden_layer_sizes=(3, 2), learning_rate=constant;, score=0.882 total time=   0.0s\n",
            "[CV 2/5] END activation=identity, alpha=0.0001, hidden_layer_sizes=(3, 2), learning_rate=constant;, score=0.938 total time=   0.0s\n",
            "[CV 3/5] END activation=identity, alpha=0.0001, hidden_layer_sizes=(3, 2), learning_rate=constant;, score=1.000 total time=   0.1s\n",
            "[CV 4/5] END activation=identity, alpha=0.0001, hidden_layer_sizes=(3, 2), learning_rate=constant;, score=0.938 total time=   0.1s\n",
            "[CV 5/5] END activation=identity, alpha=0.0001, hidden_layer_sizes=(3, 2), learning_rate=constant;, score=0.938 total time=   0.0s\n",
            "[CV 1/5] END activation=identity, alpha=0.0001, hidden_layer_sizes=(3, 2), learning_rate=adaptive;, score=0.882 total time=   0.0s\n",
            "[CV 2/5] END activation=identity, alpha=0.0001, hidden_layer_sizes=(3, 2), learning_rate=adaptive;, score=0.938 total time=   0.0s\n",
            "[CV 3/5] END activation=identity, alpha=0.0001, hidden_layer_sizes=(3, 2), learning_rate=adaptive;, score=1.000 total time=   0.1s\n",
            "[CV 4/5] END activation=identity, alpha=0.0001, hidden_layer_sizes=(3, 2), learning_rate=adaptive;, score=0.938 total time=   0.1s\n",
            "[CV 5/5] END activation=identity, alpha=0.0001, hidden_layer_sizes=(3, 2), learning_rate=adaptive;, score=0.938 total time=   0.0s\n",
            "[CV 1/5] END activation=identity, alpha=0.0001, hidden_layer_sizes=(3,), learning_rate=constant;, score=0.882 total time=   0.0s\n",
            "[CV 2/5] END activation=identity, alpha=0.0001, hidden_layer_sizes=(3,), learning_rate=constant;, score=0.938 total time=   0.0s\n",
            "[CV 3/5] END activation=identity, alpha=0.0001, hidden_layer_sizes=(3,), learning_rate=constant;, score=1.000 total time=   0.0s\n",
            "[CV 4/5] END activation=identity, alpha=0.0001, hidden_layer_sizes=(3,), learning_rate=constant;, score=1.000 total time=   0.1s\n",
            "[CV 5/5] END activation=identity, alpha=0.0001, hidden_layer_sizes=(3,), learning_rate=constant;, score=0.938 total time=   0.0s\n",
            "[CV 1/5] END activation=identity, alpha=0.0001, hidden_layer_sizes=(3,), learning_rate=adaptive;, score=0.882 total time=   0.0s\n",
            "[CV 2/5] END activation=identity, alpha=0.0001, hidden_layer_sizes=(3,), learning_rate=adaptive;, score=0.938 total time=   0.0s\n",
            "[CV 3/5] END activation=identity, alpha=0.0001, hidden_layer_sizes=(3,), learning_rate=adaptive;, score=1.000 total time=   0.1s\n",
            "[CV 4/5] END activation=identity, alpha=0.0001, hidden_layer_sizes=(3,), learning_rate=adaptive;, score=1.000 total time=   0.0s\n",
            "[CV 5/5] END activation=identity, alpha=0.0001, hidden_layer_sizes=(3,), learning_rate=adaptive;, score=0.938 total time=   0.0s\n",
            "[CV 1/5] END activation=identity, alpha=0.0001, hidden_layer_sizes=(10,), learning_rate=constant;, score=0.882 total time=   0.0s\n",
            "[CV 2/5] END activation=identity, alpha=0.0001, hidden_layer_sizes=(10,), learning_rate=constant;, score=0.875 total time=   0.0s\n",
            "[CV 3/5] END activation=identity, alpha=0.0001, hidden_layer_sizes=(10,), learning_rate=constant;, score=1.000 total time=   0.0s\n",
            "[CV 4/5] END activation=identity, alpha=0.0001, hidden_layer_sizes=(10,), learning_rate=constant;, score=1.000 total time=   0.0s\n",
            "[CV 5/5] END activation=identity, alpha=0.0001, hidden_layer_sizes=(10,), learning_rate=constant;, score=0.938 total time=   0.0s\n",
            "[CV 1/5] END activation=identity, alpha=0.0001, hidden_layer_sizes=(10,), learning_rate=adaptive;, score=0.882 total time=   0.0s\n",
            "[CV 2/5] END activation=identity, alpha=0.0001, hidden_layer_sizes=(10,), learning_rate=adaptive;, score=0.875 total time=   0.0s\n",
            "[CV 3/5] END activation=identity, alpha=0.0001, hidden_layer_sizes=(10,), learning_rate=adaptive;, score=1.000 total time=   0.0s\n",
            "[CV 4/5] END activation=identity, alpha=0.0001, hidden_layer_sizes=(10,), learning_rate=adaptive;, score=1.000 total time=   0.0s\n",
            "[CV 5/5] END activation=identity, alpha=0.0001, hidden_layer_sizes=(10,), learning_rate=adaptive;, score=0.938 total time=   0.0s\n"
          ]
        },
        {
          "output_type": "stream",
          "name": "stderr",
          "text": [
            "/usr/local/lib/python3.7/dist-packages/sklearn/neural_network/_multilayer_perceptron.py:549: ConvergenceWarning: lbfgs failed to converge (status=1):\n",
            "STOP: TOTAL NO. of ITERATIONS REACHED LIMIT.\n",
            "\n",
            "Increase the number of iterations (max_iter) or scale the data as shown in:\n",
            "    https://scikit-learn.org/stable/modules/preprocessing.html\n",
            "  self.n_iter_ = _check_optimize_result(\"lbfgs\", opt_res, self.max_iter)\n",
            "/usr/local/lib/python3.7/dist-packages/sklearn/neural_network/_multilayer_perceptron.py:549: ConvergenceWarning: lbfgs failed to converge (status=1):\n",
            "STOP: TOTAL NO. of ITERATIONS REACHED LIMIT.\n",
            "\n",
            "Increase the number of iterations (max_iter) or scale the data as shown in:\n",
            "    https://scikit-learn.org/stable/modules/preprocessing.html\n",
            "  self.n_iter_ = _check_optimize_result(\"lbfgs\", opt_res, self.max_iter)\n"
          ]
        },
        {
          "output_type": "stream",
          "name": "stdout",
          "text": [
            "[CV 1/5] END activation=identity, alpha=0.05, hidden_layer_sizes=(3, 2), learning_rate=constant;, score=0.882 total time=   0.1s\n",
            "[CV 2/5] END activation=identity, alpha=0.05, hidden_layer_sizes=(3, 2), learning_rate=constant;, score=0.938 total time=   0.1s\n",
            "[CV 3/5] END activation=identity, alpha=0.05, hidden_layer_sizes=(3, 2), learning_rate=constant;, score=1.000 total time=   0.1s\n"
          ]
        },
        {
          "output_type": "stream",
          "name": "stderr",
          "text": [
            "/usr/local/lib/python3.7/dist-packages/sklearn/neural_network/_multilayer_perceptron.py:549: ConvergenceWarning: lbfgs failed to converge (status=1):\n",
            "STOP: TOTAL NO. of ITERATIONS REACHED LIMIT.\n",
            "\n",
            "Increase the number of iterations (max_iter) or scale the data as shown in:\n",
            "    https://scikit-learn.org/stable/modules/preprocessing.html\n",
            "  self.n_iter_ = _check_optimize_result(\"lbfgs\", opt_res, self.max_iter)\n",
            "/usr/local/lib/python3.7/dist-packages/sklearn/neural_network/_multilayer_perceptron.py:549: ConvergenceWarning: lbfgs failed to converge (status=1):\n",
            "STOP: TOTAL NO. of ITERATIONS REACHED LIMIT.\n",
            "\n",
            "Increase the number of iterations (max_iter) or scale the data as shown in:\n",
            "    https://scikit-learn.org/stable/modules/preprocessing.html\n",
            "  self.n_iter_ = _check_optimize_result(\"lbfgs\", opt_res, self.max_iter)\n"
          ]
        },
        {
          "output_type": "stream",
          "name": "stdout",
          "text": [
            "[CV 4/5] END activation=identity, alpha=0.05, hidden_layer_sizes=(3, 2), learning_rate=constant;, score=1.000 total time=   0.1s\n",
            "[CV 5/5] END activation=identity, alpha=0.05, hidden_layer_sizes=(3, 2), learning_rate=constant;, score=0.938 total time=   0.1s\n"
          ]
        },
        {
          "output_type": "stream",
          "name": "stderr",
          "text": [
            "/usr/local/lib/python3.7/dist-packages/sklearn/neural_network/_multilayer_perceptron.py:549: ConvergenceWarning: lbfgs failed to converge (status=1):\n",
            "STOP: TOTAL NO. of ITERATIONS REACHED LIMIT.\n",
            "\n",
            "Increase the number of iterations (max_iter) or scale the data as shown in:\n",
            "    https://scikit-learn.org/stable/modules/preprocessing.html\n",
            "  self.n_iter_ = _check_optimize_result(\"lbfgs\", opt_res, self.max_iter)\n",
            "/usr/local/lib/python3.7/dist-packages/sklearn/neural_network/_multilayer_perceptron.py:549: ConvergenceWarning: lbfgs failed to converge (status=1):\n",
            "STOP: TOTAL NO. of ITERATIONS REACHED LIMIT.\n",
            "\n",
            "Increase the number of iterations (max_iter) or scale the data as shown in:\n",
            "    https://scikit-learn.org/stable/modules/preprocessing.html\n",
            "  self.n_iter_ = _check_optimize_result(\"lbfgs\", opt_res, self.max_iter)\n"
          ]
        },
        {
          "output_type": "stream",
          "name": "stdout",
          "text": [
            "[CV 1/5] END activation=identity, alpha=0.05, hidden_layer_sizes=(3, 2), learning_rate=adaptive;, score=0.882 total time=   0.1s\n",
            "[CV 2/5] END activation=identity, alpha=0.05, hidden_layer_sizes=(3, 2), learning_rate=adaptive;, score=0.938 total time=   0.1s\n",
            "[CV 3/5] END activation=identity, alpha=0.05, hidden_layer_sizes=(3, 2), learning_rate=adaptive;, score=1.000 total time=   0.1s\n"
          ]
        },
        {
          "output_type": "stream",
          "name": "stderr",
          "text": [
            "/usr/local/lib/python3.7/dist-packages/sklearn/neural_network/_multilayer_perceptron.py:549: ConvergenceWarning: lbfgs failed to converge (status=1):\n",
            "STOP: TOTAL NO. of ITERATIONS REACHED LIMIT.\n",
            "\n",
            "Increase the number of iterations (max_iter) or scale the data as shown in:\n",
            "    https://scikit-learn.org/stable/modules/preprocessing.html\n",
            "  self.n_iter_ = _check_optimize_result(\"lbfgs\", opt_res, self.max_iter)\n",
            "/usr/local/lib/python3.7/dist-packages/sklearn/neural_network/_multilayer_perceptron.py:549: ConvergenceWarning: lbfgs failed to converge (status=1):\n",
            "STOP: TOTAL NO. of ITERATIONS REACHED LIMIT.\n",
            "\n",
            "Increase the number of iterations (max_iter) or scale the data as shown in:\n",
            "    https://scikit-learn.org/stable/modules/preprocessing.html\n",
            "  self.n_iter_ = _check_optimize_result(\"lbfgs\", opt_res, self.max_iter)\n"
          ]
        },
        {
          "output_type": "stream",
          "name": "stdout",
          "text": [
            "[CV 4/5] END activation=identity, alpha=0.05, hidden_layer_sizes=(3, 2), learning_rate=adaptive;, score=1.000 total time=   0.1s\n",
            "[CV 5/5] END activation=identity, alpha=0.05, hidden_layer_sizes=(3, 2), learning_rate=adaptive;, score=0.938 total time=   0.1s\n",
            "[CV 1/5] END activation=identity, alpha=0.05, hidden_layer_sizes=(3,), learning_rate=constant;, score=0.882 total time=   0.0s\n",
            "[CV 2/5] END activation=identity, alpha=0.05, hidden_layer_sizes=(3,), learning_rate=constant;, score=0.938 total time=   0.0s\n",
            "[CV 3/5] END activation=identity, alpha=0.05, hidden_layer_sizes=(3,), learning_rate=constant;, score=1.000 total time=   0.1s\n",
            "[CV 4/5] END activation=identity, alpha=0.05, hidden_layer_sizes=(3,), learning_rate=constant;, score=1.000 total time=   0.1s\n",
            "[CV 5/5] END activation=identity, alpha=0.05, hidden_layer_sizes=(3,), learning_rate=constant;, score=0.938 total time=   0.0s\n",
            "[CV 1/5] END activation=identity, alpha=0.05, hidden_layer_sizes=(3,), learning_rate=adaptive;, score=0.882 total time=   0.0s\n",
            "[CV 2/5] END activation=identity, alpha=0.05, hidden_layer_sizes=(3,), learning_rate=adaptive;, score=0.938 total time=   0.0s\n",
            "[CV 3/5] END activation=identity, alpha=0.05, hidden_layer_sizes=(3,), learning_rate=adaptive;, score=1.000 total time=   0.1s\n",
            "[CV 4/5] END activation=identity, alpha=0.05, hidden_layer_sizes=(3,), learning_rate=adaptive;, score=1.000 total time=   0.1s\n",
            "[CV 5/5] END activation=identity, alpha=0.05, hidden_layer_sizes=(3,), learning_rate=adaptive;, score=0.938 total time=   0.1s\n",
            "[CV 1/5] END activation=identity, alpha=0.05, hidden_layer_sizes=(10,), learning_rate=constant;, score=0.882 total time=   0.0s\n",
            "[CV 2/5] END activation=identity, alpha=0.05, hidden_layer_sizes=(10,), learning_rate=constant;, score=0.938 total time=   0.0s\n",
            "[CV 3/5] END activation=identity, alpha=0.05, hidden_layer_sizes=(10,), learning_rate=constant;, score=1.000 total time=   0.0s\n",
            "[CV 4/5] END activation=identity, alpha=0.05, hidden_layer_sizes=(10,), learning_rate=constant;, score=1.000 total time=   0.0s\n",
            "[CV 5/5] END activation=identity, alpha=0.05, hidden_layer_sizes=(10,), learning_rate=constant;, score=0.938 total time=   0.0s\n",
            "[CV 1/5] END activation=identity, alpha=0.05, hidden_layer_sizes=(10,), learning_rate=adaptive;, score=0.882 total time=   0.0s\n",
            "[CV 2/5] END activation=identity, alpha=0.05, hidden_layer_sizes=(10,), learning_rate=adaptive;, score=0.938 total time=   0.0s\n",
            "[CV 3/5] END activation=identity, alpha=0.05, hidden_layer_sizes=(10,), learning_rate=adaptive;, score=1.000 total time=   0.0s\n",
            "[CV 4/5] END activation=identity, alpha=0.05, hidden_layer_sizes=(10,), learning_rate=adaptive;, score=1.000 total time=   0.0s\n",
            "[CV 5/5] END activation=identity, alpha=0.05, hidden_layer_sizes=(10,), learning_rate=adaptive;, score=0.938 total time=   0.1s\n",
            "[CV 1/5] END activation=relu, alpha=0.0001, hidden_layer_sizes=(3, 2), learning_rate=constant;, score=0.882 total time=   0.0s\n",
            "[CV 2/5] END activation=relu, alpha=0.0001, hidden_layer_sizes=(3, 2), learning_rate=constant;, score=0.875 total time=   0.1s\n",
            "[CV 3/5] END activation=relu, alpha=0.0001, hidden_layer_sizes=(3, 2), learning_rate=constant;, score=1.000 total time=   0.1s\n"
          ]
        },
        {
          "output_type": "stream",
          "name": "stderr",
          "text": [
            "/usr/local/lib/python3.7/dist-packages/sklearn/neural_network/_multilayer_perceptron.py:549: ConvergenceWarning: lbfgs failed to converge (status=1):\n",
            "STOP: TOTAL NO. of ITERATIONS REACHED LIMIT.\n",
            "\n",
            "Increase the number of iterations (max_iter) or scale the data as shown in:\n",
            "    https://scikit-learn.org/stable/modules/preprocessing.html\n",
            "  self.n_iter_ = _check_optimize_result(\"lbfgs\", opt_res, self.max_iter)\n"
          ]
        },
        {
          "output_type": "stream",
          "name": "stdout",
          "text": [
            "[CV 4/5] END activation=relu, alpha=0.0001, hidden_layer_sizes=(3, 2), learning_rate=constant;, score=1.000 total time=   0.2s\n",
            "[CV 5/5] END activation=relu, alpha=0.0001, hidden_layer_sizes=(3, 2), learning_rate=constant;, score=0.938 total time=   0.1s\n",
            "[CV 1/5] END activation=relu, alpha=0.0001, hidden_layer_sizes=(3, 2), learning_rate=adaptive;, score=0.882 total time=   0.0s\n",
            "[CV 2/5] END activation=relu, alpha=0.0001, hidden_layer_sizes=(3, 2), learning_rate=adaptive;, score=0.875 total time=   0.1s\n",
            "[CV 3/5] END activation=relu, alpha=0.0001, hidden_layer_sizes=(3, 2), learning_rate=adaptive;, score=1.000 total time=   0.1s\n"
          ]
        },
        {
          "output_type": "stream",
          "name": "stderr",
          "text": [
            "/usr/local/lib/python3.7/dist-packages/sklearn/neural_network/_multilayer_perceptron.py:549: ConvergenceWarning: lbfgs failed to converge (status=1):\n",
            "STOP: TOTAL NO. of ITERATIONS REACHED LIMIT.\n",
            "\n",
            "Increase the number of iterations (max_iter) or scale the data as shown in:\n",
            "    https://scikit-learn.org/stable/modules/preprocessing.html\n",
            "  self.n_iter_ = _check_optimize_result(\"lbfgs\", opt_res, self.max_iter)\n"
          ]
        },
        {
          "output_type": "stream",
          "name": "stdout",
          "text": [
            "[CV 4/5] END activation=relu, alpha=0.0001, hidden_layer_sizes=(3, 2), learning_rate=adaptive;, score=1.000 total time=   0.2s\n",
            "[CV 5/5] END activation=relu, alpha=0.0001, hidden_layer_sizes=(3, 2), learning_rate=adaptive;, score=0.938 total time=   0.1s\n",
            "[CV 1/5] END activation=relu, alpha=0.0001, hidden_layer_sizes=(3,), learning_rate=constant;, score=0.882 total time=   0.1s\n",
            "[CV 2/5] END activation=relu, alpha=0.0001, hidden_layer_sizes=(3,), learning_rate=constant;, score=0.875 total time=   0.0s\n",
            "[CV 3/5] END activation=relu, alpha=0.0001, hidden_layer_sizes=(3,), learning_rate=constant;, score=1.000 total time=   0.2s\n",
            "[CV 4/5] END activation=relu, alpha=0.0001, hidden_layer_sizes=(3,), learning_rate=constant;, score=1.000 total time=   0.1s\n",
            "[CV 5/5] END activation=relu, alpha=0.0001, hidden_layer_sizes=(3,), learning_rate=constant;, score=0.938 total time=   0.0s\n",
            "[CV 1/5] END activation=relu, alpha=0.0001, hidden_layer_sizes=(3,), learning_rate=adaptive;, score=0.882 total time=   0.1s\n",
            "[CV 2/5] END activation=relu, alpha=0.0001, hidden_layer_sizes=(3,), learning_rate=adaptive;, score=0.875 total time=   0.0s\n",
            "[CV 3/5] END activation=relu, alpha=0.0001, hidden_layer_sizes=(3,), learning_rate=adaptive;, score=1.000 total time=   0.1s\n",
            "[CV 4/5] END activation=relu, alpha=0.0001, hidden_layer_sizes=(3,), learning_rate=adaptive;, score=1.000 total time=   0.1s\n",
            "[CV 5/5] END activation=relu, alpha=0.0001, hidden_layer_sizes=(3,), learning_rate=adaptive;, score=0.938 total time=   0.1s\n",
            "[CV 1/5] END activation=relu, alpha=0.0001, hidden_layer_sizes=(10,), learning_rate=constant;, score=0.882 total time=   0.0s\n",
            "[CV 2/5] END activation=relu, alpha=0.0001, hidden_layer_sizes=(10,), learning_rate=constant;, score=0.875 total time=   0.0s\n",
            "[CV 3/5] END activation=relu, alpha=0.0001, hidden_layer_sizes=(10,), learning_rate=constant;, score=1.000 total time=   0.1s\n",
            "[CV 4/5] END activation=relu, alpha=0.0001, hidden_layer_sizes=(10,), learning_rate=constant;, score=1.000 total time=   0.1s\n",
            "[CV 5/5] END activation=relu, alpha=0.0001, hidden_layer_sizes=(10,), learning_rate=constant;, score=0.938 total time=   0.0s\n",
            "[CV 1/5] END activation=relu, alpha=0.0001, hidden_layer_sizes=(10,), learning_rate=adaptive;, score=0.882 total time=   0.0s\n",
            "[CV 2/5] END activation=relu, alpha=0.0001, hidden_layer_sizes=(10,), learning_rate=adaptive;, score=0.875 total time=   0.0s\n",
            "[CV 3/5] END activation=relu, alpha=0.0001, hidden_layer_sizes=(10,), learning_rate=adaptive;, score=1.000 total time=   0.1s\n",
            "[CV 4/5] END activation=relu, alpha=0.0001, hidden_layer_sizes=(10,), learning_rate=adaptive;, score=1.000 total time=   0.1s\n",
            "[CV 5/5] END activation=relu, alpha=0.0001, hidden_layer_sizes=(10,), learning_rate=adaptive;, score=0.938 total time=   0.0s\n",
            "[CV 1/5] END activation=relu, alpha=0.05, hidden_layer_sizes=(3, 2), learning_rate=constant;, score=0.882 total time=   0.1s\n",
            "[CV 2/5] END activation=relu, alpha=0.05, hidden_layer_sizes=(3, 2), learning_rate=constant;, score=0.938 total time=   0.1s\n"
          ]
        },
        {
          "output_type": "stream",
          "name": "stderr",
          "text": [
            "/usr/local/lib/python3.7/dist-packages/sklearn/neural_network/_multilayer_perceptron.py:549: ConvergenceWarning: lbfgs failed to converge (status=1):\n",
            "STOP: TOTAL NO. of ITERATIONS REACHED LIMIT.\n",
            "\n",
            "Increase the number of iterations (max_iter) or scale the data as shown in:\n",
            "    https://scikit-learn.org/stable/modules/preprocessing.html\n",
            "  self.n_iter_ = _check_optimize_result(\"lbfgs\", opt_res, self.max_iter)\n",
            "/usr/local/lib/python3.7/dist-packages/sklearn/neural_network/_multilayer_perceptron.py:549: ConvergenceWarning: lbfgs failed to converge (status=1):\n",
            "STOP: TOTAL NO. of ITERATIONS REACHED LIMIT.\n",
            "\n",
            "Increase the number of iterations (max_iter) or scale the data as shown in:\n",
            "    https://scikit-learn.org/stable/modules/preprocessing.html\n",
            "  self.n_iter_ = _check_optimize_result(\"lbfgs\", opt_res, self.max_iter)\n",
            "/usr/local/lib/python3.7/dist-packages/sklearn/neural_network/_multilayer_perceptron.py:549: ConvergenceWarning: lbfgs failed to converge (status=1):\n",
            "STOP: TOTAL NO. of ITERATIONS REACHED LIMIT.\n",
            "\n",
            "Increase the number of iterations (max_iter) or scale the data as shown in:\n",
            "    https://scikit-learn.org/stable/modules/preprocessing.html\n",
            "  self.n_iter_ = _check_optimize_result(\"lbfgs\", opt_res, self.max_iter)\n"
          ]
        },
        {
          "output_type": "stream",
          "name": "stdout",
          "text": [
            "[CV 3/5] END activation=relu, alpha=0.05, hidden_layer_sizes=(3, 2), learning_rate=constant;, score=0.938 total time=   0.1s\n",
            "[CV 4/5] END activation=relu, alpha=0.05, hidden_layer_sizes=(3, 2), learning_rate=constant;, score=1.000 total time=   0.1s\n",
            "[CV 5/5] END activation=relu, alpha=0.05, hidden_layer_sizes=(3, 2), learning_rate=constant;, score=0.938 total time=   0.1s\n",
            "[CV 1/5] END activation=relu, alpha=0.05, hidden_layer_sizes=(3, 2), learning_rate=adaptive;, score=0.882 total time=   0.1s\n"
          ]
        },
        {
          "output_type": "stream",
          "name": "stderr",
          "text": [
            "/usr/local/lib/python3.7/dist-packages/sklearn/neural_network/_multilayer_perceptron.py:549: ConvergenceWarning: lbfgs failed to converge (status=1):\n",
            "STOP: TOTAL NO. of ITERATIONS REACHED LIMIT.\n",
            "\n",
            "Increase the number of iterations (max_iter) or scale the data as shown in:\n",
            "    https://scikit-learn.org/stable/modules/preprocessing.html\n",
            "  self.n_iter_ = _check_optimize_result(\"lbfgs\", opt_res, self.max_iter)\n"
          ]
        },
        {
          "output_type": "stream",
          "name": "stdout",
          "text": [
            "[CV 2/5] END activation=relu, alpha=0.05, hidden_layer_sizes=(3, 2), learning_rate=adaptive;, score=0.938 total time=   0.1s\n",
            "[CV 3/5] END activation=relu, alpha=0.05, hidden_layer_sizes=(3, 2), learning_rate=adaptive;, score=0.938 total time=   0.1s\n"
          ]
        },
        {
          "output_type": "stream",
          "name": "stderr",
          "text": [
            "/usr/local/lib/python3.7/dist-packages/sklearn/neural_network/_multilayer_perceptron.py:549: ConvergenceWarning: lbfgs failed to converge (status=1):\n",
            "STOP: TOTAL NO. of ITERATIONS REACHED LIMIT.\n",
            "\n",
            "Increase the number of iterations (max_iter) or scale the data as shown in:\n",
            "    https://scikit-learn.org/stable/modules/preprocessing.html\n",
            "  self.n_iter_ = _check_optimize_result(\"lbfgs\", opt_res, self.max_iter)\n",
            "/usr/local/lib/python3.7/dist-packages/sklearn/neural_network/_multilayer_perceptron.py:549: ConvergenceWarning: lbfgs failed to converge (status=1):\n",
            "STOP: TOTAL NO. of ITERATIONS REACHED LIMIT.\n",
            "\n",
            "Increase the number of iterations (max_iter) or scale the data as shown in:\n",
            "    https://scikit-learn.org/stable/modules/preprocessing.html\n",
            "  self.n_iter_ = _check_optimize_result(\"lbfgs\", opt_res, self.max_iter)\n"
          ]
        },
        {
          "output_type": "stream",
          "name": "stdout",
          "text": [
            "[CV 4/5] END activation=relu, alpha=0.05, hidden_layer_sizes=(3, 2), learning_rate=adaptive;, score=1.000 total time=   0.1s\n",
            "[CV 5/5] END activation=relu, alpha=0.05, hidden_layer_sizes=(3, 2), learning_rate=adaptive;, score=0.938 total time=   0.1s\n",
            "[CV 1/5] END activation=relu, alpha=0.05, hidden_layer_sizes=(3,), learning_rate=constant;, score=0.882 total time=   0.1s\n",
            "[CV 2/5] END activation=relu, alpha=0.05, hidden_layer_sizes=(3,), learning_rate=constant;, score=0.938 total time=   0.1s\n",
            "[CV 3/5] END activation=relu, alpha=0.05, hidden_layer_sizes=(3,), learning_rate=constant;, score=1.000 total time=   0.0s\n",
            "[CV 4/5] END activation=relu, alpha=0.05, hidden_layer_sizes=(3,), learning_rate=constant;, score=1.000 total time=   0.1s\n",
            "[CV 5/5] END activation=relu, alpha=0.05, hidden_layer_sizes=(3,), learning_rate=constant;, score=0.938 total time=   0.1s\n"
          ]
        },
        {
          "output_type": "stream",
          "name": "stderr",
          "text": [
            "/usr/local/lib/python3.7/dist-packages/sklearn/neural_network/_multilayer_perceptron.py:549: ConvergenceWarning: lbfgs failed to converge (status=1):\n",
            "STOP: TOTAL NO. of ITERATIONS REACHED LIMIT.\n",
            "\n",
            "Increase the number of iterations (max_iter) or scale the data as shown in:\n",
            "    https://scikit-learn.org/stable/modules/preprocessing.html\n",
            "  self.n_iter_ = _check_optimize_result(\"lbfgs\", opt_res, self.max_iter)\n"
          ]
        },
        {
          "output_type": "stream",
          "name": "stdout",
          "text": [
            "[CV 1/5] END activation=relu, alpha=0.05, hidden_layer_sizes=(3,), learning_rate=adaptive;, score=0.882 total time=   0.1s\n",
            "[CV 2/5] END activation=relu, alpha=0.05, hidden_layer_sizes=(3,), learning_rate=adaptive;, score=0.938 total time=   0.1s\n",
            "[CV 3/5] END activation=relu, alpha=0.05, hidden_layer_sizes=(3,), learning_rate=adaptive;, score=1.000 total time=   0.1s\n"
          ]
        },
        {
          "output_type": "stream",
          "name": "stderr",
          "text": [
            "/usr/local/lib/python3.7/dist-packages/sklearn/neural_network/_multilayer_perceptron.py:549: ConvergenceWarning: lbfgs failed to converge (status=1):\n",
            "STOP: TOTAL NO. of ITERATIONS REACHED LIMIT.\n",
            "\n",
            "Increase the number of iterations (max_iter) or scale the data as shown in:\n",
            "    https://scikit-learn.org/stable/modules/preprocessing.html\n",
            "  self.n_iter_ = _check_optimize_result(\"lbfgs\", opt_res, self.max_iter)\n"
          ]
        },
        {
          "output_type": "stream",
          "name": "stdout",
          "text": [
            "[CV 4/5] END activation=relu, alpha=0.05, hidden_layer_sizes=(3,), learning_rate=adaptive;, score=1.000 total time=   0.1s\n",
            "[CV 5/5] END activation=relu, alpha=0.05, hidden_layer_sizes=(3,), learning_rate=adaptive;, score=0.938 total time=   0.1s\n",
            "[CV 1/5] END activation=relu, alpha=0.05, hidden_layer_sizes=(10,), learning_rate=constant;, score=0.882 total time=   0.1s\n",
            "[CV 2/5] END activation=relu, alpha=0.05, hidden_layer_sizes=(10,), learning_rate=constant;, score=0.938 total time=   0.1s\n"
          ]
        },
        {
          "output_type": "stream",
          "name": "stderr",
          "text": [
            "/usr/local/lib/python3.7/dist-packages/sklearn/neural_network/_multilayer_perceptron.py:549: ConvergenceWarning: lbfgs failed to converge (status=1):\n",
            "STOP: TOTAL NO. of ITERATIONS REACHED LIMIT.\n",
            "\n",
            "Increase the number of iterations (max_iter) or scale the data as shown in:\n",
            "    https://scikit-learn.org/stable/modules/preprocessing.html\n",
            "  self.n_iter_ = _check_optimize_result(\"lbfgs\", opt_res, self.max_iter)\n",
            "/usr/local/lib/python3.7/dist-packages/sklearn/neural_network/_multilayer_perceptron.py:549: ConvergenceWarning: lbfgs failed to converge (status=1):\n",
            "STOP: TOTAL NO. of ITERATIONS REACHED LIMIT.\n",
            "\n",
            "Increase the number of iterations (max_iter) or scale the data as shown in:\n",
            "    https://scikit-learn.org/stable/modules/preprocessing.html\n",
            "  self.n_iter_ = _check_optimize_result(\"lbfgs\", opt_res, self.max_iter)\n"
          ]
        },
        {
          "output_type": "stream",
          "name": "stdout",
          "text": [
            "[CV 3/5] END activation=relu, alpha=0.05, hidden_layer_sizes=(10,), learning_rate=constant;, score=1.000 total time=   0.1s\n",
            "[CV 4/5] END activation=relu, alpha=0.05, hidden_layer_sizes=(10,), learning_rate=constant;, score=1.000 total time=   0.1s\n",
            "[CV 5/5] END activation=relu, alpha=0.05, hidden_layer_sizes=(10,), learning_rate=constant;, score=0.938 total time=   0.1s\n",
            "[CV 1/5] END activation=relu, alpha=0.05, hidden_layer_sizes=(10,), learning_rate=adaptive;, score=0.882 total time=   0.1s\n",
            "[CV 2/5] END activation=relu, alpha=0.05, hidden_layer_sizes=(10,), learning_rate=adaptive;, score=0.938 total time=   0.1s\n",
            "[CV 3/5] END activation=relu, alpha=0.05, hidden_layer_sizes=(10,), learning_rate=adaptive;, score=1.000 total time=   0.1s\n"
          ]
        },
        {
          "output_type": "stream",
          "name": "stderr",
          "text": [
            "/usr/local/lib/python3.7/dist-packages/sklearn/neural_network/_multilayer_perceptron.py:549: ConvergenceWarning: lbfgs failed to converge (status=1):\n",
            "STOP: TOTAL NO. of ITERATIONS REACHED LIMIT.\n",
            "\n",
            "Increase the number of iterations (max_iter) or scale the data as shown in:\n",
            "    https://scikit-learn.org/stable/modules/preprocessing.html\n",
            "  self.n_iter_ = _check_optimize_result(\"lbfgs\", opt_res, self.max_iter)\n",
            "/usr/local/lib/python3.7/dist-packages/sklearn/neural_network/_multilayer_perceptron.py:549: ConvergenceWarning: lbfgs failed to converge (status=1):\n",
            "STOP: TOTAL NO. of ITERATIONS REACHED LIMIT.\n",
            "\n",
            "Increase the number of iterations (max_iter) or scale the data as shown in:\n",
            "    https://scikit-learn.org/stable/modules/preprocessing.html\n",
            "  self.n_iter_ = _check_optimize_result(\"lbfgs\", opt_res, self.max_iter)\n"
          ]
        },
        {
          "output_type": "stream",
          "name": "stdout",
          "text": [
            "[CV 4/5] END activation=relu, alpha=0.05, hidden_layer_sizes=(10,), learning_rate=adaptive;, score=1.000 total time=   0.1s\n",
            "[CV 5/5] END activation=relu, alpha=0.05, hidden_layer_sizes=(10,), learning_rate=adaptive;, score=0.938 total time=   0.1s\n"
          ]
        },
        {
          "output_type": "execute_result",
          "data": {
            "text/plain": [
              "GridSearchCV(cv=5,\n",
              "             estimator=MLPClassifier(activation='logistic', alpha=1e-05,\n",
              "                                     hidden_layer_sizes=(3,), random_state=123,\n",
              "                                     solver='lbfgs'),\n",
              "             param_grid={'activation': ['identity', 'relu'],\n",
              "                         'alpha': [0.0001, 0.05],\n",
              "                         'hidden_layer_sizes': [(3, 2), (3,), (10,)],\n",
              "                         'learning_rate': ['constant', 'adaptive']},\n",
              "             verbose=3)"
            ]
          },
          "metadata": {},
          "execution_count": 96
        }
      ]
    },
    {
      "cell_type": "code",
      "source": [
        "\n",
        "# print best parameter after tuning\n",
        "print(grid.best_params_)\n",
        "  \n",
        "# print how our model looks after hyper-parameter tuning\n",
        "print(grid.best_estimator_)\n",
        "\n",
        "means = grid.cv_results_['mean_test_score']\n",
        "stds = grid.cv_results_['std_test_score']\n",
        "for mean, std, params in zip(means, stds, grid.cv_results_['params']):\n",
        "    print(\"%0.3f (+/-%0.03f) for %r\" % (mean, std * 2, params))"
      ],
      "metadata": {
        "colab": {
          "base_uri": "https://localhost:8080/"
        },
        "id": "hOiO9dtOQvlX",
        "outputId": "576e31ed-1dbe-4450-b303-323d1d4c92ca"
      },
      "execution_count": 97,
      "outputs": [
        {
          "output_type": "stream",
          "name": "stdout",
          "text": [
            "{'activation': 'identity', 'alpha': 0.0001, 'hidden_layer_sizes': (3,), 'learning_rate': 'constant'}\n",
            "MLPClassifier(activation='identity', hidden_layer_sizes=(3,), random_state=123,\n",
            "              solver='lbfgs')\n",
            "0.939 (+/-0.074) for {'activation': 'identity', 'alpha': 0.0001, 'hidden_layer_sizes': (3, 2), 'learning_rate': 'constant'}\n",
            "0.939 (+/-0.074) for {'activation': 'identity', 'alpha': 0.0001, 'hidden_layer_sizes': (3, 2), 'learning_rate': 'adaptive'}\n",
            "0.951 (+/-0.089) for {'activation': 'identity', 'alpha': 0.0001, 'hidden_layer_sizes': (3,), 'learning_rate': 'constant'}\n",
            "0.951 (+/-0.089) for {'activation': 'identity', 'alpha': 0.0001, 'hidden_layer_sizes': (3,), 'learning_rate': 'adaptive'}\n",
            "0.939 (+/-0.109) for {'activation': 'identity', 'alpha': 0.0001, 'hidden_layer_sizes': (10,), 'learning_rate': 'constant'}\n",
            "0.939 (+/-0.109) for {'activation': 'identity', 'alpha': 0.0001, 'hidden_layer_sizes': (10,), 'learning_rate': 'adaptive'}\n",
            "0.951 (+/-0.089) for {'activation': 'identity', 'alpha': 0.05, 'hidden_layer_sizes': (3, 2), 'learning_rate': 'constant'}\n",
            "0.951 (+/-0.089) for {'activation': 'identity', 'alpha': 0.05, 'hidden_layer_sizes': (3, 2), 'learning_rate': 'adaptive'}\n",
            "0.951 (+/-0.089) for {'activation': 'identity', 'alpha': 0.05, 'hidden_layer_sizes': (3,), 'learning_rate': 'constant'}\n",
            "0.951 (+/-0.089) for {'activation': 'identity', 'alpha': 0.05, 'hidden_layer_sizes': (3,), 'learning_rate': 'adaptive'}\n",
            "0.951 (+/-0.089) for {'activation': 'identity', 'alpha': 0.05, 'hidden_layer_sizes': (10,), 'learning_rate': 'constant'}\n",
            "0.951 (+/-0.089) for {'activation': 'identity', 'alpha': 0.05, 'hidden_layer_sizes': (10,), 'learning_rate': 'adaptive'}\n",
            "0.939 (+/-0.109) for {'activation': 'relu', 'alpha': 0.0001, 'hidden_layer_sizes': (3, 2), 'learning_rate': 'constant'}\n",
            "0.939 (+/-0.109) for {'activation': 'relu', 'alpha': 0.0001, 'hidden_layer_sizes': (3, 2), 'learning_rate': 'adaptive'}\n",
            "0.939 (+/-0.109) for {'activation': 'relu', 'alpha': 0.0001, 'hidden_layer_sizes': (3,), 'learning_rate': 'constant'}\n",
            "0.939 (+/-0.109) for {'activation': 'relu', 'alpha': 0.0001, 'hidden_layer_sizes': (3,), 'learning_rate': 'adaptive'}\n",
            "0.939 (+/-0.109) for {'activation': 'relu', 'alpha': 0.0001, 'hidden_layer_sizes': (10,), 'learning_rate': 'constant'}\n",
            "0.939 (+/-0.109) for {'activation': 'relu', 'alpha': 0.0001, 'hidden_layer_sizes': (10,), 'learning_rate': 'adaptive'}\n",
            "0.939 (+/-0.074) for {'activation': 'relu', 'alpha': 0.05, 'hidden_layer_sizes': (3, 2), 'learning_rate': 'constant'}\n",
            "0.939 (+/-0.074) for {'activation': 'relu', 'alpha': 0.05, 'hidden_layer_sizes': (3, 2), 'learning_rate': 'adaptive'}\n",
            "0.951 (+/-0.089) for {'activation': 'relu', 'alpha': 0.05, 'hidden_layer_sizes': (3,), 'learning_rate': 'constant'}\n",
            "0.951 (+/-0.089) for {'activation': 'relu', 'alpha': 0.05, 'hidden_layer_sizes': (3,), 'learning_rate': 'adaptive'}\n",
            "0.951 (+/-0.089) for {'activation': 'relu', 'alpha': 0.05, 'hidden_layer_sizes': (10,), 'learning_rate': 'constant'}\n",
            "0.951 (+/-0.089) for {'activation': 'relu', 'alpha': 0.05, 'hidden_layer_sizes': (10,), 'learning_rate': 'adaptive'}\n"
          ]
        }
      ]
    },
    {
      "cell_type": "code",
      "source": [
        "from sklearn.metrics import classification_report\n",
        "\n",
        "grid_predictions = grid.predict(X_test_std)\n",
        "\n",
        "scores=metrics.accuracy_score(y_test,grid_predictions)  \n",
        "print('ACC = ', scores)\n",
        "# print classification report\n",
        "print(classification_report(y_test, grid_predictions))"
      ],
      "metadata": {
        "colab": {
          "base_uri": "https://localhost:8080/"
        },
        "id": "ArDoGMGzQ5qd",
        "outputId": "a2b6fe6a-eae6-40a2-c0e9-0c58f36d84f3"
      },
      "execution_count": 98,
      "outputs": [
        {
          "output_type": "stream",
          "name": "stdout",
          "text": [
            "ACC =  0.9833333333333333\n",
            "              precision    recall  f1-score   support\n",
            "\n",
            "           0       1.00      1.00      1.00        20\n",
            "           1       0.95      1.00      0.98        20\n",
            "           2       1.00      0.95      0.97        20\n",
            "\n",
            "    accuracy                           0.98        60\n",
            "   macro avg       0.98      0.98      0.98        60\n",
            "weighted avg       0.98      0.98      0.98        60\n",
            "\n"
          ]
        }
      ]
    },
    {
      "cell_type": "code",
      "source": [
        "from sklearn.metrics import plot_confusion_matrix\n",
        "plot_confusion_matrix(grid, X_test_std, y_test)  \n",
        "plt.show()"
      ],
      "metadata": {
        "id": "LEezxmxvhYyY",
        "outputId": "faa1244a-b6ce-4fc7-a9d1-ab949b924ed3",
        "colab": {
          "base_uri": "https://localhost:8080/",
          "height": 338
        }
      },
      "execution_count": 99,
      "outputs": [
        {
          "output_type": "stream",
          "name": "stderr",
          "text": [
            "/usr/local/lib/python3.7/dist-packages/sklearn/utils/deprecation.py:87: FutureWarning: Function plot_confusion_matrix is deprecated; Function `plot_confusion_matrix` is deprecated in 1.0 and will be removed in 1.2. Use one of the class methods: ConfusionMatrixDisplay.from_predictions or ConfusionMatrixDisplay.from_estimator.\n",
            "  warnings.warn(msg, category=FutureWarning)\n"
          ]
        },
        {
          "output_type": "display_data",
          "data": {
            "text/plain": [
              "<Figure size 432x288 with 2 Axes>"
            ],
            "image/png": "[encoded data removed]"
          },
          "metadata": {
            "needs_background": "light"
          }
        }
      ]
    }
  ]
}