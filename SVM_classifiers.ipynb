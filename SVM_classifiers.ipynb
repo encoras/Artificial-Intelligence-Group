{
  "nbformat": 4,
  "nbformat_minor": 0,
  "metadata": {
    "colab": {
      "provenance": [],
      "authorship_tag": "ABX9TyOKddsRjJk+kOFLHyUqx1dD",
      "include_colab_link": true
    },
    "kernelspec": {
      "name": "python3",
      "display_name": "Python 3"
    },
    "language_info": {
      "name": "python"
    }
  },
  "cells": [
    {
      "cell_type": "markdown",
      "metadata": {
        "id": "view-in-github",
        "colab_type": "text"
      },
      "source": [
        "<a href=\"https://colab.research.google.com/github/encoras/Artificial-Intelligence-Group/blob/master/SVM_classifiers.ipynb\" target=\"_parent\"><img src=\"https://colab.research.google.com/assets/colab-badge.svg\" alt=\"Open In Colab\"/></a>"
      ]
    },
    {
      "cell_type": "markdown",
      "source": [
        "The code is adopted from:\n",
        "\n",
        "\n",
        "https://www.datacamp.com/tutorial/svm-classification-scikit-learn-python\n",
        "\n",
        "\n"
      ],
      "metadata": {
        "id": "tSKRJ8-hO6WY"
      }
    },
    {
      "cell_type": "code",
      "execution_count": null,
      "metadata": {
        "colab": {
          "base_uri": "https://localhost:8080/",
          "height": 300
        },
        "id": "cyqgWif0Fvxh",
        "outputId": "8808b3c5-404e-4540-b138-d2f017b1cdc4"
      },
      "outputs": [
        {
          "output_type": "stream",
          "name": "stderr",
          "text": [
            "/usr/local/lib/python3.7/dist-packages/sklearn/svm/_base.py:1208: ConvergenceWarning: Liblinear failed to converge, increase the number of iterations.\n",
            "  ConvergenceWarning,\n"
          ]
        },
        {
          "output_type": "display_data",
          "data": {
            "text/plain": [
              "<Figure size 432x288 with 1 Axes>"
            ],
            "image/png": "[encoded data removed]"
          },
          "metadata": {
            "needs_background": "light"
          }
        }
      ],
      "source": [
        "import numpy as np\n",
        "import pylab as pl\n",
        "from sklearn import svm, datasets\n",
        "\n",
        "# import some data to play with\n",
        "iris = datasets.load_iris()\n",
        "X = iris.data[:, 2:]  # we only take the first two features. We could\n",
        "                      # avoid this ugly slicing by using a two-dim dataset\n",
        "Y = iris.target\n",
        "\n",
        "\n",
        "\n",
        "# we create an instance of SVM and fit out data. We do not scale our\n",
        "# data since we want to plot the support vectors\n",
        "C = 100  # SVM regularization parameter\n",
        "svc = svm.SVC(random_state=123, kernel='linear', C=C).fit(X, Y)\n",
        "rbf_svc = svm.SVC(random_state=123, kernel='rbf', gamma=0.7, C=C).fit(X, Y)\n",
        "poly_svc = svm.SVC(random_state=123,kernel='poly', degree=3, C=C).fit(X, Y)\n",
        "lin_svc = svm.LinearSVC(random_state=123,C=C).fit(X, Y)\n",
        "\n",
        "    # Plot also the training points\n",
        "pl.scatter(X[:, 0], X[:, 1], c=Y)\n",
        "\n",
        "pl.show()\n"
      ]
    },
    {
      "cell_type": "code",
      "source": [
        "\n",
        "# Let's plot 2D mesh grid with division hiperplanes\n",
        "h = .02  # step size in the mesh\n",
        "\n",
        "# create a mesh to plot in\n",
        "x_min, x_max = X[:, 0].min() - 1, X[:, 0].max() + 1\n",
        "y_min, y_max = X[:, 1].min() - 1, X[:, 1].max() + 1\n",
        "xx, yy = np.meshgrid(np.arange(x_min, x_max, h),\n",
        "                     np.arange(y_min, y_max, h))\n",
        "# title for the plots\n",
        "titles = ['SVC with linear kernel',\n",
        "          'SVC with RBF kernel',\n",
        "          'SVC with polynomial (degree 3) kernel',\n",
        "          'LinearSVC (linear kernel)']\n",
        "\n",
        "\n",
        "pl.set_cmap(pl.cm.Paired)\n",
        "\n",
        "for i, clf in enumerate((svc, rbf_svc, poly_svc, lin_svc)):\n",
        "    # Plot the decision boundary. For that, we will asign a color to each\n",
        "    # point in the mesh [x_min, m_max]x[y_min, y_max].\n",
        "    pl.subplot(2, 2, i + 1)\n",
        "    Z = clf.predict(np.c_[xx.ravel(), yy.ravel()])\n",
        "\n",
        "    # Put the result into a color plot\n",
        "    Z = Z.reshape(xx.shape)\n",
        "    pl.set_cmap(pl.cm.Paired)\n",
        "    pl.contourf(xx, yy, Z)\n",
        "    pl.axis('off')\n",
        "\n",
        "    # Plot also the training points\n",
        "    pl.scatter(X[:, 0], X[:, 1], c=[0,0,0])\n",
        "\n",
        "    pl.title(titles[i])\n",
        "\n",
        "pl.show()"
      ],
      "metadata": {
        "colab": {
          "base_uri": "https://localhost:8080/",
          "height": 353
        },
        "id": "S7fadqcjG5Al",
        "outputId": "55a560ef-12ab-476a-a2c8-60234cf9ac5c"
      },
      "execution_count": null,
      "outputs": [
        {
          "output_type": "stream",
          "name": "stderr",
          "text": [
            "WARNING:matplotlib.axes._axes:*c* argument looks like a single numeric RGB or RGBA sequence, which should be avoided as value-mapping will have precedence in case its length matches with *x* & *y*.  Please use the *color* keyword-argument or provide a 2-D array with a single row if you intend to specify the same RGB or RGBA value for all points.\n",
            "WARNING:matplotlib.axes._axes:*c* argument looks like a single numeric RGB or RGBA sequence, which should be avoided as value-mapping will have precedence in case its length matches with *x* & *y*.  Please use the *color* keyword-argument or provide a 2-D array with a single row if you intend to specify the same RGB or RGBA value for all points.\n",
            "WARNING:matplotlib.axes._axes:*c* argument looks like a single numeric RGB or RGBA sequence, which should be avoided as value-mapping will have precedence in case its length matches with *x* & *y*.  Please use the *color* keyword-argument or provide a 2-D array with a single row if you intend to specify the same RGB or RGBA value for all points.\n",
            "WARNING:matplotlib.axes._axes:*c* argument looks like a single numeric RGB or RGBA sequence, which should be avoided as value-mapping will have precedence in case its length matches with *x* & *y*.  Please use the *color* keyword-argument or provide a 2-D array with a single row if you intend to specify the same RGB or RGBA value for all points.\n"
          ]
        },
        {
          "output_type": "display_data",
          "data": {
            "text/plain": [
              "<Figure size 432x288 with 4 Axes>"
            ],
            "image/png": "[encoded data removed]"
          },
          "metadata": {
            "needs_background": "light"
          }
        }
      ]
    },
    {
      "cell_type": "markdown",
      "source": [
        "Let's do a correct classification\n"
      ],
      "metadata": {
        "id": "MSPdR2hbKc1-"
      }
    },
    {
      "cell_type": "code",
      "source": [
        "from  sklearn import datasets\n",
        "from sklearn.model_selection import train_test_split\n",
        "from sklearn import metrics\n",
        "from matplotlib import pyplot as plt"
      ],
      "metadata": {
        "id": "yvqM5297KhBV"
      },
      "execution_count": null,
      "outputs": []
    },
    {
      "cell_type": "code",
      "source": [
        "# Load IRIS\n",
        "X, y = datasets.load_iris(return_X_y=True)"
      ],
      "metadata": {
        "id": "eHLh6V2eK6Z4"
      },
      "execution_count": null,
      "outputs": []
    },
    {
      "cell_type": "code",
      "source": [
        "X_temp, X_test, y_temp, y_test = train_test_split(X, y, test_size=0.4, random_state=1, shuffle=True, stratify=y)\n",
        "X_train, X_valid, y_train, y_valid = train_test_split(X_temp, y_temp, test_size=0.1, random_state=10, shuffle=True, stratify=y_temp)"
      ],
      "metadata": {
        "id": "4s15CsOzK8yo"
      },
      "execution_count": null,
      "outputs": []
    },
    {
      "cell_type": "code",
      "source": [
        "C = 10  # SVM regularization parameter\n",
        "svc = svm.SVC(random_state=123, kernel='linear', C=C).fit(X_train, y_train)\n",
        "rbf_svc = svm.SVC(random_state=123, kernel='rbf', gamma=0.7, C=C).fit(X_train, y_train)\n",
        "poly_svc = svm.SVC(random_state=123,kernel='poly', degree=3, C=C).fit(X_train, y_train)\n",
        "lin_svc = svm.LinearSVC(random_state=123,C=C).fit(X_train, y_train)"
      ],
      "metadata": {
        "id": "Z1eYp-yrLGC3"
      },
      "execution_count": null,
      "outputs": []
    },
    {
      "cell_type": "code",
      "source": [],
      "metadata": {
        "id": "4h2fjn3JNhIs"
      },
      "execution_count": null,
      "outputs": []
    },
    {
      "cell_type": "code",
      "source": [
        "#svc test\n",
        "y_pred = svc.predict(X_test)\n",
        "scores_svc=metrics.accuracy_score(y_test,y_pred)\n",
        "\n",
        "#rbf test\n",
        "y_pred = rbf_svc.predict(X_test)\n",
        "scores_rbf_svc=metrics.accuracy_score(y_test,y_pred)\n",
        "\n",
        "#poly test\n",
        "y_pred = poly_svc.predict(X_test)\n",
        "scores_poly_svc=metrics.accuracy_score(y_test,y_pred)\n",
        "\n",
        "#lin test\n",
        "y_pred = lin_svc.predict(X_test)\n",
        "scores_lin_svc=metrics.accuracy_score(y_test,y_pred)\n",
        "\n",
        "print('SVC = ', scores_svc, \";  RBF = \", scores_rbf_svc, \"; POLY = \", scores_poly_svc, \"; LIN = \", scores_lin_svc, )\n"
      ],
      "metadata": {
        "colab": {
          "base_uri": "https://localhost:8080/"
        },
        "id": "f_nYyrPFLtLX",
        "outputId": "9d1eba64-f790-4541-c693-0a572e515528"
      },
      "execution_count": null,
      "outputs": [
        {
          "output_type": "stream",
          "name": "stdout",
          "text": [
            "SVC =  1.0 ;  RBF =  1.0 ; POLY =  1.0 ; LIN =  0.9833333333333333\n"
          ]
        }
      ]
    },
    {
      "cell_type": "markdown",
      "source": [
        "What is the influence of space scaling?"
      ],
      "metadata": {
        "id": "10XsA_IfNIil"
      }
    },
    {
      "cell_type": "code",
      "source": [
        "from sklearn.preprocessing import StandardScaler\n",
        "scaler = StandardScaler()\n",
        "scaler.fit(X_train)\n",
        "X_train_std=scaler.transform(X_train)\n",
        "X_test_std=scaler.transform(X_test)\n",
        "X_valid_std=scaler.transform(X_valid)\n",
        "\n",
        "from sklearn.preprocessing import MinMaxScaler\n",
        "scaler = MinMaxScaler()\n",
        "scaler.fit(X_train)\n",
        "X_train_mm=scaler.transform(X_train)\n",
        "X_test_mm=scaler.transform(X_test)\n",
        "X_valid_mm=scaler.transform(X_valid)"
      ],
      "metadata": {
        "id": "kM9pMsZUNN6r"
      },
      "execution_count": null,
      "outputs": []
    },
    {
      "cell_type": "code",
      "source": [
        "C = 100  # SVM regularization parameter\n",
        "svc = svm.SVC(random_state=123, kernel='linear', C=C).fit(X_train_mm, y_train)\n",
        "rbf_svc = svm.SVC(random_state=123, kernel='rbf', gamma=0.7, C=C).fit(X_train_mm, y_train)\n",
        "poly_svc = svm.SVC(random_state=123,kernel='poly', degree=3, C=C).fit(X_train_mm, y_train)\n",
        "lin_svc = svm.LinearSVC(random_state=123,C=C).fit(X_train_mm, y_train)\n",
        "#svc test\n",
        "y_pred = svc.predict(X_test_mm)\n",
        "scores_svc=metrics.accuracy_score(y_test,y_pred)\n",
        "\n",
        "#rbf test\n",
        "y_pred = rbf_svc.predict(X_test_mm)\n",
        "scores_rbf_svc=metrics.accuracy_score(y_test,y_pred)\n",
        "\n",
        "#poly test\n",
        "y_pred = poly_svc.predict(X_test_mm)\n",
        "scores_poly_svc=metrics.accuracy_score(y_test,y_pred)\n",
        "\n",
        "#lin test\n",
        "y_pred = lin_svc.predict(X_test_mm)\n",
        "scores_lin_svc=metrics.accuracy_score(y_test,y_pred)\n",
        "\n",
        "print('SVC_mm = ', scores_svc, \";  RBF_mm = \", scores_rbf_svc, \"; POLY_mm = \", scores_poly_svc, \"; LIN_mm = \", scores_lin_svc, )"
      ],
      "metadata": {
        "colab": {
          "base_uri": "https://localhost:8080/"
        },
        "id": "voYL-YEjNh7d",
        "outputId": "22e7100b-c751-4508-ba67-0e9c64d1cfe7"
      },
      "execution_count": null,
      "outputs": [
        {
          "output_type": "stream",
          "name": "stdout",
          "text": [
            "SVC_mm =  1.0 ;  RBF_mm =  1.0 ; POLY_mm =  0.9833333333333333 ; LIN_mm =  1.0\n"
          ]
        }
      ]
    },
    {
      "cell_type": "code",
      "source": [
        "C = 100  # SVM regularization parameter\n",
        "svc = svm.SVC(random_state=123, kernel='linear', C=C).fit(X_train_std, y_train)\n",
        "rbf_svc = svm.SVC(random_state=123, kernel='rbf', gamma=0.7, C=C).fit(X_train_std, y_train)\n",
        "poly_svc = svm.SVC(random_state=123,kernel='poly', degree=3, C=C).fit(X_train_std, y_train)\n",
        "lin_svc = svm.LinearSVC(random_state=123,C=C).fit(X_train_std, y_train)\n",
        "#svc test\n",
        "y_pred = svc.predict(X_test_std)\n",
        "scores_svc=metrics.accuracy_score(y_test,y_pred)\n",
        "\n",
        "#rbf test\n",
        "y_pred = rbf_svc.predict(X_test_std)\n",
        "scores_rbf_svc=metrics.accuracy_score(y_test,y_pred)\n",
        "\n",
        "#poly test\n",
        "y_pred = poly_svc.predict(X_test_std)\n",
        "scores_poly_svc=metrics.accuracy_score(y_test,y_pred)\n",
        "\n",
        "#lin test\n",
        "y_pred = lin_svc.predict(X_test_std)\n",
        "scores_lin_svc=metrics.accuracy_score(y_test,y_pred)\n",
        "\n",
        "print('SVC_std = ', scores_svc, \";  RBF_std = \", scores_rbf_svc, \"; POLY_std = \", scores_poly_svc, \"; LIN_std = \", scores_lin_svc, )"
      ],
      "metadata": {
        "colab": {
          "base_uri": "https://localhost:8080/"
        },
        "id": "HlaR-m0yNx6s",
        "outputId": "b3d61a89-3acb-45b9-f0da-2d5f6a7c6bdc"
      },
      "execution_count": null,
      "outputs": [
        {
          "output_type": "stream",
          "name": "stdout",
          "text": [
            "SVC_std =  1.0 ;  RBF_std =  0.9666666666666667 ; POLY_std =  1.0 ; LIN_std =  1.0\n"
          ]
        }
      ]
    },
    {
      "cell_type": "markdown",
      "source": [
        "**Advantages**\n",
        "SVM Classifiers offer good accuracy and perform faster prediction compared to Naïve Bayes algorithm. They also use less memory because they use a subset of training points in the decision phase. SVM works well with a clear margin of separation and with high dimensional space.\n",
        "\n",
        "\n",
        "\n",
        "**Disadvantages**\n",
        "SVM is not suitable for large datasets because of its high training time and it also takes more time in training compared to Naïve Bayes. It works poorly with overlapping classes and is also sensitive to the type of kernel used."
      ],
      "metadata": {
        "id": "GZn1d3AbOqab"
      }
    },
    {
      "cell_type": "code",
      "source": [],
      "metadata": {
        "id": "OEDhzheXOttI"
      },
      "execution_count": null,
      "outputs": []
    }
  ]
}