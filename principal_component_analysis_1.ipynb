{
  "cells": [
    {
      "cell_type": "markdown",
      "metadata": {
        "id": "view-in-github",
        "colab_type": "text"
      },
      "source": [
        "<a href=\"https://colab.research.google.com/github/encoras/Artificial-Intelligence-Group/blob/master/principal_component_analysis_1.ipynb\" target=\"_parent\"><img src=\"https://colab.research.google.com/assets/colab-badge.svg\" alt=\"Open In Colab\"/></a>"
      ]
    },
    {
      "cell_type": "markdown",
      "metadata": {
        "id": "Qoy4GD3lDYmp"
      },
      "source": [
        "# Principal Component Analysis in 3 Simple Steps"
      ]
    },
    {
      "cell_type": "markdown",
      "metadata": {
        "id": "LmpoMiM4DYmp"
      },
      "source": [
        "Principal Component Analysis (PCA) is a simple yet popular and useful linear transformation technique that is used in numerous applications, such as stock market predictions, the  analysis of gene expression data, and many more. In this tutorial, we will see that PCA is not just a \"black box\", and we are going to unravel its internals in 3 basic steps."
      ]
    },
    {
      "cell_type": "markdown",
      "metadata": {
        "id": "u45d6MeRDYmr"
      },
      "source": [
        "## Sections"
      ]
    },
    {
      "cell_type": "markdown",
      "metadata": {
        "id": "tg96qfyxDYmr"
      },
      "source": [
        "- [Introduction](#Introduction)\n",
        "    - [PCA Vs. LDA](#PCA-Vs.-LDA)\n",
        "    - [PCA and Dimensionality Reduction](#PCA-and-Dimensionality-Reduction)\n",
        "    - [A Summary of the PCA Approach](#A-Summary-of-the-PCA-Approach)\n",
        "- [Preparing the Iris Dataset](#Preparing-the-Iris-Dataset)\n",
        "    - [About Iris](#About-Iris)\n",
        "    - [Loading the Dataset](#Loading-the-Dataset)\n",
        "    - [Exploratory Visualization](#Exploratory-Visualization)\n",
        "    - [Standardizing](#Standardizing)\n",
        "- [1 - Eigendecomposition - Computing Eigenvectors and Eigenvalues](#1---Eigendecomposition---Computing-Eigenvectors-and-Eigenvalues)\n",
        "    - [Covariance Matrix](#Covariance-Matrix)\n",
        "    - [Correlation Matrix](#Correlation-Matrix)\n",
        "    - [Singular Vector Decomposition](#Singular-Vector-Decomposition)\n",
        "- [2 - Selecting Principal Components](#2---Selecting-Principal-Components)\n",
        "    - [Sorting Eigenpairs](#Sorting-Eigenpairs)\n",
        "    - [Explained Variance](#Explained-Variance)\n",
        "    - [Projection Matrix](#Projection-Matrix)\n",
        "- [3 - Projection Onto the New Feature Space](#3---Selecting-Principal-Components)\n",
        "- [Shortcut - PCA in scikit-learn](#Shortcut---PCA-in-scikit-learn)"
      ]
    },
    {
      "cell_type": "markdown",
      "metadata": {
        "id": "QIjAjq-bDYms"
      },
      "source": [
        "## Introduction"
      ]
    },
    {
      "cell_type": "markdown",
      "metadata": {
        "id": "ADhRwiFHDYmt"
      },
      "source": [
        "The sheer size of data in the modern age is not only a challenge for computer hardware but also a main bottleneck for the performance of many machine learning algorithms. The main goal of a PCA analysis is to identify patterns in data; PCA aims to detect the correlation between variables. If a strong correlation between variables exists, the attempt to reduce the dimensionality only makes sense. In a nutshell, this is what PCA is all about: Finding the directions of maximum variance in high-dimensional data and project it onto a smaller dimensional subspace while retaining most of the information."
      ]
    },
    {
      "cell_type": "markdown",
      "metadata": {
        "id": "R8wwgoTlDYmu"
      },
      "source": [
        "### PCA Vs. LDA"
      ]
    },
    {
      "cell_type": "markdown",
      "metadata": {
        "id": "NbgRAzOcDYmv"
      },
      "source": [
        "Both Linear Discriminant Analysis (LDA) and PCA are linear transformation methods. PCA yields the directions (principal components) that maximize the variance of the data, whereas LDA also aims to find the directions that maximize the separation (or discrimination) between different classes, which can be useful in pattern classification problem (PCA \"ignores\" class labels).   \n",
        "***In other words, PCA projects the entire dataset onto a different feature (sub)space, and LDA tries to determine a suitable feature (sub)space in order to distinguish between patterns that belong to different classes.***  "
      ]
    },
    {
      "cell_type": "markdown",
      "metadata": {
        "id": "p7Aq0_unDYmv"
      },
      "source": [
        "### PCA and Dimensionality Reduction"
      ]
    },
    {
      "cell_type": "markdown",
      "metadata": {
        "id": "C9z-dRSLDYmw"
      },
      "source": [
        "Often, the desired goal is to reduce the dimensions of a $d$-dimensional dataset by projecting it onto a $(k)$-dimensional subspace (where $k\\;<\\;d$) in order to increase the computational efficiency while retaining most of the information. An important question is \"what is the size of $k$ that represents the data 'well'?\"\n",
        "\n",
        "Later, we will compute eigenvectors (the principal components) of a dataset and collect them in a projection matrix. Each of those eigenvectors is associated with an eigenvalue which can be interpreted as the \"length\" or \"magnitude\" of the corresponding eigenvector. If some eigenvalues have a significantly larger magnitude than others that the reduction of the dataset via PCA onto a smaller dimensional subspace by dropping the \"less informative\" eigenpairs is reasonable.\n"
      ]
    },
    {
      "cell_type": "markdown",
      "metadata": {
        "id": "Yuvbq1p7DYmx"
      },
      "source": [
        "### A Summary of the PCA Approach\n",
        "\n"
      ]
    },
    {
      "cell_type": "markdown",
      "metadata": {
        "id": "8xM4hnBDDYmx"
      },
      "source": [
        "-  Standardize the data.\n",
        "-  Obtain the Eigenvectors and Eigenvalues from the covariance matrix or correlation matrix, or perform Singular Vector Decomposition.\n",
        "-  Sort eigenvalues in descending order and choose the $k$ eigenvectors that correspond to the $k$ largest eigenvalues where $k$ is the number of dimensions of the new feature subspace ($k \\le d$)/.\n",
        "-  Construct the projection matrix $\\mathbf{W}$ from the selected $k$ eigenvectors.\n",
        "-  Transform the original dataset $\\mathbf{X}$ via $\\mathbf{W}$ to obtain a $k$-dimensional feature subspace $\\mathbf{Y}$."
      ]
    },
    {
      "cell_type": "markdown",
      "metadata": {
        "id": "NIZY6M59DYmy"
      },
      "source": [
        "## Preparing the Iris Dataset"
      ]
    },
    {
      "cell_type": "markdown",
      "metadata": {
        "id": "7mRFQ5e1DYm0"
      },
      "source": [
        "### Loading the Dataset"
      ]
    },
    {
      "cell_type": "code",
      "execution_count": 1,
      "metadata": {
        "id": "r-Wj9bl7DYm1"
      },
      "outputs": [],
      "source": [
        "import pandas as pd\n",
        "import numpy as np\n",
        "import pylab as pl\n",
        "import matplotlib.pyplot as plt\n",
        "\n",
        "from sklearn import svm, datasets\n",
        "from sklearn.preprocessing import StandardScaler\n",
        "scaler = StandardScaler()\n",
        "RAND=123\n",
        "\n",
        "# import some data to play with\n",
        "iris = datasets.load_iris()\n",
        "X = iris.data\n",
        "\n",
        "y = iris.target\n",
        "\n",
        "X=np.hstack((X,10*np.random.random((y.shape[0], 3))))\n",
        "X[:,1]=X[:,1]*X[:,0] +5*np.random.random((y.shape[0]))\n",
        "\n",
        "\n",
        "X_std = scaler.fit_transform(X)\n",
        "\n",
        "\n",
        "\n"
      ]
    },
    {
      "cell_type": "markdown",
      "metadata": {
        "id": "h8mGWhHhDYm2"
      },
      "source": [
        "Our iris dataset is now stored in form of a  $150 \\times 4$ matrix where the columns are the different features, and every row represents a separate flower sample.\n",
        "Each sample row $\\mathbf{x}$ can be pictured as a 4-dimensional vector   \n",
        "\n",
        "\n",
        "$\\mathbf{x^T} = \\begin{pmatrix} x_1 \\\\ x_2 \\\\ x_3 \\\\ x_4 \\end{pmatrix}\n",
        "= \\begin{pmatrix} \\text{sepal length} \\\\ \\text{sepal width} \\\\\\text{petal length} \\\\ \\text{petal width} \\end{pmatrix}$"
      ]
    },
    {
      "cell_type": "markdown",
      "metadata": {
        "id": "6-UD2a5nDYm5"
      },
      "source": [
        "## 1 - Eigendecomposition - Computing Eigenvectors and Eigenvalues"
      ]
    },
    {
      "cell_type": "markdown",
      "metadata": {
        "id": "JYuEUCy_DYm6"
      },
      "source": [
        "The eigenvectors and eigenvalues of a covariance (or correlation) matrix represent the \"core\" of a PCA: The eigenvectors (principal components) determine the directions of the new feature space, and the eigenvalues determine their magnitude. In other words, the eigenvalues explain the variance of the data along the new feature axes."
      ]
    },
    {
      "cell_type": "markdown",
      "metadata": {
        "id": "EoIUOXQyDYm7"
      },
      "source": [
        "### Covariance Matrix"
      ]
    },
    {
      "cell_type": "markdown",
      "metadata": {
        "id": "JqIAomKkDYm7"
      },
      "source": [
        "The classic approach to PCA is to perform the eigendecomposition on the covariance matrix $\\Sigma$, which is a $d \\times d$ matrix where each element represents the covariance between two features. The covariance between two features is calculated as follows:\n",
        "\n",
        "$\\sigma_{jk} = \\frac{1}{n-1}\\sum_{i=1}^{N}\\left(  x_{ij}-\\bar{x}_j \\right)  \\left( x_{ik}-\\bar{x}_k \\right).$\n",
        "\n",
        "We can summarize the calculation of the covariance matrix via the following matrix equation:   \n",
        "$\\Sigma = \\frac{1}{n-1} \\left( (\\mathbf{X} - \\mathbf{\\bar{x}})^T\\;(\\mathbf{X} - \\mathbf{\\bar{x}}) \\right)$  \n",
        "where $\\mathbf{\\bar{x}}$ is the mean vector\n",
        "$\\mathbf{\\bar{x}} = \\sum\\limits_{i=1}^n x_{i}.$  \n",
        "The mean vector is a $d$-dimensional vector where each value in this vector represents the sample mean of a feature column in the dataset."
      ]
    },
    {
      "cell_type": "code",
      "execution_count": 23,
      "metadata": {
        "id": "GFB6OAfSDYm8",
        "outputId": "46e3d7de-2170-45e1-acde-f44cae5f08c2",
        "colab": {
          "base_uri": "https://localhost:8080/"
        }
      },
      "outputs": [
        {
          "output_type": "stream",
          "name": "stdout",
          "text": [
            "Covariance matrix \n",
            "[[ 1.01  0.59  0.88  0.82  0.16  0.11  0.02]\n",
            " [ 0.59  1.01  0.28  0.29  0.09  0.04  0.06]\n",
            " [ 0.88  0.28  1.01  0.97  0.1   0.09  0.01]\n",
            " [ 0.82  0.29  0.97  1.01  0.11  0.06  0.02]\n",
            " [ 0.16  0.09  0.1   0.11  1.01 -0.02  0.04]\n",
            " [ 0.11  0.04  0.09  0.06 -0.02  1.01 -0.  ]\n",
            " [ 0.02  0.06  0.01  0.02  0.04 -0.    1.01]]\n"
          ]
        }
      ],
      "source": [
        "import numpy as np\n",
        "mean_vec = np.mean(X_std, axis=0)\n",
        "cov_mat = (X_std - mean_vec).T.dot((X_std - mean_vec)) / (X_std.shape[0]-1)\n",
        "print('Covariance matrix \\n%s' %np.round(cov_mat, 2))"
      ]
    },
    {
      "cell_type": "markdown",
      "metadata": {
        "id": "p6iML6BADYm8"
      },
      "source": [
        "The more verbose way above was simply used for demonstration purposes, equivalently, we could have used the numpy `cov` function:"
      ]
    },
    {
      "cell_type": "markdown",
      "metadata": {
        "id": "z293VPCnDYm-"
      },
      "source": [
        "Next, we perform an eigendecomposition on the covariance matrix:"
      ]
    },
    {
      "cell_type": "code",
      "execution_count": 25,
      "metadata": {
        "id": "d0J6vnT3DYm-",
        "outputId": "8f757599-6eba-4bc3-a696-73b438d0cf5d",
        "colab": {
          "base_uri": "https://localhost:8080/"
        }
      },
      "outputs": [
        {
          "output_type": "stream",
          "name": "stdout",
          "text": [
            "Eigenvectors \n",
            "[[ 0.55  0.34  0.75  0.12  0.02 -0.    0.  ]\n",
            " [ 0.32 -0.13 -0.31  0.85  0.03  0.2   0.13]\n",
            " [ 0.54 -0.77 -0.01 -0.29  0.08 -0.11 -0.08]\n",
            " [ 0.53  0.52 -0.58 -0.29  0.09 -0.09 -0.09]\n",
            " [ 0.11 -0.02 -0.03 -0.14 -0.78  0.58 -0.17]\n",
            " [ 0.07  0.   -0.04 -0.04 -0.47 -0.44  0.76]\n",
            " [ 0.02  0.    0.02 -0.26  0.4   0.64  0.6 ]]\n",
            "\n",
            "Eigenvalues \n",
            "[3.05 0.02 0.11 0.86 0.94 1.06 1.  ]\n"
          ]
        }
      ],
      "source": [
        "cov_mat = np.cov(X_std.T)\n",
        "\n",
        "eig_vals, eig_vecs = np.linalg.eig(cov_mat)\n",
        "\n",
        "print('Eigenvectors \\n%s' %np.round(eig_vecs, 2))\n",
        "print('\\nEigenvalues \\n%s' %np.round(eig_vals, 2))"
      ]
    },
    {
      "cell_type": "markdown",
      "metadata": {
        "id": "TyaCUdrUDYm_"
      },
      "source": [
        "### Correlation Matrix"
      ]
    },
    {
      "cell_type": "markdown",
      "metadata": {
        "id": "yxT5hf7uDYnA"
      },
      "source": [
        "Especially, in the field of \"Finance,\" the correlation matrix typically used instead of the covariance matrix. However, the eigendecomposition of the covariance matrix (if the input data was standardized) yields the same results as a eigendecomposition on the correlation matrix, since the correlation matrix can be understood as the normalized covariance matrix."
      ]
    },
    {
      "cell_type": "markdown",
      "metadata": {
        "id": "2UnVpd_pDYnA"
      },
      "source": [
        "Eigendecomposition of the standardized data based on the correlation matrix:"
      ]
    },
    {
      "cell_type": "code",
      "execution_count": 26,
      "metadata": {
        "id": "kT-wnGivDYnB",
        "outputId": "4649b5b4-8b21-45fd-940e-f1e2ebf42a0f",
        "colab": {
          "base_uri": "https://localhost:8080/"
        }
      },
      "outputs": [
        {
          "output_type": "stream",
          "name": "stdout",
          "text": [
            "Eigenvectors \n",
            "[[ 0.55  0.34  0.75  0.12  0.02 -0.    0.  ]\n",
            " [ 0.32 -0.13 -0.31  0.85  0.03  0.2   0.13]\n",
            " [ 0.54 -0.77 -0.01 -0.29  0.08 -0.11 -0.08]\n",
            " [ 0.53  0.52 -0.58 -0.29  0.09 -0.09 -0.09]\n",
            " [ 0.11 -0.02 -0.03 -0.14 -0.78  0.58 -0.17]\n",
            " [ 0.07  0.   -0.04 -0.04 -0.47 -0.44  0.76]\n",
            " [ 0.02  0.    0.02 -0.26  0.4   0.64  0.6 ]]\n",
            "\n",
            "Eigenvalues \n",
            "[3.03 0.02 0.11 0.85 0.94 1.05 0.99]\n"
          ]
        }
      ],
      "source": [
        "cor_mat1 = np.corrcoef(X_std.T)\n",
        "\n",
        "eig_vals, eig_vecs = np.linalg.eig(cor_mat1)\n",
        "\n",
        "print('Eigenvectors \\n%s' %np.round(eig_vecs, 2))\n",
        "print('\\nEigenvalues \\n%s' %np.round(eig_vals, 2))"
      ]
    },
    {
      "cell_type": "markdown",
      "metadata": {
        "id": "GHLY--DfDYnB"
      },
      "source": [
        "Eigendecomposition of the raw data based on the correlation matrix:"
      ]
    },
    {
      "cell_type": "code",
      "execution_count": 29,
      "metadata": {
        "id": "ZHCYEphXDYnC",
        "outputId": "1894a112-87cc-4259-bf03-f0aee06ed8e4",
        "colab": {
          "base_uri": "https://localhost:8080/"
        }
      },
      "outputs": [
        {
          "output_type": "stream",
          "name": "stdout",
          "text": [
            "Eigenvectors \n",
            "[[ 0.55  0.34  0.75  0.12  0.02 -0.    0.  ]\n",
            " [ 0.32 -0.13 -0.31  0.85  0.03  0.2   0.13]\n",
            " [ 0.54 -0.77 -0.01 -0.29  0.08 -0.11 -0.08]\n",
            " [ 0.53  0.52 -0.58 -0.29  0.09 -0.09 -0.09]\n",
            " [ 0.11 -0.02 -0.03 -0.14 -0.78  0.58 -0.17]\n",
            " [ 0.07  0.   -0.04 -0.04 -0.47 -0.44  0.76]\n",
            " [ 0.02  0.    0.02 -0.26  0.4   0.64  0.6 ]]\n",
            "\n",
            "Eigenvalues \n",
            "[3.03 0.02 0.11 0.85 0.94 1.05 0.99]\n"
          ]
        }
      ],
      "source": [
        "cor_mat2 = np.corrcoef(X_std.T)\n",
        "\n",
        "eig_vals, eig_vecs = np.linalg.eig(cor_mat2)\n",
        "\n",
        "print('Eigenvectors \\n%s' %np.round(eig_vecs, 2))\n",
        "print('\\nEigenvalues \\n%s' %np.round(eig_vals, 2))"
      ]
    },
    {
      "cell_type": "markdown",
      "metadata": {
        "id": "vINxksFeDYnD"
      },
      "source": [
        "We can clearly see that all three approaches yield the same eigenvectors and eigenvalue pairs:\n",
        "    \n",
        "- Eigendecomposition of the covariance matrix after standardizing the data.\n",
        "- Eigendecomposition of the correlation matrix.\n",
        "- Eigendecomposition of the correlation matrix after standardizing the data."
      ]
    },
    {
      "cell_type": "markdown",
      "metadata": {
        "id": "XVMIssTmDYnD"
      },
      "source": [
        "### Singular Vector Decomposition"
      ]
    },
    {
      "cell_type": "markdown",
      "metadata": {
        "id": "-DRV18NRDYnE"
      },
      "source": [
        "While the eigendecomposition of the covariance or correlation matrix may be more intuitiuve, most PCA implementations perform a Singular Vector Decomposition (SVD) to improve the computational efficiency. So, let us perform an SVD to  confirm that the result are indeed the same:"
      ]
    },
    {
      "cell_type": "code",
      "execution_count": 36,
      "metadata": {
        "id": "iMCB4ronDYnE",
        "outputId": "a4554251-7be1-46f3-cf8c-dcda01f9b021",
        "colab": {
          "base_uri": "https://localhost:8080/"
        }
      },
      "outputs": [
        {
          "output_type": "stream",
          "name": "stdout",
          "text": [
            "Vectors U:\n",
            " [[-0.25  0.03  0.01 -0.02  0.28 -0.9  -0.2 ]\n",
            " [-0.88  0.24  0.04  0.3  -0.22  0.17  0.03]\n",
            " [-0.16  0.04  0.03 -0.06  0.85  0.22  0.44]\n",
            " [-0.05  0.02  0.02 -0.02  0.36  0.32 -0.88]\n",
            " [-0.2  -0.33  0.76 -0.51 -0.1   0.04  0.  ]\n",
            " [-0.23  0.08 -0.56 -0.78 -0.09  0.05 -0.  ]\n",
            " [-0.2  -0.91 -0.31  0.19  0.02  0.02  0.  ]]\n"
          ]
        }
      ],
      "source": [
        "u,s,v = np.linalg.svd(X_std.T, full_matrices=True)\n",
        "print('Vectors U:\\n', np.round(u,2))"
      ]
    },
    {
      "cell_type": "markdown",
      "metadata": {
        "id": "yFRZl7VtDYnF"
      },
      "source": [
        "## 2 - Selecting Principal Components"
      ]
    },
    {
      "cell_type": "markdown",
      "metadata": {
        "id": "i9elNYXCDYnG"
      },
      "source": [
        "### Sorting Eigenpairs"
      ]
    },
    {
      "cell_type": "markdown",
      "metadata": {
        "id": "m0TkEpKsDYnG"
      },
      "source": [
        "The typical goal of a PCA is to reduce the dimensionality of the original feature space by projecting it onto a smaller subspace, where the eigenvectors will form the axes. However, the eigenvectors only define the directions of the new axis, since they have all the same unit length 1, which can confirmed by the following two lines of code:"
      ]
    },
    {
      "cell_type": "code",
      "source": [
        "np.round(eig_vecs,2)"
      ],
      "metadata": {
        "colab": {
          "base_uri": "https://localhost:8080/"
        },
        "id": "TnuGRqzdMIt5",
        "outputId": "f1caaf23-3db6-4eb3-c96f-b1f40f78c211"
      },
      "execution_count": 40,
      "outputs": [
        {
          "output_type": "execute_result",
          "data": {
            "text/plain": [
              "array([[ 0.55,  0.34,  0.75,  0.12,  0.02, -0.  ,  0.  ],\n",
              "       [ 0.32, -0.13, -0.31,  0.85,  0.03,  0.2 ,  0.13],\n",
              "       [ 0.54, -0.77, -0.01, -0.29,  0.08, -0.11, -0.08],\n",
              "       [ 0.53,  0.52, -0.58, -0.29,  0.09, -0.09, -0.09],\n",
              "       [ 0.11, -0.02, -0.03, -0.14, -0.78,  0.58, -0.17],\n",
              "       [ 0.07,  0.  , -0.04, -0.04, -0.47, -0.44,  0.76],\n",
              "       [ 0.02,  0.  ,  0.02, -0.26,  0.4 ,  0.64,  0.6 ]])"
            ]
          },
          "metadata": {},
          "execution_count": 40
        }
      ]
    },
    {
      "cell_type": "code",
      "execution_count": 41,
      "metadata": {
        "id": "-GVmrAsJDYnH",
        "outputId": "f820989d-f84c-4696-904c-272bc2136a3b",
        "colab": {
          "base_uri": "https://localhost:8080/"
        }
      },
      "outputs": [
        {
          "output_type": "stream",
          "name": "stdout",
          "text": [
            "Everything ok!\n"
          ]
        }
      ],
      "source": [
        "for ev in eig_vecs:\n",
        "    np.testing.assert_array_almost_equal(1.0, np.linalg.norm(ev))\n",
        "print('Everything ok!')"
      ]
    },
    {
      "cell_type": "markdown",
      "metadata": {
        "id": "qsOrd06VDYnH"
      },
      "source": [
        "In order to decide which eigenvector(s) can dropped without losing too much information\n",
        "for the construction of lower-dimensional subspace, we need to inspect the corresponding eigenvalues: The eigenvectors with the lowest eigenvalues bear the least information about the distribution of the data; those are the ones can be dropped.  \n",
        "In order to do so, the common approach is to rank the eigenvalues from highest to lowest in order choose the top $k$ eigenvectors."
      ]
    },
    {
      "cell_type": "code",
      "execution_count": 42,
      "metadata": {
        "id": "VktHCEefDYnI",
        "outputId": "0073838e-ec52-418e-c17a-e692cf95bd2a",
        "colab": {
          "base_uri": "https://localhost:8080/"
        }
      },
      "outputs": [
        {
          "output_type": "stream",
          "name": "stdout",
          "text": [
            "Eigenvalues in descending order:\n",
            "3.0302281945785685\n",
            "1.0541313700299526\n",
            "0.9917438855008633\n",
            "0.9354474190154995\n",
            "0.8549286745149268\n",
            "0.11125969345396419\n",
            "0.022260762906223686\n"
          ]
        }
      ],
      "source": [
        "# Make a list of (eigenvalue, eigenvector) tuples\n",
        "eig_pairs = [(np.abs(eig_vals[i]), eig_vecs[:,i]) for i in range(len(eig_vals))]\n",
        "\n",
        "# Sort the (eigenvalue, eigenvector) tuples from high to low\n",
        "eig_pairs.sort(key=lambda x: x[0], reverse=True)\n",
        "\n",
        "# Visually confirm that the list is correctly sorted by decreasing eigenvalues\n",
        "print('Eigenvalues in descending order:')\n",
        "for i in eig_pairs:\n",
        "    print(i[0])"
      ]
    },
    {
      "cell_type": "markdown",
      "metadata": {
        "id": "KmWdlVVjDYnI"
      },
      "source": [
        "### Explained Variance"
      ]
    },
    {
      "cell_type": "markdown",
      "metadata": {
        "id": "SEfPwXPXDYnJ"
      },
      "source": [
        "After sorting the eigenpairs, the next question is \"how many principal components are we going to choose for our new feature subspace?\" A useful measure is the so-called \"explained variance,\" which can be calculated from the eigenvalues. The explained variance tells us how much information (variance) can be attributed to each of the principal components."
      ]
    },
    {
      "cell_type": "code",
      "execution_count": 43,
      "metadata": {
        "collapsed": true,
        "id": "bdh3fgTJDYnJ"
      },
      "outputs": [],
      "source": [
        "tot = sum(eig_vals)\n",
        "var_exp = [(i / tot)*100 for i in sorted(eig_vals, reverse=True)]\n",
        "cum_var_exp = np.cumsum(var_exp)"
      ]
    },
    {
      "cell_type": "code",
      "execution_count": 44,
      "metadata": {
        "id": "OpX4t_1oDYnK",
        "outputId": "c2981309-9023-4060-a88f-2864f5d20e8c",
        "colab": {
          "base_uri": "https://localhost:8080/",
          "height": 407
        }
      },
      "outputs": [
        {
          "output_type": "display_data",
          "data": {
            "text/plain": [
              "<Figure size 600x400 with 1 Axes>"
            ],
            "image/png": "[encoded data removed]"
          },
          "metadata": {}
        }
      ],
      "source": [
        "with plt.style.context('seaborn-whitegrid'):\n",
        "    plt.figure(figsize=(6, 4))\n",
        "    num_of_features=len(X_std.transpose())\n",
        "    plt.bar(range(num_of_features), var_exp, alpha=0.5, align='center',\n",
        "            label='individual explained variance')\n",
        "    plt.step(range(num_of_features), cum_var_exp, where='mid',\n",
        "             label='cumulative explained variance')\n",
        "    plt.ylabel('Explained variance ratio')\n",
        "    plt.xlabel('Principal components')\n",
        "    plt.legend(loc='best')\n",
        "    plt.tight_layout()\n",
        ""
      ]
    },
    {
      "cell_type": "markdown",
      "metadata": {
        "id": "cc6KorEMDYnK"
      },
      "source": [
        "The plot above clearly shows that most of the variance (72.77% of the variance to be precise) can be explained by the first principal component alone. The second principal component still bears some information (23.03%) while the third and fourth principal components can safely be dropped without losing to much information. Together, the first two principal components contain 95.8% of the information."
      ]
    },
    {
      "cell_type": "markdown",
      "metadata": {
        "id": "FN-LqgWTDYnL"
      },
      "source": [
        "### Projection Matrix"
      ]
    },
    {
      "cell_type": "markdown",
      "metadata": {
        "id": "Jx9Kv2QpDYnL"
      },
      "source": [
        "It's about time to get to the really interesting part: The construction of the projection matrix that will be used to transform the Iris data onto the new feature subspace. Although, the name \"projection matrix\" has a nice ring to it, it is basically just a matrix of our concatenated top *k* eigenvectors.\n",
        "\n",
        "Here, we are reducing the 4-dimensional feature space to a 2-dimensional feature subspace, by choosing the \"top 2\" eigenvectors with the highest eigenvalues to construct our $d \\times k$-dimensional eigenvector matrix $\\mathbf{W}$."
      ]
    },
    {
      "cell_type": "code",
      "execution_count": 45,
      "metadata": {
        "id": "teZVQf4oDYnM",
        "outputId": "a05dd262-1e72-48b0-c8c7-7abb18f38a7c",
        "colab": {
          "base_uri": "https://localhost:8080/"
        }
      },
      "outputs": [
        {
          "output_type": "stream",
          "name": "stdout",
          "text": [
            "Matrix W:\n",
            " [[ 0.55167263 -0.00221865]\n",
            " [ 0.31710493  0.1994808 ]\n",
            " [ 0.54194853 -0.11047038]\n",
            " [ 0.53242051 -0.09340088]\n",
            " [ 0.11009849  0.58215395]\n",
            " [ 0.07247474 -0.4350974 ]\n",
            " [ 0.02340317  0.64114125]]\n"
          ]
        }
      ],
      "source": [
        "matrix_w = np.hstack((eig_pairs[0][1].reshape(num_of_features,1),\n",
        "                      eig_pairs[1][1].reshape(num_of_features,1)))\n",
        "\n",
        "print('Matrix W:\\n', matrix_w)"
      ]
    },
    {
      "cell_type": "markdown",
      "metadata": {
        "id": "P36C5wDvDYnM"
      },
      "source": [
        "<br>\n",
        "<br>"
      ]
    },
    {
      "cell_type": "markdown",
      "metadata": {
        "id": "I2C-11FrDYnM"
      },
      "source": [
        "## 3 - Projection Onto the New Feature Space"
      ]
    },
    {
      "cell_type": "markdown",
      "metadata": {
        "id": "dw4f0jYIDYnN"
      },
      "source": [
        "In this last step we will use the $4 \\times 2$-dimensional projection matrix $\\mathbf{W}$ to transform our samples onto the new subspace via the equation  \n",
        "$\\mathbf{Y} = \\mathbf{X} \\times  \\mathbf{W}$, where $\\mathbf{Y}$ is a $150\\times 2$ matrix of our transformed samples."
      ]
    },
    {
      "cell_type": "code",
      "execution_count": 13,
      "metadata": {
        "id": "x4FNXqy6DYnN"
      },
      "outputs": [],
      "source": [
        "Y = X_std.dot(matrix_w)"
      ]
    },
    {
      "cell_type": "code",
      "execution_count": 46,
      "metadata": {
        "id": "YLqUzIIpDYnO",
        "outputId": "32812902-8664-4b98-db8f-da830aea2457",
        "colab": {
          "base_uri": "https://localhost:8080/",
          "height": 407
        }
      },
      "outputs": [
        {
          "output_type": "display_data",
          "data": {
            "text/plain": [
              "<Figure size 600x400 with 1 Axes>"
            ],
            "image/png": "[encoded data removed]"
          },
          "metadata": {}
        }
      ],
      "source": [
        "with plt.style.context('seaborn-whitegrid'):\n",
        "    plt.figure(figsize=(6, 4))\n",
        "    for lab, col in zip((0, 1, 2),\n",
        "                        ('blue', 'red', 'green')):\n",
        "        plt.scatter(Y[y==lab, 0],\n",
        "                    Y[y==lab, 1],\n",
        "                    label=lab,\n",
        "                    c=col)\n",
        "    plt.xlabel('Principal Component 1')\n",
        "    plt.ylabel('Principal Component 2')\n",
        "    plt.legend(loc='lower center', frameon=True)\n",
        "    plt.tight_layout()\n",
        "\n",
        ""
      ]
    },
    {
      "cell_type": "markdown",
      "metadata": {
        "id": "Uo9VNq1MDYnO"
      },
      "source": [
        "<br>\n",
        "<br>\n",
        "<a name=\"mat_pca\"></a>"
      ]
    },
    {
      "cell_type": "markdown",
      "metadata": {
        "id": "4mDiaC1XDYnO"
      },
      "source": [
        "<br>\n",
        "<br>\n",
        "<a name=\"sklearn_pca\"> </a>"
      ]
    },
    {
      "cell_type": "markdown",
      "metadata": {
        "id": "KxxmTXb4DYnP"
      },
      "source": [
        "## Shortcut - PCA in scikit-learn"
      ]
    },
    {
      "cell_type": "markdown",
      "metadata": {
        "id": "terlcZAADYnP"
      },
      "source": [
        "For educational purposes, we went a long way to apply the PCA to the Iris dataset. But luckily, there is already implementation in scikit-learn."
      ]
    },
    {
      "cell_type": "code",
      "execution_count": 15,
      "metadata": {
        "id": "CpEuXvZGDYnQ"
      },
      "outputs": [],
      "source": [
        "from sklearn.decomposition import PCA as sklearnPCA\n",
        "sklearn_pca = sklearnPCA(n_components=2)\n",
        "Y_sklearn = sklearn_pca.fit_transform(X_std)"
      ]
    },
    {
      "cell_type": "code",
      "execution_count": 16,
      "metadata": {
        "id": "5RhAM5w1DYnQ",
        "outputId": "77691288-4dbb-4429-e138-c53a5c041f0c",
        "colab": {
          "base_uri": "https://localhost:8080/",
          "height": 407
        }
      },
      "outputs": [
        {
          "output_type": "display_data",
          "data": {
            "text/plain": [
              "<Figure size 600x400 with 1 Axes>"
            ],
            "image/png": "[encoded data removed]"
          },
          "metadata": {}
        }
      ],
      "source": [
        "with plt.style.context('seaborn-whitegrid'):\n",
        "    plt.figure(figsize=(6, 4))\n",
        "    for lab, col in zip((0, 1, 2),\n",
        "                        ('blue', 'red', 'green')):\n",
        "        plt.scatter(Y_sklearn[y==lab, 0],\n",
        "                    Y_sklearn[y==lab, 1],\n",
        "                    label=lab,\n",
        "                    c=col)\n",
        "    plt.xlabel('Principal Component 1')\n",
        "    plt.ylabel('Principal Component 2')\n",
        "    plt.legend(loc='lower center', frameon=True)\n",
        "    plt.tight_layout()\n",
        "    plt.show()"
      ]
    }
  ],
  "metadata": {
    "kernelspec": {
      "display_name": "Python 3",
      "language": "python",
      "name": "python3"
    },
    "language_info": {
      "codemirror_mode": {
        "name": "ipython",
        "version": 3
      },
      "file_extension": ".py",
      "mimetype": "text/x-python",
      "name": "python",
      "nbconvert_exporter": "python",
      "pygments_lexer": "ipython3",
      "version": "3.6.1"
    },
    "colab": {
      "provenance": [],
      "include_colab_link": true
    }
  },
  "nbformat": 4,
  "nbformat_minor": 0
}