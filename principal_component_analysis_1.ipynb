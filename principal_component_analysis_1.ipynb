{
  "cells": [
    {
      "cell_type": "markdown",
      "metadata": {
        "id": "view-in-github",
        "colab_type": "text"
      },
      "source": [
        "<a href=\"https://colab.research.google.com/github/encoras/Artificial-Intelligence-Group/blob/master/principal_component_analysis_1.ipynb\" target=\"_parent\"><img src=\"https://colab.research.google.com/assets/colab-badge.svg\" alt=\"Open In Colab\"/></a>"
      ]
    },
    {
      "cell_type": "markdown",
      "metadata": {
        "id": "Qoy4GD3lDYmp"
      },
      "source": [
        "# Principal Component Analysis in 3 Simple Steps"
      ]
    },
    {
      "cell_type": "markdown",
      "metadata": {
        "id": "LmpoMiM4DYmp"
      },
      "source": [
        "Principal Component Analysis (PCA) is a simple yet popular and useful linear transformation technique that is used in numerous applications, such as stock market predictions, the  analysis of gene expression data, and many more. In this tutorial, we will see that PCA is not just a \"black box\", and we are going to unravel its internals in 3 basic steps."
      ]
    },
    {
      "cell_type": "markdown",
      "metadata": {
        "id": "u45d6MeRDYmr"
      },
      "source": [
        "## Sections"
      ]
    },
    {
      "cell_type": "markdown",
      "metadata": {
        "id": "tg96qfyxDYmr"
      },
      "source": [
        "- [Introduction](#Introduction)\n",
        "    - [PCA Vs. LDA](#PCA-Vs.-LDA)\n",
        "    - [PCA and Dimensionality Reduction](#PCA-and-Dimensionality-Reduction)\n",
        "    - [A Summary of the PCA Approach](#A-Summary-of-the-PCA-Approach)\n",
        "- [Preparing the Iris Dataset](#Preparing-the-Iris-Dataset)\n",
        "    - [About Iris](#About-Iris)\n",
        "    - [Loading the Dataset](#Loading-the-Dataset)\n",
        "    - [Exploratory Visualization](#Exploratory-Visualization)\n",
        "    - [Standardizing](#Standardizing)\n",
        "- [1 - Eigendecomposition - Computing Eigenvectors and Eigenvalues](#1---Eigendecomposition---Computing-Eigenvectors-and-Eigenvalues)\n",
        "    - [Covariance Matrix](#Covariance-Matrix)\n",
        "    - [Correlation Matrix](#Correlation-Matrix)\n",
        "    - [Singular Vector Decomposition](#Singular-Vector-Decomposition)\n",
        "- [2 - Selecting Principal Components](#2---Selecting-Principal-Components)\n",
        "    - [Sorting Eigenpairs](#Sorting-Eigenpairs)\n",
        "    - [Explained Variance](#Explained-Variance)\n",
        "    - [Projection Matrix](#Projection-Matrix)\n",
        "- [3 - Projection Onto the New Feature Space](#3---Selecting-Principal-Components)\n",
        "- [Shortcut - PCA in scikit-learn](#Shortcut---PCA-in-scikit-learn)"
      ]
    },
    {
      "cell_type": "markdown",
      "metadata": {
        "id": "QIjAjq-bDYms"
      },
      "source": [
        "## Introduction"
      ]
    },
    {
      "cell_type": "markdown",
      "metadata": {
        "id": "ADhRwiFHDYmt"
      },
      "source": [
        "The sheer size of data in the modern age is not only a challenge for computer hardware but also a main bottleneck for the performance of many machine learning algorithms. The main goal of a PCA analysis is to identify patterns in data; PCA aims to detect the correlation between variables. If a strong correlation between variables exists, the attempt to reduce the dimensionality only makes sense. In a nutshell, this is what PCA is all about: Finding the directions of maximum variance in high-dimensional data and project it onto a smaller dimensional subspace while retaining most of the information."
      ]
    },
    {
      "cell_type": "markdown",
      "metadata": {
        "id": "R8wwgoTlDYmu"
      },
      "source": [
        "### PCA Vs. LDA"
      ]
    },
    {
      "cell_type": "markdown",
      "metadata": {
        "id": "NbgRAzOcDYmv"
      },
      "source": [
        "Both Linear Discriminant Analysis (LDA) and PCA are linear transformation methods. PCA yields the directions (principal components) that maximize the variance of the data, whereas LDA also aims to find the directions that maximize the separation (or discrimination) between different classes, which can be useful in pattern classification problem (PCA \"ignores\" class labels).   \n",
        "***In other words, PCA projects the entire dataset onto a different feature (sub)space, and LDA tries to determine a suitable feature (sub)space in order to distinguish between patterns that belong to different classes.***  "
      ]
    },
    {
      "cell_type": "markdown",
      "metadata": {
        "id": "p7Aq0_unDYmv"
      },
      "source": [
        "### PCA and Dimensionality Reduction"
      ]
    },
    {
      "cell_type": "markdown",
      "metadata": {
        "id": "C9z-dRSLDYmw"
      },
      "source": [
        "Often, the desired goal is to reduce the dimensions of a $d$-dimensional dataset by projecting it onto a $(k)$-dimensional subspace (where $k\\;<\\;d$) in order to increase the computational efficiency while retaining most of the information. An important question is \"what is the size of $k$ that represents the data 'well'?\"\n",
        "\n",
        "Later, we will compute eigenvectors (the principal components) of a dataset and collect them in a projection matrix. Each of those eigenvectors is associated with an eigenvalue which can be interpreted as the \"length\" or \"magnitude\" of the corresponding eigenvector. If some eigenvalues have a significantly larger magnitude than others that the reduction of the dataset via PCA onto a smaller dimensional subspace by dropping the \"less informative\" eigenpairs is reasonable.\n"
      ]
    },
    {
      "cell_type": "markdown",
      "metadata": {
        "id": "Yuvbq1p7DYmx"
      },
      "source": [
        "### A Summary of the PCA Approach\n",
        "\n"
      ]
    },
    {
      "cell_type": "markdown",
      "metadata": {
        "id": "8xM4hnBDDYmx"
      },
      "source": [
        "-  Standardize the data.\n",
        "-  Obtain the Eigenvectors and Eigenvalues from the covariance matrix or correlation matrix, or perform Singular Vector Decomposition.\n",
        "-  Sort eigenvalues in descending order and choose the $k$ eigenvectors that correspond to the $k$ largest eigenvalues where $k$ is the number of dimensions of the new feature subspace ($k \\le d$)/.\n",
        "-  Construct the projection matrix $\\mathbf{W}$ from the selected $k$ eigenvectors.\n",
        "-  Transform the original dataset $\\mathbf{X}$ via $\\mathbf{W}$ to obtain a $k$-dimensional feature subspace $\\mathbf{Y}$."
      ]
    },
    {
      "cell_type": "markdown",
      "metadata": {
        "id": "NIZY6M59DYmy"
      },
      "source": [
        "## Preparing the Iris Dataset"
      ]
    },
    {
      "cell_type": "markdown",
      "metadata": {
        "id": "7mRFQ5e1DYm0"
      },
      "source": [
        "### Loading the Dataset"
      ]
    },
    {
      "cell_type": "code",
      "execution_count": 56,
      "metadata": {
        "id": "r-Wj9bl7DYm1"
      },
      "outputs": [],
      "source": [
        "import pandas as pd\n",
        "import numpy as np\n",
        "import pylab as pl\n",
        "import matplotlib.pyplot as plt\n",
        "\n",
        "from sklearn import svm, datasets\n",
        "from sklearn.preprocessing import StandardScaler\n",
        "scaler = StandardScaler()\n",
        "RAND=123\n",
        "\n",
        "# import some data to play with\n",
        "iris = datasets.load_iris()\n",
        "X = iris.data\n",
        "\n",
        "y = iris.target\n",
        "\n",
        "X=np.hstack((X,10*np.random.random((y.shape[0], 3))))\n",
        "X[:,1]=X[:,1]*X[:,0] +5*np.random.random((y.shape[0]))\n",
        "\n",
        "\n",
        "X_std = scaler.fit_transform(X)\n",
        "\n",
        "\n",
        "\n"
      ]
    },
    {
      "cell_type": "markdown",
      "metadata": {
        "id": "h8mGWhHhDYm2"
      },
      "source": [
        "Our iris dataset is now stored in form of a  $150 \\times 4$ matrix where the columns are the different features, and every row represents a separate flower sample.\n",
        "Each sample row $\\mathbf{x}$ can be pictured as a 4-dimensional vector   \n",
        "\n",
        "\n",
        "$\\mathbf{x^T} = \\begin{pmatrix} x_1 \\\\ x_2 \\\\ x_3 \\\\ x_4 \\end{pmatrix} \n",
        "= \\begin{pmatrix} \\text{sepal length} \\\\ \\text{sepal width} \\\\\\text{petal length} \\\\ \\text{petal width} \\end{pmatrix}$"
      ]
    },
    {
      "cell_type": "markdown",
      "metadata": {
        "id": "6-UD2a5nDYm5"
      },
      "source": [
        "## 1 - Eigendecomposition - Computing Eigenvectors and Eigenvalues"
      ]
    },
    {
      "cell_type": "markdown",
      "metadata": {
        "id": "JYuEUCy_DYm6"
      },
      "source": [
        "The eigenvectors and eigenvalues of a covariance (or correlation) matrix represent the \"core\" of a PCA: The eigenvectors (principal components) determine the directions of the new feature space, and the eigenvalues determine their magnitude. In other words, the eigenvalues explain the variance of the data along the new feature axes."
      ]
    },
    {
      "cell_type": "markdown",
      "metadata": {
        "id": "EoIUOXQyDYm7"
      },
      "source": [
        "### Covariance Matrix"
      ]
    },
    {
      "cell_type": "markdown",
      "metadata": {
        "id": "JqIAomKkDYm7"
      },
      "source": [
        "The classic approach to PCA is to perform the eigendecomposition on the covariance matrix $\\Sigma$, which is a $d \\times d$ matrix where each element represents the covariance between two features. The covariance between two features is calculated as follows:\n",
        "\n",
        "$\\sigma_{jk} = \\frac{1}{n-1}\\sum_{i=1}^{N}\\left(  x_{ij}-\\bar{x}_j \\right)  \\left( x_{ik}-\\bar{x}_k \\right).$\n",
        "\n",
        "We can summarize the calculation of the covariance matrix via the following matrix equation:   \n",
        "$\\Sigma = \\frac{1}{n-1} \\left( (\\mathbf{X} - \\mathbf{\\bar{x}})^T\\;(\\mathbf{X} - \\mathbf{\\bar{x}}) \\right)$  \n",
        "where $\\mathbf{\\bar{x}}$ is the mean vector \n",
        "$\\mathbf{\\bar{x}} = \\sum\\limits_{i=1}^n x_{i}.$  \n",
        "The mean vector is a $d$-dimensional vector where each value in this vector represents the sample mean of a feature column in the dataset."
      ]
    },
    {
      "cell_type": "code",
      "execution_count": 57,
      "metadata": {
        "id": "GFB6OAfSDYm8",
        "outputId": "0d849cf3-744e-465e-d3a5-81ae32d85625",
        "colab": {
          "base_uri": "https://localhost:8080/"
        }
      },
      "outputs": [
        {
          "output_type": "stream",
          "name": "stdout",
          "text": [
            "Covariance matrix \n",
            "[[ 1.00671141  0.67808624  0.87760447  0.82343066 -0.01300976  0.06550693\n",
            "  -0.11737111]\n",
            " [ 0.67808624  1.00671141  0.35873642  0.35650915  0.11417553  0.01065093\n",
            "  -0.04735877]\n",
            " [ 0.87760447  0.35873642  1.00671141  0.96932762 -0.06173533  0.00541641\n",
            "  -0.09332919]\n",
            " [ 0.82343066  0.35650915  0.96932762  1.00671141 -0.04511733 -0.00899085\n",
            "  -0.10246194]\n",
            " [-0.01300976  0.11417553 -0.06173533 -0.04511733  1.00671141 -0.00326439\n",
            "   0.11926745]\n",
            " [ 0.06550693  0.01065093  0.00541641 -0.00899085 -0.00326439  1.00671141\n",
            "  -0.03120961]\n",
            " [-0.11737111 -0.04735877 -0.09332919 -0.10246194  0.11926745 -0.03120961\n",
            "   1.00671141]]\n"
          ]
        }
      ],
      "source": [
        "import numpy as np\n",
        "mean_vec = np.mean(X_std, axis=0)\n",
        "cov_mat = (X_std - mean_vec).T.dot((X_std - mean_vec)) / (X_std.shape[0]-1)\n",
        "print('Covariance matrix \\n%s' %cov_mat)"
      ]
    },
    {
      "cell_type": "markdown",
      "metadata": {
        "id": "p6iML6BADYm8"
      },
      "source": [
        "The more verbose way above was simply used for demonstration purposes, equivalently, we could have used the numpy `cov` function:"
      ]
    },
    {
      "cell_type": "markdown",
      "metadata": {
        "id": "z293VPCnDYm-"
      },
      "source": [
        "Next, we perform an eigendecomposition on the covariance matrix:"
      ]
    },
    {
      "cell_type": "code",
      "execution_count": 58,
      "metadata": {
        "id": "d0J6vnT3DYm-",
        "outputId": "e8ef24ee-e6cc-4e42-d5e7-fc26f7f027d1",
        "colab": {
          "base_uri": "https://localhost:8080/"
        }
      },
      "outputs": [
        {
          "output_type": "stream",
          "name": "stdout",
          "text": [
            "Eigenvectors \n",
            "[[ 0.54866006  0.39040938  0.72589211  0.12019419 -0.05077905 -0.05016135\n",
            "  -0.00959086]\n",
            " [ 0.35760266 -0.16495358 -0.33615377  0.72780117 -0.30013261 -0.13021273\n",
            "  -0.30851551]\n",
            " [ 0.53524208 -0.76392582  0.06731715 -0.28734091  0.06837945  0.0922346\n",
            "   0.17220303]\n",
            " [ 0.52541294  0.48607887 -0.59316257 -0.31203791  0.06383858  0.10479905\n",
            "   0.15297345]\n",
            " [-0.01600018 -0.00340539  0.02600832 -0.4935091  -0.74676028 -0.17338939\n",
            "  -0.40962171]\n",
            " [ 0.01932999 -0.01501074 -0.05395716 -0.04808349  0.09321318 -0.95053824\n",
            "   0.28629704]\n",
            " [-0.08899424  0.016691    0.01095666  0.17338715 -0.57641234  0.16568525\n",
            "   0.77583213]]\n",
            "\n",
            "Eigenvalues \n",
            "[3.11507914 0.02076359 0.09410941 0.7348072  1.15369344 1.01693763\n",
            " 0.91158945]\n"
          ]
        }
      ],
      "source": [
        "cov_mat = np.cov(X_std.T)\n",
        "\n",
        "eig_vals, eig_vecs = np.linalg.eig(cov_mat)\n",
        "\n",
        "print('Eigenvectors \\n%s' %eig_vecs)\n",
        "print('\\nEigenvalues \\n%s' %eig_vals)"
      ]
    },
    {
      "cell_type": "markdown",
      "metadata": {
        "id": "TyaCUdrUDYm_"
      },
      "source": [
        "### Correlation Matrix"
      ]
    },
    {
      "cell_type": "markdown",
      "metadata": {
        "id": "yxT5hf7uDYnA"
      },
      "source": [
        "Especially, in the field of \"Finance,\" the correlation matrix typically used instead of the covariance matrix. However, the eigendecomposition of the covariance matrix (if the input data was standardized) yields the same results as a eigendecomposition on the correlation matrix, since the correlation matrix can be understood as the normalized covariance matrix."
      ]
    },
    {
      "cell_type": "markdown",
      "metadata": {
        "id": "2UnVpd_pDYnA"
      },
      "source": [
        "Eigendecomposition of the standardized data based on the correlation matrix:"
      ]
    },
    {
      "cell_type": "code",
      "execution_count": 59,
      "metadata": {
        "id": "kT-wnGivDYnB",
        "outputId": "8d9d0d04-792b-440a-9e56-59821a005eb1",
        "colab": {
          "base_uri": "https://localhost:8080/"
        }
      },
      "outputs": [
        {
          "output_type": "stream",
          "name": "stdout",
          "text": [
            "Eigenvectors \n",
            "[[ 0.54866006  0.39040938  0.72589211  0.12019419 -0.05077905 -0.05016135\n",
            "  -0.00959086]\n",
            " [ 0.35760266 -0.16495358 -0.33615377  0.72780117 -0.30013261 -0.13021273\n",
            "  -0.30851551]\n",
            " [ 0.53524208 -0.76392582  0.06731715 -0.28734091  0.06837945  0.0922346\n",
            "   0.17220303]\n",
            " [ 0.52541294  0.48607887 -0.59316257 -0.31203791  0.06383858  0.10479905\n",
            "   0.15297345]\n",
            " [-0.01600018 -0.00340539  0.02600832 -0.4935091  -0.74676028 -0.17338939\n",
            "  -0.40962171]\n",
            " [ 0.01932999 -0.01501074 -0.05395716 -0.04808349  0.09321318 -0.95053824\n",
            "   0.28629704]\n",
            " [-0.08899424  0.016691    0.01095666  0.17338715 -0.57641234  0.16568525\n",
            "   0.77583213]]\n",
            "\n",
            "Eigenvalues \n",
            "[3.09431194 0.02062517 0.09348201 0.72990849 1.14600215 1.01015805\n",
            " 0.90551218]\n"
          ]
        }
      ],
      "source": [
        "cor_mat1 = np.corrcoef(X_std.T)\n",
        "\n",
        "eig_vals, eig_vecs = np.linalg.eig(cor_mat1)\n",
        "\n",
        "print('Eigenvectors \\n%s' %eig_vecs)\n",
        "print('\\nEigenvalues \\n%s' %eig_vals)"
      ]
    },
    {
      "cell_type": "markdown",
      "metadata": {
        "id": "GHLY--DfDYnB"
      },
      "source": [
        "Eigendecomposition of the raw data based on the correlation matrix:"
      ]
    },
    {
      "cell_type": "code",
      "execution_count": 60,
      "metadata": {
        "id": "ZHCYEphXDYnC",
        "outputId": "21e7ae3b-b8b2-460c-f7c7-0c0cb0ad6a64",
        "colab": {
          "base_uri": "https://localhost:8080/"
        }
      },
      "outputs": [
        {
          "output_type": "stream",
          "name": "stdout",
          "text": [
            "Eigenvectors \n",
            "[[ 0.54866006  0.39040938  0.72589211  0.12019419 -0.05077905 -0.05016135\n",
            "  -0.00959086]\n",
            " [ 0.35760266 -0.16495358 -0.33615377  0.72780117 -0.30013261 -0.13021273\n",
            "  -0.30851551]\n",
            " [ 0.53524208 -0.76392582  0.06731715 -0.28734091  0.06837945  0.0922346\n",
            "   0.17220303]\n",
            " [ 0.52541294  0.48607887 -0.59316257 -0.31203791  0.06383858  0.10479905\n",
            "   0.15297345]\n",
            " [-0.01600018 -0.00340539  0.02600832 -0.4935091  -0.74676028 -0.17338939\n",
            "  -0.40962171]\n",
            " [ 0.01932999 -0.01501074 -0.05395716 -0.04808349  0.09321318 -0.95053824\n",
            "   0.28629704]\n",
            " [-0.08899424  0.016691    0.01095666  0.17338715 -0.57641234  0.16568525\n",
            "   0.77583213]]\n",
            "\n",
            "Eigenvalues \n",
            "[3.09431194 0.02062517 0.09348201 0.72990849 1.14600215 1.01015805\n",
            " 0.90551218]\n"
          ]
        }
      ],
      "source": [
        "cor_mat2 = np.corrcoef(X.T)\n",
        "\n",
        "eig_vals, eig_vecs = np.linalg.eig(cor_mat2)\n",
        "\n",
        "print('Eigenvectors \\n%s' %eig_vecs)\n",
        "print('\\nEigenvalues \\n%s' %eig_vals)"
      ]
    },
    {
      "cell_type": "markdown",
      "metadata": {
        "id": "vINxksFeDYnD"
      },
      "source": [
        "We can clearly see that all three approaches yield the same eigenvectors and eigenvalue pairs:\n",
        "    \n",
        "- Eigendecomposition of the covariance matrix after standardizing the data.\n",
        "- Eigendecomposition of the correlation matrix.\n",
        "- Eigendecomposition of the correlation matrix after standardizing the data."
      ]
    },
    {
      "cell_type": "markdown",
      "metadata": {
        "id": "XVMIssTmDYnD"
      },
      "source": [
        "### Singular Vector Decomposition"
      ]
    },
    {
      "cell_type": "markdown",
      "metadata": {
        "id": "-DRV18NRDYnE"
      },
      "source": [
        "While the eigendecomposition of the covariance or correlation matrix may be more intuitiuve, most PCA implementations perform a Singular Vector Decomposition (SVD) to improve the computational efficiency. So, let us perform an SVD to  confirm that the result are indeed the same:"
      ]
    },
    {
      "cell_type": "code",
      "execution_count": 61,
      "metadata": {
        "id": "iMCB4ronDYnE",
        "outputId": "57de3895-b7e6-4629-f9f8-a8632c094d85",
        "colab": {
          "base_uri": "https://localhost:8080/"
        }
      },
      "outputs": [
        {
          "output_type": "stream",
          "name": "stdout",
          "text": [
            "Vectors U:\n",
            " [[-0.54866006  0.05077905  0.05016135 -0.00959086  0.12019419  0.72589211\n",
            "  -0.39040938]\n",
            " [-0.35760266  0.30013261  0.13021273 -0.30851551  0.72780117 -0.33615377\n",
            "   0.16495358]\n",
            " [-0.53524208 -0.06837945 -0.0922346   0.17220303 -0.28734091  0.06731715\n",
            "   0.76392582]\n",
            " [-0.52541294 -0.06383858 -0.10479905  0.15297345 -0.31203791 -0.59316257\n",
            "  -0.48607887]\n",
            " [ 0.01600018  0.74676028  0.17338939 -0.40962171 -0.4935091   0.02600832\n",
            "   0.00340539]\n",
            " [-0.01932999 -0.09321318  0.95053824  0.28629704 -0.04808349 -0.05395716\n",
            "   0.01501074]\n",
            " [ 0.08899424  0.57641234 -0.16568525  0.77583213  0.17338715  0.01095666\n",
            "  -0.016691  ]]\n"
          ]
        }
      ],
      "source": [
        "u,s,v = np.linalg.svd(X_std.T)\n",
        "print('Vectors U:\\n', u)"
      ]
    },
    {
      "cell_type": "markdown",
      "metadata": {
        "id": "yFRZl7VtDYnF"
      },
      "source": [
        "## 2 - Selecting Principal Components"
      ]
    },
    {
      "cell_type": "markdown",
      "metadata": {
        "id": "i9elNYXCDYnG"
      },
      "source": [
        "### Sorting Eigenpairs"
      ]
    },
    {
      "cell_type": "markdown",
      "metadata": {
        "id": "m0TkEpKsDYnG"
      },
      "source": [
        "The typical goal of a PCA is to reduce the dimensionality of the original feature space by projecting it onto a smaller subspace, where the eigenvectors will form the axes. However, the eigenvectors only define the directions of the new axis, since they have all the same unit length 1, which can confirmed by the following two lines of code:"
      ]
    },
    {
      "cell_type": "code",
      "source": [
        "eig_vecs"
      ],
      "metadata": {
        "colab": {
          "base_uri": "https://localhost:8080/"
        },
        "id": "TnuGRqzdMIt5",
        "outputId": "1be3eb70-6e3a-482a-b7a5-2bd126aa9aed"
      },
      "execution_count": 62,
      "outputs": [
        {
          "output_type": "execute_result",
          "data": {
            "text/plain": [
              "array([[ 0.54866006,  0.39040938,  0.72589211,  0.12019419, -0.05077905,\n",
              "        -0.05016135, -0.00959086],\n",
              "       [ 0.35760266, -0.16495358, -0.33615377,  0.72780117, -0.30013261,\n",
              "        -0.13021273, -0.30851551],\n",
              "       [ 0.53524208, -0.76392582,  0.06731715, -0.28734091,  0.06837945,\n",
              "         0.0922346 ,  0.17220303],\n",
              "       [ 0.52541294,  0.48607887, -0.59316257, -0.31203791,  0.06383858,\n",
              "         0.10479905,  0.15297345],\n",
              "       [-0.01600018, -0.00340539,  0.02600832, -0.4935091 , -0.74676028,\n",
              "        -0.17338939, -0.40962171],\n",
              "       [ 0.01932999, -0.01501074, -0.05395716, -0.04808349,  0.09321318,\n",
              "        -0.95053824,  0.28629704],\n",
              "       [-0.08899424,  0.016691  ,  0.01095666,  0.17338715, -0.57641234,\n",
              "         0.16568525,  0.77583213]])"
            ]
          },
          "metadata": {},
          "execution_count": 62
        }
      ]
    },
    {
      "cell_type": "code",
      "execution_count": 63,
      "metadata": {
        "id": "-GVmrAsJDYnH",
        "outputId": "9cf1f91f-6bc7-464c-9210-fb7fbf85c3e0",
        "colab": {
          "base_uri": "https://localhost:8080/"
        }
      },
      "outputs": [
        {
          "output_type": "stream",
          "name": "stdout",
          "text": [
            "Everything ok!\n"
          ]
        }
      ],
      "source": [
        "for ev in eig_vecs:\n",
        "    np.testing.assert_array_almost_equal(1.0, np.linalg.norm(ev))\n",
        "print('Everything ok!')"
      ]
    },
    {
      "cell_type": "markdown",
      "metadata": {
        "id": "qsOrd06VDYnH"
      },
      "source": [
        "In order to decide which eigenvector(s) can dropped without losing too much information\n",
        "for the construction of lower-dimensional subspace, we need to inspect the corresponding eigenvalues: The eigenvectors with the lowest eigenvalues bear the least information about the distribution of the data; those are the ones can be dropped.  \n",
        "In order to do so, the common approach is to rank the eigenvalues from highest to lowest in order choose the top $k$ eigenvectors."
      ]
    },
    {
      "cell_type": "code",
      "execution_count": 64,
      "metadata": {
        "id": "VktHCEefDYnI",
        "outputId": "5ff630b5-c8d0-413b-ee95-0f1ecc95a2e3",
        "colab": {
          "base_uri": "https://localhost:8080/"
        }
      },
      "outputs": [
        {
          "output_type": "stream",
          "name": "stdout",
          "text": [
            "Eigenvalues in descending order:\n",
            "3.09431194254681\n",
            "1.1460021537391933\n",
            "1.0101580480822798\n",
            "0.9055121829501952\n",
            "0.7299084899235169\n",
            "0.09348201347438759\n",
            "0.020625169283614173\n"
          ]
        }
      ],
      "source": [
        "# Make a list of (eigenvalue, eigenvector) tuples\n",
        "eig_pairs = [(np.abs(eig_vals[i]), eig_vecs[:,i]) for i in range(len(eig_vals))]\n",
        "\n",
        "# Sort the (eigenvalue, eigenvector) tuples from high to low\n",
        "eig_pairs.sort(key=lambda x: x[0], reverse=True)\n",
        "\n",
        "# Visually confirm that the list is correctly sorted by decreasing eigenvalues\n",
        "print('Eigenvalues in descending order:')\n",
        "for i in eig_pairs:\n",
        "    print(i[0])"
      ]
    },
    {
      "cell_type": "markdown",
      "metadata": {
        "id": "KmWdlVVjDYnI"
      },
      "source": [
        "### Explained Variance"
      ]
    },
    {
      "cell_type": "markdown",
      "metadata": {
        "id": "SEfPwXPXDYnJ"
      },
      "source": [
        "After sorting the eigenpairs, the next question is \"how many principal components are we going to choose for our new feature subspace?\" A useful measure is the so-called \"explained variance,\" which can be calculated from the eigenvalues. The explained variance tells us how much information (variance) can be attributed to each of the principal components."
      ]
    },
    {
      "cell_type": "code",
      "execution_count": 65,
      "metadata": {
        "collapsed": true,
        "id": "bdh3fgTJDYnJ"
      },
      "outputs": [],
      "source": [
        "tot = sum(eig_vals)\n",
        "var_exp = [(i / tot)*100 for i in sorted(eig_vals, reverse=True)]\n",
        "cum_var_exp = np.cumsum(var_exp)"
      ]
    },
    {
      "cell_type": "code",
      "execution_count": 66,
      "metadata": {
        "id": "OpX4t_1oDYnK",
        "outputId": "8cf53917-6740-4a1d-a8f1-ebffd1bf915d",
        "colab": {
          "base_uri": "https://localhost:8080/",
          "height": 297
        }
      },
      "outputs": [
        {
          "output_type": "display_data",
          "data": {
            "text/plain": [
              "<Figure size 432x288 with 1 Axes>"
            ],
            "image/png": "[encoded data removed]"
          },
          "metadata": {}
        }
      ],
      "source": [
        "with plt.style.context('seaborn-whitegrid'):\n",
        "    plt.figure(figsize=(6, 4))\n",
        "    num_of_features=len(X_std.transpose())\n",
        "    plt.bar(range(num_of_features), var_exp, alpha=0.5, align='center',\n",
        "            label='individual explained variance')\n",
        "    plt.step(range(num_of_features), cum_var_exp, where='mid',\n",
        "             label='cumulative explained variance')\n",
        "    plt.ylabel('Explained variance ratio')\n",
        "    plt.xlabel('Principal components')\n",
        "    plt.legend(loc='best')\n",
        "    plt.tight_layout()\n",
        "    "
      ]
    },
    {
      "cell_type": "markdown",
      "metadata": {
        "id": "cc6KorEMDYnK"
      },
      "source": [
        "The plot above clearly shows that most of the variance (72.77% of the variance to be precise) can be explained by the first principal component alone. The second principal component still bears some information (23.03%) while the third and fourth principal components can safely be dropped without losing to much information. Together, the first two principal components contain 95.8% of the information."
      ]
    },
    {
      "cell_type": "markdown",
      "metadata": {
        "id": "FN-LqgWTDYnL"
      },
      "source": [
        "### Projection Matrix"
      ]
    },
    {
      "cell_type": "markdown",
      "metadata": {
        "id": "Jx9Kv2QpDYnL"
      },
      "source": [
        "It's about time to get to the really interesting part: The construction of the projection matrix that will be used to transform the Iris data onto the new feature subspace. Although, the name \"projection matrix\" has a nice ring to it, it is basically just a matrix of our concatenated top *k* eigenvectors.\n",
        "\n",
        "Here, we are reducing the 4-dimensional feature space to a 2-dimensional feature subspace, by choosing the \"top 2\" eigenvectors with the highest eigenvalues to construct our $d \\times k$-dimensional eigenvector matrix $\\mathbf{W}$."
      ]
    },
    {
      "cell_type": "code",
      "execution_count": 67,
      "metadata": {
        "id": "teZVQf4oDYnM",
        "outputId": "d2f4422b-e051-4358-eda2-ab476d8e528e",
        "colab": {
          "base_uri": "https://localhost:8080/"
        }
      },
      "outputs": [
        {
          "output_type": "stream",
          "name": "stdout",
          "text": [
            "Matrix W:\n",
            " [[ 0.54866006 -0.05077905]\n",
            " [ 0.35760266 -0.30013261]\n",
            " [ 0.53524208  0.06837945]\n",
            " [ 0.52541294  0.06383858]\n",
            " [-0.01600018 -0.74676028]\n",
            " [ 0.01932999  0.09321318]\n",
            " [-0.08899424 -0.57641234]]\n"
          ]
        }
      ],
      "source": [
        "matrix_w = np.hstack((eig_pairs[0][1].reshape(num_of_features,1), \n",
        "                      eig_pairs[1][1].reshape(num_of_features,1)))\n",
        "\n",
        "print('Matrix W:\\n', matrix_w)"
      ]
    },
    {
      "cell_type": "markdown",
      "metadata": {
        "id": "P36C5wDvDYnM"
      },
      "source": [
        "<br>\n",
        "<br>"
      ]
    },
    {
      "cell_type": "markdown",
      "metadata": {
        "id": "I2C-11FrDYnM"
      },
      "source": [
        "## 3 - Projection Onto the New Feature Space"
      ]
    },
    {
      "cell_type": "markdown",
      "metadata": {
        "id": "dw4f0jYIDYnN"
      },
      "source": [
        "In this last step we will use the $4 \\times 2$-dimensional projection matrix $\\mathbf{W}$ to transform our samples onto the new subspace via the equation  \n",
        "$\\mathbf{Y} = \\mathbf{X} \\times  \\mathbf{W}$, where $\\mathbf{Y}$ is a $150\\times 2$ matrix of our transformed samples."
      ]
    },
    {
      "cell_type": "code",
      "execution_count": 68,
      "metadata": {
        "id": "x4FNXqy6DYnN"
      },
      "outputs": [],
      "source": [
        "Y = X_std.dot(matrix_w)"
      ]
    },
    {
      "cell_type": "code",
      "execution_count": 69,
      "metadata": {
        "id": "YLqUzIIpDYnO",
        "outputId": "bfb93b04-3cba-4e32-f24a-385152acf70a",
        "colab": {
          "base_uri": "https://localhost:8080/",
          "height": 297
        }
      },
      "outputs": [
        {
          "output_type": "display_data",
          "data": {
            "text/plain": [
              "<Figure size 432x288 with 1 Axes>"
            ],
            "image/png": "[encoded data removed]"
          },
          "metadata": {}
        }
      ],
      "source": [
        "with plt.style.context('seaborn-whitegrid'):\n",
        "    plt.figure(figsize=(6, 4))\n",
        "    for lab, col in zip((0, 1, 2), \n",
        "                        ('blue', 'red', 'green')):\n",
        "        plt.scatter(Y[y==lab, 0],\n",
        "                    Y[y==lab, 1],\n",
        "                    label=lab,\n",
        "                    c=col)\n",
        "    plt.xlabel('Principal Component 1')\n",
        "    plt.ylabel('Principal Component 2')\n",
        "    plt.legend(loc='lower center')\n",
        "    plt.tight_layout()\n",
        "\n",
        "   "
      ]
    },
    {
      "cell_type": "markdown",
      "metadata": {
        "id": "Uo9VNq1MDYnO"
      },
      "source": [
        "<br>\n",
        "<br>\n",
        "<a name=\"mat_pca\"></a>"
      ]
    },
    {
      "cell_type": "markdown",
      "metadata": {
        "id": "4mDiaC1XDYnO"
      },
      "source": [
        "<br>\n",
        "<br>\n",
        "<a name=\"sklearn_pca\"> </a>"
      ]
    },
    {
      "cell_type": "markdown",
      "metadata": {
        "id": "KxxmTXb4DYnP"
      },
      "source": [
        "## Shortcut - PCA in scikit-learn"
      ]
    },
    {
      "cell_type": "markdown",
      "metadata": {
        "id": "terlcZAADYnP"
      },
      "source": [
        "For educational purposes, we went a long way to apply the PCA to the Iris dataset. But luckily, there is already implementation in scikit-learn. "
      ]
    },
    {
      "cell_type": "code",
      "execution_count": 70,
      "metadata": {
        "id": "CpEuXvZGDYnQ"
      },
      "outputs": [],
      "source": [
        "from sklearn.decomposition import PCA as sklearnPCA\n",
        "sklearn_pca = sklearnPCA(n_components=2)\n",
        "Y_sklearn = sklearn_pca.fit_transform(X_std)"
      ]
    },
    {
      "cell_type": "code",
      "execution_count": 71,
      "metadata": {
        "id": "5RhAM5w1DYnQ",
        "outputId": "7f59dfd1-a727-4bb1-a64c-705e512319e6",
        "colab": {
          "base_uri": "https://localhost:8080/",
          "height": 297
        }
      },
      "outputs": [
        {
          "output_type": "display_data",
          "data": {
            "text/plain": [
              "<Figure size 432x288 with 1 Axes>"
            ],
            "image/png": "[encoded data removed]"
          },
          "metadata": {}
        }
      ],
      "source": [
        "with plt.style.context('seaborn-whitegrid'):\n",
        "    plt.figure(figsize=(6, 4))\n",
        "    for lab, col in zip((0, 1, 2), \n",
        "                        ('blue', 'red', 'green')):\n",
        "        plt.scatter(Y_sklearn[y==lab, 0],\n",
        "                    Y_sklearn[y==lab, 1],\n",
        "                    label=lab,\n",
        "                    c=col)\n",
        "    plt.xlabel('Principal Component 1')\n",
        "    plt.ylabel('Principal Component 2')\n",
        "    plt.legend(loc='lower center')\n",
        "    plt.tight_layout()\n",
        "    plt.show()"
      ]
    }
  ],
  "metadata": {
    "kernelspec": {
      "display_name": "Python 3",
      "language": "python",
      "name": "python3"
    },
    "language_info": {
      "codemirror_mode": {
        "name": "ipython",
        "version": 3
      },
      "file_extension": ".py",
      "mimetype": "text/x-python",
      "name": "python",
      "nbconvert_exporter": "python",
      "pygments_lexer": "ipython3",
      "version": "3.6.1"
    },
    "colab": {
      "provenance": [],
      "include_colab_link": true
    }
  },
  "nbformat": 4,
  "nbformat_minor": 0
}