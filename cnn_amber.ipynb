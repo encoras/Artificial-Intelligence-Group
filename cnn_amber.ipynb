{
  "nbformat": 4,
  "nbformat_minor": 0,
  "metadata": {
    "colab": {
      "provenance": [],
      "mount_file_id": "1Nd8IEuTX10jo7sa_mpLUu_vrql14iOLS",
      "authorship_tag": "ABX9TyMdCT+ldXgsoOf+ZuJlsXz4",
      "include_colab_link": true
    },
    "kernelspec": {
      "name": "python3",
      "display_name": "Python 3"
    },
    "language_info": {
      "name": "python"
    },
    "accelerator": "GPU",
    "gpuClass": "standard"
  },
  "cells": [
    {
      "cell_type": "markdown",
      "metadata": {
        "id": "view-in-github",
        "colab_type": "text"
      },
      "source": [
        "<a href=\"https://colab.research.google.com/github/encoras/Artificial-Intelligence-Group/blob/master/cnn_amber.ipynb\" target=\"_parent\"><img src=\"https://colab.research.google.com/assets/colab-badge.svg\" alt=\"Open In Colab\"/></a>"
      ]
    },
    {
      "cell_type": "code",
      "execution_count": 50,
      "metadata": {
        "id": "XTy80sRObnM9"
      },
      "outputs": [],
      "source": [
        "import pandas as pd\n",
        "import numpy as np\n",
        "import matplotlib.pyplot as plt\n",
        "from keras.models import Sequential\n",
        "from keras.optimizers import Adam\n",
        "from keras.layers import Conv2D\n",
        "from keras.layers import MaxPooling2D, BatchNormalization\n",
        "from keras.layers import Dense, Dropout\n",
        "from keras.layers import Flatten"
      ]
    },
    {
      "cell_type": "code",
      "source": [
        "img_rows = 320\n",
        "img_cols = 320\n",
        "epochs = 30\n",
        "batch_size = 22\n",
        "num_of_train_samples = 1265\n",
        "num_of_test_samples = 405\n",
        "num_of_val_samples = 200"
      ],
      "metadata": {
        "id": "m2Bl620Dbzcw"
      },
      "execution_count": 51,
      "outputs": []
    },
    {
      "cell_type": "code",
      "source": [
        "#part2-fitting the cnn to the images\n",
        "from keras.preprocessing.image import ImageDataGenerator\n",
        "train_datagen = ImageDataGenerator(rescale = 1./255,\n",
        "                                   shear_range = 0.2,\n",
        "                                   zoom_range = 0.2,\n",
        "                                   horizontal_flip = True,\n",
        "                                   vertical_flip = True)"
      ],
      "metadata": {
        "id": "vJPMIV9Qb5Sm"
      },
      "execution_count": 52,
      "outputs": []
    },
    {
      "cell_type": "code",
      "source": [
        "# Generating images for the Test set\n",
        "test_datagen = ImageDataGenerator(rescale = 1./255)\n",
        "# Creating training set\n",
        "training_set = train_datagen.flow_from_directory('/content/drive/MyDrive/Amber_yolo/train',\n",
        "                                                 target_size = (img_rows, img_cols),\n",
        "                                                 batch_size = batch_size,\n",
        "                                                 shuffle = True,\n",
        "                                                 class_mode = 'sparse')\n",
        "# Creating the Test set\n",
        "test_set = test_datagen.flow_from_directory('/content/drive/MyDrive/Amber_yolo/test',\n",
        "                                            target_size = (img_rows, img_cols),\n",
        "                                            batch_size = batch_size,\n",
        "                                            class_mode = 'sparse')\n",
        "\n",
        "# Creating the Test set\n",
        "valid_set = test_datagen.flow_from_directory('/content/drive/MyDrive/Amber_yolo/val',\n",
        "                                            target_size = (img_rows, img_cols),\n",
        "                                            batch_size = batch_size,\n",
        "                                            class_mode = 'sparse')"
      ],
      "metadata": {
        "colab": {
          "base_uri": "https://localhost:8080/"
        },
        "id": "xbp26sh9cC3Q",
        "outputId": "a60666c6-103c-4d22-9760-e1aabc71cb8e"
      },
      "execution_count": 53,
      "outputs": [
        {
          "output_type": "stream",
          "name": "stdout",
          "text": [
            "Found 1265 images belonging to 20 classes.\n",
            "Found 504 images belonging to 20 classes.\n",
            "Found 200 images belonging to 20 classes.\n"
          ]
        }
      ]
    },
    {
      "cell_type": "code",
      "source": [
        "# Making Sppnet custom layer\n",
        "# Try refering github implementation\n",
        "# Refer https://keras.io/layers/writing-your-own-keras-layers/\n",
        "# or https://keras.io/examples/antirectifier/\n",
        "import sys\n",
        "from keras.layers import Layer\n",
        "from keras import backend as K\n",
        "\n",
        "if not sys.warnoptions:\n",
        "    import warnings\n",
        "    warnings.simplefilter(\"ignore\")\n",
        "\n",
        "BATCH = 20\n",
        "\n",
        "class SppnetLayer(Layer):\n",
        "    '''This layer takes an input tensor and pools the tensor\n",
        "      in local spatial bins.\n",
        "      This layer uses Max pooling.\n",
        "      It accepts input in tensorflow format. # channels last\n",
        "\n",
        "    # Input\n",
        "        list of filter in form [x,y,z] \n",
        "    # Input shape : 4d tensor [None, X,Y, channels]\n",
        "    # Output shape : 3d tensor [None,pooled dim, channels] \n",
        "\n",
        "    '''\n",
        "    def __init__(self, filters = [1], **kwargs):\n",
        "        self.filters = filters\n",
        "        super(SppnetLayer, self).__init__(**kwargs)\n",
        "\n",
        "    def compute_output_shape(self, input_shape):\n",
        "        length = 0;\n",
        "        for f_size in self.filters:\n",
        "            length+= (f_size*f_size)\n",
        "        return (input_shape[0],length*input_shape[3])\n",
        "      \n",
        "    def get_config(self):\n",
        "        config = {'filters': self.filters}\n",
        "        base_config = super(SppnetLayer, self).get_config()\n",
        "        return dict(list(base_config.items()) + list(config.items()))\n",
        "\n",
        "    def call(self, inputs):\n",
        "      output = []\n",
        "      for f_size in self.filters:\n",
        "        win_size = K.int_shape(inputs)[1]/f_size\n",
        "        #print(win_size)\n",
        "        win_size = int(win_size)\n",
        "        for x_start in range(0,f_size):\n",
        "          for y_start in range(0,f_size):\n",
        "            X = int(x_start*win_size)\n",
        "            Y = int(y_start*win_size)\n",
        "            result = K.max(inputs[:,X:X+win_size,Y:Y+win_size,:],axis = (1,2))\n",
        "            output.append(result)\n",
        "      output = K.concatenate(output)\n",
        "      return output"
      ],
      "metadata": {
        "id": "kdVZhljkg7vu"
      },
      "execution_count": 60,
      "outputs": []
    },
    {
      "cell_type": "code",
      "source": [
        "model=Sequential()\n",
        "\n",
        "model.add(Conv2D(8,(5,5),activation='relu',input_shape=(img_rows,img_cols,3)))\n",
        "model.add(BatchNormalization())\n",
        "model.add(MaxPooling2D(pool_size=(2,2)))\n",
        "model.add(Dropout(0.15))\n",
        "\n",
        "model.add(Conv2D(8,(3,3),activation='relu'))\n",
        "model.add(BatchNormalization())\n",
        "model.add(MaxPooling2D(pool_size=(2,2)))\n",
        "model.add(Dropout(0.15))\n",
        "\n",
        "model.add(Conv2D(8,(3,3),activation='relu'))\n",
        "model.add(BatchNormalization())\n",
        "model.add(MaxPooling2D(pool_size=(4,4)))\n",
        "model.add(Dropout(0.15))\n",
        "\n",
        "model.add(SppnetLayer([1,2,4])) #To implement SppNet \n",
        "#model.add(Flatten())\n",
        "model.add(Dense(16,activation='relu'))\n",
        "model.add(BatchNormalization())\n",
        "model.add(Dropout(0.15))\n",
        "model.add(Dense(20,activation='softmax'))\n",
        "\n",
        "model.compile(loss='sparse_categorical_crossentropy',\n",
        "  optimizer='rmsprop',metrics=['accuracy'])\n",
        "\n",
        "print(model.summary())\n"
      ],
      "metadata": {
        "id": "D4GgnkUEcbtr"
      },
      "execution_count": 61,
      "outputs": []
    },
    {
      "cell_type": "code",
      "source": [
        "from keras.callbacks import EarlyStopping, ReduceLROnPlateau\n",
        "earlystop = EarlyStopping(patience = 10)\n",
        "learning_rate_reduction = ReduceLROnPlateau(monitor = 'val_accuracy',patience = 2,verbose = 1,factor = 0.8,min_lr = 0.00001)\n",
        "callbacks = [earlystop,learning_rate_reduction]"
      ],
      "metadata": {
        "id": "NKJkbR69g4oV"
      },
      "execution_count": 55,
      "outputs": []
    },
    {
      "cell_type": "code",
      "source": [
        "history = model.fit_generator(training_set,epochs=epochs, validation_data=test_set)"
      ],
      "metadata": {
        "colab": {
          "base_uri": "https://localhost:8080/"
        },
        "id": "xih936hVclvZ",
        "outputId": "ed30baa7-f519-4608-db44-a9757c474693"
      },
      "execution_count": 62,
      "outputs": [
        {
          "output_type": "stream",
          "name": "stderr",
          "text": [
            "<ipython-input-62-33c886a2a3a8>:1: UserWarning: `Model.fit_generator` is deprecated and will be removed in a future version. Please use `Model.fit`, which supports generators.\n",
            "  history = model.fit_generator(training_set,epochs=epochs, validation_data=test_set)\n"
          ]
        },
        {
          "output_type": "stream",
          "name": "stdout",
          "text": [
            "Epoch 1/30\n",
            "58/58 [==============================] - 53s 877ms/step - loss: 3.0635 - accuracy: 0.0957 - val_loss: 3.1534 - val_accuracy: 0.0417\n",
            "Epoch 2/30\n",
            "58/58 [==============================] - 52s 891ms/step - loss: 2.5885 - accuracy: 0.1787 - val_loss: 3.1843 - val_accuracy: 0.0476\n",
            "Epoch 3/30\n",
            "58/58 [==============================] - 49s 845ms/step - loss: 2.4178 - accuracy: 0.2316 - val_loss: 3.2015 - val_accuracy: 0.0595\n",
            "Epoch 4/30\n",
            "58/58 [==============================] - 68s 1s/step - loss: 2.2531 - accuracy: 0.2846 - val_loss: 3.1132 - val_accuracy: 0.1012\n",
            "Epoch 5/30\n",
            "58/58 [==============================] - 54s 927ms/step - loss: 2.1242 - accuracy: 0.3328 - val_loss: 2.9806 - val_accuracy: 0.1052\n",
            "Epoch 6/30\n",
            "58/58 [==============================] - 51s 885ms/step - loss: 2.0272 - accuracy: 0.3644 - val_loss: 3.0387 - val_accuracy: 0.1468\n",
            "Epoch 7/30\n",
            "58/58 [==============================] - 50s 867ms/step - loss: 1.9577 - accuracy: 0.3802 - val_loss: 3.0849 - val_accuracy: 0.1667\n",
            "Epoch 8/30\n",
            "58/58 [==============================] - 50s 868ms/step - loss: 1.8512 - accuracy: 0.4134 - val_loss: 2.8272 - val_accuracy: 0.1567\n",
            "Epoch 9/30\n",
            "58/58 [==============================] - 50s 854ms/step - loss: 1.7532 - accuracy: 0.4419 - val_loss: 2.9450 - val_accuracy: 0.1290\n",
            "Epoch 10/30\n",
            "58/58 [==============================] - 50s 868ms/step - loss: 1.6777 - accuracy: 0.4530 - val_loss: 2.4713 - val_accuracy: 0.1845\n",
            "Epoch 11/30\n",
            "58/58 [==============================] - 50s 864ms/step - loss: 1.5788 - accuracy: 0.4830 - val_loss: 2.3115 - val_accuracy: 0.2302\n",
            "Epoch 12/30\n",
            "58/58 [==============================] - 51s 877ms/step - loss: 1.5234 - accuracy: 0.4949 - val_loss: 3.3417 - val_accuracy: 0.1528\n",
            "Epoch 13/30\n",
            "58/58 [==============================] - 50s 864ms/step - loss: 1.4710 - accuracy: 0.5012 - val_loss: 3.5763 - val_accuracy: 0.1389\n",
            "Epoch 14/30\n",
            "58/58 [==============================] - 49s 853ms/step - loss: 1.4290 - accuracy: 0.5162 - val_loss: 3.4084 - val_accuracy: 0.1964\n",
            "Epoch 15/30\n",
            "58/58 [==============================] - 50s 869ms/step - loss: 1.3577 - accuracy: 0.5281 - val_loss: 3.1191 - val_accuracy: 0.1349\n",
            "Epoch 16/30\n",
            "58/58 [==============================] - 50s 863ms/step - loss: 1.3400 - accuracy: 0.5391 - val_loss: 3.7380 - val_accuracy: 0.1310\n",
            "Epoch 17/30\n",
            "58/58 [==============================] - 49s 846ms/step - loss: 1.3144 - accuracy: 0.5526 - val_loss: 3.5936 - val_accuracy: 0.2103\n",
            "Epoch 18/30\n",
            "58/58 [==============================] - 50s 861ms/step - loss: 1.2505 - accuracy: 0.5652 - val_loss: 1.8167 - val_accuracy: 0.3294\n",
            "Epoch 19/30\n",
            "58/58 [==============================] - 51s 873ms/step - loss: 1.2973 - accuracy: 0.5660 - val_loss: 3.7717 - val_accuracy: 0.1250\n",
            "Epoch 20/30\n",
            "58/58 [==============================] - 49s 855ms/step - loss: 1.2066 - accuracy: 0.6008 - val_loss: 2.3441 - val_accuracy: 0.2401\n",
            "Epoch 21/30\n",
            "58/58 [==============================] - 50s 864ms/step - loss: 1.1946 - accuracy: 0.5874 - val_loss: 3.6864 - val_accuracy: 0.1508\n",
            "Epoch 22/30\n",
            "58/58 [==============================] - 49s 848ms/step - loss: 1.1334 - accuracy: 0.6016 - val_loss: 3.6996 - val_accuracy: 0.1548\n",
            "Epoch 23/30\n",
            "58/58 [==============================] - 50s 855ms/step - loss: 1.1229 - accuracy: 0.6040 - val_loss: 2.3783 - val_accuracy: 0.2143\n",
            "Epoch 24/30\n",
            "58/58 [==============================] - 50s 857ms/step - loss: 1.1282 - accuracy: 0.5976 - val_loss: 2.5896 - val_accuracy: 0.1508\n",
            "Epoch 25/30\n",
            "58/58 [==============================] - 49s 849ms/step - loss: 1.0790 - accuracy: 0.6213 - val_loss: 4.1966 - val_accuracy: 0.1964\n",
            "Epoch 26/30\n",
            "58/58 [==============================] - 50s 860ms/step - loss: 1.0610 - accuracy: 0.6308 - val_loss: 2.9173 - val_accuracy: 0.1310\n",
            "Epoch 27/30\n",
            "58/58 [==============================] - 51s 879ms/step - loss: 1.0224 - accuracy: 0.6545 - val_loss: 1.8067 - val_accuracy: 0.3095\n",
            "Epoch 28/30\n",
            "58/58 [==============================] - 49s 848ms/step - loss: 1.0285 - accuracy: 0.6364 - val_loss: 1.9542 - val_accuracy: 0.3452\n",
            "Epoch 29/30\n",
            "58/58 [==============================] - 51s 890ms/step - loss: 0.9909 - accuracy: 0.6625 - val_loss: 2.1777 - val_accuracy: 0.2460\n",
            "Epoch 30/30\n",
            "58/58 [==============================] - 50s 869ms/step - loss: 0.9594 - accuracy: 0.6743 - val_loss: 2.3445 - val_accuracy: 0.2143\n"
          ]
        }
      ]
    },
    {
      "cell_type": "code",
      "source": [
        "#AlexNet Inmplementation with batch normalization layers\n",
        "model1 = Sequential()\n",
        "model1.add(Conv2D(filters=96, input_shape=(224,224,3), kernel_size=(11,11), strides=(4,4), padding='same',activation = 'relu'))\n",
        "model1.add(MaxPooling2D(pool_size=(3,3), strides=(2,2), padding='valid'))\n",
        "model1.add(BatchNormalization())\n",
        "model1.add(Conv2D(filters=256, kernel_size=(5,5), strides=(1,1), padding='same',activation = 'relu'))\n",
        "model1.add(MaxPooling2D(pool_size=(3,3), strides=(2,2), padding='valid'))\n",
        "model1.add(BatchNormalization())\n",
        "model1.add(Conv2D(filters=384, kernel_size=(3,3), strides=(1,1), padding='same',activation = 'relu'))\n",
        "model1.add(BatchNormalization())\n",
        "model1.add(Conv2D(filters=384, kernel_size=(3,3), strides=(1,1), padding='same',activation = 'relu'))\n",
        "model1.add(BatchNormalization())\n",
        "model1.add(Conv2D(filters=256, kernel_size=(3,3), strides=(1,1), padding='same',activation = 'relu'))\n",
        "model1.add(BatchNormalization())\n",
        "model1.add(Flatten()) # To implement Simple Alexnet\n",
        "\n",
        "model1.add(Dense(4096,activation = 'relu'))\n",
        "model1.add(Dropout(0.2))\n",
        "model1.add(Dense(4096,activation = 'relu'))\n",
        "model1.add(Dropout(0.2))\n",
        "model1.add(Dense(20,activation= 'sigmoid'))\n",
        "model1.compile(loss='sparse_categorical_crossentropy',\n",
        "  optimizer='rmsprop',metrics=['accuracy'])\n",
        "print(model1.summary())"
      ],
      "metadata": {
        "colab": {
          "base_uri": "https://localhost:8080/"
        },
        "id": "b20rAUYbrn2j",
        "outputId": "a7d0352e-aed5-449d-9868-5b6c5a868421"
      },
      "execution_count": 63,
      "outputs": [
        {
          "output_type": "stream",
          "name": "stdout",
          "text": [
            "Model: \"sequential_11\"\n",
            "_________________________________________________________________\n",
            " Layer (type)                Output Shape              Param #   \n",
            "=================================================================\n",
            " conv2d_34 (Conv2D)          (None, 56, 56, 96)        34944     \n",
            "                                                                 \n",
            " max_pooling2d_34 (MaxPoolin  (None, 27, 27, 96)       0         \n",
            " g2D)                                                            \n",
            "                                                                 \n",
            " batch_normalization_45 (Bat  (None, 27, 27, 96)       384       \n",
            " chNormalization)                                                \n",
            "                                                                 \n",
            " conv2d_35 (Conv2D)          (None, 27, 27, 256)       614656    \n",
            "                                                                 \n",
            " max_pooling2d_35 (MaxPoolin  (None, 13, 13, 256)      0         \n",
            " g2D)                                                            \n",
            "                                                                 \n",
            " batch_normalization_46 (Bat  (None, 13, 13, 256)      1024      \n",
            " chNormalization)                                                \n",
            "                                                                 \n",
            " conv2d_36 (Conv2D)          (None, 13, 13, 384)       885120    \n",
            "                                                                 \n",
            " batch_normalization_47 (Bat  (None, 13, 13, 384)      1536      \n",
            " chNormalization)                                                \n",
            "                                                                 \n",
            " conv2d_37 (Conv2D)          (None, 13, 13, 384)       1327488   \n",
            "                                                                 \n",
            " batch_normalization_48 (Bat  (None, 13, 13, 384)      1536      \n",
            " chNormalization)                                                \n",
            "                                                                 \n",
            " conv2d_38 (Conv2D)          (None, 13, 13, 256)       884992    \n",
            "                                                                 \n",
            " batch_normalization_49 (Bat  (None, 13, 13, 256)      1024      \n",
            " chNormalization)                                                \n",
            "                                                                 \n",
            " flatten_10 (Flatten)        (None, 43264)             0         \n",
            "                                                                 \n",
            " dense_22 (Dense)            (None, 4096)              177213440 \n",
            "                                                                 \n",
            " dropout_45 (Dropout)        (None, 4096)              0         \n",
            "                                                                 \n",
            " dense_23 (Dense)            (None, 4096)              16781312  \n",
            "                                                                 \n",
            " dropout_46 (Dropout)        (None, 4096)              0         \n",
            "                                                                 \n",
            " dense_24 (Dense)            (None, 20)                81940     \n",
            "                                                                 \n",
            "=================================================================\n",
            "Total params: 197,829,396\n",
            "Trainable params: 197,826,644\n",
            "Non-trainable params: 2,752\n",
            "_________________________________________________________________\n",
            "None\n"
          ]
        }
      ]
    },
    {
      "cell_type": "code",
      "source": [
        "history = model1.fit_generator(training_set,epochs=epochs, validation_data=test_set)"
      ],
      "metadata": {
        "id": "q_8lnZEwr0bS"
      },
      "execution_count": null,
      "outputs": []
    },
    {
      "cell_type": "code",
      "source": [
        "fig, (ax1, ax2) = plt.subplots(2, 1, figsize=(12, 12))\n",
        "ax1.plot(history.history['loss'], color='b', label=\"Training loss\")\n",
        "ax1.plot(history.history['val_loss'], color='r', label=\"validation loss\")\n",
        "ax1.set_xticks(np.arange(1, epochs, 1))\n",
        "ax1.set_yticks(np.arange(0, 1, 0.1))\n",
        "\n",
        "ax2.plot(history.history['accuracy'], color='b', label=\"Training accuracy\")\n",
        "ax2.plot(history.history['val_accuracy'], color='r',label=\"Validation accuracy\")\n",
        "ax2.set_xticks(np.arange(1, epochs, 1))\n",
        "\n",
        "legend = plt.legend(loc='best', shadow=True)\n",
        "plt.tight_layout()\n",
        "plt.show()"
      ],
      "metadata": {
        "colab": {
          "base_uri": "https://localhost:8080/",
          "height": 873
        },
        "id": "UtVZWYZkiKX3",
        "outputId": "8d07dc0b-a295-47f6-f485-bd083d9f0e21"
      },
      "execution_count": 64,
      "outputs": [
        {
          "output_type": "display_data",
          "data": {
            "text/plain": [
              "<Figure size 864x864 with 2 Axes>"
            ],
            "image/png": "[encoded data removed]"
          },
          "metadata": {
            "needs_background": "light"
          }
        }
      ]
    },
    {
      "cell_type": "code",
      "source": [],
      "metadata": {
        "id": "7yn9ZXiEjuU_"
      },
      "execution_count": null,
      "outputs": []
    },
    {
      "cell_type": "code",
      "source": [
        "model.save(\"/content/drive/MyDrive/Amber_yolo/model1_amber150epoch.h5\")"
      ],
      "metadata": {
        "id": "SAZWqEIihNa2"
      },
      "execution_count": null,
      "outputs": []
    },
    {
      "cell_type": "code",
      "source": [
        "y_pred = model.predict_generator(test_set)"
      ],
      "metadata": {
        "colab": {
          "base_uri": "https://localhost:8080/"
        },
        "id": "7Y9wvoEFhWPu",
        "outputId": "e8289755-7642-4a05-9854-8d8e5cf4a897"
      },
      "execution_count": 65,
      "outputs": [
        {
          "output_type": "stream",
          "name": "stderr",
          "text": [
            "<ipython-input-65-76f5f3201beb>:1: UserWarning: `Model.predict_generator` is deprecated and will be removed in a future version. Please use `Model.predict`, which supports generators.\n",
            "  y_pred = model.predict_generator(test_set)\n"
          ]
        }
      ]
    },
    {
      "cell_type": "code",
      "source": [
        "y_pred "
      ],
      "metadata": {
        "colab": {
          "base_uri": "https://localhost:8080/"
        },
        "id": "gw049PoQyr49",
        "outputId": "a59e3354-7ddb-4268-881a-6b1cbd528edd"
      },
      "execution_count": 66,
      "outputs": [
        {
          "output_type": "execute_result",
          "data": {
            "text/plain": [
              "array([[7.9990132e-03, 1.7501364e-03, 7.1661797e-04, ..., 5.0371397e-02,\n",
              "        7.4586645e-03, 1.3699338e-01],\n",
              "       [5.0940169e-03, 1.6268378e-04, 1.5762501e-04, ..., 4.8523270e-02,\n",
              "        6.0706884e-02, 5.6405586e-01],\n",
              "       [4.1546896e-03, 4.1916072e-03, 6.0117646e-04, ..., 1.2364240e-02,\n",
              "        1.6303852e-03, 1.4231089e-02],\n",
              "       ...,\n",
              "       [1.6119840e-03, 5.2877422e-02, 1.4804432e-02, ..., 3.5531051e-05,\n",
              "        5.5577868e-05, 7.7317141e-05],\n",
              "       [2.4263214e-04, 2.4344500e-03, 1.3323843e-05, ..., 1.4815456e-04,\n",
              "        1.4825958e-04, 1.2227334e-03],\n",
              "       [1.3638856e-05, 9.2621100e-05, 5.6149037e-07, ..., 3.4600864e-05,\n",
              "        8.2684222e-05, 4.5886796e-04]], dtype=float32)"
            ]
          },
          "metadata": {},
          "execution_count": 66
        }
      ]
    },
    {
      "cell_type": "code",
      "source": [
        "from sklearn.metrics import classification_report, confusion_matrix"
      ],
      "metadata": {
        "id": "gNCXicfAi7nU"
      },
      "execution_count": null,
      "outputs": []
    },
    {
      "cell_type": "code",
      "source": [
        "y_pred = np.argmax(y_pred, axis=1)\n",
        "print('Confusion Matrix')\n",
        "print(confusion_matrix(test_set.classes, y_pred))\n",
        "print('Classification Report')\n",
        "target_names = ['N01', 'N02', 'N03','N04','N05','N06','N07','N08','N09','N10','N11','N12','N13','N14','N15','N16','N17','N18','N19','N20']\n",
        "print(classification_report(test_set.classes, y_pred, target_names=target_names))"
      ],
      "metadata": {
        "colab": {
          "base_uri": "https://localhost:8080/"
        },
        "id": "Bf1ULdXoomIC",
        "outputId": "c10cc20f-c41a-4901-be98-65e155480156"
      },
      "execution_count": 67,
      "outputs": [
        {
          "output_type": "stream",
          "name": "stdout",
          "text": [
            "Confusion Matrix\n",
            "[[ 0  0  0  3  4  0  0  0  2  0  2  0  0  5  9  1  2  0  0  4]\n",
            " [ 0  0  0  5  4  0  0  1  0  0  1  0  0  7  8  0  1  0  0  7]\n",
            " [ 0  0  0  3  6  1  0  0  1  0  0  1  0  7 10  1  0  0  0  2]\n",
            " [ 0  0  0  3  2  0  0  0  0  0  1  0  0  6 11  2  1  0  0  1]\n",
            " [ 0  1  0  1  4  1  1  0  0  0  2  0  0  8  6  2  3  0  0  1]\n",
            " [ 0  0  0  3  3  0  0  0  1  0  5  0  0  5  8  1  0  0  0  2]\n",
            " [ 0  1  0  0  6  0  1  0  0  0  1  0  0  5 10  2  0  0  0  3]\n",
            " [ 0  0  0  2  8  0  0  0  0  0  3  0  0  3  8  2  0  0  0  0]\n",
            " [ 0  0  0  2  2  0  0  0  1  0  1  0  0  7  8  1  2  0  0  2]\n",
            " [ 0  1  0  1  4  0  0  0  0  0  0  0  0  3  3  0  1  0  0  2]\n",
            " [ 0  0  0  1  2  0  0  0  0  0  1  0  0  3  5  0  1  0  0  2]\n",
            " [ 0  1  0  2  3  0  0  0  0  0  1  0  0  2  3  1  0  0  0  1]\n",
            " [ 0  0  0  1  3  0  0  0  0  0  1  0  0  3  4  1  1  0  0  0]\n",
            " [ 0  1  0  5  5  1  0  0  0  0  1  0  0  8 14  3  2  0  0  4]\n",
            " [ 0  0  0  1  3  0  0  0  1  0  1  0  0  7  6  2  0  0  0  2]\n",
            " [ 0  1  0  1  2  0  0  1  0  0  2  0  0  3  7  0  1  0  0  3]\n",
            " [ 0  0  0  2  6  0  0  0  0  0  1  0  0  3  6  0  3  0  0  2]\n",
            " [ 0  1  0  0  6  0  0  0  0  0  3  0  0  4  4  1  1  0  0  4]\n",
            " [ 0  2  0  1  2  1  0  0  0  0  1  0  0  4  8  1  1  0  0  2]\n",
            " [ 0  1  0  1  2  0  0  0  0  0  1  0  0  8  8  1  1  0  0  1]]\n",
            "Classification Report\n",
            "              precision    recall  f1-score   support\n",
            "\n",
            "         N01       0.00      0.00      0.00        32\n",
            "         N02       0.00      0.00      0.00        34\n",
            "         N03       0.00      0.00      0.00        32\n",
            "         N04       0.08      0.11      0.09        27\n",
            "         N05       0.05      0.13      0.07        30\n",
            "         N06       0.00      0.00      0.00        28\n",
            "         N07       0.50      0.03      0.06        29\n",
            "         N08       0.00      0.00      0.00        26\n",
            "         N09       0.17      0.04      0.06        26\n",
            "         N10       0.00      0.00      0.00        15\n",
            "         N11       0.03      0.07      0.05        15\n",
            "         N12       0.00      0.00      0.00        14\n",
            "         N13       0.00      0.00      0.00        14\n",
            "         N14       0.08      0.18      0.11        44\n",
            "         N15       0.04      0.26      0.07        23\n",
            "         N16       0.00      0.00      0.00        21\n",
            "         N17       0.14      0.13      0.14        23\n",
            "         N18       0.00      0.00      0.00        24\n",
            "         N19       0.00      0.00      0.00        23\n",
            "         N20       0.02      0.04      0.03        24\n",
            "\n",
            "    accuracy                           0.06       504\n",
            "   macro avg       0.06      0.05      0.03       504\n",
            "weighted avg       0.06      0.06      0.04       504\n",
            "\n"
          ]
        },
        {
          "output_type": "stream",
          "name": "stderr",
          "text": [
            "/usr/local/lib/python3.8/dist-packages/sklearn/metrics/_classification.py:1318: UndefinedMetricWarning: Precision and F-score are ill-defined and being set to 0.0 in labels with no predicted samples. Use `zero_division` parameter to control this behavior.\n",
            "  _warn_prf(average, modifier, msg_start, len(result))\n",
            "/usr/local/lib/python3.8/dist-packages/sklearn/metrics/_classification.py:1318: UndefinedMetricWarning: Precision and F-score are ill-defined and being set to 0.0 in labels with no predicted samples. Use `zero_division` parameter to control this behavior.\n",
            "  _warn_prf(average, modifier, msg_start, len(result))\n",
            "/usr/local/lib/python3.8/dist-packages/sklearn/metrics/_classification.py:1318: UndefinedMetricWarning: Precision and F-score are ill-defined and being set to 0.0 in labels with no predicted samples. Use `zero_division` parameter to control this behavior.\n",
            "  _warn_prf(average, modifier, msg_start, len(result))\n"
          ]
        }
      ]
    },
    {
      "cell_type": "code",
      "source": [],
      "metadata": {
        "id": "Dk8KXEtihagm"
      },
      "execution_count": null,
      "outputs": []
    }
  ]
}