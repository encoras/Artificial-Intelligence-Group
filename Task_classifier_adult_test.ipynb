{
  "nbformat": 4,
  "nbformat_minor": 0,
  "metadata": {
    "colab": {
      "provenance": [],
      "mount_file_id": "1JyEqaLGmhWDmDHAuUJtJCOZN_eqhsSGZ",
      "authorship_tag": "ABX9TyN5Qk7KrWonjfBr0vBzDkxo",
      "include_colab_link": true
    },
    "kernelspec": {
      "name": "python3",
      "display_name": "Python 3"
    },
    "language_info": {
      "name": "python"
    }
  },
  "cells": [
    {
      "cell_type": "markdown",
      "metadata": {
        "id": "view-in-github",
        "colab_type": "text"
      },
      "source": [
        "<a href=\"https://colab.research.google.com/github/encoras/Artificial-Intelligence-Group/blob/master/Task_classifier_adult_test.ipynb\" target=\"_parent\"><img src=\"https://colab.research.google.com/assets/colab-badge.svg\" alt=\"Open In Colab\"/></a>"
      ]
    },
    {
      "cell_type": "code",
      "source": [
        "from  sklearn import datasets\n",
        "import pandas as pd\n",
        "import numpy as np\n",
        "import seaborn as sns\n",
        "from sklearn.model_selection import train_test_split\n",
        "from sklearn import metrics\n",
        "from matplotlib import pyplot as plt\n",
        "from sklearn.neural_network import MLPClassifier\n",
        "from sklearn.tree import DecisionTreeClassifier\n",
        "from sklearn.neighbors import KNeighborsClassifier\n",
        "from sklearn.naive_bayes import GaussianNB\n",
        "from sklearn.linear_model import LogisticRegression\n",
        "from sklearn.ensemble import RandomForestClassifier, StackingClassifier\n",
        "from sklearn.ensemble import BaggingClassifier\n",
        "from sklearn.ensemble import AdaBoostClassifier\n",
        "from sklearn.metrics import confusion_matrix, ConfusionMatrixDisplay\n",
        "from sklearn.metrics import accuracy_score, precision_score\n",
        "from sklearn.metrics import recall_score, f1_score\n",
        "from sklearn.metrics import roc_auc_score\n",
        "from sklearn.metrics import roc_curve, precision_recall_curve, classification_report\n",
        "from sklearn import svm\n",
        "from numpy.random import seed\n",
        "RAND=2231 # should be your student code abcd\n",
        "seed(RAND)"
      ],
      "metadata": {
        "id": "gxqvnorGIRr_"
      },
      "execution_count": 1,
      "outputs": []
    },
    {
      "cell_type": "markdown",
      "source": [
        "from https://drive.google.com/file/d/1-jrwZmZ3kqH-3JbckqbxEsr7EjW27IDJ/view?usp=sharing copy file archive.zip to your folder."
      ],
      "metadata": {
        "id": "Z2daOMRPcl97"
      }
    },
    {
      "cell_type": "code",
      "source": [
        "df = pd.read_csv('https://raw.githubusercontent.com/pooja2512/Adult-Census-Income/refs/heads/master/adult.csv')"
      ],
      "metadata": {
        "id": "GCg5qLcsmMkb"
      },
      "execution_count": 2,
      "outputs": []
    },
    {
      "cell_type": "code",
      "source": [
        "df.head()"
      ],
      "metadata": {
        "colab": {
          "base_uri": "https://localhost:8080/",
          "height": 320
        },
        "id": "dNWO_0cnmuGh",
        "outputId": "465faab8-461e-4575-a094-16a6c1185a3f"
      },
      "execution_count": null,
      "outputs": [
        {
          "output_type": "execute_result",
          "data": {
            "text/plain": [
              "   age workclass  fnlwgt     education  education.num marital.status  \\\n",
              "0   90         ?   77053       HS-grad              9        Widowed   \n",
              "1   82   Private  132870       HS-grad              9        Widowed   \n",
              "2   66         ?  186061  Some-college             10        Widowed   \n",
              "3   54   Private  140359       7th-8th              4       Divorced   \n",
              "4   41   Private  264663  Some-college             10      Separated   \n",
              "\n",
              "          occupation   relationship   race     sex  capital.gain  \\\n",
              "0                  ?  Not-in-family  White  Female             0   \n",
              "1    Exec-managerial  Not-in-family  White  Female             0   \n",
              "2                  ?      Unmarried  Black  Female             0   \n",
              "3  Machine-op-inspct      Unmarried  White  Female             0   \n",
              "4     Prof-specialty      Own-child  White  Female             0   \n",
              "\n",
              "   capital.loss  hours.per.week native.country income  \n",
              "0          4356              40  United-States  <=50K  \n",
              "1          4356              18  United-States  <=50K  \n",
              "2          4356              40  United-States  <=50K  \n",
              "3          3900              40  United-States  <=50K  \n",
              "4          3900              40  United-States  <=50K  "
            ],
            "text/html": [
              "\n",
              "  <div id=\"df-5edf745e-817d-494d-ac44-6f3556abe9ff\">\n",
              "    <div class=\"colab-df-container\">\n",
              "      <div>\n",
              "<style scoped>\n",
              "    .dataframe tbody tr th:only-of-type {\n",
              "        vertical-align: middle;\n",
              "    }\n",
              "\n",
              "    .dataframe tbody tr th {\n",
              "        vertical-align: top;\n",
              "    }\n",
              "\n",
              "    .dataframe thead th {\n",
              "        text-align: right;\n",
              "    }\n",
              "</style>\n",
              "<table border=\"1\" class=\"dataframe\">\n",
              "  <thead>\n",
              "    <tr style=\"text-align: right;\">\n",
              "      <th></th>\n",
              "      <th>age</th>\n",
              "      <th>workclass</th>\n",
              "      <th>fnlwgt</th>\n",
              "      <th>education</th>\n",
              "      <th>education.num</th>\n",
              "      <th>marital.status</th>\n",
              "      <th>occupation</th>\n",
              "      <th>relationship</th>\n",
              "      <th>race</th>\n",
              "      <th>sex</th>\n",
              "      <th>capital.gain</th>\n",
              "      <th>capital.loss</th>\n",
              "      <th>hours.per.week</th>\n",
              "      <th>native.country</th>\n",
              "      <th>income</th>\n",
              "    </tr>\n",
              "  </thead>\n",
              "  <tbody>\n",
              "    <tr>\n",
              "      <th>0</th>\n",
              "      <td>90</td>\n",
              "      <td>?</td>\n",
              "      <td>77053</td>\n",
              "      <td>HS-grad</td>\n",
              "      <td>9</td>\n",
              "      <td>Widowed</td>\n",
              "      <td>?</td>\n",
              "      <td>Not-in-family</td>\n",
              "      <td>White</td>\n",
              "      <td>Female</td>\n",
              "      <td>0</td>\n",
              "      <td>4356</td>\n",
              "      <td>40</td>\n",
              "      <td>United-States</td>\n",
              "      <td>&lt;=50K</td>\n",
              "    </tr>\n",
              "    <tr>\n",
              "      <th>1</th>\n",
              "      <td>82</td>\n",
              "      <td>Private</td>\n",
              "      <td>132870</td>\n",
              "      <td>HS-grad</td>\n",
              "      <td>9</td>\n",
              "      <td>Widowed</td>\n",
              "      <td>Exec-managerial</td>\n",
              "      <td>Not-in-family</td>\n",
              "      <td>White</td>\n",
              "      <td>Female</td>\n",
              "      <td>0</td>\n",
              "      <td>4356</td>\n",
              "      <td>18</td>\n",
              "      <td>United-States</td>\n",
              "      <td>&lt;=50K</td>\n",
              "    </tr>\n",
              "    <tr>\n",
              "      <th>2</th>\n",
              "      <td>66</td>\n",
              "      <td>?</td>\n",
              "      <td>186061</td>\n",
              "      <td>Some-college</td>\n",
              "      <td>10</td>\n",
              "      <td>Widowed</td>\n",
              "      <td>?</td>\n",
              "      <td>Unmarried</td>\n",
              "      <td>Black</td>\n",
              "      <td>Female</td>\n",
              "      <td>0</td>\n",
              "      <td>4356</td>\n",
              "      <td>40</td>\n",
              "      <td>United-States</td>\n",
              "      <td>&lt;=50K</td>\n",
              "    </tr>\n",
              "    <tr>\n",
              "      <th>3</th>\n",
              "      <td>54</td>\n",
              "      <td>Private</td>\n",
              "      <td>140359</td>\n",
              "      <td>7th-8th</td>\n",
              "      <td>4</td>\n",
              "      <td>Divorced</td>\n",
              "      <td>Machine-op-inspct</td>\n",
              "      <td>Unmarried</td>\n",
              "      <td>White</td>\n",
              "      <td>Female</td>\n",
              "      <td>0</td>\n",
              "      <td>3900</td>\n",
              "      <td>40</td>\n",
              "      <td>United-States</td>\n",
              "      <td>&lt;=50K</td>\n",
              "    </tr>\n",
              "    <tr>\n",
              "      <th>4</th>\n",
              "      <td>41</td>\n",
              "      <td>Private</td>\n",
              "      <td>264663</td>\n",
              "      <td>Some-college</td>\n",
              "      <td>10</td>\n",
              "      <td>Separated</td>\n",
              "      <td>Prof-specialty</td>\n",
              "      <td>Own-child</td>\n",
              "      <td>White</td>\n",
              "      <td>Female</td>\n",
              "      <td>0</td>\n",
              "      <td>3900</td>\n",
              "      <td>40</td>\n",
              "      <td>United-States</td>\n",
              "      <td>&lt;=50K</td>\n",
              "    </tr>\n",
              "  </tbody>\n",
              "</table>\n",
              "</div>\n",
              "      <button class=\"colab-df-convert\" onclick=\"convertToInteractive('df-5edf745e-817d-494d-ac44-6f3556abe9ff')\"\n",
              "              title=\"Convert this dataframe to an interactive table.\"\n",
              "              style=\"display:none;\">\n",
              "        \n",
              "  <svg xmlns=\"http://www.w3.org/2000/svg\" height=\"24px\"viewBox=\"0 0 24 24\"\n",
              "       width=\"24px\">\n",
              "    <path d=\"M0 0h24v24H0V0z\" fill=\"none\"/>\n",
              "    <path d=\"M18.56 5.44l.94 2.06.94-2.06 2.06-.94-2.06-.94-.94-2.06-.94 2.06-2.06.94zm-11 1L8.5 8.5l.94-2.06 2.06-.94-2.06-.94L8.5 2.5l-.94 2.06-2.06.94zm10 10l.94 2.06.94-2.06 2.06-.94-2.06-.94-.94-2.06-.94 2.06-2.06.94z\"/><path d=\"M17.41 7.96l-1.37-1.37c-.4-.4-.92-.59-1.43-.59-.52 0-1.04.2-1.43.59L10.3 9.45l-7.72 7.72c-.78.78-.78 2.05 0 2.83L4 21.41c.39.39.9.59 1.41.59.51 0 1.02-.2 1.41-.59l7.78-7.78 2.81-2.81c.8-.78.8-2.07 0-2.86zM5.41 20L4 18.59l7.72-7.72 1.47 1.35L5.41 20z\"/>\n",
              "  </svg>\n",
              "      </button>\n",
              "      \n",
              "  <style>\n",
              "    .colab-df-container {\n",
              "      display:flex;\n",
              "      flex-wrap:wrap;\n",
              "      gap: 12px;\n",
              "    }\n",
              "\n",
              "    .colab-df-convert {\n",
              "      background-color: #E8F0FE;\n",
              "      border: none;\n",
              "      border-radius: 50%;\n",
              "      cursor: pointer;\n",
              "      display: none;\n",
              "      fill: #1967D2;\n",
              "      height: 32px;\n",
              "      padding: 0 0 0 0;\n",
              "      width: 32px;\n",
              "    }\n",
              "\n",
              "    .colab-df-convert:hover {\n",
              "      background-color: #E2EBFA;\n",
              "      box-shadow: 0px 1px 2px rgba(60, 64, 67, 0.3), 0px 1px 3px 1px rgba(60, 64, 67, 0.15);\n",
              "      fill: #174EA6;\n",
              "    }\n",
              "\n",
              "    [theme=dark] .colab-df-convert {\n",
              "      background-color: #3B4455;\n",
              "      fill: #D2E3FC;\n",
              "    }\n",
              "\n",
              "    [theme=dark] .colab-df-convert:hover {\n",
              "      background-color: #434B5C;\n",
              "      box-shadow: 0px 1px 3px 1px rgba(0, 0, 0, 0.15);\n",
              "      filter: drop-shadow(0px 1px 2px rgba(0, 0, 0, 0.3));\n",
              "      fill: #FFFFFF;\n",
              "    }\n",
              "  </style>\n",
              "\n",
              "      <script>\n",
              "        const buttonEl =\n",
              "          document.querySelector('#df-5edf745e-817d-494d-ac44-6f3556abe9ff button.colab-df-convert');\n",
              "        buttonEl.style.display =\n",
              "          google.colab.kernel.accessAllowed ? 'block' : 'none';\n",
              "\n",
              "        async function convertToInteractive(key) {\n",
              "          const element = document.querySelector('#df-5edf745e-817d-494d-ac44-6f3556abe9ff');\n",
              "          const dataTable =\n",
              "            await google.colab.kernel.invokeFunction('convertToInteractive',\n",
              "                                                     [key], {});\n",
              "          if (!dataTable) return;\n",
              "\n",
              "          const docLinkHtml = 'Like what you see? Visit the ' +\n",
              "            '<a target=\"_blank\" href=https://colab.research.google.com/notebooks/data_table.ipynb>data table notebook</a>'\n",
              "            + ' to learn more about interactive tables.';\n",
              "          element.innerHTML = '';\n",
              "          dataTable['output_type'] = 'display_data';\n",
              "          await google.colab.output.renderOutput(dataTable, element);\n",
              "          const docLink = document.createElement('div');\n",
              "          docLink.innerHTML = docLinkHtml;\n",
              "          element.appendChild(docLink);\n",
              "        }\n",
              "      </script>\n",
              "    </div>\n",
              "  </div>\n",
              "  "
            ]
          },
          "metadata": {},
          "execution_count": 4
        }
      ]
    },
    {
      "cell_type": "markdown",
      "source": [
        "**About the Dataset**\n",
        "```*Age: Describes the age of individuals. Continuous.\n",
        "Workclass: Private, Self-emp-not-inc, Self-emp-inc, Federal-gov, Local-gov, State-gov, Without-pay, Never-worked.\n",
        "fnlwgt: Continuous.\n",
        "education: Bachelors, Some-college, 11th, HS-grad, Prof-school, Assoc-acdm, Assoc-voc, 9th, 7th-8th, 12th, Masters, 1st-4th, 10th, Doctorate, 5th-6th, Preschool.\n",
        "education-num: Number of years spent in education. Continuous.\n",
        "marital-status: Married-civ-spouse, Divorced, Never-married, Separated, Widowed, Married-spouse-absent, Married-AF-spouse.\n",
        "occupation: Tech-support, Craft-repair, Other-service, Sales, Exec-managerial, Prof-specialty, Handlers-cleaners, Machine-op-inspct, Adm-clerical, Farming-fishing, Transport-moving, Priv-house-serv, Protective-serv, Armed-Forces.\n",
        "relationship: Wife, Own-child, Husband, Not-in-family, Other-relative, Unmarried.\n",
        "race: White, Asian-Pac-Islander, Amer-Indian-Eskimo, Other, Black.\n",
        "sex: Female, Male.\n",
        "capital-gain: Continuous.\n",
        "capital-loss: Continuous.\n",
        "hours-per-week: Continuous.\n",
        "native-country: United-States, Cambodia, England, Puerto-Rico, Canada, Germany, Outlying-US(Guam-USVI-etc), India, Japan, Greece, South, China, Cuba, Iran, Honduras, Philippines, Italy, Poland, Jamaica, Vietnam, Mexico, Portugal, Ireland, France, Dominican-Republic, Laos, Ecuador, Taiwan, Haiti, Columbia, Hungary, Guatemala, Nicaragua, Scotland, Thailand, Yugoslavia, El-Salvador, Trinadad&Tobago, Peru, Hong, Holand-Netherlands.\n",
        "salary: >50K,<=50K  ---- CLASSIFICATION Target\n",
        "\n",
        "```\n",
        "\n"
      ],
      "metadata": {
        "id": "JHRJKM6_m692"
      }
    },
    {
      "cell_type": "code",
      "source": [
        "exclude_atribute=[ \"fnlwgt\", 'education.num', 'capital.gain', 'capital.loss']\n",
        "for att in exclude_atribute:\n",
        "  del df[att]\n",
        "df.head()\n"
      ],
      "metadata": {
        "colab": {
          "base_uri": "https://localhost:8080/",
          "height": 206
        },
        "id": "8Z4YT1nknpti",
        "outputId": "c24004c7-5ae6-47f7-d8d5-1a64405ae47c"
      },
      "execution_count": null,
      "outputs": [
        {
          "output_type": "execute_result",
          "data": {
            "text/plain": [
              "   age workclass     education marital.status         occupation  \\\n",
              "0   90         ?       HS-grad        Widowed                  ?   \n",
              "1   82   Private       HS-grad        Widowed    Exec-managerial   \n",
              "2   66         ?  Some-college        Widowed                  ?   \n",
              "3   54   Private       7th-8th       Divorced  Machine-op-inspct   \n",
              "4   41   Private  Some-college      Separated     Prof-specialty   \n",
              "\n",
              "    relationship   race     sex  hours.per.week native.country income  \n",
              "0  Not-in-family  White  Female              40  United-States  <=50K  \n",
              "1  Not-in-family  White  Female              18  United-States  <=50K  \n",
              "2      Unmarried  Black  Female              40  United-States  <=50K  \n",
              "3      Unmarried  White  Female              40  United-States  <=50K  \n",
              "4      Own-child  White  Female              40  United-States  <=50K  "
            ],
            "text/html": [
              "\n",
              "  <div id=\"df-c03c0dc9-a03e-44ba-a3ae-a7e1bdd5f7bb\">\n",
              "    <div class=\"colab-df-container\">\n",
              "      <div>\n",
              "<style scoped>\n",
              "    .dataframe tbody tr th:only-of-type {\n",
              "        vertical-align: middle;\n",
              "    }\n",
              "\n",
              "    .dataframe tbody tr th {\n",
              "        vertical-align: top;\n",
              "    }\n",
              "\n",
              "    .dataframe thead th {\n",
              "        text-align: right;\n",
              "    }\n",
              "</style>\n",
              "<table border=\"1\" class=\"dataframe\">\n",
              "  <thead>\n",
              "    <tr style=\"text-align: right;\">\n",
              "      <th></th>\n",
              "      <th>age</th>\n",
              "      <th>workclass</th>\n",
              "      <th>education</th>\n",
              "      <th>marital.status</th>\n",
              "      <th>occupation</th>\n",
              "      <th>relationship</th>\n",
              "      <th>race</th>\n",
              "      <th>sex</th>\n",
              "      <th>hours.per.week</th>\n",
              "      <th>native.country</th>\n",
              "      <th>income</th>\n",
              "    </tr>\n",
              "  </thead>\n",
              "  <tbody>\n",
              "    <tr>\n",
              "      <th>0</th>\n",
              "      <td>90</td>\n",
              "      <td>?</td>\n",
              "      <td>HS-grad</td>\n",
              "      <td>Widowed</td>\n",
              "      <td>?</td>\n",
              "      <td>Not-in-family</td>\n",
              "      <td>White</td>\n",
              "      <td>Female</td>\n",
              "      <td>40</td>\n",
              "      <td>United-States</td>\n",
              "      <td>&lt;=50K</td>\n",
              "    </tr>\n",
              "    <tr>\n",
              "      <th>1</th>\n",
              "      <td>82</td>\n",
              "      <td>Private</td>\n",
              "      <td>HS-grad</td>\n",
              "      <td>Widowed</td>\n",
              "      <td>Exec-managerial</td>\n",
              "      <td>Not-in-family</td>\n",
              "      <td>White</td>\n",
              "      <td>Female</td>\n",
              "      <td>18</td>\n",
              "      <td>United-States</td>\n",
              "      <td>&lt;=50K</td>\n",
              "    </tr>\n",
              "    <tr>\n",
              "      <th>2</th>\n",
              "      <td>66</td>\n",
              "      <td>?</td>\n",
              "      <td>Some-college</td>\n",
              "      <td>Widowed</td>\n",
              "      <td>?</td>\n",
              "      <td>Unmarried</td>\n",
              "      <td>Black</td>\n",
              "      <td>Female</td>\n",
              "      <td>40</td>\n",
              "      <td>United-States</td>\n",
              "      <td>&lt;=50K</td>\n",
              "    </tr>\n",
              "    <tr>\n",
              "      <th>3</th>\n",
              "      <td>54</td>\n",
              "      <td>Private</td>\n",
              "      <td>7th-8th</td>\n",
              "      <td>Divorced</td>\n",
              "      <td>Machine-op-inspct</td>\n",
              "      <td>Unmarried</td>\n",
              "      <td>White</td>\n",
              "      <td>Female</td>\n",
              "      <td>40</td>\n",
              "      <td>United-States</td>\n",
              "      <td>&lt;=50K</td>\n",
              "    </tr>\n",
              "    <tr>\n",
              "      <th>4</th>\n",
              "      <td>41</td>\n",
              "      <td>Private</td>\n",
              "      <td>Some-college</td>\n",
              "      <td>Separated</td>\n",
              "      <td>Prof-specialty</td>\n",
              "      <td>Own-child</td>\n",
              "      <td>White</td>\n",
              "      <td>Female</td>\n",
              "      <td>40</td>\n",
              "      <td>United-States</td>\n",
              "      <td>&lt;=50K</td>\n",
              "    </tr>\n",
              "  </tbody>\n",
              "</table>\n",
              "</div>\n",
              "      <button class=\"colab-df-convert\" onclick=\"convertToInteractive('df-c03c0dc9-a03e-44ba-a3ae-a7e1bdd5f7bb')\"\n",
              "              title=\"Convert this dataframe to an interactive table.\"\n",
              "              style=\"display:none;\">\n",
              "        \n",
              "  <svg xmlns=\"http://www.w3.org/2000/svg\" height=\"24px\"viewBox=\"0 0 24 24\"\n",
              "       width=\"24px\">\n",
              "    <path d=\"M0 0h24v24H0V0z\" fill=\"none\"/>\n",
              "    <path d=\"M18.56 5.44l.94 2.06.94-2.06 2.06-.94-2.06-.94-.94-2.06-.94 2.06-2.06.94zm-11 1L8.5 8.5l.94-2.06 2.06-.94-2.06-.94L8.5 2.5l-.94 2.06-2.06.94zm10 10l.94 2.06.94-2.06 2.06-.94-2.06-.94-.94-2.06-.94 2.06-2.06.94z\"/><path d=\"M17.41 7.96l-1.37-1.37c-.4-.4-.92-.59-1.43-.59-.52 0-1.04.2-1.43.59L10.3 9.45l-7.72 7.72c-.78.78-.78 2.05 0 2.83L4 21.41c.39.39.9.59 1.41.59.51 0 1.02-.2 1.41-.59l7.78-7.78 2.81-2.81c.8-.78.8-2.07 0-2.86zM5.41 20L4 18.59l7.72-7.72 1.47 1.35L5.41 20z\"/>\n",
              "  </svg>\n",
              "      </button>\n",
              "      \n",
              "  <style>\n",
              "    .colab-df-container {\n",
              "      display:flex;\n",
              "      flex-wrap:wrap;\n",
              "      gap: 12px;\n",
              "    }\n",
              "\n",
              "    .colab-df-convert {\n",
              "      background-color: #E8F0FE;\n",
              "      border: none;\n",
              "      border-radius: 50%;\n",
              "      cursor: pointer;\n",
              "      display: none;\n",
              "      fill: #1967D2;\n",
              "      height: 32px;\n",
              "      padding: 0 0 0 0;\n",
              "      width: 32px;\n",
              "    }\n",
              "\n",
              "    .colab-df-convert:hover {\n",
              "      background-color: #E2EBFA;\n",
              "      box-shadow: 0px 1px 2px rgba(60, 64, 67, 0.3), 0px 1px 3px 1px rgba(60, 64, 67, 0.15);\n",
              "      fill: #174EA6;\n",
              "    }\n",
              "\n",
              "    [theme=dark] .colab-df-convert {\n",
              "      background-color: #3B4455;\n",
              "      fill: #D2E3FC;\n",
              "    }\n",
              "\n",
              "    [theme=dark] .colab-df-convert:hover {\n",
              "      background-color: #434B5C;\n",
              "      box-shadow: 0px 1px 3px 1px rgba(0, 0, 0, 0.15);\n",
              "      filter: drop-shadow(0px 1px 2px rgba(0, 0, 0, 0.3));\n",
              "      fill: #FFFFFF;\n",
              "    }\n",
              "  </style>\n",
              "\n",
              "      <script>\n",
              "        const buttonEl =\n",
              "          document.querySelector('#df-c03c0dc9-a03e-44ba-a3ae-a7e1bdd5f7bb button.colab-df-convert');\n",
              "        buttonEl.style.display =\n",
              "          google.colab.kernel.accessAllowed ? 'block' : 'none';\n",
              "\n",
              "        async function convertToInteractive(key) {\n",
              "          const element = document.querySelector('#df-c03c0dc9-a03e-44ba-a3ae-a7e1bdd5f7bb');\n",
              "          const dataTable =\n",
              "            await google.colab.kernel.invokeFunction('convertToInteractive',\n",
              "                                                     [key], {});\n",
              "          if (!dataTable) return;\n",
              "\n",
              "          const docLinkHtml = 'Like what you see? Visit the ' +\n",
              "            '<a target=\"_blank\" href=https://colab.research.google.com/notebooks/data_table.ipynb>data table notebook</a>'\n",
              "            + ' to learn more about interactive tables.';\n",
              "          element.innerHTML = '';\n",
              "          dataTable['output_type'] = 'display_data';\n",
              "          await google.colab.output.renderOutput(dataTable, element);\n",
              "          const docLink = document.createElement('div');\n",
              "          docLink.innerHTML = docLinkHtml;\n",
              "          element.appendChild(docLink);\n",
              "        }\n",
              "      </script>\n",
              "    </div>\n",
              "  </div>\n",
              "  "
            ]
          },
          "metadata": {},
          "execution_count": 5
        }
      ]
    },
    {
      "cell_type": "code",
      "source": [
        "df[df == '?'] = np.nan\n",
        "df.info()"
      ],
      "metadata": {
        "colab": {
          "base_uri": "https://localhost:8080/"
        },
        "id": "kU54TKwCqwQD",
        "outputId": "f06e085e-e418-4fa3-ea00-2fd7e8461087"
      },
      "execution_count": null,
      "outputs": [
        {
          "output_type": "stream",
          "name": "stdout",
          "text": [
            "<class 'pandas.core.frame.DataFrame'>\n",
            "RangeIndex: 32561 entries, 0 to 32560\n",
            "Data columns (total 11 columns):\n",
            " #   Column          Non-Null Count  Dtype \n",
            "---  ------          --------------  ----- \n",
            " 0   age             32561 non-null  int64 \n",
            " 1   workclass       30725 non-null  object\n",
            " 2   education       32561 non-null  object\n",
            " 3   marital.status  32561 non-null  object\n",
            " 4   occupation      30718 non-null  object\n",
            " 5   relationship    32561 non-null  object\n",
            " 6   race            32561 non-null  object\n",
            " 7   sex             32561 non-null  object\n",
            " 8   hours.per.week  32561 non-null  int64 \n",
            " 9   native.country  31978 non-null  object\n",
            " 10  income          32561 non-null  object\n",
            "dtypes: int64(2), object(9)\n",
            "memory usage: 2.7+ MB\n"
          ]
        }
      ]
    },
    {
      "cell_type": "markdown",
      "source": [
        "Observation:\n",
        "```\n",
        "We can see that the columns workclass, occupation, and native.country contains null values. We would have to find out a way to deal with them!\n",
        "There can be many ways to impute missing values, but right now, for the sake of simplicity we would impute them using mode!\n",
        "```\n",
        "\n"
      ],
      "metadata": {
        "id": "Ela4z68crHTI"
      }
    },
    {
      "cell_type": "code",
      "source": [
        "for col in ['workclass', 'occupation', 'native.country']:\n",
        "    df[col].fillna(df[col].mode()[0], inplace=True)"
      ],
      "metadata": {
        "id": "bW_iMWP7rFzl"
      },
      "execution_count": null,
      "outputs": []
    },
    {
      "cell_type": "code",
      "source": [
        "#Before beginning, let us understand a bit about our data.\n",
        "# to see more statistics wisit https://www.kaggle.com/code/aditimulye/adult-income-dataset-from-scratch\n",
        "sns.set_style(\"whitegrid\")\n",
        "plt.figure(figsize = (8,5))\n",
        "plt.title('Income Distribution of Adults', fontsize=18, fontweight='bold')\n",
        "eda_percentage = df['income'].value_counts(normalize = True).rename_axis('income').reset_index(name = 'Percentage')\n",
        "\n",
        "ax = sns.barplot(x = 'income', y = 'Percentage', data = eda_percentage.head(10), palette='Greens_r')\n",
        "for p in ax.patches:\n",
        "    width = p.get_width()\n",
        "    height = p.get_height()\n",
        "    x, y = p.get_xy()\n",
        "    ax.annotate(f'{height:.0%}', (x + width/2, y + height*1.02), ha='center', fontweight='bold')"
      ],
      "metadata": {
        "colab": {
          "base_uri": "https://localhost:8080/",
          "height": 354
        },
        "id": "neTOYsLFrehm",
        "outputId": "bdb62e2a-51b4-4358-fcd5-10e1970291b8"
      },
      "execution_count": null,
      "outputs": [
        {
          "output_type": "display_data",
          "data": {
            "text/plain": [
              "<Figure size 576x360 with 1 Axes>"
            ],
            "image/png": "[encoded data removed]"
          },
          "metadata": {}
        }
      ]
    },
    {
      "cell_type": "markdown",
      "source": [
        "Data preparation for a model implementation"
      ],
      "metadata": {
        "id": "xYs5sZHir9BY"
      }
    },
    {
      "cell_type": "code",
      "source": [
        "from sklearn.preprocessing import LabelEncoder\n",
        "categorical = ['workclass','education', 'marital.status', 'occupation', 'relationship',\n",
        "               'race', 'sex','native.country','income']\n",
        "label_encoder = LabelEncoder()\n",
        "for col in categorical:\n",
        "    label_encoder.fit(df[col])\n",
        "    df[col] = label_encoder.transform(df[col])\n",
        "\n",
        "from sklearn.model_selection import train_test_split\n",
        "X = df[['workclass','education', 'marital.status', 'occupation', 'relationship',\n",
        "               'race', 'sex','native.country', 'age', 'hours.per.week']]\n",
        "y = df['income']"
      ],
      "metadata": {
        "id": "pPmTNi_VsB7s"
      },
      "execution_count": null,
      "outputs": []
    },
    {
      "cell_type": "markdown",
      "source": [
        "#lets split data and do input feature transform."
      ],
      "metadata": {
        "id": "cdtYGt-8xzy_"
      }
    },
    {
      "cell_type": "code",
      "source": [
        "X_tr, X_te, y_train, y_test = train_test_split(X, y, test_size=0.3, random_state=RAND, shuffle=True, stratify=y)\n"
      ],
      "metadata": {
        "id": "1MDElFLXIp1_"
      },
      "execution_count": null,
      "outputs": []
    },
    {
      "cell_type": "code",
      "source": [
        "from sklearn.preprocessing import StandardScaler\n",
        "scaler = StandardScaler()\n",
        "scaler.fit(X_tr)\n",
        "X_train=scaler.transform(X_tr)\n",
        "X_test=scaler.transform(X_te)"
      ],
      "metadata": {
        "id": "tUJuxXCYRG_0"
      },
      "execution_count": null,
      "outputs": []
    },
    {
      "cell_type": "markdown",
      "source": [
        "## Lets implement the base line model. Your model should work much better :)"
      ],
      "metadata": {
        "id": "wCDXEgoBzchs"
      }
    },
    {
      "cell_type": "code",
      "source": [
        "nb_model = GaussianNB()\n",
        "nb_model.fit(X_train, y_train)\n",
        "y_pred = nb_model.predict(X_test)\n",
        "scores_nb=metrics.accuracy_score(y_test,y_pred)\n",
        "print(\"Base line accuracy = \", scores_nb)"
      ],
      "metadata": {
        "id": "SBWORuRwSoxo",
        "colab": {
          "base_uri": "https://localhost:8080/"
        },
        "outputId": "a1ca3c67-588e-4209-f856-461e8dc57d8a"
      },
      "execution_count": null,
      "outputs": [
        {
          "output_type": "stream",
          "name": "stdout",
          "text": [
            "Base line accuracy =  0.7590336779608967\n"
          ]
        }
      ]
    },
    {
      "cell_type": "code",
      "source": [
        "#saving model for latter use\n",
        "from joblib import dump, load\n",
        "dump(nb_model,'naive_Bayes_clasifier.joblib')"
      ],
      "metadata": {
        "colab": {
          "base_uri": "https://localhost:8080/"
        },
        "id": "HeYlylaZXefo",
        "outputId": "fcdf4689-1f97-44b6-fc24-a76f7d1e6690"
      },
      "execution_count": null,
      "outputs": [
        {
          "output_type": "execute_result",
          "data": {
            "text/plain": [
              "['naive_Bayes_clasifier.joblib']"
            ]
          },
          "metadata": {},
          "execution_count": 13
        }
      ]
    },
    {
      "cell_type": "code",
      "source": [
        "# Plot Confusion matrix\n",
        "classes = None\n",
        "cm = confusion_matrix(y_test, y_pred, labels=classes)\n",
        "disp = ConfusionMatrixDisplay(confusion_matrix=cm, display_labels=classes)\n",
        "disp = disp.plot(include_values=True, cmap='Blues', ax=None, xticks_rotation='horizontal')\n",
        "\n",
        "plt.grid(False)\n",
        "plt.show()"
      ],
      "metadata": {
        "colab": {
          "base_uri": "https://localhost:8080/",
          "height": 279
        },
        "id": "aITCslgDJnXT",
        "outputId": "35ae81d1-63eb-4964-ecd1-3cbc6ac357ee"
      },
      "execution_count": null,
      "outputs": [
        {
          "output_type": "display_data",
          "data": {
            "text/plain": [
              "<Figure size 432x288 with 2 Axes>"
            ],
            "image/png": "[encoded data removed]"
          },
          "metadata": {}
        }
      ]
    },
    {
      "cell_type": "code",
      "source": [
        "print(\"Base line Naive Baies metrics:\")\n",
        "print(\"- Accuracy  = %.3f\" % accuracy_score(y_test, y_pred))\n",
        "print(\"- ROC AUC   = %.3f\" % roc_auc_score(y_test, y_pred))\n",
        "# compute the classification report\n",
        "print(classification_report(y_test, y_pred))"
      ],
      "metadata": {
        "colab": {
          "base_uri": "https://localhost:8080/"
        },
        "id": "RNFmhLvCLH4n",
        "outputId": "e2de218c-deed-4729-ee4d-a192307499b2"
      },
      "execution_count": null,
      "outputs": [
        {
          "output_type": "stream",
          "name": "stdout",
          "text": [
            "Base line Naive Baies metrics:\n",
            "- Accuracy  = 0.759\n",
            "- ROC AUC   = 0.735\n",
            "              precision    recall  f1-score   support\n",
            "\n",
            "           0       0.89      0.78      0.83      7417\n",
            "           1       0.50      0.69      0.58      2352\n",
            "\n",
            "    accuracy                           0.76      9769\n",
            "   macro avg       0.69      0.74      0.71      9769\n",
            "weighted avg       0.79      0.76      0.77      9769\n",
            "\n"
          ]
        }
      ]
    },
    {
      "cell_type": "markdown",
      "source": [
        "-----------------------------------------------------------------------\n",
        "**Now, let's build your model; better than the base line.**\n",
        "-----------------------------------------------------------------------"
      ],
      "metadata": {
        "id": "44TxuLk9NAFr"
      }
    },
    {
      "cell_type": "markdown",
      "source": [
        "**The task 1.**\n",
        "Depending on the last digit of your student Internal code (abcde) build an \"optimal\" (i.e. better that the base line) classifier by variating specific *parameter*. Plot the accuracy cure depending on manipulated variable.\n",
        "The RAND variable is your student ID numbers RAND=\"bcde\".\n",
        "\n",
        "0. DecisionTreeClassifier(criterion='entropy', random_state=RAND, min_samples_split = `Variate from 2 till 15000 by some step`)\n",
        "1. DecisionTreeClassifier(criterion='gini', random_state=RAND, max_depth = `Variate from 2 till 100`)\n",
        "2. KNeighborsClassifier(n_neighbors=`Variate from 2 till 70`, p=2)\n",
        "3. KNeighborsClassifier(n_neighbors='Variate from 2 till 70', p=1)\n",
        "4. svm. SVC(random_state=RAND, kernel='linear', C=`Variate from 1 till 100`)\n",
        "5. svm.SVC(random_state=RAND, kernel='rbf', gamma=0.07, C=`Variate from 1 till 100`)\n",
        "6. svm.SVC(random_state=RAND,kernel='poly', degree=3, C=`Variate from 1 till 100`)\n",
        "7. svm.LinearSVC(random_state=RAND,C=`Variate from 1 till 100`)\n",
        "8. MLPClassifier(solver='lbfgs', alpha=1e-5, hidden_layer_sizes=(`Variate from 1 till 50`,), random_state=RAND)\n",
        "9. MLPClassifier(solver='lbfgs', alpha=1e-5, hidden_layer_sizes=(`Variate from 1 till 50`,5), random_state=RAND)"
      ],
      "metadata": {
        "id": "ndb9y7x9SZni"
      }
    },
    {
      "cell_type": "code",
      "source": [
        "RAND=\"bcde\" ## Student ID abcde"
      ],
      "metadata": {
        "id": "wg_Gt6RNsfy_"
      },
      "execution_count": null,
      "outputs": []
    },
    {
      "cell_type": "code",
      "source": [
        "variable_list=[10,11,12,13,31,50,55,77]\n",
        "rez=[]\n",
        "for i in variable_list:\n",
        "  clf = __Classifier__(--parameters--).fit(X_train, y_train) #<-line to code\n",
        "  y_pred = clf.predict(X_test)\n",
        "  scores=metrics.accuracy_score(y_test,y_pred)\n",
        "  rez.append(scores)\n",
        "\n",
        "plt.plot(variable_list, rez, c =\"blue\")\n",
        "plt.title('acc vs variable')\n",
        "plt.xlabel('variavble')\n",
        "plt.ylabel('Accuracy')\n",
        "# To show the plot\n",
        "plt.show()\n",
        "\n"
      ],
      "metadata": {
        "colab": {
          "base_uri": "https://localhost:8080/",
          "height": 130
        },
        "id": "ScJqsTSiM_Lf",
        "outputId": "e0304b14-2478-4799-d999-a5f2ead58306"
      },
      "execution_count": null,
      "outputs": [
        {
          "output_type": "error",
          "ename": "SyntaxError",
          "evalue": "ignored",
          "traceback": [
            "\u001b[0;36m  File \u001b[0;32m\"<ipython-input-17-2d803bbdb795>\"\u001b[0;36m, line \u001b[0;32m4\u001b[0m\n\u001b[0;31m    clf = __Classifier__(--parameters--).fit(X_train, y_train) #<-line to code\u001b[0m\n\u001b[0m                                       ^\u001b[0m\n\u001b[0;31mSyntaxError\u001b[0m\u001b[0;31m:\u001b[0m invalid syntax\n"
          ]
        }
      ]
    },
    {
      "cell_type": "markdown",
      "source": [
        "Task 2. Find variable with maximum and minimum accuracy;\n",
        "Train 2 classifiers ACC_min and ACC_max, Plot confusion matrix'es and calculate metrics"
      ],
      "metadata": {
        "id": "1uTcDpNteZSC"
      }
    },
    {
      "cell_type": "code",
      "source": [
        "max_i=variable_list[np.argmax(rez)]\n",
        "min_i=variable_list[np.argmin(rez)]\n",
        "clf_max = --Classifier--(\"n_neighbors=max_i\", \"some other params\").fit(X_train, y_train) # -- to code\n",
        "clf_min = --Classifier--(\"n_neighbors=min_i\", \"some other params\").fit(X_train, y_train) # -- to code\n",
        "y_pred_max = clf_max.predict(X_test)\n",
        "y_pred_min = clf_min.predict(X_test)"
      ],
      "metadata": {
        "id": "vBMHP1s4eS-o"
      },
      "execution_count": null,
      "outputs": []
    },
    {
      "cell_type": "code",
      "source": [
        "#save clf_max and clf_min as a two separate files\n",
        "#dump(model,'_Model_2_Name.joblib')"
      ],
      "metadata": {
        "id": "UH-5I7LbZ_D7"
      },
      "execution_count": null,
      "outputs": []
    },
    {
      "cell_type": "code",
      "source": [
        "#plot confusion matrixes of max min classifiers\n",
        "f, axes = plt.subplots(1, 2, figsize=(20, 5), sharey='row')\n",
        "cm = confusion_matrix(y_test, y_pred_max, labels=classes)\n",
        "disp = ConfusionMatrixDisplay(confusion_matrix=cm, display_labels=classes)\n",
        "disp = disp.plot(ax=axes[0], include_values=True, cmap='Blues',  xticks_rotation='horizontal')\n",
        "disp.ax_.set_title('ACC_max')\n",
        "plt.grid(False)\n",
        "\n",
        "cm = confusion_matrix(y_test, y_pred_min, labels=classes)\n",
        "disp = ConfusionMatrixDisplay(confusion_matrix=cm, display_labels=classes)\n",
        "disp = disp.plot(ax=axes[1], include_values=True, cmap='Blues', xticks_rotation='horizontal')\n",
        "disp.ax_.set_title('ACC_min')\n",
        "plt.grid(False)\n",
        "\n",
        "plt.subplots_adjust(wspace=0.40, hspace=0.1)\n",
        "plt.show()"
      ],
      "metadata": {
        "id": "wYRlfvxvc8NU"
      },
      "execution_count": null,
      "outputs": []
    },
    {
      "cell_type": "code",
      "source": [
        "# show accuracy metrics for clf_max and clf_min classifiers\n",
        "-- to code--"
      ],
      "metadata": {
        "id": "E_BFs5glj1LW"
      },
      "execution_count": null,
      "outputs": []
    },
    {
      "cell_type": "markdown",
      "source": [
        "Task 3: Load and stack 3 classifiers for ensamble learning (http://rasbt.github.io/mlxtend/user_guide/classifier/StackingClassifier/)"
      ],
      "metadata": {
        "id": "bC6_Mxkgk1lq"
      }
    },
    {
      "cell_type": "code",
      "source": [
        "# Load 3 saved models\n",
        "# model1=load('_model_1_name_,joblib')\n",
        "# model2=load('_model_2_name_,joblib')\n",
        "# model3=load('_model_3_name_,joblib')"
      ],
      "metadata": {
        "id": "wZYFRva1aLXz"
      },
      "execution_count": null,
      "outputs": []
    },
    {
      "cell_type": "code",
      "source": [
        "from sklearn import model_selection\n",
        "estimators = [('nb', model1),  ('clf_max', model2), ('clf_min', model3)]\n",
        "clf_stack = StackingClassifier(estimators=estimators, final_estimator=LogisticRegression())\n",
        "\n",
        "\n",
        "print('3-fold cross validation:\\n')\n",
        "\n",
        "for clf, label in zip([model1, model2, model3, clf_stack],\n",
        "                      ['Naive Bayes',\n",
        "                       'clf_max',\n",
        "                       'clf_min',\n",
        "                       'StackingClassifier']):\n",
        "\n",
        "    scores = model_selection.cross_val_score(clf, X_train, y_train,\n",
        "                                              cv=3, scoring='accuracy')\n",
        "    print(\"Accuracy: %0.3f (+/- %0.2f) [%s]\"\n",
        "          % (scores.mean(), scores.std(), label))\n",
        "\n"
      ],
      "metadata": {
        "id": "VggexoXPk7Vs"
      },
      "execution_count": null,
      "outputs": []
    },
    {
      "cell_type": "markdown",
      "source": [
        "Show confusion matrix of stacked classifiers \"clf_stack\" and print the statistics\n",
        "\n"
      ],
      "metadata": {
        "id": "T7xfOU5Xr4Qd"
      }
    },
    {
      "cell_type": "code",
      "source": [
        " -- to code --"
      ],
      "metadata": {
        "id": "HjRfaJrAWNvL"
      },
      "execution_count": null,
      "outputs": []
    },
    {
      "cell_type": "markdown",
      "source": [
        "Task 4. **Bonus**. Change *standart* scaler to *minmax* scaler for data preprocessing and reapeat all the task and extarct the conclusions."
      ],
      "metadata": {
        "id": "VK2bphmddEba"
      }
    },
    {
      "cell_type": "code",
      "source": [],
      "metadata": {
        "id": "iED1A0Vo3XCX"
      },
      "execution_count": null,
      "outputs": []
    }
  ]
}