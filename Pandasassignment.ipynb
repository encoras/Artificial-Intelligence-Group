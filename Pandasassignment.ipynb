{
  "cells": [
    {
      "cell_type": "markdown",
      "metadata": {
        "id": "view-in-github",
        "colab_type": "text"
      },
      "source": [
        "<a href=\"https://colab.research.google.com/github/encoras/Artificial-Intelligence-Group/blob/master/Pandasassignment.ipynb\" target=\"_parent\"><img src=\"https://colab.research.google.com/assets/colab-badge.svg\" alt=\"Open In Colab\"/></a>"
      ]
    },
    {
      "cell_type": "code",
      "execution_count": null,
      "metadata": {
        "id": "3O1udgJlgUds"
      },
      "outputs": [],
      "source": [
        "import numpy as np\n",
        "import pandas as pd\n",
        "\n",
        "from geopy.distance import vincenty\n",
        "import datetime\n",
        "import time"
      ]
    },
    {
      "cell_type": "markdown",
      "metadata": {
        "id": "cwiLmEwvgUd5"
      },
      "source": [
        "### The beginning\n"
      ]
    },
    {
      "cell_type": "markdown",
      "metadata": {
        "id": "g2K9jZflgUeA"
      },
      "source": [
        "#### Download individual file from https://s3.amazonaws.com/tripdata/index.html\n",
        "The file title is 'YYYYMM-citibike-tripdata.csv.zip'\n",
        "The LAST STUDENT digit from internal KTU code use for a Year definition i.e.\n",
        "*   {0,1}==2017\n",
        "*   {2,3}==2018\n",
        "*   {4,5}==2019\n",
        "*   {6,7,8,9}==2020\n",
        "*   \n",
        "\n",
        "Prefinal internal KTU code number - for mont definition MM=0x. if x=0, then MM=10\n",
        "> Dowload file: 'YYYYMM-citibike-tripdata.csv.zip'\n"
      ]
    },
    {
      "cell_type": "code",
      "execution_count": null,
      "metadata": {
        "id": "C6zBTGfsgUeD"
      },
      "outputs": [],
      "source": [
        "citybike = pd.read_csv('https://s3.amazonaws.com/tripdata/202003-citibike-tripdata.csv.zip')"
      ]
    },
    {
      "cell_type": "code",
      "execution_count": null,
      "metadata": {
        "id": "rdqOz8t9gUeF",
        "outputId": "fd850036-54a8-42a1-f76a-3d0cb8db8857",
        "colab": {
          "base_uri": "https://localhost:8080/",
          "height": 406
        }
      },
      "outputs": [
        {
          "output_type": "execute_result",
          "data": {
            "text/plain": [
              "   tripduration                 starttime                  stoptime  \\\n",
              "0          1589  2020-03-01 00:00:03.6400  2020-03-01 00:26:32.9860   \n",
              "1           389  2020-03-01 00:00:16.7560  2020-03-01 00:06:46.0620   \n",
              "2           614  2020-03-01 00:00:20.0580  2020-03-01 00:10:34.2200   \n",
              "3           597  2020-03-01 00:00:24.3510  2020-03-01 00:10:22.3390   \n",
              "4          1920  2020-03-01 00:00:26.1120  2020-03-01 00:32:26.2680   \n",
              "\n",
              "   start station id        start station name  start station latitude  \\\n",
              "0               224     Spruce St & Nassau St               40.711464   \n",
              "1               293     Lafayette St & E 8 St               40.730207   \n",
              "2               379           W 31 St & 7 Ave               40.749156   \n",
              "3              3739  Perry St & Greenwich Ave               40.735918   \n",
              "4               236       St Marks Pl & 2 Ave               40.728419   \n",
              "\n",
              "   start station longitude  end station id             end station name  \\\n",
              "0               -74.005524            3574  Prospect Pl & Underhill Ave   \n",
              "1               -73.991026             223              W 13 St & 7 Ave   \n",
              "2               -73.991600             515             W 43 St & 10 Ave   \n",
              "3               -74.000939             325              E 19 St & 3 Ave   \n",
              "4               -73.987140            3124                46 Ave & 5 St   \n",
              "\n",
              "   end station latitude  end station longitude  bikeid    usertype  \\\n",
              "0             40.676969             -73.965790   16214  Subscriber   \n",
              "1             40.737815             -73.999947   29994  Subscriber   \n",
              "2             40.760094             -73.994618   39853  Subscriber   \n",
              "3             40.736245             -73.984738   42608  Subscriber   \n",
              "4             40.747310             -73.954510   36288  Subscriber   \n",
              "\n",
              "   birth year  gender  \n",
              "0        1980       1  \n",
              "1        1991       2  \n",
              "2        1991       1  \n",
              "3        1989       1  \n",
              "4        1993       1  "
            ],
            "text/html": [
              "\n",
              "  <div id=\"df-864b8ad2-ace2-4899-9f1e-d780d13cd17e\">\n",
              "    <div class=\"colab-df-container\">\n",
              "      <div>\n",
              "<style scoped>\n",
              "    .dataframe tbody tr th:only-of-type {\n",
              "        vertical-align: middle;\n",
              "    }\n",
              "\n",
              "    .dataframe tbody tr th {\n",
              "        vertical-align: top;\n",
              "    }\n",
              "\n",
              "    .dataframe thead th {\n",
              "        text-align: right;\n",
              "    }\n",
              "</style>\n",
              "<table border=\"1\" class=\"dataframe\">\n",
              "  <thead>\n",
              "    <tr style=\"text-align: right;\">\n",
              "      <th></th>\n",
              "      <th>tripduration</th>\n",
              "      <th>starttime</th>\n",
              "      <th>stoptime</th>\n",
              "      <th>start station id</th>\n",
              "      <th>start station name</th>\n",
              "      <th>start station latitude</th>\n",
              "      <th>start station longitude</th>\n",
              "      <th>end station id</th>\n",
              "      <th>end station name</th>\n",
              "      <th>end station latitude</th>\n",
              "      <th>end station longitude</th>\n",
              "      <th>bikeid</th>\n",
              "      <th>usertype</th>\n",
              "      <th>birth year</th>\n",
              "      <th>gender</th>\n",
              "    </tr>\n",
              "  </thead>\n",
              "  <tbody>\n",
              "    <tr>\n",
              "      <th>0</th>\n",
              "      <td>1589</td>\n",
              "      <td>2020-03-01 00:00:03.6400</td>\n",
              "      <td>2020-03-01 00:26:32.9860</td>\n",
              "      <td>224</td>\n",
              "      <td>Spruce St &amp; Nassau St</td>\n",
              "      <td>40.711464</td>\n",
              "      <td>-74.005524</td>\n",
              "      <td>3574</td>\n",
              "      <td>Prospect Pl &amp; Underhill Ave</td>\n",
              "      <td>40.676969</td>\n",
              "      <td>-73.965790</td>\n",
              "      <td>16214</td>\n",
              "      <td>Subscriber</td>\n",
              "      <td>1980</td>\n",
              "      <td>1</td>\n",
              "    </tr>\n",
              "    <tr>\n",
              "      <th>1</th>\n",
              "      <td>389</td>\n",
              "      <td>2020-03-01 00:00:16.7560</td>\n",
              "      <td>2020-03-01 00:06:46.0620</td>\n",
              "      <td>293</td>\n",
              "      <td>Lafayette St &amp; E 8 St</td>\n",
              "      <td>40.730207</td>\n",
              "      <td>-73.991026</td>\n",
              "      <td>223</td>\n",
              "      <td>W 13 St &amp; 7 Ave</td>\n",
              "      <td>40.737815</td>\n",
              "      <td>-73.999947</td>\n",
              "      <td>29994</td>\n",
              "      <td>Subscriber</td>\n",
              "      <td>1991</td>\n",
              "      <td>2</td>\n",
              "    </tr>\n",
              "    <tr>\n",
              "      <th>2</th>\n",
              "      <td>614</td>\n",
              "      <td>2020-03-01 00:00:20.0580</td>\n",
              "      <td>2020-03-01 00:10:34.2200</td>\n",
              "      <td>379</td>\n",
              "      <td>W 31 St &amp; 7 Ave</td>\n",
              "      <td>40.749156</td>\n",
              "      <td>-73.991600</td>\n",
              "      <td>515</td>\n",
              "      <td>W 43 St &amp; 10 Ave</td>\n",
              "      <td>40.760094</td>\n",
              "      <td>-73.994618</td>\n",
              "      <td>39853</td>\n",
              "      <td>Subscriber</td>\n",
              "      <td>1991</td>\n",
              "      <td>1</td>\n",
              "    </tr>\n",
              "    <tr>\n",
              "      <th>3</th>\n",
              "      <td>597</td>\n",
              "      <td>2020-03-01 00:00:24.3510</td>\n",
              "      <td>2020-03-01 00:10:22.3390</td>\n",
              "      <td>3739</td>\n",
              "      <td>Perry St &amp; Greenwich Ave</td>\n",
              "      <td>40.735918</td>\n",
              "      <td>-74.000939</td>\n",
              "      <td>325</td>\n",
              "      <td>E 19 St &amp; 3 Ave</td>\n",
              "      <td>40.736245</td>\n",
              "      <td>-73.984738</td>\n",
              "      <td>42608</td>\n",
              "      <td>Subscriber</td>\n",
              "      <td>1989</td>\n",
              "      <td>1</td>\n",
              "    </tr>\n",
              "    <tr>\n",
              "      <th>4</th>\n",
              "      <td>1920</td>\n",
              "      <td>2020-03-01 00:00:26.1120</td>\n",
              "      <td>2020-03-01 00:32:26.2680</td>\n",
              "      <td>236</td>\n",
              "      <td>St Marks Pl &amp; 2 Ave</td>\n",
              "      <td>40.728419</td>\n",
              "      <td>-73.987140</td>\n",
              "      <td>3124</td>\n",
              "      <td>46 Ave &amp; 5 St</td>\n",
              "      <td>40.747310</td>\n",
              "      <td>-73.954510</td>\n",
              "      <td>36288</td>\n",
              "      <td>Subscriber</td>\n",
              "      <td>1993</td>\n",
              "      <td>1</td>\n",
              "    </tr>\n",
              "  </tbody>\n",
              "</table>\n",
              "</div>\n",
              "      <button class=\"colab-df-convert\" onclick=\"convertToInteractive('df-864b8ad2-ace2-4899-9f1e-d780d13cd17e')\"\n",
              "              title=\"Convert this dataframe to an interactive table.\"\n",
              "              style=\"display:none;\">\n",
              "        \n",
              "  <svg xmlns=\"http://www.w3.org/2000/svg\" height=\"24px\"viewBox=\"0 0 24 24\"\n",
              "       width=\"24px\">\n",
              "    <path d=\"M0 0h24v24H0V0z\" fill=\"none\"/>\n",
              "    <path d=\"M18.56 5.44l.94 2.06.94-2.06 2.06-.94-2.06-.94-.94-2.06-.94 2.06-2.06.94zm-11 1L8.5 8.5l.94-2.06 2.06-.94-2.06-.94L8.5 2.5l-.94 2.06-2.06.94zm10 10l.94 2.06.94-2.06 2.06-.94-2.06-.94-.94-2.06-.94 2.06-2.06.94z\"/><path d=\"M17.41 7.96l-1.37-1.37c-.4-.4-.92-.59-1.43-.59-.52 0-1.04.2-1.43.59L10.3 9.45l-7.72 7.72c-.78.78-.78 2.05 0 2.83L4 21.41c.39.39.9.59 1.41.59.51 0 1.02-.2 1.41-.59l7.78-7.78 2.81-2.81c.8-.78.8-2.07 0-2.86zM5.41 20L4 18.59l7.72-7.72 1.47 1.35L5.41 20z\"/>\n",
              "  </svg>\n",
              "      </button>\n",
              "      \n",
              "  <style>\n",
              "    .colab-df-container {\n",
              "      display:flex;\n",
              "      flex-wrap:wrap;\n",
              "      gap: 12px;\n",
              "    }\n",
              "\n",
              "    .colab-df-convert {\n",
              "      background-color: #E8F0FE;\n",
              "      border: none;\n",
              "      border-radius: 50%;\n",
              "      cursor: pointer;\n",
              "      display: none;\n",
              "      fill: #1967D2;\n",
              "      height: 32px;\n",
              "      padding: 0 0 0 0;\n",
              "      width: 32px;\n",
              "    }\n",
              "\n",
              "    .colab-df-convert:hover {\n",
              "      background-color: #E2EBFA;\n",
              "      box-shadow: 0px 1px 2px rgba(60, 64, 67, 0.3), 0px 1px 3px 1px rgba(60, 64, 67, 0.15);\n",
              "      fill: #174EA6;\n",
              "    }\n",
              "\n",
              "    [theme=dark] .colab-df-convert {\n",
              "      background-color: #3B4455;\n",
              "      fill: #D2E3FC;\n",
              "    }\n",
              "\n",
              "    [theme=dark] .colab-df-convert:hover {\n",
              "      background-color: #434B5C;\n",
              "      box-shadow: 0px 1px 3px 1px rgba(0, 0, 0, 0.15);\n",
              "      filter: drop-shadow(0px 1px 2px rgba(0, 0, 0, 0.3));\n",
              "      fill: #FFFFFF;\n",
              "    }\n",
              "  </style>\n",
              "\n",
              "      <script>\n",
              "        const buttonEl =\n",
              "          document.querySelector('#df-864b8ad2-ace2-4899-9f1e-d780d13cd17e button.colab-df-convert');\n",
              "        buttonEl.style.display =\n",
              "          google.colab.kernel.accessAllowed ? 'block' : 'none';\n",
              "\n",
              "        async function convertToInteractive(key) {\n",
              "          const element = document.querySelector('#df-864b8ad2-ace2-4899-9f1e-d780d13cd17e');\n",
              "          const dataTable =\n",
              "            await google.colab.kernel.invokeFunction('convertToInteractive',\n",
              "                                                     [key], {});\n",
              "          if (!dataTable) return;\n",
              "\n",
              "          const docLinkHtml = 'Like what you see? Visit the ' +\n",
              "            '<a target=\"_blank\" href=https://colab.research.google.com/notebooks/data_table.ipynb>data table notebook</a>'\n",
              "            + ' to learn more about interactive tables.';\n",
              "          element.innerHTML = '';\n",
              "          dataTable['output_type'] = 'display_data';\n",
              "          await google.colab.output.renderOutput(dataTable, element);\n",
              "          const docLink = document.createElement('div');\n",
              "          docLink.innerHTML = docLinkHtml;\n",
              "          element.appendChild(docLink);\n",
              "        }\n",
              "      </script>\n",
              "    </div>\n",
              "  </div>\n",
              "  "
            ]
          },
          "metadata": {},
          "execution_count": 4
        }
      ],
      "source": [
        "citybike.head()"
      ]
    },
    {
      "cell_type": "markdown",
      "metadata": {
        "id": "chK-TpUlgUeI"
      },
      "source": [
        "1. Find the total number of records and columns as well as statistics \"describe\" of the data. "
      ]
    },
    {
      "cell_type": "code",
      "execution_count": null,
      "metadata": {
        "scrolled": true,
        "id": "bX54NLnEgUeK"
      },
      "outputs": [],
      "source": [
        "citybike.????"
      ]
    },
    {
      "cell_type": "code",
      "source": [
        "citybike.???"
      ],
      "metadata": {
        "id": "QcDAtnZbtD_F"
      },
      "execution_count": null,
      "outputs": []
    },
    {
      "cell_type": "markdown",
      "source": [
        "2. Scatter plot data detween 'birth year' and 'tripduration' (use a **DF.plot.scatter**, s = 100) as well as **DF.plot.hist** of 'birth year' collumn into number of bins from your internal code 2 last digits xxxXX (bins=XX)."
      ],
      "metadata": {
        "id": "RyDdSj4aS9Rj"
      }
    },
    {
      "cell_type": "code",
      "source": [
        "citybike.plot.scatter(?????)"
      ],
      "metadata": {
        "id": "m2prralvq5Ot"
      },
      "execution_count": null,
      "outputs": []
    },
    {
      "cell_type": "code",
      "source": [
        "citybike['birth year'].?????"
      ],
      "metadata": {
        "id": "XiPc72RCT6jm"
      },
      "execution_count": null,
      "outputs": []
    },
    {
      "cell_type": "markdown",
      "metadata": {
        "id": "PqOOmUUDgUeM"
      },
      "source": [
        "Find average trip duration in minutes (column: tripduration) with 2 numbers precision (use 'round' function)."
      ]
    },
    {
      "cell_type": "code",
      "execution_count": null,
      "metadata": {
        "id": "VO7ZZCgdgUeO"
      },
      "outputs": [],
      "source": [
        "citybike['tripduration'].????"
      ]
    },
    {
      "cell_type": "markdown",
      "metadata": {
        "id": "GR5YsEu2gUeQ"
      },
      "source": [
        "How many trips have started and ended at the same station?"
      ]
    },
    {
      "cell_type": "code",
      "execution_count": null,
      "metadata": {
        "id": "GpBZel6rgUeS"
      },
      "outputs": [],
      "source": [
        "citybike?????"
      ]
    },
    {
      "cell_type": "markdown",
      "metadata": {
        "id": "92RnfB4-gUeT"
      },
      "source": [
        "How many trips have stared and ended at the same station with the UNIQUE bike_ID? (i.e. DF.unique().shape)"
      ]
    },
    {
      "cell_type": "code",
      "execution_count": null,
      "metadata": {
        "id": "t1n3AKbdgUeU"
      },
      "outputs": [],
      "source": [
        "citybike?????????"
      ]
    },
    {
      "cell_type": "markdown",
      "metadata": {
        "id": "6uXpvSXogUeV"
      },
      "source": [
        "Which bike was most offten used (bikeid) in a town and how many times? "
      ]
    },
    {
      "cell_type": "code",
      "execution_count": null,
      "metadata": {
        "id": "Qi438As7gUeW"
      },
      "outputs": [],
      "source": [
        "citybike['bikeid'].?????????"
      ]
    },
    {
      "cell_type": "markdown",
      "metadata": {
        "id": "es7dMXWagUeX"
      },
      "source": [
        "Find a bike (bikeid), who had the longest trip duration on average. (i.e. use a **DF.mean()** and **sort_values()**)"
      ]
    },
    {
      "cell_type": "code",
      "execution_count": null,
      "metadata": {
        "scrolled": true,
        "id": "kaSp5KGdgUeY"
      },
      "outputs": [],
      "source": [
        "citybike.groupby('bikeid')['tripduration'].?????????"
      ]
    },
    {
      "cell_type": "markdown",
      "metadata": {
        "id": "LEmtA9-zgUeZ"
      },
      "source": [
        "Find the number of missing records (i.e. null) in the column 'start station id'."
      ]
    },
    {
      "cell_type": "code",
      "execution_count": null,
      "metadata": {
        "id": "ugWv2YylgUea"
      },
      "outputs": [],
      "source": [
        "citybike?????????"
      ]
    },
    {
      "cell_type": "markdown",
      "metadata": {
        "id": "btxb5KB1gUec"
      },
      "source": [
        "Find the average distance between stations (apriory removing lines: start station id = end station id). \n",
        "\n",
        "Hint: use the library **geopy** and distance measure **vincenty** (min distance between two geo locations)\n"
      ]
    },
    {
      "cell_type": "code",
      "execution_count": null,
      "metadata": {
        "id": "QlJBYlcRgUed"
      },
      "outputs": [],
      "source": [
        "citybike['distance_km'] = citybike.apply(lambda x: vincenty((x['start station latitude'], x['start station longitude']),\n",
        "                                                            (x['end station latitude'], x['end station longitude'])).kilometers, axis=1)\n",
        "\n",
        "\n"
      ]
    }
  ],
  "metadata": {
    "kernelspec": {
      "display_name": "Python 3",
      "language": "python",
      "name": "python3"
    },
    "language_info": {
      "codemirror_mode": {
        "name": "ipython",
        "version": 3
      },
      "file_extension": ".py",
      "mimetype": "text/x-python",
      "name": "python",
      "nbconvert_exporter": "python",
      "pygments_lexer": "ipython3",
      "version": "3.5.2"
    },
    "toc": {
      "nav_menu": {},
      "number_sections": true,
      "sideBar": true,
      "skip_h1_title": false,
      "toc_cell": false,
      "toc_position": {},
      "toc_section_display": "block",
      "toc_window_display": false
    },
    "varInspector": {
      "cols": {
        "lenName": 16,
        "lenType": 16,
        "lenVar": 40
      },
      "kernels_config": {
        "python": {
          "delete_cmd_postfix": "",
          "delete_cmd_prefix": "del ",
          "library": "var_list.py",
          "varRefreshCmd": "print(var_dic_list())"
        },
        "r": {
          "delete_cmd_postfix": ") ",
          "delete_cmd_prefix": "rm(",
          "library": "var_list.r",
          "varRefreshCmd": "cat(var_dic_list()) "
        }
      },
      "types_to_exclude": [
        "module",
        "function",
        "builtin_function_or_method",
        "instance",
        "_Feature"
      ],
      "window_display": false
    },
    "colab": {
      "provenance": [],
      "include_colab_link": true
    }
  },
  "nbformat": 4,
  "nbformat_minor": 0
}