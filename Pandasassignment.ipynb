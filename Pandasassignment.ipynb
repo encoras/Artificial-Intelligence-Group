{
  "cells": [
    {
      "cell_type": "markdown",
      "metadata": {
        "id": "view-in-github",
        "colab_type": "text"
      },
      "source": [
        "<a href=\"https://colab.research.google.com/github/encoras/Artificial-Intelligence-Group/blob/master/Pandasassignment.ipynb\" target=\"_parent\"><img src=\"https://colab.research.google.com/assets/colab-badge.svg\" alt=\"Open In Colab\"/></a>"
      ]
    },
    {
      "cell_type": "code",
      "execution_count": 1,
      "metadata": {
        "id": "3O1udgJlgUds"
      },
      "outputs": [],
      "source": [
        "import numpy as np\n",
        "import pandas as pd\n",
        "\n",
        "from geopy.distance import geodesic\n",
        "import datetime\n",
        "import time"
      ]
    },
    {
      "cell_type": "markdown",
      "metadata": {
        "id": "cwiLmEwvgUd5"
      },
      "source": [
        "### The beginning\n"
      ]
    },
    {
      "cell_type": "markdown",
      "metadata": {
        "id": "g2K9jZflgUeA"
      },
      "source": [
        "#### Download individual file from https://s3.amazonaws.com/tripdata/index.html\n",
        "The file title is 'YYYYMM-citibike-tripdata.csv.zip'\n",
        "The LAST STUDENT digit from internal KTU code use for a Year definition i.e.\n",
        "*   {0,1}==2017\n",
        "*   {2,3}==2018\n",
        "*   {4,5}==2019\n",
        "*   {6,7,8,9}==2020\n",
        "*   \n",
        "\n",
        "Prefinal internal KTU code number - for mont definition MM=0x. if x=0, then MM=10\n",
        "> Dowload file: 'YYYYMM-citibike-tripdata.csv.zip'\n"
      ]
    },
    {
      "cell_type": "code",
      "source": [
        "!mkdir 'data'\n",
        "import urllib\n",
        "import zipfile\n",
        "\n",
        "url = \"https://s3.amazonaws.com/tripdata/2019-citibike-tripdata.zip\"\n",
        "extract_dir = 'data'\n",
        "\n",
        "zip_path, _ = urllib.request.urlretrieve(url)\n",
        "with zipfile.ZipFile(zip_path, \"r\") as f:\n",
        "    f.extractall(extract_dir)\n",
        ""
      ],
      "metadata": {
        "id": "KdBh6gJiRRot"
      },
      "execution_count": 2,
      "outputs": []
    },
    {
      "cell_type": "code",
      "execution_count": 3,
      "metadata": {
        "id": "C6zBTGfsgUeD"
      },
      "outputs": [],
      "source": [
        "citybike = pd.read_csv('/content/data/2019-citibike-tripdata/1_January/201901-citibike-tripdata_1.csv')"
      ]
    },
    {
      "cell_type": "code",
      "execution_count": 4,
      "metadata": {
        "id": "rdqOz8t9gUeF",
        "outputId": "c2b48770-5688-4b8a-c66c-1e6d478d5102",
        "colab": {
          "base_uri": "https://localhost:8080/",
          "height": 310
        }
      },
      "outputs": [
        {
          "output_type": "execute_result",
          "data": {
            "text/plain": [
              "   tripduration                 starttime                  stoptime  \\\n",
              "0           320  2019-01-01 00:01:47.4010  2019-01-01 00:07:07.5810   \n",
              "1           316  2019-01-01 00:04:43.7360  2019-01-01 00:10:00.6080   \n",
              "2           591  2019-01-01 00:06:03.9970  2019-01-01 00:15:55.4380   \n",
              "3          2719  2019-01-01 00:07:03.5450  2019-01-01 00:52:22.6500   \n",
              "4           303  2019-01-01 00:07:35.9450  2019-01-01 00:12:39.5020   \n",
              "\n",
              "   start station id           start station name  start station latitude  \\\n",
              "0            3160.0  Central Park West & W 76 St               40.778968   \n",
              "1             519.0        Pershing Square North               40.751873   \n",
              "2            3171.0      Amsterdam Ave & W 82 St               40.785247   \n",
              "3             504.0              1 Ave & E 16 St               40.732219   \n",
              "4             229.0               Great Jones St               40.727434   \n",
              "\n",
              "   start station longitude  end station id        end station name  \\\n",
              "0               -73.973747          3283.0  W 89 St & Columbus Ave   \n",
              "1               -73.977706           518.0         E 39 St & 2 Ave   \n",
              "2               -73.976673          3154.0         E 77 St & 3 Ave   \n",
              "3               -73.981656          3709.0         W 15 St & 6 Ave   \n",
              "4               -73.993790           503.0      E 20 St & Park Ave   \n",
              "\n",
              "   end station latitude  end station longitude  bikeid    usertype  \\\n",
              "0             40.788221             -73.970416   15839  Subscriber   \n",
              "1             40.747804             -73.973442   32723  Subscriber   \n",
              "2             40.773142             -73.958562   27451  Subscriber   \n",
              "3             40.738046             -73.996430   21579  Subscriber   \n",
              "4             40.738274             -73.987520   35379  Subscriber   \n",
              "\n",
              "   birth year  gender  \n",
              "0        1971       1  \n",
              "1        1964       1  \n",
              "2        1987       1  \n",
              "3        1990       1  \n",
              "4        1979       1  "
            ],
            "text/html": [
              "\n",
              "  <div id=\"df-30e161d6-2204-49e4-9011-392ffbb67919\" class=\"colab-df-container\">\n",
              "    <div>\n",
              "<style scoped>\n",
              "    .dataframe tbody tr th:only-of-type {\n",
              "        vertical-align: middle;\n",
              "    }\n",
              "\n",
              "    .dataframe tbody tr th {\n",
              "        vertical-align: top;\n",
              "    }\n",
              "\n",
              "    .dataframe thead th {\n",
              "        text-align: right;\n",
              "    }\n",
              "</style>\n",
              "<table border=\"1\" class=\"dataframe\">\n",
              "  <thead>\n",
              "    <tr style=\"text-align: right;\">\n",
              "      <th></th>\n",
              "      <th>tripduration</th>\n",
              "      <th>starttime</th>\n",
              "      <th>stoptime</th>\n",
              "      <th>start station id</th>\n",
              "      <th>start station name</th>\n",
              "      <th>start station latitude</th>\n",
              "      <th>start station longitude</th>\n",
              "      <th>end station id</th>\n",
              "      <th>end station name</th>\n",
              "      <th>end station latitude</th>\n",
              "      <th>end station longitude</th>\n",
              "      <th>bikeid</th>\n",
              "      <th>usertype</th>\n",
              "      <th>birth year</th>\n",
              "      <th>gender</th>\n",
              "    </tr>\n",
              "  </thead>\n",
              "  <tbody>\n",
              "    <tr>\n",
              "      <th>0</th>\n",
              "      <td>320</td>\n",
              "      <td>2019-01-01 00:01:47.4010</td>\n",
              "      <td>2019-01-01 00:07:07.5810</td>\n",
              "      <td>3160.0</td>\n",
              "      <td>Central Park West &amp; W 76 St</td>\n",
              "      <td>40.778968</td>\n",
              "      <td>-73.973747</td>\n",
              "      <td>3283.0</td>\n",
              "      <td>W 89 St &amp; Columbus Ave</td>\n",
              "      <td>40.788221</td>\n",
              "      <td>-73.970416</td>\n",
              "      <td>15839</td>\n",
              "      <td>Subscriber</td>\n",
              "      <td>1971</td>\n",
              "      <td>1</td>\n",
              "    </tr>\n",
              "    <tr>\n",
              "      <th>1</th>\n",
              "      <td>316</td>\n",
              "      <td>2019-01-01 00:04:43.7360</td>\n",
              "      <td>2019-01-01 00:10:00.6080</td>\n",
              "      <td>519.0</td>\n",
              "      <td>Pershing Square North</td>\n",
              "      <td>40.751873</td>\n",
              "      <td>-73.977706</td>\n",
              "      <td>518.0</td>\n",
              "      <td>E 39 St &amp; 2 Ave</td>\n",
              "      <td>40.747804</td>\n",
              "      <td>-73.973442</td>\n",
              "      <td>32723</td>\n",
              "      <td>Subscriber</td>\n",
              "      <td>1964</td>\n",
              "      <td>1</td>\n",
              "    </tr>\n",
              "    <tr>\n",
              "      <th>2</th>\n",
              "      <td>591</td>\n",
              "      <td>2019-01-01 00:06:03.9970</td>\n",
              "      <td>2019-01-01 00:15:55.4380</td>\n",
              "      <td>3171.0</td>\n",
              "      <td>Amsterdam Ave &amp; W 82 St</td>\n",
              "      <td>40.785247</td>\n",
              "      <td>-73.976673</td>\n",
              "      <td>3154.0</td>\n",
              "      <td>E 77 St &amp; 3 Ave</td>\n",
              "      <td>40.773142</td>\n",
              "      <td>-73.958562</td>\n",
              "      <td>27451</td>\n",
              "      <td>Subscriber</td>\n",
              "      <td>1987</td>\n",
              "      <td>1</td>\n",
              "    </tr>\n",
              "    <tr>\n",
              "      <th>3</th>\n",
              "      <td>2719</td>\n",
              "      <td>2019-01-01 00:07:03.5450</td>\n",
              "      <td>2019-01-01 00:52:22.6500</td>\n",
              "      <td>504.0</td>\n",
              "      <td>1 Ave &amp; E 16 St</td>\n",
              "      <td>40.732219</td>\n",
              "      <td>-73.981656</td>\n",
              "      <td>3709.0</td>\n",
              "      <td>W 15 St &amp; 6 Ave</td>\n",
              "      <td>40.738046</td>\n",
              "      <td>-73.996430</td>\n",
              "      <td>21579</td>\n",
              "      <td>Subscriber</td>\n",
              "      <td>1990</td>\n",
              "      <td>1</td>\n",
              "    </tr>\n",
              "    <tr>\n",
              "      <th>4</th>\n",
              "      <td>303</td>\n",
              "      <td>2019-01-01 00:07:35.9450</td>\n",
              "      <td>2019-01-01 00:12:39.5020</td>\n",
              "      <td>229.0</td>\n",
              "      <td>Great Jones St</td>\n",
              "      <td>40.727434</td>\n",
              "      <td>-73.993790</td>\n",
              "      <td>503.0</td>\n",
              "      <td>E 20 St &amp; Park Ave</td>\n",
              "      <td>40.738274</td>\n",
              "      <td>-73.987520</td>\n",
              "      <td>35379</td>\n",
              "      <td>Subscriber</td>\n",
              "      <td>1979</td>\n",
              "      <td>1</td>\n",
              "    </tr>\n",
              "  </tbody>\n",
              "</table>\n",
              "</div>\n",
              "    <div class=\"colab-df-buttons\">\n",
              "\n",
              "  <div class=\"colab-df-container\">\n",
              "    <button class=\"colab-df-convert\" onclick=\"convertToInteractive('df-30e161d6-2204-49e4-9011-392ffbb67919')\"\n",
              "            title=\"Convert this dataframe to an interactive table.\"\n",
              "            style=\"display:none;\">\n",
              "\n",
              "  <svg xmlns=\"http://www.w3.org/2000/svg\" height=\"24px\" viewBox=\"0 -960 960 960\">\n",
              "    <path d=\"M120-120v-720h720v720H120Zm60-500h600v-160H180v160Zm220 220h160v-160H400v160Zm0 220h160v-160H400v160ZM180-400h160v-160H180v160Zm440 0h160v-160H620v160ZM180-180h160v-160H180v160Zm440 0h160v-160H620v160Z\"/>\n",
              "  </svg>\n",
              "    </button>\n",
              "\n",
              "  <style>\n",
              "    .colab-df-container {\n",
              "      display:flex;\n",
              "      gap: 12px;\n",
              "    }\n",
              "\n",
              "    .colab-df-convert {\n",
              "      background-color: #E8F0FE;\n",
              "      border: none;\n",
              "      border-radius: 50%;\n",
              "      cursor: pointer;\n",
              "      display: none;\n",
              "      fill: #1967D2;\n",
              "      height: 32px;\n",
              "      padding: 0 0 0 0;\n",
              "      width: 32px;\n",
              "    }\n",
              "\n",
              "    .colab-df-convert:hover {\n",
              "      background-color: #E2EBFA;\n",
              "      box-shadow: 0px 1px 2px rgba(60, 64, 67, 0.3), 0px 1px 3px 1px rgba(60, 64, 67, 0.15);\n",
              "      fill: #174EA6;\n",
              "    }\n",
              "\n",
              "    .colab-df-buttons div {\n",
              "      margin-bottom: 4px;\n",
              "    }\n",
              "\n",
              "    [theme=dark] .colab-df-convert {\n",
              "      background-color: #3B4455;\n",
              "      fill: #D2E3FC;\n",
              "    }\n",
              "\n",
              "    [theme=dark] .colab-df-convert:hover {\n",
              "      background-color: #434B5C;\n",
              "      box-shadow: 0px 1px 3px 1px rgba(0, 0, 0, 0.15);\n",
              "      filter: drop-shadow(0px 1px 2px rgba(0, 0, 0, 0.3));\n",
              "      fill: #FFFFFF;\n",
              "    }\n",
              "  </style>\n",
              "\n",
              "    <script>\n",
              "      const buttonEl =\n",
              "        document.querySelector('#df-30e161d6-2204-49e4-9011-392ffbb67919 button.colab-df-convert');\n",
              "      buttonEl.style.display =\n",
              "        google.colab.kernel.accessAllowed ? 'block' : 'none';\n",
              "\n",
              "      async function convertToInteractive(key) {\n",
              "        const element = document.querySelector('#df-30e161d6-2204-49e4-9011-392ffbb67919');\n",
              "        const dataTable =\n",
              "          await google.colab.kernel.invokeFunction('convertToInteractive',\n",
              "                                                    [key], {});\n",
              "        if (!dataTable) return;\n",
              "\n",
              "        const docLinkHtml = 'Like what you see? Visit the ' +\n",
              "          '<a target=\"_blank\" href=https://colab.research.google.com/notebooks/data_table.ipynb>data table notebook</a>'\n",
              "          + ' to learn more about interactive tables.';\n",
              "        element.innerHTML = '';\n",
              "        dataTable['output_type'] = 'display_data';\n",
              "        await google.colab.output.renderOutput(dataTable, element);\n",
              "        const docLink = document.createElement('div');\n",
              "        docLink.innerHTML = docLinkHtml;\n",
              "        element.appendChild(docLink);\n",
              "      }\n",
              "    </script>\n",
              "  </div>\n",
              "\n",
              "\n",
              "    <div id=\"df-af231dc5-b6dc-4e72-ad25-ca7abdcab487\">\n",
              "      <button class=\"colab-df-quickchart\" onclick=\"quickchart('df-af231dc5-b6dc-4e72-ad25-ca7abdcab487')\"\n",
              "                title=\"Suggest charts\"\n",
              "                style=\"display:none;\">\n",
              "\n",
              "<svg xmlns=\"http://www.w3.org/2000/svg\" height=\"24px\"viewBox=\"0 0 24 24\"\n",
              "     width=\"24px\">\n",
              "    <g>\n",
              "        <path d=\"M19 3H5c-1.1 0-2 .9-2 2v14c0 1.1.9 2 2 2h14c1.1 0 2-.9 2-2V5c0-1.1-.9-2-2-2zM9 17H7v-7h2v7zm4 0h-2V7h2v10zm4 0h-2v-4h2v4z\"/>\n",
              "    </g>\n",
              "</svg>\n",
              "      </button>\n",
              "\n",
              "<style>\n",
              "  .colab-df-quickchart {\n",
              "      --bg-color: #E8F0FE;\n",
              "      --fill-color: #1967D2;\n",
              "      --hover-bg-color: #E2EBFA;\n",
              "      --hover-fill-color: #174EA6;\n",
              "      --disabled-fill-color: #AAA;\n",
              "      --disabled-bg-color: #DDD;\n",
              "  }\n",
              "\n",
              "  [theme=dark] .colab-df-quickchart {\n",
              "      --bg-color: #3B4455;\n",
              "      --fill-color: #D2E3FC;\n",
              "      --hover-bg-color: #434B5C;\n",
              "      --hover-fill-color: #FFFFFF;\n",
              "      --disabled-bg-color: #3B4455;\n",
              "      --disabled-fill-color: #666;\n",
              "  }\n",
              "\n",
              "  .colab-df-quickchart {\n",
              "    background-color: var(--bg-color);\n",
              "    border: none;\n",
              "    border-radius: 50%;\n",
              "    cursor: pointer;\n",
              "    display: none;\n",
              "    fill: var(--fill-color);\n",
              "    height: 32px;\n",
              "    padding: 0;\n",
              "    width: 32px;\n",
              "  }\n",
              "\n",
              "  .colab-df-quickchart:hover {\n",
              "    background-color: var(--hover-bg-color);\n",
              "    box-shadow: 0 1px 2px rgba(60, 64, 67, 0.3), 0 1px 3px 1px rgba(60, 64, 67, 0.15);\n",
              "    fill: var(--button-hover-fill-color);\n",
              "  }\n",
              "\n",
              "  .colab-df-quickchart-complete:disabled,\n",
              "  .colab-df-quickchart-complete:disabled:hover {\n",
              "    background-color: var(--disabled-bg-color);\n",
              "    fill: var(--disabled-fill-color);\n",
              "    box-shadow: none;\n",
              "  }\n",
              "\n",
              "  .colab-df-spinner {\n",
              "    border: 2px solid var(--fill-color);\n",
              "    border-color: transparent;\n",
              "    border-bottom-color: var(--fill-color);\n",
              "    animation:\n",
              "      spin 1s steps(1) infinite;\n",
              "  }\n",
              "\n",
              "  @keyframes spin {\n",
              "    0% {\n",
              "      border-color: transparent;\n",
              "      border-bottom-color: var(--fill-color);\n",
              "      border-left-color: var(--fill-color);\n",
              "    }\n",
              "    20% {\n",
              "      border-color: transparent;\n",
              "      border-left-color: var(--fill-color);\n",
              "      border-top-color: var(--fill-color);\n",
              "    }\n",
              "    30% {\n",
              "      border-color: transparent;\n",
              "      border-left-color: var(--fill-color);\n",
              "      border-top-color: var(--fill-color);\n",
              "      border-right-color: var(--fill-color);\n",
              "    }\n",
              "    40% {\n",
              "      border-color: transparent;\n",
              "      border-right-color: var(--fill-color);\n",
              "      border-top-color: var(--fill-color);\n",
              "    }\n",
              "    60% {\n",
              "      border-color: transparent;\n",
              "      border-right-color: var(--fill-color);\n",
              "    }\n",
              "    80% {\n",
              "      border-color: transparent;\n",
              "      border-right-color: var(--fill-color);\n",
              "      border-bottom-color: var(--fill-color);\n",
              "    }\n",
              "    90% {\n",
              "      border-color: transparent;\n",
              "      border-bottom-color: var(--fill-color);\n",
              "    }\n",
              "  }\n",
              "</style>\n",
              "\n",
              "      <script>\n",
              "        async function quickchart(key) {\n",
              "          const quickchartButtonEl =\n",
              "            document.querySelector('#' + key + ' button');\n",
              "          quickchartButtonEl.disabled = true;  // To prevent multiple clicks.\n",
              "          quickchartButtonEl.classList.add('colab-df-spinner');\n",
              "          try {\n",
              "            const charts = await google.colab.kernel.invokeFunction(\n",
              "                'suggestCharts', [key], {});\n",
              "          } catch (error) {\n",
              "            console.error('Error during call to suggestCharts:', error);\n",
              "          }\n",
              "          quickchartButtonEl.classList.remove('colab-df-spinner');\n",
              "          quickchartButtonEl.classList.add('colab-df-quickchart-complete');\n",
              "        }\n",
              "        (() => {\n",
              "          let quickchartButtonEl =\n",
              "            document.querySelector('#df-af231dc5-b6dc-4e72-ad25-ca7abdcab487 button');\n",
              "          quickchartButtonEl.style.display =\n",
              "            google.colab.kernel.accessAllowed ? 'block' : 'none';\n",
              "        })();\n",
              "      </script>\n",
              "    </div>\n",
              "\n",
              "    </div>\n",
              "  </div>\n"
            ],
            "application/vnd.google.colaboratory.intrinsic+json": {
              "type": "dataframe",
              "variable_name": "citybike"
            }
          },
          "metadata": {},
          "execution_count": 4
        }
      ],
      "source": [
        "citybike.head()"
      ]
    },
    {
      "cell_type": "markdown",
      "metadata": {
        "id": "chK-TpUlgUeI"
      },
      "source": [
        "1. Find the total number of records and columns as well as statistics \"describe\" of the data."
      ]
    },
    {
      "cell_type": "code",
      "execution_count": null,
      "metadata": {
        "scrolled": true,
        "id": "bX54NLnEgUeK"
      },
      "outputs": [],
      "source": [
        "citybike.????"
      ]
    },
    {
      "cell_type": "code",
      "source": [
        "citybike.???"
      ],
      "metadata": {
        "id": "QcDAtnZbtD_F"
      },
      "execution_count": null,
      "outputs": []
    },
    {
      "cell_type": "markdown",
      "source": [
        "2. Scatter plot data detween 'birth year' and 'tripduration' (use a **DF.plot.scatter**, s = 100) as well as **DF.plot.hist** of 'birth year' collumn into number of bins from your internal code 2 last digits xxxXX (bins=XX)."
      ],
      "metadata": {
        "id": "RyDdSj4aS9Rj"
      }
    },
    {
      "cell_type": "code",
      "source": [
        "citybike.plot.scatter(?????)"
      ],
      "metadata": {
        "id": "m2prralvq5Ot"
      },
      "execution_count": null,
      "outputs": []
    },
    {
      "cell_type": "code",
      "source": [
        "citybike['birth year'].?????"
      ],
      "metadata": {
        "id": "XiPc72RCT6jm"
      },
      "execution_count": null,
      "outputs": []
    },
    {
      "cell_type": "markdown",
      "metadata": {
        "id": "PqOOmUUDgUeM"
      },
      "source": [
        "Find average trip duration in minutes (column: tripduration) with 2 numbers precision (use 'round' function)."
      ]
    },
    {
      "cell_type": "code",
      "execution_count": null,
      "metadata": {
        "id": "VO7ZZCgdgUeO"
      },
      "outputs": [],
      "source": [
        "citybike['tripduration'].????"
      ]
    },
    {
      "cell_type": "markdown",
      "metadata": {
        "id": "GR5YsEu2gUeQ"
      },
      "source": [
        "How many trips have started and ended at the same station?"
      ]
    },
    {
      "cell_type": "code",
      "execution_count": null,
      "metadata": {
        "id": "GpBZel6rgUeS"
      },
      "outputs": [],
      "source": [
        "citybike?????"
      ]
    },
    {
      "cell_type": "markdown",
      "metadata": {
        "id": "92RnfB4-gUeT"
      },
      "source": [
        "How many trips have stared and ended at the same station with the UNIQUE bike_ID? (i.e. DF.unique().shape)"
      ]
    },
    {
      "cell_type": "code",
      "execution_count": null,
      "metadata": {
        "id": "t1n3AKbdgUeU"
      },
      "outputs": [],
      "source": [
        "citybike?????????"
      ]
    },
    {
      "cell_type": "markdown",
      "metadata": {
        "id": "6uXpvSXogUeV"
      },
      "source": [
        "Which bike was most offten used (bikeid) in a town and how many times?"
      ]
    },
    {
      "cell_type": "code",
      "execution_count": null,
      "metadata": {
        "id": "Qi438As7gUeW"
      },
      "outputs": [],
      "source": [
        "citybike['bikeid'].?????????"
      ]
    },
    {
      "cell_type": "markdown",
      "metadata": {
        "id": "es7dMXWagUeX"
      },
      "source": [
        "Find a bike (bikeid), who had the longest trip duration on average. (i.e. use a **DF.mean()** and **sort_values()**)"
      ]
    },
    {
      "cell_type": "code",
      "execution_count": null,
      "metadata": {
        "scrolled": true,
        "id": "kaSp5KGdgUeY"
      },
      "outputs": [],
      "source": [
        "citybike.groupby('bikeid')['tripduration'].?????????"
      ]
    },
    {
      "cell_type": "markdown",
      "metadata": {
        "id": "LEmtA9-zgUeZ"
      },
      "source": [
        "Find the number of missing records (i.e. null) in the column 'start station id'."
      ]
    },
    {
      "cell_type": "code",
      "execution_count": null,
      "metadata": {
        "id": "ugWv2YylgUea"
      },
      "outputs": [],
      "source": [
        "citybike?????????"
      ]
    },
    {
      "cell_type": "markdown",
      "metadata": {
        "id": "btxb5KB1gUec"
      },
      "source": [
        "Find the average distance between stations (apriory removing lines: start station id = end station id).\n",
        "\n",
        "Hint: use the library **geopy** and distance measure **geodesic** (min distance between two geo locations) p.s.: https://geopy.readthedocs.io/en/stable/#module-geopy.distance\n"
      ]
    },
    {
      "cell_type": "code",
      "execution_count": null,
      "metadata": {
        "id": "QlJBYlcRgUed"
      },
      "outputs": [],
      "source": [
        "citybike['distance_km'] = citybike.apply(lambda x: ???_code_???((x['start station latitude'], x['start station longitude']),\n",
        "                                                            (x['end station latitude'], x['end station longitude'])).kilometers, axis=1)\n",
        "\n",
        "\n"
      ]
    },
    {
      "cell_type": "code",
      "source": [
        "citybike['distance_km'].??_code_???()"
      ],
      "metadata": {
        "id": "kGsLIn5lwJkF",
        "outputId": "b80fbfa6-7256-471b-f5c5-fcf662a36b15",
        "colab": {
          "base_uri": "https://localhost:8080/"
        }
      },
      "execution_count": null,
      "outputs": [
        {
          "output_type": "execute_result",
          "data": {
            "text/plain": [
              "1.921284389192512"
            ]
          },
          "metadata": {},
          "execution_count": 20
        }
      ]
    }
  ],
  "metadata": {
    "kernelspec": {
      "display_name": "Python 3",
      "language": "python",
      "name": "python3"
    },
    "language_info": {
      "codemirror_mode": {
        "name": "ipython",
        "version": 3
      },
      "file_extension": ".py",
      "mimetype": "text/x-python",
      "name": "python",
      "nbconvert_exporter": "python",
      "pygments_lexer": "ipython3",
      "version": "3.5.2"
    },
    "toc": {
      "nav_menu": {},
      "number_sections": true,
      "sideBar": true,
      "skip_h1_title": false,
      "toc_cell": false,
      "toc_position": {},
      "toc_section_display": "block",
      "toc_window_display": false
    },
    "varInspector": {
      "cols": {
        "lenName": 16,
        "lenType": 16,
        "lenVar": 40
      },
      "kernels_config": {
        "python": {
          "delete_cmd_postfix": "",
          "delete_cmd_prefix": "del ",
          "library": "var_list.py",
          "varRefreshCmd": "print(var_dic_list())"
        },
        "r": {
          "delete_cmd_postfix": ") ",
          "delete_cmd_prefix": "rm(",
          "library": "var_list.r",
          "varRefreshCmd": "cat(var_dic_list()) "
        }
      },
      "types_to_exclude": [
        "module",
        "function",
        "builtin_function_or_method",
        "instance",
        "_Feature"
      ],
      "window_display": false
    },
    "colab": {
      "provenance": [],
      "include_colab_link": true
    }
  },
  "nbformat": 4,
  "nbformat_minor": 0
}