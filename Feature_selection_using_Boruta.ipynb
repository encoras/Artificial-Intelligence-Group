{
  "nbformat": 4,
  "nbformat_minor": 0,
  "metadata": {
    "colab": {
      "provenance": [],
      "authorship_tag": "ABX9TyO6HK1otDGB3q7DpeFM7nNX",
      "include_colab_link": true
    },
    "kernelspec": {
      "name": "python3",
      "display_name": "Python 3"
    },
    "language_info": {
      "name": "python"
    }
  },
  "cells": [
    {
      "cell_type": "markdown",
      "metadata": {
        "id": "view-in-github",
        "colab_type": "text"
      },
      "source": [
        "<a href=\"https://colab.research.google.com/github/encoras/Artificial-Intelligence-Group/blob/master/Feature_selection_using_Boruta.ipynb\" target=\"_parent\"><img src=\"https://colab.research.google.com/assets/colab-badge.svg\" alt=\"Open In Colab\"/></a>"
      ]
    },
    {
      "cell_type": "markdown",
      "source": [
        "**Feature selection using Boruta**"
      ],
      "metadata": {
        "id": "hoAfVP5iNsU7"
      }
    },
    {
      "cell_type": "code",
      "execution_count": 10,
      "metadata": {
        "id": "_mN1SvuWNkLO"
      },
      "outputs": [],
      "source": [
        "# Code is adopted from the video\n",
        "# https://youtu.be/_5t8ZtRybT8\n",
        "\n",
        "\n",
        "import numpy as np\n",
        "import pandas as pd\n",
        "from matplotlib import pyplot as plt\n",
        "import seaborn as sns\n",
        "from sklearn import datasets\n",
        "from sklearn.metrics import accuracy_score\n",
        "RAND=123"
      ]
    },
    {
      "cell_type": "code",
      "source": [
        "# import some data to play with\n",
        "breast_cancer = datasets.load_breast_cancer()\n",
        "X = breast_cancer.data\n",
        "\n",
        "Y = breast_cancer.target\n",
        "feature_names=breast_cancer.feature_names"
      ],
      "metadata": {
        "id": "s0gUI7IJN1D0"
      },
      "execution_count": 2,
      "outputs": []
    },
    {
      "cell_type": "code",
      "source": [
        "#Define x and normalize values\n",
        "\n",
        "from sklearn.preprocessing import MinMaxScaler\n",
        "scaler = MinMaxScaler()\n",
        "\n",
        "##Split data into train and test to verify accuracy after fitting the model.\n",
        "from sklearn.model_selection import train_test_split\n",
        "X_train, X_test, y_train, y_test = train_test_split(X, Y, test_size=0.25, random_state=RAND)\n",
        "\n",
        "scaler.fit(X_train)\n",
        "X_train = scaler.transform(X_train)\n",
        "X_test = scaler.transform(X_test)\n",
        "###########################################################################"
      ],
      "metadata": {
        "id": "rG04DrqlN1NK"
      },
      "execution_count": 3,
      "outputs": []
    },
    {
      "cell_type": "markdown",
      "source": [
        "Create shadow features – random features and shuffle values in columns\n",
        "Train Random Forest and calculate feature importance via mean decrease impurity\n",
        "Check if real features have higher importance compared to shadow features\n",
        "Repeat this for every iteration\n",
        "If original feature performed better, then mark it as important"
      ],
      "metadata": {
        "id": "qZqs0ROJO5Qn"
      }
    },
    {
      "cell_type": "code",
      "source": [
        "#Install Boruta for first time\n",
        "!pip install boruta"
      ],
      "metadata": {
        "colab": {
          "base_uri": "https://localhost:8080/"
        },
        "id": "TFxFqkGBPCa8",
        "outputId": "e88d7970-120b-43c0-b2cc-a2d4711d7149"
      },
      "execution_count": 4,
      "outputs": [
        {
          "output_type": "stream",
          "name": "stdout",
          "text": [
            "Collecting boruta\n",
            "  Downloading Boruta-0.3-py3-none-any.whl (56 kB)\n",
            "\u001b[?25l     \u001b[90m━━━━━━━━━━━━━━━━━━━━━━━━━━━━━━━━━━━━━━━━\u001b[0m \u001b[32m0.0/56.6 kB\u001b[0m \u001b[31m?\u001b[0m eta \u001b[36m-:--:--\u001b[0m\r\u001b[2K     \u001b[91m━━━━━━━━━━━━━━━━━━━━━━━━━━━━━━━━━━━━\u001b[0m\u001b[90m╺\u001b[0m\u001b[90m━━━\u001b[0m \u001b[32m51.2/56.6 kB\u001b[0m \u001b[31m1.6 MB/s\u001b[0m eta \u001b[36m0:00:01\u001b[0m\r\u001b[2K     \u001b[90m━━━━━━━━━━━━━━━━━━━━━━━━━━━━━━━━━━━━━━━━\u001b[0m \u001b[32m56.6/56.6 kB\u001b[0m \u001b[31m1.2 MB/s\u001b[0m eta \u001b[36m0:00:00\u001b[0m\n",
            "\u001b[?25hRequirement already satisfied: numpy>=1.10.4 in /usr/local/lib/python3.10/dist-packages (from boruta) (1.25.2)\n",
            "Requirement already satisfied: scikit-learn>=0.17.1 in /usr/local/lib/python3.10/dist-packages (from boruta) (1.2.2)\n",
            "Requirement already satisfied: scipy>=0.17.0 in /usr/local/lib/python3.10/dist-packages (from boruta) (1.11.4)\n",
            "Requirement already satisfied: joblib>=1.1.1 in /usr/local/lib/python3.10/dist-packages (from scikit-learn>=0.17.1->boruta) (1.3.2)\n",
            "Requirement already satisfied: threadpoolctl>=2.0.0 in /usr/local/lib/python3.10/dist-packages (from scikit-learn>=0.17.1->boruta) (3.3.0)\n",
            "Installing collected packages: boruta\n",
            "Successfully installed boruta-0.3\n"
          ]
        }
      ]
    },
    {
      "cell_type": "code",
      "source": [
        "# Define RandomForest classifier to be used by Boruta\n",
        "from sklearn.ensemble import RandomForestRegressor\n",
        "rfr = RandomForestRegressor(random_state=RAND)\n",
        "rfr.fit(X_train, y_train)\n",
        "y_pred=rfr.predict(X_test)>0.5\n",
        "scores_RFR=accuracy_score(y_test,y_pred)\n",
        "print('RFR_ALL_features = ', scores_RFR)"
      ],
      "metadata": {
        "colab": {
          "base_uri": "https://localhost:8080/"
        },
        "id": "9dDrvIkRO3AT",
        "outputId": "c5c8803b-ab04-43a8-c112-cf6adac75a37"
      },
      "execution_count": 5,
      "outputs": [
        {
          "output_type": "stream",
          "name": "stdout",
          "text": [
            "RFR_ALL_features =  0.986013986013986\n"
          ]
        }
      ]
    },
    {
      "cell_type": "code",
      "source": [
        "from sklearn.ensemble import RandomForestClassifier\n",
        "rfc = RandomForestClassifier(random_state=RAND)\n",
        "rfc.fit(X_train, y_train)\n",
        "y_pred=rfc.predict(X_test)\n",
        "scores_RFC=accuracy_score(y_test,y_pred)\n",
        "print('RFC_ALL_features = ', scores_RFC)"
      ],
      "metadata": {
        "colab": {
          "base_uri": "https://localhost:8080/"
        },
        "id": "7FY67iVxPstw",
        "outputId": "65f493c2-f0ad-4801-8ef8-4bf9b1c17b72"
      },
      "execution_count": 6,
      "outputs": [
        {
          "output_type": "stream",
          "name": "stdout",
          "text": [
            "RFC_ALL_features =  0.993006993006993\n"
          ]
        }
      ]
    },
    {
      "cell_type": "code",
      "source": [
        "from sklearn.ensemble import ExtraTreesClassifier\n",
        "etc = ExtraTreesClassifier(random_state=RAND)\n",
        "etc.fit(X_train, y_train)\n",
        "y_pred=etc.predict(X_test)\n",
        "scores_ETC=accuracy_score(y_test,y_pred)\n",
        "print('ETC_ALL_features = ', scores_ETC)"
      ],
      "metadata": {
        "colab": {
          "base_uri": "https://localhost:8080/"
        },
        "id": "TFfyrLZLUrwU",
        "outputId": "0172b93c-5a3a-40dd-8aef-570dd22b21ec"
      },
      "execution_count": 7,
      "outputs": [
        {
          "output_type": "stream",
          "name": "stdout",
          "text": [
            "ETC_ALL_features =  0.986013986013986\n"
          ]
        }
      ]
    },
    {
      "cell_type": "code",
      "source": [
        "from boruta import BorutaPy\n",
        "\n",
        "np.int = np.int32\n",
        "np.float = np.float64\n",
        "np.bool = np.bool_\n",
        "\n",
        "# define Boruta feature selection method: rfr, rfc, etc\n",
        "feat_selector = BorutaPy(rfr, n_estimators='auto', verbose=1, random_state=RAND) #, max_iter=10\n",
        "\n",
        "# find all relevant features\n",
        "feat_selector.fit(X_train, y_train)\n",
        "\n",
        "\n",
        "# check selected features\n",
        "print(feat_selector.support_)  #Should we accept the feature\n",
        "\n",
        "# check ranking of features\n",
        "print(feat_selector.ranking_) #Rank 1 is the best"
      ],
      "metadata": {
        "colab": {
          "base_uri": "https://localhost:8080/"
        },
        "collapsed": true,
        "id": "UGYmY-rcPHrR",
        "outputId": "e9c2bd07-9b4b-42c5-c66c-e999da39d108"
      },
      "execution_count": 14,
      "outputs": [
        {
          "output_type": "stream",
          "name": "stdout",
          "text": [
            "Iteration: 1 / 100\n",
            "Iteration: 2 / 100\n",
            "Iteration: 3 / 100\n",
            "Iteration: 4 / 100\n",
            "Iteration: 5 / 100\n",
            "Iteration: 6 / 100\n",
            "Iteration: 7 / 100\n",
            "Iteration: 8 / 100\n",
            "Iteration: 9 / 100\n",
            "Iteration: 10 / 100\n",
            "Iteration: 11 / 100\n",
            "Iteration: 12 / 100\n",
            "Iteration: 13 / 100\n",
            "Iteration: 14 / 100\n",
            "Iteration: 15 / 100\n",
            "Iteration: 16 / 100\n",
            "Iteration: 17 / 100\n",
            "Iteration: 18 / 100\n",
            "Iteration: 19 / 100\n",
            "Iteration: 20 / 100\n",
            "Iteration: 21 / 100\n",
            "Iteration: 22 / 100\n",
            "Iteration: 23 / 100\n",
            "Iteration: 24 / 100\n",
            "Iteration: 25 / 100\n",
            "Iteration: 26 / 100\n",
            "Iteration: 27 / 100\n",
            "Iteration: 28 / 100\n",
            "Iteration: 29 / 100\n",
            "Iteration: 30 / 100\n",
            "Iteration: 31 / 100\n",
            "Iteration: 32 / 100\n",
            "Iteration: 33 / 100\n",
            "Iteration: 34 / 100\n",
            "Iteration: 35 / 100\n",
            "Iteration: 36 / 100\n",
            "Iteration: 37 / 100\n",
            "Iteration: 38 / 100\n",
            "Iteration: 39 / 100\n",
            "Iteration: 40 / 100\n",
            "Iteration: 41 / 100\n",
            "Iteration: 42 / 100\n",
            "Iteration: 43 / 100\n",
            "Iteration: 44 / 100\n",
            "Iteration: 45 / 100\n",
            "Iteration: 46 / 100\n",
            "Iteration: 47 / 100\n",
            "Iteration: 48 / 100\n",
            "Iteration: 49 / 100\n",
            "Iteration: 50 / 100\n",
            "Iteration: 51 / 100\n",
            "Iteration: 52 / 100\n",
            "Iteration: 53 / 100\n",
            "Iteration: 54 / 100\n",
            "Iteration: 55 / 100\n",
            "Iteration: 56 / 100\n",
            "Iteration: 57 / 100\n",
            "Iteration: 58 / 100\n",
            "Iteration: 59 / 100\n",
            "Iteration: 60 / 100\n",
            "Iteration: 61 / 100\n",
            "Iteration: 62 / 100\n",
            "Iteration: 63 / 100\n",
            "Iteration: 64 / 100\n",
            "Iteration: 65 / 100\n",
            "Iteration: 66 / 100\n",
            "Iteration: 67 / 100\n",
            "Iteration: 68 / 100\n",
            "Iteration: 69 / 100\n",
            "Iteration: 70 / 100\n",
            "Iteration: 71 / 100\n",
            "Iteration: 72 / 100\n",
            "Iteration: 73 / 100\n",
            "Iteration: 74 / 100\n",
            "Iteration: 75 / 100\n",
            "Iteration: 76 / 100\n",
            "Iteration: 77 / 100\n",
            "Iteration: 78 / 100\n",
            "Iteration: 79 / 100\n",
            "Iteration: 80 / 100\n",
            "Iteration: 81 / 100\n",
            "Iteration: 82 / 100\n",
            "Iteration: 83 / 100\n",
            "Iteration: 84 / 100\n",
            "Iteration: 85 / 100\n",
            "Iteration: 86 / 100\n",
            "Iteration: 87 / 100\n",
            "Iteration: 88 / 100\n",
            "Iteration: 89 / 100\n",
            "Iteration: 90 / 100\n",
            "Iteration: 91 / 100\n",
            "Iteration: 92 / 100\n",
            "Iteration: 93 / 100\n",
            "Iteration: 94 / 100\n",
            "Iteration: 95 / 100\n",
            "Iteration: 96 / 100\n",
            "Iteration: 97 / 100\n",
            "Iteration: 98 / 100\n",
            "Iteration: 99 / 100\n",
            "\n",
            "\n",
            "BorutaPy finished running.\n",
            "\n",
            "Iteration: \t100 / 100\n",
            "Confirmed: \t10\n",
            "Tentative: \t1\n",
            "Rejected: \t18\n",
            "[False  True False False False False False  True False False False False\n",
            " False  True False False False False False False  True  True  True  True\n",
            "  True False  True  True False False]\n",
            "[14  1 15  2 11 21  3  1 20 19  7  7  9  1 11 18  5 17 10  4  1  1  1  1\n",
            "  1 15  1  1 13  5]\n"
          ]
        }
      ]
    },
    {
      "cell_type": "code",
      "source": [
        "# call transform() on X to filter it down to selected features\n",
        "X_train_filtered = feat_selector.transform(X_train)  #Apply feature selection and return transformed data\n",
        "X_test_filtered = feat_selector.transform(X_test)\n",
        "\"\"\"\n",
        "Review the features\n",
        "\"\"\"\n",
        "# zip feature names, ranks, and decisions\n",
        "feature_ranks = list(zip(feature_names,\n",
        "                         feat_selector.ranking_,\n",
        "                         feat_selector.support_))\n",
        "\n",
        "# print the results\n",
        "for feat in feature_ranks:\n",
        "    print('Feature: {:<30} Rank: {},  Keep: {}'.format(feat[0], feat[1], feat[2]))"
      ],
      "metadata": {
        "colab": {
          "base_uri": "https://localhost:8080/"
        },
        "id": "dQc1TCxpQ-aa",
        "outputId": "f80d163b-fb3c-43e2-9939-418520244283"
      },
      "execution_count": 15,
      "outputs": [
        {
          "output_type": "stream",
          "name": "stdout",
          "text": [
            "Feature: mean radius                    Rank: 14,  Keep: False\n",
            "Feature: mean texture                   Rank: 1,  Keep: True\n",
            "Feature: mean perimeter                 Rank: 15,  Keep: False\n",
            "Feature: mean area                      Rank: 2,  Keep: False\n",
            "Feature: mean smoothness                Rank: 11,  Keep: False\n",
            "Feature: mean compactness               Rank: 21,  Keep: False\n",
            "Feature: mean concavity                 Rank: 3,  Keep: False\n",
            "Feature: mean concave points            Rank: 1,  Keep: True\n",
            "Feature: mean symmetry                  Rank: 20,  Keep: False\n",
            "Feature: mean fractal dimension         Rank: 19,  Keep: False\n",
            "Feature: radius error                   Rank: 7,  Keep: False\n",
            "Feature: texture error                  Rank: 7,  Keep: False\n",
            "Feature: perimeter error                Rank: 9,  Keep: False\n",
            "Feature: area error                     Rank: 1,  Keep: True\n",
            "Feature: smoothness error               Rank: 11,  Keep: False\n",
            "Feature: compactness error              Rank: 18,  Keep: False\n",
            "Feature: concavity error                Rank: 5,  Keep: False\n",
            "Feature: concave points error           Rank: 17,  Keep: False\n",
            "Feature: symmetry error                 Rank: 10,  Keep: False\n",
            "Feature: fractal dimension error        Rank: 4,  Keep: False\n",
            "Feature: worst radius                   Rank: 1,  Keep: True\n",
            "Feature: worst texture                  Rank: 1,  Keep: True\n",
            "Feature: worst perimeter                Rank: 1,  Keep: True\n",
            "Feature: worst area                     Rank: 1,  Keep: True\n",
            "Feature: worst smoothness               Rank: 1,  Keep: True\n",
            "Feature: worst compactness              Rank: 15,  Keep: False\n",
            "Feature: worst concavity                Rank: 1,  Keep: True\n",
            "Feature: worst concave points           Rank: 1,  Keep: True\n",
            "Feature: worst symmetry                 Rank: 13,  Keep: False\n",
            "Feature: worst fractal dimension        Rank: 5,  Keep: False\n"
          ]
        }
      ]
    },
    {
      "cell_type": "markdown",
      "source": [
        "**Now use the subset of features to fit  model on training data**"
      ],
      "metadata": {
        "id": "JU6fvO62Rzzd"
      }
    },
    {
      "cell_type": "code",
      "source": [
        "rfr.fit(X_train_filtered, y_train)\n",
        "y_pred=rfr.predict(X_test_filtered)>0.5\n",
        "scores_RFR1=accuracy_score(y_test,y_pred)\n",
        "print('RFR_ALL_features = ', scores_RFR, ' vs RFR_filtered = ', scores_RFR1, 'Is better? ', scores_RFR<scores_RFR1)\n",
        "#######################################\n",
        "\n",
        "rfc.fit(X_train_filtered, y_train)\n",
        "y_pred=rfc.predict(X_test_filtered)\n",
        "scores_RFC1=accuracy_score(y_test,y_pred)\n",
        "print('RFC_ALL_features = ', scores_RFC, ' vs RFC_filtered = ', scores_RFC1, 'Is better? ', scores_RFC<scores_RFC1)\n",
        "#######################################\n",
        "\n",
        "etc.fit(X_train_filtered, y_train)\n",
        "y_pred=etc.predict(X_test_filtered)\n",
        "scores_ETC1=accuracy_score(y_test,y_pred)\n",
        "print('ETC_ALL_features = ', scores_ETC, ' vs ETC_filtered = ', scores_ETC1, 'Is better? ', scores_ETC<scores_ETC1)\n",
        "\n",
        "#Print overall accuracy\n",
        "\n",
        "\n",
        "#Confusion Matrix - verify accuracy of each class\n",
        "from sklearn.metrics import confusion_matrix\n",
        "cm = confusion_matrix(y_test, y_pred)\n",
        "#print(cm)\n",
        "sns.heatmap(cm, annot=True)\n",
        "\n",
        "#######################################################\n",
        "\n",
        "\n",
        "\n",
        "\n"
      ],
      "metadata": {
        "colab": {
          "base_uri": "https://localhost:8080/",
          "height": 499
        },
        "id": "2i6UKwBxN1QC",
        "outputId": "b152c33c-cae1-48c5-b63c-5fc8ad6a2503"
      },
      "execution_count": 16,
      "outputs": [
        {
          "output_type": "stream",
          "name": "stdout",
          "text": [
            "RFR_ALL_features =  0.986013986013986  vs RFR_filtered =  0.986013986013986 Is better?  False\n",
            "RFC_ALL_features =  0.993006993006993  vs RFC_filtered =  0.993006993006993 Is better?  False\n",
            "ETC_ALL_features =  0.986013986013986  vs ETC_filtered =  0.986013986013986 Is better?  False\n"
          ]
        },
        {
          "output_type": "execute_result",
          "data": {
            "text/plain": [
              "<Axes: >"
            ]
          },
          "metadata": {},
          "execution_count": 16
        },
        {
          "output_type": "display_data",
          "data": {
            "text/plain": [
              "<Figure size 640x480 with 2 Axes>"
            ],
            "image/png": "[encoded data removed]"
          },
          "metadata": {}
        }
      ]
    },
    {
      "cell_type": "code",
      "source": [],
      "metadata": {
        "id": "WpIrPggxawcl"
      },
      "execution_count": null,
      "outputs": []
    }
  ]
}