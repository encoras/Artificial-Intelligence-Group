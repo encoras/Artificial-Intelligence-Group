{
  "nbformat": 4,
  "nbformat_minor": 0,
  "metadata": {
    "colab": {
      "provenance": [],
      "collapsed_sections": [],
      "authorship_tag": "ABX9TyPU7tERbBdNCnkD3a3T44zl",
      "include_colab_link": true
    },
    "kernelspec": {
      "name": "python3",
      "display_name": "Python 3"
    },
    "language_info": {
      "name": "python"
    }
  },
  "cells": [
    {
      "cell_type": "markdown",
      "metadata": {
        "id": "view-in-github",
        "colab_type": "text"
      },
      "source": [
        "<a href=\"https://colab.research.google.com/github/encoras/Artificial-Intelligence-Group/blob/master/Feature_selection_using_Boruta.ipynb\" target=\"_parent\"><img src=\"https://colab.research.google.com/assets/colab-badge.svg\" alt=\"Open In Colab\"/></a>"
      ]
    },
    {
      "cell_type": "markdown",
      "source": [
        "**Feature selection using Boruta**"
      ],
      "metadata": {
        "id": "hoAfVP5iNsU7"
      }
    },
    {
      "cell_type": "code",
      "execution_count": 76,
      "metadata": {
        "id": "_mN1SvuWNkLO"
      },
      "outputs": [],
      "source": [
        "# Code is adopted from the video\n",
        "# https://youtu.be/_5t8ZtRybT8\n",
        "\n",
        "\n",
        "\n",
        "import pandas as pd\n",
        "from matplotlib import pyplot as plt\n",
        "import seaborn as sns\n",
        "from sklearn import datasets\n",
        "from sklearn.metrics import accuracy_score\n",
        "RAND=123"
      ]
    },
    {
      "cell_type": "code",
      "source": [
        "# import some data to play with\n",
        "breast_cancer = datasets.load_breast_cancer()\n",
        "X = breast_cancer.data\n",
        "\n",
        "Y = breast_cancer.target\n",
        "feature_names=breast_cancer.feature_names"
      ],
      "metadata": {
        "id": "s0gUI7IJN1D0"
      },
      "execution_count": 77,
      "outputs": []
    },
    {
      "cell_type": "code",
      "source": [
        "#Define x and normalize values\n",
        "\n",
        "from sklearn.preprocessing import StandardScaler\n",
        "scaler = StandardScaler()\n",
        "\n",
        "##Split data into train and test to verify accuracy after fitting the model. \n",
        "from sklearn.model_selection import train_test_split\n",
        "X_train, X_test, y_train, y_test = train_test_split(X, Y, test_size=0.25, random_state=RAND)\n",
        "\n",
        "scaler.fit(X_train)\n",
        "X_train = scaler.transform(X_train)\n",
        "X_test = scaler.transform(X_test)\n",
        "###########################################################################"
      ],
      "metadata": {
        "id": "rG04DrqlN1NK"
      },
      "execution_count": 78,
      "outputs": []
    },
    {
      "cell_type": "markdown",
      "source": [
        "Create shadow features – random features and shuffle values in columns\n",
        "Train Random Forest / XGBoost and calculate feature importance via mean decrease impurity\n",
        "Check if real features have higher importance compared to shadow features \n",
        "Repeat this for every iteration\n",
        "If original feature performed better, then mark it as important "
      ],
      "metadata": {
        "id": "qZqs0ROJO5Qn"
      }
    },
    {
      "cell_type": "code",
      "source": [
        "!pip install boruta"
      ],
      "metadata": {
        "colab": {
          "base_uri": "https://localhost:8080/"
        },
        "id": "TFxFqkGBPCa8",
        "outputId": "e191b444-b8c0-4b46-bcc6-26a849858cf2"
      },
      "execution_count": 79,
      "outputs": [
        {
          "output_type": "stream",
          "name": "stdout",
          "text": [
            "Looking in indexes: https://pypi.org/simple, https://us-python.pkg.dev/colab-wheels/public/simple/\n",
            "Requirement already satisfied: boruta in /usr/local/lib/python3.7/dist-packages (0.3)\n",
            "Requirement already satisfied: scikit-learn>=0.17.1 in /usr/local/lib/python3.7/dist-packages (from boruta) (1.0.2)\n",
            "Requirement already satisfied: scipy>=0.17.0 in /usr/local/lib/python3.7/dist-packages (from boruta) (1.7.3)\n",
            "Requirement already satisfied: numpy>=1.10.4 in /usr/local/lib/python3.7/dist-packages (from boruta) (1.21.6)\n",
            "Requirement already satisfied: joblib>=0.11 in /usr/local/lib/python3.7/dist-packages (from scikit-learn>=0.17.1->boruta) (1.2.0)\n",
            "Requirement already satisfied: threadpoolctl>=2.0.0 in /usr/local/lib/python3.7/dist-packages (from scikit-learn>=0.17.1->boruta) (3.1.0)\n"
          ]
        }
      ]
    },
    {
      "cell_type": "code",
      "source": [
        "# Define RandomForest classifier to be used by Boruta\n",
        "from sklearn.ensemble import RandomForestRegressor\n",
        "rfr = RandomForestRegressor(random_state=RAND)\n",
        "rfr.fit(X_train, y_train)\n",
        "y_pred=rfr.predict(X_test)>0.5\n",
        "scores_RFR=accuracy_score(y_test,y_pred)\n",
        "print('RFR_ALL_features = ', scores_RFR)"
      ],
      "metadata": {
        "colab": {
          "base_uri": "https://localhost:8080/"
        },
        "id": "9dDrvIkRO3AT",
        "outputId": "d8132800-54cb-4dfa-fc66-0f4483017863"
      },
      "execution_count": 80,
      "outputs": [
        {
          "output_type": "stream",
          "name": "stdout",
          "text": [
            "RFR_ALL_features =  0.986013986013986\n"
          ]
        }
      ]
    },
    {
      "cell_type": "code",
      "source": [
        "from sklearn.ensemble import RandomForestClassifier\n",
        "rfc = RandomForestClassifier(random_state=RAND)\n",
        "rfc.fit(X_train, y_train)\n",
        "y_pred=rfc.predict(X_test)\n",
        "scores_RFC=accuracy_score(y_test,y_pred)\n",
        "print('RFC_ALL_features = ', scores_RFC)"
      ],
      "metadata": {
        "colab": {
          "base_uri": "https://localhost:8080/"
        },
        "id": "7FY67iVxPstw",
        "outputId": "499d846b-eccb-49d0-95ec-9cd6450a838c"
      },
      "execution_count": 81,
      "outputs": [
        {
          "output_type": "stream",
          "name": "stdout",
          "text": [
            "RFC_ALL_features =  0.993006993006993\n"
          ]
        }
      ]
    },
    {
      "cell_type": "code",
      "source": [
        "from sklearn.ensemble import ExtraTreesClassifier\n",
        "etc = ExtraTreesClassifier(random_state=RAND)\n",
        "etc.fit(X_train, y_train)\n",
        "y_pred=etc.predict(X_test)\n",
        "scores_ETC=accuracy_score(y_test,y_pred)\n",
        "print('ETC_ALL_features = ', scores_RFC)"
      ],
      "metadata": {
        "colab": {
          "base_uri": "https://localhost:8080/"
        },
        "id": "TFfyrLZLUrwU",
        "outputId": "96cb6b73-000f-4c96-a14d-73ab617b8792"
      },
      "execution_count": 82,
      "outputs": [
        {
          "output_type": "stream",
          "name": "stdout",
          "text": [
            "ETC_ALL_features =  0.993006993006993\n"
          ]
        }
      ]
    },
    {
      "cell_type": "code",
      "source": [
        "from boruta import BorutaPy\n",
        "\n",
        "# define Boruta feature selection method: rfr, rfc, etc\n",
        "feat_selector = BorutaPy(rfc, n_estimators='auto', verbose=0, random_state=RAND)\n",
        "\n",
        "# find all relevant features\n",
        "feat_selector.fit(X_train, y_train)\n",
        "\n",
        "\n",
        "# check selected features\n",
        "print(feat_selector.support_)  #Should we accept the feature\n",
        "\n",
        "# check ranking of features\n",
        "print(feat_selector.ranking_) #Rank 1 is the best"
      ],
      "metadata": {
        "colab": {
          "base_uri": "https://localhost:8080/"
        },
        "id": "UGYmY-rcPHrR",
        "outputId": "f86e28dd-1777-4627-c73c-cd5a24d17f8e"
      },
      "execution_count": 83,
      "outputs": [
        {
          "output_type": "stream",
          "name": "stdout",
          "text": [
            "[ True  True  True  True False  True  True  True False False  True False\n",
            "  True  True False False  True False False False  True  True  True  True\n",
            "  True  True  True  True  True  True]\n",
            "[1 1 1 1 2 1 1 1 4 6 1 8 1 1 6 3 1 2 7 3 1 1 1 1 1 1 1 1 1 1]\n"
          ]
        }
      ]
    },
    {
      "cell_type": "code",
      "source": [
        "# call transform() on X to filter it down to selected features\n",
        "X_train_filtered = feat_selector.transform(X_train)  #Apply feature selection and return transformed data\n",
        "X_test_filtered = feat_selector.transform(X_test)\n",
        "\"\"\"\n",
        "Review the features\n",
        "\"\"\"\n",
        "# zip feature names, ranks, and decisions \n",
        "feature_ranks = list(zip(feature_names, \n",
        "                         feat_selector.ranking_, \n",
        "                         feat_selector.support_))\n",
        "\n",
        "# print the results\n",
        "for feat in feature_ranks:\n",
        "    print('Feature: {:<30} Rank: {},  Keep: {}'.format(feat[0], feat[1], feat[2]))"
      ],
      "metadata": {
        "colab": {
          "base_uri": "https://localhost:8080/"
        },
        "id": "dQc1TCxpQ-aa",
        "outputId": "6a56cda6-f67b-49e4-a484-c859c8814af5"
      },
      "execution_count": 84,
      "outputs": [
        {
          "output_type": "stream",
          "name": "stdout",
          "text": [
            "Feature: mean radius                    Rank: 1,  Keep: True\n",
            "Feature: mean texture                   Rank: 1,  Keep: True\n",
            "Feature: mean perimeter                 Rank: 1,  Keep: True\n",
            "Feature: mean area                      Rank: 1,  Keep: True\n",
            "Feature: mean smoothness                Rank: 2,  Keep: False\n",
            "Feature: mean compactness               Rank: 1,  Keep: True\n",
            "Feature: mean concavity                 Rank: 1,  Keep: True\n",
            "Feature: mean concave points            Rank: 1,  Keep: True\n",
            "Feature: mean symmetry                  Rank: 4,  Keep: False\n",
            "Feature: mean fractal dimension         Rank: 6,  Keep: False\n",
            "Feature: radius error                   Rank: 1,  Keep: True\n",
            "Feature: texture error                  Rank: 8,  Keep: False\n",
            "Feature: perimeter error                Rank: 1,  Keep: True\n",
            "Feature: area error                     Rank: 1,  Keep: True\n",
            "Feature: smoothness error               Rank: 6,  Keep: False\n",
            "Feature: compactness error              Rank: 3,  Keep: False\n",
            "Feature: concavity error                Rank: 1,  Keep: True\n",
            "Feature: concave points error           Rank: 2,  Keep: False\n",
            "Feature: symmetry error                 Rank: 7,  Keep: False\n",
            "Feature: fractal dimension error        Rank: 3,  Keep: False\n",
            "Feature: worst radius                   Rank: 1,  Keep: True\n",
            "Feature: worst texture                  Rank: 1,  Keep: True\n",
            "Feature: worst perimeter                Rank: 1,  Keep: True\n",
            "Feature: worst area                     Rank: 1,  Keep: True\n",
            "Feature: worst smoothness               Rank: 1,  Keep: True\n",
            "Feature: worst compactness              Rank: 1,  Keep: True\n",
            "Feature: worst concavity                Rank: 1,  Keep: True\n",
            "Feature: worst concave points           Rank: 1,  Keep: True\n",
            "Feature: worst symmetry                 Rank: 1,  Keep: True\n",
            "Feature: worst fractal dimension        Rank: 1,  Keep: True\n"
          ]
        }
      ]
    },
    {
      "cell_type": "markdown",
      "source": [
        "**Now use the subset of features to fit  model on training data**"
      ],
      "metadata": {
        "id": "JU6fvO62Rzzd"
      }
    },
    {
      "cell_type": "code",
      "source": [
        "rfr.fit(X_train_filtered, y_train)\n",
        "y_pred=rfr.predict(X_test_filtered)>0.5\n",
        "scores_RFR1=accuracy_score(y_test,y_pred)\n",
        "print('RFR_ALL_features = ', scores_RFR, ' vs RFR_filtered = ', scores_RFR1, 'Is better? ', scores_RFR<scores_RFR1)\n",
        "#######################################\n",
        "\n",
        "rfc.fit(X_train_filtered, y_train)\n",
        "y_pred=rfc.predict(X_test_filtered)\n",
        "scores_RFC1=accuracy_score(y_test,y_pred)\n",
        "print('RFC_ALL_features = ', scores_RFC, ' vs RFC_filtered = ', scores_RFC1, 'Is better? ', scores_RFC<scores_RFC1)\n",
        "#######################################\n",
        "\n",
        "etc.fit(X_train_filtered, y_train)\n",
        "y_pred=etc.predict(X_test_filtered)\n",
        "scores_ETC1=accuracy_score(y_test,y_pred)\n",
        "print('ETC_ALL_features = ', scores_ETC, ' vs ETC_filtered = ', scores_ETC1, 'Is better? ', scores_ETC<scores_ETC1)\n",
        "\n",
        "#Print overall accuracy\n",
        "\n",
        "\n",
        "#Confusion Matrix - verify accuracy of each class\n",
        "from sklearn.metrics import confusion_matrix\n",
        "cm = confusion_matrix(y_test, y_pred)\n",
        "#print(cm)\n",
        "sns.heatmap(cm, annot=True)\n",
        "\n",
        "#######################################################\n",
        "\n",
        "\n",
        "\n",
        "\n"
      ],
      "metadata": {
        "colab": {
          "base_uri": "https://localhost:8080/",
          "height": 334
        },
        "id": "2i6UKwBxN1QC",
        "outputId": "d4312ef2-42e6-4c56-bf2c-7511045a0c02"
      },
      "execution_count": 86,
      "outputs": [
        {
          "output_type": "stream",
          "name": "stdout",
          "text": [
            "RFR_ALL_features =  0.986013986013986  vs RFR_filtered =  0.986013986013986 Is better?  False\n",
            "RFC_ALL_features =  0.993006993006993  vs RFC_filtered =  0.993006993006993 Is better?  False\n",
            "ETC_ALL_features =  0.986013986013986  vs ETC_filtered =  0.993006993006993 Is better?  True\n"
          ]
        },
        {
          "output_type": "execute_result",
          "data": {
            "text/plain": [
              "<matplotlib.axes._subplots.AxesSubplot at 0x7f45dd691890>"
            ]
          },
          "metadata": {},
          "execution_count": 86
        },
        {
          "output_type": "display_data",
          "data": {
            "text/plain": [
              "<Figure size 432x288 with 2 Axes>"
            ],
            "image/png": "[encoded data removed]"
          },
          "metadata": {
            "needs_background": "light"
          }
        }
      ]
    },
    {
      "cell_type": "code",
      "source": [],
      "metadata": {
        "id": "WpIrPggxawcl"
      },
      "execution_count": null,
      "outputs": []
    }
  ]
}