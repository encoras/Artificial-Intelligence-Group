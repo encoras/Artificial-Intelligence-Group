{
  "nbformat": 4,
  "nbformat_minor": 0,
  "metadata": {
    "colab": {
      "provenance": [],
      "mount_file_id": "1UkHBOl8YcpOgny0pQIDpfYKC5-bhb4GO",
      "authorship_tag": "ABX9TyO501bTo2iLO/XS6ahBeJjF",
      "include_colab_link": true
    },
    "kernelspec": {
      "name": "python3",
      "display_name": "Python 3"
    },
    "language_info": {
      "name": "python"
    }
  },
  "cells": [
    {
      "cell_type": "markdown",
      "metadata": {
        "id": "view-in-github",
        "colab_type": "text"
      },
      "source": [
        "<a href=\"https://colab.research.google.com/github/encoras/Artificial-Intelligence-Group/blob/master/Feature_transform_Task_classifier_adult.ipynb\" target=\"_parent\"><img src=\"https://colab.research.google.com/assets/colab-badge.svg\" alt=\"Open In Colab\"/></a>"
      ]
    },
    {
      "cell_type": "code",
      "source": [
        "from  sklearn import datasets\n",
        "import pandas as pd\n",
        "import numpy as np\n",
        "import seaborn as sns\n",
        "from sklearn.model_selection import train_test_split\n",
        "from sklearn import metrics\n",
        "from matplotlib import pyplot as plt\n",
        "from sklearn.neural_network import MLPClassifier\n",
        "from sklearn.tree import DecisionTreeClassifier\n",
        "from sklearn.neighbors import KNeighborsClassifier\n",
        "from sklearn.naive_bayes import GaussianNB\n",
        "from sklearn.linear_model import LogisticRegression\n",
        "from sklearn.ensemble import RandomForestClassifier, StackingClassifier\n",
        "from sklearn.ensemble import BaggingClassifier\n",
        "from sklearn.ensemble import AdaBoostClassifier\n",
        "from sklearn.metrics import confusion_matrix, ConfusionMatrixDisplay\n",
        "from sklearn.metrics import accuracy_score, precision_score\n",
        "from sklearn.metrics import recall_score, f1_score\n",
        "from sklearn.metrics import roc_auc_score\n",
        "from sklearn.metrics import roc_curve, precision_recall_curve, classification_report\n",
        "from sklearn import svm\n",
        "from numpy.random import seed\n"
      ],
      "metadata": {
        "id": "gxqvnorGIRr_"
      },
      "execution_count": null,
      "outputs": []
    },
    {
      "cell_type": "markdown",
      "source": [
        "# **RAND=22310 # should be your student code abcd**"
      ],
      "metadata": {
        "id": "fDMi9snGp0zu"
      }
    },
    {
      "cell_type": "code",
      "source": [
        "RAND=1234 # should be your student code abcd\n",
        "seed(RAND)"
      ],
      "metadata": {
        "id": "BFA9qlmypF2T"
      },
      "execution_count": null,
      "outputs": []
    },
    {
      "cell_type": "markdown",
      "source": [
        "from https://drive.google.com/file/d/1-jrwZmZ3kqH-3JbckqbxEsr7EjW27IDJ/view?usp=sharing copy file archive.zip to your folder."
      ],
      "metadata": {
        "id": "Z2daOMRPcl97"
      }
    },
    {
      "cell_type": "code",
      "source": [
        "df = pd.read_csv('https://raw.githubusercontent.com/pooja2512/Adult-Census-Income/refs/heads/master/adult.csv')"
      ],
      "metadata": {
        "id": "GCg5qLcsmMkb"
      },
      "execution_count": null,
      "outputs": []
    },
    {
      "cell_type": "markdown",
      "source": [
        "**About the Dataset**\n",
        "```*Age: Describes the age of individuals. Continuous.\n",
        "*Workclass*: Private, Self-emp-not-inc, Self-emp-inc, Federal-gov, Local-gov, State-gov, Without-pay, Never-worked.\n",
        "*fnlwgt*: Continuous.\n",
        "*education*: Bachelors, Some-college, 11th, HS-grad, Prof-school, Assoc-acdm, Assoc-voc, 9th, 7th-8th, 12th, Masters, 1st-4th, 10th, Doctorate, 5th-6th, Preschool.\n",
        "*education-num*: Number of years spent in education. Continuous.\n",
        "*marital-status*: Married-civ-spouse, Divorced, Never-married, Separated, Widowed, Married-spouse-absent, Married-AF-spouse.\n",
        "*occupation*: Tech-support, Craft-repair, Other-service, Sales, Exec-managerial, Prof-specialty, Handlers-cleaners, Machine-op-inspct, Adm-clerical, Farming-fishing, Transport-moving, Priv-house-serv, Protective-serv, Armed-Forces.\n",
        "*relationship*: Wife, Own-child, Husband, Not-in-family, Other-relative, Unmarried.\n",
        "*race*: White, Asian-Pac-Islander, Amer-Indian-Eskimo, Other, Black.\n",
        "*sex*: Female, Male.\n",
        "*capital-gain*: Continuous.\n",
        "*capital-loss*: Continuous.\n",
        "*hours-per-week*: Continuous.\n",
        "*native-country*: United-States, Cambodia, England, Puerto-Rico, Canada, Germany, Outlying-US(Guam-USVI-etc), India, Japan, Greece, South, China, Cuba, Iran, Honduras, Philippines, Italy, Poland, Jamaica, Vietnam, Mexico, Portugal, Ireland, France, Dominican-Republic, Laos, Ecuador, Taiwan, Haiti, Columbia, Hungary, Guatemala, Nicaragua, Scotland, Thailand, Yugoslavia, El-Salvador, Trinadad&Tobago, Peru, Hong, Holand-Netherlands.\n",
        "*salary*: >50K,<=50K  ---- CLASSIFICATION Target\n",
        "\n",
        "```\n",
        "\n"
      ],
      "metadata": {
        "id": "JHRJKM6_m692"
      }
    },
    {
      "cell_type": "code",
      "source": [
        "exclude_atribute=[ \"fnlwgt\", 'education.num', 'capital.gain', 'capital.loss']\n",
        "for att in exclude_atribute:\n",
        "  del df[att]\n",
        "df.head()"
      ],
      "metadata": {
        "id": "ozCFpEjg8FbL",
        "outputId": "792a1160-0311-4bee-f9d3-37e451df6e29",
        "colab": {
          "base_uri": "https://localhost:8080/",
          "height": 295
        }
      },
      "execution_count": null,
      "outputs": [
        {
          "output_type": "execute_result",
          "data": {
            "text/plain": [
              "   age workclass     education marital.status         occupation  \\\n",
              "0   90         ?       HS-grad        Widowed                  ?   \n",
              "1   82   Private       HS-grad        Widowed    Exec-managerial   \n",
              "2   66         ?  Some-college        Widowed                  ?   \n",
              "3   54   Private       7th-8th       Divorced  Machine-op-inspct   \n",
              "4   41   Private  Some-college      Separated     Prof-specialty   \n",
              "\n",
              "    relationship   race     sex  hours.per.week native.country income  \n",
              "0  Not-in-family  White  Female              40  United-States  <=50K  \n",
              "1  Not-in-family  White  Female              18  United-States  <=50K  \n",
              "2      Unmarried  Black  Female              40  United-States  <=50K  \n",
              "3      Unmarried  White  Female              40  United-States  <=50K  \n",
              "4      Own-child  White  Female              40  United-States  <=50K  "
            ],
            "text/html": [
              "\n",
              "  <div id=\"df-245b521d-f256-4ddc-b430-7f2a9f905ba8\" class=\"colab-df-container\">\n",
              "    <div>\n",
              "<style scoped>\n",
              "    .dataframe tbody tr th:only-of-type {\n",
              "        vertical-align: middle;\n",
              "    }\n",
              "\n",
              "    .dataframe tbody tr th {\n",
              "        vertical-align: top;\n",
              "    }\n",
              "\n",
              "    .dataframe thead th {\n",
              "        text-align: right;\n",
              "    }\n",
              "</style>\n",
              "<table border=\"1\" class=\"dataframe\">\n",
              "  <thead>\n",
              "    <tr style=\"text-align: right;\">\n",
              "      <th></th>\n",
              "      <th>age</th>\n",
              "      <th>workclass</th>\n",
              "      <th>education</th>\n",
              "      <th>marital.status</th>\n",
              "      <th>occupation</th>\n",
              "      <th>relationship</th>\n",
              "      <th>race</th>\n",
              "      <th>sex</th>\n",
              "      <th>hours.per.week</th>\n",
              "      <th>native.country</th>\n",
              "      <th>income</th>\n",
              "    </tr>\n",
              "  </thead>\n",
              "  <tbody>\n",
              "    <tr>\n",
              "      <th>0</th>\n",
              "      <td>90</td>\n",
              "      <td>?</td>\n",
              "      <td>HS-grad</td>\n",
              "      <td>Widowed</td>\n",
              "      <td>?</td>\n",
              "      <td>Not-in-family</td>\n",
              "      <td>White</td>\n",
              "      <td>Female</td>\n",
              "      <td>40</td>\n",
              "      <td>United-States</td>\n",
              "      <td>&lt;=50K</td>\n",
              "    </tr>\n",
              "    <tr>\n",
              "      <th>1</th>\n",
              "      <td>82</td>\n",
              "      <td>Private</td>\n",
              "      <td>HS-grad</td>\n",
              "      <td>Widowed</td>\n",
              "      <td>Exec-managerial</td>\n",
              "      <td>Not-in-family</td>\n",
              "      <td>White</td>\n",
              "      <td>Female</td>\n",
              "      <td>18</td>\n",
              "      <td>United-States</td>\n",
              "      <td>&lt;=50K</td>\n",
              "    </tr>\n",
              "    <tr>\n",
              "      <th>2</th>\n",
              "      <td>66</td>\n",
              "      <td>?</td>\n",
              "      <td>Some-college</td>\n",
              "      <td>Widowed</td>\n",
              "      <td>?</td>\n",
              "      <td>Unmarried</td>\n",
              "      <td>Black</td>\n",
              "      <td>Female</td>\n",
              "      <td>40</td>\n",
              "      <td>United-States</td>\n",
              "      <td>&lt;=50K</td>\n",
              "    </tr>\n",
              "    <tr>\n",
              "      <th>3</th>\n",
              "      <td>54</td>\n",
              "      <td>Private</td>\n",
              "      <td>7th-8th</td>\n",
              "      <td>Divorced</td>\n",
              "      <td>Machine-op-inspct</td>\n",
              "      <td>Unmarried</td>\n",
              "      <td>White</td>\n",
              "      <td>Female</td>\n",
              "      <td>40</td>\n",
              "      <td>United-States</td>\n",
              "      <td>&lt;=50K</td>\n",
              "    </tr>\n",
              "    <tr>\n",
              "      <th>4</th>\n",
              "      <td>41</td>\n",
              "      <td>Private</td>\n",
              "      <td>Some-college</td>\n",
              "      <td>Separated</td>\n",
              "      <td>Prof-specialty</td>\n",
              "      <td>Own-child</td>\n",
              "      <td>White</td>\n",
              "      <td>Female</td>\n",
              "      <td>40</td>\n",
              "      <td>United-States</td>\n",
              "      <td>&lt;=50K</td>\n",
              "    </tr>\n",
              "  </tbody>\n",
              "</table>\n",
              "</div>\n",
              "    <div class=\"colab-df-buttons\">\n",
              "\n",
              "  <div class=\"colab-df-container\">\n",
              "    <button class=\"colab-df-convert\" onclick=\"convertToInteractive('df-245b521d-f256-4ddc-b430-7f2a9f905ba8')\"\n",
              "            title=\"Convert this dataframe to an interactive table.\"\n",
              "            style=\"display:none;\">\n",
              "\n",
              "  <svg xmlns=\"http://www.w3.org/2000/svg\" height=\"24px\" viewBox=\"0 -960 960 960\">\n",
              "    <path d=\"M120-120v-720h720v720H120Zm60-500h600v-160H180v160Zm220 220h160v-160H400v160Zm0 220h160v-160H400v160ZM180-400h160v-160H180v160Zm440 0h160v-160H620v160ZM180-180h160v-160H180v160Zm440 0h160v-160H620v160Z\"/>\n",
              "  </svg>\n",
              "    </button>\n",
              "\n",
              "  <style>\n",
              "    .colab-df-container {\n",
              "      display:flex;\n",
              "      gap: 12px;\n",
              "    }\n",
              "\n",
              "    .colab-df-convert {\n",
              "      background-color: #E8F0FE;\n",
              "      border: none;\n",
              "      border-radius: 50%;\n",
              "      cursor: pointer;\n",
              "      display: none;\n",
              "      fill: #1967D2;\n",
              "      height: 32px;\n",
              "      padding: 0 0 0 0;\n",
              "      width: 32px;\n",
              "    }\n",
              "\n",
              "    .colab-df-convert:hover {\n",
              "      background-color: #E2EBFA;\n",
              "      box-shadow: 0px 1px 2px rgba(60, 64, 67, 0.3), 0px 1px 3px 1px rgba(60, 64, 67, 0.15);\n",
              "      fill: #174EA6;\n",
              "    }\n",
              "\n",
              "    .colab-df-buttons div {\n",
              "      margin-bottom: 4px;\n",
              "    }\n",
              "\n",
              "    [theme=dark] .colab-df-convert {\n",
              "      background-color: #3B4455;\n",
              "      fill: #D2E3FC;\n",
              "    }\n",
              "\n",
              "    [theme=dark] .colab-df-convert:hover {\n",
              "      background-color: #434B5C;\n",
              "      box-shadow: 0px 1px 3px 1px rgba(0, 0, 0, 0.15);\n",
              "      filter: drop-shadow(0px 1px 2px rgba(0, 0, 0, 0.3));\n",
              "      fill: #FFFFFF;\n",
              "    }\n",
              "  </style>\n",
              "\n",
              "    <script>\n",
              "      const buttonEl =\n",
              "        document.querySelector('#df-245b521d-f256-4ddc-b430-7f2a9f905ba8 button.colab-df-convert');\n",
              "      buttonEl.style.display =\n",
              "        google.colab.kernel.accessAllowed ? 'block' : 'none';\n",
              "\n",
              "      async function convertToInteractive(key) {\n",
              "        const element = document.querySelector('#df-245b521d-f256-4ddc-b430-7f2a9f905ba8');\n",
              "        const dataTable =\n",
              "          await google.colab.kernel.invokeFunction('convertToInteractive',\n",
              "                                                    [key], {});\n",
              "        if (!dataTable) return;\n",
              "\n",
              "        const docLinkHtml = 'Like what you see? Visit the ' +\n",
              "          '<a target=\"_blank\" href=https://colab.research.google.com/notebooks/data_table.ipynb>data table notebook</a>'\n",
              "          + ' to learn more about interactive tables.';\n",
              "        element.innerHTML = '';\n",
              "        dataTable['output_type'] = 'display_data';\n",
              "        await google.colab.output.renderOutput(dataTable, element);\n",
              "        const docLink = document.createElement('div');\n",
              "        docLink.innerHTML = docLinkHtml;\n",
              "        element.appendChild(docLink);\n",
              "      }\n",
              "    </script>\n",
              "  </div>\n",
              "\n",
              "\n",
              "<div id=\"df-76e2e5da-3c0a-4ece-ba12-fe1923577bb6\">\n",
              "  <button class=\"colab-df-quickchart\" onclick=\"quickchart('df-76e2e5da-3c0a-4ece-ba12-fe1923577bb6')\"\n",
              "            title=\"Suggest charts\"\n",
              "            style=\"display:none;\">\n",
              "\n",
              "<svg xmlns=\"http://www.w3.org/2000/svg\" height=\"24px\"viewBox=\"0 0 24 24\"\n",
              "     width=\"24px\">\n",
              "    <g>\n",
              "        <path d=\"M19 3H5c-1.1 0-2 .9-2 2v14c0 1.1.9 2 2 2h14c1.1 0 2-.9 2-2V5c0-1.1-.9-2-2-2zM9 17H7v-7h2v7zm4 0h-2V7h2v10zm4 0h-2v-4h2v4z\"/>\n",
              "    </g>\n",
              "</svg>\n",
              "  </button>\n",
              "\n",
              "<style>\n",
              "  .colab-df-quickchart {\n",
              "      --bg-color: #E8F0FE;\n",
              "      --fill-color: #1967D2;\n",
              "      --hover-bg-color: #E2EBFA;\n",
              "      --hover-fill-color: #174EA6;\n",
              "      --disabled-fill-color: #AAA;\n",
              "      --disabled-bg-color: #DDD;\n",
              "  }\n",
              "\n",
              "  [theme=dark] .colab-df-quickchart {\n",
              "      --bg-color: #3B4455;\n",
              "      --fill-color: #D2E3FC;\n",
              "      --hover-bg-color: #434B5C;\n",
              "      --hover-fill-color: #FFFFFF;\n",
              "      --disabled-bg-color: #3B4455;\n",
              "      --disabled-fill-color: #666;\n",
              "  }\n",
              "\n",
              "  .colab-df-quickchart {\n",
              "    background-color: var(--bg-color);\n",
              "    border: none;\n",
              "    border-radius: 50%;\n",
              "    cursor: pointer;\n",
              "    display: none;\n",
              "    fill: var(--fill-color);\n",
              "    height: 32px;\n",
              "    padding: 0;\n",
              "    width: 32px;\n",
              "  }\n",
              "\n",
              "  .colab-df-quickchart:hover {\n",
              "    background-color: var(--hover-bg-color);\n",
              "    box-shadow: 0 1px 2px rgba(60, 64, 67, 0.3), 0 1px 3px 1px rgba(60, 64, 67, 0.15);\n",
              "    fill: var(--button-hover-fill-color);\n",
              "  }\n",
              "\n",
              "  .colab-df-quickchart-complete:disabled,\n",
              "  .colab-df-quickchart-complete:disabled:hover {\n",
              "    background-color: var(--disabled-bg-color);\n",
              "    fill: var(--disabled-fill-color);\n",
              "    box-shadow: none;\n",
              "  }\n",
              "\n",
              "  .colab-df-spinner {\n",
              "    border: 2px solid var(--fill-color);\n",
              "    border-color: transparent;\n",
              "    border-bottom-color: var(--fill-color);\n",
              "    animation:\n",
              "      spin 1s steps(1) infinite;\n",
              "  }\n",
              "\n",
              "  @keyframes spin {\n",
              "    0% {\n",
              "      border-color: transparent;\n",
              "      border-bottom-color: var(--fill-color);\n",
              "      border-left-color: var(--fill-color);\n",
              "    }\n",
              "    20% {\n",
              "      border-color: transparent;\n",
              "      border-left-color: var(--fill-color);\n",
              "      border-top-color: var(--fill-color);\n",
              "    }\n",
              "    30% {\n",
              "      border-color: transparent;\n",
              "      border-left-color: var(--fill-color);\n",
              "      border-top-color: var(--fill-color);\n",
              "      border-right-color: var(--fill-color);\n",
              "    }\n",
              "    40% {\n",
              "      border-color: transparent;\n",
              "      border-right-color: var(--fill-color);\n",
              "      border-top-color: var(--fill-color);\n",
              "    }\n",
              "    60% {\n",
              "      border-color: transparent;\n",
              "      border-right-color: var(--fill-color);\n",
              "    }\n",
              "    80% {\n",
              "      border-color: transparent;\n",
              "      border-right-color: var(--fill-color);\n",
              "      border-bottom-color: var(--fill-color);\n",
              "    }\n",
              "    90% {\n",
              "      border-color: transparent;\n",
              "      border-bottom-color: var(--fill-color);\n",
              "    }\n",
              "  }\n",
              "</style>\n",
              "\n",
              "  <script>\n",
              "    async function quickchart(key) {\n",
              "      const quickchartButtonEl =\n",
              "        document.querySelector('#' + key + ' button');\n",
              "      quickchartButtonEl.disabled = true;  // To prevent multiple clicks.\n",
              "      quickchartButtonEl.classList.add('colab-df-spinner');\n",
              "      try {\n",
              "        const charts = await google.colab.kernel.invokeFunction(\n",
              "            'suggestCharts', [key], {});\n",
              "      } catch (error) {\n",
              "        console.error('Error during call to suggestCharts:', error);\n",
              "      }\n",
              "      quickchartButtonEl.classList.remove('colab-df-spinner');\n",
              "      quickchartButtonEl.classList.add('colab-df-quickchart-complete');\n",
              "    }\n",
              "    (() => {\n",
              "      let quickchartButtonEl =\n",
              "        document.querySelector('#df-76e2e5da-3c0a-4ece-ba12-fe1923577bb6 button');\n",
              "      quickchartButtonEl.style.display =\n",
              "        google.colab.kernel.accessAllowed ? 'block' : 'none';\n",
              "    })();\n",
              "  </script>\n",
              "</div>\n",
              "\n",
              "    </div>\n",
              "  </div>\n"
            ],
            "application/vnd.google.colaboratory.intrinsic+json": {
              "type": "dataframe",
              "variable_name": "df",
              "summary": "{\n  \"name\": \"df\",\n  \"rows\": 32561,\n  \"fields\": [\n    {\n      \"column\": \"age\",\n      \"properties\": {\n        \"dtype\": \"number\",\n        \"std\": 13,\n        \"min\": 17,\n        \"max\": 90,\n        \"num_unique_values\": 73,\n        \"samples\": [\n          41,\n          80,\n          61\n        ],\n        \"semantic_type\": \"\",\n        \"description\": \"\"\n      }\n    },\n    {\n      \"column\": \"workclass\",\n      \"properties\": {\n        \"dtype\": \"category\",\n        \"num_unique_values\": 9,\n        \"samples\": [\n          \"Without-pay\",\n          \"Private\",\n          \"Self-emp-inc\"\n        ],\n        \"semantic_type\": \"\",\n        \"description\": \"\"\n      }\n    },\n    {\n      \"column\": \"education\",\n      \"properties\": {\n        \"dtype\": \"category\",\n        \"num_unique_values\": 16,\n        \"samples\": [\n          \"HS-grad\",\n          \"Some-college\",\n          \"Prof-school\"\n        ],\n        \"semantic_type\": \"\",\n        \"description\": \"\"\n      }\n    },\n    {\n      \"column\": \"marital.status\",\n      \"properties\": {\n        \"dtype\": \"category\",\n        \"num_unique_values\": 7,\n        \"samples\": [\n          \"Widowed\",\n          \"Divorced\",\n          \"Married-spouse-absent\"\n        ],\n        \"semantic_type\": \"\",\n        \"description\": \"\"\n      }\n    },\n    {\n      \"column\": \"occupation\",\n      \"properties\": {\n        \"dtype\": \"category\",\n        \"num_unique_values\": 15,\n        \"samples\": [\n          \"Sales\",\n          \"Tech-support\",\n          \"?\"\n        ],\n        \"semantic_type\": \"\",\n        \"description\": \"\"\n      }\n    },\n    {\n      \"column\": \"relationship\",\n      \"properties\": {\n        \"dtype\": \"category\",\n        \"num_unique_values\": 6,\n        \"samples\": [\n          \"Not-in-family\",\n          \"Unmarried\",\n          \"Wife\"\n        ],\n        \"semantic_type\": \"\",\n        \"description\": \"\"\n      }\n    },\n    {\n      \"column\": \"race\",\n      \"properties\": {\n        \"dtype\": \"category\",\n        \"num_unique_values\": 5,\n        \"samples\": [\n          \"Black\",\n          \"Amer-Indian-Eskimo\",\n          \"Asian-Pac-Islander\"\n        ],\n        \"semantic_type\": \"\",\n        \"description\": \"\"\n      }\n    },\n    {\n      \"column\": \"sex\",\n      \"properties\": {\n        \"dtype\": \"category\",\n        \"num_unique_values\": 2,\n        \"samples\": [\n          \"Male\",\n          \"Female\"\n        ],\n        \"semantic_type\": \"\",\n        \"description\": \"\"\n      }\n    },\n    {\n      \"column\": \"hours.per.week\",\n      \"properties\": {\n        \"dtype\": \"number\",\n        \"std\": 12,\n        \"min\": 1,\n        \"max\": 99,\n        \"num_unique_values\": 94,\n        \"samples\": [\n          34,\n          80\n        ],\n        \"semantic_type\": \"\",\n        \"description\": \"\"\n      }\n    },\n    {\n      \"column\": \"native.country\",\n      \"properties\": {\n        \"dtype\": \"category\",\n        \"num_unique_values\": 42,\n        \"samples\": [\n          \"Peru\",\n          \"Puerto-Rico\"\n        ],\n        \"semantic_type\": \"\",\n        \"description\": \"\"\n      }\n    },\n    {\n      \"column\": \"income\",\n      \"properties\": {\n        \"dtype\": \"category\",\n        \"num_unique_values\": 2,\n        \"samples\": [\n          \">50K\",\n          \"<=50K\"\n        ],\n        \"semantic_type\": \"\",\n        \"description\": \"\"\n      }\n    }\n  ]\n}"
            }
          },
          "metadata": {},
          "execution_count": 4
        }
      ]
    },
    {
      "cell_type": "markdown",
      "source": [
        "We can see that the columns workclass, occupation, and native.country contains null values. There can be many ways to impute missing values, but right now, for the sake of simplicity we would impute them using mode!\n",
        "\n"
      ],
      "metadata": {
        "id": "Ela4z68crHTI"
      }
    },
    {
      "cell_type": "code",
      "source": [
        "df[df == '?'] = np.nan\n",
        "for col in ['workclass', 'occupation', 'native.country']:\n",
        "    df[col].fillna(df[col].mode()[0], inplace=True)"
      ],
      "metadata": {
        "id": "bW_iMWP7rFzl",
        "outputId": "6cfd0b0a-ba78-4d4c-fb77-9711962b2ebd",
        "colab": {
          "base_uri": "https://localhost:8080/"
        }
      },
      "execution_count": null,
      "outputs": [
        {
          "output_type": "stream",
          "name": "stderr",
          "text": [
            "<ipython-input-5-36955cd4f62e>:3: FutureWarning: A value is trying to be set on a copy of a DataFrame or Series through chained assignment using an inplace method.\n",
            "The behavior will change in pandas 3.0. This inplace method will never work because the intermediate object on which we are setting values always behaves as a copy.\n",
            "\n",
            "For example, when doing 'df[col].method(value, inplace=True)', try using 'df.method({col: value}, inplace=True)' or df[col] = df[col].method(value) instead, to perform the operation inplace on the original object.\n",
            "\n",
            "\n",
            "  df[col].fillna(df[col].mode()[0], inplace=True)\n"
          ]
        }
      ]
    },
    {
      "cell_type": "markdown",
      "source": [
        "Data preparation for a model implementation"
      ],
      "metadata": {
        "id": "xYs5sZHir9BY"
      }
    },
    {
      "cell_type": "code",
      "source": [
        "from sklearn.preprocessing import LabelEncoder\n",
        "categorical = ['workclass','education', 'marital.status', 'occupation', 'relationship',\n",
        "               'race', 'sex','native.country','income']\n",
        "label_encoder = LabelEncoder()\n",
        "for col in categorical:\n",
        "    label_encoder.fit(df[col])\n",
        "    df[col] = label_encoder.transform(df[col])\n",
        "\n",
        "from sklearn.model_selection import train_test_split\n",
        "X = df[['workclass','education', 'marital.status', 'occupation', 'relationship',\n",
        "               'race', 'sex','native.country', 'age', 'hours.per.week']]\n",
        "y = df['income']\n",
        "\n",
        "feature_name = ['workclass','education', 'marital.status', 'occupation', 'relationship',\n",
        "               'race', 'sex','native.country', 'age', 'hours.per.week']"
      ],
      "metadata": {
        "id": "pPmTNi_VsB7s"
      },
      "execution_count": null,
      "outputs": []
    },
    {
      "cell_type": "markdown",
      "source": [
        "#let's split data and do input feature transform."
      ],
      "metadata": {
        "id": "cdtYGt-8xzy_"
      }
    },
    {
      "cell_type": "code",
      "source": [
        "X_tr, X_te, y_train, y_test = train_test_split(X, y, test_size=0.3, random_state=RAND, shuffle=True, stratify=y)"
      ],
      "metadata": {
        "id": "1MDElFLXIp1_"
      },
      "execution_count": null,
      "outputs": []
    },
    {
      "cell_type": "code",
      "source": [
        "from sklearn.preprocessing import StandardScaler\n",
        "#Train standardsaler on X_tr and apply it to X_tr and X_te\n",
        "--code--\n",
        "X_train=--code--\n",
        "X_test=--code--"
      ],
      "metadata": {
        "id": "tUJuxXCYRG_0"
      },
      "execution_count": null,
      "outputs": []
    },
    {
      "cell_type": "markdown",
      "source": [
        "## Let's implement the baseline model. With THE BEST parameters from the assignment 2 and all features from a dataset."
      ],
      "metadata": {
        "id": "wCDXEgoBzchs"
      }
    },
    {
      "cell_type": "markdown",
      "source": [
        "**The task 1.**\n",
        "Depending on the last digit of your student Internal code (abcde) take an \"optimal\" specific *parameter* from the assignment 2.\n",
        "The RAND variable is your student ID numbers RAND=\"bcde\" at a top of the code.\n",
        "\n",
        "0. DecisionTreeClassifier(criterion='entropy', random_state=RAND, min_samples_split = `???`)\n",
        "1. DecisionTreeClassifier(criterion='gini', random_state=RAND, max_depth = `???`)\n",
        "2. KNeighborsClassifier(n_neighbors=`???`, p=2)\n",
        "3. KNeighborsClassifier(n_neighbors='???', p=1)\n",
        "4. svm. SVC(random_state=RAND, kernel='linear', C=`???`)\n",
        "5. svm.SVC(random_state=RAND, kernel='rbf', gamma=0.07, C=`???`)\n",
        "6. svm.SVC(random_state=RAND,kernel='poly', degree=3, C=`???`)\n",
        "7. svm.LinearSVC(random_state=RAND,C=`???`)\n",
        "8. MLPClassifier(solver='lbfgs', alpha=1e-5, hidden_layer_sizes=(`???`,), random_state=RAND)\n",
        "9. MLPClassifier(solver='lbfgs', alpha=1e-5, hidden_layer_sizes=(`???`,5), random_state=RAND)"
      ],
      "metadata": {
        "id": "ndb9y7x9SZni"
      }
    },
    {
      "cell_type": "code",
      "source": [
        "model = -- to code the BEST classifier from 2-nd task--\n",
        "--code--\n",
        "scores_baseline=--code--\n",
        "print(\"Baseline accuracy = \", scores_baseline)\n"
      ],
      "metadata": {
        "id": "SBWORuRwSoxo",
        "outputId": "d1b7e67a-358d-4df1-8b20-bc9c1951cdd3",
        "colab": {
          "base_uri": "https://localhost:8080/"
        }
      },
      "execution_count": null,
      "outputs": [
        {
          "output_type": "stream",
          "name": "stdout",
          "text": [
            "Baseline accuracy =  0.8245470365441704\n"
          ]
        }
      ]
    },
    {
      "cell_type": "code",
      "source": [
        "# Plot Confusion matrix\n",
        "# -- to code --\n"
      ],
      "metadata": {
        "id": "aITCslgDJnXT"
      },
      "execution_count": null,
      "outputs": []
    },
    {
      "cell_type": "code",
      "source": [
        "print(\"Baseline metrics:\")\n",
        "print(\"- Accuracy  = %.3f\" % accuracy_score(y_test, y_pred))\n",
        "print(\"- ROC AUC   = %.3f\" % roc_auc_score(y_test, y_pred))\n",
        "# compute the classification report\n",
        "print(classification_report(y_test, y_pred))"
      ],
      "metadata": {
        "id": "RNFmhLvCLH4n"
      },
      "execution_count": null,
      "outputs": []
    },
    {
      "cell_type": "markdown",
      "source": [
        "-----------------------------------------------------------------------\n",
        "**Now, let's build your model with feature selection.**\n",
        "-----------------------------------------------------------------------"
      ],
      "metadata": {
        "id": "44TxuLk9NAFr"
      }
    },
    {
      "cell_type": "markdown",
      "source": [
        "#Task 2. Features transformation by t-SNE for visualisation purpose\n",
        "\n",
        "2.1 Apply T-SNE to trasform the data into 2D space, use \"random_state=RAND\". See example: https://scipy-lectures.org/packages/scikit-learn/auto_examples/plot_tsne.html\n",
        "\n",
        "\n",
        "\n"
      ],
      "metadata": {
        "id": "HcGA-OCKAY1y"
      }
    },
    {
      "cell_type": "code",
      "source": [
        "from sklearn.manifold import TSNE\n",
        "sklearn_tsne = TSNE(--code--)\n",
        "\n",
        "X_test_tsne=sklearn_tsne.fit_transform(X_test[:5000,:])\n",
        "import seaborn as sns\n",
        "sns.scatterplot(x=X_test_tsne[:5000,0], y=X_test_tsne[:5000,1], hue=y_test[:5000],\n",
        "                palette=sns.color_palette(\"hls\", 2)).set(title=\"Adult data t-SNE projection\")"
      ],
      "metadata": {
        "id": "4JVh7LeTWxXV"
      },
      "execution_count": null,
      "outputs": []
    },
    {
      "cell_type": "markdown",
      "source": [
        "#Task 3. Features transformation by linear PCA.\n",
        "\n",
        "3.1 Apply Linear PCA to trasform the data into 2D space, use \"random_state=RAND\". See example: https://www.geeksforgeeks.org/implementing-pca-in-python-with-scikit-learn/\n",
        "\n",
        "3.2 Applay PCA transformation to train and test sets. Train the classifier and enaluate the accuracy\n"
      ],
      "metadata": {
        "id": "W4TZqy_W887M"
      }
    },
    {
      "cell_type": "code",
      "source": [
        "from sklearn.decomposition import PCA as sklearnPCA\n",
        "sklearn_pca = sklearnPCA(n_components=2, random_state= --code--)\n",
        "--to code--\n",
        "X_train_pca = --to code --\n",
        "X_test_pca  = sklearn_pca.transform(X_test)\n",
        "sns.scatterplot(x=X_test_pca[:,0], y=X_test_pca[:,1], hue=y_test, palette=sns.color_palette(\"hls\", 2)).set(title=\"Adult data PCA projection\")\n"
      ],
      "metadata": {
        "id": "-zdRLbEErEcm"
      },
      "execution_count": null,
      "outputs": []
    },
    {
      "cell_type": "code",
      "source": [
        "sklearn_pca.components_"
      ],
      "metadata": {
        "id": "jlgnBBmL_w3t"
      },
      "execution_count": null,
      "outputs": []
    },
    {
      "cell_type": "code",
      "source": [
        "model.fit(X_train_pca, y_train)\n",
        "y_pred = model.predict(X_test_pca)\n",
        "scores_pca= -- to code --\n",
        "print(\"linear-PCA features accuracy = \", scores_pca)\n"
      ],
      "metadata": {
        "id": "_r9VooFr6Zzv"
      },
      "execution_count": null,
      "outputs": []
    },
    {
      "cell_type": "markdown",
      "source": [
        "3.3 Apply Linear PCA to trasform the data into 3D space"
      ],
      "metadata": {
        "id": "-t5VKMdMCfZK"
      }
    },
    {
      "cell_type": "code",
      "source": [
        "sklearn_pca = sklearnPCA(n_components=--code--, random_state= --code--)\n",
        "sklearn_pca.fit(--code--)\n",
        "X_train_pca = sklearn_pca.transform(X_train)\n",
        "X_test_pca  = sklearn_pca.transform(X_test)\n",
        "# import relevant libraries for 3d graph\n",
        "from mpl_toolkits.mplot3d import Axes3D\n",
        "fig = plt.figure(figsize=(10,10))\n",
        "\n",
        "# choose projection 3d for creating a 3d graph\n",
        "axis = fig.add_subplot(111, projection='3d')\n",
        "\n",
        "# x[:,0]is pc1,x[:,1] is pc2 while x[:,2] is pc3\n",
        "axis.scatter(X_test_pca[:,0],X_test_pca[:,1],X_test_pca[:,2], c=y_test,cmap='plasma')\n",
        "axis.set_xlabel(\"PC1\", fontsize=10)\n",
        "axis.set_ylabel(\"PC2\", fontsize=10)\n",
        "axis.set_zlabel(\"PC3\", fontsize=10)\n",
        "\n"
      ],
      "metadata": {
        "id": "JqPhg-l5ABD8"
      },
      "execution_count": null,
      "outputs": []
    },
    {
      "cell_type": "markdown",
      "source": [
        "3.4 Evaluate model's prediction in 3D data space"
      ],
      "metadata": {
        "id": "yMX6Q9SVC6m4"
      }
    },
    {
      "cell_type": "code",
      "source": [
        "# take your model, train and evaluate on 3 features and plot confusion matrix\n",
        "--code--\n",
        "--code--\n",
        "--code--\n"
      ],
      "metadata": {
        "id": "F4ljtcAnC5VZ"
      },
      "execution_count": null,
      "outputs": []
    },
    {
      "cell_type": "markdown",
      "source": [
        "#Task 3. features trasformation by KernelPCA.\n",
        "\n",
        "Student ID [abcde]\n",
        "\n",
        "If e=[0,1] use kernel='linear'\n",
        "\n",
        "If e=[2,3] use kernel='poly'\n",
        "\n",
        "If e=[4,5] use kernel='rbf'\n",
        "\n",
        "If e=[6,7] use kernel='sigmoid'\n",
        "\n",
        "If e=[8,9] use kernel='cosine'\n",
        "\n",
        "3.1 Select best number of features from n_components=1 to 9 with the best test set classification accuracy.\n",
        "3.2 Plot accuracy graph Accuracy vs number of Principal Componentes (n_components).\n",
        "see examplel: https://www.bogotobogo.com/python/scikit-learn/scikit_machine_learning_Data_Compresssion_via_Dimensionality_Reduction_3-nonlinear-mappings-via-kernel-principal-component-analysis.php\n",
        "\n",
        "P.s. due to big number of data, the calculations may take up to 20min."
      ],
      "metadata": {
        "id": "G7Q_5SZ6-nzo"
      }
    },
    {
      "cell_type": "code",
      "source": [
        "from sklearn.decomposition import KernelPCA\n",
        "scores=[]\n",
        "for i in range(1,9):\n",
        "  sklearn_pca = KernelPCA (--to code --)\n",
        "  --to code--\n",
        "  scores.append(scores_base)\n",
        "\n",
        "plt.plot(range(1,9), scores)"
      ],
      "metadata": {
        "id": "vmU8uclUsiXQ",
        "colab": {
          "base_uri": "https://localhost:8080/",
          "height": 282
        },
        "outputId": "daa2a534-f55c-4931-f854-2ed819a9b593"
      },
      "execution_count": null,
      "outputs": [
        {
          "output_type": "execute_result",
          "data": {
            "text/plain": [
              "[<matplotlib.lines.Line2D at 0x7ff80a65f790>]"
            ]
          },
          "metadata": {},
          "execution_count": 33
        },
        {
          "output_type": "display_data",
          "data": {
            "text/plain": [
              "<Figure size 432x288 with 1 Axes>"
            ],
            "image/png": "[encoded data removed]"
          },
          "metadata": {
            "needs_background": "light"
          }
        }
      ]
    },
    {
      "cell_type": "markdown",
      "source": [
        "#Task 4. Print classifications results: with all features; by 2 linear-PCA and with best reduced by Kernel PCA\n",
        "\n"
      ],
      "metadata": {
        "id": "HgUe-iNjJ9kR"
      }
    },
    {
      "cell_type": "code",
      "source": [
        "\n",
        "-- to code --"
      ],
      "metadata": {
        "id": "aNavYbBOC4b0"
      },
      "execution_count": null,
      "outputs": []
    },
    {
      "cell_type": "markdown",
      "source": [
        "##As a conclusion - review the results and compare them with feature selection methods in assignment 3. I.e. How many features is enough? Which one is easier to interpret? Which one gives the best accuracy."
      ],
      "metadata": {
        "id": "7eagmCJfMWL3"
      }
    },
    {
      "cell_type": "code",
      "source": [
        "#https://scikit-learn.org/stable/auto_examples/compose/plot_digits_pipe.html\n",
        "from sklearn.model_selection import GridSearchCV\n",
        "from sklearn.pipeline import Pipeline\n",
        "from sklearn.preprocessing import StandardScaler\n",
        "from sklearn.decomposition import PCA\n",
        "# Define a pipeline to search for the best combination of PCA truncation\n",
        "# and classifier regularization.\n",
        "pca = PCA()\n",
        "# Define a Standard Scaler to normalize inputs\n",
        "scaler = StandardScaler()\n",
        "# Define model\n",
        "model = DecisionTreeClassifier()\n",
        "# set the tolerance to a large value to make the example faster\n",
        "\n",
        "pipe = Pipeline(steps=[(\"scaler\", scaler), (\"pca\", pca), (\"model\", model)])\n",
        "param_grid = {\n",
        "    \"pca__n_components\": [1, 2, 3, 4, 5, 6, 7, 8, 9, 10],\n",
        "    \"model__criterion\": ['entropy'],\n",
        "    \"model__min_samples_split\": [250, 300, 350],\n",
        "    \"model__max_depth\": [15, 20, 25]\n",
        "}\n",
        "search = GridSearchCV(pipe, param_grid, verbose=1, n_jobs=-1)\n",
        "search.fit(X_train, y_train)\n",
        "print(\"Best parameter (CV score=%0.3f):\" % search.best_score_)\n",
        "\n",
        "print(search.best_params_)"
      ],
      "metadata": {
        "id": "aBPSZOCW9f1Z",
        "outputId": "beff732e-cbbf-4687-b2fe-9fff9e70f915",
        "colab": {
          "base_uri": "https://localhost:8080/"
        }
      },
      "execution_count": null,
      "outputs": [
        {
          "output_type": "stream",
          "name": "stdout",
          "text": [
            "Fitting 5 folds for each of 90 candidates, totalling 450 fits\n",
            "Best parameter (CV score=0.799):\n",
            "{'model__criterion': 'entropy', 'model__max_depth': 20, 'model__min_samples_split': 300, 'pca__n_components': 10}\n"
          ]
        }
      ]
    },
    {
      "cell_type": "code",
      "source": [
        "import polars as pl\n",
        "# Plot the PCA spectrum\n",
        "pca.fit(X_tr)\n",
        "\n",
        "fig, (ax0, ax1) = plt.subplots(nrows=2, sharex=True, figsize=(6, 6))\n",
        "ax0.plot(\n",
        "    np.arange(1, pca.n_components_ + 1), pca.explained_variance_ratio_, \"+\", linewidth=2\n",
        ")\n",
        "ax0.set_ylabel(\"PCA explained variance ratio\")\n",
        "\n",
        "ax0.axvline(\n",
        "    search.best_estimator_.named_steps[\"pca\"].n_components,\n",
        "    linestyle=\":\",\n",
        "    label=\"n_components chosen\",\n",
        ")\n",
        "ax0.legend(prop=dict(size=12))\n",
        "# For each number of components, find the best classifier results\n",
        "components_col = \"param_pca__n_components\"\n",
        "is_max_test_score = pl.col(\"mean_test_score\") == pl.col(\"mean_test_score\").max()\n",
        "best_clfs = (\n",
        "    pl.LazyFrame(search.cv_results_)\n",
        "    .filter(is_max_test_score.over(components_col))\n",
        "    .unique(components_col)\n",
        "    .sort(components_col)\n",
        "    .collect()\n",
        ")\n",
        "ax1.errorbar(\n",
        "    best_clfs[components_col],\n",
        "    best_clfs[\"mean_test_score\"],\n",
        "    yerr=best_clfs[\"std_test_score\"],\n",
        ")\n",
        "ax1.set_ylabel(\"Classification accuracy (val)\")\n",
        "ax1.set_xlabel(\"n_components\")\n",
        "\n",
        "plt.xlim(-1, 9)\n",
        "\n",
        "plt.tight_layout()\n",
        "plt.show()"
      ],
      "metadata": {
        "id": "PIFwZ3Iv_7hC",
        "outputId": "c5e9706e-8cb2-41bc-a5e1-93ccf93bebae",
        "colab": {
          "base_uri": "https://localhost:8080/",
          "height": 607
        }
      },
      "execution_count": null,
      "outputs": [
        {
          "output_type": "display_data",
          "data": {
            "text/plain": [
              "<Figure size 600x600 with 2 Axes>"
            ],
            "image/png": "[encoded data removed]"
          },
          "metadata": {}
        }
      ]
    },
    {
      "cell_type": "code",
      "source": [
        "clf = search.best_estimator_\n",
        "clf.fit(X_train, y_train)\n",
        "y_pred = clf.predict(X_test)\n",
        "scores_base=clf.score(X_test, y_test)\n",
        "print(\"Classificator with PCA accuracy = \", scores_base)\n",
        "#"
      ],
      "metadata": {
        "id": "fpGYNcdJEoSt",
        "outputId": "f65b3d0f-1fcb-4bdd-a64c-de2b4312aa16",
        "colab": {
          "base_uri": "https://localhost:8080/"
        }
      },
      "execution_count": null,
      "outputs": [
        {
          "output_type": "stream",
          "name": "stdout",
          "text": [
            "Classif with PCA accuracy =  0.7988535162247927\n"
          ]
        }
      ]
    },
    {
      "cell_type": "code",
      "source": [
        "report = classification_report(y_test, y_pred)\n",
        "print(\"Classificaion Report\")\n",
        "print(report)"
      ],
      "metadata": {
        "id": "C54m8rZvFv9W",
        "outputId": "89bf5c22-45c5-49c4-e6b0-81de32f4afb0",
        "colab": {
          "base_uri": "https://localhost:8080/"
        }
      },
      "execution_count": null,
      "outputs": [
        {
          "output_type": "stream",
          "name": "stdout",
          "text": [
            "Classificaion Report\n",
            "              precision    recall  f1-score   support\n",
            "\n",
            "           0       0.84      0.91      0.87      7417\n",
            "           1       0.61      0.45      0.52      2352\n",
            "\n",
            "    accuracy                           0.80      9769\n",
            "   macro avg       0.73      0.68      0.70      9769\n",
            "weighted avg       0.78      0.80      0.79      9769\n",
            "\n"
          ]
        }
      ]
    },
    {
      "cell_type": "code",
      "source": [
        "# confusion matrix\n",
        "cm = confusion_matrix(y_test,y_pred, normalize='pred')\n",
        "print(cm)\n",
        "\n",
        "# using seaborn\n",
        "sns.heatmap(cm,annot=True)\n",
        "plt.ylabel(\"Truth\")\n",
        "plt.xlabel(\"Predicted\")"
      ],
      "metadata": {
        "id": "MlI8JbQnF1Gs",
        "outputId": "1163fc41-e7c3-4841-f40c-a3e8512c65b2",
        "colab": {
          "base_uri": "https://localhost:8080/",
          "height": 501
        }
      },
      "execution_count": null,
      "outputs": [
        {
          "output_type": "stream",
          "name": "stdout",
          "text": [
            "[[0.83947696 0.38872915]\n",
            " [0.16052304 0.61127085]]\n"
          ]
        },
        {
          "output_type": "execute_result",
          "data": {
            "text/plain": [
              "Text(0.5, 23.52222222222222, 'Predicted')"
            ]
          },
          "metadata": {},
          "execution_count": 30
        },
        {
          "output_type": "display_data",
          "data": {
            "text/plain": [
              "<Figure size 640x480 with 2 Axes>"
            ],
            "image/png": "[encoded data removed]"
          },
          "metadata": {}
        }
      ]
    }
  ]
}