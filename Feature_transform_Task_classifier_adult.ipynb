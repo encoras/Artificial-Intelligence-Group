{
  "nbformat": 4,
  "nbformat_minor": 0,
  "metadata": {
    "colab": {
      "provenance": [],
      "collapsed_sections": [],
      "mount_file_id": "1UkHBOl8YcpOgny0pQIDpfYKC5-bhb4GO",
      "authorship_tag": "ABX9TyOxcQhLe8GghCmrpgzYV8Iw",
      "include_colab_link": true
    },
    "kernelspec": {
      "name": "python3",
      "display_name": "Python 3"
    },
    "language_info": {
      "name": "python"
    }
  },
  "cells": [
    {
      "cell_type": "markdown",
      "metadata": {
        "id": "view-in-github",
        "colab_type": "text"
      },
      "source": [
        "<a href=\"https://colab.research.google.com/github/encoras/Artificial-Intelligence-Group/blob/master/Feature_transform_Task_classifier_adult.ipynb\" target=\"_parent\"><img src=\"https://colab.research.google.com/assets/colab-badge.svg\" alt=\"Open In Colab\"/></a>"
      ]
    },
    {
      "cell_type": "code",
      "source": [
        "from  sklearn import datasets\n",
        "import pandas as pd\n",
        "import numpy as np\n",
        "import seaborn as sns\n",
        "from sklearn.model_selection import train_test_split\n",
        "from sklearn import metrics\n",
        "from matplotlib import pyplot as plt\n",
        "from sklearn.neural_network import MLPClassifier\n",
        "from sklearn.tree import DecisionTreeClassifier\n",
        "from sklearn.neighbors import KNeighborsClassifier\n",
        "from sklearn.naive_bayes import GaussianNB\n",
        "from sklearn.linear_model import LogisticRegression\n",
        "from sklearn.ensemble import RandomForestClassifier, StackingClassifier\n",
        "from sklearn.ensemble import BaggingClassifier\n",
        "from sklearn.ensemble import AdaBoostClassifier\n",
        "from sklearn.metrics import confusion_matrix, ConfusionMatrixDisplay\n",
        "from sklearn.metrics import accuracy_score, precision_score\n",
        "from sklearn.metrics import recall_score, f1_score\n",
        "from sklearn.metrics import roc_auc_score\n",
        "from sklearn.metrics import roc_curve, precision_recall_curve, classification_report\n",
        "from sklearn import svm\n",
        "from numpy.random import seed\n"
      ],
      "metadata": {
        "id": "gxqvnorGIRr_"
      },
      "execution_count": 1,
      "outputs": []
    },
    {
      "cell_type": "markdown",
      "source": [
        "# **RAND=22310 # should be your student code abcd**"
      ],
      "metadata": {
        "id": "fDMi9snGp0zu"
      }
    },
    {
      "cell_type": "code",
      "source": [
        "RAND=1234 # should be your student code abcd\n",
        "seed(RAND)"
      ],
      "metadata": {
        "id": "BFA9qlmypF2T"
      },
      "execution_count": 2,
      "outputs": []
    },
    {
      "cell_type": "markdown",
      "source": [
        "from https://drive.google.com/file/d/1-jrwZmZ3kqH-3JbckqbxEsr7EjW27IDJ/view?usp=sharing copy file archive.zip to your folder."
      ],
      "metadata": {
        "id": "Z2daOMRPcl97"
      }
    },
    {
      "cell_type": "code",
      "source": [
        "df = pd.read_csv('/content/drive/MyDrive/Colab Notebooks/archive.zip')"
      ],
      "metadata": {
        "id": "GCg5qLcsmMkb"
      },
      "execution_count": 4,
      "outputs": []
    },
    {
      "cell_type": "code",
      "source": [
        "#df.head()"
      ],
      "metadata": {
        "id": "dNWO_0cnmuGh"
      },
      "execution_count": null,
      "outputs": []
    },
    {
      "cell_type": "markdown",
      "source": [
        "**About the Dataset**\n",
        "```*Age: Describes the age of individuals. Continuous.\n",
        "*Workclass*: Private, Self-emp-not-inc, Self-emp-inc, Federal-gov, Local-gov, State-gov, Without-pay, Never-worked.\n",
        "*fnlwgt*: Continuous.\n",
        "*education*: Bachelors, Some-college, 11th, HS-grad, Prof-school, Assoc-acdm, Assoc-voc, 9th, 7th-8th, 12th, Masters, 1st-4th, 10th, Doctorate, 5th-6th, Preschool.\n",
        "*education-num*: Number of years spent in education. Continuous.\n",
        "*marital-status*: Married-civ-spouse, Divorced, Never-married, Separated, Widowed, Married-spouse-absent, Married-AF-spouse.\n",
        "*occupation*: Tech-support, Craft-repair, Other-service, Sales, Exec-managerial, Prof-specialty, Handlers-cleaners, Machine-op-inspct, Adm-clerical, Farming-fishing, Transport-moving, Priv-house-serv, Protective-serv, Armed-Forces.\n",
        "*relationship*: Wife, Own-child, Husband, Not-in-family, Other-relative, Unmarried.\n",
        "*race*: White, Asian-Pac-Islander, Amer-Indian-Eskimo, Other, Black.\n",
        "*sex*: Female, Male.\n",
        "*capital-gain*: Continuous.\n",
        "*capital-loss*: Continuous.\n",
        "*hours-per-week*: Continuous.\n",
        "*native-country*: United-States, Cambodia, England, Puerto-Rico, Canada, Germany, Outlying-US(Guam-USVI-etc), India, Japan, Greece, South, China, Cuba, Iran, Honduras, Philippines, Italy, Poland, Jamaica, Vietnam, Mexico, Portugal, Ireland, France, Dominican-Republic, Laos, Ecuador, Taiwan, Haiti, Columbia, Hungary, Guatemala, Nicaragua, Scotland, Thailand, Yugoslavia, El-Salvador, Trinadad&Tobago, Peru, Hong, Holand-Netherlands.\n",
        "*salary*: >50K,<=50K  ---- CLASSIFICATION Target\n",
        "\n",
        "```\n",
        "\n"
      ],
      "metadata": {
        "id": "JHRJKM6_m692"
      }
    },
    {
      "cell_type": "markdown",
      "source": [
        "We can see that the columns workclass, occupation, and native.country contains null values. There can be many ways to impute missing values, but right now, for the sake of simplicity we would impute them using mode!\n",
        "\n"
      ],
      "metadata": {
        "id": "Ela4z68crHTI"
      }
    },
    {
      "cell_type": "code",
      "source": [
        "for col in ['workclass', 'occupation', 'native.country']:\n",
        "    df[col].fillna(df[col].mode()[0], inplace=True)"
      ],
      "metadata": {
        "id": "bW_iMWP7rFzl"
      },
      "execution_count": 5,
      "outputs": []
    },
    {
      "cell_type": "markdown",
      "source": [
        "Data preparation for a model implementation"
      ],
      "metadata": {
        "id": "xYs5sZHir9BY"
      }
    },
    {
      "cell_type": "code",
      "source": [
        "from sklearn.preprocessing import LabelEncoder\n",
        "categorical = ['workclass','education', 'marital.status', 'occupation', 'relationship',\n",
        "               'race', 'sex','native.country','income']\n",
        "label_encoder = LabelEncoder()\n",
        "for col in categorical:\n",
        "    label_encoder.fit(df[col])\n",
        "    df[col] = label_encoder.transform(df[col])\n",
        "    \n",
        "from sklearn.model_selection import train_test_split\n",
        "X = df[['workclass','education', 'marital.status', 'occupation', 'relationship',\n",
        "               'race', 'sex','native.country', 'age', 'hours.per.week']] \n",
        "y = df['income']\n",
        "\n",
        "feature_name = ['workclass','education', 'marital.status', 'occupation', 'relationship',\n",
        "               'race', 'sex','native.country', 'age', 'hours.per.week']"
      ],
      "metadata": {
        "id": "pPmTNi_VsB7s"
      },
      "execution_count": 6,
      "outputs": []
    },
    {
      "cell_type": "markdown",
      "source": [
        "#let's split data and do input feature transform."
      ],
      "metadata": {
        "id": "cdtYGt-8xzy_"
      }
    },
    {
      "cell_type": "code",
      "source": [
        "X_tr, X_te, y_train, y_test = train_test_split(X, y, test_size=0.3, random_state=RAND, shuffle=True, stratify=y)"
      ],
      "metadata": {
        "id": "1MDElFLXIp1_"
      },
      "execution_count": 7,
      "outputs": []
    },
    {
      "cell_type": "code",
      "source": [
        "from sklearn.preprocessing import StandardScaler\n",
        "scaler = StandardScaler()\n",
        "scaler.fit(X_tr)\n",
        "X_train=scaler.transform(X_tr)\n",
        "X_test=scaler.transform(X_te)"
      ],
      "metadata": {
        "id": "tUJuxXCYRG_0"
      },
      "execution_count": 8,
      "outputs": []
    },
    {
      "cell_type": "markdown",
      "source": [
        "## Let's implement the baseline model. With THE BEST parameters from the assignment 2 and all features from a dataset."
      ],
      "metadata": {
        "id": "wCDXEgoBzchs"
      }
    },
    {
      "cell_type": "markdown",
      "source": [
        "**The task 1.**\n",
        "Depending on the last digit of your student Internal code (abcde) take an \"optimal\" specific *parameter* from the assignment 2.\n",
        "The RAND variable is your student ID numbers RAND=\"bcde\" at a top of the code.\n",
        "\n",
        "0. DecisionTreeClassifier(criterion='entropy', random_state=RAND, min_samples_split = `???`) \n",
        "1. DecisionTreeClassifier(criterion='gini', random_state=RAND, max_depth = `???`) \n",
        "2. KNeighborsClassifier(n_neighbors=`???`, p=2)\n",
        "3. KNeighborsClassifier(n_neighbors='???', p=1)\n",
        "4. svm. SVC(random_state=RAND, kernel='linear', C=`???`)\n",
        "5. svm.SVC(random_state=RAND, kernel='rbf', gamma=0.07, C=`???`)\n",
        "6. svm.SVC(random_state=RAND,kernel='poly', degree=3, C=`???`)\n",
        "7. svm.LinearSVC(random_state=RAND,C=`???`)\n",
        "8. MLPClassifier(solver='lbfgs', alpha=1e-5, hidden_layer_sizes=(`???`,), random_state=RAND)\n",
        "9. MLPClassifier(solver='lbfgs', alpha=1e-5, hidden_layer_sizes=(`???`,5), random_state=RAND)"
      ],
      "metadata": {
        "id": "ndb9y7x9SZni"
      }
    },
    {
      "cell_type": "code",
      "source": [
        "model = -- to code --\n",
        "model.fit(X_train, y_train)\n",
        "y_pred = model.predict(X_test)\n",
        "scores_baseline=metrics.accuracy_score(y_test,y_pred)\n",
        "print(\"Baseline accuracy = \", scores_baseline)\n"
      ],
      "metadata": {
        "id": "SBWORuRwSoxo"
      },
      "execution_count": null,
      "outputs": []
    },
    {
      "cell_type": "code",
      "source": [
        "# Plot Confusion matrix\n",
        "# -- to code --\n"
      ],
      "metadata": {
        "id": "aITCslgDJnXT"
      },
      "execution_count": null,
      "outputs": []
    },
    {
      "cell_type": "code",
      "source": [
        "print(\"Baseline metrics:\")\n",
        "print(\"- Accuracy  = %.3f\" % accuracy_score(y_test, y_pred))\n",
        "print(\"- ROC AUC   = %.3f\" % roc_auc_score(y_test, y_pred))\n",
        "# compute the classification report\n",
        "print(classification_report(y_test, y_pred))"
      ],
      "metadata": {
        "id": "RNFmhLvCLH4n"
      },
      "execution_count": null,
      "outputs": []
    },
    {
      "cell_type": "markdown",
      "source": [
        "-----------------------------------------------------------------------\n",
        "**Now, let's build your model with feature selection.**\n",
        "-----------------------------------------------------------------------"
      ],
      "metadata": {
        "id": "44TxuLk9NAFr"
      }
    },
    {
      "cell_type": "code",
      "source": [
        "RAND=123 ## Student ID abcde"
      ],
      "metadata": {
        "id": "wg_Gt6RNsfy_"
      },
      "execution_count": null,
      "outputs": []
    },
    {
      "cell_type": "markdown",
      "source": [
        "#Task 2. Features transformation by t-SNE for visualisation purpose\n",
        "\n",
        "2.1 Apply T-SNE to trasform the data into 2D space, use \"random_state=RAND\". See example: https://scipy-lectures.org/packages/scikit-learn/auto_examples/plot_tsne.html\n",
        " \n",
        "\n",
        "\n"
      ],
      "metadata": {
        "id": "HcGA-OCKAY1y"
      }
    },
    {
      "cell_type": "code",
      "source": [
        "from sklearn.manifold import TSNE\n",
        "sklearn_tsne = -- to code --\n",
        "\n",
        "X_test_tsne=sklearn_tsne.fit_transform(X_test[:5000,:])\n",
        "import seaborn as sns\n",
        "sns.scatterplot(x=X_test_tsne[:5000,0], y=X_test_tsne[:5000,1], hue=y_test[:5000],\n",
        "                palette=sns.color_palette(\"hls\", 2)).set(title=\"Adult data t-SNE projection\") "
      ],
      "metadata": {
        "id": "4JVh7LeTWxXV"
      },
      "execution_count": null,
      "outputs": []
    },
    {
      "cell_type": "markdown",
      "source": [
        "#Task 3. Features transformation by linear PCA. \n",
        "\n",
        "3.1 Apply Linear PCA to trasform the data into 2D space, use \"random_state=RAND\". See example: https://www.geeksforgeeks.org/implementing-pca-in-python-with-scikit-learn/\n",
        "\n",
        "3.2 Applay PCA transformation to train and test sets. Train the classifier and enaluate the accuracy\n"
      ],
      "metadata": {
        "id": "W4TZqy_W887M"
      }
    },
    {
      "cell_type": "code",
      "source": [
        "from sklearn.decomposition import PCA as sklearnPCA\n",
        "sklearn_pca = sklearnPCA(--to code--)\n",
        "--to code--\n",
        "X_train_pca = --to code --\n",
        "X_test_pca  = sklearn_pca.transform(X_test)\n",
        "sns.scatterplot(x=X_test_pca[:,0], y=X_test_pca[:,1], hue=y_test, palette=sns.color_palette(\"hls\", 2)).set(title=\"Adult data PCA projection\") \n"
      ],
      "metadata": {
        "id": "-zdRLbEErEcm"
      },
      "execution_count": null,
      "outputs": []
    },
    {
      "cell_type": "code",
      "source": [
        "model.fit(X_train_pca, y_train)\n",
        "y_pred = model.predict(X_test_pca)\n",
        "scores_pca= -- to code --\n",
        "print(\"linear-PCA features accuracy = \", scores_pca)\n"
      ],
      "metadata": {
        "id": "_r9VooFr6Zzv"
      },
      "execution_count": null,
      "outputs": []
    },
    {
      "cell_type": "markdown",
      "source": [
        "#Task 3. features trasformation by KernelPCA.\n",
        "\n",
        "Student ID [abcde]\n",
        "\n",
        "If e=[0,1] use kernel='linear'\n",
        "\n",
        "If e=[2,3] use kernel='poly'\n",
        "\n",
        "If e=[4,5] use kernel='rbf'\n",
        "\n",
        "If e=[6,7] use kernel='sigmoid'\n",
        "\n",
        "If e=[8,9] use kernel='cosine'\n",
        "\n",
        "3.1 Select best number of features from n_components=1 to 9 with the best test set classification accuracy.\n",
        "3.2 Plot accuracy graph Accuracy vs number of Principal Componentes (n_components).\n",
        "see examplel: https://www.bogotobogo.com/python/scikit-learn/scikit_machine_learning_Data_Compresssion_via_Dimensionality_Reduction_3-nonlinear-mappings-via-kernel-principal-component-analysis.php\n",
        "\n",
        "P.s. due to big number of data, the calculations may take up to 20min."
      ],
      "metadata": {
        "id": "G7Q_5SZ6-nzo"
      }
    },
    {
      "cell_type": "code",
      "source": [
        "from sklearn.decomposition import KernelPCA\n",
        "scores=[]\n",
        "for i in range(1,9):\n",
        "  sklearn_pca = KernelPCA (--to code --)\n",
        "  --to code--\n",
        "  scores.append(scores_base)\n",
        "\n",
        "plt.plot(range(1,9), scores)"
      ],
      "metadata": {
        "id": "vmU8uclUsiXQ",
        "colab": {
          "base_uri": "https://localhost:8080/",
          "height": 282
        },
        "outputId": "daa2a534-f55c-4931-f854-2ed819a9b593"
      },
      "execution_count": 33,
      "outputs": [
        {
          "output_type": "execute_result",
          "data": {
            "text/plain": [
              "[<matplotlib.lines.Line2D at 0x7ff80a65f790>]"
            ]
          },
          "metadata": {},
          "execution_count": 33
        },
        {
          "output_type": "display_data",
          "data": {
            "text/plain": [
              "<Figure size 432x288 with 1 Axes>"
            ],
            "image/png": "[encoded data removed]"
          },
          "metadata": {
            "needs_background": "light"
          }
        }
      ]
    },
    {
      "cell_type": "markdown",
      "source": [
        "#Task 4. Print classifications results: with all features; by 2 linear-PCA and with best reduced by Kernel PCA\n",
        "\n"
      ],
      "metadata": {
        "id": "HgUe-iNjJ9kR"
      }
    },
    {
      "cell_type": "code",
      "source": [
        "\n",
        "-- to code --"
      ],
      "metadata": {
        "id": "aNavYbBOC4b0"
      },
      "execution_count": null,
      "outputs": []
    },
    {
      "cell_type": "markdown",
      "source": [
        "##As a conclusion - review the results and compare them with feature selection methods in assignment 3. I.e. How many features is enough? Which one is easier to interpret? Which one gives the best accuracy."
      ],
      "metadata": {
        "id": "7eagmCJfMWL3"
      }
    }
  ]
}