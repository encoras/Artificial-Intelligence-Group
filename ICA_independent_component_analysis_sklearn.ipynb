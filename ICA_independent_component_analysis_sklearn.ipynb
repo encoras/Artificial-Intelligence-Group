{
  "cells": [
    {
      "cell_type": "markdown",
      "metadata": {
        "id": "view-in-github",
        "colab_type": "text"
      },
      "source": [
        "<a href=\"https://colab.research.google.com/github/encoras/Artificial-Intelligence-Group/blob/master/ICA_independent_component_analysis_sklearn.ipynb\" target=\"_parent\"><img src=\"https://colab.research.google.com/assets/colab-badge.svg\" alt=\"Open In Colab\"/></a>"
      ]
    },
    {
      "cell_type": "markdown",
      "metadata": {
        "id": "Qoy4GD3lDYmp"
      },
      "source": [
        "# ICA independent Component Analysis in sklearn"
      ]
    },
    {
      "cell_type": "markdown",
      "source": [
        "https://notebook.community/663project/fastica_lz/Independent_Component_Analysis"
      ],
      "metadata": {
        "id": "iYnU_Pv-Kw7O"
      }
    },
    {
      "cell_type": "markdown",
      "metadata": {
        "id": "7mRFQ5e1DYm0"
      },
      "source": [
        "### Loading the Dataset"
      ]
    },
    {
      "cell_type": "code",
      "execution_count": 1,
      "metadata": {
        "id": "r-Wj9bl7DYm1"
      },
      "outputs": [],
      "source": [
        "import pandas as pd\n",
        "import numpy as np\n",
        "import pylab as pl\n",
        "import matplotlib.pyplot as plt\n",
        "\n",
        "from sklearn import svm, datasets\n",
        "from sklearn.preprocessing import StandardScaler\n",
        "scaler = StandardScaler()\n",
        "RAND=123\n",
        "\n",
        "# import some data to play with\n",
        "iris = datasets.load_iris()\n",
        "X = iris.data\n",
        "\n",
        "y = iris.target\n",
        "\n",
        "\n",
        "X=np.hstack((X,10*np.random.random((y.shape[0], 3))))\n",
        "X[:,6]=X[:,6]*X[:,0] +5*np.random.random((y.shape[0]))\n",
        "\n",
        "\n",
        "from sklearn.model_selection import train_test_split\n",
        "X_train, X_test, y_train, y_test = train_test_split(X, y, test_size=0.25, random_state=RAND)\n",
        "scaler.fit(X_train)\n",
        "X_train=scaler.transform(X_train)\n",
        "X_test=scaler.transform(X_test)\n"
      ]
    },
    {
      "cell_type": "markdown",
      "source": [],
      "metadata": {
        "id": "mDzPhFp5VEYY"
      }
    },
    {
      "cell_type": "markdown",
      "source": [
        "Baseline accuracy = "
      ],
      "metadata": {
        "id": "LgTPMoT6PqHW"
      }
    },
    {
      "cell_type": "code",
      "source": [
        "from sklearn.neighbors import KNeighborsClassifier\n",
        "from sklearn.metrics import accuracy_score\n",
        "nb_model = KNeighborsClassifier(n_neighbors=3, p=1)\n",
        "nb_model.fit(X_train, y_train)\n",
        "y_pred = nb_model.predict(X_test)\n",
        "scores_base=accuracy_score(y_test,y_pred)\n",
        "print(\"Baseline accuracy = \", scores_base)"
      ],
      "metadata": {
        "id": "JYJW8bx3PqZo",
        "outputId": "e54241d3-e680-40ee-db63-20a7cefaf694",
        "colab": {
          "base_uri": "https://localhost:8080/"
        }
      },
      "execution_count": 2,
      "outputs": [
        {
          "output_type": "stream",
          "name": "stdout",
          "text": [
            "Baseline accuracy =  0.9210526315789473\n"
          ]
        }
      ]
    },
    {
      "cell_type": "code",
      "source": [],
      "metadata": {
        "id": "9EekAZWyXAwU"
      },
      "execution_count": null,
      "outputs": []
    },
    {
      "cell_type": "markdown",
      "metadata": {
        "id": "KxxmTXb4DYnP"
      },
      "source": [
        "##  FastICA in scikit-learn\n",
        "Kernel used for ICA.\n",
        "\n",
        "fun{‘logcosh’, ‘exp’, ‘cube’} or callable,\n",
        "\n",
        " default=’logcosh’\n"
      ]
    },
    {
      "cell_type": "code",
      "execution_count": 11,
      "metadata": {
        "id": "CpEuXvZGDYnQ"
      },
      "outputs": [],
      "source": [
        "from sklearn.decomposition import FastICA\n",
        "sklearn_pca = FastICA(fun = 'cube', n_components=2)\n",
        "sklearn_pca.fit(X_train)\n",
        "X_train_pca = sklearn_pca.transform(X_train)\n",
        "X_test_pca  = sklearn_pca.transform(X_test)\n"
      ]
    },
    {
      "cell_type": "code",
      "source": [
        "nb_model.fit(X_train_pca, y_train)\n",
        "y_pred = nb_model.predict(X_test_pca)\n",
        "scores_base=accuracy_score(y_test,y_pred)\n",
        "print(\"ICA cube features accuracy = \", scores_base)"
      ],
      "metadata": {
        "id": "VBActgLuP6y2",
        "outputId": "862fa1f9-1924-421e-bbd3-1ae32d48bd69",
        "colab": {
          "base_uri": "https://localhost:8080/"
        }
      },
      "execution_count": 12,
      "outputs": [
        {
          "output_type": "stream",
          "name": "stdout",
          "text": [
            "ICA cube features accuracy =  0.8421052631578947\n"
          ]
        }
      ]
    },
    {
      "cell_type": "markdown",
      "source": [
        "\n",
        "\n"
      ],
      "metadata": {
        "id": "Ye7QG5QwSlXL"
      }
    },
    {
      "cell_type": "code",
      "source": [
        "\n",
        "sklearn_pca = FastICA(fun = 'logcosh', n_components=2)\n",
        "sklearn_pca.fit(X_train)\n",
        "X_train_pca = sklearn_pca.transform(X_train)\n",
        "X_test_pca  = sklearn_pca.transform(X_test)\n"
      ],
      "metadata": {
        "id": "Ey5xBvzmSlo7"
      },
      "execution_count": 9,
      "outputs": []
    },
    {
      "cell_type": "code",
      "source": [
        "nb_model.fit(X_train_pca, y_train)\n",
        "y_pred = nb_model.predict(X_test_pca)\n",
        "scores_base=accuracy_score(y_test,y_pred)\n",
        "print(\"logcosh-PCA features accuracy = \", scores_base)"
      ],
      "metadata": {
        "colab": {
          "base_uri": "https://localhost:8080/"
        },
        "id": "P5EeujUQSuyb",
        "outputId": "9cb17d23-8582-4e6e-c742-6510fc614a09"
      },
      "execution_count": 10,
      "outputs": [
        {
          "output_type": "stream",
          "name": "stdout",
          "text": [
            "logcosh-PCA features accuracy =  0.8421052631578947\n"
          ]
        }
      ]
    },
    {
      "cell_type": "markdown",
      "source": [
        "## Loading scikit-learn's MNIST Hand-Written Dataset"
      ],
      "metadata": {
        "id": "-60bMBAuVFY3"
      }
    },
    {
      "cell_type": "code",
      "source": [
        "from sklearn.datasets import load_digits\n",
        "mnist = load_digits()\n",
        "fig, axes = plt.subplots(2, 10, figsize=(16, 6))\n",
        "for i in range(20):\n",
        "    axes[i//10, i %10].imshow(mnist.images[i], cmap='gray');\n",
        "    axes[i//10, i %10].axis('off')\n",
        "    axes[i//10, i %10].set_title(f\"target: {mnist.target[i]}\")\n",
        "    \n",
        "plt.tight_layout()"
      ],
      "metadata": {
        "colab": {
          "base_uri": "https://localhost:8080/",
          "height": 333
        },
        "id": "fPrOXYrzVHkN",
        "outputId": "972c141d-6fb8-45e3-e76c-0d68a326c0da"
      },
      "execution_count": 13,
      "outputs": [
        {
          "output_type": "display_data",
          "data": {
            "text/plain": [
              "<Figure size 1152x432 with 20 Axes>"
            ],
            "image/png": "[encoded data removed]"
          },
          "metadata": {
            "needs_background": "light"
          }
        }
      ]
    },
    {
      "cell_type": "code",
      "source": [
        "X, y = load_digits(return_X_y=True)\n",
        "X_train, X_test, y_train, y_test = train_test_split(X, y, test_size=0.25, random_state=RAND)\n",
        "scaler.fit(X_train)\n",
        "X_train=scaler.transform(X_train)\n",
        "X_test=scaler.transform(X_test)\n",
        "print(X.shape)"
      ],
      "metadata": {
        "colab": {
          "base_uri": "https://localhost:8080/"
        },
        "id": "s1BTV8wcViOg",
        "outputId": "c59f42d4-b720-4616-eba4-62dddda9ca15"
      },
      "execution_count": 14,
      "outputs": [
        {
          "output_type": "stream",
          "name": "stdout",
          "text": [
            "(1797, 64)\n"
          ]
        }
      ]
    },
    {
      "cell_type": "code",
      "source": [
        "nb_model = KNeighborsClassifier(n_neighbors=3, p=1)\n",
        "nb_model.fit(X_train, y_train)\n",
        "y_pred = nb_model.predict(X_test)\n",
        "scores_base=accuracy_score(y_test,y_pred)\n",
        "print(\"Digits Baseline accuracy = \", scores_base)"
      ],
      "metadata": {
        "colab": {
          "base_uri": "https://localhost:8080/"
        },
        "id": "qaFLVFBkXBxy",
        "outputId": "39dc83b7-ce67-48c7-8672-e97e199a9ed9"
      },
      "execution_count": 15,
      "outputs": [
        {
          "output_type": "stream",
          "name": "stdout",
          "text": [
            "Digits Baseline accuracy =  0.9644444444444444\n"
          ]
        }
      ]
    },
    {
      "cell_type": "code",
      "source": [
        "from sklearn.metrics import confusion_matrix\n",
        " \n",
        "cm = confusion_matrix(y_test,y_pred)\n",
        "cm"
      ],
      "metadata": {
        "colab": {
          "base_uri": "https://localhost:8080/"
        },
        "id": "o9_bHUZFOBcs",
        "outputId": "3d47690c-d1c2-48c0-ddcd-a25aecf28e4a"
      },
      "execution_count": 23,
      "outputs": [
        {
          "output_type": "execute_result",
          "data": {
            "text/plain": [
              "array([[51,  0,  0,  0,  0,  0,  0,  0,  0,  0],\n",
              "       [ 0, 42,  0,  0,  0,  0,  0,  0,  0,  0],\n",
              "       [ 0,  0, 41,  0,  0,  0,  0,  0,  0,  0],\n",
              "       [ 1,  0,  1, 36,  0,  0,  0,  0,  2,  0],\n",
              "       [ 0,  0,  0,  0, 51,  0,  0,  0,  1,  0],\n",
              "       [ 2,  0,  0,  1,  0, 42,  0,  0,  0,  3],\n",
              "       [ 0,  0,  0,  0,  0,  0, 48,  0,  0,  0],\n",
              "       [ 0,  0,  0,  0,  0,  0,  0, 41,  0,  0],\n",
              "       [ 0,  4,  0,  0,  0,  0,  0,  0, 39,  2],\n",
              "       [ 1,  0,  0,  2,  0,  0,  0,  1,  0, 38]])"
            ]
          },
          "metadata": {},
          "execution_count": 23
        }
      ]
    },
    {
      "cell_type": "code",
      "source": [
        "\n",
        "sklearn_pca = FastICA(fun = 'logcosh', n_components=2)\n",
        "sklearn_pca.fit(X_train)\n",
        "X_train_pca = sklearn_pca.transform(X_train)\n",
        "X_test_pca  = sklearn_pca.transform(X_test)\n",
        "nb_model.fit(X_train_pca, y_train)\n",
        "y_pred = nb_model.predict(X_test_pca)\n",
        "scores_base=accuracy_score(y_test,y_pred)\n",
        "print(\"Digits logcosh-ICA features accuracy = \", scores_base)"
      ],
      "metadata": {
        "colab": {
          "base_uri": "https://localhost:8080/"
        },
        "id": "8-moVkcYXQZy",
        "outputId": "91217fdd-6f75-4d74-ddf4-e03e4b68eeb0"
      },
      "execution_count": 16,
      "outputs": [
        {
          "output_type": "stream",
          "name": "stdout",
          "text": [
            "Digits poly-PCA features accuracy =  0.5133333333333333\n"
          ]
        }
      ]
    },
    {
      "cell_type": "code",
      "source": [
        "for i in range(np.min([X_train_pca.shape[0], 100])):\n",
        "        plt.text(X_train_pca[i, 0], X_train_pca[i, 1], str(y_train[i]), \n",
        "                 color=plt.cm.Set1(y_train[i]), \n",
        "                 fontdict={'size': 15})\n",
        "#plt.autoscale(enable=True, axis='both', tight=None)       \n",
        "plt.xticks([]), plt.yticks([]), plt.ylim([np.min(X_train_pca[:100, 0]),np.max(X_train_pca[:100, 0])]), plt.xlim([np.min(X_train_pca[:100, 1]),np.max(X_train_pca[:100, 1])])        "
      ],
      "metadata": {
        "colab": {
          "base_uri": "https://localhost:8080/",
          "height": 341
        },
        "id": "xk5a-1xCmmvz",
        "outputId": "3bbacfaf-ed83-4f89-c452-40676314dbb3"
      },
      "execution_count": 17,
      "outputs": [
        {
          "output_type": "execute_result",
          "data": {
            "text/plain": [
              "(([], <a list of 0 Text major ticklabel objects>),\n",
              " ([], <a list of 0 Text major ticklabel objects>),\n",
              " (-0.0483038995597461, 0.0596279884392886),\n",
              " (-0.05507542733058855, 0.05725556565895602))"
            ]
          },
          "metadata": {},
          "execution_count": 17
        },
        {
          "output_type": "display_data",
          "data": {
            "text/plain": [
              "<Figure size 432x288 with 1 Axes>"
            ],
            "image/png": "[encoded data removed]"
          },
          "metadata": {}
        }
      ]
    },
    {
      "cell_type": "code",
      "source": [
        "scores=[]\n",
        "for i in range(1,64):\n",
        "  sklearn_pca = FastICA(fun = 'cube',n_components=i)\n",
        "  sklearn_pca.fit(X_train)\n",
        "  X_train_pca = sklearn_pca.transform(X_train)\n",
        "  X_test_pca  = sklearn_pca.transform(X_test)\n",
        "  nb_model.fit(X_train_pca, y_train)\n",
        "  y_pred = nb_model.predict(X_test_pca)\n",
        "  scores_base=accuracy_score(y_test,y_pred)\n",
        "  scores.append(scores_base)\n",
        "\n",
        "plt.plot(range(1,64), scores)\n",
        "k=np.argmax(scores)"
      ],
      "metadata": {
        "colab": {
          "base_uri": "https://localhost:8080/",
          "height": 1000
        },
        "id": "ynMka_jpiQ80",
        "outputId": "a6b75533-a53f-4024-d6d8-15a5517c82b8"
      },
      "execution_count": 27,
      "outputs": [
        {
          "output_type": "stream",
          "name": "stderr",
          "text": [
            "/usr/local/lib/python3.7/dist-packages/sklearn/decomposition/_fastica.py:119: ConvergenceWarning: FastICA did not converge. Consider increasing tolerance or the maximum number of iterations.\n",
            "  ConvergenceWarning,\n",
            "/usr/local/lib/python3.7/dist-packages/sklearn/decomposition/_fastica.py:119: ConvergenceWarning: FastICA did not converge. Consider increasing tolerance or the maximum number of iterations.\n",
            "  ConvergenceWarning,\n",
            "/usr/local/lib/python3.7/dist-packages/sklearn/decomposition/_fastica.py:119: ConvergenceWarning: FastICA did not converge. Consider increasing tolerance or the maximum number of iterations.\n",
            "  ConvergenceWarning,\n",
            "/usr/local/lib/python3.7/dist-packages/sklearn/decomposition/_fastica.py:119: ConvergenceWarning: FastICA did not converge. Consider increasing tolerance or the maximum number of iterations.\n",
            "  ConvergenceWarning,\n",
            "/usr/local/lib/python3.7/dist-packages/sklearn/decomposition/_fastica.py:119: ConvergenceWarning: FastICA did not converge. Consider increasing tolerance or the maximum number of iterations.\n",
            "  ConvergenceWarning,\n",
            "/usr/local/lib/python3.7/dist-packages/sklearn/decomposition/_fastica.py:119: ConvergenceWarning: FastICA did not converge. Consider increasing tolerance or the maximum number of iterations.\n",
            "  ConvergenceWarning,\n",
            "/usr/local/lib/python3.7/dist-packages/sklearn/decomposition/_fastica.py:119: ConvergenceWarning: FastICA did not converge. Consider increasing tolerance or the maximum number of iterations.\n",
            "  ConvergenceWarning,\n",
            "/usr/local/lib/python3.7/dist-packages/sklearn/decomposition/_fastica.py:119: ConvergenceWarning: FastICA did not converge. Consider increasing tolerance or the maximum number of iterations.\n",
            "  ConvergenceWarning,\n",
            "/usr/local/lib/python3.7/dist-packages/sklearn/decomposition/_fastica.py:119: ConvergenceWarning: FastICA did not converge. Consider increasing tolerance or the maximum number of iterations.\n",
            "  ConvergenceWarning,\n",
            "/usr/local/lib/python3.7/dist-packages/sklearn/decomposition/_fastica.py:119: ConvergenceWarning: FastICA did not converge. Consider increasing tolerance or the maximum number of iterations.\n",
            "  ConvergenceWarning,\n",
            "/usr/local/lib/python3.7/dist-packages/sklearn/decomposition/_fastica.py:119: ConvergenceWarning: FastICA did not converge. Consider increasing tolerance or the maximum number of iterations.\n",
            "  ConvergenceWarning,\n",
            "/usr/local/lib/python3.7/dist-packages/sklearn/decomposition/_fastica.py:119: ConvergenceWarning: FastICA did not converge. Consider increasing tolerance or the maximum number of iterations.\n",
            "  ConvergenceWarning,\n",
            "/usr/local/lib/python3.7/dist-packages/sklearn/decomposition/_fastica.py:119: ConvergenceWarning: FastICA did not converge. Consider increasing tolerance or the maximum number of iterations.\n",
            "  ConvergenceWarning,\n",
            "/usr/local/lib/python3.7/dist-packages/sklearn/decomposition/_fastica.py:119: ConvergenceWarning: FastICA did not converge. Consider increasing tolerance or the maximum number of iterations.\n",
            "  ConvergenceWarning,\n",
            "/usr/local/lib/python3.7/dist-packages/sklearn/decomposition/_fastica.py:119: ConvergenceWarning: FastICA did not converge. Consider increasing tolerance or the maximum number of iterations.\n",
            "  ConvergenceWarning,\n",
            "/usr/local/lib/python3.7/dist-packages/sklearn/decomposition/_fastica.py:119: ConvergenceWarning: FastICA did not converge. Consider increasing tolerance or the maximum number of iterations.\n",
            "  ConvergenceWarning,\n",
            "/usr/local/lib/python3.7/dist-packages/sklearn/decomposition/_fastica.py:119: ConvergenceWarning: FastICA did not converge. Consider increasing tolerance or the maximum number of iterations.\n",
            "  ConvergenceWarning,\n",
            "/usr/local/lib/python3.7/dist-packages/sklearn/decomposition/_fastica.py:119: ConvergenceWarning: FastICA did not converge. Consider increasing tolerance or the maximum number of iterations.\n",
            "  ConvergenceWarning,\n",
            "/usr/local/lib/python3.7/dist-packages/sklearn/decomposition/_fastica.py:119: ConvergenceWarning: FastICA did not converge. Consider increasing tolerance or the maximum number of iterations.\n",
            "  ConvergenceWarning,\n",
            "/usr/local/lib/python3.7/dist-packages/sklearn/decomposition/_fastica.py:119: ConvergenceWarning: FastICA did not converge. Consider increasing tolerance or the maximum number of iterations.\n",
            "  ConvergenceWarning,\n",
            "/usr/local/lib/python3.7/dist-packages/sklearn/decomposition/_fastica.py:119: ConvergenceWarning: FastICA did not converge. Consider increasing tolerance or the maximum number of iterations.\n",
            "  ConvergenceWarning,\n",
            "/usr/local/lib/python3.7/dist-packages/sklearn/decomposition/_fastica.py:119: ConvergenceWarning: FastICA did not converge. Consider increasing tolerance or the maximum number of iterations.\n",
            "  ConvergenceWarning,\n",
            "/usr/local/lib/python3.7/dist-packages/sklearn/decomposition/_fastica.py:119: ConvergenceWarning: FastICA did not converge. Consider increasing tolerance or the maximum number of iterations.\n",
            "  ConvergenceWarning,\n",
            "/usr/local/lib/python3.7/dist-packages/sklearn/decomposition/_fastica.py:119: ConvergenceWarning: FastICA did not converge. Consider increasing tolerance or the maximum number of iterations.\n",
            "  ConvergenceWarning,\n"
          ]
        },
        {
          "output_type": "display_data",
          "data": {
            "text/plain": [
              "<Figure size 432x288 with 1 Axes>"
            ],
            "image/png": "[encoded data removed]"
          },
          "metadata": {
            "needs_background": "light"
          }
        }
      ]
    },
    {
      "cell_type": "code",
      "source": [
        "sklearn_pca = FastICA(fun = 'cube',n_components=np.argmax(scores))\n",
        "sklearn_pca.fit(X_train)\n",
        "X_train_pca = sklearn_pca.transform(X_train)\n",
        "X_test_pca  = sklearn_pca.transform(X_test)\n",
        "nb_model.fit(X_train_pca, y_train)\n",
        "y_pred = nb_model.predict(X_test_pca)\n",
        "scores_base=accuracy_score(y_test,y_pred)\n",
        "print(\"ACC = \", scores_base)\n",
        "from sklearn.metrics import confusion_matrix\n",
        " \n",
        "cm = confusion_matrix(y_test,y_pred)\n",
        "cm"
      ],
      "metadata": {
        "id": "aaD5CaIAjArk",
        "colab": {
          "base_uri": "https://localhost:8080/"
        },
        "outputId": "2d7fe501-1adc-4e9a-f1b0-b8dc6f9256ca"
      },
      "execution_count": 28,
      "outputs": [
        {
          "output_type": "stream",
          "name": "stdout",
          "text": [
            "ACC =  0.9555555555555556\n"
          ]
        },
        {
          "output_type": "stream",
          "name": "stderr",
          "text": [
            "/usr/local/lib/python3.7/dist-packages/sklearn/decomposition/_fastica.py:119: ConvergenceWarning: FastICA did not converge. Consider increasing tolerance or the maximum number of iterations.\n",
            "  ConvergenceWarning,\n"
          ]
        },
        {
          "output_type": "execute_result",
          "data": {
            "text/plain": [
              "array([[51,  0,  0,  0,  0,  0,  0,  0,  0,  0],\n",
              "       [ 0, 42,  0,  0,  0,  0,  0,  0,  0,  0],\n",
              "       [ 1,  1, 39,  0,  0,  0,  0,  0,  0,  0],\n",
              "       [ 0,  0,  2, 38,  0,  0,  0,  0,  0,  0],\n",
              "       [ 0,  0,  0,  0, 51,  0,  0,  1,  0,  0],\n",
              "       [ 0,  0,  0,  1,  0, 43,  0,  0,  0,  4],\n",
              "       [ 0,  0,  0,  0,  0,  0, 48,  0,  0,  0],\n",
              "       [ 0,  0,  0,  0,  0,  0,  0, 41,  0,  0],\n",
              "       [ 0,  4,  0,  0,  0,  0,  0,  0, 39,  2],\n",
              "       [ 0,  1,  0,  2,  0,  0,  0,  1,  0, 38]])"
            ]
          },
          "metadata": {},
          "execution_count": 28
        }
      ]
    },
    {
      "cell_type": "code",
      "source": [
        "import matplotlib.pyplot as plt\n",
        "from sklearn.metrics import plot_confusion_matrix\n",
        " \n",
        "color = 'black'\n",
        "matrix = plot_confusion_matrix(nb_model, X_test_pca, y_test, cmap=plt.cm.Blues)\n",
        "matrix.ax_.set_title('Confusion Matrix', color=color)\n",
        "plt.xlabel('Predicted Label', color=color)\n",
        "plt.ylabel('True Label', color=color)\n",
        "plt.gcf().axes[0].tick_params(colors=color)\n",
        "plt.gcf().axes[1].tick_params(colors=color)\n",
        "plt.show()"
      ],
      "metadata": {
        "colab": {
          "base_uri": "https://localhost:8080/",
          "height": 350
        },
        "id": "XI-mOtmYOaaE",
        "outputId": "5694141f-a342-42ed-abe0-893f5944f4a2"
      },
      "execution_count": 26,
      "outputs": [
        {
          "output_type": "stream",
          "name": "stderr",
          "text": [
            "/usr/local/lib/python3.7/dist-packages/sklearn/utils/deprecation.py:87: FutureWarning: Function plot_confusion_matrix is deprecated; Function `plot_confusion_matrix` is deprecated in 1.0 and will be removed in 1.2. Use one of the class methods: ConfusionMatrixDisplay.from_predictions or ConfusionMatrixDisplay.from_estimator.\n",
            "  warnings.warn(msg, category=FutureWarning)\n"
          ]
        },
        {
          "output_type": "display_data",
          "data": {
            "text/plain": [
              "<Figure size 432x288 with 2 Axes>"
            ],
            "image/png": "[encoded data removed]"
          },
          "metadata": {
            "needs_background": "light"
          }
        }
      ]
    }
  ],
  "metadata": {
    "kernelspec": {
      "display_name": "Python 3",
      "language": "python",
      "name": "python3"
    },
    "language_info": {
      "codemirror_mode": {
        "name": "ipython",
        "version": 3
      },
      "file_extension": ".py",
      "mimetype": "text/x-python",
      "name": "python",
      "nbconvert_exporter": "python",
      "pygments_lexer": "ipython3",
      "version": "3.6.1"
    },
    "colab": {
      "provenance": [],
      "collapsed_sections": [],
      "include_colab_link": true
    }
  },
  "nbformat": 4,
  "nbformat_minor": 0
}