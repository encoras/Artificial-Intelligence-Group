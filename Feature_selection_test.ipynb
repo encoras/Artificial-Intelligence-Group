{
  "nbformat": 4,
  "nbformat_minor": 0,
  "metadata": {
    "colab": {
      "provenance": [],
      "collapsed_sections": [],
      "authorship_tag": "ABX9TyOrngb94LJOi35ITai5bEEh",
      "include_colab_link": true
    },
    "kernelspec": {
      "name": "python3",
      "display_name": "Python 3"
    },
    "language_info": {
      "name": "python"
    }
  },
  "cells": [
    {
      "cell_type": "markdown",
      "metadata": {
        "id": "view-in-github",
        "colab_type": "text"
      },
      "source": [
        "<a href=\"https://colab.research.google.com/github/encoras/Artificial-Intelligence-Group/blob/master/Feature_selection_test.ipynb\" target=\"_parent\"><img src=\"https://colab.research.google.com/assets/colab-badge.svg\" alt=\"Open In Colab\"/></a>"
      ]
    },
    {
      "cell_type": "markdown",
      "source": [
        "The code is adopted from:\n",
        "\n",
        "https://www.analyticsvidhya.com/blog/2020/10/feature-selection-techniques-in-machine-learning/\n",
        "\n",
        "\n"
      ],
      "metadata": {
        "id": "tSKRJ8-hO6WY"
      }
    },
    {
      "cell_type": "code",
      "execution_count": 234,
      "metadata": {
        "colab": {
          "base_uri": "https://localhost:8080/"
        },
        "id": "cyqgWif0Fvxh",
        "outputId": "a1ec2610-f150-4331-aa9d-caf57a6fcd4d"
      },
      "outputs": [
        {
          "output_type": "execute_result",
          "data": {
            "text/plain": [
              "array([[0.22222222, 0.625     , 0.06779661, 0.04166667, 0.22222222,\n",
              "        0.625     , 3.66846146, 0.04166667, 7.49561217, 3.46043213,\n",
              "        9.59600749]])"
            ]
          },
          "metadata": {},
          "execution_count": 234
        }
      ],
      "source": [
        "import numpy as np\n",
        "import pylab as pl\n",
        "from sklearn import svm, datasets\n",
        "from sklearn.preprocessing import StandardScaler, MinMaxScaler\n",
        "scaler = MinMaxScaler()\n",
        "\n",
        "\n",
        "# import some data to play with\n",
        "iris = datasets.load_iris()\n",
        "X = iris.data\n",
        "#X = scaler.fit_transform(X)\n",
        "Y = iris.target\n",
        "\n",
        "X=np.hstack((X,X,10*np.random.random((Y.shape[0], 3))))\n",
        "X[:,6]=X[:,6] +5*np.random.random((Y.shape[0]))\n",
        "X[0:1,:]"
      ]
    },
    {
      "cell_type": "markdown",
      "source": [
        "Information Gain:\n",
        "\n",
        "Information gain calculates the reduction in entropy from the transformation of a dataset. It can be used for feature selection by evaluating the Information gain of each variable in the context of the target variable."
      ],
      "metadata": {
        "id": "paxCMsMP0Dhh"
      }
    },
    {
      "cell_type": "code",
      "source": [
        "from sklearn.feature_selection import mutual_info_classif\n",
        "import matplotlib.pyplot as plt\n",
        "name= ['f1', 'f2', 'f3', 'f4', 'f1_', 'f2_', 'f3+N', 'f4_', 'fN1', 'fN2', 'fN3']\n",
        "importance = mutual_info_classif(X,Y)\n",
        "\n",
        "fig = plt.figure()\n",
        "ax = fig.add_axes([0,0,1,1])\n",
        "ax.bar( name, importance,width=0.5)\n",
        "\n",
        "th=np.median(importance)\n",
        "ax.plot(name, th*np.ones((11)), 'r')\n",
        "plt.show()\n"
      ],
      "metadata": {
        "colab": {
          "base_uri": "https://localhost:8080/",
          "height": 337
        },
        "id": "AInuKYcVvo-K",
        "outputId": "a168e6b2-f9d6-4d10-df8f-af4fe2eee15b"
      },
      "execution_count": 235,
      "outputs": [
        {
          "output_type": "display_data",
          "data": {
            "text/plain": [
              "<Figure size 432x288 with 1 Axes>"
            ],
            "image/png": "[encoded data removed]"
          },
          "metadata": {
            "needs_background": "light"
          }
        }
      ]
    },
    {
      "cell_type": "markdown",
      "source": [
        "**Chi-square Test**\n",
        "\n",
        "The Chi-square test is used for categorical features in a dataset. We calculate Chi-square between each feature and the target and select the desired number of features with the best Chi-square scores. In order to correctly apply the chi-squared in order to test the relation between various features in the dataset and the target variable, the following conditions have to be met: the variables have to be categorical, sampled independently and values should have an expected frequency greater than 5."
      ],
      "metadata": {
        "id": "34lE3WXu0QJn"
      }
    },
    {
      "cell_type": "code",
      "source": [
        "from sklearn.feature_selection import SelectKBest, chi2\n",
        "\n",
        "#three features selection by Chi-square\n",
        "chi2_features = SelectKBest(chi2, k=3)\n",
        "\n",
        "X_kbest_features = chi2_features.fit_transform(abs(X), Y)\n",
        "\n",
        "print(chi2_features.get_support())\n",
        "\n"
      ],
      "metadata": {
        "colab": {
          "base_uri": "https://localhost:8080/"
        },
        "id": "f-FyyqDS0SiJ",
        "outputId": "4fb39fa9-4f31-4f2c-82a8-cdb1f2988b8d"
      },
      "execution_count": 236,
      "outputs": [
        {
          "output_type": "stream",
          "name": "stdout",
          "text": [
            "[False False  True  True False False False  True False False False]\n"
          ]
        }
      ]
    },
    {
      "cell_type": "markdown",
      "source": [
        "**Fisher’s Score**\n",
        "\n",
        "Fisher score is one of the most widely used supervised feature selection methods. The algorithm which we will use returns the ranks of the variables based on the fisher’s score in descending order. We can then select the variables as per the case."
      ],
      "metadata": {
        "id": "p1HNvM2e3Ivd"
      }
    },
    {
      "cell_type": "code",
      "source": [
        "!pip install skfeature-chappers"
      ],
      "metadata": {
        "colab": {
          "base_uri": "https://localhost:8080/"
        },
        "id": "Y6SAlTtj3Kll",
        "outputId": "bfb787eb-a270-4d63-acc5-aff4b829ae3a"
      },
      "execution_count": 237,
      "outputs": [
        {
          "output_type": "stream",
          "name": "stdout",
          "text": [
            "Looking in indexes: https://pypi.org/simple, https://us-python.pkg.dev/colab-wheels/public/simple/\n",
            "Requirement already satisfied: skfeature-chappers in /usr/local/lib/python3.7/dist-packages (1.1.0)\n",
            "Requirement already satisfied: pandas in /usr/local/lib/python3.7/dist-packages (from skfeature-chappers) (1.3.5)\n",
            "Requirement already satisfied: numpy in /usr/local/lib/python3.7/dist-packages (from skfeature-chappers) (1.21.6)\n",
            "Requirement already satisfied: scikit-learn in /usr/local/lib/python3.7/dist-packages (from skfeature-chappers) (1.0.2)\n",
            "Requirement already satisfied: pytz>=2017.3 in /usr/local/lib/python3.7/dist-packages (from pandas->skfeature-chappers) (2022.4)\n",
            "Requirement already satisfied: python-dateutil>=2.7.3 in /usr/local/lib/python3.7/dist-packages (from pandas->skfeature-chappers) (2.8.2)\n",
            "Requirement already satisfied: six>=1.5 in /usr/local/lib/python3.7/dist-packages (from python-dateutil>=2.7.3->pandas->skfeature-chappers) (1.15.0)\n",
            "Requirement already satisfied: threadpoolctl>=2.0.0 in /usr/local/lib/python3.7/dist-packages (from scikit-learn->skfeature-chappers) (3.1.0)\n",
            "Requirement already satisfied: scipy>=1.1.0 in /usr/local/lib/python3.7/dist-packages (from scikit-learn->skfeature-chappers) (1.7.3)\n",
            "Requirement already satisfied: joblib>=0.11 in /usr/local/lib/python3.7/dist-packages (from scikit-learn->skfeature-chappers) (1.2.0)\n"
          ]
        }
      ]
    },
    {
      "cell_type": "code",
      "source": [
        "from skfeature.function.similarity_based import fisher_score\n",
        "\n",
        "ranks = fisher_score.fisher_score(X,Y)\n",
        "\n",
        "fig = plt.figure()\n",
        "ax = fig.add_axes([0,0,1,1])\n",
        "ax.bar( name, ranks,width=0.5)\n",
        "\n",
        "th=np.median(ranks)\n",
        "ax.plot(name, th*np.ones((11)), 'r')\n",
        "plt.show()\n"
      ],
      "metadata": {
        "colab": {
          "base_uri": "https://localhost:8080/",
          "height": 337
        },
        "id": "SQdaqPIP31a3",
        "outputId": "4d7663ed-05a9-4fa4-bcdc-67c23771f8d9"
      },
      "execution_count": 238,
      "outputs": [
        {
          "output_type": "display_data",
          "data": {
            "text/plain": [
              "<Figure size 432x288 with 1 Axes>"
            ],
            "image/png": "[encoded data removed]"
          },
          "metadata": {
            "needs_background": "light"
          }
        }
      ]
    },
    {
      "cell_type": "markdown",
      "source": [
        "**Correlation Coefficient**\n",
        "\n",
        "Correlation is a measure of the linear relationship of 2 or more variables. Through correlation, we can predict one variable from the other. The logic behind using correlation for feature selection is that the good variables are highly correlated with the target. Furthermore, variables should be correlated with the target but should be uncorrelated among themselves.\n",
        "\n",
        "If two variables are correlated, we can predict one from the other. Therefore, if two features are correlated, the model only really needs one of them, as the second one does not add additional information. We will use the Pearson Correlation here."
      ],
      "metadata": {
        "id": "ybd0u4oT4hW8"
      }
    },
    {
      "cell_type": "code",
      "source": [
        "import seaborn as sns\n",
        "\n",
        "cor = np.corrcoef(X.transpose())\n",
        "plt.figure(figsize =(10,6))\n",
        "sns.heatmap(cor)"
      ],
      "metadata": {
        "colab": {
          "base_uri": "https://localhost:8080/",
          "height": 395
        },
        "id": "XEYHrdq94jJY",
        "outputId": "c85ce0fd-07c7-4b50-fac1-c42f5c8a33d5"
      },
      "execution_count": 239,
      "outputs": [
        {
          "output_type": "execute_result",
          "data": {
            "text/plain": [
              "<matplotlib.axes._subplots.AxesSubplot at 0x7efdfcb556d0>"
            ]
          },
          "metadata": {},
          "execution_count": 239
        },
        {
          "output_type": "display_data",
          "data": {
            "text/plain": [
              "<Figure size 720x432 with 2 Axes>"
            ],
            "image/png": "[encoded data removed]"
          },
          "metadata": {
            "needs_background": "light"
          }
        }
      ]
    },
    {
      "cell_type": "markdown",
      "source": [
        "We need to set an absolute value, say 0.5 as the threshold for selecting the variables. If we find that the predictor variables are correlated among themselves, we can drop the variable which has a lower correlation coefficient value with the target variable. We can also compute multiple correlation coefficients to check whether more than two variables are correlated to each other. This phenomenon is known as multicollinearity."
      ],
      "metadata": {
        "id": "NDaPIRMy6U7l"
      }
    },
    {
      "cell_type": "code",
      "source": [
        "plt.figure(figsize =(10,6))\n",
        "\n",
        "sns.heatmap(cor<0.5)\n",
        "\n",
        "plt.figure(figsize =(10,6))\n"
      ],
      "metadata": {
        "colab": {
          "base_uri": "https://localhost:8080/",
          "height": 413
        },
        "id": "4B9LaUCJMTq2",
        "outputId": "1b85b960-bf0b-45bb-dc29-de2274e901cc"
      },
      "execution_count": 240,
      "outputs": [
        {
          "output_type": "execute_result",
          "data": {
            "text/plain": [
              "<Figure size 720x432 with 0 Axes>"
            ]
          },
          "metadata": {},
          "execution_count": 240
        },
        {
          "output_type": "display_data",
          "data": {
            "text/plain": [
              "<Figure size 720x432 with 2 Axes>"
            ],
            "image/png": "[encoded data removed]"
          },
          "metadata": {
            "needs_background": "light"
          }
        },
        {
          "output_type": "display_data",
          "data": {
            "text/plain": [
              "<Figure size 720x432 with 0 Axes>"
            ]
          },
          "metadata": {}
        }
      ]
    },
    {
      "cell_type": "code",
      "source": [
        "\n",
        "good=sum(cor<0.5)\n",
        "fig1 = plt.figure()\n",
        "ax = fig1.add_axes([0,0,1,1])\n",
        "\n",
        "ax.bar( name, good,width=0.5)"
      ],
      "metadata": {
        "colab": {
          "base_uri": "https://localhost:8080/",
          "height": 354
        },
        "id": "Rnt_z6eFNIF5",
        "outputId": "ef554f57-2043-4228-bcd9-ab9894fe0ff0"
      },
      "execution_count": 241,
      "outputs": [
        {
          "output_type": "execute_result",
          "data": {
            "text/plain": [
              "<BarContainer object of 11 artists>"
            ]
          },
          "metadata": {},
          "execution_count": 241
        },
        {
          "output_type": "display_data",
          "data": {
            "text/plain": [
              "<Figure size 432x288 with 1 Axes>"
            ],
            "image/png": "[encoded data removed]"
          },
          "metadata": {
            "needs_background": "light"
          }
        }
      ]
    },
    {
      "cell_type": "code",
      "source": [],
      "metadata": {
        "id": "Mef4dW66MEDe"
      },
      "execution_count": 241,
      "outputs": []
    },
    {
      "cell_type": "markdown",
      "source": [
        "**Variance Threshold**\n",
        "\n",
        "The variance threshold is a simple baseline approach to feature selection. It removes all features which variance doesn’t meet some threshold. By default, it removes all zero-variance features, i.e., features that have the same value in all samples. We assume that features with a higher variance may contain more useful information, but note that we are not taking the relationship between feature variables or feature and target variables into account, which is one of the drawbacks of filter methods."
      ],
      "metadata": {
        "id": "hgl7DY9NNhbH"
      }
    },
    {
      "cell_type": "code",
      "source": [
        "from sklearn.feature_selection import VarianceThreshold\n",
        "\n",
        "v_threshold = VarianceThreshold(threshold=0.0)\n",
        "v_threshold.fit(X)\n",
        "v_threshold.get_support()"
      ],
      "metadata": {
        "colab": {
          "base_uri": "https://localhost:8080/"
        },
        "id": "0Y532SVQNjeg",
        "outputId": "f481128a-b38e-4726-b14f-88973eda3068"
      },
      "execution_count": 242,
      "outputs": [
        {
          "output_type": "execute_result",
          "data": {
            "text/plain": [
              "array([ True,  True,  True,  True,  True,  True,  True,  True,  True,\n",
              "        True,  True])"
            ]
          },
          "metadata": {},
          "execution_count": 242
        }
      ]
    },
    {
      "cell_type": "markdown",
      "source": [
        "The get_support returns a Boolean vector where True means that the variable does not have zero variance."
      ],
      "metadata": {
        "id": "lWKs0SkQOVD0"
      }
    },
    {
      "cell_type": "markdown",
      "source": [
        "**Mean Absolute Difference (MAD)**\n",
        "\n",
        "‘The mean absolute difference (MAD) computes the absolute difference from the mean value. The main difference between the variance and MAD measures is the absence of the square in the latter. The MAD, like the variance, is also a scale variant.’ [1] This means that higher the MAD, higher the discriminatory power."
      ],
      "metadata": {
        "id": "HZT4w09OOolD"
      }
    },
    {
      "cell_type": "code",
      "source": [
        "mean_abs_diff = np.sum(np.abs(X-np.mean(X,axis = 0)), axis = 0)/X.shape[0]\n",
        "plt.bar(np.arange(X.shape[1]), mean_abs_diff, color = 'teal')"
      ],
      "metadata": {
        "colab": {
          "base_uri": "https://localhost:8080/",
          "height": 282
        },
        "id": "7wSQdWGzOqk7",
        "outputId": "d0198c30-0748-43b2-c18a-35dd7fb8e110"
      },
      "execution_count": 243,
      "outputs": [
        {
          "output_type": "execute_result",
          "data": {
            "text/plain": [
              "<BarContainer object of 11 artists>"
            ]
          },
          "metadata": {},
          "execution_count": 243
        },
        {
          "output_type": "display_data",
          "data": {
            "text/plain": [
              "<Figure size 432x288 with 1 Axes>"
            ],
            "image/png": "[encoded data removed]"
          },
          "metadata": {
            "needs_background": "light"
          }
        }
      ]
    },
    {
      "cell_type": "code",
      "source": [],
      "metadata": {
        "id": "EQdmkcBXRT6g"
      },
      "execution_count": 243,
      "outputs": []
    },
    {
      "cell_type": "markdown",
      "source": [
        "**B. Wrapper Methods:**\n",
        "\n",
        "Wrappers require some method to search the space of all possible subsets of features, assessing their quality by learning and evaluating a classifier with that feature subset. The feature selection process is based on a specific machine learning algorithm that we are trying to fit on a given dataset. It follows a greedy search approach by evaluating all the possible combinations of features against the evaluation criterion. The wrapper methods usually result in better predictive accuracy than filter methods.\n",
        "\n",
        "Let’s, discuss some of these techniques:"
      ],
      "metadata": {
        "id": "OvZc7BUIS6E_"
      }
    },
    {
      "cell_type": "markdown",
      "source": [
        "**Forward Feature Selection**\n",
        "\n",
        "This is an iterative method wherein we start with the best performing variable against the target. Next, we select another variable that gives the best performance in combination with the first selected variable. This process continues until the preset criterion is achieved."
      ],
      "metadata": {
        "id": "f4s2-n2xS8oK"
      }
    },
    {
      "cell_type": "code",
      "source": [
        "from sklearn.feature_selection import SequentialFeatureSelector\n",
        "from sklearn.neighbors import KNeighborsClassifier\n",
        "\n",
        "knn = KNeighborsClassifier(n_neighbors=7)\n",
        "sfs = SequentialFeatureSelector(knn, n_features_to_select=4)\n",
        "sfs.fit(X, Y)\n",
        "\n",
        "sfs.get_support()\n",
        "#sfs.transform(X).shape"
      ],
      "metadata": {
        "colab": {
          "base_uri": "https://localhost:8080/"
        },
        "id": "vbn5Ln64S8D-",
        "outputId": "bf49bae7-ea89-4694-d684-a0c09d17feb0"
      },
      "execution_count": 244,
      "outputs": [
        {
          "output_type": "execute_result",
          "data": {
            "text/plain": [
              "array([ True, False,  True,  True, False, False, False,  True, False,\n",
              "       False, False])"
            ]
          },
          "metadata": {},
          "execution_count": 244
        }
      ]
    },
    {
      "cell_type": "markdown",
      "source": [
        "**Backward Feature Selection**"
      ],
      "metadata": {
        "id": "z4vPjtkqV-47"
      }
    },
    {
      "cell_type": "code",
      "source": [
        "from sklearn.feature_selection import SequentialFeatureSelector\n",
        "from sklearn.neighbors import KNeighborsClassifier\n",
        "\n",
        "knn = KNeighborsClassifier(n_neighbors=7)\n",
        "sfs = SequentialFeatureSelector(knn, direction='backward', n_features_to_select=4)\n",
        "sfs.fit(X, Y)\n",
        "\n",
        "sfs.get_support()\n",
        "#sfs.transform(X).shape"
      ],
      "metadata": {
        "colab": {
          "base_uri": "https://localhost:8080/"
        },
        "id": "be4knppRV_C4",
        "outputId": "e694d149-eb86-4b49-d150-94c5a894d06e"
      },
      "execution_count": 245,
      "outputs": [
        {
          "output_type": "execute_result",
          "data": {
            "text/plain": [
              "array([False, False,  True, False,  True,  True, False,  True, False,\n",
              "       False, False])"
            ]
          },
          "metadata": {},
          "execution_count": 245
        }
      ]
    },
    {
      "cell_type": "markdown",
      "source": [
        "**Exhaustive Feature Selection**\n",
        "\n",
        "This is the most robust feature selection method covered so far. This is a brute-force evaluation of each feature subset. This means that it tries every possible combination of the variables and returns the best performing subset.\n",
        "(https://stackoverflow.com/questions/22956938/exhaustively-feature-selection-in-scikit-learn)\n"
      ],
      "metadata": {
        "id": "jvtc4l9VWqK5"
      }
    },
    {
      "cell_type": "code",
      "source": [
        "from itertools import combinations\n",
        "from sklearn.model_selection import cross_val_score\n",
        "\n",
        "def best_subset(estimator, X, y, max_size=8, cv=5):\n",
        "#Calculates the best model of up to max_size features of X.\n",
        "#   estimator must have a fit and score functions.\n",
        "#   X must be a DataFrame.'''\n",
        "\n",
        "    n_features = X.shape[1]\n",
        "    subsets = (combinations(range(n_features), k + 1) \n",
        "               for k in range(min(n_features, max_size)))\n",
        "\n",
        "    best_size_subset = []\n",
        "    for subsets_k in subsets:  # for each list of subsets of the same size\n",
        "        best_score = -np.inf\n",
        "        best_subset = None\n",
        "        for subset in subsets_k: # for each subset\n",
        "            estimator.fit(X[:, list(subset)], y)\n",
        "            # get the subset with the best score among subsets of the same size\n",
        "            score = estimator.score(X[:, list(subset)], y)\n",
        "            if score > best_score:\n",
        "                best_score, best_subset = score, subset\n",
        "        # to compare subsets of different sizes we must use CV\n",
        "        # first store the best subset of each size\n",
        "        best_size_subset.append(best_subset)\n",
        "\n",
        "    # compare best subsets of each size\n",
        "    best_score = -np.inf\n",
        "    best_subset = None\n",
        "    list_scores = []\n",
        "    for subset in best_size_subset:\n",
        "        score = cross_val_score(estimator, X[:, list(subset)], y, cv=cv).mean()\n",
        "        list_scores.append(score)\n",
        "        if score > best_score:\n",
        "            best_score, best_subset = score, subset\n",
        "\n",
        "    return best_subset, best_score, best_size_subset, list_scores\n",
        "\n",
        "\n",
        "b_subset, b_score, b_size_subset, l_scores=best_subset(knn, X, Y)  \n",
        "print('b_subset ', b_subset)\n",
        "print('b_score ',b_score)\n",
        "print('b_size_subset ', b_size_subset)\n",
        "print('l_scores ', l_scores)\n"
      ],
      "metadata": {
        "colab": {
          "base_uri": "https://localhost:8080/"
        },
        "id": "Vim33u9aWqby",
        "outputId": "ba0db483-3dbb-4492-8742-92f57af343b1"
      },
      "execution_count": 246,
      "outputs": [
        {
          "output_type": "stream",
          "name": "stdout",
          "text": [
            "b_subset  (2, 3)\n",
            "b_score  0.9666666666666668\n",
            "b_size_subset  [(3,), (2, 3), (0, 3, 4), (0, 1, 3, 4), (1, 2, 3, 6, 7), (0, 1, 2, 3, 4, 5), (0, 1, 2, 3, 4, 5, 7), (0, 1, 2, 3, 4, 5, 6, 7)]\n",
            "l_scores  [0.9533333333333334, 0.9666666666666668, 0.96, 0.96, 0.9133333333333333, 0.9666666666666668, 0.96, 0.8800000000000001]\n"
          ]
        }
      ]
    },
    {
      "cell_type": "markdown",
      "source": [
        "**Recursive Feature Elimination**\n",
        "\n",
        "‘Given an external estimator that assigns weights to features (e.g., the coefficients of a linear model), the goal of recursive feature elimination (RFE) is to select features by recursively considering smaller and smaller sets of features. First, the estimator is trained on the initial set of features and the importance of each feature is obtained either through a coef_ attribute or through a feature_importances_ attribute.\n",
        "\n",
        "Then, the least important features are pruned from the current set of features. That procedure is recursively repeated on the pruned set until the desired number of features to select is eventually reached.’(https://scikit-learn.org/stable/modules/generated/sklearn.feature_selection.RFE.html)"
      ],
      "metadata": {
        "id": "tslrQLc7ZmPB"
      }
    },
    {
      "cell_type": "code",
      "source": [
        "from sklearn.metrics import accuracy_score\n",
        "from sklearn.feature_selection import RFE\n",
        "from sklearn.tree import DecisionTreeClassifier\n",
        "estimator=DecisionTreeClassifier(max_depth=3)\n",
        "\n",
        "selector = RFE(estimator, n_features_to_select=2, step=1)\n",
        "selector = selector.fit(X, Y)\n",
        "print(selector.support_)\n",
        "print(selector.ranking_)\n",
        "\n",
        "\n",
        "X_transform=selector.transform(X)\n",
        "estimator.fit(X_transform,Y)\n",
        "y_pred=estimator.predict(X_transform)\n",
        "accuracy_score(Y, y_pred)"
      ],
      "metadata": {
        "colab": {
          "base_uri": "https://localhost:8080/"
        },
        "id": "wF8VeRVBZmYX",
        "outputId": "e46ccb23-4676-47b3-d9bf-159195871f5f"
      },
      "execution_count": 247,
      "outputs": [
        {
          "output_type": "stream",
          "name": "stdout",
          "text": [
            "[False False  True False False False False  True False False False]\n",
            "[10  9  1  6  8  7  5  1  4  3  2]\n"
          ]
        },
        {
          "output_type": "execute_result",
          "data": {
            "text/plain": [
              "0.9733333333333334"
            ]
          },
          "metadata": {},
          "execution_count": 247
        }
      ]
    },
    {
      "cell_type": "markdown",
      "source": [
        "**C. Embedded Methods:**\n",
        "\n",
        "These methods encompass the benefits of both the wrapper and filter methods, by including interactions of features but also maintaining reasonable computational cost. Embedded methods are iterative in the sense that takes care of each iteration of the model training process and carefully extracts those features which contribute the most to the training for a particular iteration."
      ],
      "metadata": {
        "id": "afSoaYbvc-FY"
      }
    },
    {
      "cell_type": "code",
      "source": [
        "from sklearn.feature_selection import SelectFromModel\n",
        "from sklearn.ensemble import RandomForestClassifier\n",
        "\n",
        "forest =RandomForestClassifier().fit(X,Y)\n",
        "\n",
        "sfm = SelectFromModel(forest, prefit=True)\n",
        "#\n",
        "# Transform the training data set\n",
        "#\n",
        "X_training_selected = sfm.transform(X)\n",
        "#\n",
        "# Count of features whose importance value is greater than the threshold value\n",
        "#\n",
        "importantFeaturesCount = X.shape[1]\n",
        "#\n",
        "# Here are the important features\n",
        "#\n",
        "print(sfm.get_support())\n",
        "\n",
        "plt.bar(name, forest.feature_importances_)"
      ],
      "metadata": {
        "colab": {
          "base_uri": "https://localhost:8080/",
          "height": 301
        },
        "id": "NdYYzSdsdA5P",
        "outputId": "5b94c00a-393b-435c-c68a-58a2fc13901a"
      },
      "execution_count": 248,
      "outputs": [
        {
          "output_type": "stream",
          "name": "stdout",
          "text": [
            "[False False  True  True False False False  True False False False]\n"
          ]
        },
        {
          "output_type": "execute_result",
          "data": {
            "text/plain": [
              "<BarContainer object of 11 artists>"
            ]
          },
          "metadata": {},
          "execution_count": 248
        },
        {
          "output_type": "display_data",
          "data": {
            "text/plain": [
              "<Figure size 432x288 with 1 Axes>"
            ],
            "image/png": "[encoded data removed]"
          },
          "metadata": {
            "needs_background": "light"
          }
        }
      ]
    },
    {
      "cell_type": "markdown",
      "source": [
        "**Conclusion**\n",
        "\n",
        "We have discussed a few techniques for feature selection. We have on purpose left the feature extraction techniques like Principal Component Analysis, Singular Value Decomposition, Linear Discriminant Analysis, etc. These methods help to reduce the dimensionality of the data or reduce the number of variables while preserving the variance of the data.\n",
        "\n",
        "Apart from the methods discussed above, there are many other methods of feature selection. There are hybrid methods too that use both filtering and wrapping techniques. "
      ],
      "metadata": {
        "id": "uICFh0lUf14d"
      }
    }
  ]
}