{
  "nbformat": 4,
  "nbformat_minor": 0,
  "metadata": {
    "colab": {
      "provenance": [],
      "collapsed_sections": [],
      "authorship_tag": "ABX9TyNo1D3eaZfYhc0er6RhWf2h",
      "include_colab_link": true
    },
    "kernelspec": {
      "name": "python3",
      "display_name": "Python 3"
    },
    "language_info": {
      "name": "python"
    }
  },
  "cells": [
    {
      "cell_type": "markdown",
      "metadata": {
        "id": "view-in-github",
        "colab_type": "text"
      },
      "source": [
        "<a href=\"https://colab.research.google.com/github/encoras/Artificial-Intelligence-Group/blob/master/Feature_selection_test.ipynb\" target=\"_parent\"><img src=\"https://colab.research.google.com/assets/colab-badge.svg\" alt=\"Open In Colab\"/></a>"
      ]
    },
    {
      "cell_type": "markdown",
      "source": [
        "The code is adopted from:\n",
        "\n",
        "https://www.analyticsvidhya.com/blog/2020/10/feature-selection-techniques-in-machine-learning/\n",
        "\n",
        "\n"
      ],
      "metadata": {
        "id": "tSKRJ8-hO6WY"
      }
    },
    {
      "cell_type": "code",
      "execution_count": 73,
      "metadata": {
        "id": "cyqgWif0Fvxh"
      },
      "outputs": [],
      "source": [
        "import numpy as np\n",
        "import pylab as pl\n",
        "from sklearn import svm, datasets\n",
        "from sklearn.preprocessing import StandardScaler, MinMaxScaler\n",
        "scaler = MinMaxScaler()\n",
        "RAND=123\n",
        "\n",
        "# import some data to play with\n",
        "iris = datasets.load_iris()\n",
        "X = iris.data\n",
        "#X = scaler.fit_transform(X)\n",
        "Y = iris.target\n",
        "\n",
        "X=np.hstack((X,X,10*np.random.random((Y.shape[0], 3))))\n",
        "X[:,6]=X[:,6]*X[:,0] +5*np.random.random((Y.shape[0]))\n",
        "X[0:1,:]\n",
        "\n",
        "from sklearn.model_selection import train_test_split\n",
        "X_train, X_test, y_train, y_test = train_test_split(X, Y, test_size=0.25, random_state=RAND)\n"
      ]
    },
    {
      "cell_type": "markdown",
      "source": [
        "Let's find a baseline classifier accuracy."
      ],
      "metadata": {
        "id": "8RmfWlvxLrSx"
      }
    },
    {
      "cell_type": "code",
      "source": [
        "from sklearn.neighbors import KNeighborsClassifier\n",
        "from sklearn.metrics import accuracy_score\n",
        "nb_model = KNeighborsClassifier(n_neighbors=3, p=1)\n",
        "nb_model.fit(X_train, y_train)\n",
        "y_pred = nb_model.predict(X_test)\n",
        "scores_base=accuracy_score(y_test,y_pred)\n",
        "print(\"Baseline accuracy = \", scores_base)"
      ],
      "metadata": {
        "colab": {
          "base_uri": "https://localhost:8080/"
        },
        "id": "GUJIfnzTLg4G",
        "outputId": "0097ea07-9ab1-4f25-f77f-f91fba29f2c4"
      },
      "execution_count": 74,
      "outputs": [
        {
          "output_type": "stream",
          "name": "stdout",
          "text": [
            "Baseline accuracy =  0.868421052631579\n"
          ]
        }
      ]
    },
    {
      "cell_type": "markdown",
      "source": [
        "Information Gain:\n",
        "\n",
        "Information gain calculates the reduction in entropy from the transformation of a dataset. It can be used for feature selection by evaluating the Information gain of each variable in the context of the target variable."
      ],
      "metadata": {
        "id": "paxCMsMP0Dhh"
      }
    },
    {
      "cell_type": "code",
      "source": [
        "from sklearn.feature_selection import mutual_info_classif\n",
        "import matplotlib.pyplot as plt\n",
        "name= ['f1', 'f2', 'f3', 'f4', 'f1_', 'f2_', 'f3+N', 'f4_', 'fN1', 'fN2', 'fN3']\n",
        "importance = mutual_info_classif(X_train,y_train)\n",
        "\n",
        "fig = plt.figure()\n",
        "ax = fig.add_axes([0,0,1,1])\n",
        "ax.bar( name, importance,width=0.5)\n",
        "\n",
        "th=np.median(importance)\n",
        "ax.plot(name, th*np.ones((11)), 'r')\n",
        "plt.show()\n"
      ],
      "metadata": {
        "colab": {
          "base_uri": "https://localhost:8080/",
          "height": 337
        },
        "id": "AInuKYcVvo-K",
        "outputId": "51ee8ab0-261e-4f63-a852-c554689a3f7b"
      },
      "execution_count": 75,
      "outputs": [
        {
          "output_type": "display_data",
          "data": {
            "text/plain": [
              "<Figure size 432x288 with 1 Axes>"
            ],
            "image/png": "[encoded data removed]"
          },
          "metadata": {
            "needs_background": "light"
          }
        }
      ]
    },
    {
      "cell_type": "markdown",
      "source": [
        "**Chi-square Test**\n",
        "\n",
        "The Chi-square test is used for categorical features in a dataset. We calculate Chi-square between each feature and the target and select the desired number of features with the best Chi-square scores. In order to correctly apply the chi-squared in order to test the relation between various features in the dataset and the target variable, the following conditions have to be met: the variables have to be categorical, sampled independently and values should have an expected frequency greater than 5."
      ],
      "metadata": {
        "id": "34lE3WXu0QJn"
      }
    },
    {
      "cell_type": "code",
      "source": [
        "from sklearn.feature_selection import SelectKBest, chi2\n",
        "\n",
        "#three features selection by Chi-square\n",
        "chi2_features = SelectKBest(chi2, k=3)\n",
        "\n",
        "chi2_features.fit(abs(X_train), y_train)\n",
        "\n",
        "print(chi2_features.get_support())\n",
        "\n",
        "X_train_filtered = chi2_features.transform(X_train)  #Apply feature selection and return transformed data\n",
        "X_test_filtered = chi2_features.transform(X_test)\n",
        "\n",
        "nb_model.fit(X_train_filtered, y_train)\n",
        "y_pred = nb_model.predict(X_test_filtered)\n",
        "scores_chi2_features=accuracy_score(y_test,y_pred)\n",
        "print(\"chi2_features accuracy = \", scores_chi2_features, \"  is it better than Baseline? \", scores_chi2_features>scores_base)"
      ],
      "metadata": {
        "colab": {
          "base_uri": "https://localhost:8080/"
        },
        "id": "f-FyyqDS0SiJ",
        "outputId": "622461eb-cff3-4a7c-d231-8688706fd048"
      },
      "execution_count": 76,
      "outputs": [
        {
          "output_type": "stream",
          "name": "stdout",
          "text": [
            "[False False  True False False False  True  True False False False]\n",
            "chi2_features accuracy =  0.8947368421052632   is it better than Baseline?  True\n"
          ]
        }
      ]
    },
    {
      "cell_type": "code",
      "source": [
        "\"\"\"\n",
        "Review the features\n",
        "\"\"\"\n",
        "# zip feature names, ranks, and decisions \n",
        "feature_ranks = list(zip(name,      chi2_features.get_support()))\n",
        "\n",
        "# print the results\n",
        "for feat in feature_ranks:\n",
        "    print('Feature: {:<10},  Keep: {}'.format(feat[0], feat[1]))"
      ],
      "metadata": {
        "colab": {
          "base_uri": "https://localhost:8080/"
        },
        "id": "6mCReleRNIMB",
        "outputId": "e58863bd-f604-4cb5-f089-d8a04136f2fa"
      },
      "execution_count": 77,
      "outputs": [
        {
          "output_type": "stream",
          "name": "stdout",
          "text": [
            "Feature: f1        ,  Keep: False\n",
            "Feature: f2        ,  Keep: False\n",
            "Feature: f3        ,  Keep: True\n",
            "Feature: f4        ,  Keep: False\n",
            "Feature: f1_       ,  Keep: False\n",
            "Feature: f2_       ,  Keep: False\n",
            "Feature: f3+N      ,  Keep: True\n",
            "Feature: f4_       ,  Keep: True\n",
            "Feature: fN1       ,  Keep: False\n",
            "Feature: fN2       ,  Keep: False\n",
            "Feature: fN3       ,  Keep: False\n"
          ]
        }
      ]
    },
    {
      "cell_type": "markdown",
      "source": [
        "**Fisher’s Score**\n",
        "\n",
        "Fisher score is one of the most widely used supervised feature selection methods. The algorithm which we will use returns the ranks of the variables based on the fisher’s score in descending order. We can then select the variables as per the case."
      ],
      "metadata": {
        "id": "p1HNvM2e3Ivd"
      }
    },
    {
      "cell_type": "code",
      "source": [
        "!pip install skfeature-chappers"
      ],
      "metadata": {
        "colab": {
          "base_uri": "https://localhost:8080/"
        },
        "id": "Y6SAlTtj3Kll",
        "outputId": "ca16337e-cacb-40c2-cef0-4413c676808c"
      },
      "execution_count": 78,
      "outputs": [
        {
          "output_type": "stream",
          "name": "stdout",
          "text": [
            "Looking in indexes: https://pypi.org/simple, https://us-python.pkg.dev/colab-wheels/public/simple/\n",
            "Requirement already satisfied: skfeature-chappers in /usr/local/lib/python3.7/dist-packages (1.1.0)\n",
            "Requirement already satisfied: numpy in /usr/local/lib/python3.7/dist-packages (from skfeature-chappers) (1.21.6)\n",
            "Requirement already satisfied: scikit-learn in /usr/local/lib/python3.7/dist-packages (from skfeature-chappers) (1.0.2)\n",
            "Requirement already satisfied: pandas in /usr/local/lib/python3.7/dist-packages (from skfeature-chappers) (1.3.5)\n",
            "Requirement already satisfied: python-dateutil>=2.7.3 in /usr/local/lib/python3.7/dist-packages (from pandas->skfeature-chappers) (2.8.2)\n",
            "Requirement already satisfied: pytz>=2017.3 in /usr/local/lib/python3.7/dist-packages (from pandas->skfeature-chappers) (2022.4)\n",
            "Requirement already satisfied: six>=1.5 in /usr/local/lib/python3.7/dist-packages (from python-dateutil>=2.7.3->pandas->skfeature-chappers) (1.15.0)\n",
            "Requirement already satisfied: scipy>=1.1.0 in /usr/local/lib/python3.7/dist-packages (from scikit-learn->skfeature-chappers) (1.7.3)\n",
            "Requirement already satisfied: threadpoolctl>=2.0.0 in /usr/local/lib/python3.7/dist-packages (from scikit-learn->skfeature-chappers) (3.1.0)\n",
            "Requirement already satisfied: joblib>=0.11 in /usr/local/lib/python3.7/dist-packages (from scikit-learn->skfeature-chappers) (1.2.0)\n"
          ]
        }
      ]
    },
    {
      "cell_type": "code",
      "source": [
        "from skfeature.function.similarity_based import fisher_score\n",
        "\n",
        "ranks = fisher_score.fisher_score(X,Y)\n",
        "\n",
        "fig = plt.figure()\n",
        "ax = fig.add_axes([0,0,1,1])\n",
        "ax.bar( name, ranks,width=0.5)\n",
        "\n",
        "th=np.median(ranks)\n",
        "ax.plot(name, th*np.ones((11)), 'r')\n",
        "plt.show()\n"
      ],
      "metadata": {
        "colab": {
          "base_uri": "https://localhost:8080/",
          "height": 337
        },
        "id": "SQdaqPIP31a3",
        "outputId": "7530ae09-4421-42a6-f808-1dd5ab345a64"
      },
      "execution_count": 79,
      "outputs": [
        {
          "output_type": "display_data",
          "data": {
            "text/plain": [
              "<Figure size 432x288 with 1 Axes>"
            ],
            "image/png": "[encoded data removed]"
          },
          "metadata": {
            "needs_background": "light"
          }
        }
      ]
    },
    {
      "cell_type": "markdown",
      "source": [
        "**Correlation Coefficient**\n",
        "\n",
        "Correlation is a measure of the linear relationship of 2 or more variables. Through correlation, we can predict one variable from the other. The logic behind using correlation for feature selection is that the good variables are highly correlated with the target. Furthermore, variables should be correlated with the target but should be uncorrelated among themselves.\n",
        "\n",
        "If two variables are correlated, we can predict one from the other. Therefore, if two features are correlated, the model only really needs one of them, as the second one does not add additional information. We will use the Pearson Correlation here."
      ],
      "metadata": {
        "id": "ybd0u4oT4hW8"
      }
    },
    {
      "cell_type": "code",
      "source": [
        "import seaborn as sns\n",
        "\n",
        "cor = np.corrcoef(X.transpose())\n",
        "plt.figure(figsize =(10,6))\n",
        "sns.heatmap(cor)"
      ],
      "metadata": {
        "colab": {
          "base_uri": "https://localhost:8080/",
          "height": 395
        },
        "id": "XEYHrdq94jJY",
        "outputId": "5aeba199-c804-4277-fea4-99c6640b10db"
      },
      "execution_count": 80,
      "outputs": [
        {
          "output_type": "execute_result",
          "data": {
            "text/plain": [
              "<matplotlib.axes._subplots.AxesSubplot at 0x7f1b4ecbea50>"
            ]
          },
          "metadata": {},
          "execution_count": 80
        },
        {
          "output_type": "display_data",
          "data": {
            "text/plain": [
              "<Figure size 720x432 with 2 Axes>"
            ],
            "image/png": "[encoded data removed]"
          },
          "metadata": {
            "needs_background": "light"
          }
        }
      ]
    },
    {
      "cell_type": "markdown",
      "source": [
        "We need to set an absolute value, say 0.5 as the threshold for selecting the variables. If we find that the predictor variables are correlated among themselves, we can drop the variable which has a lower correlation coefficient value with the target variable. We can also compute multiple correlation coefficients to check whether more than two variables are correlated to each other. This phenomenon is known as multicollinearity."
      ],
      "metadata": {
        "id": "NDaPIRMy6U7l"
      }
    },
    {
      "cell_type": "code",
      "source": [
        "plt.figure(figsize =(10,6))\n",
        "\n",
        "sns.heatmap(cor<0.5)\n",
        "\n",
        "plt.figure(figsize =(10,6))\n"
      ],
      "metadata": {
        "colab": {
          "base_uri": "https://localhost:8080/",
          "height": 413
        },
        "id": "4B9LaUCJMTq2",
        "outputId": "8b2cef88-c919-4aa0-bf14-e0d30a5243a8"
      },
      "execution_count": 81,
      "outputs": [
        {
          "output_type": "execute_result",
          "data": {
            "text/plain": [
              "<Figure size 720x432 with 0 Axes>"
            ]
          },
          "metadata": {},
          "execution_count": 81
        },
        {
          "output_type": "display_data",
          "data": {
            "text/plain": [
              "<Figure size 720x432 with 2 Axes>"
            ],
            "image/png": "[encoded data removed]"
          },
          "metadata": {
            "needs_background": "light"
          }
        },
        {
          "output_type": "display_data",
          "data": {
            "text/plain": [
              "<Figure size 720x432 with 0 Axes>"
            ]
          },
          "metadata": {}
        }
      ]
    },
    {
      "cell_type": "code",
      "source": [
        "\n",
        "good=sum(cor<0.5)\n",
        "fig1 = plt.figure()\n",
        "ax = fig1.add_axes([0,0,1,1])\n",
        "\n",
        "ax.bar( name, good,width=0.5)"
      ],
      "metadata": {
        "colab": {
          "base_uri": "https://localhost:8080/",
          "height": 354
        },
        "id": "Rnt_z6eFNIF5",
        "outputId": "4b1ffe19-306e-440e-d86c-d7eb3ccf20ec"
      },
      "execution_count": 82,
      "outputs": [
        {
          "output_type": "execute_result",
          "data": {
            "text/plain": [
              "<BarContainer object of 11 artists>"
            ]
          },
          "metadata": {},
          "execution_count": 82
        },
        {
          "output_type": "display_data",
          "data": {
            "text/plain": [
              "<Figure size 432x288 with 1 Axes>"
            ],
            "image/png": "[encoded data removed]"
          },
          "metadata": {
            "needs_background": "light"
          }
        }
      ]
    },
    {
      "cell_type": "code",
      "source": [],
      "metadata": {
        "id": "Mef4dW66MEDe"
      },
      "execution_count": 82,
      "outputs": []
    },
    {
      "cell_type": "markdown",
      "source": [
        "**Variance Threshold**\n",
        "\n",
        "The variance threshold is a simple baseline approach to feature selection. It removes all features which variance doesn’t meet some threshold. By default, it removes all zero-variance features, i.e., features that have the same value in all samples. We assume that features with a higher variance may contain more useful information, but note that we are not taking the relationship between feature variables or feature and target variables into account, which is one of the drawbacks of filter methods."
      ],
      "metadata": {
        "id": "hgl7DY9NNhbH"
      }
    },
    {
      "cell_type": "code",
      "source": [
        "from sklearn.feature_selection import VarianceThreshold\n",
        "\n",
        "v_threshold = VarianceThreshold(threshold=0.0)\n",
        "v_threshold.fit(X_train)\n",
        "v_threshold.get_support()"
      ],
      "metadata": {
        "colab": {
          "base_uri": "https://localhost:8080/"
        },
        "id": "0Y532SVQNjeg",
        "outputId": "ec74188d-b3d8-4947-a67c-908f08003023"
      },
      "execution_count": 83,
      "outputs": [
        {
          "output_type": "execute_result",
          "data": {
            "text/plain": [
              "array([ True,  True,  True,  True,  True,  True,  True,  True,  True,\n",
              "        True,  True])"
            ]
          },
          "metadata": {},
          "execution_count": 83
        }
      ]
    },
    {
      "cell_type": "markdown",
      "source": [
        "The get_support returns a Boolean vector where True means that the variable does not have zero variance."
      ],
      "metadata": {
        "id": "lWKs0SkQOVD0"
      }
    },
    {
      "cell_type": "markdown",
      "source": [
        "**Mean Absolute Difference (MAD)**\n",
        "\n",
        "‘The mean absolute difference (MAD) computes the absolute difference from the mean value. The main difference between the variance and MAD measures is the absence of the square in the latter. The MAD, like the variance, is also a scale variant.’ [1] This means that higher the MAD, higher the discriminatory power."
      ],
      "metadata": {
        "id": "HZT4w09OOolD"
      }
    },
    {
      "cell_type": "code",
      "source": [
        "mean_abs_diff = np.sum(np.abs(X-np.mean(X,axis = 0)), axis = 0)/X.shape[0]\n",
        "plt.bar(np.arange(X.shape[1]), mean_abs_diff, color = 'teal')"
      ],
      "metadata": {
        "colab": {
          "base_uri": "https://localhost:8080/",
          "height": 282
        },
        "id": "7wSQdWGzOqk7",
        "outputId": "7a4d1878-606c-4919-cbcd-4a8aa404039f"
      },
      "execution_count": 84,
      "outputs": [
        {
          "output_type": "execute_result",
          "data": {
            "text/plain": [
              "<BarContainer object of 11 artists>"
            ]
          },
          "metadata": {},
          "execution_count": 84
        },
        {
          "output_type": "display_data",
          "data": {
            "text/plain": [
              "<Figure size 432x288 with 1 Axes>"
            ],
            "image/png": "[encoded data removed]"
          },
          "metadata": {
            "needs_background": "light"
          }
        }
      ]
    },
    {
      "cell_type": "code",
      "source": [],
      "metadata": {
        "id": "EQdmkcBXRT6g"
      },
      "execution_count": 84,
      "outputs": []
    },
    {
      "cell_type": "markdown",
      "source": [
        "**B. Wrapper Methods:**\n",
        "\n",
        "Wrappers require some method to search the space of all possible subsets of features, assessing their quality by learning and evaluating a classifier with that feature subset. The feature selection process is based on a specific machine learning algorithm that we are trying to fit on a given dataset. It follows a greedy search approach by evaluating all the possible combinations of features against the evaluation criterion. The wrapper methods usually result in better predictive accuracy than filter methods.\n",
        "\n",
        "Let’s, discuss some of these techniques:"
      ],
      "metadata": {
        "id": "OvZc7BUIS6E_"
      }
    },
    {
      "cell_type": "markdown",
      "source": [
        "**Forward Feature Selection**\n",
        "\n",
        "This is an iterative method wherein we start with the best performing variable against the target. Next, we select another variable that gives the best performance in combination with the first selected variable. This process continues until the preset criterion is achieved."
      ],
      "metadata": {
        "id": "f4s2-n2xS8oK"
      }
    },
    {
      "cell_type": "code",
      "source": [
        "from sklearn.feature_selection import SequentialFeatureSelector\n",
        "from sklearn.neighbors import KNeighborsClassifier\n",
        "\n",
        "knn = KNeighborsClassifier(n_neighbors=7)\n",
        "sfs = SequentialFeatureSelector(knn, n_features_to_select=4)\n",
        "sfs.fit(X_train, y_train)\n",
        "\n",
        "sfs.get_support()\n",
        "#sfs.transform(X).shape"
      ],
      "metadata": {
        "colab": {
          "base_uri": "https://localhost:8080/"
        },
        "id": "vbn5Ln64S8D-",
        "outputId": "750ed4c0-83f8-4198-daaf-8f3dabc61caa"
      },
      "execution_count": 85,
      "outputs": [
        {
          "output_type": "execute_result",
          "data": {
            "text/plain": [
              "array([ True,  True,  True,  True, False, False, False, False, False,\n",
              "       False, False])"
            ]
          },
          "metadata": {},
          "execution_count": 85
        }
      ]
    },
    {
      "cell_type": "code",
      "source": [
        "X_train_filtered = sfs.transform(X_train)  #Apply feature selection and return transformed data\n",
        "X_test_filtered = sfs.transform(X_test)\n",
        "\n",
        "nb_model.fit(X_train_filtered, y_train)\n",
        "y_pred = nb_model.predict(X_test_filtered)\n",
        "scores_sfs=accuracy_score(y_test,y_pred)\n",
        "print(\"Forward Feature Selection accuracy = \", scores_sfs, \";  Is it better than Baseline? \", scores_sfs>scores_base)"
      ],
      "metadata": {
        "colab": {
          "base_uri": "https://localhost:8080/"
        },
        "id": "lEzeTUJvOnqz",
        "outputId": "7cc9a070-5298-4e8a-8167-8d1ef9e91691"
      },
      "execution_count": 86,
      "outputs": [
        {
          "output_type": "stream",
          "name": "stdout",
          "text": [
            "Forward Feature Selection accuracy =  0.9473684210526315 ;  Is it better than Baseline?  True\n"
          ]
        }
      ]
    },
    {
      "cell_type": "markdown",
      "source": [
        "**Backward Feature Selection**"
      ],
      "metadata": {
        "id": "z4vPjtkqV-47"
      }
    },
    {
      "cell_type": "code",
      "source": [
        "from sklearn.feature_selection import SequentialFeatureSelector\n",
        "from sklearn.neighbors import KNeighborsClassifier\n",
        "\n",
        "knn = KNeighborsClassifier(n_neighbors=7)\n",
        "sfs = SequentialFeatureSelector(knn, direction='backward', n_features_to_select=4)\n",
        "sfs.fit(X, Y)\n",
        "\n",
        "sfs.get_support()\n",
        "#sfs.transform(X).shape"
      ],
      "metadata": {
        "colab": {
          "base_uri": "https://localhost:8080/"
        },
        "id": "be4knppRV_C4",
        "outputId": "7bea515c-6fd8-46c6-c9fc-7b84a7398945"
      },
      "execution_count": 87,
      "outputs": [
        {
          "output_type": "execute_result",
          "data": {
            "text/plain": [
              "array([False, False,  True, False, False, False,  True, False,  True,\n",
              "        True, False])"
            ]
          },
          "metadata": {},
          "execution_count": 87
        }
      ]
    },
    {
      "cell_type": "code",
      "source": [
        "X_train_filtered = sfs.transform(X_train)  #Apply feature selection and return transformed data\n",
        "X_test_filtered = sfs.transform(X_test)\n",
        "\n",
        "nb_model.fit(X_train_filtered, y_train)\n",
        "y_pred = nb_model.predict(X_test_filtered)\n",
        "scores_bfs=accuracy_score(y_test,y_pred)\n",
        "print(\"Backward Feature Selection accuracy = \", scores_bfs, \";  Is it better than Baseline? \", scores_bfs>scores_base)"
      ],
      "metadata": {
        "colab": {
          "base_uri": "https://localhost:8080/"
        },
        "id": "BTtTPXRcSwlz",
        "outputId": "b199fa26-3e2a-4b85-cd3a-c40702c98d42"
      },
      "execution_count": 92,
      "outputs": [
        {
          "output_type": "stream",
          "name": "stdout",
          "text": [
            "Backward Feature Selection accuracy =  0.9210526315789473 ;  Is it better than Baseline?  True\n"
          ]
        }
      ]
    },
    {
      "cell_type": "code",
      "source": [
        "\"\"\"\n",
        "Review the features\n",
        "\"\"\"\n",
        "# zip feature names, ranks, and decisions \n",
        "feature_ranks = list(zip(name,      sfs.get_support()))\n",
        "\n",
        "# print the results\n",
        "for feat in feature_ranks:\n",
        "    print('Feature: {:<10},  Keep: {}'.format(feat[0], feat[1]))"
      ],
      "metadata": {
        "colab": {
          "base_uri": "https://localhost:8080/"
        },
        "id": "LwD39PMqQroa",
        "outputId": "4d40d20c-5946-4b3a-9828-80628f28b03b"
      },
      "execution_count": 88,
      "outputs": [
        {
          "output_type": "stream",
          "name": "stdout",
          "text": [
            "Feature: f1        ,  Keep: False\n",
            "Feature: f2        ,  Keep: False\n",
            "Feature: f3        ,  Keep: True\n",
            "Feature: f4        ,  Keep: False\n",
            "Feature: f1_       ,  Keep: False\n",
            "Feature: f2_       ,  Keep: False\n",
            "Feature: f3+N      ,  Keep: True\n",
            "Feature: f4_       ,  Keep: False\n",
            "Feature: fN1       ,  Keep: True\n",
            "Feature: fN2       ,  Keep: True\n",
            "Feature: fN3       ,  Keep: False\n"
          ]
        }
      ]
    },
    {
      "cell_type": "markdown",
      "source": [
        "**Exhaustive Feature Selection**\n",
        "\n",
        "This is the most robust feature selection method covered so far. This is a brute-force evaluation of each feature subset. This means that it tries every possible combination of the variables and returns the best performing subset.\n",
        "(https://stackoverflow.com/questions/22956938/exhaustively-feature-selection-in-scikit-learn)\n"
      ],
      "metadata": {
        "id": "jvtc4l9VWqK5"
      }
    },
    {
      "cell_type": "code",
      "source": [
        "from itertools import combinations\n",
        "from sklearn.model_selection import cross_val_score\n",
        "\n",
        "def best_subset(estimator, X, y, max_size=8, cv=5):\n",
        "#Calculates the best model of up to max_size features of X.\n",
        "#   estimator must have a fit and score functions.\n",
        "#   X must be a DataFrame.'''\n",
        "\n",
        "    n_features = X.shape[1]\n",
        "    subsets = (combinations(range(n_features), k + 1) \n",
        "               for k in range(min(n_features, max_size)))\n",
        "\n",
        "    best_size_subset = []\n",
        "    for subsets_k in subsets:  # for each list of subsets of the same size\n",
        "        best_score = -np.inf\n",
        "        best_subset = None\n",
        "        for subset in subsets_k: # for each subset\n",
        "            estimator.fit(X[:, list(subset)], y)\n",
        "            # get the subset with the best score among subsets of the same size\n",
        "            score = estimator.score(X[:, list(subset)], y)\n",
        "            if score > best_score:\n",
        "                best_score, best_subset = score, subset\n",
        "        # to compare subsets of different sizes we must use CV\n",
        "        # first store the best subset of each size\n",
        "        best_size_subset.append(best_subset)\n",
        "\n",
        "    # compare best subsets of each size\n",
        "    best_score = -np.inf\n",
        "    best_subset = None\n",
        "    list_scores = []\n",
        "    for subset in best_size_subset:\n",
        "        score = cross_val_score(estimator, X[:, list(subset)], y, cv=cv).mean()\n",
        "        list_scores.append(score)\n",
        "        if score > best_score:\n",
        "            best_score, best_subset = score, subset\n",
        "\n",
        "    return best_subset, best_score, best_size_subset, list_scores\n",
        "\n",
        "\n",
        "b_subset, b_score, b_size_subset, l_scores=best_subset(knn, X_train, y_train)  \n",
        "print('b_subset ', b_subset)\n",
        "print('b_score ',b_score)\n",
        "print('b_size_subset ', b_size_subset)\n",
        "print('l_scores ', l_scores)\n"
      ],
      "metadata": {
        "colab": {
          "base_uri": "https://localhost:8080/"
        },
        "id": "Vim33u9aWqby",
        "outputId": "74f072a6-bbba-46c9-b448-3e6fd779b94a"
      },
      "execution_count": 93,
      "outputs": [
        {
          "output_type": "stream",
          "name": "stdout",
          "text": [
            "b_subset  (1, 2, 3)\n",
            "b_score  0.9727272727272727\n",
            "b_size_subset  [(3,), (0, 2), (1, 2, 3), (1, 2, 3, 5), (1, 2, 3, 5, 7), (0, 1, 2, 3, 5, 7), (0, 1, 2, 3, 4, 5, 7), (0, 1, 2, 3, 4, 5, 7, 9)]\n",
            "l_scores  [0.9549407114624506, 0.9545454545454545, 0.9727272727272727, 0.9727272727272727, 0.9727272727272727, 0.9727272727272727, 0.9727272727272727, 0.9280632411067193]\n"
          ]
        }
      ]
    },
    {
      "cell_type": "markdown",
      "source": [
        "**Recursive Feature Elimination**\n",
        "\n",
        "‘Given an external estimator that assigns weights to features (e.g., the coefficients of a linear model), the goal of recursive feature elimination (RFE) is to select features by recursively considering smaller and smaller sets of features. First, the estimator is trained on the initial set of features and the importance of each feature is obtained either through a coef_ attribute or through a feature_importances_ attribute.\n",
        "\n",
        "Then, the least important features are pruned from the current set of features. That procedure is recursively repeated on the pruned set until the desired number of features to select is eventually reached.’(https://scikit-learn.org/stable/modules/generated/sklearn.feature_selection.RFE.html)"
      ],
      "metadata": {
        "id": "tslrQLc7ZmPB"
      }
    },
    {
      "cell_type": "code",
      "source": [
        "from sklearn.metrics import accuracy_score\n",
        "from sklearn.feature_selection import RFE\n",
        "from sklearn.tree import DecisionTreeClassifier\n",
        "estimator=DecisionTreeClassifier(max_depth=3)\n",
        "\n",
        "selector = RFE(estimator, n_features_to_select=4, step=1)\n",
        "selector = selector.fit(X_train, y_train)\n",
        "print(selector.support_)\n",
        "print(selector.ranking_)\n",
        "\n",
        "\n",
        "X_train_filtered = selector.transform(X_train)  #Apply feature selection and return transformed data\n",
        "X_test_filtered = selector.transform(X_test)\n",
        "\n",
        "nb_model.fit(X_train_filtered, y_train)\n",
        "y_pred = nb_model.predict(X_test_filtered)\n",
        "scores_rfe=accuracy_score(y_test,y_pred)\n",
        "print(\"Recursive Feature Elimination accuracy = \", scores_rfe, \";  Is it better than Baseline? \", scores_rfe>scores_base)"
      ],
      "metadata": {
        "colab": {
          "base_uri": "https://localhost:8080/"
        },
        "id": "wF8VeRVBZmYX",
        "outputId": "fda6c610-7a1a-44c4-99fc-6c7d2d378abe"
      },
      "execution_count": 90,
      "outputs": [
        {
          "output_type": "stream",
          "name": "stdout",
          "text": [
            "[False False  True False False False  True  True False False  True]\n",
            "[8 7 1 6 5 4 1 1 3 2 1]\n",
            "Recursive Feature Elimination accuracy =  0.868421052631579 ;  Is it better than Baseline?  False\n"
          ]
        }
      ]
    },
    {
      "cell_type": "markdown",
      "source": [
        "**C. Embedded Methods:**\n",
        "\n",
        "These methods encompass the benefits of both the wrapper and filter methods, by including interactions of features but also maintaining reasonable computational cost. Embedded methods are iterative in the sense that takes care of each iteration of the model training process and carefully extracts those features which contribute the most to the training for a particular iteration."
      ],
      "metadata": {
        "id": "afSoaYbvc-FY"
      }
    },
    {
      "cell_type": "code",
      "source": [
        "from sklearn.feature_selection import SelectFromModel\n",
        "from sklearn.ensemble import RandomForestClassifier\n",
        "\n",
        "forest =RandomForestClassifier().fit(X_train,y_train)\n",
        "\n",
        "sfm = SelectFromModel(forest, prefit=True)\n",
        "#\n",
        "#\n",
        "# Here are the important features\n",
        "#\n",
        "print(sfm.get_support())\n",
        "\n",
        "plt.bar(name, forest.feature_importances_)"
      ],
      "metadata": {
        "colab": {
          "base_uri": "https://localhost:8080/",
          "height": 305
        },
        "id": "NdYYzSdsdA5P",
        "outputId": "e2271d4e-f045-4275-bd9d-328e265393f0"
      },
      "execution_count": 95,
      "outputs": [
        {
          "output_type": "stream",
          "name": "stdout",
          "text": [
            "[False False  True  True False False  True  True False False False]\n"
          ]
        },
        {
          "output_type": "execute_result",
          "data": {
            "text/plain": [
              "<BarContainer object of 11 artists>"
            ]
          },
          "metadata": {},
          "execution_count": 95
        },
        {
          "output_type": "display_data",
          "data": {
            "text/plain": [
              "<Figure size 432x288 with 1 Axes>"
            ],
            "image/png": "[encoded data removed]"
          },
          "metadata": {
            "needs_background": "light"
          }
        }
      ]
    },
    {
      "cell_type": "code",
      "source": [
        "X_train_filtered = sfm.transform(X_train)  #Apply feature selection and return transformed data\n",
        "X_test_filtered = sfm.transform(X_test)\n",
        "\n",
        "nb_model.fit(X_train_filtered, y_train)\n",
        "y_pred = nb_model.predict(X_test_filtered)\n",
        "scores_sfm=accuracy_score(y_test,y_pred)\n",
        "print(\"Embedded Methods Selection accuracy = \", scores_sfm, \";  Is it better than Baseline? \", scores_sfm>scores_base)"
      ],
      "metadata": {
        "colab": {
          "base_uri": "https://localhost:8080/"
        },
        "id": "hLRxIibsTbNQ",
        "outputId": "2f07bf5e-7c16-4dbd-d971-f9c6489bcfeb"
      },
      "execution_count": 96,
      "outputs": [
        {
          "output_type": "stream",
          "name": "stdout",
          "text": [
            "Embedded Methods Selection accuracy =  0.8947368421052632 ;  Is it better than Baseline?  True\n"
          ]
        }
      ]
    },
    {
      "cell_type": "markdown",
      "source": [
        "Summary"
      ],
      "metadata": {
        "id": "hzwaaqA_U30o"
      }
    },
    {
      "cell_type": "code",
      "source": [
        "print('Baseline accuracy                      = ', scores_base)\n",
        "print(\"chi2_features accuracy                 = \", scores_chi2_features, \"  is it better than Baseline? \", scores_chi2_features>scores_base)\n",
        "print(\"Forward Feature Selection accuracy     = \", scores_sfs, \";  Is it better than Baseline? \", scores_sfs>scores_base)\n",
        "print(\"Backward Feature Selection accuracy    = \", scores_bfs, \";  Is it better than Baseline? \", scores_bfs>scores_base)\n",
        "print(\"Recursive Feature Elimination accuracy = \", scores_rfe, \";  Is it better than Baseline? \", scores_rfe>scores_base)\n",
        "print(\"Embedded Methods Selection accuracy    = \", scores_sfm, \";  Is it better than Baseline? \", scores_sfm>scores_base)"
      ],
      "metadata": {
        "colab": {
          "base_uri": "https://localhost:8080/"
        },
        "id": "nhlcDLTnU5PR",
        "outputId": "25c86b93-c6c9-447f-e99d-f8d0a5d92262"
      },
      "execution_count": 99,
      "outputs": [
        {
          "output_type": "stream",
          "name": "stdout",
          "text": [
            "Baseline accuracy                      =  0.868421052631579\n",
            "chi2_features accuracy                 =  0.8947368421052632   is it better than Baseline?  True\n",
            "Forward Feature Selection accuracy     =  0.9473684210526315 ;  Is it better than Baseline?  True\n",
            "Backward Feature Selection accuracy    =  0.9210526315789473 ;  Is it better than Baseline?  True\n",
            "Recursive Feature Elimination accuracy =  0.868421052631579 ;  Is it better than Baseline?  False\n",
            "Embedded Methods Selection accuracy    =  0.8947368421052632 ;  Is it better than Baseline?  True\n"
          ]
        }
      ]
    },
    {
      "cell_type": "markdown",
      "source": [
        "**Conclusion**\n",
        "\n",
        "We have discussed a few techniques for feature selection. We have on purpose left the feature extraction techniques like Principal Component Analysis, Singular Value Decomposition, Linear Discriminant Analysis, etc. These methods help to reduce the dimensionality of the data or reduce the number of variables while preserving the variance of the data.\n",
        "\n",
        "Apart from the methods discussed above, there are many other methods of feature selection. There are hybrid methods too that use both filtering and wrapping techniques. "
      ],
      "metadata": {
        "id": "uICFh0lUf14d"
      }
    }
  ]
}