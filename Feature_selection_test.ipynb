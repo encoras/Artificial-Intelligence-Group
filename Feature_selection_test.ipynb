{
  "nbformat": 4,
  "nbformat_minor": 0,
  "metadata": {
    "colab": {
      "provenance": [],
      "authorship_tag": "ABX9TyO8zftfmDqOTY2lLdt5G8ut",
      "include_colab_link": true
    },
    "kernelspec": {
      "name": "python3",
      "display_name": "Python 3"
    },
    "language_info": {
      "name": "python"
    }
  },
  "cells": [
    {
      "cell_type": "markdown",
      "metadata": {
        "id": "view-in-github",
        "colab_type": "text"
      },
      "source": [
        "<a href=\"https://colab.research.google.com/github/encoras/Artificial-Intelligence-Group/blob/master/Feature_selection_test.ipynb\" target=\"_parent\"><img src=\"https://colab.research.google.com/assets/colab-badge.svg\" alt=\"Open In Colab\"/></a>"
      ]
    },
    {
      "cell_type": "markdown",
      "source": [
        "The code is adopted from:\n",
        "\n",
        "https://www.analyticsvidhya.com/blog/2020/10/feature-selection-techniques-in-machine-learning/\n",
        "\n",
        "\n"
      ],
      "metadata": {
        "id": "tSKRJ8-hO6WY"
      }
    },
    {
      "cell_type": "code",
      "execution_count": null,
      "metadata": {
        "id": "cyqgWif0Fvxh"
      },
      "outputs": [],
      "source": [
        "import numpy as np\n",
        "import pylab as pl\n",
        "from sklearn import svm, datasets\n",
        "from sklearn.preprocessing import StandardScaler, MinMaxScaler\n",
        "scaler = MinMaxScaler()\n",
        "RAND=123\n",
        "\n",
        "# import some data to play with\n",
        "iris = datasets.load_iris()\n",
        "X = iris.data\n",
        "#X = scaler.fit_transform(X)\n",
        "Y = iris.target\n",
        "\n",
        "X=np.hstack((X,X,10*np.random.random((Y.shape[0], 3))))\n",
        "X[:,6]=X[:,6]*X[:,0] +5*np.random.random((Y.shape[0]))\n",
        "X[0:1,:]\n",
        "\n",
        "from sklearn.model_selection import train_test_split\n",
        "X_train, X_test, y_train, y_test = train_test_split(X, Y, test_size=0.25, random_state=RAND)\n"
      ]
    },
    {
      "cell_type": "markdown",
      "source": [
        "Let's find a baseline classifier accuracy."
      ],
      "metadata": {
        "id": "8RmfWlvxLrSx"
      }
    },
    {
      "cell_type": "code",
      "source": [
        "from sklearn.neighbors import KNeighborsClassifier\n",
        "from sklearn.metrics import accuracy_score\n",
        "nb_model = KNeighborsClassifier(n_neighbors=3, p=1)\n",
        "nb_model.fit(X_train, y_train)\n",
        "y_pred = nb_model.predict(X_test)\n",
        "scores_base=accuracy_score(y_test,y_pred)\n",
        "print(\"Baseline accuracy = \", scores_base)"
      ],
      "metadata": {
        "colab": {
          "base_uri": "https://localhost:8080/"
        },
        "id": "GUJIfnzTLg4G",
        "outputId": "92eeae3b-f28b-4d01-b968-c77448fb119e"
      },
      "execution_count": null,
      "outputs": [
        {
          "output_type": "stream",
          "name": "stdout",
          "text": [
            "Baseline accuracy =  0.868421052631579\n"
          ]
        }
      ]
    },
    {
      "cell_type": "markdown",
      "source": [
        "Information Gain:\n",
        "\n",
        "Information gain calculates the reduction in entropy from the transformation of a dataset. It can be used for feature selection by evaluating the Information gain of each variable in the context of the target variable."
      ],
      "metadata": {
        "id": "paxCMsMP0Dhh"
      }
    },
    {
      "cell_type": "code",
      "source": [
        "from sklearn.feature_selection import mutual_info_classif\n",
        "import matplotlib.pyplot as plt\n",
        "name= ['f1', 'f2', 'f3', 'f4', 'f1_', 'f2_', 'f3+N', 'f4_', 'fN1', 'fN2', 'fN3']\n",
        "importance = mutual_info_classif(X_train,y_train)\n",
        "\n",
        "fig = plt.figure()\n",
        "ax = fig.add_axes([0,0,1,1])\n",
        "ax.bar( name, importance,width=0.5)\n",
        "\n",
        "th=np.median(importance)\n",
        "ax.plot(name, th*np.ones((11)), 'r')\n",
        "plt.show()\n"
      ],
      "metadata": {
        "colab": {
          "base_uri": "https://localhost:8080/",
          "height": 540
        },
        "id": "AInuKYcVvo-K",
        "outputId": "8bc4132d-cc13-496c-f223-7a50be677f36"
      },
      "execution_count": null,
      "outputs": [
        {
          "output_type": "display_data",
          "data": {
            "text/plain": [
              "<Figure size 640x480 with 1 Axes>"
            ],
            "image/png": "[encoded data removed]"
          },
          "metadata": {}
        }
      ]
    },
    {
      "cell_type": "markdown",
      "source": [
        "**Chi-square Test**\n",
        "\n",
        "The Chi-square test is used for categorical features in a dataset. We calculate Chi-square between each feature and the target and select the desired number of features with the best Chi-square scores. In order to correctly apply the chi-squared in order to test the relation between various features in the dataset and the target variable, the following conditions have to be met: the variables have to be categorical, sampled independently and values should have an expected frequency greater than 5."
      ],
      "metadata": {
        "id": "34lE3WXu0QJn"
      }
    },
    {
      "cell_type": "code",
      "source": [
        "from sklearn.feature_selection import SelectKBest, chi2\n",
        "\n",
        "#three features selection by Chi-square\n",
        "chi2_features = SelectKBest(chi2, k=3)\n",
        "\n",
        "chi2_features.fit(abs(X_train), y_train)\n",
        "\n",
        "print(chi2_features.get_support())\n",
        "\n",
        "X_train_filtered = chi2_features.transform(X_train)  #Apply feature selection and return transformed data\n",
        "X_test_filtered = chi2_features.transform(X_test)\n",
        "\n",
        "nb_model.fit(X_train_filtered, y_train)\n",
        "y_pred = nb_model.predict(X_test_filtered)\n",
        "scores_chi2_features=accuracy_score(y_test,y_pred)\n",
        "print(\"chi2_features accuracy = \", scores_chi2_features, \"  is it better than Baseline? \", scores_chi2_features>scores_base)"
      ],
      "metadata": {
        "colab": {
          "base_uri": "https://localhost:8080/"
        },
        "id": "f-FyyqDS0SiJ",
        "outputId": "00c4ba4e-2acc-4a69-fcd9-9072666c25f5"
      },
      "execution_count": null,
      "outputs": [
        {
          "output_type": "stream",
          "name": "stdout",
          "text": [
            "[False False  True False False False  True  True False False False]\n",
            "chi2_features accuracy =  0.8947368421052632   is it better than Baseline?  True\n"
          ]
        }
      ]
    },
    {
      "cell_type": "code",
      "source": [
        "\"\"\"\n",
        "Review the features\n",
        "\"\"\"\n",
        "# zip feature names, ranks, and decisions\n",
        "feature_ranks = list(zip(name,      chi2_features.get_support()))\n",
        "\n",
        "# print the results\n",
        "for feat in feature_ranks:\n",
        "    print('Feature: {:<10},  Keep: {}'.format(feat[0], feat[1]))"
      ],
      "metadata": {
        "colab": {
          "base_uri": "https://localhost:8080/"
        },
        "id": "6mCReleRNIMB",
        "outputId": "9fc34ae7-9ab6-4b79-958f-27038e92ffbe"
      },
      "execution_count": null,
      "outputs": [
        {
          "output_type": "stream",
          "name": "stdout",
          "text": [
            "Feature: f1        ,  Keep: False\n",
            "Feature: f2        ,  Keep: False\n",
            "Feature: f3        ,  Keep: True\n",
            "Feature: f4        ,  Keep: False\n",
            "Feature: f1_       ,  Keep: False\n",
            "Feature: f2_       ,  Keep: False\n",
            "Feature: f3+N      ,  Keep: True\n",
            "Feature: f4_       ,  Keep: True\n",
            "Feature: fN1       ,  Keep: False\n",
            "Feature: fN2       ,  Keep: False\n",
            "Feature: fN3       ,  Keep: False\n"
          ]
        }
      ]
    },
    {
      "cell_type": "markdown",
      "source": [
        "**Fisher’s Score**\n",
        "\n",
        "Fisher score is one of the most widely used supervised feature selection methods. The algorithm which we will use returns the ranks of the variables based on the fisher’s score in descending order. We can then select the variables as per the case."
      ],
      "metadata": {
        "id": "p1HNvM2e3Ivd"
      }
    },
    {
      "cell_type": "code",
      "source": [
        "!pip install skfeature-chappers"
      ],
      "metadata": {
        "colab": {
          "base_uri": "https://localhost:8080/"
        },
        "id": "Y6SAlTtj3Kll",
        "outputId": "e229ca2f-b6aa-419f-eb96-caba37e62aea"
      },
      "execution_count": null,
      "outputs": [
        {
          "output_type": "stream",
          "name": "stdout",
          "text": [
            "Collecting skfeature-chappers\n",
            "  Downloading skfeature_chappers-1.1.0-py3-none-any.whl.metadata (926 bytes)\n",
            "Requirement already satisfied: scikit-learn in /usr/local/lib/python3.12/dist-packages (from skfeature-chappers) (1.6.1)\n",
            "Requirement already satisfied: pandas in /usr/local/lib/python3.12/dist-packages (from skfeature-chappers) (2.2.2)\n",
            "Requirement already satisfied: numpy in /usr/local/lib/python3.12/dist-packages (from skfeature-chappers) (2.0.2)\n",
            "Requirement already satisfied: python-dateutil>=2.8.2 in /usr/local/lib/python3.12/dist-packages (from pandas->skfeature-chappers) (2.9.0.post0)\n",
            "Requirement already satisfied: pytz>=2020.1 in /usr/local/lib/python3.12/dist-packages (from pandas->skfeature-chappers) (2025.2)\n",
            "Requirement already satisfied: tzdata>=2022.7 in /usr/local/lib/python3.12/dist-packages (from pandas->skfeature-chappers) (2025.2)\n",
            "Requirement already satisfied: scipy>=1.6.0 in /usr/local/lib/python3.12/dist-packages (from scikit-learn->skfeature-chappers) (1.16.2)\n",
            "Requirement already satisfied: joblib>=1.2.0 in /usr/local/lib/python3.12/dist-packages (from scikit-learn->skfeature-chappers) (1.5.2)\n",
            "Requirement already satisfied: threadpoolctl>=3.1.0 in /usr/local/lib/python3.12/dist-packages (from scikit-learn->skfeature-chappers) (3.6.0)\n",
            "Requirement already satisfied: six>=1.5 in /usr/local/lib/python3.12/dist-packages (from python-dateutil>=2.8.2->pandas->skfeature-chappers) (1.17.0)\n",
            "Downloading skfeature_chappers-1.1.0-py3-none-any.whl (66 kB)\n",
            "\u001b[2K   \u001b[90m━━━━━━━━━━━━━━━━━━━━━━━━━━━━━━━━━━━━━━━━\u001b[0m \u001b[32m66.3/66.3 kB\u001b[0m \u001b[31m2.8 MB/s\u001b[0m eta \u001b[36m0:00:00\u001b[0m\n",
            "\u001b[?25hInstalling collected packages: skfeature-chappers\n",
            "Successfully installed skfeature-chappers-1.1.0\n"
          ]
        }
      ]
    },
    {
      "cell_type": "code",
      "source": [
        "from skfeature.function.similarity_based import fisher_score\n",
        "\n",
        "ranks = fisher_score.fisher_score(X,Y)\n",
        "\n",
        "fig = plt.figure()\n",
        "ax = fig.add_axes([0,0,1,1])\n",
        "ax.bar( name, ranks,width=0.5)\n",
        "\n",
        "th=np.median(ranks)\n",
        "ax.plot(name, th*np.ones((11)), 'r')\n",
        "plt.show()\n"
      ],
      "metadata": {
        "colab": {
          "base_uri": "https://localhost:8080/",
          "height": 540
        },
        "id": "SQdaqPIP31a3",
        "outputId": "42e93ccd-7b0a-4f15-e18c-3d53219d6cc5"
      },
      "execution_count": null,
      "outputs": [
        {
          "output_type": "display_data",
          "data": {
            "text/plain": [
              "<Figure size 640x480 with 1 Axes>"
            ],
            "image/png": "[encoded data removed]"
          },
          "metadata": {}
        }
      ]
    },
    {
      "cell_type": "markdown",
      "source": [
        "**Correlation Coefficient**\n",
        "\n",
        "Correlation is a measure of the linear relationship of 2 or more variables. Through correlation, we can predict one variable from the other. The logic behind using correlation for feature selection is that the good variables are highly correlated with the target. Furthermore, variables should be correlated with the target but should be uncorrelated among themselves.\n",
        "\n",
        "If two variables are correlated, we can predict one from the other. Therefore, if two features are correlated, the model only really needs one of them, as the second one does not add additional information. We will use the Pearson Correlation here."
      ],
      "metadata": {
        "id": "ybd0u4oT4hW8"
      }
    },
    {
      "cell_type": "code",
      "source": [
        "import seaborn as sns\n",
        "\n",
        "cor = np.corrcoef(X.transpose())\n",
        "plt.figure(figsize =(10,6))\n",
        "sns.heatmap(cor)"
      ],
      "metadata": {
        "colab": {
          "base_uri": "https://localhost:8080/",
          "height": 545
        },
        "id": "XEYHrdq94jJY",
        "outputId": "f0c503fe-494c-4316-a96e-38484919b4ca"
      },
      "execution_count": null,
      "outputs": [
        {
          "output_type": "execute_result",
          "data": {
            "text/plain": [
              "<Axes: >"
            ]
          },
          "metadata": {},
          "execution_count": 8
        },
        {
          "output_type": "display_data",
          "data": {
            "text/plain": [
              "<Figure size 1000x600 with 2 Axes>"
            ],
            "image/png": "[encoded data removed]"
          },
          "metadata": {}
        }
      ]
    },
    {
      "cell_type": "markdown",
      "source": [
        "We need to set an absolute value, say 0.5 as the threshold for selecting the variables. If we find that the predictor variables are correlated among themselves, we can drop the variable which has a lower correlation coefficient value with the target variable. We can also compute multiple correlation coefficients to check whether more than two variables are correlated to each other. This phenomenon is known as multicollinearity."
      ],
      "metadata": {
        "id": "NDaPIRMy6U7l"
      }
    },
    {
      "cell_type": "code",
      "source": [
        "plt.figure(figsize =(10,6))\n",
        "\n",
        "sns.heatmap(cor<0.5)\n",
        "\n",
        "plt.figure(figsize =(10,6))\n"
      ],
      "metadata": {
        "colab": {
          "base_uri": "https://localhost:8080/",
          "height": 563
        },
        "id": "4B9LaUCJMTq2",
        "outputId": "b3ccd32f-0944-4ef5-9ace-f10a76b1b947"
      },
      "execution_count": null,
      "outputs": [
        {
          "output_type": "execute_result",
          "data": {
            "text/plain": [
              "<Figure size 1000x600 with 0 Axes>"
            ]
          },
          "metadata": {},
          "execution_count": 9
        },
        {
          "output_type": "display_data",
          "data": {
            "text/plain": [
              "<Figure size 1000x600 with 2 Axes>"
            ],
            "image/png": "[encoded data removed]"
          },
          "metadata": {}
        },
        {
          "output_type": "display_data",
          "data": {
            "text/plain": [
              "<Figure size 1000x600 with 0 Axes>"
            ]
          },
          "metadata": {}
        }
      ]
    },
    {
      "cell_type": "code",
      "source": [
        "\n",
        "good=sum(cor<0.5)\n",
        "fig1 = plt.figure()\n",
        "ax = fig1.add_axes([0,0,1,1])\n",
        "\n",
        "ax.bar( name, good,width=0.5)"
      ],
      "metadata": {
        "colab": {
          "base_uri": "https://localhost:8080/",
          "height": 557
        },
        "id": "Rnt_z6eFNIF5",
        "outputId": "dd046f17-363a-43bc-c4d7-39c6232427f0"
      },
      "execution_count": null,
      "outputs": [
        {
          "output_type": "execute_result",
          "data": {
            "text/plain": [
              "<BarContainer object of 11 artists>"
            ]
          },
          "metadata": {},
          "execution_count": 10
        },
        {
          "output_type": "display_data",
          "data": {
            "text/plain": [
              "<Figure size 640x480 with 1 Axes>"
            ],
            "image/png": "[encoded data removed]"
          },
          "metadata": {}
        }
      ]
    },
    {
      "cell_type": "code",
      "source": [],
      "metadata": {
        "id": "Mef4dW66MEDe"
      },
      "execution_count": null,
      "outputs": []
    },
    {
      "cell_type": "markdown",
      "source": [
        "**Variance Threshold**\n",
        "\n",
        "The variance threshold is a simple baseline approach to feature selection. It removes all features which variance doesn’t meet some threshold. By default, it removes all zero-variance features, i.e., features that have the same value in all samples. We assume that features with a higher variance may contain more useful information, but note that we are not taking the relationship between feature variables or feature and target variables into account, which is one of the drawbacks of filter methods."
      ],
      "metadata": {
        "id": "hgl7DY9NNhbH"
      }
    },
    {
      "cell_type": "code",
      "source": [
        "from sklearn.feature_selection import VarianceThreshold\n",
        "\n",
        "v_threshold = VarianceThreshold(threshold=0.0)\n",
        "v_threshold.fit(X_train)\n",
        "v_threshold.get_support()"
      ],
      "metadata": {
        "colab": {
          "base_uri": "https://localhost:8080/"
        },
        "id": "0Y532SVQNjeg",
        "outputId": "3f7ae60b-02f7-47de-d0b5-1a18930b9a8b"
      },
      "execution_count": null,
      "outputs": [
        {
          "output_type": "execute_result",
          "data": {
            "text/plain": [
              "array([ True,  True,  True,  True,  True,  True,  True,  True,  True,\n",
              "        True,  True])"
            ]
          },
          "metadata": {},
          "execution_count": 11
        }
      ]
    },
    {
      "cell_type": "markdown",
      "source": [
        "The get_support returns a Boolean vector where True means that the variable does not have zero variance."
      ],
      "metadata": {
        "id": "lWKs0SkQOVD0"
      }
    },
    {
      "cell_type": "markdown",
      "source": [
        "**Mean Absolute Difference (MAD)**\n",
        "\n",
        "‘The mean absolute difference (MAD) computes the absolute difference from the mean value. The main difference between the variance and MAD measures is the absence of the square in the latter. The MAD, like the variance, is also a scale variant.’ [1] This means that higher the MAD, higher the discriminatory power."
      ],
      "metadata": {
        "id": "HZT4w09OOolD"
      }
    },
    {
      "cell_type": "code",
      "source": [
        "mean_abs_diff = np.sum(np.abs(X-np.mean(X,axis = 0)), axis = 0)/X.shape[0]\n",
        "plt.bar(np.arange(X.shape[1]), mean_abs_diff, color = 'teal')"
      ],
      "metadata": {
        "colab": {
          "base_uri": "https://localhost:8080/",
          "height": 447
        },
        "id": "7wSQdWGzOqk7",
        "outputId": "d779fcae-1219-479d-a6f0-666465a05ec0"
      },
      "execution_count": null,
      "outputs": [
        {
          "output_type": "execute_result",
          "data": {
            "text/plain": [
              "<BarContainer object of 11 artists>"
            ]
          },
          "metadata": {},
          "execution_count": 12
        },
        {
          "output_type": "display_data",
          "data": {
            "text/plain": [
              "<Figure size 640x480 with 1 Axes>"
            ],
            "image/png": "[encoded data removed]"
          },
          "metadata": {}
        }
      ]
    },
    {
      "cell_type": "code",
      "source": [],
      "metadata": {
        "id": "EQdmkcBXRT6g"
      },
      "execution_count": null,
      "outputs": []
    },
    {
      "cell_type": "markdown",
      "source": [
        "**B. Wrapper Methods:**\n",
        "\n",
        "Wrappers require some method to search the space of all possible subsets of features, assessing their quality by learning and evaluating a classifier with that feature subset. The feature selection process is based on a specific machine learning algorithm that we are trying to fit on a given dataset. It follows a greedy search approach by evaluating all the possible combinations of features against the evaluation criterion. The wrapper methods usually result in better predictive accuracy than filter methods.\n",
        "\n",
        "Let’s, discuss some of these techniques:"
      ],
      "metadata": {
        "id": "OvZc7BUIS6E_"
      }
    },
    {
      "cell_type": "markdown",
      "source": [
        "**Forward Feature Selection**\n",
        "\n",
        "This is an iterative method wherein we start with the best performing variable against the target. Next, we select another variable that gives the best performance in combination with the first selected variable. This process continues until the preset criterion is achieved."
      ],
      "metadata": {
        "id": "f4s2-n2xS8oK"
      }
    },
    {
      "cell_type": "code",
      "source": [
        "from sklearn.feature_selection import SequentialFeatureSelector\n",
        "from sklearn.neighbors import KNeighborsClassifier\n",
        "\n",
        "knn = KNeighborsClassifier(n_neighbors=7)\n",
        "sfs = SequentialFeatureSelector(knn, n_features_to_select=4)\n",
        "sfs.fit(X_train, y_train)\n",
        "\n",
        "sfs.get_support()\n",
        "#sfs.transform(X).shape"
      ],
      "metadata": {
        "colab": {
          "base_uri": "https://localhost:8080/"
        },
        "id": "vbn5Ln64S8D-",
        "outputId": "590cb14d-5eb1-420d-c74b-87c436a32c7e"
      },
      "execution_count": null,
      "outputs": [
        {
          "output_type": "execute_result",
          "data": {
            "text/plain": [
              "array([ True,  True,  True,  True, False, False, False, False, False,\n",
              "       False, False])"
            ]
          },
          "metadata": {},
          "execution_count": 13
        }
      ]
    },
    {
      "cell_type": "code",
      "source": [
        "X_train_filtered = sfs.transform(X_train)  #Apply feature selection and return transformed data\n",
        "X_test_filtered = sfs.transform(X_test)\n",
        "\n",
        "nb_model.fit(X_train_filtered, y_train)\n",
        "y_pred = nb_model.predict(X_test_filtered)\n",
        "scores_sfs=accuracy_score(y_test,y_pred)\n",
        "print(\"Forward Feature Selection accuracy = \", scores_sfs, \";  Is it better than Baseline? \", scores_sfs>scores_base)"
      ],
      "metadata": {
        "colab": {
          "base_uri": "https://localhost:8080/"
        },
        "id": "lEzeTUJvOnqz",
        "outputId": "846072c6-dae2-4e83-b51c-d6b0ce59be71"
      },
      "execution_count": null,
      "outputs": [
        {
          "output_type": "stream",
          "name": "stdout",
          "text": [
            "Forward Feature Selection accuracy =  0.9473684210526315 ;  Is it better than Baseline?  True\n"
          ]
        }
      ]
    },
    {
      "cell_type": "markdown",
      "source": [
        "**Backward Feature Selection**"
      ],
      "metadata": {
        "id": "z4vPjtkqV-47"
      }
    },
    {
      "cell_type": "code",
      "source": [
        "from sklearn.feature_selection import SequentialFeatureSelector\n",
        "from sklearn.neighbors import KNeighborsClassifier\n",
        "\n",
        "knn = KNeighborsClassifier(n_neighbors=7)\n",
        "sfs = SequentialFeatureSelector(knn, direction='backward', n_features_to_select=4)\n",
        "sfs.fit(X, Y)\n",
        "\n",
        "sfs.get_support()\n",
        "#sfs.transform(X).shape"
      ],
      "metadata": {
        "colab": {
          "base_uri": "https://localhost:8080/"
        },
        "id": "be4knppRV_C4",
        "outputId": "dfcbad5b-c60e-4c3a-87f7-22ace3f44e75"
      },
      "execution_count": null,
      "outputs": [
        {
          "output_type": "execute_result",
          "data": {
            "text/plain": [
              "array([False, False, False, False,  True, False,  True, False, False,\n",
              "        True,  True])"
            ]
          },
          "metadata": {},
          "execution_count": 15
        }
      ]
    },
    {
      "cell_type": "code",
      "source": [
        "X_train_filtered = sfs.transform(X_train)  #Apply feature selection and return transformed data\n",
        "X_test_filtered = sfs.transform(X_test)\n",
        "\n",
        "nb_model.fit(X_train_filtered, y_train)\n",
        "y_pred = nb_model.predict(X_test_filtered)\n",
        "scores_bfs=accuracy_score(y_test,y_pred)\n",
        "print(\"Backward Feature Selection accuracy = \", scores_bfs, \";  Is it better than Baseline? \", scores_bfs>scores_base)"
      ],
      "metadata": {
        "colab": {
          "base_uri": "https://localhost:8080/"
        },
        "id": "BTtTPXRcSwlz",
        "outputId": "1d9418be-65a3-4732-8dfb-231107288cb7"
      },
      "execution_count": null,
      "outputs": [
        {
          "output_type": "stream",
          "name": "stdout",
          "text": [
            "Backward Feature Selection accuracy =  0.868421052631579 ;  Is it better than Baseline?  False\n"
          ]
        }
      ]
    },
    {
      "cell_type": "code",
      "source": [
        "\"\"\"\n",
        "Review the features\n",
        "\"\"\"\n",
        "# zip feature names, ranks, and decisions\n",
        "feature_ranks = list(zip(name,      sfs.get_support()))\n",
        "\n",
        "# print the results\n",
        "for feat in feature_ranks:\n",
        "    print('Feature: {:<10},  Keep: {}'.format(feat[0], feat[1]))"
      ],
      "metadata": {
        "colab": {
          "base_uri": "https://localhost:8080/"
        },
        "id": "LwD39PMqQroa",
        "outputId": "843ccebf-608f-4819-ff6a-71e6e156e24a"
      },
      "execution_count": null,
      "outputs": [
        {
          "output_type": "stream",
          "name": "stdout",
          "text": [
            "Feature: f1        ,  Keep: False\n",
            "Feature: f2        ,  Keep: False\n",
            "Feature: f3        ,  Keep: False\n",
            "Feature: f4        ,  Keep: False\n",
            "Feature: f1_       ,  Keep: True\n",
            "Feature: f2_       ,  Keep: False\n",
            "Feature: f3+N      ,  Keep: True\n",
            "Feature: f4_       ,  Keep: False\n",
            "Feature: fN1       ,  Keep: False\n",
            "Feature: fN2       ,  Keep: True\n",
            "Feature: fN3       ,  Keep: True\n"
          ]
        }
      ]
    },
    {
      "cell_type": "markdown",
      "source": [
        "**Exhaustive Feature Selection**\n",
        "\n",
        "This is the most robust feature selection method covered so far. This is a brute-force evaluation of each feature subset. This means that it tries every possible combination of the variables and returns the best performing subset.\n",
        "(https://stackoverflow.com/questions/22956938/exhaustively-feature-selection-in-scikit-learn)\n"
      ],
      "metadata": {
        "id": "jvtc4l9VWqK5"
      }
    },
    {
      "cell_type": "code",
      "source": [
        "from itertools import combinations\n",
        "from sklearn.model_selection import cross_val_score\n",
        "\n",
        "def best_subset(estimator, X, y, max_size=8, cv=5):\n",
        "#Calculates the best model of up to max_size features of X.\n",
        "#   estimator must have a fit and score functions.\n",
        "#   X must be a DataFrame.'''\n",
        "\n",
        "    n_features = X.shape[1]\n",
        "    subsets = (combinations(range(n_features), k + 1)\n",
        "               for k in range(min(n_features, max_size)))\n",
        "\n",
        "    best_size_subset = []\n",
        "    for subsets_k in subsets:  # for each list of subsets of the same size\n",
        "        best_score = -np.inf\n",
        "        best_subset = None\n",
        "        for subset in subsets_k: # for each subset\n",
        "            estimator.fit(X[:, list(subset)], y)\n",
        "            # get the subset with the best score among subsets of the same size\n",
        "            score = estimator.score(X[:, list(subset)], y)\n",
        "            if score > best_score:\n",
        "                best_score, best_subset = score, subset\n",
        "        # to compare subsets of different sizes we must use CV\n",
        "        # first store the best subset of each size\n",
        "        best_size_subset.append(best_subset)\n",
        "\n",
        "    # compare best subsets of each size\n",
        "    best_score = -np.inf\n",
        "    best_subset = None\n",
        "    list_scores = []\n",
        "    for subset in best_size_subset:\n",
        "        score = cross_val_score(estimator, X[:, list(subset)], y, cv=cv).mean()\n",
        "        list_scores.append(score)\n",
        "        if score > best_score:\n",
        "            best_score, best_subset = score, subset\n",
        "\n",
        "    return best_subset, best_score, best_size_subset, list_scores\n",
        "\n",
        "\n",
        "b_subset, b_score, b_size_subset, l_scores=best_subset(knn, X_train, y_train)\n",
        "print('b_subset ', b_subset)\n",
        "print('b_score ',b_score)\n",
        "print('b_size_subset ', b_size_subset)\n",
        "print('l_scores ', l_scores)\n"
      ],
      "metadata": {
        "colab": {
          "base_uri": "https://localhost:8080/"
        },
        "id": "Vim33u9aWqby",
        "outputId": "18fdf1e7-0ae4-495a-fe4d-7819bcdf33ea"
      },
      "execution_count": null,
      "outputs": [
        {
          "output_type": "stream",
          "name": "stdout",
          "text": [
            "b_subset  (1, 2, 3)\n",
            "b_score  0.9727272727272727\n",
            "b_size_subset  [(3,), (0, 2), (1, 2, 3), (1, 2, 3, 5), (1, 2, 3, 5, 7), (1, 2, 3, 5, 7, 10), (0, 1, 2, 3, 4, 5, 7), (0, 1, 2, 3, 4, 5, 6, 7)]\n",
            "l_scores  [np.float64(0.9549407114624506), np.float64(0.9545454545454545), np.float64(0.9727272727272727), np.float64(0.9727272727272727), np.float64(0.9727272727272727), np.float64(0.9466403162055336), np.float64(0.9727272727272727), np.float64(0.9292490118577075)]\n"
          ]
        }
      ]
    },
    {
      "cell_type": "markdown",
      "source": [
        "**Recursive Feature Elimination**\n",
        "\n",
        "‘Given an external estimator that assigns weights to features (e.g., the coefficients of a linear model), the goal of recursive feature elimination (RFE) is to select features by recursively considering smaller and smaller sets of features. First, the estimator is trained on the initial set of features and the importance of each feature is obtained either through a coef_ attribute or through a feature_importances_ attribute.\n",
        "\n",
        "Then, the least important features are pruned from the current set of features. That procedure is recursively repeated on the pruned set until the desired number of features to select is eventually reached.’(https://scikit-learn.org/stable/modules/generated/sklearn.feature_selection.RFE.html)"
      ],
      "metadata": {
        "id": "tslrQLc7ZmPB"
      }
    },
    {
      "cell_type": "code",
      "source": [
        "from sklearn.metrics import accuracy_score\n",
        "from sklearn.feature_selection import RFE\n",
        "from sklearn.tree import DecisionTreeClassifier\n",
        "estimator=DecisionTreeClassifier(max_depth=3)\n",
        "\n",
        "selector = RFE(estimator, n_features_to_select=4, step=1)\n",
        "selector = selector.fit(X_train, y_train)\n",
        "print(selector.support_)\n",
        "print(selector.ranking_)\n",
        "\n",
        "\n",
        "X_train_filtered = selector.transform(X_train)  #Apply feature selection and return transformed data\n",
        "X_test_filtered = selector.transform(X_test)\n",
        "\n",
        "nb_model.fit(X_train_filtered, y_train)\n",
        "y_pred = nb_model.predict(X_test_filtered)\n",
        "scores_rfe=accuracy_score(y_test,y_pred)\n",
        "print(\"Recursive Feature Elimination accuracy = \", scores_rfe, \";  Is it better than Baseline? \", scores_rfe>scores_base)"
      ],
      "metadata": {
        "colab": {
          "base_uri": "https://localhost:8080/"
        },
        "id": "wF8VeRVBZmYX",
        "outputId": "a411d70e-19b6-4c01-dd4f-fc8d2fcbc5c1"
      },
      "execution_count": null,
      "outputs": [
        {
          "output_type": "stream",
          "name": "stdout",
          "text": [
            "[False False  True False False False  True  True False False  True]\n",
            "[8 7 1 5 4 6 1 1 3 2 1]\n",
            "Recursive Feature Elimination accuracy =  0.8947368421052632 ;  Is it better than Baseline?  True\n"
          ]
        }
      ]
    },
    {
      "cell_type": "markdown",
      "source": [
        "**C. Embedded Methods:**\n",
        "\n",
        "These methods encompass the benefits of both the wrapper and filter methods, by including interactions of features but also maintaining reasonable computational cost. Embedded methods are iterative in the sense that takes care of each iteration of the model training process and carefully extracts those features which contribute the most to the training for a particular iteration."
      ],
      "metadata": {
        "id": "afSoaYbvc-FY"
      }
    },
    {
      "cell_type": "code",
      "source": [
        "from sklearn.feature_selection import SelectFromModel\n",
        "from sklearn.ensemble import RandomForestClassifier\n",
        "\n",
        "forest =RandomForestClassifier().fit(X_train,y_train)\n",
        "\n",
        "sfm = SelectFromModel(forest, prefit=True)\n",
        "#\n",
        "#\n",
        "# Here are the important features\n",
        "#\n",
        "print(sfm.get_support())\n",
        "\n",
        "plt.bar(name, forest.feature_importances_)"
      ],
      "metadata": {
        "colab": {
          "base_uri": "https://localhost:8080/",
          "height": 465
        },
        "id": "NdYYzSdsdA5P",
        "outputId": "0d223798-df82-48a1-a664-bdb703aebb17"
      },
      "execution_count": null,
      "outputs": [
        {
          "output_type": "stream",
          "name": "stdout",
          "text": [
            "[False False  True  True False False  True  True False False False]\n"
          ]
        },
        {
          "output_type": "execute_result",
          "data": {
            "text/plain": [
              "<BarContainer object of 11 artists>"
            ]
          },
          "metadata": {},
          "execution_count": 20
        },
        {
          "output_type": "display_data",
          "data": {
            "text/plain": [
              "<Figure size 640x480 with 1 Axes>"
            ],
            "image/png": "[encoded data removed]"
          },
          "metadata": {}
        }
      ]
    },
    {
      "cell_type": "code",
      "source": [
        "X_train_filtered = sfm.transform(X_train)  #Apply feature selection and return transformed data\n",
        "X_test_filtered = sfm.transform(X_test)\n",
        "\n",
        "nb_model.fit(X_train_filtered, y_train)\n",
        "y_pred = nb_model.predict(X_test_filtered)\n",
        "scores_sfm=accuracy_score(y_test,y_pred)\n",
        "print(\"Embedded Methods Selection accuracy = \", scores_sfm, \";  Is it better than Baseline? \", scores_sfm>scores_base)"
      ],
      "metadata": {
        "colab": {
          "base_uri": "https://localhost:8080/"
        },
        "id": "hLRxIibsTbNQ",
        "outputId": "0fd9b5f8-2181-4ad6-eefd-09db33f6b41e"
      },
      "execution_count": null,
      "outputs": [
        {
          "output_type": "stream",
          "name": "stdout",
          "text": [
            "Embedded Methods Selection accuracy =  0.9473684210526315 ;  Is it better than Baseline?  True\n"
          ]
        }
      ]
    },
    {
      "cell_type": "markdown",
      "source": [
        "Summary"
      ],
      "metadata": {
        "id": "hzwaaqA_U30o"
      }
    },
    {
      "cell_type": "code",
      "source": [
        "print('Baseline accuracy                      = ', scores_base)\n",
        "print(\"chi2_features accuracy                 = \", scores_chi2_features, \"  is it better than Baseline? \", scores_chi2_features>scores_base)\n",
        "print(\"Forward Feature Selection accuracy     = \", scores_sfs, \";  Is it better than Baseline? \", scores_sfs>scores_base)\n",
        "print(\"Backward Feature Selection accuracy    = \", scores_bfs, \";  Is it better than Baseline? \", scores_bfs>scores_base)\n",
        "print(\"Recursive Feature Elimination accuracy = \", scores_rfe, \";  Is it better than Baseline? \", scores_rfe>scores_base)\n",
        "print(\"Embedded Methods Selection accuracy    = \", scores_sfm, \";  Is it better than Baseline? \", scores_sfm>scores_base)"
      ],
      "metadata": {
        "colab": {
          "base_uri": "https://localhost:8080/"
        },
        "id": "nhlcDLTnU5PR",
        "outputId": "efe92999-1c69-4d7e-8428-6e5581d2aaa6"
      },
      "execution_count": null,
      "outputs": [
        {
          "output_type": "stream",
          "name": "stdout",
          "text": [
            "Baseline accuracy                      =  0.868421052631579\n",
            "chi2_features accuracy                 =  0.8947368421052632   is it better than Baseline?  True\n",
            "Forward Feature Selection accuracy     =  0.9473684210526315 ;  Is it better than Baseline?  True\n",
            "Backward Feature Selection accuracy    =  0.868421052631579 ;  Is it better than Baseline?  False\n",
            "Recursive Feature Elimination accuracy =  0.8947368421052632 ;  Is it better than Baseline?  True\n",
            "Embedded Methods Selection accuracy    =  0.9473684210526315 ;  Is it better than Baseline?  True\n"
          ]
        }
      ]
    },
    {
      "cell_type": "markdown",
      "source": [
        "**Conclusion**\n",
        "\n",
        "We have discussed a few techniques for feature selection. We have on purpose left the feature extraction techniques like Principal Component Analysis, Singular Value Decomposition, Linear Discriminant Analysis, etc. These methods help to reduce the dimensionality of the data or reduce the number of variables while preserving the variance of the data.\n",
        "\n",
        "Apart from the methods discussed above, there are many other methods of feature selection. There are hybrid methods too that use both filtering and wrapping techniques."
      ],
      "metadata": {
        "id": "uICFh0lUf14d"
      }
    },
    {
      "cell_type": "code",
      "source": [
        "from sklearn.model_selection import GridSearchCV, train_test_split\n",
        "from sklearn.pipeline import Pipeline\n",
        "from sklearn.naive_bayes import GaussianNB\n",
        "from sklearn.tree import DecisionTreeClassifier\n",
        "from sklearn.neighbors import KNeighborsClassifier\n",
        "from sklearn.feature_selection import SelectKBest, f_classif, mutual_info_classif\n",
        "from sklearn.ensemble import VotingClassifier\n",
        "from sklearn.preprocessing import StandardScaler\n",
        "\n",
        "\n",
        "# Feature selectors for classifiers\n",
        "feature_selectors = {\n",
        "    'anova': SelectKBest(f_classif),         # for Naive Bayes\n",
        "    'mi': SelectKBest(mutual_info_classif),  # for Decision Tree\n",
        "    'sfs': SequentialFeatureSelector(knn)                             # for KNN\n",
        "}\n",
        "\n",
        "# Pipelines for each classifier\n",
        "nb_pipeline = Pipeline([\n",
        "    ('scaler', StandardScaler()),\n",
        "    ('select', feature_selectors['anova']),\n",
        "    ('clf', GaussianNB())\n",
        "])\n",
        "\n",
        "dt_pipeline = Pipeline([\n",
        "    ('scaler', StandardScaler()),\n",
        "    ('select', feature_selectors['mi']),\n",
        "    ('clf', DecisionTreeClassifier(random_state=42))\n",
        "])\n",
        "\n",
        "knn_pipeline = Pipeline([\n",
        "    ('scaler', StandardScaler()),\n",
        "    ('select', feature_selectors['sfs']),\n",
        "    ('clf', KNeighborsClassifier())\n",
        "])\n",
        "\n",
        "# Ensemble voting classifier\n",
        "ensemble = VotingClassifier(\n",
        "    estimators=[\n",
        "        ('nb', nb_pipeline),\n",
        "        ('dt', dt_pipeline),\n",
        "        ('knn', knn_pipeline)\n",
        "    ],\n",
        "    voting='soft'  # use soft voting for probabilistic output\n",
        ")\n",
        "\n",
        "# Parameter grid for GridSearchCV\n",
        "param_grid = {\n",
        "    'nb__select__k': [2, 5, 8],\n",
        "    'dt__select__k': [2, 5, 8],\n",
        "    'dt__clf__max_depth': [3, 5, None],\n",
        "    'knn__select__n_features_to_select': [2, 3, 5],\n",
        "    'knn__clf__n_neighbors': [3, 5, 7],\n",
        "}\n",
        "\n",
        "# Create GridSearchCV object\n",
        "grid_search = GridSearchCV(ensemble,\n",
        "                           param_grid,\n",
        "                           scoring='accuracy',\n",
        "                           cv=5,\n",
        "                           n_jobs=-1,\n",
        "                           verbose=2)\n",
        "\n",
        "# Fit GridSearch\n",
        "grid_search.fit(X_train, y_train)\n",
        "\n",
        "# Print best results\n",
        "print(f\"Best cross-val accuracy: {grid_search.best_score_:.3f}\")\n",
        "print(f\"Best params: {grid_search.best_params_}\")\n",
        "\n",
        "# Evaluate on test set\n",
        "test_accuracy = grid_search.score(X_test, y_test)\n",
        "print(f\"Test set accuracy: {test_accuracy:.3f}\")"
      ],
      "metadata": {
        "id": "Gr7qGlwd-K2h",
        "outputId": "fc2f6f86-d051-44f9-d19d-1de9a9c2dfc3",
        "colab": {
          "base_uri": "https://localhost:8080/"
        }
      },
      "execution_count": 26,
      "outputs": [
        {
          "metadata": {
            "tags": null
          },
          "name": "stdout",
          "output_type": "stream",
          "text": [
            "Fitting 5 folds for each of 243 candidates, totalling 1215 fits\n",
            "Best cross-val accuracy: 0.945\n",
            "Best params: {'dt__clf__max_depth': 3, 'dt__select__k': 2, 'knn__clf__n_neighbors': 3, 'knn__select__n_features_to_select': 2, 'nb__select__k': 2}\n",
            "Test set accuracy: 0.947\n"
          ]
        }
      ]
    },
    {
      "cell_type": "code",
      "source": [
        "grid_search"
      ],
      "metadata": {
        "id": "VbanYMgsBFlp",
        "outputId": "14c4f661-222f-4ad5-f3a0-384b93eac09e",
        "colab": {
          "base_uri": "https://localhost:8080/",
          "height": 385
        }
      },
      "execution_count": 27,
      "outputs": [
        {
          "data": {
            "text/html": [
              "<style>#sk-container-id-1 {\n",
              "  /* Definition of color scheme common for light and dark mode */\n",
              "  --sklearn-color-text: #000;\n",
              "  --sklearn-color-text-muted: #666;\n",
              "  --sklearn-color-line: gray;\n",
              "  /* Definition of color scheme for unfitted estimators */\n",
              "  --sklearn-color-unfitted-level-0: #fff5e6;\n",
              "  --sklearn-color-unfitted-level-1: #f6e4d2;\n",
              "  --sklearn-color-unfitted-level-2: #ffe0b3;\n",
              "  --sklearn-color-unfitted-level-3: chocolate;\n",
              "  /* Definition of color scheme for fitted estimators */\n",
              "  --sklearn-color-fitted-level-0: #f0f8ff;\n",
              "  --sklearn-color-fitted-level-1: #d4ebff;\n",
              "  --sklearn-color-fitted-level-2: #b3dbfd;\n",
              "  --sklearn-color-fitted-level-3: cornflowerblue;\n",
              "\n",
              "  /* Specific color for light theme */\n",
              "  --sklearn-color-text-on-default-background: var(--sg-text-color, var(--theme-code-foreground, var(--jp-content-font-color1, black)));\n",
              "  --sklearn-color-background: var(--sg-background-color, var(--theme-background, var(--jp-layout-color0, white)));\n",
              "  --sklearn-color-border-box: var(--sg-text-color, var(--theme-code-foreground, var(--jp-content-font-color1, black)));\n",
              "  --sklearn-color-icon: #696969;\n",
              "\n",
              "  @media (prefers-color-scheme: dark) {\n",
              "    /* Redefinition of color scheme for dark theme */\n",
              "    --sklearn-color-text-on-default-background: var(--sg-text-color, var(--theme-code-foreground, var(--jp-content-font-color1, white)));\n",
              "    --sklearn-color-background: var(--sg-background-color, var(--theme-background, var(--jp-layout-color0, #111)));\n",
              "    --sklearn-color-border-box: var(--sg-text-color, var(--theme-code-foreground, var(--jp-content-font-color1, white)));\n",
              "    --sklearn-color-icon: #878787;\n",
              "  }\n",
              "}\n",
              "\n",
              "#sk-container-id-1 {\n",
              "  color: var(--sklearn-color-text);\n",
              "}\n",
              "\n",
              "#sk-container-id-1 pre {\n",
              "  padding: 0;\n",
              "}\n",
              "\n",
              "#sk-container-id-1 input.sk-hidden--visually {\n",
              "  border: 0;\n",
              "  clip: rect(1px 1px 1px 1px);\n",
              "  clip: rect(1px, 1px, 1px, 1px);\n",
              "  height: 1px;\n",
              "  margin: -1px;\n",
              "  overflow: hidden;\n",
              "  padding: 0;\n",
              "  position: absolute;\n",
              "  width: 1px;\n",
              "}\n",
              "\n",
              "#sk-container-id-1 div.sk-dashed-wrapped {\n",
              "  border: 1px dashed var(--sklearn-color-line);\n",
              "  margin: 0 0.4em 0.5em 0.4em;\n",
              "  box-sizing: border-box;\n",
              "  padding-bottom: 0.4em;\n",
              "  background-color: var(--sklearn-color-background);\n",
              "}\n",
              "\n",
              "#sk-container-id-1 div.sk-container {\n",
              "  /* jupyter's `normalize.less` sets `[hidden] { display: none; }`\n",
              "     but bootstrap.min.css set `[hidden] { display: none !important; }`\n",
              "     so we also need the `!important` here to be able to override the\n",
              "     default hidden behavior on the sphinx rendered scikit-learn.org.\n",
              "     See: https://github.com/scikit-learn/scikit-learn/issues/21755 */\n",
              "  display: inline-block !important;\n",
              "  position: relative;\n",
              "}\n",
              "\n",
              "#sk-container-id-1 div.sk-text-repr-fallback {\n",
              "  display: none;\n",
              "}\n",
              "\n",
              "div.sk-parallel-item,\n",
              "div.sk-serial,\n",
              "div.sk-item {\n",
              "  /* draw centered vertical line to link estimators */\n",
              "  background-image: linear-gradient(var(--sklearn-color-text-on-default-background), var(--sklearn-color-text-on-default-background));\n",
              "  background-size: 2px 100%;\n",
              "  background-repeat: no-repeat;\n",
              "  background-position: center center;\n",
              "}\n",
              "\n",
              "/* Parallel-specific style estimator block */\n",
              "\n",
              "#sk-container-id-1 div.sk-parallel-item::after {\n",
              "  content: \"\";\n",
              "  width: 100%;\n",
              "  border-bottom: 2px solid var(--sklearn-color-text-on-default-background);\n",
              "  flex-grow: 1;\n",
              "}\n",
              "\n",
              "#sk-container-id-1 div.sk-parallel {\n",
              "  display: flex;\n",
              "  align-items: stretch;\n",
              "  justify-content: center;\n",
              "  background-color: var(--sklearn-color-background);\n",
              "  position: relative;\n",
              "}\n",
              "\n",
              "#sk-container-id-1 div.sk-parallel-item {\n",
              "  display: flex;\n",
              "  flex-direction: column;\n",
              "}\n",
              "\n",
              "#sk-container-id-1 div.sk-parallel-item:first-child::after {\n",
              "  align-self: flex-end;\n",
              "  width: 50%;\n",
              "}\n",
              "\n",
              "#sk-container-id-1 div.sk-parallel-item:last-child::after {\n",
              "  align-self: flex-start;\n",
              "  width: 50%;\n",
              "}\n",
              "\n",
              "#sk-container-id-1 div.sk-parallel-item:only-child::after {\n",
              "  width: 0;\n",
              "}\n",
              "\n",
              "/* Serial-specific style estimator block */\n",
              "\n",
              "#sk-container-id-1 div.sk-serial {\n",
              "  display: flex;\n",
              "  flex-direction: column;\n",
              "  align-items: center;\n",
              "  background-color: var(--sklearn-color-background);\n",
              "  padding-right: 1em;\n",
              "  padding-left: 1em;\n",
              "}\n",
              "\n",
              "\n",
              "/* Toggleable style: style used for estimator/Pipeline/ColumnTransformer box that is\n",
              "clickable and can be expanded/collapsed.\n",
              "- Pipeline and ColumnTransformer use this feature and define the default style\n",
              "- Estimators will overwrite some part of the style using the `sk-estimator` class\n",
              "*/\n",
              "\n",
              "/* Pipeline and ColumnTransformer style (default) */\n",
              "\n",
              "#sk-container-id-1 div.sk-toggleable {\n",
              "  /* Default theme specific background. It is overwritten whether we have a\n",
              "  specific estimator or a Pipeline/ColumnTransformer */\n",
              "  background-color: var(--sklearn-color-background);\n",
              "}\n",
              "\n",
              "/* Toggleable label */\n",
              "#sk-container-id-1 label.sk-toggleable__label {\n",
              "  cursor: pointer;\n",
              "  display: flex;\n",
              "  width: 100%;\n",
              "  margin-bottom: 0;\n",
              "  padding: 0.5em;\n",
              "  box-sizing: border-box;\n",
              "  text-align: center;\n",
              "  align-items: start;\n",
              "  justify-content: space-between;\n",
              "  gap: 0.5em;\n",
              "}\n",
              "\n",
              "#sk-container-id-1 label.sk-toggleable__label .caption {\n",
              "  font-size: 0.6rem;\n",
              "  font-weight: lighter;\n",
              "  color: var(--sklearn-color-text-muted);\n",
              "}\n",
              "\n",
              "#sk-container-id-1 label.sk-toggleable__label-arrow:before {\n",
              "  /* Arrow on the left of the label */\n",
              "  content: \"▸\";\n",
              "  float: left;\n",
              "  margin-right: 0.25em;\n",
              "  color: var(--sklearn-color-icon);\n",
              "}\n",
              "\n",
              "#sk-container-id-1 label.sk-toggleable__label-arrow:hover:before {\n",
              "  color: var(--sklearn-color-text);\n",
              "}\n",
              "\n",
              "/* Toggleable content - dropdown */\n",
              "\n",
              "#sk-container-id-1 div.sk-toggleable__content {\n",
              "  max-height: 0;\n",
              "  max-width: 0;\n",
              "  overflow: hidden;\n",
              "  text-align: left;\n",
              "  /* unfitted */\n",
              "  background-color: var(--sklearn-color-unfitted-level-0);\n",
              "}\n",
              "\n",
              "#sk-container-id-1 div.sk-toggleable__content.fitted {\n",
              "  /* fitted */\n",
              "  background-color: var(--sklearn-color-fitted-level-0);\n",
              "}\n",
              "\n",
              "#sk-container-id-1 div.sk-toggleable__content pre {\n",
              "  margin: 0.2em;\n",
              "  border-radius: 0.25em;\n",
              "  color: var(--sklearn-color-text);\n",
              "  /* unfitted */\n",
              "  background-color: var(--sklearn-color-unfitted-level-0);\n",
              "}\n",
              "\n",
              "#sk-container-id-1 div.sk-toggleable__content.fitted pre {\n",
              "  /* unfitted */\n",
              "  background-color: var(--sklearn-color-fitted-level-0);\n",
              "}\n",
              "\n",
              "#sk-container-id-1 input.sk-toggleable__control:checked~div.sk-toggleable__content {\n",
              "  /* Expand drop-down */\n",
              "  max-height: 200px;\n",
              "  max-width: 100%;\n",
              "  overflow: auto;\n",
              "}\n",
              "\n",
              "#sk-container-id-1 input.sk-toggleable__control:checked~label.sk-toggleable__label-arrow:before {\n",
              "  content: \"▾\";\n",
              "}\n",
              "\n",
              "/* Pipeline/ColumnTransformer-specific style */\n",
              "\n",
              "#sk-container-id-1 div.sk-label input.sk-toggleable__control:checked~label.sk-toggleable__label {\n",
              "  color: var(--sklearn-color-text);\n",
              "  background-color: var(--sklearn-color-unfitted-level-2);\n",
              "}\n",
              "\n",
              "#sk-container-id-1 div.sk-label.fitted input.sk-toggleable__control:checked~label.sk-toggleable__label {\n",
              "  background-color: var(--sklearn-color-fitted-level-2);\n",
              "}\n",
              "\n",
              "/* Estimator-specific style */\n",
              "\n",
              "/* Colorize estimator box */\n",
              "#sk-container-id-1 div.sk-estimator input.sk-toggleable__control:checked~label.sk-toggleable__label {\n",
              "  /* unfitted */\n",
              "  background-color: var(--sklearn-color-unfitted-level-2);\n",
              "}\n",
              "\n",
              "#sk-container-id-1 div.sk-estimator.fitted input.sk-toggleable__control:checked~label.sk-toggleable__label {\n",
              "  /* fitted */\n",
              "  background-color: var(--sklearn-color-fitted-level-2);\n",
              "}\n",
              "\n",
              "#sk-container-id-1 div.sk-label label.sk-toggleable__label,\n",
              "#sk-container-id-1 div.sk-label label {\n",
              "  /* The background is the default theme color */\n",
              "  color: var(--sklearn-color-text-on-default-background);\n",
              "}\n",
              "\n",
              "/* On hover, darken the color of the background */\n",
              "#sk-container-id-1 div.sk-label:hover label.sk-toggleable__label {\n",
              "  color: var(--sklearn-color-text);\n",
              "  background-color: var(--sklearn-color-unfitted-level-2);\n",
              "}\n",
              "\n",
              "/* Label box, darken color on hover, fitted */\n",
              "#sk-container-id-1 div.sk-label.fitted:hover label.sk-toggleable__label.fitted {\n",
              "  color: var(--sklearn-color-text);\n",
              "  background-color: var(--sklearn-color-fitted-level-2);\n",
              "}\n",
              "\n",
              "/* Estimator label */\n",
              "\n",
              "#sk-container-id-1 div.sk-label label {\n",
              "  font-family: monospace;\n",
              "  font-weight: bold;\n",
              "  display: inline-block;\n",
              "  line-height: 1.2em;\n",
              "}\n",
              "\n",
              "#sk-container-id-1 div.sk-label-container {\n",
              "  text-align: center;\n",
              "}\n",
              "\n",
              "/* Estimator-specific */\n",
              "#sk-container-id-1 div.sk-estimator {\n",
              "  font-family: monospace;\n",
              "  border: 1px dotted var(--sklearn-color-border-box);\n",
              "  border-radius: 0.25em;\n",
              "  box-sizing: border-box;\n",
              "  margin-bottom: 0.5em;\n",
              "  /* unfitted */\n",
              "  background-color: var(--sklearn-color-unfitted-level-0);\n",
              "}\n",
              "\n",
              "#sk-container-id-1 div.sk-estimator.fitted {\n",
              "  /* fitted */\n",
              "  background-color: var(--sklearn-color-fitted-level-0);\n",
              "}\n",
              "\n",
              "/* on hover */\n",
              "#sk-container-id-1 div.sk-estimator:hover {\n",
              "  /* unfitted */\n",
              "  background-color: var(--sklearn-color-unfitted-level-2);\n",
              "}\n",
              "\n",
              "#sk-container-id-1 div.sk-estimator.fitted:hover {\n",
              "  /* fitted */\n",
              "  background-color: var(--sklearn-color-fitted-level-2);\n",
              "}\n",
              "\n",
              "/* Specification for estimator info (e.g. \"i\" and \"?\") */\n",
              "\n",
              "/* Common style for \"i\" and \"?\" */\n",
              "\n",
              ".sk-estimator-doc-link,\n",
              "a:link.sk-estimator-doc-link,\n",
              "a:visited.sk-estimator-doc-link {\n",
              "  float: right;\n",
              "  font-size: smaller;\n",
              "  line-height: 1em;\n",
              "  font-family: monospace;\n",
              "  background-color: var(--sklearn-color-background);\n",
              "  border-radius: 1em;\n",
              "  height: 1em;\n",
              "  width: 1em;\n",
              "  text-decoration: none !important;\n",
              "  margin-left: 0.5em;\n",
              "  text-align: center;\n",
              "  /* unfitted */\n",
              "  border: var(--sklearn-color-unfitted-level-1) 1pt solid;\n",
              "  color: var(--sklearn-color-unfitted-level-1);\n",
              "}\n",
              "\n",
              ".sk-estimator-doc-link.fitted,\n",
              "a:link.sk-estimator-doc-link.fitted,\n",
              "a:visited.sk-estimator-doc-link.fitted {\n",
              "  /* fitted */\n",
              "  border: var(--sklearn-color-fitted-level-1) 1pt solid;\n",
              "  color: var(--sklearn-color-fitted-level-1);\n",
              "}\n",
              "\n",
              "/* On hover */\n",
              "div.sk-estimator:hover .sk-estimator-doc-link:hover,\n",
              ".sk-estimator-doc-link:hover,\n",
              "div.sk-label-container:hover .sk-estimator-doc-link:hover,\n",
              ".sk-estimator-doc-link:hover {\n",
              "  /* unfitted */\n",
              "  background-color: var(--sklearn-color-unfitted-level-3);\n",
              "  color: var(--sklearn-color-background);\n",
              "  text-decoration: none;\n",
              "}\n",
              "\n",
              "div.sk-estimator.fitted:hover .sk-estimator-doc-link.fitted:hover,\n",
              ".sk-estimator-doc-link.fitted:hover,\n",
              "div.sk-label-container:hover .sk-estimator-doc-link.fitted:hover,\n",
              ".sk-estimator-doc-link.fitted:hover {\n",
              "  /* fitted */\n",
              "  background-color: var(--sklearn-color-fitted-level-3);\n",
              "  color: var(--sklearn-color-background);\n",
              "  text-decoration: none;\n",
              "}\n",
              "\n",
              "/* Span, style for the box shown on hovering the info icon */\n",
              ".sk-estimator-doc-link span {\n",
              "  display: none;\n",
              "  z-index: 9999;\n",
              "  position: relative;\n",
              "  font-weight: normal;\n",
              "  right: .2ex;\n",
              "  padding: .5ex;\n",
              "  margin: .5ex;\n",
              "  width: min-content;\n",
              "  min-width: 20ex;\n",
              "  max-width: 50ex;\n",
              "  color: var(--sklearn-color-text);\n",
              "  box-shadow: 2pt 2pt 4pt #999;\n",
              "  /* unfitted */\n",
              "  background: var(--sklearn-color-unfitted-level-0);\n",
              "  border: .5pt solid var(--sklearn-color-unfitted-level-3);\n",
              "}\n",
              "\n",
              ".sk-estimator-doc-link.fitted span {\n",
              "  /* fitted */\n",
              "  background: var(--sklearn-color-fitted-level-0);\n",
              "  border: var(--sklearn-color-fitted-level-3);\n",
              "}\n",
              "\n",
              ".sk-estimator-doc-link:hover span {\n",
              "  display: block;\n",
              "}\n",
              "\n",
              "/* \"?\"-specific style due to the `<a>` HTML tag */\n",
              "\n",
              "#sk-container-id-1 a.estimator_doc_link {\n",
              "  float: right;\n",
              "  font-size: 1rem;\n",
              "  line-height: 1em;\n",
              "  font-family: monospace;\n",
              "  background-color: var(--sklearn-color-background);\n",
              "  border-radius: 1rem;\n",
              "  height: 1rem;\n",
              "  width: 1rem;\n",
              "  text-decoration: none;\n",
              "  /* unfitted */\n",
              "  color: var(--sklearn-color-unfitted-level-1);\n",
              "  border: var(--sklearn-color-unfitted-level-1) 1pt solid;\n",
              "}\n",
              "\n",
              "#sk-container-id-1 a.estimator_doc_link.fitted {\n",
              "  /* fitted */\n",
              "  border: var(--sklearn-color-fitted-level-1) 1pt solid;\n",
              "  color: var(--sklearn-color-fitted-level-1);\n",
              "}\n",
              "\n",
              "/* On hover */\n",
              "#sk-container-id-1 a.estimator_doc_link:hover {\n",
              "  /* unfitted */\n",
              "  background-color: var(--sklearn-color-unfitted-level-3);\n",
              "  color: var(--sklearn-color-background);\n",
              "  text-decoration: none;\n",
              "}\n",
              "\n",
              "#sk-container-id-1 a.estimator_doc_link.fitted:hover {\n",
              "  /* fitted */\n",
              "  background-color: var(--sklearn-color-fitted-level-3);\n",
              "}\n",
              "</style><div id=\"sk-container-id-1\" class=\"sk-top-container\"><div class=\"sk-text-repr-fallback\"><pre>GridSearchCV(cv=5,\n",
              "             estimator=VotingClassifier(estimators=[(&#x27;nb&#x27;,\n",
              "                                                     Pipeline(steps=[(&#x27;scaler&#x27;,\n",
              "                                                                      StandardScaler()),\n",
              "                                                                     (&#x27;select&#x27;,\n",
              "                                                                      SelectKBest()),\n",
              "                                                                     (&#x27;clf&#x27;,\n",
              "                                                                      GaussianNB())])),\n",
              "                                                    (&#x27;dt&#x27;,\n",
              "                                                     Pipeline(steps=[(&#x27;scaler&#x27;,\n",
              "                                                                      StandardScaler()),\n",
              "                                                                     (&#x27;select&#x27;,\n",
              "                                                                      SelectKBest(score_func=&lt;function mutual_info_classif at 0x7c7fec7f1940&gt;)),\n",
              "                                                                     (&#x27;clf&#x27;,\n",
              "                                                                      DecisionTreeClassifier(random_state=42))])),\n",
              "                                                    (&#x27;knn&#x27;,\n",
              "                                                     Pipel...\n",
              "                                                                      StandardScaler()),\n",
              "                                                                     (&#x27;select&#x27;,\n",
              "                                                                      SequentialFeatureSelector(estimator=KNeighborsClassifier(n_neighbors=7))),\n",
              "                                                                     (&#x27;clf&#x27;,\n",
              "                                                                      KNeighborsClassifier())]))],\n",
              "                                        voting=&#x27;soft&#x27;),\n",
              "             n_jobs=-1,\n",
              "             param_grid={&#x27;dt__clf__max_depth&#x27;: [3, 5, None],\n",
              "                         &#x27;dt__select__k&#x27;: [2, 5, 8],\n",
              "                         &#x27;knn__clf__n_neighbors&#x27;: [3, 5, 7],\n",
              "                         &#x27;knn__select__n_features_to_select&#x27;: [2, 3, 5],\n",
              "                         &#x27;nb__select__k&#x27;: [2, 5, 8]},\n",
              "             scoring=&#x27;accuracy&#x27;, verbose=2)</pre><b>In a Jupyter environment, please rerun this cell to show the HTML representation or trust the notebook. <br />On GitHub, the HTML representation is unable to render, please try loading this page with nbviewer.org.</b></div><div class=\"sk-container\" hidden><div class=\"sk-item sk-dashed-wrapped\"><div class=\"sk-label-container\"><div class=\"sk-label fitted sk-toggleable\"><input class=\"sk-toggleable__control sk-hidden--visually\" id=\"sk-estimator-id-1\" type=\"checkbox\" ><label for=\"sk-estimator-id-1\" class=\"sk-toggleable__label fitted sk-toggleable__label-arrow\"><div><div>GridSearchCV</div></div><div><a class=\"sk-estimator-doc-link fitted\" rel=\"noreferrer\" target=\"_blank\" href=\"https://scikit-learn.org/1.6/modules/generated/sklearn.model_selection.GridSearchCV.html\">?<span>Documentation for GridSearchCV</span></a><span class=\"sk-estimator-doc-link fitted\">i<span>Fitted</span></span></div></label><div class=\"sk-toggleable__content fitted\"><pre>GridSearchCV(cv=5,\n",
              "             estimator=VotingClassifier(estimators=[(&#x27;nb&#x27;,\n",
              "                                                     Pipeline(steps=[(&#x27;scaler&#x27;,\n",
              "                                                                      StandardScaler()),\n",
              "                                                                     (&#x27;select&#x27;,\n",
              "                                                                      SelectKBest()),\n",
              "                                                                     (&#x27;clf&#x27;,\n",
              "                                                                      GaussianNB())])),\n",
              "                                                    (&#x27;dt&#x27;,\n",
              "                                                     Pipeline(steps=[(&#x27;scaler&#x27;,\n",
              "                                                                      StandardScaler()),\n",
              "                                                                     (&#x27;select&#x27;,\n",
              "                                                                      SelectKBest(score_func=&lt;function mutual_info_classif at 0x7c7fec7f1940&gt;)),\n",
              "                                                                     (&#x27;clf&#x27;,\n",
              "                                                                      DecisionTreeClassifier(random_state=42))])),\n",
              "                                                    (&#x27;knn&#x27;,\n",
              "                                                     Pipel...\n",
              "                                                                      StandardScaler()),\n",
              "                                                                     (&#x27;select&#x27;,\n",
              "                                                                      SequentialFeatureSelector(estimator=KNeighborsClassifier(n_neighbors=7))),\n",
              "                                                                     (&#x27;clf&#x27;,\n",
              "                                                                      KNeighborsClassifier())]))],\n",
              "                                        voting=&#x27;soft&#x27;),\n",
              "             n_jobs=-1,\n",
              "             param_grid={&#x27;dt__clf__max_depth&#x27;: [3, 5, None],\n",
              "                         &#x27;dt__select__k&#x27;: [2, 5, 8],\n",
              "                         &#x27;knn__clf__n_neighbors&#x27;: [3, 5, 7],\n",
              "                         &#x27;knn__select__n_features_to_select&#x27;: [2, 3, 5],\n",
              "                         &#x27;nb__select__k&#x27;: [2, 5, 8]},\n",
              "             scoring=&#x27;accuracy&#x27;, verbose=2)</pre></div> </div></div><div class=\"sk-parallel\"><div class=\"sk-parallel-item\"><div class=\"sk-item\"><div class=\"sk-label-container\"><div class=\"sk-label fitted sk-toggleable\"><input class=\"sk-toggleable__control sk-hidden--visually\" id=\"sk-estimator-id-2\" type=\"checkbox\" ><label for=\"sk-estimator-id-2\" class=\"sk-toggleable__label fitted sk-toggleable__label-arrow\"><div><div>best_estimator_: VotingClassifier</div></div></label><div class=\"sk-toggleable__content fitted\"><pre>VotingClassifier(estimators=[(&#x27;nb&#x27;,\n",
              "                              Pipeline(steps=[(&#x27;scaler&#x27;, StandardScaler()),\n",
              "                                              (&#x27;select&#x27;, SelectKBest(k=2)),\n",
              "                                              (&#x27;clf&#x27;, GaussianNB())])),\n",
              "                             (&#x27;dt&#x27;,\n",
              "                              Pipeline(steps=[(&#x27;scaler&#x27;, StandardScaler()),\n",
              "                                              (&#x27;select&#x27;,\n",
              "                                               SelectKBest(k=2,\n",
              "                                                           score_func=&lt;function mutual_info_classif at 0x7c7fec7f1940&gt;)),\n",
              "                                              (&#x27;clf&#x27;,\n",
              "                                               DecisionTreeClassifier(max_depth=3,\n",
              "                                                                      random_state=42))])),\n",
              "                             (&#x27;knn&#x27;,\n",
              "                              Pipeline(steps=[(&#x27;scaler&#x27;, StandardScaler()),\n",
              "                                              (&#x27;select&#x27;,\n",
              "                                               SequentialFeatureSelector(estimator=KNeighborsClassifier(n_neighbors=7),\n",
              "                                                                         n_features_to_select=2)),\n",
              "                                              (&#x27;clf&#x27;,\n",
              "                                               KNeighborsClassifier(n_neighbors=3))]))],\n",
              "                 voting=&#x27;soft&#x27;)</pre></div> </div></div><div class=\"sk-serial\"><div class=\"sk-item sk-dashed-wrapped\"><div class=\"sk-parallel\"><div class=\"sk-parallel-item\"><div class=\"sk-item\"><div class=\"sk-label-container\"><div class=\"sk-label fitted sk-toggleable\"><label>nb</label></div></div><div class=\"sk-serial\"><div class=\"sk-item\"><div class=\"sk-serial\"><div class=\"sk-item\"><div class=\"sk-estimator fitted sk-toggleable\"><input class=\"sk-toggleable__control sk-hidden--visually\" id=\"sk-estimator-id-3\" type=\"checkbox\" ><label for=\"sk-estimator-id-3\" class=\"sk-toggleable__label fitted sk-toggleable__label-arrow\"><div><div>StandardScaler</div></div><div><a class=\"sk-estimator-doc-link fitted\" rel=\"noreferrer\" target=\"_blank\" href=\"https://scikit-learn.org/1.6/modules/generated/sklearn.preprocessing.StandardScaler.html\">?<span>Documentation for StandardScaler</span></a></div></label><div class=\"sk-toggleable__content fitted\"><pre>StandardScaler()</pre></div> </div></div><div class=\"sk-item\"><div class=\"sk-estimator fitted sk-toggleable\"><input class=\"sk-toggleable__control sk-hidden--visually\" id=\"sk-estimator-id-4\" type=\"checkbox\" ><label for=\"sk-estimator-id-4\" class=\"sk-toggleable__label fitted sk-toggleable__label-arrow\"><div><div>SelectKBest</div></div><div><a class=\"sk-estimator-doc-link fitted\" rel=\"noreferrer\" target=\"_blank\" href=\"https://scikit-learn.org/1.6/modules/generated/sklearn.feature_selection.SelectKBest.html\">?<span>Documentation for SelectKBest</span></a></div></label><div class=\"sk-toggleable__content fitted\"><pre>SelectKBest(k=2)</pre></div> </div></div><div class=\"sk-item\"><div class=\"sk-estimator fitted sk-toggleable\"><input class=\"sk-toggleable__control sk-hidden--visually\" id=\"sk-estimator-id-5\" type=\"checkbox\" ><label for=\"sk-estimator-id-5\" class=\"sk-toggleable__label fitted sk-toggleable__label-arrow\"><div><div>GaussianNB</div></div><div><a class=\"sk-estimator-doc-link fitted\" rel=\"noreferrer\" target=\"_blank\" href=\"https://scikit-learn.org/1.6/modules/generated/sklearn.naive_bayes.GaussianNB.html\">?<span>Documentation for GaussianNB</span></a></div></label><div class=\"sk-toggleable__content fitted\"><pre>GaussianNB()</pre></div> </div></div></div></div></div></div></div><div class=\"sk-parallel-item\"><div class=\"sk-item\"><div class=\"sk-label-container\"><div class=\"sk-label fitted sk-toggleable\"><label>dt</label></div></div><div class=\"sk-serial\"><div class=\"sk-item\"><div class=\"sk-serial\"><div class=\"sk-item\"><div class=\"sk-estimator fitted sk-toggleable\"><input class=\"sk-toggleable__control sk-hidden--visually\" id=\"sk-estimator-id-6\" type=\"checkbox\" ><label for=\"sk-estimator-id-6\" class=\"sk-toggleable__label fitted sk-toggleable__label-arrow\"><div><div>StandardScaler</div></div><div><a class=\"sk-estimator-doc-link fitted\" rel=\"noreferrer\" target=\"_blank\" href=\"https://scikit-learn.org/1.6/modules/generated/sklearn.preprocessing.StandardScaler.html\">?<span>Documentation for StandardScaler</span></a></div></label><div class=\"sk-toggleable__content fitted\"><pre>StandardScaler()</pre></div> </div></div><div class=\"sk-item\"><div class=\"sk-estimator fitted sk-toggleable\"><input class=\"sk-toggleable__control sk-hidden--visually\" id=\"sk-estimator-id-7\" type=\"checkbox\" ><label for=\"sk-estimator-id-7\" class=\"sk-toggleable__label fitted sk-toggleable__label-arrow\"><div><div>SelectKBest</div></div><div><a class=\"sk-estimator-doc-link fitted\" rel=\"noreferrer\" target=\"_blank\" href=\"https://scikit-learn.org/1.6/modules/generated/sklearn.feature_selection.SelectKBest.html\">?<span>Documentation for SelectKBest</span></a></div></label><div class=\"sk-toggleable__content fitted\"><pre>SelectKBest(k=2, score_func=&lt;function mutual_info_classif at 0x7c7fec7f1940&gt;)</pre></div> </div></div><div class=\"sk-item\"><div class=\"sk-estimator fitted sk-toggleable\"><input class=\"sk-toggleable__control sk-hidden--visually\" id=\"sk-estimator-id-8\" type=\"checkbox\" ><label for=\"sk-estimator-id-8\" class=\"sk-toggleable__label fitted sk-toggleable__label-arrow\"><div><div>DecisionTreeClassifier</div></div><div><a class=\"sk-estimator-doc-link fitted\" rel=\"noreferrer\" target=\"_blank\" href=\"https://scikit-learn.org/1.6/modules/generated/sklearn.tree.DecisionTreeClassifier.html\">?<span>Documentation for DecisionTreeClassifier</span></a></div></label><div class=\"sk-toggleable__content fitted\"><pre>DecisionTreeClassifier(max_depth=3, random_state=42)</pre></div> </div></div></div></div></div></div></div><div class=\"sk-parallel-item\"><div class=\"sk-item\"><div class=\"sk-label-container\"><div class=\"sk-label fitted sk-toggleable\"><label>knn</label></div></div><div class=\"sk-serial\"><div class=\"sk-item\"><div class=\"sk-serial\"><div class=\"sk-item\"><div class=\"sk-estimator fitted sk-toggleable\"><input class=\"sk-toggleable__control sk-hidden--visually\" id=\"sk-estimator-id-9\" type=\"checkbox\" ><label for=\"sk-estimator-id-9\" class=\"sk-toggleable__label fitted sk-toggleable__label-arrow\"><div><div>StandardScaler</div></div><div><a class=\"sk-estimator-doc-link fitted\" rel=\"noreferrer\" target=\"_blank\" href=\"https://scikit-learn.org/1.6/modules/generated/sklearn.preprocessing.StandardScaler.html\">?<span>Documentation for StandardScaler</span></a></div></label><div class=\"sk-toggleable__content fitted\"><pre>StandardScaler()</pre></div> </div></div><div class=\"sk-item sk-dashed-wrapped\"><div class=\"sk-label-container\"><div class=\"sk-label fitted sk-toggleable\"><input class=\"sk-toggleable__control sk-hidden--visually\" id=\"sk-estimator-id-10\" type=\"checkbox\" ><label for=\"sk-estimator-id-10\" class=\"sk-toggleable__label fitted sk-toggleable__label-arrow\"><div><div>select: SequentialFeatureSelector</div></div><div><a class=\"sk-estimator-doc-link fitted\" rel=\"noreferrer\" target=\"_blank\" href=\"https://scikit-learn.org/1.6/modules/generated/sklearn.feature_selection.SequentialFeatureSelector.html\">?<span>Documentation for select: SequentialFeatureSelector</span></a></div></label><div class=\"sk-toggleable__content fitted\"><pre>SequentialFeatureSelector(estimator=KNeighborsClassifier(n_neighbors=7),\n",
              "                          n_features_to_select=2)</pre></div> </div></div><div class=\"sk-parallel\"><div class=\"sk-parallel-item\"><div class=\"sk-item\"><div class=\"sk-label-container\"><div class=\"sk-label fitted sk-toggleable\"><input class=\"sk-toggleable__control sk-hidden--visually\" id=\"sk-estimator-id-11\" type=\"checkbox\" ><label for=\"sk-estimator-id-11\" class=\"sk-toggleable__label fitted sk-toggleable__label-arrow\"><div><div>estimator: KNeighborsClassifier</div></div></label><div class=\"sk-toggleable__content fitted\"><pre>KNeighborsClassifier(n_neighbors=7)</pre></div> </div></div><div class=\"sk-serial\"><div class=\"sk-item\"><div class=\"sk-estimator fitted sk-toggleable\"><input class=\"sk-toggleable__control sk-hidden--visually\" id=\"sk-estimator-id-12\" type=\"checkbox\" ><label for=\"sk-estimator-id-12\" class=\"sk-toggleable__label fitted sk-toggleable__label-arrow\"><div><div>KNeighborsClassifier</div></div><div><a class=\"sk-estimator-doc-link fitted\" rel=\"noreferrer\" target=\"_blank\" href=\"https://scikit-learn.org/1.6/modules/generated/sklearn.neighbors.KNeighborsClassifier.html\">?<span>Documentation for KNeighborsClassifier</span></a></div></label><div class=\"sk-toggleable__content fitted\"><pre>KNeighborsClassifier(n_neighbors=7)</pre></div> </div></div></div></div></div></div></div><div class=\"sk-item\"><div class=\"sk-estimator fitted sk-toggleable\"><input class=\"sk-toggleable__control sk-hidden--visually\" id=\"sk-estimator-id-13\" type=\"checkbox\" ><label for=\"sk-estimator-id-13\" class=\"sk-toggleable__label fitted sk-toggleable__label-arrow\"><div><div>KNeighborsClassifier</div></div><div><a class=\"sk-estimator-doc-link fitted\" rel=\"noreferrer\" target=\"_blank\" href=\"https://scikit-learn.org/1.6/modules/generated/sklearn.neighbors.KNeighborsClassifier.html\">?<span>Documentation for KNeighborsClassifier</span></a></div></label><div class=\"sk-toggleable__content fitted\"><pre>KNeighborsClassifier(n_neighbors=3)</pre></div> </div></div></div></div></div></div></div></div></div></div></div></div></div></div></div></div>"
            ],
            "text/plain": [
              "GridSearchCV(cv=5,\n",
              "             estimator=VotingClassifier(estimators=[('nb',\n",
              "                                                     Pipeline(steps=[('scaler',\n",
              "                                                                      StandardScaler()),\n",
              "                                                                     ('select',\n",
              "                                                                      SelectKBest()),\n",
              "                                                                     ('clf',\n",
              "                                                                      GaussianNB())])),\n",
              "                                                    ('dt',\n",
              "                                                     Pipeline(steps=[('scaler',\n",
              "                                                                      StandardScaler()),\n",
              "                                                                     ('select',\n",
              "                                                                      SelectKBest(score_func=<function mutual_info_classif at 0x7c7fec7f1940>)),\n",
              "                                                                     ('clf',\n",
              "                                                                      DecisionTreeClassifier(random_state=42))])),\n",
              "                                                    ('knn',\n",
              "                                                     Pipel...\n",
              "                                                                      StandardScaler()),\n",
              "                                                                     ('select',\n",
              "                                                                      SequentialFeatureSelector(estimator=KNeighborsClassifier(n_neighbors=7))),\n",
              "                                                                     ('clf',\n",
              "                                                                      KNeighborsClassifier())]))],\n",
              "                                        voting='soft'),\n",
              "             n_jobs=-1,\n",
              "             param_grid={'dt__clf__max_depth': [3, 5, None],\n",
              "                         'dt__select__k': [2, 5, 8],\n",
              "                         'knn__clf__n_neighbors': [3, 5, 7],\n",
              "                         'knn__select__n_features_to_select': [2, 3, 5],\n",
              "                         'nb__select__k': [2, 5, 8]},\n",
              "             scoring='accuracy', verbose=2)"
            ]
          },
          "execution_count": 27,
          "metadata": {},
          "output_type": "execute_result"
        }
      ]
    }
  ]
}